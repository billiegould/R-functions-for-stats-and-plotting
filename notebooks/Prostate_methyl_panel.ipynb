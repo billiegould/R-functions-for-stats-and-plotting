{
 "cells": [
  {
   "cell_type": "markdown",
   "id": "7d39dbd5",
   "metadata": {},
   "source": [
    "## Prostate methylation panel - 5/2022"
   ]
  },
  {
   "cell_type": "code",
   "execution_count": 17,
   "id": "7ce53b5e",
   "metadata": {},
   "outputs": [],
   "source": [
    "library(tidyverse)\n",
    "library(stringr)\n",
    "library(openxlsx)"
   ]
  },
  {
   "cell_type": "markdown",
   "id": "2cba478a",
   "metadata": {},
   "source": [
    "# make a file that can be used to annotate literature regions"
   ]
  },
  {
   "cell_type": "code",
   "execution_count": 46,
   "id": "8010437f",
   "metadata": {},
   "outputs": [],
   "source": [
    "# HG38\n",
    "# gencode gene annotations: https://www.gencodegenes.org/human/\n",
    "# load gene exon annotations\n",
    "\n",
    "# df_gencode = read.csv(file=\"../Translational_Science/gencode.v40.annotation.tsv\", sep=\"\\t\", header=FALSE) #HG38 file\n",
    "# colnames(df_gencode) = c(\"chr\",\"database\",\"type\",\"start\",\"end\",\"dot1\",\"strand\",\"dot2\",\"annotation\")\n",
    "# head(df_gencode, 10)"
   ]
  },
  {
   "cell_type": "code",
   "execution_count": 24,
   "id": "96d543ad",
   "metadata": {},
   "outputs": [
    {
     "data": {
      "text/html": [
       "<table class=\"dataframe\">\n",
       "<caption>A data.frame: 6 × 9</caption>\n",
       "<thead>\n",
       "\t<tr><th></th><th scope=col>chr</th><th scope=col>database</th><th scope=col>type</th><th scope=col>start</th><th scope=col>end</th><th scope=col>dot1</th><th scope=col>strand</th><th scope=col>dot2</th><th scope=col>annotation</th></tr>\n",
       "\t<tr><th></th><th scope=col>&lt;chr&gt;</th><th scope=col>&lt;chr&gt;</th><th scope=col>&lt;chr&gt;</th><th scope=col>&lt;int&gt;</th><th scope=col>&lt;int&gt;</th><th scope=col>&lt;chr&gt;</th><th scope=col>&lt;chr&gt;</th><th scope=col>&lt;chr&gt;</th><th scope=col>&lt;chr&gt;</th></tr>\n",
       "</thead>\n",
       "<tbody>\n",
       "\t<tr><th scope=row>1</th><td>chr1</td><td>HAVANA</td><td>gene      </td><td>11869</td><td>14409</td><td>.</td><td>+</td><td>.</td><td>ID=ENSG00000223972.5;gene_id=ENSG00000223972.5_5;gene_type=transcribed_unprocessed_pseudogene;gene_name=DDX11L1;level=2;hgnc_id=HGNC:37102;havana_gene=OTTHUMG00000000961.2_5;remap_status=full_contig;remap_num_mappings=1;remap_target_status=overlap                                                                                                                                                                                                                                                                       </td></tr>\n",
       "\t<tr><th scope=row>2</th><td>chr1</td><td>HAVANA</td><td>transcript</td><td>11869</td><td>14409</td><td>.</td><td>+</td><td>.</td><td>ID=ENST00000456328.2;Parent=ENSG00000223972.5;gene_id=ENSG00000223972.5_5;transcript_id=ENST00000456328.2_1;gene_type=transcribed_unprocessed_pseudogene;gene_name=DDX11L1;transcript_type=processed_transcript;transcript_name=DDX11L1-202;level=2;transcript_support_level=1;hgnc_id=HGNC:37102;tag=basic;havana_gene=OTTHUMG00000000961.2_5;havana_transcript=OTTHUMT00000362751.1_1;remap_num_mappings=1;remap_status=full_contig;remap_target_status=overlap                                                             </td></tr>\n",
       "\t<tr><th scope=row>3</th><td>chr1</td><td>HAVANA</td><td>exon      </td><td>11869</td><td>12227</td><td>.</td><td>+</td><td>.</td><td>ID=exon:ENST00000456328.2:1;Parent=ENST00000456328.2;gene_id=ENSG00000223972.5_5;transcript_id=ENST00000456328.2_1;gene_type=transcribed_unprocessed_pseudogene;gene_name=DDX11L1;transcript_type=processed_transcript;transcript_name=DDX11L1-202;exon_number=1;exon_id=ENSE00002234944.1_1;level=2;transcript_support_level=1;hgnc_id=HGNC:37102;tag=basic;havana_gene=OTTHUMG00000000961.2_5;havana_transcript=OTTHUMT00000362751.1_1;remap_original_location=chr1:+:11869-12227;remap_status=full_contig                  </td></tr>\n",
       "\t<tr><th scope=row>4</th><td>chr1</td><td>HAVANA</td><td>exon      </td><td>12613</td><td>12721</td><td>.</td><td>+</td><td>.</td><td>ID=exon:ENST00000456328.2:2;Parent=ENST00000456328.2;gene_id=ENSG00000223972.5_5;transcript_id=ENST00000456328.2_1;gene_type=transcribed_unprocessed_pseudogene;gene_name=DDX11L1;transcript_type=processed_transcript;transcript_name=DDX11L1-202;exon_number=2;exon_id=ENSE00003582793.1_1;level=2;transcript_support_level=1;hgnc_id=HGNC:37102;tag=basic;havana_gene=OTTHUMG00000000961.2_5;havana_transcript=OTTHUMT00000362751.1_1;remap_original_location=chr1:+:12613-12721;remap_status=full_contig                  </td></tr>\n",
       "\t<tr><th scope=row>5</th><td>chr1</td><td>HAVANA</td><td>exon      </td><td>13221</td><td>14409</td><td>.</td><td>+</td><td>.</td><td>ID=exon:ENST00000456328.2:3;Parent=ENST00000456328.2;gene_id=ENSG00000223972.5_5;transcript_id=ENST00000456328.2_1;gene_type=transcribed_unprocessed_pseudogene;gene_name=DDX11L1;transcript_type=processed_transcript;transcript_name=DDX11L1-202;exon_number=3;exon_id=ENSE00002312635.1_1;level=2;transcript_support_level=1;hgnc_id=HGNC:37102;tag=basic;havana_gene=OTTHUMG00000000961.2_5;havana_transcript=OTTHUMT00000362751.1_1;remap_original_location=chr1:+:13221-14409;remap_status=full_contig                  </td></tr>\n",
       "\t<tr><th scope=row>6</th><td>chr1</td><td>HAVANA</td><td>transcript</td><td>12010</td><td>13670</td><td>.</td><td>+</td><td>.</td><td>ID=ENST00000450305.2;Parent=ENSG00000223972.5;gene_id=ENSG00000223972.5_5;transcript_id=ENST00000450305.2_2;gene_type=transcribed_unprocessed_pseudogene;gene_name=DDX11L1;transcript_type=transcribed_unprocessed_pseudogene;transcript_name=DDX11L1-201;level=2;transcript_support_level=NA;hgnc_id=HGNC:37102;ont=PGO:0000005,PGO:0000019;tag=basic,Ensembl_canonical;havana_gene=OTTHUMG00000000961.2_5;havana_transcript=OTTHUMT00000002844.2_2;remap_num_mappings=1;remap_status=full_contig;remap_target_status=overlap</td></tr>\n",
       "</tbody>\n",
       "</table>\n"
      ],
      "text/latex": [
       "A data.frame: 6 × 9\n",
       "\\begin{tabular}{r|lllllllll}\n",
       "  & chr & database & type & start & end & dot1 & strand & dot2 & annotation\\\\\n",
       "  & <chr> & <chr> & <chr> & <int> & <int> & <chr> & <chr> & <chr> & <chr>\\\\\n",
       "\\hline\n",
       "\t1 & chr1 & HAVANA & gene       & 11869 & 14409 & . & + & . & ID=ENSG00000223972.5;gene\\_id=ENSG00000223972.5\\_5;gene\\_type=transcribed\\_unprocessed\\_pseudogene;gene\\_name=DDX11L1;level=2;hgnc\\_id=HGNC:37102;havana\\_gene=OTTHUMG00000000961.2\\_5;remap\\_status=full\\_contig;remap\\_num\\_mappings=1;remap\\_target\\_status=overlap                                                                                                                                                                                                                                                                       \\\\\n",
       "\t2 & chr1 & HAVANA & transcript & 11869 & 14409 & . & + & . & ID=ENST00000456328.2;Parent=ENSG00000223972.5;gene\\_id=ENSG00000223972.5\\_5;transcript\\_id=ENST00000456328.2\\_1;gene\\_type=transcribed\\_unprocessed\\_pseudogene;gene\\_name=DDX11L1;transcript\\_type=processed\\_transcript;transcript\\_name=DDX11L1-202;level=2;transcript\\_support\\_level=1;hgnc\\_id=HGNC:37102;tag=basic;havana\\_gene=OTTHUMG00000000961.2\\_5;havana\\_transcript=OTTHUMT00000362751.1\\_1;remap\\_num\\_mappings=1;remap\\_status=full\\_contig;remap\\_target\\_status=overlap                                                             \\\\\n",
       "\t3 & chr1 & HAVANA & exon       & 11869 & 12227 & . & + & . & ID=exon:ENST00000456328.2:1;Parent=ENST00000456328.2;gene\\_id=ENSG00000223972.5\\_5;transcript\\_id=ENST00000456328.2\\_1;gene\\_type=transcribed\\_unprocessed\\_pseudogene;gene\\_name=DDX11L1;transcript\\_type=processed\\_transcript;transcript\\_name=DDX11L1-202;exon\\_number=1;exon\\_id=ENSE00002234944.1\\_1;level=2;transcript\\_support\\_level=1;hgnc\\_id=HGNC:37102;tag=basic;havana\\_gene=OTTHUMG00000000961.2\\_5;havana\\_transcript=OTTHUMT00000362751.1\\_1;remap\\_original\\_location=chr1:+:11869-12227;remap\\_status=full\\_contig                  \\\\\n",
       "\t4 & chr1 & HAVANA & exon       & 12613 & 12721 & . & + & . & ID=exon:ENST00000456328.2:2;Parent=ENST00000456328.2;gene\\_id=ENSG00000223972.5\\_5;transcript\\_id=ENST00000456328.2\\_1;gene\\_type=transcribed\\_unprocessed\\_pseudogene;gene\\_name=DDX11L1;transcript\\_type=processed\\_transcript;transcript\\_name=DDX11L1-202;exon\\_number=2;exon\\_id=ENSE00003582793.1\\_1;level=2;transcript\\_support\\_level=1;hgnc\\_id=HGNC:37102;tag=basic;havana\\_gene=OTTHUMG00000000961.2\\_5;havana\\_transcript=OTTHUMT00000362751.1\\_1;remap\\_original\\_location=chr1:+:12613-12721;remap\\_status=full\\_contig                  \\\\\n",
       "\t5 & chr1 & HAVANA & exon       & 13221 & 14409 & . & + & . & ID=exon:ENST00000456328.2:3;Parent=ENST00000456328.2;gene\\_id=ENSG00000223972.5\\_5;transcript\\_id=ENST00000456328.2\\_1;gene\\_type=transcribed\\_unprocessed\\_pseudogene;gene\\_name=DDX11L1;transcript\\_type=processed\\_transcript;transcript\\_name=DDX11L1-202;exon\\_number=3;exon\\_id=ENSE00002312635.1\\_1;level=2;transcript\\_support\\_level=1;hgnc\\_id=HGNC:37102;tag=basic;havana\\_gene=OTTHUMG00000000961.2\\_5;havana\\_transcript=OTTHUMT00000362751.1\\_1;remap\\_original\\_location=chr1:+:13221-14409;remap\\_status=full\\_contig                  \\\\\n",
       "\t6 & chr1 & HAVANA & transcript & 12010 & 13670 & . & + & . & ID=ENST00000450305.2;Parent=ENSG00000223972.5;gene\\_id=ENSG00000223972.5\\_5;transcript\\_id=ENST00000450305.2\\_2;gene\\_type=transcribed\\_unprocessed\\_pseudogene;gene\\_name=DDX11L1;transcript\\_type=transcribed\\_unprocessed\\_pseudogene;transcript\\_name=DDX11L1-201;level=2;transcript\\_support\\_level=NA;hgnc\\_id=HGNC:37102;ont=PGO:0000005,PGO:0000019;tag=basic,Ensembl\\_canonical;havana\\_gene=OTTHUMG00000000961.2\\_5;havana\\_transcript=OTTHUMT00000002844.2\\_2;remap\\_num\\_mappings=1;remap\\_status=full\\_contig;remap\\_target\\_status=overlap\\\\\n",
       "\\end{tabular}\n"
      ],
      "text/markdown": [
       "\n",
       "A data.frame: 6 × 9\n",
       "\n",
       "| <!--/--> | chr &lt;chr&gt; | database &lt;chr&gt; | type &lt;chr&gt; | start &lt;int&gt; | end &lt;int&gt; | dot1 &lt;chr&gt; | strand &lt;chr&gt; | dot2 &lt;chr&gt; | annotation &lt;chr&gt; |\n",
       "|---|---|---|---|---|---|---|---|---|---|\n",
       "| 1 | chr1 | HAVANA | gene       | 11869 | 14409 | . | + | . | ID=ENSG00000223972.5;gene_id=ENSG00000223972.5_5;gene_type=transcribed_unprocessed_pseudogene;gene_name=DDX11L1;level=2;hgnc_id=HGNC:37102;havana_gene=OTTHUMG00000000961.2_5;remap_status=full_contig;remap_num_mappings=1;remap_target_status=overlap                                                                                                                                                                                                                                                                        |\n",
       "| 2 | chr1 | HAVANA | transcript | 11869 | 14409 | . | + | . | ID=ENST00000456328.2;Parent=ENSG00000223972.5;gene_id=ENSG00000223972.5_5;transcript_id=ENST00000456328.2_1;gene_type=transcribed_unprocessed_pseudogene;gene_name=DDX11L1;transcript_type=processed_transcript;transcript_name=DDX11L1-202;level=2;transcript_support_level=1;hgnc_id=HGNC:37102;tag=basic;havana_gene=OTTHUMG00000000961.2_5;havana_transcript=OTTHUMT00000362751.1_1;remap_num_mappings=1;remap_status=full_contig;remap_target_status=overlap                                                              |\n",
       "| 3 | chr1 | HAVANA | exon       | 11869 | 12227 | . | + | . | ID=exon:ENST00000456328.2:1;Parent=ENST00000456328.2;gene_id=ENSG00000223972.5_5;transcript_id=ENST00000456328.2_1;gene_type=transcribed_unprocessed_pseudogene;gene_name=DDX11L1;transcript_type=processed_transcript;transcript_name=DDX11L1-202;exon_number=1;exon_id=ENSE00002234944.1_1;level=2;transcript_support_level=1;hgnc_id=HGNC:37102;tag=basic;havana_gene=OTTHUMG00000000961.2_5;havana_transcript=OTTHUMT00000362751.1_1;remap_original_location=chr1:+:11869-12227;remap_status=full_contig                   |\n",
       "| 4 | chr1 | HAVANA | exon       | 12613 | 12721 | . | + | . | ID=exon:ENST00000456328.2:2;Parent=ENST00000456328.2;gene_id=ENSG00000223972.5_5;transcript_id=ENST00000456328.2_1;gene_type=transcribed_unprocessed_pseudogene;gene_name=DDX11L1;transcript_type=processed_transcript;transcript_name=DDX11L1-202;exon_number=2;exon_id=ENSE00003582793.1_1;level=2;transcript_support_level=1;hgnc_id=HGNC:37102;tag=basic;havana_gene=OTTHUMG00000000961.2_5;havana_transcript=OTTHUMT00000362751.1_1;remap_original_location=chr1:+:12613-12721;remap_status=full_contig                   |\n",
       "| 5 | chr1 | HAVANA | exon       | 13221 | 14409 | . | + | . | ID=exon:ENST00000456328.2:3;Parent=ENST00000456328.2;gene_id=ENSG00000223972.5_5;transcript_id=ENST00000456328.2_1;gene_type=transcribed_unprocessed_pseudogene;gene_name=DDX11L1;transcript_type=processed_transcript;transcript_name=DDX11L1-202;exon_number=3;exon_id=ENSE00002312635.1_1;level=2;transcript_support_level=1;hgnc_id=HGNC:37102;tag=basic;havana_gene=OTTHUMG00000000961.2_5;havana_transcript=OTTHUMT00000362751.1_1;remap_original_location=chr1:+:13221-14409;remap_status=full_contig                   |\n",
       "| 6 | chr1 | HAVANA | transcript | 12010 | 13670 | . | + | . | ID=ENST00000450305.2;Parent=ENSG00000223972.5;gene_id=ENSG00000223972.5_5;transcript_id=ENST00000450305.2_2;gene_type=transcribed_unprocessed_pseudogene;gene_name=DDX11L1;transcript_type=transcribed_unprocessed_pseudogene;transcript_name=DDX11L1-201;level=2;transcript_support_level=NA;hgnc_id=HGNC:37102;ont=PGO:0000005,PGO:0000019;tag=basic,Ensembl_canonical;havana_gene=OTTHUMG00000000961.2_5;havana_transcript=OTTHUMT00000002844.2_2;remap_num_mappings=1;remap_status=full_contig;remap_target_status=overlap |\n",
       "\n"
      ],
      "text/plain": [
       "  chr  database type       start end   dot1 strand dot2\n",
       "1 chr1 HAVANA   gene       11869 14409 .    +      .   \n",
       "2 chr1 HAVANA   transcript 11869 14409 .    +      .   \n",
       "3 chr1 HAVANA   exon       11869 12227 .    +      .   \n",
       "4 chr1 HAVANA   exon       12613 12721 .    +      .   \n",
       "5 chr1 HAVANA   exon       13221 14409 .    +      .   \n",
       "6 chr1 HAVANA   transcript 12010 13670 .    +      .   \n",
       "  annotation                                                                                                                                                                                                                                                                                                                                                                                                                                                                                                                    \n",
       "1 ID=ENSG00000223972.5;gene_id=ENSG00000223972.5_5;gene_type=transcribed_unprocessed_pseudogene;gene_name=DDX11L1;level=2;hgnc_id=HGNC:37102;havana_gene=OTTHUMG00000000961.2_5;remap_status=full_contig;remap_num_mappings=1;remap_target_status=overlap                                                                                                                                                                                                                                                                       \n",
       "2 ID=ENST00000456328.2;Parent=ENSG00000223972.5;gene_id=ENSG00000223972.5_5;transcript_id=ENST00000456328.2_1;gene_type=transcribed_unprocessed_pseudogene;gene_name=DDX11L1;transcript_type=processed_transcript;transcript_name=DDX11L1-202;level=2;transcript_support_level=1;hgnc_id=HGNC:37102;tag=basic;havana_gene=OTTHUMG00000000961.2_5;havana_transcript=OTTHUMT00000362751.1_1;remap_num_mappings=1;remap_status=full_contig;remap_target_status=overlap                                                             \n",
       "3 ID=exon:ENST00000456328.2:1;Parent=ENST00000456328.2;gene_id=ENSG00000223972.5_5;transcript_id=ENST00000456328.2_1;gene_type=transcribed_unprocessed_pseudogene;gene_name=DDX11L1;transcript_type=processed_transcript;transcript_name=DDX11L1-202;exon_number=1;exon_id=ENSE00002234944.1_1;level=2;transcript_support_level=1;hgnc_id=HGNC:37102;tag=basic;havana_gene=OTTHUMG00000000961.2_5;havana_transcript=OTTHUMT00000362751.1_1;remap_original_location=chr1:+:11869-12227;remap_status=full_contig                  \n",
       "4 ID=exon:ENST00000456328.2:2;Parent=ENST00000456328.2;gene_id=ENSG00000223972.5_5;transcript_id=ENST00000456328.2_1;gene_type=transcribed_unprocessed_pseudogene;gene_name=DDX11L1;transcript_type=processed_transcript;transcript_name=DDX11L1-202;exon_number=2;exon_id=ENSE00003582793.1_1;level=2;transcript_support_level=1;hgnc_id=HGNC:37102;tag=basic;havana_gene=OTTHUMG00000000961.2_5;havana_transcript=OTTHUMT00000362751.1_1;remap_original_location=chr1:+:12613-12721;remap_status=full_contig                  \n",
       "5 ID=exon:ENST00000456328.2:3;Parent=ENST00000456328.2;gene_id=ENSG00000223972.5_5;transcript_id=ENST00000456328.2_1;gene_type=transcribed_unprocessed_pseudogene;gene_name=DDX11L1;transcript_type=processed_transcript;transcript_name=DDX11L1-202;exon_number=3;exon_id=ENSE00002312635.1_1;level=2;transcript_support_level=1;hgnc_id=HGNC:37102;tag=basic;havana_gene=OTTHUMG00000000961.2_5;havana_transcript=OTTHUMT00000362751.1_1;remap_original_location=chr1:+:13221-14409;remap_status=full_contig                  \n",
       "6 ID=ENST00000450305.2;Parent=ENSG00000223972.5;gene_id=ENSG00000223972.5_5;transcript_id=ENST00000450305.2_2;gene_type=transcribed_unprocessed_pseudogene;gene_name=DDX11L1;transcript_type=transcribed_unprocessed_pseudogene;transcript_name=DDX11L1-201;level=2;transcript_support_level=NA;hgnc_id=HGNC:37102;ont=PGO:0000005,PGO:0000019;tag=basic,Ensembl_canonical;havana_gene=OTTHUMG00000000961.2_5;havana_transcript=OTTHUMT00000002844.2_2;remap_num_mappings=1;remap_status=full_contig;remap_target_status=overlap"
      ]
     },
     "metadata": {},
     "output_type": "display_data"
    }
   ],
   "source": [
    "# hg19/GR37 gencode file\n",
    "df_gencode_hg19 = read.table(file=\"../Translational_Science/gencode.v40lift37.annotation_hg19..gff3\", sep=\"\\t\", header=FALSE)\n",
    "colnames(df_gencode_hg19) = c(\"chr\",\"database\",\"type\",\"start\",\"end\",\"dot1\",\"strand\",\"dot2\",\"annotation\")\n",
    "head(df_gencode_hg19)"
   ]
  },
  {
   "cell_type": "code",
   "execution_count": 218,
   "id": "0a872e98",
   "metadata": {},
   "outputs": [
    {
     "data": {
      "text/html": [
       "<table class=\"dataframe\">\n",
       "<caption>A data.frame: 6 × 11</caption>\n",
       "<thead>\n",
       "\t<tr><th></th><th scope=col>chr</th><th scope=col>database</th><th scope=col>type</th><th scope=col>start</th><th scope=col>end</th><th scope=col>dot1</th><th scope=col>strand</th><th scope=col>dot2</th><th scope=col>annotation</th><th scope=col>tmp</th><th scope=col>gene_name</th></tr>\n",
       "\t<tr><th></th><th scope=col>&lt;chr&gt;</th><th scope=col>&lt;chr&gt;</th><th scope=col>&lt;chr&gt;</th><th scope=col>&lt;int&gt;</th><th scope=col>&lt;int&gt;</th><th scope=col>&lt;chr&gt;</th><th scope=col>&lt;chr&gt;</th><th scope=col>&lt;chr&gt;</th><th scope=col>&lt;chr&gt;</th><th scope=col>&lt;chr&gt;</th><th scope=col>&lt;chr&gt;</th></tr>\n",
       "</thead>\n",
       "<tbody>\n",
       "\t<tr><th scope=row>1</th><td>1</td><td>HAVANA</td><td>gene</td><td>11869</td><td>14409</td><td>.</td><td>+</td><td>.</td><td>ID=ENSG00000223972.5;gene_id=ENSG00000223972.5_5;gene_type=transcribed_unprocessed_pseudogene;gene_name=DDX11L1;level=2;hgnc_id=HGNC:37102;havana_gene=OTTHUMG00000000961.2_5;remap_status=full_contig;remap_num_mappings=1;remap_target_status=overlap</td><td>DDX11L1;level=2;hgnc_id=HGNC:37102;havana_gene=OTTHUMG00000000961.2_5;remap_status=full_contig;remap_num_mappings=1;remap_target_status=overlap                    </td><td>DDX11L1    </td></tr>\n",
       "\t<tr><th scope=row>13</th><td>1</td><td>HAVANA</td><td>gene</td><td>14404</td><td>29570</td><td>.</td><td>-</td><td>.</td><td>ID=ENSG00000227232.5;gene_id=ENSG00000227232.5_5;gene_type=unprocessed_pseudogene;gene_name=WASH7P;level=2;hgnc_id=HGNC:38034;havana_gene=OTTHUMG00000000958.1_5;remap_status=full_contig;remap_num_mappings=1;remap_target_status=overlap             </td><td>WASH7P;level=2;hgnc_id=HGNC:38034;havana_gene=OTTHUMG00000000958.1_5;remap_status=full_contig;remap_num_mappings=1;remap_target_status=overlap                     </td><td>WASH7P     </td></tr>\n",
       "\t<tr><th scope=row>26</th><td>1</td><td>HAVANA</td><td>gene</td><td>29554</td><td>31109</td><td>.</td><td>+</td><td>.</td><td>ID=ENSG00000243485.5;gene_id=ENSG00000243485.5_11;gene_type=lncRNA;gene_name=MIR1302-2HG;level=2;hgnc_id=HGNC:52482;tag=ncRNA_host;havana_gene=OTTHUMG00000000959.2_11;remap_status=full_contig;remap_num_mappings=1;remap_target_status=overlap       </td><td>MIR1302-2HG;level=2;hgnc_id=HGNC:52482;tag=ncRNA_host;havana_gene=OTTHUMG00000000959.2_11;remap_status=full_contig;remap_num_mappings=1;remap_target_status=overlap</td><td>MIR1302-2HG</td></tr>\n",
       "\t<tr><th scope=row>34</th><td>1</td><td>HAVANA</td><td>gene</td><td>34554</td><td>36081</td><td>.</td><td>-</td><td>.</td><td>ID=ENSG00000237613.2;gene_id=ENSG00000237613.2_6;gene_type=lncRNA;gene_name=FAM138A;level=2;hgnc_id=HGNC:32334;havana_gene=OTTHUMG00000000960.1_6;remap_status=full_contig;remap_num_mappings=1;remap_target_status=overlap                            </td><td>FAM138A;level=2;hgnc_id=HGNC:32334;havana_gene=OTTHUMG00000000960.1_6;remap_status=full_contig;remap_num_mappings=1;remap_target_status=overlap                    </td><td>FAM138A    </td></tr>\n",
       "\t<tr><th scope=row>42</th><td>1</td><td>HAVANA</td><td>gene</td><td>52473</td><td>53312</td><td>.</td><td>+</td><td>.</td><td>ID=ENSG00000268020.3;gene_id=ENSG00000268020.3_5;gene_type=unprocessed_pseudogene;gene_name=OR4G4P;level=2;hgnc_id=HGNC:14822;havana_gene=OTTHUMG00000185779.1_5;remap_status=full_contig;remap_num_mappings=1;remap_target_status=overlap             </td><td>OR4G4P;level=2;hgnc_id=HGNC:14822;havana_gene=OTTHUMG00000185779.1_5;remap_status=full_contig;remap_num_mappings=1;remap_target_status=overlap                     </td><td>OR4G4P     </td></tr>\n",
       "\t<tr><th scope=row>45</th><td>1</td><td>HAVANA</td><td>gene</td><td>57598</td><td>64116</td><td>.</td><td>+</td><td>.</td><td>ID=ENSG00000240361.2;gene_id=ENSG00000240361.2_6;gene_type=transcribed_unprocessed_pseudogene;gene_name=OR4G11P;level=2;hgnc_id=HGNC:31276;havana_gene=OTTHUMG00000001095.3_6;remap_status=full_contig;remap_num_mappings=1;remap_target_status=overlap</td><td>OR4G11P;level=2;hgnc_id=HGNC:31276;havana_gene=OTTHUMG00000001095.3_6;remap_status=full_contig;remap_num_mappings=1;remap_target_status=overlap                    </td><td>OR4G11P    </td></tr>\n",
       "</tbody>\n",
       "</table>\n"
      ],
      "text/latex": [
       "A data.frame: 6 × 11\n",
       "\\begin{tabular}{r|lllllllllll}\n",
       "  & chr & database & type & start & end & dot1 & strand & dot2 & annotation & tmp & gene\\_name\\\\\n",
       "  & <chr> & <chr> & <chr> & <int> & <int> & <chr> & <chr> & <chr> & <chr> & <chr> & <chr>\\\\\n",
       "\\hline\n",
       "\t1 & 1 & HAVANA & gene & 11869 & 14409 & . & + & . & ID=ENSG00000223972.5;gene\\_id=ENSG00000223972.5\\_5;gene\\_type=transcribed\\_unprocessed\\_pseudogene;gene\\_name=DDX11L1;level=2;hgnc\\_id=HGNC:37102;havana\\_gene=OTTHUMG00000000961.2\\_5;remap\\_status=full\\_contig;remap\\_num\\_mappings=1;remap\\_target\\_status=overlap & DDX11L1;level=2;hgnc\\_id=HGNC:37102;havana\\_gene=OTTHUMG00000000961.2\\_5;remap\\_status=full\\_contig;remap\\_num\\_mappings=1;remap\\_target\\_status=overlap                     & DDX11L1    \\\\\n",
       "\t13 & 1 & HAVANA & gene & 14404 & 29570 & . & - & . & ID=ENSG00000227232.5;gene\\_id=ENSG00000227232.5\\_5;gene\\_type=unprocessed\\_pseudogene;gene\\_name=WASH7P;level=2;hgnc\\_id=HGNC:38034;havana\\_gene=OTTHUMG00000000958.1\\_5;remap\\_status=full\\_contig;remap\\_num\\_mappings=1;remap\\_target\\_status=overlap              & WASH7P;level=2;hgnc\\_id=HGNC:38034;havana\\_gene=OTTHUMG00000000958.1\\_5;remap\\_status=full\\_contig;remap\\_num\\_mappings=1;remap\\_target\\_status=overlap                      & WASH7P     \\\\\n",
       "\t26 & 1 & HAVANA & gene & 29554 & 31109 & . & + & . & ID=ENSG00000243485.5;gene\\_id=ENSG00000243485.5\\_11;gene\\_type=lncRNA;gene\\_name=MIR1302-2HG;level=2;hgnc\\_id=HGNC:52482;tag=ncRNA\\_host;havana\\_gene=OTTHUMG00000000959.2\\_11;remap\\_status=full\\_contig;remap\\_num\\_mappings=1;remap\\_target\\_status=overlap        & MIR1302-2HG;level=2;hgnc\\_id=HGNC:52482;tag=ncRNA\\_host;havana\\_gene=OTTHUMG00000000959.2\\_11;remap\\_status=full\\_contig;remap\\_num\\_mappings=1;remap\\_target\\_status=overlap & MIR1302-2HG\\\\\n",
       "\t34 & 1 & HAVANA & gene & 34554 & 36081 & . & - & . & ID=ENSG00000237613.2;gene\\_id=ENSG00000237613.2\\_6;gene\\_type=lncRNA;gene\\_name=FAM138A;level=2;hgnc\\_id=HGNC:32334;havana\\_gene=OTTHUMG00000000960.1\\_6;remap\\_status=full\\_contig;remap\\_num\\_mappings=1;remap\\_target\\_status=overlap                             & FAM138A;level=2;hgnc\\_id=HGNC:32334;havana\\_gene=OTTHUMG00000000960.1\\_6;remap\\_status=full\\_contig;remap\\_num\\_mappings=1;remap\\_target\\_status=overlap                     & FAM138A    \\\\\n",
       "\t42 & 1 & HAVANA & gene & 52473 & 53312 & . & + & . & ID=ENSG00000268020.3;gene\\_id=ENSG00000268020.3\\_5;gene\\_type=unprocessed\\_pseudogene;gene\\_name=OR4G4P;level=2;hgnc\\_id=HGNC:14822;havana\\_gene=OTTHUMG00000185779.1\\_5;remap\\_status=full\\_contig;remap\\_num\\_mappings=1;remap\\_target\\_status=overlap              & OR4G4P;level=2;hgnc\\_id=HGNC:14822;havana\\_gene=OTTHUMG00000185779.1\\_5;remap\\_status=full\\_contig;remap\\_num\\_mappings=1;remap\\_target\\_status=overlap                      & OR4G4P     \\\\\n",
       "\t45 & 1 & HAVANA & gene & 57598 & 64116 & . & + & . & ID=ENSG00000240361.2;gene\\_id=ENSG00000240361.2\\_6;gene\\_type=transcribed\\_unprocessed\\_pseudogene;gene\\_name=OR4G11P;level=2;hgnc\\_id=HGNC:31276;havana\\_gene=OTTHUMG00000001095.3\\_6;remap\\_status=full\\_contig;remap\\_num\\_mappings=1;remap\\_target\\_status=overlap & OR4G11P;level=2;hgnc\\_id=HGNC:31276;havana\\_gene=OTTHUMG00000001095.3\\_6;remap\\_status=full\\_contig;remap\\_num\\_mappings=1;remap\\_target\\_status=overlap                     & OR4G11P    \\\\\n",
       "\\end{tabular}\n"
      ],
      "text/markdown": [
       "\n",
       "A data.frame: 6 × 11\n",
       "\n",
       "| <!--/--> | chr &lt;chr&gt; | database &lt;chr&gt; | type &lt;chr&gt; | start &lt;int&gt; | end &lt;int&gt; | dot1 &lt;chr&gt; | strand &lt;chr&gt; | dot2 &lt;chr&gt; | annotation &lt;chr&gt; | tmp &lt;chr&gt; | gene_name &lt;chr&gt; |\n",
       "|---|---|---|---|---|---|---|---|---|---|---|---|\n",
       "| 1 | 1 | HAVANA | gene | 11869 | 14409 | . | + | . | ID=ENSG00000223972.5;gene_id=ENSG00000223972.5_5;gene_type=transcribed_unprocessed_pseudogene;gene_name=DDX11L1;level=2;hgnc_id=HGNC:37102;havana_gene=OTTHUMG00000000961.2_5;remap_status=full_contig;remap_num_mappings=1;remap_target_status=overlap | DDX11L1;level=2;hgnc_id=HGNC:37102;havana_gene=OTTHUMG00000000961.2_5;remap_status=full_contig;remap_num_mappings=1;remap_target_status=overlap                     | DDX11L1     |\n",
       "| 13 | 1 | HAVANA | gene | 14404 | 29570 | . | - | . | ID=ENSG00000227232.5;gene_id=ENSG00000227232.5_5;gene_type=unprocessed_pseudogene;gene_name=WASH7P;level=2;hgnc_id=HGNC:38034;havana_gene=OTTHUMG00000000958.1_5;remap_status=full_contig;remap_num_mappings=1;remap_target_status=overlap              | WASH7P;level=2;hgnc_id=HGNC:38034;havana_gene=OTTHUMG00000000958.1_5;remap_status=full_contig;remap_num_mappings=1;remap_target_status=overlap                      | WASH7P      |\n",
       "| 26 | 1 | HAVANA | gene | 29554 | 31109 | . | + | . | ID=ENSG00000243485.5;gene_id=ENSG00000243485.5_11;gene_type=lncRNA;gene_name=MIR1302-2HG;level=2;hgnc_id=HGNC:52482;tag=ncRNA_host;havana_gene=OTTHUMG00000000959.2_11;remap_status=full_contig;remap_num_mappings=1;remap_target_status=overlap        | MIR1302-2HG;level=2;hgnc_id=HGNC:52482;tag=ncRNA_host;havana_gene=OTTHUMG00000000959.2_11;remap_status=full_contig;remap_num_mappings=1;remap_target_status=overlap | MIR1302-2HG |\n",
       "| 34 | 1 | HAVANA | gene | 34554 | 36081 | . | - | . | ID=ENSG00000237613.2;gene_id=ENSG00000237613.2_6;gene_type=lncRNA;gene_name=FAM138A;level=2;hgnc_id=HGNC:32334;havana_gene=OTTHUMG00000000960.1_6;remap_status=full_contig;remap_num_mappings=1;remap_target_status=overlap                             | FAM138A;level=2;hgnc_id=HGNC:32334;havana_gene=OTTHUMG00000000960.1_6;remap_status=full_contig;remap_num_mappings=1;remap_target_status=overlap                     | FAM138A     |\n",
       "| 42 | 1 | HAVANA | gene | 52473 | 53312 | . | + | . | ID=ENSG00000268020.3;gene_id=ENSG00000268020.3_5;gene_type=unprocessed_pseudogene;gene_name=OR4G4P;level=2;hgnc_id=HGNC:14822;havana_gene=OTTHUMG00000185779.1_5;remap_status=full_contig;remap_num_mappings=1;remap_target_status=overlap              | OR4G4P;level=2;hgnc_id=HGNC:14822;havana_gene=OTTHUMG00000185779.1_5;remap_status=full_contig;remap_num_mappings=1;remap_target_status=overlap                      | OR4G4P      |\n",
       "| 45 | 1 | HAVANA | gene | 57598 | 64116 | . | + | . | ID=ENSG00000240361.2;gene_id=ENSG00000240361.2_6;gene_type=transcribed_unprocessed_pseudogene;gene_name=OR4G11P;level=2;hgnc_id=HGNC:31276;havana_gene=OTTHUMG00000001095.3_6;remap_status=full_contig;remap_num_mappings=1;remap_target_status=overlap | OR4G11P;level=2;hgnc_id=HGNC:31276;havana_gene=OTTHUMG00000001095.3_6;remap_status=full_contig;remap_num_mappings=1;remap_target_status=overlap                     | OR4G11P     |\n",
       "\n"
      ],
      "text/plain": [
       "   chr database type start end   dot1 strand dot2\n",
       "1  1   HAVANA   gene 11869 14409 .    +      .   \n",
       "13 1   HAVANA   gene 14404 29570 .    -      .   \n",
       "26 1   HAVANA   gene 29554 31109 .    +      .   \n",
       "34 1   HAVANA   gene 34554 36081 .    -      .   \n",
       "42 1   HAVANA   gene 52473 53312 .    +      .   \n",
       "45 1   HAVANA   gene 57598 64116 .    +      .   \n",
       "   annotation                                                                                                                                                                                                                                             \n",
       "1  ID=ENSG00000223972.5;gene_id=ENSG00000223972.5_5;gene_type=transcribed_unprocessed_pseudogene;gene_name=DDX11L1;level=2;hgnc_id=HGNC:37102;havana_gene=OTTHUMG00000000961.2_5;remap_status=full_contig;remap_num_mappings=1;remap_target_status=overlap\n",
       "13 ID=ENSG00000227232.5;gene_id=ENSG00000227232.5_5;gene_type=unprocessed_pseudogene;gene_name=WASH7P;level=2;hgnc_id=HGNC:38034;havana_gene=OTTHUMG00000000958.1_5;remap_status=full_contig;remap_num_mappings=1;remap_target_status=overlap             \n",
       "26 ID=ENSG00000243485.5;gene_id=ENSG00000243485.5_11;gene_type=lncRNA;gene_name=MIR1302-2HG;level=2;hgnc_id=HGNC:52482;tag=ncRNA_host;havana_gene=OTTHUMG00000000959.2_11;remap_status=full_contig;remap_num_mappings=1;remap_target_status=overlap       \n",
       "34 ID=ENSG00000237613.2;gene_id=ENSG00000237613.2_6;gene_type=lncRNA;gene_name=FAM138A;level=2;hgnc_id=HGNC:32334;havana_gene=OTTHUMG00000000960.1_6;remap_status=full_contig;remap_num_mappings=1;remap_target_status=overlap                            \n",
       "42 ID=ENSG00000268020.3;gene_id=ENSG00000268020.3_5;gene_type=unprocessed_pseudogene;gene_name=OR4G4P;level=2;hgnc_id=HGNC:14822;havana_gene=OTTHUMG00000185779.1_5;remap_status=full_contig;remap_num_mappings=1;remap_target_status=overlap             \n",
       "45 ID=ENSG00000240361.2;gene_id=ENSG00000240361.2_6;gene_type=transcribed_unprocessed_pseudogene;gene_name=OR4G11P;level=2;hgnc_id=HGNC:31276;havana_gene=OTTHUMG00000001095.3_6;remap_status=full_contig;remap_num_mappings=1;remap_target_status=overlap\n",
       "   tmp                                                                                                                                                                \n",
       "1  DDX11L1;level=2;hgnc_id=HGNC:37102;havana_gene=OTTHUMG00000000961.2_5;remap_status=full_contig;remap_num_mappings=1;remap_target_status=overlap                    \n",
       "13 WASH7P;level=2;hgnc_id=HGNC:38034;havana_gene=OTTHUMG00000000958.1_5;remap_status=full_contig;remap_num_mappings=1;remap_target_status=overlap                     \n",
       "26 MIR1302-2HG;level=2;hgnc_id=HGNC:52482;tag=ncRNA_host;havana_gene=OTTHUMG00000000959.2_11;remap_status=full_contig;remap_num_mappings=1;remap_target_status=overlap\n",
       "34 FAM138A;level=2;hgnc_id=HGNC:32334;havana_gene=OTTHUMG00000000960.1_6;remap_status=full_contig;remap_num_mappings=1;remap_target_status=overlap                    \n",
       "42 OR4G4P;level=2;hgnc_id=HGNC:14822;havana_gene=OTTHUMG00000185779.1_5;remap_status=full_contig;remap_num_mappings=1;remap_target_status=overlap                     \n",
       "45 OR4G11P;level=2;hgnc_id=HGNC:31276;havana_gene=OTTHUMG00000001095.3_6;remap_status=full_contig;remap_num_mappings=1;remap_target_status=overlap                    \n",
       "   gene_name  \n",
       "1  DDX11L1    \n",
       "13 WASH7P     \n",
       "26 MIR1302-2HG\n",
       "34 FAM138A    \n",
       "42 OR4G4P     \n",
       "45 OR4G11P    "
      ]
     },
     "metadata": {},
     "output_type": "display_data"
    }
   ],
   "source": [
    "df_gencode_hg19_genes = df_gencode_hg19[df_gencode_hg19$type==\"gene\",]\n",
    "df_gencode_hg19_genes$tmp = sapply(strsplit(df_gencode_hg19_genes$annotation, \"gene_name=\"), \"[\", 2)\n",
    "df_gencode_hg19_genes$gene_name = sapply(strsplit(df_gencode_hg19_genes$tmp, \";\"), \"[\", 1)\n",
    "\n",
    "df_gencode_hg19_genes$chr <- sapply(strsplit(df_gencode_hg19_genes$chr, \"chr\"), \"[\", 2)\n",
    "head(df_gencode_hg19_genes)"
   ]
  },
  {
   "cell_type": "code",
   "execution_count": 219,
   "id": "555048a0",
   "metadata": {},
   "outputs": [
    {
     "data": {
      "text/html": [
       "<table class=\"dataframe\">\n",
       "<caption>A data.frame: 6 × 11</caption>\n",
       "<thead>\n",
       "\t<tr><th></th><th scope=col>chr</th><th scope=col>database</th><th scope=col>type</th><th scope=col>start</th><th scope=col>end</th><th scope=col>dot1</th><th scope=col>strand</th><th scope=col>dot2</th><th scope=col>annotation</th><th scope=col>tmp</th><th scope=col>gene_name</th></tr>\n",
       "\t<tr><th></th><th scope=col>&lt;chr&gt;</th><th scope=col>&lt;chr&gt;</th><th scope=col>&lt;chr&gt;</th><th scope=col>&lt;int&gt;</th><th scope=col>&lt;int&gt;</th><th scope=col>&lt;chr&gt;</th><th scope=col>&lt;chr&gt;</th><th scope=col>&lt;chr&gt;</th><th scope=col>&lt;chr&gt;</th><th scope=col>&lt;chr&gt;</th><th scope=col>&lt;chr&gt;</th></tr>\n",
       "</thead>\n",
       "<tbody>\n",
       "\t<tr><th scope=row>1</th><td>1</td><td>HAVANA</td><td>gene</td><td>11869</td><td>14409</td><td>.</td><td>+</td><td>.</td><td>ID=ENSG00000223972.5;gene_id=ENSG00000223972.5_5;gene_type=transcribed_unprocessed_pseudogene;gene_name=DDX11L1;level=2;hgnc_id=HGNC:37102;havana_gene=OTTHUMG00000000961.2_5;remap_status=full_contig;remap_num_mappings=1;remap_target_status=overlap</td><td>DDX11L1;level=2;hgnc_id=HGNC:37102;havana_gene=OTTHUMG00000000961.2_5;remap_status=full_contig;remap_num_mappings=1;remap_target_status=overlap                    </td><td>DDX11L1    </td></tr>\n",
       "\t<tr><th scope=row>13</th><td>1</td><td>HAVANA</td><td>gene</td><td>14404</td><td>29570</td><td>.</td><td>-</td><td>.</td><td>ID=ENSG00000227232.5;gene_id=ENSG00000227232.5_5;gene_type=unprocessed_pseudogene;gene_name=WASH7P;level=2;hgnc_id=HGNC:38034;havana_gene=OTTHUMG00000000958.1_5;remap_status=full_contig;remap_num_mappings=1;remap_target_status=overlap             </td><td>WASH7P;level=2;hgnc_id=HGNC:38034;havana_gene=OTTHUMG00000000958.1_5;remap_status=full_contig;remap_num_mappings=1;remap_target_status=overlap                     </td><td>WASH7P     </td></tr>\n",
       "\t<tr><th scope=row>26</th><td>1</td><td>HAVANA</td><td>gene</td><td>29554</td><td>31109</td><td>.</td><td>+</td><td>.</td><td>ID=ENSG00000243485.5;gene_id=ENSG00000243485.5_11;gene_type=lncRNA;gene_name=MIR1302-2HG;level=2;hgnc_id=HGNC:52482;tag=ncRNA_host;havana_gene=OTTHUMG00000000959.2_11;remap_status=full_contig;remap_num_mappings=1;remap_target_status=overlap       </td><td>MIR1302-2HG;level=2;hgnc_id=HGNC:52482;tag=ncRNA_host;havana_gene=OTTHUMG00000000959.2_11;remap_status=full_contig;remap_num_mappings=1;remap_target_status=overlap</td><td>MIR1302-2HG</td></tr>\n",
       "\t<tr><th scope=row>34</th><td>1</td><td>HAVANA</td><td>gene</td><td>34554</td><td>36081</td><td>.</td><td>-</td><td>.</td><td>ID=ENSG00000237613.2;gene_id=ENSG00000237613.2_6;gene_type=lncRNA;gene_name=FAM138A;level=2;hgnc_id=HGNC:32334;havana_gene=OTTHUMG00000000960.1_6;remap_status=full_contig;remap_num_mappings=1;remap_target_status=overlap                            </td><td>FAM138A;level=2;hgnc_id=HGNC:32334;havana_gene=OTTHUMG00000000960.1_6;remap_status=full_contig;remap_num_mappings=1;remap_target_status=overlap                    </td><td>FAM138A    </td></tr>\n",
       "\t<tr><th scope=row>42</th><td>1</td><td>HAVANA</td><td>gene</td><td>52473</td><td>53312</td><td>.</td><td>+</td><td>.</td><td>ID=ENSG00000268020.3;gene_id=ENSG00000268020.3_5;gene_type=unprocessed_pseudogene;gene_name=OR4G4P;level=2;hgnc_id=HGNC:14822;havana_gene=OTTHUMG00000185779.1_5;remap_status=full_contig;remap_num_mappings=1;remap_target_status=overlap             </td><td>OR4G4P;level=2;hgnc_id=HGNC:14822;havana_gene=OTTHUMG00000185779.1_5;remap_status=full_contig;remap_num_mappings=1;remap_target_status=overlap                     </td><td>OR4G4P     </td></tr>\n",
       "\t<tr><th scope=row>45</th><td>1</td><td>HAVANA</td><td>gene</td><td>57598</td><td>64116</td><td>.</td><td>+</td><td>.</td><td>ID=ENSG00000240361.2;gene_id=ENSG00000240361.2_6;gene_type=transcribed_unprocessed_pseudogene;gene_name=OR4G11P;level=2;hgnc_id=HGNC:31276;havana_gene=OTTHUMG00000001095.3_6;remap_status=full_contig;remap_num_mappings=1;remap_target_status=overlap</td><td>OR4G11P;level=2;hgnc_id=HGNC:31276;havana_gene=OTTHUMG00000001095.3_6;remap_status=full_contig;remap_num_mappings=1;remap_target_status=overlap                    </td><td>OR4G11P    </td></tr>\n",
       "</tbody>\n",
       "</table>\n"
      ],
      "text/latex": [
       "A data.frame: 6 × 11\n",
       "\\begin{tabular}{r|lllllllllll}\n",
       "  & chr & database & type & start & end & dot1 & strand & dot2 & annotation & tmp & gene\\_name\\\\\n",
       "  & <chr> & <chr> & <chr> & <int> & <int> & <chr> & <chr> & <chr> & <chr> & <chr> & <chr>\\\\\n",
       "\\hline\n",
       "\t1 & 1 & HAVANA & gene & 11869 & 14409 & . & + & . & ID=ENSG00000223972.5;gene\\_id=ENSG00000223972.5\\_5;gene\\_type=transcribed\\_unprocessed\\_pseudogene;gene\\_name=DDX11L1;level=2;hgnc\\_id=HGNC:37102;havana\\_gene=OTTHUMG00000000961.2\\_5;remap\\_status=full\\_contig;remap\\_num\\_mappings=1;remap\\_target\\_status=overlap & DDX11L1;level=2;hgnc\\_id=HGNC:37102;havana\\_gene=OTTHUMG00000000961.2\\_5;remap\\_status=full\\_contig;remap\\_num\\_mappings=1;remap\\_target\\_status=overlap                     & DDX11L1    \\\\\n",
       "\t13 & 1 & HAVANA & gene & 14404 & 29570 & . & - & . & ID=ENSG00000227232.5;gene\\_id=ENSG00000227232.5\\_5;gene\\_type=unprocessed\\_pseudogene;gene\\_name=WASH7P;level=2;hgnc\\_id=HGNC:38034;havana\\_gene=OTTHUMG00000000958.1\\_5;remap\\_status=full\\_contig;remap\\_num\\_mappings=1;remap\\_target\\_status=overlap              & WASH7P;level=2;hgnc\\_id=HGNC:38034;havana\\_gene=OTTHUMG00000000958.1\\_5;remap\\_status=full\\_contig;remap\\_num\\_mappings=1;remap\\_target\\_status=overlap                      & WASH7P     \\\\\n",
       "\t26 & 1 & HAVANA & gene & 29554 & 31109 & . & + & . & ID=ENSG00000243485.5;gene\\_id=ENSG00000243485.5\\_11;gene\\_type=lncRNA;gene\\_name=MIR1302-2HG;level=2;hgnc\\_id=HGNC:52482;tag=ncRNA\\_host;havana\\_gene=OTTHUMG00000000959.2\\_11;remap\\_status=full\\_contig;remap\\_num\\_mappings=1;remap\\_target\\_status=overlap        & MIR1302-2HG;level=2;hgnc\\_id=HGNC:52482;tag=ncRNA\\_host;havana\\_gene=OTTHUMG00000000959.2\\_11;remap\\_status=full\\_contig;remap\\_num\\_mappings=1;remap\\_target\\_status=overlap & MIR1302-2HG\\\\\n",
       "\t34 & 1 & HAVANA & gene & 34554 & 36081 & . & - & . & ID=ENSG00000237613.2;gene\\_id=ENSG00000237613.2\\_6;gene\\_type=lncRNA;gene\\_name=FAM138A;level=2;hgnc\\_id=HGNC:32334;havana\\_gene=OTTHUMG00000000960.1\\_6;remap\\_status=full\\_contig;remap\\_num\\_mappings=1;remap\\_target\\_status=overlap                             & FAM138A;level=2;hgnc\\_id=HGNC:32334;havana\\_gene=OTTHUMG00000000960.1\\_6;remap\\_status=full\\_contig;remap\\_num\\_mappings=1;remap\\_target\\_status=overlap                     & FAM138A    \\\\\n",
       "\t42 & 1 & HAVANA & gene & 52473 & 53312 & . & + & . & ID=ENSG00000268020.3;gene\\_id=ENSG00000268020.3\\_5;gene\\_type=unprocessed\\_pseudogene;gene\\_name=OR4G4P;level=2;hgnc\\_id=HGNC:14822;havana\\_gene=OTTHUMG00000185779.1\\_5;remap\\_status=full\\_contig;remap\\_num\\_mappings=1;remap\\_target\\_status=overlap              & OR4G4P;level=2;hgnc\\_id=HGNC:14822;havana\\_gene=OTTHUMG00000185779.1\\_5;remap\\_status=full\\_contig;remap\\_num\\_mappings=1;remap\\_target\\_status=overlap                      & OR4G4P     \\\\\n",
       "\t45 & 1 & HAVANA & gene & 57598 & 64116 & . & + & . & ID=ENSG00000240361.2;gene\\_id=ENSG00000240361.2\\_6;gene\\_type=transcribed\\_unprocessed\\_pseudogene;gene\\_name=OR4G11P;level=2;hgnc\\_id=HGNC:31276;havana\\_gene=OTTHUMG00000001095.3\\_6;remap\\_status=full\\_contig;remap\\_num\\_mappings=1;remap\\_target\\_status=overlap & OR4G11P;level=2;hgnc\\_id=HGNC:31276;havana\\_gene=OTTHUMG00000001095.3\\_6;remap\\_status=full\\_contig;remap\\_num\\_mappings=1;remap\\_target\\_status=overlap                     & OR4G11P    \\\\\n",
       "\\end{tabular}\n"
      ],
      "text/markdown": [
       "\n",
       "A data.frame: 6 × 11\n",
       "\n",
       "| <!--/--> | chr &lt;chr&gt; | database &lt;chr&gt; | type &lt;chr&gt; | start &lt;int&gt; | end &lt;int&gt; | dot1 &lt;chr&gt; | strand &lt;chr&gt; | dot2 &lt;chr&gt; | annotation &lt;chr&gt; | tmp &lt;chr&gt; | gene_name &lt;chr&gt; |\n",
       "|---|---|---|---|---|---|---|---|---|---|---|---|\n",
       "| 1 | 1 | HAVANA | gene | 11869 | 14409 | . | + | . | ID=ENSG00000223972.5;gene_id=ENSG00000223972.5_5;gene_type=transcribed_unprocessed_pseudogene;gene_name=DDX11L1;level=2;hgnc_id=HGNC:37102;havana_gene=OTTHUMG00000000961.2_5;remap_status=full_contig;remap_num_mappings=1;remap_target_status=overlap | DDX11L1;level=2;hgnc_id=HGNC:37102;havana_gene=OTTHUMG00000000961.2_5;remap_status=full_contig;remap_num_mappings=1;remap_target_status=overlap                     | DDX11L1     |\n",
       "| 13 | 1 | HAVANA | gene | 14404 | 29570 | . | - | . | ID=ENSG00000227232.5;gene_id=ENSG00000227232.5_5;gene_type=unprocessed_pseudogene;gene_name=WASH7P;level=2;hgnc_id=HGNC:38034;havana_gene=OTTHUMG00000000958.1_5;remap_status=full_contig;remap_num_mappings=1;remap_target_status=overlap              | WASH7P;level=2;hgnc_id=HGNC:38034;havana_gene=OTTHUMG00000000958.1_5;remap_status=full_contig;remap_num_mappings=1;remap_target_status=overlap                      | WASH7P      |\n",
       "| 26 | 1 | HAVANA | gene | 29554 | 31109 | . | + | . | ID=ENSG00000243485.5;gene_id=ENSG00000243485.5_11;gene_type=lncRNA;gene_name=MIR1302-2HG;level=2;hgnc_id=HGNC:52482;tag=ncRNA_host;havana_gene=OTTHUMG00000000959.2_11;remap_status=full_contig;remap_num_mappings=1;remap_target_status=overlap        | MIR1302-2HG;level=2;hgnc_id=HGNC:52482;tag=ncRNA_host;havana_gene=OTTHUMG00000000959.2_11;remap_status=full_contig;remap_num_mappings=1;remap_target_status=overlap | MIR1302-2HG |\n",
       "| 34 | 1 | HAVANA | gene | 34554 | 36081 | . | - | . | ID=ENSG00000237613.2;gene_id=ENSG00000237613.2_6;gene_type=lncRNA;gene_name=FAM138A;level=2;hgnc_id=HGNC:32334;havana_gene=OTTHUMG00000000960.1_6;remap_status=full_contig;remap_num_mappings=1;remap_target_status=overlap                             | FAM138A;level=2;hgnc_id=HGNC:32334;havana_gene=OTTHUMG00000000960.1_6;remap_status=full_contig;remap_num_mappings=1;remap_target_status=overlap                     | FAM138A     |\n",
       "| 42 | 1 | HAVANA | gene | 52473 | 53312 | . | + | . | ID=ENSG00000268020.3;gene_id=ENSG00000268020.3_5;gene_type=unprocessed_pseudogene;gene_name=OR4G4P;level=2;hgnc_id=HGNC:14822;havana_gene=OTTHUMG00000185779.1_5;remap_status=full_contig;remap_num_mappings=1;remap_target_status=overlap              | OR4G4P;level=2;hgnc_id=HGNC:14822;havana_gene=OTTHUMG00000185779.1_5;remap_status=full_contig;remap_num_mappings=1;remap_target_status=overlap                      | OR4G4P      |\n",
       "| 45 | 1 | HAVANA | gene | 57598 | 64116 | . | + | . | ID=ENSG00000240361.2;gene_id=ENSG00000240361.2_6;gene_type=transcribed_unprocessed_pseudogene;gene_name=OR4G11P;level=2;hgnc_id=HGNC:31276;havana_gene=OTTHUMG00000001095.3_6;remap_status=full_contig;remap_num_mappings=1;remap_target_status=overlap | OR4G11P;level=2;hgnc_id=HGNC:31276;havana_gene=OTTHUMG00000001095.3_6;remap_status=full_contig;remap_num_mappings=1;remap_target_status=overlap                     | OR4G11P     |\n",
       "\n"
      ],
      "text/plain": [
       "   chr database type start end   dot1 strand dot2\n",
       "1  1   HAVANA   gene 11869 14409 .    +      .   \n",
       "13 1   HAVANA   gene 14404 29570 .    -      .   \n",
       "26 1   HAVANA   gene 29554 31109 .    +      .   \n",
       "34 1   HAVANA   gene 34554 36081 .    -      .   \n",
       "42 1   HAVANA   gene 52473 53312 .    +      .   \n",
       "45 1   HAVANA   gene 57598 64116 .    +      .   \n",
       "   annotation                                                                                                                                                                                                                                             \n",
       "1  ID=ENSG00000223972.5;gene_id=ENSG00000223972.5_5;gene_type=transcribed_unprocessed_pseudogene;gene_name=DDX11L1;level=2;hgnc_id=HGNC:37102;havana_gene=OTTHUMG00000000961.2_5;remap_status=full_contig;remap_num_mappings=1;remap_target_status=overlap\n",
       "13 ID=ENSG00000227232.5;gene_id=ENSG00000227232.5_5;gene_type=unprocessed_pseudogene;gene_name=WASH7P;level=2;hgnc_id=HGNC:38034;havana_gene=OTTHUMG00000000958.1_5;remap_status=full_contig;remap_num_mappings=1;remap_target_status=overlap             \n",
       "26 ID=ENSG00000243485.5;gene_id=ENSG00000243485.5_11;gene_type=lncRNA;gene_name=MIR1302-2HG;level=2;hgnc_id=HGNC:52482;tag=ncRNA_host;havana_gene=OTTHUMG00000000959.2_11;remap_status=full_contig;remap_num_mappings=1;remap_target_status=overlap       \n",
       "34 ID=ENSG00000237613.2;gene_id=ENSG00000237613.2_6;gene_type=lncRNA;gene_name=FAM138A;level=2;hgnc_id=HGNC:32334;havana_gene=OTTHUMG00000000960.1_6;remap_status=full_contig;remap_num_mappings=1;remap_target_status=overlap                            \n",
       "42 ID=ENSG00000268020.3;gene_id=ENSG00000268020.3_5;gene_type=unprocessed_pseudogene;gene_name=OR4G4P;level=2;hgnc_id=HGNC:14822;havana_gene=OTTHUMG00000185779.1_5;remap_status=full_contig;remap_num_mappings=1;remap_target_status=overlap             \n",
       "45 ID=ENSG00000240361.2;gene_id=ENSG00000240361.2_6;gene_type=transcribed_unprocessed_pseudogene;gene_name=OR4G11P;level=2;hgnc_id=HGNC:31276;havana_gene=OTTHUMG00000001095.3_6;remap_status=full_contig;remap_num_mappings=1;remap_target_status=overlap\n",
       "   tmp                                                                                                                                                                \n",
       "1  DDX11L1;level=2;hgnc_id=HGNC:37102;havana_gene=OTTHUMG00000000961.2_5;remap_status=full_contig;remap_num_mappings=1;remap_target_status=overlap                    \n",
       "13 WASH7P;level=2;hgnc_id=HGNC:38034;havana_gene=OTTHUMG00000000958.1_5;remap_status=full_contig;remap_num_mappings=1;remap_target_status=overlap                     \n",
       "26 MIR1302-2HG;level=2;hgnc_id=HGNC:52482;tag=ncRNA_host;havana_gene=OTTHUMG00000000959.2_11;remap_status=full_contig;remap_num_mappings=1;remap_target_status=overlap\n",
       "34 FAM138A;level=2;hgnc_id=HGNC:32334;havana_gene=OTTHUMG00000000960.1_6;remap_status=full_contig;remap_num_mappings=1;remap_target_status=overlap                    \n",
       "42 OR4G4P;level=2;hgnc_id=HGNC:14822;havana_gene=OTTHUMG00000185779.1_5;remap_status=full_contig;remap_num_mappings=1;remap_target_status=overlap                     \n",
       "45 OR4G11P;level=2;hgnc_id=HGNC:31276;havana_gene=OTTHUMG00000001095.3_6;remap_status=full_contig;remap_num_mappings=1;remap_target_status=overlap                    \n",
       "   gene_name  \n",
       "1  DDX11L1    \n",
       "13 WASH7P     \n",
       "26 MIR1302-2HG\n",
       "34 FAM138A    \n",
       "42 OR4G4P     \n",
       "45 OR4G11P    "
      ]
     },
     "metadata": {},
     "output_type": "display_data"
    }
   ],
   "source": [
    "df_gencode_hg19_genes$end <- as.integer(format(df_gencode_hg19_genes$end, scientific=FALSE))\n",
    "df_gencode_hg19_genes$start <- as.integer(format(df_gencode_hg19_genes$start, scientific=FALSE))\n",
    "df_gencode_hg19_genes = df_gencode_hg19_genes[order(df_gencode_hg19_genes$chr, df_gencode_hg19_genes$start,df_gencode_hg19_genes$end),]\n",
    "\n",
    "df_gencode_hg19_genes = df_gencode_hg19_genes[df_gencode_hg19_genes!=\"M\",]\n",
    "df_gencode_hg19_genes = df_gencode_hg19_genes[complete.cases(df_gencode_hg19_genes),]\n",
    "head(df_gencode_hg19_genes)"
   ]
  },
  {
   "cell_type": "code",
   "execution_count": 220,
   "id": "11930497",
   "metadata": {},
   "outputs": [],
   "source": [
    "return_promoter_start <- function(bed_row){\n",
    "    if (!(bed_row[7] %in% c(\"+\",\"-\"))){\n",
    "        print(bed_row[7])\n",
    "        stop()}\n",
    "    if (bed_row[7]==\"+\"){\n",
    "        return(as.numeric(bed_row[4])-1000)\n",
    "    }else if(bed_row[7]==\"-\"){\n",
    "        return(bed_row[5])\n",
    "    }}\n",
    "return_promoter_end <- function(bed_row){\n",
    "    if (!(bed_row[7] %in% c(\"+\",\"-\"))){\n",
    "        print(bed_row[7])\n",
    "        stop()}\n",
    "    if (bed_row[7]==\"+\"){\n",
    "        return(bed_row[4])\n",
    "    }else if(bed_row[7]==\"-\"){\n",
    "        return(as.numeric(bed_row[5])+1000)\n",
    "    }}"
   ]
  },
  {
   "cell_type": "code",
   "execution_count": 223,
   "id": "7ea5eb99",
   "metadata": {},
   "outputs": [
    {
     "data": {
      "text/html": [
       "<table class=\"dataframe\">\n",
       "<caption>A data.frame: 6 × 8</caption>\n",
       "<thead>\n",
       "\t<tr><th></th><th scope=col>chr</th><th scope=col>start</th><th scope=col>end</th><th scope=col>gene_name</th><th scope=col>score</th><th scope=col>strand</th><th scope=col>dot2</th><th scope=col>type</th></tr>\n",
       "\t<tr><th></th><th scope=col>&lt;chr&gt;</th><th scope=col>&lt;dbl&gt;</th><th scope=col>&lt;dbl&gt;</th><th scope=col>&lt;chr&gt;</th><th scope=col>&lt;dbl&gt;</th><th scope=col>&lt;chr&gt;</th><th scope=col>&lt;chr&gt;</th><th scope=col>&lt;chr&gt;</th></tr>\n",
       "</thead>\n",
       "<tbody>\n",
       "\t<tr><th scope=row>1</th><td>1</td><td>10869</td><td>11869</td><td>DDX11L1    </td><td>0</td><td>+</td><td>.</td><td>promoter</td></tr>\n",
       "\t<tr><th scope=row>13</th><td>1</td><td>29570</td><td>30570</td><td>WASH7P     </td><td>0</td><td>-</td><td>.</td><td>promoter</td></tr>\n",
       "\t<tr><th scope=row>26</th><td>1</td><td>28554</td><td>29554</td><td>MIR1302-2HG</td><td>0</td><td>+</td><td>.</td><td>promoter</td></tr>\n",
       "\t<tr><th scope=row>34</th><td>1</td><td>36081</td><td>37081</td><td>FAM138A    </td><td>0</td><td>-</td><td>.</td><td>promoter</td></tr>\n",
       "\t<tr><th scope=row>42</th><td>1</td><td>51473</td><td>52473</td><td>OR4G4P     </td><td>0</td><td>+</td><td>.</td><td>promoter</td></tr>\n",
       "\t<tr><th scope=row>45</th><td>1</td><td>56598</td><td>57598</td><td>OR4G11P    </td><td>0</td><td>+</td><td>.</td><td>promoter</td></tr>\n",
       "</tbody>\n",
       "</table>\n"
      ],
      "text/latex": [
       "A data.frame: 6 × 8\n",
       "\\begin{tabular}{r|llllllll}\n",
       "  & chr & start & end & gene\\_name & score & strand & dot2 & type\\\\\n",
       "  & <chr> & <dbl> & <dbl> & <chr> & <dbl> & <chr> & <chr> & <chr>\\\\\n",
       "\\hline\n",
       "\t1 & 1 & 10869 & 11869 & DDX11L1     & 0 & + & . & promoter\\\\\n",
       "\t13 & 1 & 29570 & 30570 & WASH7P      & 0 & - & . & promoter\\\\\n",
       "\t26 & 1 & 28554 & 29554 & MIR1302-2HG & 0 & + & . & promoter\\\\\n",
       "\t34 & 1 & 36081 & 37081 & FAM138A     & 0 & - & . & promoter\\\\\n",
       "\t42 & 1 & 51473 & 52473 & OR4G4P      & 0 & + & . & promoter\\\\\n",
       "\t45 & 1 & 56598 & 57598 & OR4G11P     & 0 & + & . & promoter\\\\\n",
       "\\end{tabular}\n"
      ],
      "text/markdown": [
       "\n",
       "A data.frame: 6 × 8\n",
       "\n",
       "| <!--/--> | chr &lt;chr&gt; | start &lt;dbl&gt; | end &lt;dbl&gt; | gene_name &lt;chr&gt; | score &lt;dbl&gt; | strand &lt;chr&gt; | dot2 &lt;chr&gt; | type &lt;chr&gt; |\n",
       "|---|---|---|---|---|---|---|---|---|\n",
       "| 1 | 1 | 10869 | 11869 | DDX11L1     | 0 | + | . | promoter |\n",
       "| 13 | 1 | 29570 | 30570 | WASH7P      | 0 | - | . | promoter |\n",
       "| 26 | 1 | 28554 | 29554 | MIR1302-2HG | 0 | + | . | promoter |\n",
       "| 34 | 1 | 36081 | 37081 | FAM138A     | 0 | - | . | promoter |\n",
       "| 42 | 1 | 51473 | 52473 | OR4G4P      | 0 | + | . | promoter |\n",
       "| 45 | 1 | 56598 | 57598 | OR4G11P     | 0 | + | . | promoter |\n",
       "\n"
      ],
      "text/plain": [
       "   chr start end   gene_name   score strand dot2 type    \n",
       "1  1   10869 11869 DDX11L1     0     +      .    promoter\n",
       "13 1   29570 30570 WASH7P      0     -      .    promoter\n",
       "26 1   28554 29554 MIR1302-2HG 0     +      .    promoter\n",
       "34 1   36081 37081 FAM138A     0     -      .    promoter\n",
       "42 1   51473 52473 OR4G4P      0     +      .    promoter\n",
       "45 1   56598 57598 OR4G11P     0     +      .    promoter"
      ]
     },
     "metadata": {},
     "output_type": "display_data"
    }
   ],
   "source": [
    "df_promoters_hg19 = df_gencode_hg19_genes \n",
    "df_promoters_hg19$start = as.numeric(apply(df_gencode_hg19_genes, 1, return_promoter_start))\n",
    "df_promoters_hg19$end = as.numeric(apply(df_gencode_hg19_genes, 1, return_promoter_end))\n",
    "\n",
    "df_promoters_hg19 = df_promoters_hg19 %>% mutate(type=\"promoter\", score=0) %>%\n",
    "    select(chr, start, end, gene_name, score, strand, dot2, type)\n",
    "head(df_promoters_hg19)"
   ]
  },
  {
   "cell_type": "code",
   "execution_count": 254,
   "id": "9548191d",
   "metadata": {},
   "outputs": [],
   "source": [
    "# df_promoters_hg19 = apply(df_promoters_hg19, 2, as.character)\n",
    "# df_promoters_hg19$start <- as.numeric(df_promoters_hg19$start)\n",
    "# df_promoters_hg19$end <- as.numeric(df_promoters_hg19$end)\n",
    "\n",
    "cols = c('chr','start','end','gene_name','score','strand','type')\n",
    "write.table(df_promoters_hg19[,cols], file=\"../Translational_Science/gencode.v40lift37.promoters_hg19.bed\",\n",
    "           row.names=FALSE, sep=\"\\t\", quote=FALSE, col.names=FALSE)"
   ]
  },
  {
   "cell_type": "code",
   "execution_count": 40,
   "id": "8e156492",
   "metadata": {},
   "outputs": [],
   "source": [
    "expand_start <- function(bed_row){\n",
    "    if (!(bed_row[7] %in% c(\"+\",\"-\"))){\n",
    "        print(bed_row[7])\n",
    "        stop()}\n",
    "    if (bed_row[7]==\"+\"){\n",
    "        return(as.numeric(bed_row[4])-1000)\n",
    "    }else{\n",
    "        return(bed_row[4])\n",
    "    }}\n",
    "expand_end <- function(bed_row){\n",
    "    if (!(bed_row[7] %in% c(\"+\",\"-\"))){\n",
    "        print(bed_row[7])\n",
    "        stop()}\n",
    "    if (bed_row[7]==\"-\"){\n",
    "        return(as.numeric(bed_row[5])+1000)\n",
    "    }else if(bed_row[7]==\"+\"){\n",
    "        return(bed_row[5])\n",
    "    }}"
   ]
  },
  {
   "cell_type": "code",
   "execution_count": 209,
   "id": "d3764f2e",
   "metadata": {},
   "outputs": [
    {
     "data": {
      "text/html": [
       "<table class=\"dataframe\">\n",
       "<caption>A data.frame: 6 × 8</caption>\n",
       "<thead>\n",
       "\t<tr><th></th><th scope=col>chr</th><th scope=col>start</th><th scope=col>end</th><th scope=col>gene_name</th><th scope=col>score</th><th scope=col>strand</th><th scope=col>dot2</th><th scope=col>type</th></tr>\n",
       "\t<tr><th></th><th scope=col>&lt;chr&gt;</th><th scope=col>&lt;chr&gt;</th><th scope=col>&lt;chr&gt;</th><th scope=col>&lt;chr&gt;</th><th scope=col>&lt;dbl&gt;</th><th scope=col>&lt;chr&gt;</th><th scope=col>&lt;chr&gt;</th><th scope=col>&lt;chr&gt;</th></tr>\n",
       "</thead>\n",
       "<tbody>\n",
       "\t<tr><th scope=row>1</th><td>chr1</td><td>10869    </td><td>    14409</td><td>DDX11L1    </td><td>0</td><td>+</td><td>.</td><td>gene_plus_promoter</td></tr>\n",
       "\t<tr><th scope=row>13</th><td>chr1</td><td>    14404</td><td>30570    </td><td>WASH7P     </td><td>0</td><td>-</td><td>.</td><td>gene_plus_promoter</td></tr>\n",
       "\t<tr><th scope=row>26</th><td>chr1</td><td>28554    </td><td>    31109</td><td>MIR1302-2HG</td><td>0</td><td>+</td><td>.</td><td>gene_plus_promoter</td></tr>\n",
       "\t<tr><th scope=row>34</th><td>chr1</td><td>    34554</td><td>37081    </td><td>FAM138A    </td><td>0</td><td>-</td><td>.</td><td>gene_plus_promoter</td></tr>\n",
       "\t<tr><th scope=row>42</th><td>chr1</td><td>51473    </td><td>    53312</td><td>OR4G4P     </td><td>0</td><td>+</td><td>.</td><td>gene_plus_promoter</td></tr>\n",
       "\t<tr><th scope=row>45</th><td>chr1</td><td>56598    </td><td>    64116</td><td>OR4G11P    </td><td>0</td><td>+</td><td>.</td><td>gene_plus_promoter</td></tr>\n",
       "</tbody>\n",
       "</table>\n"
      ],
      "text/latex": [
       "A data.frame: 6 × 8\n",
       "\\begin{tabular}{r|llllllll}\n",
       "  & chr & start & end & gene\\_name & score & strand & dot2 & type\\\\\n",
       "  & <chr> & <chr> & <chr> & <chr> & <dbl> & <chr> & <chr> & <chr>\\\\\n",
       "\\hline\n",
       "\t1 & chr1 & 10869     &     14409 & DDX11L1     & 0 & + & . & gene\\_plus\\_promoter\\\\\n",
       "\t13 & chr1 &     14404 & 30570     & WASH7P      & 0 & - & . & gene\\_plus\\_promoter\\\\\n",
       "\t26 & chr1 & 28554     &     31109 & MIR1302-2HG & 0 & + & . & gene\\_plus\\_promoter\\\\\n",
       "\t34 & chr1 &     34554 & 37081     & FAM138A     & 0 & - & . & gene\\_plus\\_promoter\\\\\n",
       "\t42 & chr1 & 51473     &     53312 & OR4G4P      & 0 & + & . & gene\\_plus\\_promoter\\\\\n",
       "\t45 & chr1 & 56598     &     64116 & OR4G11P     & 0 & + & . & gene\\_plus\\_promoter\\\\\n",
       "\\end{tabular}\n"
      ],
      "text/markdown": [
       "\n",
       "A data.frame: 6 × 8\n",
       "\n",
       "| <!--/--> | chr &lt;chr&gt; | start &lt;chr&gt; | end &lt;chr&gt; | gene_name &lt;chr&gt; | score &lt;dbl&gt; | strand &lt;chr&gt; | dot2 &lt;chr&gt; | type &lt;chr&gt; |\n",
       "|---|---|---|---|---|---|---|---|---|\n",
       "| 1 | chr1 | 10869     |     14409 | DDX11L1     | 0 | + | . | gene_plus_promoter |\n",
       "| 13 | chr1 |     14404 | 30570     | WASH7P      | 0 | - | . | gene_plus_promoter |\n",
       "| 26 | chr1 | 28554     |     31109 | MIR1302-2HG | 0 | + | . | gene_plus_promoter |\n",
       "| 34 | chr1 |     34554 | 37081     | FAM138A     | 0 | - | . | gene_plus_promoter |\n",
       "| 42 | chr1 | 51473     |     53312 | OR4G4P      | 0 | + | . | gene_plus_promoter |\n",
       "| 45 | chr1 | 56598     |     64116 | OR4G11P     | 0 | + | . | gene_plus_promoter |\n",
       "\n"
      ],
      "text/plain": [
       "   chr  start     end       gene_name   score strand dot2 type              \n",
       "1  chr1 10869         14409 DDX11L1     0     +      .    gene_plus_promoter\n",
       "13 chr1     14404 30570     WASH7P      0     -      .    gene_plus_promoter\n",
       "26 chr1 28554         31109 MIR1302-2HG 0     +      .    gene_plus_promoter\n",
       "34 chr1     34554 37081     FAM138A     0     -      .    gene_plus_promoter\n",
       "42 chr1 51473         53312 OR4G4P      0     +      .    gene_plus_promoter\n",
       "45 chr1 56598         64116 OR4G11P     0     +      .    gene_plus_promoter"
      ]
     },
     "metadata": {},
     "output_type": "display_data"
    }
   ],
   "source": [
    "# full genes (body+prom)\n",
    "df_full_genes_hg19 = df_gencode_hg19_genes\n",
    "df_full_genes_hg19$start = apply(df_gencode_hg19_genes, 1, expand_start)\n",
    "df_full_genes_hg19$end = apply(df_gencode_hg19_genes, 1, expand_end)\n",
    "\n",
    "df_full_genes_hg19 = df_full_genes_hg19 %>% mutate(type=\"gene_plus_promoter\", score=0, chr=paste0(\"chr\",chr, sep=\"\")) %>%\n",
    "    select(chr, start, end, gene_name, score, strand, dot2, type)\n",
    "head(df_full_genes_hg19)"
   ]
  },
  {
   "cell_type": "code",
   "execution_count": 44,
   "id": "83cef072",
   "metadata": {},
   "outputs": [
    {
     "data": {
      "text/html": [
       "<style>\n",
       ".list-inline {list-style: none; margin:0; padding: 0}\n",
       ".list-inline>li {display: inline-block}\n",
       ".list-inline>li:not(:last-child)::after {content: \"\\00b7\"; padding: 0 .5ex}\n",
       "</style>\n",
       "<ol class=list-inline><li>'chr'</li><li>'start'</li><li>'end'</li><li>'gene_name'</li><li>'strand'</li><li>'dot2'</li><li>'type'</li></ol>\n"
      ],
      "text/latex": [
       "\\begin{enumerate*}\n",
       "\\item 'chr'\n",
       "\\item 'start'\n",
       "\\item 'end'\n",
       "\\item 'gene\\_name'\n",
       "\\item 'strand'\n",
       "\\item 'dot2'\n",
       "\\item 'type'\n",
       "\\end{enumerate*}\n"
      ],
      "text/markdown": [
       "1. 'chr'\n",
       "2. 'start'\n",
       "3. 'end'\n",
       "4. 'gene_name'\n",
       "5. 'strand'\n",
       "6. 'dot2'\n",
       "7. 'type'\n",
       "\n",
       "\n"
      ],
      "text/plain": [
       "[1] \"chr\"       \"start\"     \"end\"       \"gene_name\" \"strand\"    \"dot2\"     \n",
       "[7] \"type\"     "
      ]
     },
     "metadata": {},
     "output_type": "display_data"
    }
   ],
   "source": [
    "names(df_full_genes_hg19)"
   ]
  },
  {
   "cell_type": "code",
   "execution_count": 322,
   "id": "4203ab5b",
   "metadata": {},
   "outputs": [
    {
     "name": "stdout",
     "output_type": "stream",
     "text": [
      "[1] \"A\"\n"
     ]
    }
   ],
   "source": [
    "cols = c('chr','start','end','gene_name','score','strand','type')\n",
    "df_full_genes_hg19$start <- as.numeric(df_full_genes_hg19$start)\n",
    "df_full_genes_hg19$end <- as.numeric(df_full_genes_hg19$end)\n",
    "df_full_genes_hg19$chr <- gsub(\"chr\",\"\",df_full_genes_hg19$chr)\n",
    "\n",
    "write.table(df_full_genes_hg19[,cols], file=\"../Translational_Science/gencode.v40lift37.full_genes_hg19.bed\",\n",
    "          quote=FALSE, row.names=FALSE,\n",
    "          sep=\"\\t\", col.names=FALSE\n",
    "         )\n",
    "print(\"A\")\n",
    "\n",
    "# check bed file format by upload here: https://genome.ucsc.edu/cgi-bin/hgCustom"
   ]
  },
  {
   "cell_type": "markdown",
   "id": "8000ec34",
   "metadata": {},
   "source": [
    "## annotate regions in Zhao et all list"
   ]
  },
  {
   "cell_type": "code",
   "execution_count": 122,
   "id": "fb37317d",
   "metadata": {},
   "outputs": [
    {
     "data": {
      "text/html": [
       "105982"
      ],
      "text/latex": [
       "105982"
      ],
      "text/markdown": [
       "105982"
      ],
      "text/plain": [
       "[1] 105982"
      ]
     },
     "metadata": {},
     "output_type": "display_data"
    },
    {
     "data": {
      "text/html": [
       "<table class=\"dataframe\">\n",
       "<caption>A data.frame: 6 × 7</caption>\n",
       "<thead>\n",
       "\t<tr><th></th><th scope=col>chr</th><th scope=col>start38</th><th scope=col>end38</th><th scope=col>stat1</th><th scope=col>stat2</th><th scope=col>methyl.status</th><th scope=col>region38</th></tr>\n",
       "\t<tr><th></th><th scope=col>&lt;int&gt;</th><th scope=col>&lt;int&gt;</th><th scope=col>&lt;int&gt;</th><th scope=col>&lt;dbl&gt;</th><th scope=col>&lt;dbl&gt;</th><th scope=col>&lt;chr&gt;</th><th scope=col>&lt;chr&gt;</th></tr>\n",
       "</thead>\n",
       "<tbody>\n",
       "\t<tr><th scope=row>1</th><td>1</td><td> 29194</td><td> 29436</td><td>-0.3396937</td><td>-289.58630</td><td>hypomethylated </td><td>chr1:29194-29436  </td></tr>\n",
       "\t<tr><th scope=row>2</th><td>1</td><td> 51588</td><td> 51682</td><td>-0.1208693</td><td> -94.00083</td><td>hypomethylated </td><td>chr1:51588-51682  </td></tr>\n",
       "\t<tr><th scope=row>3</th><td>1</td><td>600448</td><td>600499</td><td>-0.1665657</td><td> -25.01982</td><td>hypomethylated </td><td>chr1:600448-600499</td></tr>\n",
       "\t<tr><th scope=row>4</th><td>1</td><td>631079</td><td>631359</td><td> 0.2422400</td><td> 177.16574</td><td>hypermethylated</td><td>chr1:631079-631359</td></tr>\n",
       "\t<tr><th scope=row>5</th><td>1</td><td>631433</td><td>631500</td><td> 0.2247558</td><td>  35.21353</td><td>hypermethylated</td><td>chr1:631433-631500</td></tr>\n",
       "\t<tr><th scope=row>6</th><td>1</td><td>631733</td><td>631859</td><td> 0.1340444</td><td>  34.67026</td><td>hypermethylated</td><td>chr1:631733-631859</td></tr>\n",
       "</tbody>\n",
       "</table>\n"
      ],
      "text/latex": [
       "A data.frame: 6 × 7\n",
       "\\begin{tabular}{r|lllllll}\n",
       "  & chr & start38 & end38 & stat1 & stat2 & methyl.status & region38\\\\\n",
       "  & <int> & <int> & <int> & <dbl> & <dbl> & <chr> & <chr>\\\\\n",
       "\\hline\n",
       "\t1 & 1 &  29194 &  29436 & -0.3396937 & -289.58630 & hypomethylated  & chr1:29194-29436  \\\\\n",
       "\t2 & 1 &  51588 &  51682 & -0.1208693 &  -94.00083 & hypomethylated  & chr1:51588-51682  \\\\\n",
       "\t3 & 1 & 600448 & 600499 & -0.1665657 &  -25.01982 & hypomethylated  & chr1:600448-600499\\\\\n",
       "\t4 & 1 & 631079 & 631359 &  0.2422400 &  177.16574 & hypermethylated & chr1:631079-631359\\\\\n",
       "\t5 & 1 & 631433 & 631500 &  0.2247558 &   35.21353 & hypermethylated & chr1:631433-631500\\\\\n",
       "\t6 & 1 & 631733 & 631859 &  0.1340444 &   34.67026 & hypermethylated & chr1:631733-631859\\\\\n",
       "\\end{tabular}\n"
      ],
      "text/markdown": [
       "\n",
       "A data.frame: 6 × 7\n",
       "\n",
       "| <!--/--> | chr &lt;int&gt; | start38 &lt;int&gt; | end38 &lt;int&gt; | stat1 &lt;dbl&gt; | stat2 &lt;dbl&gt; | methyl.status &lt;chr&gt; | region38 &lt;chr&gt; |\n",
       "|---|---|---|---|---|---|---|---|\n",
       "| 1 | 1 |  29194 |  29436 | -0.3396937 | -289.58630 | hypomethylated  | chr1:29194-29436   |\n",
       "| 2 | 1 |  51588 |  51682 | -0.1208693 |  -94.00083 | hypomethylated  | chr1:51588-51682   |\n",
       "| 3 | 1 | 600448 | 600499 | -0.1665657 |  -25.01982 | hypomethylated  | chr1:600448-600499 |\n",
       "| 4 | 1 | 631079 | 631359 |  0.2422400 |  177.16574 | hypermethylated | chr1:631079-631359 |\n",
       "| 5 | 1 | 631433 | 631500 |  0.2247558 |   35.21353 | hypermethylated | chr1:631433-631500 |\n",
       "| 6 | 1 | 631733 | 631859 |  0.1340444 |   34.67026 | hypermethylated | chr1:631733-631859 |\n",
       "\n"
      ],
      "text/plain": [
       "  chr start38 end38  stat1      stat2      methyl.status   region38          \n",
       "1 1    29194   29436 -0.3396937 -289.58630 hypomethylated  chr1:29194-29436  \n",
       "2 1    51588   51682 -0.1208693  -94.00083 hypomethylated  chr1:51588-51682  \n",
       "3 1   600448  600499 -0.1665657  -25.01982 hypomethylated  chr1:600448-600499\n",
       "4 1   631079  631359  0.2422400  177.16574 hypermethylated chr1:631079-631359\n",
       "5 1   631433  631500  0.2247558   35.21353 hypermethylated chr1:631433-631500\n",
       "6 1   631733  631859  0.1340444   34.67026 hypermethylated chr1:631733-631859"
      ]
     },
     "metadata": {},
     "output_type": "display_data"
    }
   ],
   "source": [
    "# hg38 coords\n",
    "df_zhao = read.csv(file=\"./marker_collation/Zhao_2020_DMRs_coords.csv\", header=FALSE)\n",
    "colnames(df_zhao) <- c(\"chr\", \"start38\", \"end38\", \"stat1\", \"stat2\", \"methyl.status\")\n",
    "df_zhao$region38 = paste0(\"chr\",df_zhao$chr,\":\",df_zhao$start,\"-\",df_zhao$end)\n",
    "nrow(df_zhao)\n",
    "head(df_zhao)"
   ]
  },
  {
   "cell_type": "code",
   "execution_count": 126,
   "id": "cb73a80f",
   "metadata": {},
   "outputs": [
    {
     "data": {
      "text/html": [
       "103318"
      ],
      "text/latex": [
       "103318"
      ],
      "text/markdown": [
       "103318"
      ],
      "text/plain": [
       "[1] 103318"
      ]
     },
     "metadata": {},
     "output_type": "display_data"
    },
    {
     "data": {
      "text/html": [
       "<table class=\"dataframe\">\n",
       "<caption>A data.frame: 6 × 4</caption>\n",
       "<thead>\n",
       "\t<tr><th></th><th scope=col>chr</th><th scope=col>start19</th><th scope=col>end19</th><th scope=col>region19</th></tr>\n",
       "\t<tr><th></th><th scope=col>&lt;chr&gt;</th><th scope=col>&lt;int&gt;</th><th scope=col>&lt;int&gt;</th><th scope=col>&lt;chr&gt;</th></tr>\n",
       "</thead>\n",
       "<tbody>\n",
       "\t<tr><th scope=row>1</th><td>chr1</td><td> 29194</td><td> 29436</td><td>chr1:29194-29436  </td></tr>\n",
       "\t<tr><th scope=row>2</th><td>chr1</td><td> 51588</td><td> 51682</td><td>chr1:51588-51682  </td></tr>\n",
       "\t<tr><th scope=row>3</th><td>chr1</td><td>535828</td><td>535879</td><td>chr1:535828-535879</td></tr>\n",
       "\t<tr><th scope=row>4</th><td>chr1</td><td>566459</td><td>566739</td><td>chr1:566459-566739</td></tr>\n",
       "\t<tr><th scope=row>5</th><td>chr1</td><td>566813</td><td>566880</td><td>chr1:566813-566880</td></tr>\n",
       "\t<tr><th scope=row>6</th><td>chr1</td><td>567113</td><td>567239</td><td>chr1:567113-567239</td></tr>\n",
       "</tbody>\n",
       "</table>\n"
      ],
      "text/latex": [
       "A data.frame: 6 × 4\n",
       "\\begin{tabular}{r|llll}\n",
       "  & chr & start19 & end19 & region19\\\\\n",
       "  & <chr> & <int> & <int> & <chr>\\\\\n",
       "\\hline\n",
       "\t1 & chr1 &  29194 &  29436 & chr1:29194-29436  \\\\\n",
       "\t2 & chr1 &  51588 &  51682 & chr1:51588-51682  \\\\\n",
       "\t3 & chr1 & 535828 & 535879 & chr1:535828-535879\\\\\n",
       "\t4 & chr1 & 566459 & 566739 & chr1:566459-566739\\\\\n",
       "\t5 & chr1 & 566813 & 566880 & chr1:566813-566880\\\\\n",
       "\t6 & chr1 & 567113 & 567239 & chr1:567113-567239\\\\\n",
       "\\end{tabular}\n"
      ],
      "text/markdown": [
       "\n",
       "A data.frame: 6 × 4\n",
       "\n",
       "| <!--/--> | chr &lt;chr&gt; | start19 &lt;int&gt; | end19 &lt;int&gt; | region19 &lt;chr&gt; |\n",
       "|---|---|---|---|---|\n",
       "| 1 | chr1 |  29194 |  29436 | chr1:29194-29436   |\n",
       "| 2 | chr1 |  51588 |  51682 | chr1:51588-51682   |\n",
       "| 3 | chr1 | 535828 | 535879 | chr1:535828-535879 |\n",
       "| 4 | chr1 | 566459 | 566739 | chr1:566459-566739 |\n",
       "| 5 | chr1 | 566813 | 566880 | chr1:566813-566880 |\n",
       "| 6 | chr1 | 567113 | 567239 | chr1:567113-567239 |\n",
       "\n"
      ],
      "text/plain": [
       "  chr  start19 end19  region19          \n",
       "1 chr1  29194   29436 chr1:29194-29436  \n",
       "2 chr1  51588   51682 chr1:51588-51682  \n",
       "3 chr1 535828  535879 chr1:535828-535879\n",
       "4 chr1 566459  566739 chr1:566459-566739\n",
       "5 chr1 566813  566880 chr1:566813-566880\n",
       "6 chr1 567113  567239 chr1:567113-567239"
      ]
     },
     "metadata": {},
     "output_type": "display_data"
    },
    {
     "data": {
      "text/html": [
       "2664"
      ],
      "text/latex": [
       "2664"
      ],
      "text/markdown": [
       "2664"
      ],
      "text/plain": [
       "[1] 2664"
      ]
     },
     "metadata": {},
     "output_type": "display_data"
    },
    {
     "data": {
      "text/html": [
       "103318"
      ],
      "text/latex": [
       "103318"
      ],
      "text/markdown": [
       "103318"
      ],
      "text/plain": [
       "[1] 103318"
      ]
     },
     "metadata": {},
     "output_type": "display_data"
    },
    {
     "data": {
      "text/html": [
       "<table class=\"dataframe\">\n",
       "<caption>A data.frame: 6 × 7</caption>\n",
       "<thead>\n",
       "\t<tr><th></th><th scope=col>chr</th><th scope=col>start38</th><th scope=col>end38</th><th scope=col>stat1</th><th scope=col>stat2</th><th scope=col>methyl.status</th><th scope=col>region38</th></tr>\n",
       "\t<tr><th></th><th scope=col>&lt;int&gt;</th><th scope=col>&lt;int&gt;</th><th scope=col>&lt;int&gt;</th><th scope=col>&lt;dbl&gt;</th><th scope=col>&lt;dbl&gt;</th><th scope=col>&lt;chr&gt;</th><th scope=col>&lt;chr&gt;</th></tr>\n",
       "</thead>\n",
       "<tbody>\n",
       "\t<tr><th scope=row>1</th><td>1</td><td> 29194</td><td> 29436</td><td>-0.3396937</td><td>-289.58630</td><td>hypomethylated </td><td>chr1:29194-29436  </td></tr>\n",
       "\t<tr><th scope=row>2</th><td>1</td><td> 51588</td><td> 51682</td><td>-0.1208693</td><td> -94.00083</td><td>hypomethylated </td><td>chr1:51588-51682  </td></tr>\n",
       "\t<tr><th scope=row>3</th><td>1</td><td>600448</td><td>600499</td><td>-0.1665657</td><td> -25.01982</td><td>hypomethylated </td><td>chr1:600448-600499</td></tr>\n",
       "\t<tr><th scope=row>4</th><td>1</td><td>631079</td><td>631359</td><td> 0.2422400</td><td> 177.16574</td><td>hypermethylated</td><td>chr1:631079-631359</td></tr>\n",
       "\t<tr><th scope=row>5</th><td>1</td><td>631433</td><td>631500</td><td> 0.2247558</td><td>  35.21353</td><td>hypermethylated</td><td>chr1:631433-631500</td></tr>\n",
       "\t<tr><th scope=row>6</th><td>1</td><td>631733</td><td>631859</td><td> 0.1340444</td><td>  34.67026</td><td>hypermethylated</td><td>chr1:631733-631859</td></tr>\n",
       "</tbody>\n",
       "</table>\n"
      ],
      "text/latex": [
       "A data.frame: 6 × 7\n",
       "\\begin{tabular}{r|lllllll}\n",
       "  & chr & start38 & end38 & stat1 & stat2 & methyl.status & region38\\\\\n",
       "  & <int> & <int> & <int> & <dbl> & <dbl> & <chr> & <chr>\\\\\n",
       "\\hline\n",
       "\t1 & 1 &  29194 &  29436 & -0.3396937 & -289.58630 & hypomethylated  & chr1:29194-29436  \\\\\n",
       "\t2 & 1 &  51588 &  51682 & -0.1208693 &  -94.00083 & hypomethylated  & chr1:51588-51682  \\\\\n",
       "\t3 & 1 & 600448 & 600499 & -0.1665657 &  -25.01982 & hypomethylated  & chr1:600448-600499\\\\\n",
       "\t4 & 1 & 631079 & 631359 &  0.2422400 &  177.16574 & hypermethylated & chr1:631079-631359\\\\\n",
       "\t5 & 1 & 631433 & 631500 &  0.2247558 &   35.21353 & hypermethylated & chr1:631433-631500\\\\\n",
       "\t6 & 1 & 631733 & 631859 &  0.1340444 &   34.67026 & hypermethylated & chr1:631733-631859\\\\\n",
       "\\end{tabular}\n"
      ],
      "text/markdown": [
       "\n",
       "A data.frame: 6 × 7\n",
       "\n",
       "| <!--/--> | chr &lt;int&gt; | start38 &lt;int&gt; | end38 &lt;int&gt; | stat1 &lt;dbl&gt; | stat2 &lt;dbl&gt; | methyl.status &lt;chr&gt; | region38 &lt;chr&gt; |\n",
       "|---|---|---|---|---|---|---|---|\n",
       "| 1 | 1 |  29194 |  29436 | -0.3396937 | -289.58630 | hypomethylated  | chr1:29194-29436   |\n",
       "| 2 | 1 |  51588 |  51682 | -0.1208693 |  -94.00083 | hypomethylated  | chr1:51588-51682   |\n",
       "| 3 | 1 | 600448 | 600499 | -0.1665657 |  -25.01982 | hypomethylated  | chr1:600448-600499 |\n",
       "| 4 | 1 | 631079 | 631359 |  0.2422400 |  177.16574 | hypermethylated | chr1:631079-631359 |\n",
       "| 5 | 1 | 631433 | 631500 |  0.2247558 |   35.21353 | hypermethylated | chr1:631433-631500 |\n",
       "| 6 | 1 | 631733 | 631859 |  0.1340444 |   34.67026 | hypermethylated | chr1:631733-631859 |\n",
       "\n"
      ],
      "text/plain": [
       "  chr start38 end38  stat1      stat2      methyl.status   region38          \n",
       "1 1    29194   29436 -0.3396937 -289.58630 hypomethylated  chr1:29194-29436  \n",
       "2 1    51588   51682 -0.1208693  -94.00083 hypomethylated  chr1:51588-51682  \n",
       "3 1   600448  600499 -0.1665657  -25.01982 hypomethylated  chr1:600448-600499\n",
       "4 1   631079  631359  0.2422400  177.16574 hypermethylated chr1:631079-631359\n",
       "5 1   631433  631500  0.2247558   35.21353 hypermethylated chr1:631433-631500\n",
       "6 1   631733  631859  0.1340444   34.67026 hypermethylated chr1:631733-631859"
      ]
     },
     "metadata": {},
     "output_type": "display_data"
    }
   ],
   "source": [
    "# merge web lift over to hg19 ** make sure to select output only 1 match per region **\n",
    "# output hg19 regions\n",
    "df_hg19_LO = read.table(file=\"./marker_collation/Zhao_hglft_toHG19_genome_bee7_df2600.bed\", header=FALSE, sep=\"\\t\")\n",
    "colnames(df_hg19_LO) <- c(\"chr\",\"start19\",\"end19\")\n",
    "df_hg19_LO$region19 = paste0(df_hg19_LO$chr,\":\",df_hg19_LO$start19,\"-\",df_hg19_LO$end19)\n",
    "nrow(df_hg19_LO)\n",
    "head(df_hg19_LO)\n",
    "\n",
    "# original hg38 regionsn that dont lift over\n",
    "df_hg19_LO_err = read.table(file=\"./marker_collation/Zhao_hglft_toHG19_genome_bee7_df2600.err.txt\", header=FALSE, sep=\"\\t\")\n",
    "colnames(df_hg19_LO_err) <- c(\"chr38\",\"start38\",\"end38\")\n",
    "df_hg19_LO_err$region38 = paste0(df_hg19_LO_err$chr38,\":\",df_hg19_LO_err$start38,\"-\",df_hg19_LO_err$end38)\n",
    "nrow(df_hg19_LO_err)\n",
    "stopifnot(nrow(df_hg19_LO)+nrow(df_hg19_LO_err)==nrow(df_zhao)) #106248\n",
    "\n",
    "# drop regions without lift over coords\n",
    "df_zhao_hg19 = df_zhao\n",
    "for (reg in df_hg19_LO_err$region38){\n",
    "    df_zhao_hg19 = df_zhao_hg19[(df_zhao_hg19$region38 != reg),]\n",
    "}\n",
    "\n",
    "nrow(df_zhao_hg19)\n",
    "head(df_zhao_hg19)\n",
    "\n",
    "if (nrow(df_zhao_hg19)!=nrow(df_hg19_LO)){\n",
    "    print(nrow(df_zhao_hg19))\n",
    "    print(nrow(df_hg19_LO))\n",
    "    stop()\n",
    "}"
   ]
  },
  {
   "cell_type": "code",
   "execution_count": 128,
   "id": "a82956d6",
   "metadata": {},
   "outputs": [
    {
     "data": {
      "text/html": [
       "<table class=\"dataframe\">\n",
       "<caption>A data.frame: 6 × 14</caption>\n",
       "<thead>\n",
       "\t<tr><th></th><th scope=col>chr</th><th scope=col>start38</th><th scope=col>end38</th><th scope=col>stat1</th><th scope=col>stat2</th><th scope=col>methyl.status</th><th scope=col>region38</th><th scope=col>region19</th><th scope=col>chr19</th><th scope=col>start19</th><th scope=col>end19</th><th scope=col>source</th><th scope=col>start</th><th scope=col>end</th></tr>\n",
       "\t<tr><th></th><th scope=col>&lt;chr&gt;</th><th scope=col>&lt;int&gt;</th><th scope=col>&lt;int&gt;</th><th scope=col>&lt;dbl&gt;</th><th scope=col>&lt;dbl&gt;</th><th scope=col>&lt;chr&gt;</th><th scope=col>&lt;chr&gt;</th><th scope=col>&lt;chr&gt;</th><th scope=col>&lt;chr&gt;</th><th scope=col>&lt;chr&gt;</th><th scope=col>&lt;chr&gt;</th><th scope=col>&lt;chr&gt;</th><th scope=col>&lt;int&gt;</th><th scope=col>&lt;int&gt;</th></tr>\n",
       "</thead>\n",
       "<tbody>\n",
       "\t<tr><th scope=row>1</th><td>1</td><td> 29194</td><td> 29436</td><td>-0.3396937</td><td>-289.58630</td><td>hypomethylated </td><td>chr1:29194-29436  </td><td>chr1:29194-29436  </td><td>chr1</td><td>29194 </td><td>29436 </td><td>Zhao et al 2020</td><td> 29194</td><td> 29436</td></tr>\n",
       "\t<tr><th scope=row>2</th><td>1</td><td> 51588</td><td> 51682</td><td>-0.1208693</td><td> -94.00083</td><td>hypomethylated </td><td>chr1:51588-51682  </td><td>chr1:51588-51682  </td><td>chr1</td><td>51588 </td><td>51682 </td><td>Zhao et al 2020</td><td> 51588</td><td> 51682</td></tr>\n",
       "\t<tr><th scope=row>3</th><td>1</td><td>600448</td><td>600499</td><td>-0.1665657</td><td> -25.01982</td><td>hypomethylated </td><td>chr1:600448-600499</td><td>chr1:535828-535879</td><td>chr1</td><td>535828</td><td>535879</td><td>Zhao et al 2020</td><td>535828</td><td>535879</td></tr>\n",
       "\t<tr><th scope=row>4</th><td>1</td><td>631079</td><td>631359</td><td> 0.2422400</td><td> 177.16574</td><td>hypermethylated</td><td>chr1:631079-631359</td><td>chr1:566459-566739</td><td>chr1</td><td>566459</td><td>566739</td><td>Zhao et al 2020</td><td>566459</td><td>566739</td></tr>\n",
       "\t<tr><th scope=row>5</th><td>1</td><td>631433</td><td>631500</td><td> 0.2247558</td><td>  35.21353</td><td>hypermethylated</td><td>chr1:631433-631500</td><td>chr1:566813-566880</td><td>chr1</td><td>566813</td><td>566880</td><td>Zhao et al 2020</td><td>566813</td><td>566880</td></tr>\n",
       "\t<tr><th scope=row>6</th><td>1</td><td>631733</td><td>631859</td><td> 0.1340444</td><td>  34.67026</td><td>hypermethylated</td><td>chr1:631733-631859</td><td>chr1:567113-567239</td><td>chr1</td><td>567113</td><td>567239</td><td>Zhao et al 2020</td><td>567113</td><td>567239</td></tr>\n",
       "</tbody>\n",
       "</table>\n"
      ],
      "text/latex": [
       "A data.frame: 6 × 14\n",
       "\\begin{tabular}{r|llllllllllllll}\n",
       "  & chr & start38 & end38 & stat1 & stat2 & methyl.status & region38 & region19 & chr19 & start19 & end19 & source & start & end\\\\\n",
       "  & <chr> & <int> & <int> & <dbl> & <dbl> & <chr> & <chr> & <chr> & <chr> & <chr> & <chr> & <chr> & <int> & <int>\\\\\n",
       "\\hline\n",
       "\t1 & 1 &  29194 &  29436 & -0.3396937 & -289.58630 & hypomethylated  & chr1:29194-29436   & chr1:29194-29436   & chr1 & 29194  & 29436  & Zhao et al 2020 &  29194 &  29436\\\\\n",
       "\t2 & 1 &  51588 &  51682 & -0.1208693 &  -94.00083 & hypomethylated  & chr1:51588-51682   & chr1:51588-51682   & chr1 & 51588  & 51682  & Zhao et al 2020 &  51588 &  51682\\\\\n",
       "\t3 & 1 & 600448 & 600499 & -0.1665657 &  -25.01982 & hypomethylated  & chr1:600448-600499 & chr1:535828-535879 & chr1 & 535828 & 535879 & Zhao et al 2020 & 535828 & 535879\\\\\n",
       "\t4 & 1 & 631079 & 631359 &  0.2422400 &  177.16574 & hypermethylated & chr1:631079-631359 & chr1:566459-566739 & chr1 & 566459 & 566739 & Zhao et al 2020 & 566459 & 566739\\\\\n",
       "\t5 & 1 & 631433 & 631500 &  0.2247558 &   35.21353 & hypermethylated & chr1:631433-631500 & chr1:566813-566880 & chr1 & 566813 & 566880 & Zhao et al 2020 & 566813 & 566880\\\\\n",
       "\t6 & 1 & 631733 & 631859 &  0.1340444 &   34.67026 & hypermethylated & chr1:631733-631859 & chr1:567113-567239 & chr1 & 567113 & 567239 & Zhao et al 2020 & 567113 & 567239\\\\\n",
       "\\end{tabular}\n"
      ],
      "text/markdown": [
       "\n",
       "A data.frame: 6 × 14\n",
       "\n",
       "| <!--/--> | chr &lt;chr&gt; | start38 &lt;int&gt; | end38 &lt;int&gt; | stat1 &lt;dbl&gt; | stat2 &lt;dbl&gt; | methyl.status &lt;chr&gt; | region38 &lt;chr&gt; | region19 &lt;chr&gt; | chr19 &lt;chr&gt; | start19 &lt;chr&gt; | end19 &lt;chr&gt; | source &lt;chr&gt; | start &lt;int&gt; | end &lt;int&gt; |\n",
       "|---|---|---|---|---|---|---|---|---|---|---|---|---|---|---|\n",
       "| 1 | 1 |  29194 |  29436 | -0.3396937 | -289.58630 | hypomethylated  | chr1:29194-29436   | chr1:29194-29436   | chr1 | 29194  | 29436  | Zhao et al 2020 |  29194 |  29436 |\n",
       "| 2 | 1 |  51588 |  51682 | -0.1208693 |  -94.00083 | hypomethylated  | chr1:51588-51682   | chr1:51588-51682   | chr1 | 51588  | 51682  | Zhao et al 2020 |  51588 |  51682 |\n",
       "| 3 | 1 | 600448 | 600499 | -0.1665657 |  -25.01982 | hypomethylated  | chr1:600448-600499 | chr1:535828-535879 | chr1 | 535828 | 535879 | Zhao et al 2020 | 535828 | 535879 |\n",
       "| 4 | 1 | 631079 | 631359 |  0.2422400 |  177.16574 | hypermethylated | chr1:631079-631359 | chr1:566459-566739 | chr1 | 566459 | 566739 | Zhao et al 2020 | 566459 | 566739 |\n",
       "| 5 | 1 | 631433 | 631500 |  0.2247558 |   35.21353 | hypermethylated | chr1:631433-631500 | chr1:566813-566880 | chr1 | 566813 | 566880 | Zhao et al 2020 | 566813 | 566880 |\n",
       "| 6 | 1 | 631733 | 631859 |  0.1340444 |   34.67026 | hypermethylated | chr1:631733-631859 | chr1:567113-567239 | chr1 | 567113 | 567239 | Zhao et al 2020 | 567113 | 567239 |\n",
       "\n"
      ],
      "text/plain": [
       "  chr start38 end38  stat1      stat2      methyl.status   region38          \n",
       "1 1    29194   29436 -0.3396937 -289.58630 hypomethylated  chr1:29194-29436  \n",
       "2 1    51588   51682 -0.1208693  -94.00083 hypomethylated  chr1:51588-51682  \n",
       "3 1   600448  600499 -0.1665657  -25.01982 hypomethylated  chr1:600448-600499\n",
       "4 1   631079  631359  0.2422400  177.16574 hypermethylated chr1:631079-631359\n",
       "5 1   631433  631500  0.2247558   35.21353 hypermethylated chr1:631433-631500\n",
       "6 1   631733  631859  0.1340444   34.67026 hypermethylated chr1:631733-631859\n",
       "  region19           chr19 start19 end19  source          start  end   \n",
       "1 chr1:29194-29436   chr1  29194   29436  Zhao et al 2020  29194  29436\n",
       "2 chr1:51588-51682   chr1  51588   51682  Zhao et al 2020  51588  51682\n",
       "3 chr1:535828-535879 chr1  535828  535879 Zhao et al 2020 535828 535879\n",
       "4 chr1:566459-566739 chr1  566459  566739 Zhao et al 2020 566459 566739\n",
       "5 chr1:566813-566880 chr1  566813  566880 Zhao et al 2020 566813 566880\n",
       "6 chr1:567113-567239 chr1  567113  567239 Zhao et al 2020 567113 567239"
      ]
     },
     "metadata": {},
     "output_type": "display_data"
    },
    {
     "data": {
      "text/html": [
       "<table class=\"dataframe\">\n",
       "<caption>A data.frame: 6 × 14</caption>\n",
       "<thead>\n",
       "\t<tr><th></th><th scope=col>chr</th><th scope=col>start38</th><th scope=col>end38</th><th scope=col>stat1</th><th scope=col>stat2</th><th scope=col>methyl.status</th><th scope=col>region38</th><th scope=col>region19</th><th scope=col>chr19</th><th scope=col>start19</th><th scope=col>end19</th><th scope=col>source</th><th scope=col>start</th><th scope=col>end</th></tr>\n",
       "\t<tr><th></th><th scope=col>&lt;chr&gt;</th><th scope=col>&lt;int&gt;</th><th scope=col>&lt;int&gt;</th><th scope=col>&lt;dbl&gt;</th><th scope=col>&lt;dbl&gt;</th><th scope=col>&lt;chr&gt;</th><th scope=col>&lt;chr&gt;</th><th scope=col>&lt;chr&gt;</th><th scope=col>&lt;chr&gt;</th><th scope=col>&lt;chr&gt;</th><th scope=col>&lt;chr&gt;</th><th scope=col>&lt;chr&gt;</th><th scope=col>&lt;int&gt;</th><th scope=col>&lt;int&gt;</th></tr>\n",
       "</thead>\n",
       "<tbody>\n",
       "\t<tr><th scope=row>1</th><td>1</td><td> 29194</td><td> 29436</td><td>-0.3396937</td><td>-289.58630</td><td>hypomethylated </td><td>chr1:29194-29436  </td><td>chr1:29194-29436  </td><td>chr1</td><td>29194 </td><td>29436 </td><td>Zhao et al 2020</td><td> 29194</td><td> 29436</td></tr>\n",
       "\t<tr><th scope=row>2</th><td>1</td><td> 51588</td><td> 51682</td><td>-0.1208693</td><td> -94.00083</td><td>hypomethylated </td><td>chr1:51588-51682  </td><td>chr1:51588-51682  </td><td>chr1</td><td>51588 </td><td>51682 </td><td>Zhao et al 2020</td><td> 51588</td><td> 51682</td></tr>\n",
       "\t<tr><th scope=row>3</th><td>1</td><td>600448</td><td>600499</td><td>-0.1665657</td><td> -25.01982</td><td>hypomethylated </td><td>chr1:600448-600499</td><td>chr1:535828-535879</td><td>chr1</td><td>535828</td><td>535879</td><td>Zhao et al 2020</td><td>535828</td><td>535879</td></tr>\n",
       "\t<tr><th scope=row>4</th><td>1</td><td>631079</td><td>631359</td><td> 0.2422400</td><td> 177.16574</td><td>hypermethylated</td><td>chr1:631079-631359</td><td>chr1:566459-566739</td><td>chr1</td><td>566459</td><td>566739</td><td>Zhao et al 2020</td><td>566459</td><td>566739</td></tr>\n",
       "\t<tr><th scope=row>5</th><td>1</td><td>631433</td><td>631500</td><td> 0.2247558</td><td>  35.21353</td><td>hypermethylated</td><td>chr1:631433-631500</td><td>chr1:566813-566880</td><td>chr1</td><td>566813</td><td>566880</td><td>Zhao et al 2020</td><td>566813</td><td>566880</td></tr>\n",
       "\t<tr><th scope=row>6</th><td>1</td><td>631733</td><td>631859</td><td> 0.1340444</td><td>  34.67026</td><td>hypermethylated</td><td>chr1:631733-631859</td><td>chr1:567113-567239</td><td>chr1</td><td>567113</td><td>567239</td><td>Zhao et al 2020</td><td>567113</td><td>567239</td></tr>\n",
       "</tbody>\n",
       "</table>\n"
      ],
      "text/latex": [
       "A data.frame: 6 × 14\n",
       "\\begin{tabular}{r|llllllllllllll}\n",
       "  & chr & start38 & end38 & stat1 & stat2 & methyl.status & region38 & region19 & chr19 & start19 & end19 & source & start & end\\\\\n",
       "  & <chr> & <int> & <int> & <dbl> & <dbl> & <chr> & <chr> & <chr> & <chr> & <chr> & <chr> & <chr> & <int> & <int>\\\\\n",
       "\\hline\n",
       "\t1 & 1 &  29194 &  29436 & -0.3396937 & -289.58630 & hypomethylated  & chr1:29194-29436   & chr1:29194-29436   & chr1 & 29194  & 29436  & Zhao et al 2020 &  29194 &  29436\\\\\n",
       "\t2 & 1 &  51588 &  51682 & -0.1208693 &  -94.00083 & hypomethylated  & chr1:51588-51682   & chr1:51588-51682   & chr1 & 51588  & 51682  & Zhao et al 2020 &  51588 &  51682\\\\\n",
       "\t3 & 1 & 600448 & 600499 & -0.1665657 &  -25.01982 & hypomethylated  & chr1:600448-600499 & chr1:535828-535879 & chr1 & 535828 & 535879 & Zhao et al 2020 & 535828 & 535879\\\\\n",
       "\t4 & 1 & 631079 & 631359 &  0.2422400 &  177.16574 & hypermethylated & chr1:631079-631359 & chr1:566459-566739 & chr1 & 566459 & 566739 & Zhao et al 2020 & 566459 & 566739\\\\\n",
       "\t5 & 1 & 631433 & 631500 &  0.2247558 &   35.21353 & hypermethylated & chr1:631433-631500 & chr1:566813-566880 & chr1 & 566813 & 566880 & Zhao et al 2020 & 566813 & 566880\\\\\n",
       "\t6 & 1 & 631733 & 631859 &  0.1340444 &   34.67026 & hypermethylated & chr1:631733-631859 & chr1:567113-567239 & chr1 & 567113 & 567239 & Zhao et al 2020 & 567113 & 567239\\\\\n",
       "\\end{tabular}\n"
      ],
      "text/markdown": [
       "\n",
       "A data.frame: 6 × 14\n",
       "\n",
       "| <!--/--> | chr &lt;chr&gt; | start38 &lt;int&gt; | end38 &lt;int&gt; | stat1 &lt;dbl&gt; | stat2 &lt;dbl&gt; | methyl.status &lt;chr&gt; | region38 &lt;chr&gt; | region19 &lt;chr&gt; | chr19 &lt;chr&gt; | start19 &lt;chr&gt; | end19 &lt;chr&gt; | source &lt;chr&gt; | start &lt;int&gt; | end &lt;int&gt; |\n",
       "|---|---|---|---|---|---|---|---|---|---|---|---|---|---|---|\n",
       "| 1 | 1 |  29194 |  29436 | -0.3396937 | -289.58630 | hypomethylated  | chr1:29194-29436   | chr1:29194-29436   | chr1 | 29194  | 29436  | Zhao et al 2020 |  29194 |  29436 |\n",
       "| 2 | 1 |  51588 |  51682 | -0.1208693 |  -94.00083 | hypomethylated  | chr1:51588-51682   | chr1:51588-51682   | chr1 | 51588  | 51682  | Zhao et al 2020 |  51588 |  51682 |\n",
       "| 3 | 1 | 600448 | 600499 | -0.1665657 |  -25.01982 | hypomethylated  | chr1:600448-600499 | chr1:535828-535879 | chr1 | 535828 | 535879 | Zhao et al 2020 | 535828 | 535879 |\n",
       "| 4 | 1 | 631079 | 631359 |  0.2422400 |  177.16574 | hypermethylated | chr1:631079-631359 | chr1:566459-566739 | chr1 | 566459 | 566739 | Zhao et al 2020 | 566459 | 566739 |\n",
       "| 5 | 1 | 631433 | 631500 |  0.2247558 |   35.21353 | hypermethylated | chr1:631433-631500 | chr1:566813-566880 | chr1 | 566813 | 566880 | Zhao et al 2020 | 566813 | 566880 |\n",
       "| 6 | 1 | 631733 | 631859 |  0.1340444 |   34.67026 | hypermethylated | chr1:631733-631859 | chr1:567113-567239 | chr1 | 567113 | 567239 | Zhao et al 2020 | 567113 | 567239 |\n",
       "\n"
      ],
      "text/plain": [
       "  chr start38 end38  stat1      stat2      methyl.status   region38          \n",
       "1 1    29194   29436 -0.3396937 -289.58630 hypomethylated  chr1:29194-29436  \n",
       "2 1    51588   51682 -0.1208693  -94.00083 hypomethylated  chr1:51588-51682  \n",
       "3 1   600448  600499 -0.1665657  -25.01982 hypomethylated  chr1:600448-600499\n",
       "4 1   631079  631359  0.2422400  177.16574 hypermethylated chr1:631079-631359\n",
       "5 1   631433  631500  0.2247558   35.21353 hypermethylated chr1:631433-631500\n",
       "6 1   631733  631859  0.1340444   34.67026 hypermethylated chr1:631733-631859\n",
       "  region19           chr19 start19 end19  source          start  end   \n",
       "1 chr1:29194-29436   chr1  29194   29436  Zhao et al 2020  29194  29436\n",
       "2 chr1:51588-51682   chr1  51588   51682  Zhao et al 2020  51588  51682\n",
       "3 chr1:535828-535879 chr1  535828  535879 Zhao et al 2020 535828 535879\n",
       "4 chr1:566459-566739 chr1  566459  566739 Zhao et al 2020 566459 566739\n",
       "5 chr1:566813-566880 chr1  566813  566880 Zhao et al 2020 566813 566880\n",
       "6 chr1:567113-567239 chr1  567113  567239 Zhao et al 2020 567113 567239"
      ]
     },
     "metadata": {},
     "output_type": "display_data"
    }
   ],
   "source": [
    "df_zhao_hg19$region19 <- df_hg19_LO$region19\n",
    "df_zhao_hg19$chr19 <- sapply(strsplit(df_zhao_hg19$region19, \":|-\"),\"[\", 1)\n",
    "df_zhao_hg19$start19 <- sapply(strsplit(df_zhao_hg19$region19, \":|-\"),\"[\", 2)\n",
    "df_zhao_hg19$end19 <- sapply(strsplit(df_zhao_hg19$region19, \":|-\"),\"[\", 3)\n",
    "df_zhao_hg19$source <- \"Zhao et al 2020\"\n",
    "head(df_zhao_hg19)\n",
    "\n",
    "df_zhao_hg19$chr <- sapply(strsplit(df_zhao_hg19$chr19, \"chr\"), \"[\", 2)\n",
    "df_zhao_hg19$start <- as.integer(df_zhao_hg19$start19)\n",
    "df_zhao_hg19$end <- as.integer(df_zhao_hg19$end19)\n",
    "\n",
    "head(df_zhao_hg19)"
   ]
  },
  {
   "cell_type": "code",
   "execution_count": 129,
   "id": "c50d3120",
   "metadata": {},
   "outputs": [],
   "source": [
    "write.table(df_zhao_hg19[,c(\"chr\", \"start\", \"end\", \"source\",\"methyl.status\")], \n",
    "            sep=\"\\t\",row.names=FALSE, col.names=FALSE, quote=FALSE, file=\"./marker_collation/Zhao_2020_DMRs_hg19.tsv\")"
   ]
  },
  {
   "cell_type": "markdown",
   "id": "f7cb425e",
   "metadata": {},
   "source": [
    "## annotate Beltran regions"
   ]
  },
  {
   "cell_type": "code",
   "execution_count": 67,
   "id": "78707547",
   "metadata": {},
   "outputs": [
    {
     "data": {
      "text/html": [
       "<table class=\"dataframe\">\n",
       "<caption>A data.frame: 6 × 12</caption>\n",
       "<thead>\n",
       "\t<tr><th></th><th scope=col>chr</th><th scope=col>X</th><th scope=col>end</th><th scope=col>rockermeth.q_value</th><th scope=col>beta_difference</th><th scope=col>meth.state</th><th scope=col>DMR_set</th><th scope=col>region</th><th scope=col>hg38.coord</th><th scope=col>X.1</th><th scope=col>X.2</th><th scope=col>X.3</th></tr>\n",
       "\t<tr><th></th><th scope=col>&lt;chr&gt;</th><th scope=col>&lt;int&gt;</th><th scope=col>&lt;int&gt;</th><th scope=col>&lt;dbl&gt;</th><th scope=col>&lt;dbl&gt;</th><th scope=col>&lt;chr&gt;</th><th scope=col>&lt;chr&gt;</th><th scope=col>&lt;chr&gt;</th><th scope=col>&lt;lgl&gt;</th><th scope=col>&lt;lgl&gt;</th><th scope=col>&lt;lgl&gt;</th><th scope=col>&lt;chr&gt;</th></tr>\n",
       "</thead>\n",
       "<tbody>\n",
       "\t<tr><th scope=row>1</th><td>chr1</td><td>833806</td><td>834358</td><td>0.0038710350</td><td> 30.95833</td><td>Hyper-methylated</td><td>PCa|NT DMRs</td><td>chr1:833806-834358</td><td>NA</td><td>NA</td><td>NA</td><td></td></tr>\n",
       "\t<tr><th scope=row>2</th><td>chr1</td><td>841565</td><td>843221</td><td>0.0002034520</td><td> 48.13401</td><td>Hyper-methylated</td><td>PCa|NT DMRs</td><td>chr1:841565-843221</td><td>NA</td><td>NA</td><td>NA</td><td></td></tr>\n",
       "\t<tr><th scope=row>3</th><td>chr1</td><td>861132</td><td>861612</td><td>0.0000000012</td><td> 27.45051</td><td>Hyper-methylated</td><td>PCa|NT DMRs</td><td>chr1:861132-861612</td><td>NA</td><td>NA</td><td>NA</td><td></td></tr>\n",
       "\t<tr><th scope=row>4</th><td>chr1</td><td>863044</td><td>863496</td><td>0.0006457100</td><td>-46.40476</td><td>Hypo-methylated </td><td>PCa|NT DMRs</td><td>chr1:863044-863496</td><td>NA</td><td>NA</td><td>NA</td><td></td></tr>\n",
       "\t<tr><th scope=row>5</th><td>chr1</td><td>868475</td><td>869290</td><td>0.0005530510</td><td>-36.01151</td><td>Hypo-methylated </td><td>PCa|NT DMRs</td><td>chr1:868475-869290</td><td>NA</td><td>NA</td><td>NA</td><td></td></tr>\n",
       "\t<tr><th scope=row>6</th><td>chr1</td><td>906156</td><td>907273</td><td>0.0000205000</td><td> 24.38440</td><td>Hyper-methylated</td><td>PCa|NT DMRs</td><td>chr1:906156-907273</td><td>NA</td><td>NA</td><td>NA</td><td></td></tr>\n",
       "</tbody>\n",
       "</table>\n"
      ],
      "text/latex": [
       "A data.frame: 6 × 12\n",
       "\\begin{tabular}{r|llllllllllll}\n",
       "  & chr & X & end & rockermeth.q\\_value & beta\\_difference & meth.state & DMR\\_set & region & hg38.coord & X.1 & X.2 & X.3\\\\\n",
       "  & <chr> & <int> & <int> & <dbl> & <dbl> & <chr> & <chr> & <chr> & <lgl> & <lgl> & <lgl> & <chr>\\\\\n",
       "\\hline\n",
       "\t1 & chr1 & 833806 & 834358 & 0.0038710350 &  30.95833 & Hyper-methylated & PCa\\textbar{}NT DMRs & chr1:833806-834358 & NA & NA & NA & \\\\\n",
       "\t2 & chr1 & 841565 & 843221 & 0.0002034520 &  48.13401 & Hyper-methylated & PCa\\textbar{}NT DMRs & chr1:841565-843221 & NA & NA & NA & \\\\\n",
       "\t3 & chr1 & 861132 & 861612 & 0.0000000012 &  27.45051 & Hyper-methylated & PCa\\textbar{}NT DMRs & chr1:861132-861612 & NA & NA & NA & \\\\\n",
       "\t4 & chr1 & 863044 & 863496 & 0.0006457100 & -46.40476 & Hypo-methylated  & PCa\\textbar{}NT DMRs & chr1:863044-863496 & NA & NA & NA & \\\\\n",
       "\t5 & chr1 & 868475 & 869290 & 0.0005530510 & -36.01151 & Hypo-methylated  & PCa\\textbar{}NT DMRs & chr1:868475-869290 & NA & NA & NA & \\\\\n",
       "\t6 & chr1 & 906156 & 907273 & 0.0000205000 &  24.38440 & Hyper-methylated & PCa\\textbar{}NT DMRs & chr1:906156-907273 & NA & NA & NA & \\\\\n",
       "\\end{tabular}\n"
      ],
      "text/markdown": [
       "\n",
       "A data.frame: 6 × 12\n",
       "\n",
       "| <!--/--> | chr &lt;chr&gt; | X &lt;int&gt; | end &lt;int&gt; | rockermeth.q_value &lt;dbl&gt; | beta_difference &lt;dbl&gt; | meth.state &lt;chr&gt; | DMR_set &lt;chr&gt; | region &lt;chr&gt; | hg38.coord &lt;lgl&gt; | X.1 &lt;lgl&gt; | X.2 &lt;lgl&gt; | X.3 &lt;chr&gt; |\n",
       "|---|---|---|---|---|---|---|---|---|---|---|---|---|\n",
       "| 1 | chr1 | 833806 | 834358 | 0.0038710350 |  30.95833 | Hyper-methylated | PCa|NT DMRs | chr1:833806-834358 | NA | NA | NA | <!----> |\n",
       "| 2 | chr1 | 841565 | 843221 | 0.0002034520 |  48.13401 | Hyper-methylated | PCa|NT DMRs | chr1:841565-843221 | NA | NA | NA | <!----> |\n",
       "| 3 | chr1 | 861132 | 861612 | 0.0000000012 |  27.45051 | Hyper-methylated | PCa|NT DMRs | chr1:861132-861612 | NA | NA | NA | <!----> |\n",
       "| 4 | chr1 | 863044 | 863496 | 0.0006457100 | -46.40476 | Hypo-methylated  | PCa|NT DMRs | chr1:863044-863496 | NA | NA | NA | <!----> |\n",
       "| 5 | chr1 | 868475 | 869290 | 0.0005530510 | -36.01151 | Hypo-methylated  | PCa|NT DMRs | chr1:868475-869290 | NA | NA | NA | <!----> |\n",
       "| 6 | chr1 | 906156 | 907273 | 0.0000205000 |  24.38440 | Hyper-methylated | PCa|NT DMRs | chr1:906156-907273 | NA | NA | NA | <!----> |\n",
       "\n"
      ],
      "text/plain": [
       "  chr  X      end    rockermeth.q_value beta_difference meth.state      \n",
       "1 chr1 833806 834358 0.0038710350        30.95833       Hyper-methylated\n",
       "2 chr1 841565 843221 0.0002034520        48.13401       Hyper-methylated\n",
       "3 chr1 861132 861612 0.0000000012        27.45051       Hyper-methylated\n",
       "4 chr1 863044 863496 0.0006457100       -46.40476       Hypo-methylated \n",
       "5 chr1 868475 869290 0.0005530510       -36.01151       Hypo-methylated \n",
       "6 chr1 906156 907273 0.0000205000        24.38440       Hyper-methylated\n",
       "  DMR_set     region             hg38.coord X.1 X.2 X.3\n",
       "1 PCa|NT DMRs chr1:833806-834358 NA         NA  NA     \n",
       "2 PCa|NT DMRs chr1:841565-843221 NA         NA  NA     \n",
       "3 PCa|NT DMRs chr1:861132-861612 NA         NA  NA     \n",
       "4 PCa|NT DMRs chr1:863044-863496 NA         NA  NA     \n",
       "5 PCa|NT DMRs chr1:868475-869290 NA         NA  NA     \n",
       "6 PCa|NT DMRs chr1:906156-907273 NA         NA  NA     "
      ]
     },
     "metadata": {},
     "output_type": "display_data"
    }
   ],
   "source": [
    "#hg19/gr37\n",
    "df_beltran_orig = read.csv(file=\"./marker_collation/Beltran_2020_DMRs.csv\", header=TRUE)\n",
    "df_beltran_orig = df_beltran_orig %>% rename(\"region\"=\"region..hg19.\")\n",
    "head(df_beltran_orig)\n"
   ]
  },
  {
   "cell_type": "code",
   "execution_count": 64,
   "id": "910750eb",
   "metadata": {},
   "outputs": [],
   "source": [
    "# merge web lift over to hg38\n",
    "# df_hg38_LO = read.table(file=\"./marker_collation//Beltran_hg38_LO_result.txt\", header=FALSE, sep=\"\\t\")\n",
    "# df_hg38_LO$region = paste0(df_hg38_LO$V1,\":\",df_hg38_LO$V2,\"-\",df_hg38_LO$V3)\n",
    "# head(df_hg38_LO)\n",
    "# df_hg38_LO_err = read.table(file=\"./marker_collation//Beltran_hg38_LO_errors.txt\", header=FALSE, sep=\"\\t\")\n",
    "# df_hg38_LO_err$region = paste0(df_hg38_LO_err$V1,\":\",df_hg38_LO_err$V2,\"-\",df_hg38_LO_err$V3)\n",
    "# head(df_hg38_LO_err)\n",
    "\n",
    "# drop regions without lift over coords\n",
    "# for (reg in df_hg38_LO_err$region){\n",
    "#     df_beltran_orig = df_beltran_orig[(df_beltran_orig$region != reg),]\n",
    "# }\n",
    "# dim(df_beltran_orig)\n",
    "\n",
    "# df_beltran_orig$region_hg38 <- df_hg38_LO$region\n",
    "# df_beltran_orig$chr_hg38 <- sapply(strsplit(df_beltran_orig$region_hg38, \":|-\"),\"[\", 1)\n",
    "# df_beltran_orig$start_hg38 <- sapply(strsplit(df_beltran_orig$region_hg38, \":|-\"),\"[\", 2)\n",
    "# df_beltran_orig$end_hg38 <- sapply(strsplit(df_beltran_orig$region_hg38, \":|-\"),\"[\", 3)\n",
    "# df_beltran_orig$source <- \"Beltran et al 2020\"\n",
    "# head(df_beltran_orig)\n",
    "\n",
    "# df_beltran_orig$chr_hg38 <- sapply(strsplit(df_beltran_orig$chr_hg38, \"chr\"), \"[\", 2)\n",
    "# df_beltran_orig$start_hg38 <- as.integer(df_beltran_orig$start_hg38)\n",
    "# df_beltran_orig$end_hg38 <- as.integer(df_beltran_orig$end_hg38)\n",
    "\n",
    "# head(df_beltran_orig)"
   ]
  },
  {
   "cell_type": "code",
   "execution_count": 68,
   "id": "a40903f5",
   "metadata": {},
   "outputs": [
    {
     "data": {
      "text/html": [
       "<table class=\"dataframe\">\n",
       "<caption>A data.frame: 6 × 15</caption>\n",
       "<thead>\n",
       "\t<tr><th></th><th scope=col>chr</th><th scope=col>X</th><th scope=col>end</th><th scope=col>rockermeth.q_value</th><th scope=col>beta_difference</th><th scope=col>meth.state</th><th scope=col>DMR_set</th><th scope=col>region</th><th scope=col>hg38.coord</th><th scope=col>X.1</th><th scope=col>X.2</th><th scope=col>X.3</th><th scope=col>name</th><th scope=col>score</th><th scope=col>strand</th></tr>\n",
       "\t<tr><th></th><th scope=col>&lt;chr&gt;</th><th scope=col>&lt;int&gt;</th><th scope=col>&lt;int&gt;</th><th scope=col>&lt;dbl&gt;</th><th scope=col>&lt;dbl&gt;</th><th scope=col>&lt;chr&gt;</th><th scope=col>&lt;chr&gt;</th><th scope=col>&lt;chr&gt;</th><th scope=col>&lt;lgl&gt;</th><th scope=col>&lt;lgl&gt;</th><th scope=col>&lt;lgl&gt;</th><th scope=col>&lt;chr&gt;</th><th scope=col>&lt;chr&gt;</th><th scope=col>&lt;chr&gt;</th><th scope=col>&lt;chr&gt;</th></tr>\n",
       "</thead>\n",
       "<tbody>\n",
       "\t<tr><th scope=row>1</th><td>chr1</td><td>833806</td><td>834358</td><td>0.0038710350</td><td> 30.95833</td><td>Hyper-methylated</td><td>PCa|NT DMRs</td><td>chr1:833806-834358</td><td>NA</td><td>NA</td><td>NA</td><td></td><td>.</td><td>.</td><td>.</td></tr>\n",
       "\t<tr><th scope=row>2</th><td>chr1</td><td>841565</td><td>843221</td><td>0.0002034520</td><td> 48.13401</td><td>Hyper-methylated</td><td>PCa|NT DMRs</td><td>chr1:841565-843221</td><td>NA</td><td>NA</td><td>NA</td><td></td><td>.</td><td>.</td><td>.</td></tr>\n",
       "\t<tr><th scope=row>3</th><td>chr1</td><td>861132</td><td>861612</td><td>0.0000000012</td><td> 27.45051</td><td>Hyper-methylated</td><td>PCa|NT DMRs</td><td>chr1:861132-861612</td><td>NA</td><td>NA</td><td>NA</td><td></td><td>.</td><td>.</td><td>.</td></tr>\n",
       "\t<tr><th scope=row>4</th><td>chr1</td><td>863044</td><td>863496</td><td>0.0006457100</td><td>-46.40476</td><td>Hypo-methylated </td><td>PCa|NT DMRs</td><td>chr1:863044-863496</td><td>NA</td><td>NA</td><td>NA</td><td></td><td>.</td><td>.</td><td>.</td></tr>\n",
       "\t<tr><th scope=row>5</th><td>chr1</td><td>868475</td><td>869290</td><td>0.0005530510</td><td>-36.01151</td><td>Hypo-methylated </td><td>PCa|NT DMRs</td><td>chr1:868475-869290</td><td>NA</td><td>NA</td><td>NA</td><td></td><td>.</td><td>.</td><td>.</td></tr>\n",
       "\t<tr><th scope=row>6</th><td>chr1</td><td>906156</td><td>907273</td><td>0.0000205000</td><td> 24.38440</td><td>Hyper-methylated</td><td>PCa|NT DMRs</td><td>chr1:906156-907273</td><td>NA</td><td>NA</td><td>NA</td><td></td><td>.</td><td>.</td><td>.</td></tr>\n",
       "</tbody>\n",
       "</table>\n"
      ],
      "text/latex": [
       "A data.frame: 6 × 15\n",
       "\\begin{tabular}{r|lllllllllllllll}\n",
       "  & chr & X & end & rockermeth.q\\_value & beta\\_difference & meth.state & DMR\\_set & region & hg38.coord & X.1 & X.2 & X.3 & name & score & strand\\\\\n",
       "  & <chr> & <int> & <int> & <dbl> & <dbl> & <chr> & <chr> & <chr> & <lgl> & <lgl> & <lgl> & <chr> & <chr> & <chr> & <chr>\\\\\n",
       "\\hline\n",
       "\t1 & chr1 & 833806 & 834358 & 0.0038710350 &  30.95833 & Hyper-methylated & PCa\\textbar{}NT DMRs & chr1:833806-834358 & NA & NA & NA &  & . & . & .\\\\\n",
       "\t2 & chr1 & 841565 & 843221 & 0.0002034520 &  48.13401 & Hyper-methylated & PCa\\textbar{}NT DMRs & chr1:841565-843221 & NA & NA & NA &  & . & . & .\\\\\n",
       "\t3 & chr1 & 861132 & 861612 & 0.0000000012 &  27.45051 & Hyper-methylated & PCa\\textbar{}NT DMRs & chr1:861132-861612 & NA & NA & NA &  & . & . & .\\\\\n",
       "\t4 & chr1 & 863044 & 863496 & 0.0006457100 & -46.40476 & Hypo-methylated  & PCa\\textbar{}NT DMRs & chr1:863044-863496 & NA & NA & NA &  & . & . & .\\\\\n",
       "\t5 & chr1 & 868475 & 869290 & 0.0005530510 & -36.01151 & Hypo-methylated  & PCa\\textbar{}NT DMRs & chr1:868475-869290 & NA & NA & NA &  & . & . & .\\\\\n",
       "\t6 & chr1 & 906156 & 907273 & 0.0000205000 &  24.38440 & Hyper-methylated & PCa\\textbar{}NT DMRs & chr1:906156-907273 & NA & NA & NA &  & . & . & .\\\\\n",
       "\\end{tabular}\n"
      ],
      "text/markdown": [
       "\n",
       "A data.frame: 6 × 15\n",
       "\n",
       "| <!--/--> | chr &lt;chr&gt; | X &lt;int&gt; | end &lt;int&gt; | rockermeth.q_value &lt;dbl&gt; | beta_difference &lt;dbl&gt; | meth.state &lt;chr&gt; | DMR_set &lt;chr&gt; | region &lt;chr&gt; | hg38.coord &lt;lgl&gt; | X.1 &lt;lgl&gt; | X.2 &lt;lgl&gt; | X.3 &lt;chr&gt; | name &lt;chr&gt; | score &lt;chr&gt; | strand &lt;chr&gt; |\n",
       "|---|---|---|---|---|---|---|---|---|---|---|---|---|---|---|---|\n",
       "| 1 | chr1 | 833806 | 834358 | 0.0038710350 |  30.95833 | Hyper-methylated | PCa|NT DMRs | chr1:833806-834358 | NA | NA | NA | <!----> | . | . | . |\n",
       "| 2 | chr1 | 841565 | 843221 | 0.0002034520 |  48.13401 | Hyper-methylated | PCa|NT DMRs | chr1:841565-843221 | NA | NA | NA | <!----> | . | . | . |\n",
       "| 3 | chr1 | 861132 | 861612 | 0.0000000012 |  27.45051 | Hyper-methylated | PCa|NT DMRs | chr1:861132-861612 | NA | NA | NA | <!----> | . | . | . |\n",
       "| 4 | chr1 | 863044 | 863496 | 0.0006457100 | -46.40476 | Hypo-methylated  | PCa|NT DMRs | chr1:863044-863496 | NA | NA | NA | <!----> | . | . | . |\n",
       "| 5 | chr1 | 868475 | 869290 | 0.0005530510 | -36.01151 | Hypo-methylated  | PCa|NT DMRs | chr1:868475-869290 | NA | NA | NA | <!----> | . | . | . |\n",
       "| 6 | chr1 | 906156 | 907273 | 0.0000205000 |  24.38440 | Hyper-methylated | PCa|NT DMRs | chr1:906156-907273 | NA | NA | NA | <!----> | . | . | . |\n",
       "\n"
      ],
      "text/plain": [
       "  chr  X      end    rockermeth.q_value beta_difference meth.state      \n",
       "1 chr1 833806 834358 0.0038710350        30.95833       Hyper-methylated\n",
       "2 chr1 841565 843221 0.0002034520        48.13401       Hyper-methylated\n",
       "3 chr1 861132 861612 0.0000000012        27.45051       Hyper-methylated\n",
       "4 chr1 863044 863496 0.0006457100       -46.40476       Hypo-methylated \n",
       "5 chr1 868475 869290 0.0005530510       -36.01151       Hypo-methylated \n",
       "6 chr1 906156 907273 0.0000205000        24.38440       Hyper-methylated\n",
       "  DMR_set     region             hg38.coord X.1 X.2 X.3 name score strand\n",
       "1 PCa|NT DMRs chr1:833806-834358 NA         NA  NA      .    .     .     \n",
       "2 PCa|NT DMRs chr1:841565-843221 NA         NA  NA      .    .     .     \n",
       "3 PCa|NT DMRs chr1:861132-861612 NA         NA  NA      .    .     .     \n",
       "4 PCa|NT DMRs chr1:863044-863496 NA         NA  NA      .    .     .     \n",
       "5 PCa|NT DMRs chr1:868475-869290 NA         NA  NA      .    .     .     \n",
       "6 PCa|NT DMRs chr1:906156-907273 NA         NA  NA      .    .     .     "
      ]
     },
     "metadata": {},
     "output_type": "display_data"
    }
   ],
   "source": [
    "df_beltran_orig$name <- \".\"\n",
    "df_beltran_orig$score <- \".\"\n",
    "df_beltran_orig$strand <- \".\"\n",
    "head(df_beltran_orig)"
   ]
  },
  {
   "cell_type": "code",
   "execution_count": 72,
   "id": "aa5e89f1",
   "metadata": {},
   "outputs": [],
   "source": [
    "df_beltran_orig$source <- \"Beltran et al 2020\"\n",
    "df_beltran_orig$start = df_beltran_orig$X\n",
    "df_beltran_orig <- df_beltran_orig[order(df_beltran_orig$chr, df_beltran_orig$start, df_beltran_orig$end),]"
   ]
  },
  {
   "cell_type": "code",
   "execution_count": 73,
   "id": "568c3190",
   "metadata": {},
   "outputs": [],
   "source": [
    "write.table(df_beltran_orig[,c(\"chr\", \"start\", \"end\", \"name\",\"score\",\"strand\",\"source\",\"meth.state\")], \n",
    "            sep=\"\\t\",row.names=FALSE, col.names=FALSE, quote=FALSE, file=\"./marker_collation/Beltran_2020_DMRs_hg19.bed\")"
   ]
  },
  {
   "cell_type": "markdown",
   "id": "4313d8a1",
   "metadata": {},
   "source": [
    "## retrieve coords for genes summary list"
   ]
  },
  {
   "cell_type": "code",
   "execution_count": 130,
   "id": "07811906",
   "metadata": {},
   "outputs": [
    {
     "data": {
      "text/html": [
       "<table class=\"dataframe\">\n",
       "<caption>A data.frame: 6 × 6</caption>\n",
       "<thead>\n",
       "\t<tr><th></th><th scope=col>region</th><th scope=col>Gene</th><th scope=col>probe</th><th scope=col>No..pubs</th><th scope=col>Source</th><th scope=col>note</th></tr>\n",
       "\t<tr><th></th><th scope=col>&lt;chr&gt;</th><th scope=col>&lt;chr&gt;</th><th scope=col>&lt;chr&gt;</th><th scope=col>&lt;int&gt;</th><th scope=col>&lt;chr&gt;</th><th scope=col>&lt;chr&gt;</th></tr>\n",
       "</thead>\n",
       "<tbody>\n",
       "\t<tr><th scope=row>1</th><td></td><td>CD24  </td><td></td><td>NA</td><td>Lu et al 2022       </td><td>hypermethylated                    </td></tr>\n",
       "\t<tr><th scope=row>2</th><td></td><td>TET2  </td><td></td><td> 1</td><td>Kukkonen et al. 2021</td><td>hypermethylated subtype            </td></tr>\n",
       "\t<tr><th scope=row>3</th><td></td><td>DNMT3B</td><td></td><td> 1</td><td>Kukkonen et al. 2021</td><td>hypermethylated subtype            </td></tr>\n",
       "\t<tr><th scope=row>4</th><td></td><td>IDH1  </td><td></td><td> 1</td><td>Kukkonen et al. 2021</td><td>hypermethylated subtype            </td></tr>\n",
       "\t<tr><th scope=row>5</th><td></td><td>BRAF  </td><td></td><td> 1</td><td>Kukkonen et al. 2021</td><td>hypermethylated subtype            </td></tr>\n",
       "\t<tr><th scope=row>6</th><td></td><td>AR    </td><td></td><td> 1</td><td>Kukkonen et al. 2021</td><td>hypermethylated intergenic regions </td></tr>\n",
       "</tbody>\n",
       "</table>\n"
      ],
      "text/latex": [
       "A data.frame: 6 × 6\n",
       "\\begin{tabular}{r|llllll}\n",
       "  & region & Gene & probe & No..pubs & Source & note\\\\\n",
       "  & <chr> & <chr> & <chr> & <int> & <chr> & <chr>\\\\\n",
       "\\hline\n",
       "\t1 &  & CD24   &  & NA & Lu et al 2022        & hypermethylated                    \\\\\n",
       "\t2 &  & TET2   &  &  1 & Kukkonen et al. 2021 & hypermethylated subtype            \\\\\n",
       "\t3 &  & DNMT3B &  &  1 & Kukkonen et al. 2021 & hypermethylated subtype            \\\\\n",
       "\t4 &  & IDH1   &  &  1 & Kukkonen et al. 2021 & hypermethylated subtype            \\\\\n",
       "\t5 &  & BRAF   &  &  1 & Kukkonen et al. 2021 & hypermethylated subtype            \\\\\n",
       "\t6 &  & AR     &  &  1 & Kukkonen et al. 2021 & hypermethylated intergenic regions \\\\\n",
       "\\end{tabular}\n"
      ],
      "text/markdown": [
       "\n",
       "A data.frame: 6 × 6\n",
       "\n",
       "| <!--/--> | region &lt;chr&gt; | Gene &lt;chr&gt; | probe &lt;chr&gt; | No..pubs &lt;int&gt; | Source &lt;chr&gt; | note &lt;chr&gt; |\n",
       "|---|---|---|---|---|---|---|\n",
       "| 1 | <!----> | CD24   | <!----> | NA | Lu et al 2022        | hypermethylated                     |\n",
       "| 2 | <!----> | TET2   | <!----> |  1 | Kukkonen et al. 2021 | hypermethylated subtype             |\n",
       "| 3 | <!----> | DNMT3B | <!----> |  1 | Kukkonen et al. 2021 | hypermethylated subtype             |\n",
       "| 4 | <!----> | IDH1   | <!----> |  1 | Kukkonen et al. 2021 | hypermethylated subtype             |\n",
       "| 5 | <!----> | BRAF   | <!----> |  1 | Kukkonen et al. 2021 | hypermethylated subtype             |\n",
       "| 6 | <!----> | AR     | <!----> |  1 | Kukkonen et al. 2021 | hypermethylated intergenic regions  |\n",
       "\n"
      ],
      "text/plain": [
       "  region Gene   probe No..pubs Source              \n",
       "1        CD24         NA       Lu et al 2022       \n",
       "2        TET2          1       Kukkonen et al. 2021\n",
       "3        DNMT3B        1       Kukkonen et al. 2021\n",
       "4        IDH1          1       Kukkonen et al. 2021\n",
       "5        BRAF          1       Kukkonen et al. 2021\n",
       "6        AR            1       Kukkonen et al. 2021\n",
       "  note                               \n",
       "1 hypermethylated                    \n",
       "2 hypermethylated subtype            \n",
       "3 hypermethylated subtype            \n",
       "4 hypermethylated subtype            \n",
       "5 hypermethylated subtype            \n",
       "6 hypermethylated intergenic regions "
      ]
     },
     "metadata": {},
     "output_type": "display_data"
    }
   ],
   "source": [
    "df_pubs = read.csv(file=\"./marker_collation/study_gene_regions.csv\", stringsAsFactors=FALSE)\n",
    "head(df_pubs)"
   ]
  },
  {
   "cell_type": "code",
   "execution_count": 131,
   "id": "92ffa6b6",
   "metadata": {},
   "outputs": [
    {
     "data": {
      "text/html": [
       "<style>\n",
       ".list-inline {list-style: none; margin:0; padding: 0}\n",
       ".list-inline>li {display: inline-block}\n",
       ".list-inline>li:not(:last-child)::after {content: \"\\00b7\"; padding: 0 .5ex}\n",
       "</style>\n",
       "<ol class=list-inline><li>7010</li><li>6</li></ol>\n"
      ],
      "text/latex": [
       "\\begin{enumerate*}\n",
       "\\item 7010\n",
       "\\item 6\n",
       "\\end{enumerate*}\n"
      ],
      "text/markdown": [
       "1. 7010\n",
       "2. 6\n",
       "\n",
       "\n"
      ],
      "text/plain": [
       "[1] 7010    6"
      ]
     },
     "metadata": {},
     "output_type": "display_data"
    },
    {
     "data": {
      "text/html": [
       "<style>\n",
       ".list-inline {list-style: none; margin:0; padding: 0}\n",
       ".list-inline>li {display: inline-block}\n",
       ".list-inline>li:not(:last-child)::after {content: \"\\00b7\"; padding: 0 .5ex}\n",
       "</style>\n",
       "<ol class=list-inline><li>5642</li><li>6</li></ol>\n"
      ],
      "text/latex": [
       "\\begin{enumerate*}\n",
       "\\item 5642\n",
       "\\item 6\n",
       "\\end{enumerate*}\n"
      ],
      "text/markdown": [
       "1. 5642\n",
       "2. 6\n",
       "\n",
       "\n"
      ],
      "text/plain": [
       "[1] 5642    6"
      ]
     },
     "metadata": {},
     "output_type": "display_data"
    },
    {
     "data": {
      "text/html": [
       "<style>\n",
       ".list-inline {list-style: none; margin:0; padding: 0}\n",
       ".list-inline>li {display: inline-block}\n",
       ".list-inline>li:not(:last-child)::after {content: \"\\00b7\"; padding: 0 .5ex}\n",
       "</style>\n",
       "<ol class=list-inline><li>27</li><li>6</li></ol>\n"
      ],
      "text/latex": [
       "\\begin{enumerate*}\n",
       "\\item 27\n",
       "\\item 6\n",
       "\\end{enumerate*}\n"
      ],
      "text/markdown": [
       "1. 27\n",
       "2. 6\n",
       "\n",
       "\n"
      ],
      "text/plain": [
       "[1] 27  6"
      ]
     },
     "metadata": {},
     "output_type": "display_data"
    },
    {
     "data": {
      "text/html": [
       "<style>\n",
       ".list-inline {list-style: none; margin:0; padding: 0}\n",
       ".list-inline>li {display: inline-block}\n",
       ".list-inline>li:not(:last-child)::after {content: \"\\00b7\"; padding: 0 .5ex}\n",
       "</style>\n",
       "<ol class=list-inline><li>5615</li><li>6</li></ol>\n"
      ],
      "text/latex": [
       "\\begin{enumerate*}\n",
       "\\item 5615\n",
       "\\item 6\n",
       "\\end{enumerate*}\n"
      ],
      "text/markdown": [
       "1. 5615\n",
       "2. 6\n",
       "\n",
       "\n"
      ],
      "text/plain": [
       "[1] 5615    6"
      ]
     },
     "metadata": {},
     "output_type": "display_data"
    }
   ],
   "source": [
    "# isolate probe entries\n",
    "df_pub_probes = df_pubs[df_pubs$probe != \"\",]\n",
    "dim(df_pub_probes)\n",
    "df_pub_genes = df_pubs[df_pubs$probe == \"\",]\n",
    "dim(df_pub_genes)\n",
    "df_pub_prom = df_pub_genes[df_pub_genes$region==\"promoter\",]\n",
    "dim(df_pub_prom)\n",
    "df_pub_genes = df_pub_genes[df_pub_genes$region==\"\",]\n",
    "dim(df_pub_genes)"
   ]
  },
  {
   "cell_type": "code",
   "execution_count": 255,
   "id": "f8f9a81a",
   "metadata": {},
   "outputs": [
    {
     "data": {
      "text/html": [
       "<table class=\"dataframe\">\n",
       "<caption>A data.frame: 6 × 52</caption>\n",
       "<thead>\n",
       "\t<tr><th></th><th scope=col>IlmnID</th><th scope=col>probe</th><th scope=col>AddressA_ID</th><th scope=col>AlleleA_ProbeSeq</th><th scope=col>AddressB_ID</th><th scope=col>AlleleB_ProbeSeq</th><th scope=col>Infinium_Design_Type</th><th scope=col>Next_Base</th><th scope=col>Color_Channel</th><th scope=col>Forward_Sequence</th><th scope=col>⋯</th><th scope=col>Coordinate_36</th><th scope=col>SNP_ID</th><th scope=col>SNP_DISTANCE</th><th scope=col>SNP_MinorAlleleFrequency</th><th scope=col>Random_Loci</th><th scope=col>MFG_Change_Flagged</th><th scope=col>CHR_hg38</th><th scope=col>Start_hg38</th><th scope=col>End_hg38</th><th scope=col>Strand_hg38</th></tr>\n",
       "\t<tr><th></th><th scope=col>&lt;chr&gt;</th><th scope=col>&lt;chr&gt;</th><th scope=col>&lt;chr&gt;</th><th scope=col>&lt;chr&gt;</th><th scope=col>&lt;chr&gt;</th><th scope=col>&lt;chr&gt;</th><th scope=col>&lt;chr&gt;</th><th scope=col>&lt;chr&gt;</th><th scope=col>&lt;chr&gt;</th><th scope=col>&lt;chr&gt;</th><th scope=col>⋯</th><th scope=col>&lt;chr&gt;</th><th scope=col>&lt;chr&gt;</th><th scope=col>&lt;chr&gt;</th><th scope=col>&lt;chr&gt;</th><th scope=col>&lt;lgl&gt;</th><th scope=col>&lt;lgl&gt;</th><th scope=col>&lt;chr&gt;</th><th scope=col>&lt;int&gt;</th><th scope=col>&lt;int&gt;</th><th scope=col>&lt;chr&gt;</th></tr>\n",
       "</thead>\n",
       "<tbody>\n",
       "\t<tr><th scope=row>1</th><td>cg07881041</td><td>cg07881041</td><td>0085713262</td><td>CTACAAATACAACACCCTCAACCCATATTTCATATATTATCTCATTTAAC</td><td>          </td><td>                                                  </td><td>II</td><td> </td><td>   </td><td>CTGCACGCCTACTGCAGGTGCAGCACCCTCAGCCCATGTTTCATGTATTATCTCATTTAA[CG]CATGTATCATCTCATTTAATGCATGCATTATCTCATTTAATTCTCACAACCCCTCAGGTG</td><td>⋯</td><td>5187016  </td><td>rs187313142            </td><td>18   </td><td>0.000200         </td><td>NA</td><td>FALSE</td><td>chr19</td><td>  5236004</td><td>  5236006</td><td>+</td></tr>\n",
       "\t<tr><th scope=row>2</th><td>cg18478105</td><td>cg18478105</td><td>0046761277</td><td>AAATAAATTTCACTCTCAAATCCCAATCTCATACAACAAAACAAAAACCA</td><td>0086644198</td><td>AAATAAATTTCGCTCTCAAATCCCAATCTCGTACGACGAAACGAAAACCG</td><td>I </td><td>C</td><td>Grn</td><td>TCCCGTCTTACGGGATGGATTTCGCTCTCAGGTCCCAGTCTCGTGCGGCGGGGCGGGGAC[CG]CAGCCGGCTGGGCGGGGAAGCCCTGAGCCGGGGAAGTCACGTGGGGCGTGTCCGGAGGCG</td><td>⋯</td><td>61318095 </td><td>rs549944121            </td><td>5    </td><td>0.001797         </td><td>NA</td><td>FALSE</td><td>chr20</td><td> 63216297</td><td> 63216299</td><td>+</td></tr>\n",
       "\t<tr><th scope=row>3</th><td>cg23229610</td><td>cg23229610</td><td>0021717843</td><td>ATAAAATTCTTTCCTTAAAAAACATTAAAACCAAAATAAACAAAAATTCC</td><td>          </td><td>                                                  </td><td>II</td><td> </td><td>   </td><td>GTTTCTGGACAGTAAAATTCTTTCCTTGAAGGACATTAGGGCCAAAATGGGCAAGGATTC[CG]AGATTGGTACATCGAGCGTTATCTTCCAACTCTCTTTTCTAAATGGGCTCATTTAGTAAT</td><td>⋯</td><td>6763712  </td><td>rs545824288;rs527255711</td><td>40;12</td><td>0.000200;0.001198</td><td>NA</td><td>FALSE</td><td>chr1 </td><td>  6781064</td><td>  6781066</td><td>+</td></tr>\n",
       "\t<tr><th scope=row>4</th><td>cg03513874</td><td>cg03513874</td><td>0029622133</td><td>ACAATAAAATAATAAAATCCCATCACTACTTACCCTCCTTAAATAATATC</td><td>          </td><td>                                                  </td><td>II</td><td> </td><td>   </td><td>ATTGTGCCCACCTTGCTGCTGACAGTTAAGCATCACTAAAGTAGGAAATAGGGTCCAAAC[CG]ACACTACTTAAGGAGGGCAAGTAGTGATGGGACCTCATCATCCCATTGCTATCATGGAGC</td><td>⋯</td><td>198011711</td><td>                       </td><td>     </td><td>                 </td><td>NA</td><td>FALSE</td><td>chr2 </td><td>197438741</td><td>197438743</td><td>-</td></tr>\n",
       "\t<tr><th scope=row>5</th><td>cg09835024</td><td>cg09835024</td><td>0016745152</td><td>AATAAACACCAACCCCAAACCAATCTCACTTTATTAAATTACAAAAATCA</td><td>0081631976</td><td>AATAAACGCCGACCCCGAACCGATCTCGCTTTATTAAATTACAAAAATCG</td><td>I </td><td>A</td><td>Red</td><td>AGCCCCGTCATAGGTGGGCGCCGACCCCGAGCCGATCTCGCTTTATTAAATTACAGAAAT[CG]GTATTCAAAAAAAAAAAAAAAAAAGGGCGGGGAGGACACTCCCTCTTCTCTGTTCCCACA</td><td>⋯</td><td>23982561 </td><td>                       </td><td>     </td><td>                 </td><td>NA</td><td>FALSE</td><td>chrX </td><td> 24054522</td><td> 24054524</td><td>+</td></tr>\n",
       "\t<tr><th scope=row>6</th><td>cg05451842</td><td>cg05451842</td><td>0016681196</td><td>CRTTCAAATACACTATAACCCRACTAAAAAAACCCCCAACAACCCAAAAC</td><td>          </td><td>                                                  </td><td>II</td><td> </td><td>   </td><td>CACAGCGTGGATGCCCCGATTTCCCAGGTCCCTCCGCAACCCTCAGTAGAACTCCCACCG[CG]CCCTGGGCTGCTGGGGGCCTCCCCAGCCGGGTCACAGTGCACCTGAACGCCCCGGTCCGT</td><td>⋯</td><td>92650892 </td><td>rs550745821            </td><td>22   </td><td>0.000200         </td><td>NA</td><td>FALSE</td><td>chr14</td><td> 93114793</td><td> 93114795</td><td>-</td></tr>\n",
       "</tbody>\n",
       "</table>\n"
      ],
      "text/latex": [
       "A data.frame: 6 × 52\n",
       "\\begin{tabular}{r|lllllllllllllllllllll}\n",
       "  & IlmnID & probe & AddressA\\_ID & AlleleA\\_ProbeSeq & AddressB\\_ID & AlleleB\\_ProbeSeq & Infinium\\_Design\\_Type & Next\\_Base & Color\\_Channel & Forward\\_Sequence & ⋯ & Coordinate\\_36 & SNP\\_ID & SNP\\_DISTANCE & SNP\\_MinorAlleleFrequency & Random\\_Loci & MFG\\_Change\\_Flagged & CHR\\_hg38 & Start\\_hg38 & End\\_hg38 & Strand\\_hg38\\\\\n",
       "  & <chr> & <chr> & <chr> & <chr> & <chr> & <chr> & <chr> & <chr> & <chr> & <chr> & ⋯ & <chr> & <chr> & <chr> & <chr> & <lgl> & <lgl> & <chr> & <int> & <int> & <chr>\\\\\n",
       "\\hline\n",
       "\t1 & cg07881041 & cg07881041 & 0085713262 & CTACAAATACAACACCCTCAACCCATATTTCATATATTATCTCATTTAAC &            &                                                    & II &   &     & CTGCACGCCTACTGCAGGTGCAGCACCCTCAGCCCATGTTTCATGTATTATCTCATTTAA{[}CG{]}CATGTATCATCTCATTTAATGCATGCATTATCTCATTTAATTCTCACAACCCCTCAGGTG & ⋯ & 5187016   & rs187313142             & 18    & 0.000200          & NA & FALSE & chr19 &   5236004 &   5236006 & +\\\\\n",
       "\t2 & cg18478105 & cg18478105 & 0046761277 & AAATAAATTTCACTCTCAAATCCCAATCTCATACAACAAAACAAAAACCA & 0086644198 & AAATAAATTTCGCTCTCAAATCCCAATCTCGTACGACGAAACGAAAACCG & I  & C & Grn & TCCCGTCTTACGGGATGGATTTCGCTCTCAGGTCCCAGTCTCGTGCGGCGGGGCGGGGAC{[}CG{]}CAGCCGGCTGGGCGGGGAAGCCCTGAGCCGGGGAAGTCACGTGGGGCGTGTCCGGAGGCG & ⋯ & 61318095  & rs549944121             & 5     & 0.001797          & NA & FALSE & chr20 &  63216297 &  63216299 & +\\\\\n",
       "\t3 & cg23229610 & cg23229610 & 0021717843 & ATAAAATTCTTTCCTTAAAAAACATTAAAACCAAAATAAACAAAAATTCC &            &                                                    & II &   &     & GTTTCTGGACAGTAAAATTCTTTCCTTGAAGGACATTAGGGCCAAAATGGGCAAGGATTC{[}CG{]}AGATTGGTACATCGAGCGTTATCTTCCAACTCTCTTTTCTAAATGGGCTCATTTAGTAAT & ⋯ & 6763712   & rs545824288;rs527255711 & 40;12 & 0.000200;0.001198 & NA & FALSE & chr1  &   6781064 &   6781066 & +\\\\\n",
       "\t4 & cg03513874 & cg03513874 & 0029622133 & ACAATAAAATAATAAAATCCCATCACTACTTACCCTCCTTAAATAATATC &            &                                                    & II &   &     & ATTGTGCCCACCTTGCTGCTGACAGTTAAGCATCACTAAAGTAGGAAATAGGGTCCAAAC{[}CG{]}ACACTACTTAAGGAGGGCAAGTAGTGATGGGACCTCATCATCCCATTGCTATCATGGAGC & ⋯ & 198011711 &                         &       &                   & NA & FALSE & chr2  & 197438741 & 197438743 & -\\\\\n",
       "\t5 & cg09835024 & cg09835024 & 0016745152 & AATAAACACCAACCCCAAACCAATCTCACTTTATTAAATTACAAAAATCA & 0081631976 & AATAAACGCCGACCCCGAACCGATCTCGCTTTATTAAATTACAAAAATCG & I  & A & Red & AGCCCCGTCATAGGTGGGCGCCGACCCCGAGCCGATCTCGCTTTATTAAATTACAGAAAT{[}CG{]}GTATTCAAAAAAAAAAAAAAAAAAGGGCGGGGAGGACACTCCCTCTTCTCTGTTCCCACA & ⋯ & 23982561  &                         &       &                   & NA & FALSE & chrX  &  24054522 &  24054524 & +\\\\\n",
       "\t6 & cg05451842 & cg05451842 & 0016681196 & CRTTCAAATACACTATAACCCRACTAAAAAAACCCCCAACAACCCAAAAC &            &                                                    & II &   &     & CACAGCGTGGATGCCCCGATTTCCCAGGTCCCTCCGCAACCCTCAGTAGAACTCCCACCG{[}CG{]}CCCTGGGCTGCTGGGGGCCTCCCCAGCCGGGTCACAGTGCACCTGAACGCCCCGGTCCGT & ⋯ & 92650892  & rs550745821             & 22    & 0.000200          & NA & FALSE & chr14 &  93114793 &  93114795 & -\\\\\n",
       "\\end{tabular}\n"
      ],
      "text/markdown": [
       "\n",
       "A data.frame: 6 × 52\n",
       "\n",
       "| <!--/--> | IlmnID &lt;chr&gt; | probe &lt;chr&gt; | AddressA_ID &lt;chr&gt; | AlleleA_ProbeSeq &lt;chr&gt; | AddressB_ID &lt;chr&gt; | AlleleB_ProbeSeq &lt;chr&gt; | Infinium_Design_Type &lt;chr&gt; | Next_Base &lt;chr&gt; | Color_Channel &lt;chr&gt; | Forward_Sequence &lt;chr&gt; | ⋯ ⋯ | Coordinate_36 &lt;chr&gt; | SNP_ID &lt;chr&gt; | SNP_DISTANCE &lt;chr&gt; | SNP_MinorAlleleFrequency &lt;chr&gt; | Random_Loci &lt;lgl&gt; | MFG_Change_Flagged &lt;lgl&gt; | CHR_hg38 &lt;chr&gt; | Start_hg38 &lt;int&gt; | End_hg38 &lt;int&gt; | Strand_hg38 &lt;chr&gt; |\n",
       "|---|---|---|---|---|---|---|---|---|---|---|---|---|---|---|---|---|---|---|---|---|---|\n",
       "| 1 | cg07881041 | cg07881041 | 0085713262 | CTACAAATACAACACCCTCAACCCATATTTCATATATTATCTCATTTAAC | <!----> | <!----> | II | <!----> | <!----> | CTGCACGCCTACTGCAGGTGCAGCACCCTCAGCCCATGTTTCATGTATTATCTCATTTAA[CG]CATGTATCATCTCATTTAATGCATGCATTATCTCATTTAATTCTCACAACCCCTCAGGTG | ⋯ | 5187016   | rs187313142             | 18    | 0.000200          | NA | FALSE | chr19 |   5236004 |   5236006 | + |\n",
       "| 2 | cg18478105 | cg18478105 | 0046761277 | AAATAAATTTCACTCTCAAATCCCAATCTCATACAACAAAACAAAAACCA | 0086644198 | AAATAAATTTCGCTCTCAAATCCCAATCTCGTACGACGAAACGAAAACCG | I  | C | Grn | TCCCGTCTTACGGGATGGATTTCGCTCTCAGGTCCCAGTCTCGTGCGGCGGGGCGGGGAC[CG]CAGCCGGCTGGGCGGGGAAGCCCTGAGCCGGGGAAGTCACGTGGGGCGTGTCCGGAGGCG | ⋯ | 61318095  | rs549944121             | 5     | 0.001797          | NA | FALSE | chr20 |  63216297 |  63216299 | + |\n",
       "| 3 | cg23229610 | cg23229610 | 0021717843 | ATAAAATTCTTTCCTTAAAAAACATTAAAACCAAAATAAACAAAAATTCC | <!----> | <!----> | II | <!----> | <!----> | GTTTCTGGACAGTAAAATTCTTTCCTTGAAGGACATTAGGGCCAAAATGGGCAAGGATTC[CG]AGATTGGTACATCGAGCGTTATCTTCCAACTCTCTTTTCTAAATGGGCTCATTTAGTAAT | ⋯ | 6763712   | rs545824288;rs527255711 | 40;12 | 0.000200;0.001198 | NA | FALSE | chr1  |   6781064 |   6781066 | + |\n",
       "| 4 | cg03513874 | cg03513874 | 0029622133 | ACAATAAAATAATAAAATCCCATCACTACTTACCCTCCTTAAATAATATC | <!----> | <!----> | II | <!----> | <!----> | ATTGTGCCCACCTTGCTGCTGACAGTTAAGCATCACTAAAGTAGGAAATAGGGTCCAAAC[CG]ACACTACTTAAGGAGGGCAAGTAGTGATGGGACCTCATCATCCCATTGCTATCATGGAGC | ⋯ | 198011711 | <!----> | <!----> | <!----> | NA | FALSE | chr2  | 197438741 | 197438743 | - |\n",
       "| 5 | cg09835024 | cg09835024 | 0016745152 | AATAAACACCAACCCCAAACCAATCTCACTTTATTAAATTACAAAAATCA | 0081631976 | AATAAACGCCGACCCCGAACCGATCTCGCTTTATTAAATTACAAAAATCG | I  | A | Red | AGCCCCGTCATAGGTGGGCGCCGACCCCGAGCCGATCTCGCTTTATTAAATTACAGAAAT[CG]GTATTCAAAAAAAAAAAAAAAAAAGGGCGGGGAGGACACTCCCTCTTCTCTGTTCCCACA | ⋯ | 23982561  | <!----> | <!----> | <!----> | NA | FALSE | chrX  |  24054522 |  24054524 | + |\n",
       "| 6 | cg05451842 | cg05451842 | 0016681196 | CRTTCAAATACACTATAACCCRACTAAAAAAACCCCCAACAACCCAAAAC | <!----> | <!----> | II | <!----> | <!----> | CACAGCGTGGATGCCCCGATTTCCCAGGTCCCTCCGCAACCCTCAGTAGAACTCCCACCG[CG]CCCTGGGCTGCTGGGGGCCTCCCCAGCCGGGTCACAGTGCACCTGAACGCCCCGGTCCGT | ⋯ | 92650892  | rs550745821             | 22    | 0.000200          | NA | FALSE | chr14 |  93114793 |  93114795 | - |\n",
       "\n"
      ],
      "text/plain": [
       "  IlmnID     probe      AddressA_ID\n",
       "1 cg07881041 cg07881041 0085713262 \n",
       "2 cg18478105 cg18478105 0046761277 \n",
       "3 cg23229610 cg23229610 0021717843 \n",
       "4 cg03513874 cg03513874 0029622133 \n",
       "5 cg09835024 cg09835024 0016745152 \n",
       "6 cg05451842 cg05451842 0016681196 \n",
       "  AlleleA_ProbeSeq                                   AddressB_ID\n",
       "1 CTACAAATACAACACCCTCAACCCATATTTCATATATTATCTCATTTAAC            \n",
       "2 AAATAAATTTCACTCTCAAATCCCAATCTCATACAACAAAACAAAAACCA 0086644198 \n",
       "3 ATAAAATTCTTTCCTTAAAAAACATTAAAACCAAAATAAACAAAAATTCC            \n",
       "4 ACAATAAAATAATAAAATCCCATCACTACTTACCCTCCTTAAATAATATC            \n",
       "5 AATAAACACCAACCCCAAACCAATCTCACTTTATTAAATTACAAAAATCA 0081631976 \n",
       "6 CRTTCAAATACACTATAACCCRACTAAAAAAACCCCCAACAACCCAAAAC            \n",
       "  AlleleB_ProbeSeq                                   Infinium_Design_Type\n",
       "1                                                    II                  \n",
       "2 AAATAAATTTCGCTCTCAAATCCCAATCTCGTACGACGAAACGAAAACCG I                   \n",
       "3                                                    II                  \n",
       "4                                                    II                  \n",
       "5 AATAAACGCCGACCCCGAACCGATCTCGCTTTATTAAATTACAAAAATCG I                   \n",
       "6                                                    II                  \n",
       "  Next_Base Color_Channel\n",
       "1                        \n",
       "2 C         Grn          \n",
       "3                        \n",
       "4                        \n",
       "5 A         Red          \n",
       "6                        \n",
       "  Forward_Sequence                                                                                                            \n",
       "1 CTGCACGCCTACTGCAGGTGCAGCACCCTCAGCCCATGTTTCATGTATTATCTCATTTAA[CG]CATGTATCATCTCATTTAATGCATGCATTATCTCATTTAATTCTCACAACCCCTCAGGTG\n",
       "2 TCCCGTCTTACGGGATGGATTTCGCTCTCAGGTCCCAGTCTCGTGCGGCGGGGCGGGGAC[CG]CAGCCGGCTGGGCGGGGAAGCCCTGAGCCGGGGAAGTCACGTGGGGCGTGTCCGGAGGCG\n",
       "3 GTTTCTGGACAGTAAAATTCTTTCCTTGAAGGACATTAGGGCCAAAATGGGCAAGGATTC[CG]AGATTGGTACATCGAGCGTTATCTTCCAACTCTCTTTTCTAAATGGGCTCATTTAGTAAT\n",
       "4 ATTGTGCCCACCTTGCTGCTGACAGTTAAGCATCACTAAAGTAGGAAATAGGGTCCAAAC[CG]ACACTACTTAAGGAGGGCAAGTAGTGATGGGACCTCATCATCCCATTGCTATCATGGAGC\n",
       "5 AGCCCCGTCATAGGTGGGCGCCGACCCCGAGCCGATCTCGCTTTATTAAATTACAGAAAT[CG]GTATTCAAAAAAAAAAAAAAAAAAGGGCGGGGAGGACACTCCCTCTTCTCTGTTCCCACA\n",
       "6 CACAGCGTGGATGCCCCGATTTCCCAGGTCCCTCCGCAACCCTCAGTAGAACTCCCACCG[CG]CCCTGGGCTGCTGGGGGCCTCCCCAGCCGGGTCACAGTGCACCTGAACGCCCCGGTCCGT\n",
       "  ⋯ Coordinate_36 SNP_ID                  SNP_DISTANCE SNP_MinorAlleleFrequency\n",
       "1 ⋯ 5187016       rs187313142             18           0.000200                \n",
       "2 ⋯ 61318095      rs549944121             5            0.001797                \n",
       "3 ⋯ 6763712       rs545824288;rs527255711 40;12        0.000200;0.001198       \n",
       "4 ⋯ 198011711                                                                  \n",
       "5 ⋯ 23982561                                                                   \n",
       "6 ⋯ 92650892      rs550745821             22           0.000200                \n",
       "  Random_Loci MFG_Change_Flagged CHR_hg38 Start_hg38 End_hg38  Strand_hg38\n",
       "1 NA          FALSE              chr19      5236004    5236006 +          \n",
       "2 NA          FALSE              chr20     63216297   63216299 +          \n",
       "3 NA          FALSE              chr1       6781064    6781066 +          \n",
       "4 NA          FALSE              chr2     197438741  197438743 -          \n",
       "5 NA          FALSE              chrX      24054522   24054524 +          \n",
       "6 NA          FALSE              chr14     93114793   93114795 -          "
      ]
     },
     "metadata": {},
     "output_type": "display_data"
    }
   ],
   "source": [
    "df_probes = read.csv(file=\"./marker_collation//EPIC_array_manifest_no_head.csv\",header=TRUE)\n",
    "df_probes = df_probes %>% rename(probe=Name)\n",
    "head(df_probes)"
   ]
  },
  {
   "cell_type": "code",
   "execution_count": 133,
   "id": "cae51830",
   "metadata": {},
   "outputs": [
    {
     "data": {
      "text/html": [
       "<style>\n",
       ".list-inline {list-style: none; margin:0; padding: 0}\n",
       ".list-inline>li {display: inline-block}\n",
       ".list-inline>li:not(:last-child)::after {content: \"\\00b7\"; padding: 0 .5ex}\n",
       "</style>\n",
       "<ol class=list-inline><li>'IlmnID'</li><li>'probe'</li><li>'AddressA_ID'</li><li>'AlleleA_ProbeSeq'</li><li>'AddressB_ID'</li><li>'AlleleB_ProbeSeq'</li><li>'Infinium_Design_Type'</li><li>'Next_Base'</li><li>'Color_Channel'</li><li>'Forward_Sequence'</li><li>'Genome_Build'</li><li>'CHR'</li><li>'MAPINFO'</li><li>'SourceSeq'</li><li>'Strand'</li><li>'UCSC_RefGene_Name'</li><li>'UCSC_RefGene_Accession'</li><li>'UCSC_RefGene_Group'</li><li>'UCSC_CpG_Islands_Name'</li><li>'Relation_to_UCSC_CpG_Island'</li><li>'Phantom4_Enhancers'</li><li>'Phantom5_Enhancers'</li><li>'DMR'</li><li>'X450k_Enhancer'</li><li>'HMM_Island'</li><li>'Regulatory_Feature_Name'</li><li>'Regulatory_Feature_Group'</li><li>'GencodeBasicV12_NAME'</li><li>'GencodeBasicV12_Accession'</li><li>'GencodeBasicV12_Group'</li><li>'GencodeCompV12_NAME'</li><li>'GencodeCompV12_Accession'</li><li>'GencodeCompV12_Group'</li><li>'DNase_Hypersensitivity_NAME'</li><li>'DNase_Hypersensitivity_Evidence_Count'</li><li>'OpenChromatin_NAME'</li><li>'OpenChromatin_Evidence_Count'</li><li>'TFBS_NAME'</li><li>'TFBS_Evidence_Count'</li><li>'Methyl27_Loci'</li><li>'Methyl450_Loci'</li><li>'Chromosome_36'</li><li>'Coordinate_36'</li><li>'SNP_ID'</li><li>'SNP_DISTANCE'</li><li>'SNP_MinorAlleleFrequency'</li><li>'Random_Loci'</li><li>'MFG_Change_Flagged'</li><li>'CHR_hg38'</li><li>'Start_hg38'</li><li>'End_hg38'</li><li>'Strand_hg38'</li></ol>\n"
      ],
      "text/latex": [
       "\\begin{enumerate*}\n",
       "\\item 'IlmnID'\n",
       "\\item 'probe'\n",
       "\\item 'AddressA\\_ID'\n",
       "\\item 'AlleleA\\_ProbeSeq'\n",
       "\\item 'AddressB\\_ID'\n",
       "\\item 'AlleleB\\_ProbeSeq'\n",
       "\\item 'Infinium\\_Design\\_Type'\n",
       "\\item 'Next\\_Base'\n",
       "\\item 'Color\\_Channel'\n",
       "\\item 'Forward\\_Sequence'\n",
       "\\item 'Genome\\_Build'\n",
       "\\item 'CHR'\n",
       "\\item 'MAPINFO'\n",
       "\\item 'SourceSeq'\n",
       "\\item 'Strand'\n",
       "\\item 'UCSC\\_RefGene\\_Name'\n",
       "\\item 'UCSC\\_RefGene\\_Accession'\n",
       "\\item 'UCSC\\_RefGene\\_Group'\n",
       "\\item 'UCSC\\_CpG\\_Islands\\_Name'\n",
       "\\item 'Relation\\_to\\_UCSC\\_CpG\\_Island'\n",
       "\\item 'Phantom4\\_Enhancers'\n",
       "\\item 'Phantom5\\_Enhancers'\n",
       "\\item 'DMR'\n",
       "\\item 'X450k\\_Enhancer'\n",
       "\\item 'HMM\\_Island'\n",
       "\\item 'Regulatory\\_Feature\\_Name'\n",
       "\\item 'Regulatory\\_Feature\\_Group'\n",
       "\\item 'GencodeBasicV12\\_NAME'\n",
       "\\item 'GencodeBasicV12\\_Accession'\n",
       "\\item 'GencodeBasicV12\\_Group'\n",
       "\\item 'GencodeCompV12\\_NAME'\n",
       "\\item 'GencodeCompV12\\_Accession'\n",
       "\\item 'GencodeCompV12\\_Group'\n",
       "\\item 'DNase\\_Hypersensitivity\\_NAME'\n",
       "\\item 'DNase\\_Hypersensitivity\\_Evidence\\_Count'\n",
       "\\item 'OpenChromatin\\_NAME'\n",
       "\\item 'OpenChromatin\\_Evidence\\_Count'\n",
       "\\item 'TFBS\\_NAME'\n",
       "\\item 'TFBS\\_Evidence\\_Count'\n",
       "\\item 'Methyl27\\_Loci'\n",
       "\\item 'Methyl450\\_Loci'\n",
       "\\item 'Chromosome\\_36'\n",
       "\\item 'Coordinate\\_36'\n",
       "\\item 'SNP\\_ID'\n",
       "\\item 'SNP\\_DISTANCE'\n",
       "\\item 'SNP\\_MinorAlleleFrequency'\n",
       "\\item 'Random\\_Loci'\n",
       "\\item 'MFG\\_Change\\_Flagged'\n",
       "\\item 'CHR\\_hg38'\n",
       "\\item 'Start\\_hg38'\n",
       "\\item 'End\\_hg38'\n",
       "\\item 'Strand\\_hg38'\n",
       "\\end{enumerate*}\n"
      ],
      "text/markdown": [
       "1. 'IlmnID'\n",
       "2. 'probe'\n",
       "3. 'AddressA_ID'\n",
       "4. 'AlleleA_ProbeSeq'\n",
       "5. 'AddressB_ID'\n",
       "6. 'AlleleB_ProbeSeq'\n",
       "7. 'Infinium_Design_Type'\n",
       "8. 'Next_Base'\n",
       "9. 'Color_Channel'\n",
       "10. 'Forward_Sequence'\n",
       "11. 'Genome_Build'\n",
       "12. 'CHR'\n",
       "13. 'MAPINFO'\n",
       "14. 'SourceSeq'\n",
       "15. 'Strand'\n",
       "16. 'UCSC_RefGene_Name'\n",
       "17. 'UCSC_RefGene_Accession'\n",
       "18. 'UCSC_RefGene_Group'\n",
       "19. 'UCSC_CpG_Islands_Name'\n",
       "20. 'Relation_to_UCSC_CpG_Island'\n",
       "21. 'Phantom4_Enhancers'\n",
       "22. 'Phantom5_Enhancers'\n",
       "23. 'DMR'\n",
       "24. 'X450k_Enhancer'\n",
       "25. 'HMM_Island'\n",
       "26. 'Regulatory_Feature_Name'\n",
       "27. 'Regulatory_Feature_Group'\n",
       "28. 'GencodeBasicV12_NAME'\n",
       "29. 'GencodeBasicV12_Accession'\n",
       "30. 'GencodeBasicV12_Group'\n",
       "31. 'GencodeCompV12_NAME'\n",
       "32. 'GencodeCompV12_Accession'\n",
       "33. 'GencodeCompV12_Group'\n",
       "34. 'DNase_Hypersensitivity_NAME'\n",
       "35. 'DNase_Hypersensitivity_Evidence_Count'\n",
       "36. 'OpenChromatin_NAME'\n",
       "37. 'OpenChromatin_Evidence_Count'\n",
       "38. 'TFBS_NAME'\n",
       "39. 'TFBS_Evidence_Count'\n",
       "40. 'Methyl27_Loci'\n",
       "41. 'Methyl450_Loci'\n",
       "42. 'Chromosome_36'\n",
       "43. 'Coordinate_36'\n",
       "44. 'SNP_ID'\n",
       "45. 'SNP_DISTANCE'\n",
       "46. 'SNP_MinorAlleleFrequency'\n",
       "47. 'Random_Loci'\n",
       "48. 'MFG_Change_Flagged'\n",
       "49. 'CHR_hg38'\n",
       "50. 'Start_hg38'\n",
       "51. 'End_hg38'\n",
       "52. 'Strand_hg38'\n",
       "\n",
       "\n"
      ],
      "text/plain": [
       " [1] \"IlmnID\"                               \n",
       " [2] \"probe\"                                \n",
       " [3] \"AddressA_ID\"                          \n",
       " [4] \"AlleleA_ProbeSeq\"                     \n",
       " [5] \"AddressB_ID\"                          \n",
       " [6] \"AlleleB_ProbeSeq\"                     \n",
       " [7] \"Infinium_Design_Type\"                 \n",
       " [8] \"Next_Base\"                            \n",
       " [9] \"Color_Channel\"                        \n",
       "[10] \"Forward_Sequence\"                     \n",
       "[11] \"Genome_Build\"                         \n",
       "[12] \"CHR\"                                  \n",
       "[13] \"MAPINFO\"                              \n",
       "[14] \"SourceSeq\"                            \n",
       "[15] \"Strand\"                               \n",
       "[16] \"UCSC_RefGene_Name\"                    \n",
       "[17] \"UCSC_RefGene_Accession\"               \n",
       "[18] \"UCSC_RefGene_Group\"                   \n",
       "[19] \"UCSC_CpG_Islands_Name\"                \n",
       "[20] \"Relation_to_UCSC_CpG_Island\"          \n",
       "[21] \"Phantom4_Enhancers\"                   \n",
       "[22] \"Phantom5_Enhancers\"                   \n",
       "[23] \"DMR\"                                  \n",
       "[24] \"X450k_Enhancer\"                       \n",
       "[25] \"HMM_Island\"                           \n",
       "[26] \"Regulatory_Feature_Name\"              \n",
       "[27] \"Regulatory_Feature_Group\"             \n",
       "[28] \"GencodeBasicV12_NAME\"                 \n",
       "[29] \"GencodeBasicV12_Accession\"            \n",
       "[30] \"GencodeBasicV12_Group\"                \n",
       "[31] \"GencodeCompV12_NAME\"                  \n",
       "[32] \"GencodeCompV12_Accession\"             \n",
       "[33] \"GencodeCompV12_Group\"                 \n",
       "[34] \"DNase_Hypersensitivity_NAME\"          \n",
       "[35] \"DNase_Hypersensitivity_Evidence_Count\"\n",
       "[36] \"OpenChromatin_NAME\"                   \n",
       "[37] \"OpenChromatin_Evidence_Count\"         \n",
       "[38] \"TFBS_NAME\"                            \n",
       "[39] \"TFBS_Evidence_Count\"                  \n",
       "[40] \"Methyl27_Loci\"                        \n",
       "[41] \"Methyl450_Loci\"                       \n",
       "[42] \"Chromosome_36\"                        \n",
       "[43] \"Coordinate_36\"                        \n",
       "[44] \"SNP_ID\"                               \n",
       "[45] \"SNP_DISTANCE\"                         \n",
       "[46] \"SNP_MinorAlleleFrequency\"             \n",
       "[47] \"Random_Loci\"                          \n",
       "[48] \"MFG_Change_Flagged\"                   \n",
       "[49] \"CHR_hg38\"                             \n",
       "[50] \"Start_hg38\"                           \n",
       "[51] \"End_hg38\"                             \n",
       "[52] \"Strand_hg38\"                          "
      ]
     },
     "metadata": {},
     "output_type": "display_data"
    }
   ],
   "source": [
    "names(df_probes)\n",
    "# https://support.illumina.com/content/dam/illumina-support/documents/downloads/productfiles/methylationepic/infinium-methylationepic-manifest-column-headings.pdf\n",
    "# CHR: Chromosome containing the CpG (Build 37).\n",
    "# MAPINFO: Chromosomal coordinates of the CpG (Build 37)."
   ]
  },
  {
   "cell_type": "code",
   "execution_count": 256,
   "id": "5a9bf460",
   "metadata": {},
   "outputs": [
    {
     "data": {
      "text/html": [
       "<table class=\"dataframe\">\n",
       "<caption>A data.frame: 6 × 10</caption>\n",
       "<thead>\n",
       "\t<tr><th></th><th scope=col>region</th><th scope=col>Gene</th><th scope=col>probe</th><th scope=col>No..pubs</th><th scope=col>Source</th><th scope=col>note</th><th scope=col>CHR</th><th scope=col>MAPINFO</th><th scope=col>Strand</th><th scope=col>type</th></tr>\n",
       "\t<tr><th></th><th scope=col>&lt;chr&gt;</th><th scope=col>&lt;chr&gt;</th><th scope=col>&lt;chr&gt;</th><th scope=col>&lt;int&gt;</th><th scope=col>&lt;chr&gt;</th><th scope=col>&lt;chr&gt;</th><th scope=col>&lt;chr&gt;</th><th scope=col>&lt;int&gt;</th><th scope=col>&lt;chr&gt;</th><th scope=col>&lt;chr&gt;</th></tr>\n",
       "</thead>\n",
       "<tbody>\n",
       "\t<tr><th scope=row>1</th><td></td><td>KLF8  </td><td>cg03834574</td><td>1</td><td>Ylitalo et al 2021</td><td>Hypermethylated</td><td>X </td><td> 56259094</td><td>R</td><td>epic_probe</td></tr>\n",
       "\t<tr><th scope=row>2</th><td></td><td>HOPX  </td><td>cg21899596</td><td>1</td><td>Ylitalo et al 2021</td><td>Hypermethylated</td><td>4 </td><td> 57522493</td><td>R</td><td>epic_probe</td></tr>\n",
       "\t<tr><th scope=row>3</th><td></td><td>RARB  </td><td>cg24396624</td><td>1</td><td>Ylitalo et al 2021</td><td>Hypermethylated</td><td>3 </td><td> 25469860</td><td>R</td><td>epic_probe</td></tr>\n",
       "\t<tr><th scope=row>4</th><td></td><td>HIF3A </td><td>cg21544503</td><td>1</td><td>Ylitalo et al 2021</td><td>Hypermethylated</td><td>19</td><td> 46800131</td><td>R</td><td>epic_probe</td></tr>\n",
       "\t<tr><th scope=row>5</th><td></td><td>HIF3A </td><td>cg14117138</td><td>1</td><td>Ylitalo et al 2021</td><td>Hypermethylated</td><td>19</td><td> 46800085</td><td>R</td><td>epic_probe</td></tr>\n",
       "\t<tr><th scope=row>6</th><td></td><td>CXCL14</td><td>cg10493994</td><td>1</td><td>Ylitalo et al 2021</td><td>Hypermethylated</td><td>5 </td><td>134914932</td><td>F</td><td>epic_probe</td></tr>\n",
       "</tbody>\n",
       "</table>\n"
      ],
      "text/latex": [
       "A data.frame: 6 × 10\n",
       "\\begin{tabular}{r|llllllllll}\n",
       "  & region & Gene & probe & No..pubs & Source & note & CHR & MAPINFO & Strand & type\\\\\n",
       "  & <chr> & <chr> & <chr> & <int> & <chr> & <chr> & <chr> & <int> & <chr> & <chr>\\\\\n",
       "\\hline\n",
       "\t1 &  & KLF8   & cg03834574 & 1 & Ylitalo et al 2021 & Hypermethylated & X  &  56259094 & R & epic\\_probe\\\\\n",
       "\t2 &  & HOPX   & cg21899596 & 1 & Ylitalo et al 2021 & Hypermethylated & 4  &  57522493 & R & epic\\_probe\\\\\n",
       "\t3 &  & RARB   & cg24396624 & 1 & Ylitalo et al 2021 & Hypermethylated & 3  &  25469860 & R & epic\\_probe\\\\\n",
       "\t4 &  & HIF3A  & cg21544503 & 1 & Ylitalo et al 2021 & Hypermethylated & 19 &  46800131 & R & epic\\_probe\\\\\n",
       "\t5 &  & HIF3A  & cg14117138 & 1 & Ylitalo et al 2021 & Hypermethylated & 19 &  46800085 & R & epic\\_probe\\\\\n",
       "\t6 &  & CXCL14 & cg10493994 & 1 & Ylitalo et al 2021 & Hypermethylated & 5  & 134914932 & F & epic\\_probe\\\\\n",
       "\\end{tabular}\n"
      ],
      "text/markdown": [
       "\n",
       "A data.frame: 6 × 10\n",
       "\n",
       "| <!--/--> | region &lt;chr&gt; | Gene &lt;chr&gt; | probe &lt;chr&gt; | No..pubs &lt;int&gt; | Source &lt;chr&gt; | note &lt;chr&gt; | CHR &lt;chr&gt; | MAPINFO &lt;int&gt; | Strand &lt;chr&gt; | type &lt;chr&gt; |\n",
       "|---|---|---|---|---|---|---|---|---|---|---|\n",
       "| 1 | <!----> | KLF8   | cg03834574 | 1 | Ylitalo et al 2021 | Hypermethylated | X  |  56259094 | R | epic_probe |\n",
       "| 2 | <!----> | HOPX   | cg21899596 | 1 | Ylitalo et al 2021 | Hypermethylated | 4  |  57522493 | R | epic_probe |\n",
       "| 3 | <!----> | RARB   | cg24396624 | 1 | Ylitalo et al 2021 | Hypermethylated | 3  |  25469860 | R | epic_probe |\n",
       "| 4 | <!----> | HIF3A  | cg21544503 | 1 | Ylitalo et al 2021 | Hypermethylated | 19 |  46800131 | R | epic_probe |\n",
       "| 5 | <!----> | HIF3A  | cg14117138 | 1 | Ylitalo et al 2021 | Hypermethylated | 19 |  46800085 | R | epic_probe |\n",
       "| 6 | <!----> | CXCL14 | cg10493994 | 1 | Ylitalo et al 2021 | Hypermethylated | 5  | 134914932 | F | epic_probe |\n",
       "\n"
      ],
      "text/plain": [
       "  region Gene   probe      No..pubs Source             note            CHR\n",
       "1        KLF8   cg03834574 1        Ylitalo et al 2021 Hypermethylated X  \n",
       "2        HOPX   cg21899596 1        Ylitalo et al 2021 Hypermethylated 4  \n",
       "3        RARB   cg24396624 1        Ylitalo et al 2021 Hypermethylated 3  \n",
       "4        HIF3A  cg21544503 1        Ylitalo et al 2021 Hypermethylated 19 \n",
       "5        HIF3A  cg14117138 1        Ylitalo et al 2021 Hypermethylated 19 \n",
       "6        CXCL14 cg10493994 1        Ylitalo et al 2021 Hypermethylated 5  \n",
       "  MAPINFO   Strand type      \n",
       "1  56259094 R      epic_probe\n",
       "2  57522493 R      epic_probe\n",
       "3  25469860 R      epic_probe\n",
       "4  46800131 R      epic_probe\n",
       "5  46800085 R      epic_probe\n",
       "6 134914932 F      epic_probe"
      ]
     },
     "metadata": {},
     "output_type": "display_data"
    }
   ],
   "source": [
    "# hg19/gr37\n",
    "df_probes = df_probes[, c(\"probe\",'CHR','MAPINFO',\"Strand\")]\n",
    "df_probes$type = \"epic_probe\"\n",
    "# most cg probes have more than one illumina probeID (why?) see orig sheet. retain only first entry\n",
    "df_pub_probes_annot = df_pub_probes %>% left_join(df_probes, by=\"probe\") %>% distinct(probe, .keep_all=TRUE)\n",
    "head(df_pub_probes_annot)"
   ]
  },
  {
   "cell_type": "code",
   "execution_count": 286,
   "id": "e23318c5",
   "metadata": {},
   "outputs": [
    {
     "data": {
      "text/html": [
       "<table class=\"dataframe\">\n",
       "<caption>A data.frame: 6 × 7</caption>\n",
       "<thead>\n",
       "\t<tr><th></th><th scope=col>chr</th><th scope=col>start</th><th scope=col>end</th><th scope=col>gene_name</th><th scope=col>score</th><th scope=col>strand</th><th scope=col>gencode.type</th></tr>\n",
       "\t<tr><th></th><th scope=col>&lt;chr&gt;</th><th scope=col>&lt;int&gt;</th><th scope=col>&lt;int&gt;</th><th scope=col>&lt;chr&gt;</th><th scope=col>&lt;int&gt;</th><th scope=col>&lt;chr&gt;</th><th scope=col>&lt;chr&gt;</th></tr>\n",
       "</thead>\n",
       "<tbody>\n",
       "\t<tr><th scope=row>1</th><td>chr1</td><td>10869</td><td>14409</td><td>DDX11L1    </td><td>0</td><td>+</td><td>gene_plus_promoter</td></tr>\n",
       "\t<tr><th scope=row>2</th><td>chr1</td><td>14404</td><td>30570</td><td>WASH7P     </td><td>0</td><td>-</td><td>gene_plus_promoter</td></tr>\n",
       "\t<tr><th scope=row>3</th><td>chr1</td><td>28554</td><td>31109</td><td>MIR1302-2HG</td><td>0</td><td>+</td><td>gene_plus_promoter</td></tr>\n",
       "\t<tr><th scope=row>4</th><td>chr1</td><td>34554</td><td>37081</td><td>FAM138A    </td><td>0</td><td>-</td><td>gene_plus_promoter</td></tr>\n",
       "\t<tr><th scope=row>5</th><td>chr1</td><td>51473</td><td>53312</td><td>OR4G4P     </td><td>0</td><td>+</td><td>gene_plus_promoter</td></tr>\n",
       "\t<tr><th scope=row>6</th><td>chr1</td><td>56598</td><td>64116</td><td>OR4G11P    </td><td>0</td><td>+</td><td>gene_plus_promoter</td></tr>\n",
       "</tbody>\n",
       "</table>\n"
      ],
      "text/latex": [
       "A data.frame: 6 × 7\n",
       "\\begin{tabular}{r|lllllll}\n",
       "  & chr & start & end & gene\\_name & score & strand & gencode.type\\\\\n",
       "  & <chr> & <int> & <int> & <chr> & <int> & <chr> & <chr>\\\\\n",
       "\\hline\n",
       "\t1 & chr1 & 10869 & 14409 & DDX11L1     & 0 & + & gene\\_plus\\_promoter\\\\\n",
       "\t2 & chr1 & 14404 & 30570 & WASH7P      & 0 & - & gene\\_plus\\_promoter\\\\\n",
       "\t3 & chr1 & 28554 & 31109 & MIR1302-2HG & 0 & + & gene\\_plus\\_promoter\\\\\n",
       "\t4 & chr1 & 34554 & 37081 & FAM138A     & 0 & - & gene\\_plus\\_promoter\\\\\n",
       "\t5 & chr1 & 51473 & 53312 & OR4G4P      & 0 & + & gene\\_plus\\_promoter\\\\\n",
       "\t6 & chr1 & 56598 & 64116 & OR4G11P     & 0 & + & gene\\_plus\\_promoter\\\\\n",
       "\\end{tabular}\n"
      ],
      "text/markdown": [
       "\n",
       "A data.frame: 6 × 7\n",
       "\n",
       "| <!--/--> | chr &lt;chr&gt; | start &lt;int&gt; | end &lt;int&gt; | gene_name &lt;chr&gt; | score &lt;int&gt; | strand &lt;chr&gt; | gencode.type &lt;chr&gt; |\n",
       "|---|---|---|---|---|---|---|---|\n",
       "| 1 | chr1 | 10869 | 14409 | DDX11L1     | 0 | + | gene_plus_promoter |\n",
       "| 2 | chr1 | 14404 | 30570 | WASH7P      | 0 | - | gene_plus_promoter |\n",
       "| 3 | chr1 | 28554 | 31109 | MIR1302-2HG | 0 | + | gene_plus_promoter |\n",
       "| 4 | chr1 | 34554 | 37081 | FAM138A     | 0 | - | gene_plus_promoter |\n",
       "| 5 | chr1 | 51473 | 53312 | OR4G4P      | 0 | + | gene_plus_promoter |\n",
       "| 6 | chr1 | 56598 | 64116 | OR4G11P     | 0 | + | gene_plus_promoter |\n",
       "\n"
      ],
      "text/plain": [
       "  chr  start end   gene_name   score strand gencode.type      \n",
       "1 chr1 10869 14409 DDX11L1     0     +      gene_plus_promoter\n",
       "2 chr1 14404 30570 WASH7P      0     -      gene_plus_promoter\n",
       "3 chr1 28554 31109 MIR1302-2HG 0     +      gene_plus_promoter\n",
       "4 chr1 34554 37081 FAM138A     0     -      gene_plus_promoter\n",
       "5 chr1 51473 53312 OR4G4P      0     +      gene_plus_promoter\n",
       "6 chr1 56598 64116 OR4G11P     0     +      gene_plus_promoter"
      ]
     },
     "metadata": {},
     "output_type": "display_data"
    },
    {
     "data": {
      "text/html": [
       "<table class=\"dataframe\">\n",
       "<caption>A data.frame: 6 × 7</caption>\n",
       "<thead>\n",
       "\t<tr><th></th><th scope=col>chr</th><th scope=col>start</th><th scope=col>end</th><th scope=col>gene_name</th><th scope=col>score</th><th scope=col>strand</th><th scope=col>gencode.type</th></tr>\n",
       "\t<tr><th></th><th scope=col>&lt;chr&gt;</th><th scope=col>&lt;int&gt;</th><th scope=col>&lt;int&gt;</th><th scope=col>&lt;chr&gt;</th><th scope=col>&lt;int&gt;</th><th scope=col>&lt;chr&gt;</th><th scope=col>&lt;chr&gt;</th></tr>\n",
       "</thead>\n",
       "<tbody>\n",
       "\t<tr><th scope=row>1</th><td>1</td><td>10869</td><td>11869</td><td>DDX11L1    </td><td>0</td><td>+</td><td>promoter</td></tr>\n",
       "\t<tr><th scope=row>2</th><td>1</td><td>29570</td><td>30570</td><td>WASH7P     </td><td>0</td><td>-</td><td>promoter</td></tr>\n",
       "\t<tr><th scope=row>3</th><td>1</td><td>28554</td><td>29554</td><td>MIR1302-2HG</td><td>0</td><td>+</td><td>promoter</td></tr>\n",
       "\t<tr><th scope=row>4</th><td>1</td><td>36081</td><td>37081</td><td>FAM138A    </td><td>0</td><td>-</td><td>promoter</td></tr>\n",
       "\t<tr><th scope=row>5</th><td>1</td><td>51473</td><td>52473</td><td>OR4G4P     </td><td>0</td><td>+</td><td>promoter</td></tr>\n",
       "\t<tr><th scope=row>6</th><td>1</td><td>56598</td><td>57598</td><td>OR4G11P    </td><td>0</td><td>+</td><td>promoter</td></tr>\n",
       "</tbody>\n",
       "</table>\n"
      ],
      "text/latex": [
       "A data.frame: 6 × 7\n",
       "\\begin{tabular}{r|lllllll}\n",
       "  & chr & start & end & gene\\_name & score & strand & gencode.type\\\\\n",
       "  & <chr> & <int> & <int> & <chr> & <int> & <chr> & <chr>\\\\\n",
       "\\hline\n",
       "\t1 & 1 & 10869 & 11869 & DDX11L1     & 0 & + & promoter\\\\\n",
       "\t2 & 1 & 29570 & 30570 & WASH7P      & 0 & - & promoter\\\\\n",
       "\t3 & 1 & 28554 & 29554 & MIR1302-2HG & 0 & + & promoter\\\\\n",
       "\t4 & 1 & 36081 & 37081 & FAM138A     & 0 & - & promoter\\\\\n",
       "\t5 & 1 & 51473 & 52473 & OR4G4P      & 0 & + & promoter\\\\\n",
       "\t6 & 1 & 56598 & 57598 & OR4G11P     & 0 & + & promoter\\\\\n",
       "\\end{tabular}\n"
      ],
      "text/markdown": [
       "\n",
       "A data.frame: 6 × 7\n",
       "\n",
       "| <!--/--> | chr &lt;chr&gt; | start &lt;int&gt; | end &lt;int&gt; | gene_name &lt;chr&gt; | score &lt;int&gt; | strand &lt;chr&gt; | gencode.type &lt;chr&gt; |\n",
       "|---|---|---|---|---|---|---|---|\n",
       "| 1 | 1 | 10869 | 11869 | DDX11L1     | 0 | + | promoter |\n",
       "| 2 | 1 | 29570 | 30570 | WASH7P      | 0 | - | promoter |\n",
       "| 3 | 1 | 28554 | 29554 | MIR1302-2HG | 0 | + | promoter |\n",
       "| 4 | 1 | 36081 | 37081 | FAM138A     | 0 | - | promoter |\n",
       "| 5 | 1 | 51473 | 52473 | OR4G4P      | 0 | + | promoter |\n",
       "| 6 | 1 | 56598 | 57598 | OR4G11P     | 0 | + | promoter |\n",
       "\n"
      ],
      "text/plain": [
       "  chr start end   gene_name   score strand gencode.type\n",
       "1 1   10869 11869 DDX11L1     0     +      promoter    \n",
       "2 1   29570 30570 WASH7P      0     -      promoter    \n",
       "3 1   28554 29554 MIR1302-2HG 0     +      promoter    \n",
       "4 1   36081 37081 FAM138A     0     -      promoter    \n",
       "5 1   51473 52473 OR4G4P      0     +      promoter    \n",
       "6 1   56598 57598 OR4G11P     0     +      promoter    "
      ]
     },
     "metadata": {},
     "output_type": "display_data"
    }
   ],
   "source": [
    "# retrieve gene region coords hg19/gr37\n",
    "df_gene_coords = read.table(file=\"../Translational_Science/gencode.v40lift37.full_genes_hg19.bed\", sep=\"\\t\", header=FALSE)\n",
    "colnames(df_gene_coords) <- c(\"chr\",\"start\",\"end\",\"gene_name\", \"score\",\"strand\",\"gencode.type\")\n",
    "df_promoter_coords = read.table(file=\"../Translational_Science/gencode.v40lift37.promoters_hg19.bed\", sep=\"\\t\", header=FALSE)\n",
    "colnames(df_promoter_coords) <- c(\"chr\",\"start\",\"end\",\"gene_name\", \"score\",\"strand\",\"gencode.type\")\n",
    "head(df_gene_coords)\n",
    "head(df_promoter_coords)"
   ]
  },
  {
   "cell_type": "code",
   "execution_count": 287,
   "id": "56146897",
   "metadata": {},
   "outputs": [
    {
     "data": {
      "text/html": [
       "<table class=\"dataframe\">\n",
       "<caption>A data.frame: 6 × 12</caption>\n",
       "<thead>\n",
       "\t<tr><th></th><th scope=col>region</th><th scope=col>Gene</th><th scope=col>probe</th><th scope=col>No..pubs</th><th scope=col>Source</th><th scope=col>note</th><th scope=col>chr</th><th scope=col>start</th><th scope=col>end</th><th scope=col>score</th><th scope=col>strand</th><th scope=col>gencode.type</th></tr>\n",
       "\t<tr><th></th><th scope=col>&lt;chr&gt;</th><th scope=col>&lt;chr&gt;</th><th scope=col>&lt;chr&gt;</th><th scope=col>&lt;int&gt;</th><th scope=col>&lt;chr&gt;</th><th scope=col>&lt;chr&gt;</th><th scope=col>&lt;chr&gt;</th><th scope=col>&lt;int&gt;</th><th scope=col>&lt;int&gt;</th><th scope=col>&lt;int&gt;</th><th scope=col>&lt;chr&gt;</th><th scope=col>&lt;chr&gt;</th></tr>\n",
       "</thead>\n",
       "<tbody>\n",
       "\t<tr><th scope=row>1</th><td></td><td>CD24  </td><td></td><td>NA</td><td>Lu et al 2022       </td><td>hypermethylated                    </td><td>NA   </td><td>       NA</td><td>       NA</td><td>NA</td><td>NA</td><td>NA                </td></tr>\n",
       "\t<tr><th scope=row>2</th><td></td><td>TET2  </td><td></td><td> 1</td><td>Kukkonen et al. 2021</td><td>hypermethylated subtype            </td><td>chr4 </td><td>106066032</td><td>106200973</td><td> 0</td><td>+ </td><td>gene_plus_promoter</td></tr>\n",
       "\t<tr><th scope=row>3</th><td></td><td>DNMT3B</td><td></td><td> 1</td><td>Kukkonen et al. 2021</td><td>hypermethylated subtype            </td><td>chr20</td><td> 31349191</td><td> 31397165</td><td> 0</td><td>+ </td><td>gene_plus_promoter</td></tr>\n",
       "\t<tr><th scope=row>4</th><td></td><td>IDH1  </td><td></td><td> 1</td><td>Kukkonen et al. 2021</td><td>hypermethylated subtype            </td><td>chr2 </td><td>209100953</td><td>209131798</td><td> 0</td><td>- </td><td>gene_plus_promoter</td></tr>\n",
       "\t<tr><th scope=row>5</th><td></td><td>BRAF  </td><td></td><td> 1</td><td>Kukkonen et al. 2021</td><td>hypermethylated subtype            </td><td>chr7 </td><td>140419127</td><td>140625729</td><td> 0</td><td>- </td><td>gene_plus_promoter</td></tr>\n",
       "\t<tr><th scope=row>6</th><td></td><td>AR    </td><td></td><td> 1</td><td>Kukkonen et al. 2021</td><td>hypermethylated intergenic regions </td><td>chrX </td><td> 66762863</td><td> 66950461</td><td> 0</td><td>+ </td><td>gene_plus_promoter</td></tr>\n",
       "</tbody>\n",
       "</table>\n"
      ],
      "text/latex": [
       "A data.frame: 6 × 12\n",
       "\\begin{tabular}{r|llllllllllll}\n",
       "  & region & Gene & probe & No..pubs & Source & note & chr & start & end & score & strand & gencode.type\\\\\n",
       "  & <chr> & <chr> & <chr> & <int> & <chr> & <chr> & <chr> & <int> & <int> & <int> & <chr> & <chr>\\\\\n",
       "\\hline\n",
       "\t1 &  & CD24   &  & NA & Lu et al 2022        & hypermethylated                     & NA    &        NA &        NA & NA & NA & NA                \\\\\n",
       "\t2 &  & TET2   &  &  1 & Kukkonen et al. 2021 & hypermethylated subtype             & chr4  & 106066032 & 106200973 &  0 & +  & gene\\_plus\\_promoter\\\\\n",
       "\t3 &  & DNMT3B &  &  1 & Kukkonen et al. 2021 & hypermethylated subtype             & chr20 &  31349191 &  31397165 &  0 & +  & gene\\_plus\\_promoter\\\\\n",
       "\t4 &  & IDH1   &  &  1 & Kukkonen et al. 2021 & hypermethylated subtype             & chr2  & 209100953 & 209131798 &  0 & -  & gene\\_plus\\_promoter\\\\\n",
       "\t5 &  & BRAF   &  &  1 & Kukkonen et al. 2021 & hypermethylated subtype             & chr7  & 140419127 & 140625729 &  0 & -  & gene\\_plus\\_promoter\\\\\n",
       "\t6 &  & AR     &  &  1 & Kukkonen et al. 2021 & hypermethylated intergenic regions  & chrX  &  66762863 &  66950461 &  0 & +  & gene\\_plus\\_promoter\\\\\n",
       "\\end{tabular}\n"
      ],
      "text/markdown": [
       "\n",
       "A data.frame: 6 × 12\n",
       "\n",
       "| <!--/--> | region &lt;chr&gt; | Gene &lt;chr&gt; | probe &lt;chr&gt; | No..pubs &lt;int&gt; | Source &lt;chr&gt; | note &lt;chr&gt; | chr &lt;chr&gt; | start &lt;int&gt; | end &lt;int&gt; | score &lt;int&gt; | strand &lt;chr&gt; | gencode.type &lt;chr&gt; |\n",
       "|---|---|---|---|---|---|---|---|---|---|---|---|---|\n",
       "| 1 | <!----> | CD24   | <!----> | NA | Lu et al 2022        | hypermethylated                     | NA    |        NA |        NA | NA | NA | NA                 |\n",
       "| 2 | <!----> | TET2   | <!----> |  1 | Kukkonen et al. 2021 | hypermethylated subtype             | chr4  | 106066032 | 106200973 |  0 | +  | gene_plus_promoter |\n",
       "| 3 | <!----> | DNMT3B | <!----> |  1 | Kukkonen et al. 2021 | hypermethylated subtype             | chr20 |  31349191 |  31397165 |  0 | +  | gene_plus_promoter |\n",
       "| 4 | <!----> | IDH1   | <!----> |  1 | Kukkonen et al. 2021 | hypermethylated subtype             | chr2  | 209100953 | 209131798 |  0 | -  | gene_plus_promoter |\n",
       "| 5 | <!----> | BRAF   | <!----> |  1 | Kukkonen et al. 2021 | hypermethylated subtype             | chr7  | 140419127 | 140625729 |  0 | -  | gene_plus_promoter |\n",
       "| 6 | <!----> | AR     | <!----> |  1 | Kukkonen et al. 2021 | hypermethylated intergenic regions  | chrX  |  66762863 |  66950461 |  0 | +  | gene_plus_promoter |\n",
       "\n"
      ],
      "text/plain": [
       "  region Gene   probe No..pubs Source              \n",
       "1        CD24         NA       Lu et al 2022       \n",
       "2        TET2          1       Kukkonen et al. 2021\n",
       "3        DNMT3B        1       Kukkonen et al. 2021\n",
       "4        IDH1          1       Kukkonen et al. 2021\n",
       "5        BRAF          1       Kukkonen et al. 2021\n",
       "6        AR            1       Kukkonen et al. 2021\n",
       "  note                                chr   start     end       score strand\n",
       "1 hypermethylated                     NA           NA        NA NA    NA    \n",
       "2 hypermethylated subtype             chr4  106066032 106200973  0    +     \n",
       "3 hypermethylated subtype             chr20  31349191  31397165  0    +     \n",
       "4 hypermethylated subtype             chr2  209100953 209131798  0    -     \n",
       "5 hypermethylated subtype             chr7  140419127 140625729  0    -     \n",
       "6 hypermethylated intergenic regions  chrX   66762863  66950461  0    +     \n",
       "  gencode.type      \n",
       "1 NA                \n",
       "2 gene_plus_promoter\n",
       "3 gene_plus_promoter\n",
       "4 gene_plus_promoter\n",
       "5 gene_plus_promoter\n",
       "6 gene_plus_promoter"
      ]
     },
     "metadata": {},
     "output_type": "display_data"
    }
   ],
   "source": [
    "# annotate genes using only the first match from the gene table (should only be one match per gene anyway)\n",
    "df_pub_genes_annot = df_pub_genes %>% left_join(df_gene_coords %>% distinct(gene_name, .keep_all=TRUE), by=c(\"Gene\"=\"gene_name\"))\n",
    "head(df_pub_genes_annot)"
   ]
  },
  {
   "cell_type": "code",
   "execution_count": 288,
   "id": "21d5864f",
   "metadata": {},
   "outputs": [
    {
     "data": {
      "text/html": [
       "<table class=\"dataframe\">\n",
       "<caption>A data.frame: 6 × 12</caption>\n",
       "<thead>\n",
       "\t<tr><th></th><th scope=col>region</th><th scope=col>Gene</th><th scope=col>probe</th><th scope=col>No..pubs</th><th scope=col>Source</th><th scope=col>note</th><th scope=col>chr</th><th scope=col>start</th><th scope=col>end</th><th scope=col>score</th><th scope=col>strand</th><th scope=col>gencode.type</th></tr>\n",
       "\t<tr><th></th><th scope=col>&lt;chr&gt;</th><th scope=col>&lt;chr&gt;</th><th scope=col>&lt;chr&gt;</th><th scope=col>&lt;int&gt;</th><th scope=col>&lt;chr&gt;</th><th scope=col>&lt;chr&gt;</th><th scope=col>&lt;chr&gt;</th><th scope=col>&lt;int&gt;</th><th scope=col>&lt;int&gt;</th><th scope=col>&lt;int&gt;</th><th scope=col>&lt;chr&gt;</th><th scope=col>&lt;chr&gt;</th></tr>\n",
       "</thead>\n",
       "<tbody>\n",
       "\t<tr><th scope=row>1</th><td>promoter</td><td>CD24 </td><td></td><td>1</td><td>Tolkach et al . 2021</td><td>hypermethylated</td><td>NA</td><td>       NA</td><td>       NA</td><td>NA</td><td>NA</td><td>NA      </td></tr>\n",
       "\t<tr><th scope=row>2</th><td>promoter</td><td>HLA-A</td><td></td><td>1</td><td>Rodems et al 2021   </td><td>hypermethylated</td><td>6 </td><td> 29908037</td><td> 29909037</td><td> 0</td><td>+ </td><td>promoter</td></tr>\n",
       "\t<tr><th scope=row>3</th><td>promoter</td><td>HLA-B</td><td></td><td>1</td><td>Rodems et al 2021   </td><td>hypermethylated</td><td>6 </td><td> 31334844</td><td> 31335844</td><td> 0</td><td>- </td><td>promoter</td></tr>\n",
       "\t<tr><th scope=row>4</th><td>promoter</td><td>HLA-C</td><td></td><td>1</td><td>Rodems et al 2021   </td><td>hypermethylated</td><td>6 </td><td> 31239907</td><td> 31240907</td><td> 0</td><td>- </td><td>promoter</td></tr>\n",
       "\t<tr><th scope=row>5</th><td>promoter</td><td>HIF3A</td><td></td><td>1</td><td>Kukkonen et al. 2021</td><td>hypermethylated</td><td>19</td><td> 46799299</td><td> 46800299</td><td> 0</td><td>+ </td><td>promoter</td></tr>\n",
       "\t<tr><th scope=row>6</th><td>promoter</td><td>HOXD3</td><td></td><td>1</td><td>Kukkonen et al. 2021</td><td>hypermethylated</td><td>2 </td><td>177000340</td><td>177001340</td><td> 0</td><td>+ </td><td>promoter</td></tr>\n",
       "</tbody>\n",
       "</table>\n"
      ],
      "text/latex": [
       "A data.frame: 6 × 12\n",
       "\\begin{tabular}{r|llllllllllll}\n",
       "  & region & Gene & probe & No..pubs & Source & note & chr & start & end & score & strand & gencode.type\\\\\n",
       "  & <chr> & <chr> & <chr> & <int> & <chr> & <chr> & <chr> & <int> & <int> & <int> & <chr> & <chr>\\\\\n",
       "\\hline\n",
       "\t1 & promoter & CD24  &  & 1 & Tolkach et al . 2021 & hypermethylated & NA &        NA &        NA & NA & NA & NA      \\\\\n",
       "\t2 & promoter & HLA-A &  & 1 & Rodems et al 2021    & hypermethylated & 6  &  29908037 &  29909037 &  0 & +  & promoter\\\\\n",
       "\t3 & promoter & HLA-B &  & 1 & Rodems et al 2021    & hypermethylated & 6  &  31334844 &  31335844 &  0 & -  & promoter\\\\\n",
       "\t4 & promoter & HLA-C &  & 1 & Rodems et al 2021    & hypermethylated & 6  &  31239907 &  31240907 &  0 & -  & promoter\\\\\n",
       "\t5 & promoter & HIF3A &  & 1 & Kukkonen et al. 2021 & hypermethylated & 19 &  46799299 &  46800299 &  0 & +  & promoter\\\\\n",
       "\t6 & promoter & HOXD3 &  & 1 & Kukkonen et al. 2021 & hypermethylated & 2  & 177000340 & 177001340 &  0 & +  & promoter\\\\\n",
       "\\end{tabular}\n"
      ],
      "text/markdown": [
       "\n",
       "A data.frame: 6 × 12\n",
       "\n",
       "| <!--/--> | region &lt;chr&gt; | Gene &lt;chr&gt; | probe &lt;chr&gt; | No..pubs &lt;int&gt; | Source &lt;chr&gt; | note &lt;chr&gt; | chr &lt;chr&gt; | start &lt;int&gt; | end &lt;int&gt; | score &lt;int&gt; | strand &lt;chr&gt; | gencode.type &lt;chr&gt; |\n",
       "|---|---|---|---|---|---|---|---|---|---|---|---|---|\n",
       "| 1 | promoter | CD24  | <!----> | 1 | Tolkach et al . 2021 | hypermethylated | NA |        NA |        NA | NA | NA | NA       |\n",
       "| 2 | promoter | HLA-A | <!----> | 1 | Rodems et al 2021    | hypermethylated | 6  |  29908037 |  29909037 |  0 | +  | promoter |\n",
       "| 3 | promoter | HLA-B | <!----> | 1 | Rodems et al 2021    | hypermethylated | 6  |  31334844 |  31335844 |  0 | -  | promoter |\n",
       "| 4 | promoter | HLA-C | <!----> | 1 | Rodems et al 2021    | hypermethylated | 6  |  31239907 |  31240907 |  0 | -  | promoter |\n",
       "| 5 | promoter | HIF3A | <!----> | 1 | Kukkonen et al. 2021 | hypermethylated | 19 |  46799299 |  46800299 |  0 | +  | promoter |\n",
       "| 6 | promoter | HOXD3 | <!----> | 1 | Kukkonen et al. 2021 | hypermethylated | 2  | 177000340 | 177001340 |  0 | +  | promoter |\n",
       "\n"
      ],
      "text/plain": [
       "  region   Gene  probe No..pubs Source               note            chr\n",
       "1 promoter CD24        1        Tolkach et al . 2021 hypermethylated NA \n",
       "2 promoter HLA-A       1        Rodems et al 2021    hypermethylated 6  \n",
       "3 promoter HLA-B       1        Rodems et al 2021    hypermethylated 6  \n",
       "4 promoter HLA-C       1        Rodems et al 2021    hypermethylated 6  \n",
       "5 promoter HIF3A       1        Kukkonen et al. 2021 hypermethylated 19 \n",
       "6 promoter HOXD3       1        Kukkonen et al. 2021 hypermethylated 2  \n",
       "  start     end       score strand gencode.type\n",
       "1        NA        NA NA    NA     NA          \n",
       "2  29908037  29909037  0    +      promoter    \n",
       "3  31334844  31335844  0    -      promoter    \n",
       "4  31239907  31240907  0    -      promoter    \n",
       "5  46799299  46800299  0    +      promoter    \n",
       "6 177000340 177001340  0    +      promoter    "
      ]
     },
     "metadata": {},
     "output_type": "display_data"
    }
   ],
   "source": [
    "#retieve promoter coords\n",
    "df_pub_prom_annot = df_pub_prom %>% left_join(df_promoter_coords %>% distinct(gene_name, .keep_all=TRUE), by=c(\"Gene\"=\"gene_name\"))\n",
    "head(df_pub_prom_annot)"
   ]
  },
  {
   "cell_type": "code",
   "execution_count": 289,
   "id": "b42adb09",
   "metadata": {},
   "outputs": [
    {
     "data": {
      "text/html": [
       "<table class=\"dataframe\">\n",
       "<caption>A data.frame: 6 × 11</caption>\n",
       "<thead>\n",
       "\t<tr><th></th><th scope=col>region</th><th scope=col>Gene</th><th scope=col>probe</th><th scope=col>No..pubs</th><th scope=col>Source</th><th scope=col>note</th><th scope=col>chr</th><th scope=col>end</th><th scope=col>strand</th><th scope=col>type</th><th scope=col>start</th></tr>\n",
       "\t<tr><th></th><th scope=col>&lt;chr&gt;</th><th scope=col>&lt;chr&gt;</th><th scope=col>&lt;chr&gt;</th><th scope=col>&lt;int&gt;</th><th scope=col>&lt;chr&gt;</th><th scope=col>&lt;chr&gt;</th><th scope=col>&lt;chr&gt;</th><th scope=col>&lt;int&gt;</th><th scope=col>&lt;chr&gt;</th><th scope=col>&lt;chr&gt;</th><th scope=col>&lt;dbl&gt;</th></tr>\n",
       "</thead>\n",
       "<tbody>\n",
       "\t<tr><th scope=row>1</th><td></td><td>KLF8  </td><td>cg03834574</td><td>1</td><td>Ylitalo et al 2021</td><td>Hypermethylated</td><td>X </td><td> 56259094</td><td>R</td><td>EPIC_probe</td><td> 56259093</td></tr>\n",
       "\t<tr><th scope=row>2</th><td></td><td>HOPX  </td><td>cg21899596</td><td>1</td><td>Ylitalo et al 2021</td><td>Hypermethylated</td><td>4 </td><td> 57522493</td><td>R</td><td>EPIC_probe</td><td> 57522492</td></tr>\n",
       "\t<tr><th scope=row>3</th><td></td><td>RARB  </td><td>cg24396624</td><td>1</td><td>Ylitalo et al 2021</td><td>Hypermethylated</td><td>3 </td><td> 25469860</td><td>R</td><td>EPIC_probe</td><td> 25469859</td></tr>\n",
       "\t<tr><th scope=row>4</th><td></td><td>HIF3A </td><td>cg21544503</td><td>1</td><td>Ylitalo et al 2021</td><td>Hypermethylated</td><td>19</td><td> 46800131</td><td>R</td><td>EPIC_probe</td><td> 46800130</td></tr>\n",
       "\t<tr><th scope=row>5</th><td></td><td>HIF3A </td><td>cg14117138</td><td>1</td><td>Ylitalo et al 2021</td><td>Hypermethylated</td><td>19</td><td> 46800085</td><td>R</td><td>EPIC_probe</td><td> 46800084</td></tr>\n",
       "\t<tr><th scope=row>6</th><td></td><td>CXCL14</td><td>cg10493994</td><td>1</td><td>Ylitalo et al 2021</td><td>Hypermethylated</td><td>5 </td><td>134914932</td><td>F</td><td>EPIC_probe</td><td>134914931</td></tr>\n",
       "</tbody>\n",
       "</table>\n"
      ],
      "text/latex": [
       "A data.frame: 6 × 11\n",
       "\\begin{tabular}{r|lllllllllll}\n",
       "  & region & Gene & probe & No..pubs & Source & note & chr & end & strand & type & start\\\\\n",
       "  & <chr> & <chr> & <chr> & <int> & <chr> & <chr> & <chr> & <int> & <chr> & <chr> & <dbl>\\\\\n",
       "\\hline\n",
       "\t1 &  & KLF8   & cg03834574 & 1 & Ylitalo et al 2021 & Hypermethylated & X  &  56259094 & R & EPIC\\_probe &  56259093\\\\\n",
       "\t2 &  & HOPX   & cg21899596 & 1 & Ylitalo et al 2021 & Hypermethylated & 4  &  57522493 & R & EPIC\\_probe &  57522492\\\\\n",
       "\t3 &  & RARB   & cg24396624 & 1 & Ylitalo et al 2021 & Hypermethylated & 3  &  25469860 & R & EPIC\\_probe &  25469859\\\\\n",
       "\t4 &  & HIF3A  & cg21544503 & 1 & Ylitalo et al 2021 & Hypermethylated & 19 &  46800131 & R & EPIC\\_probe &  46800130\\\\\n",
       "\t5 &  & HIF3A  & cg14117138 & 1 & Ylitalo et al 2021 & Hypermethylated & 19 &  46800085 & R & EPIC\\_probe &  46800084\\\\\n",
       "\t6 &  & CXCL14 & cg10493994 & 1 & Ylitalo et al 2021 & Hypermethylated & 5  & 134914932 & F & EPIC\\_probe & 134914931\\\\\n",
       "\\end{tabular}\n"
      ],
      "text/markdown": [
       "\n",
       "A data.frame: 6 × 11\n",
       "\n",
       "| <!--/--> | region &lt;chr&gt; | Gene &lt;chr&gt; | probe &lt;chr&gt; | No..pubs &lt;int&gt; | Source &lt;chr&gt; | note &lt;chr&gt; | chr &lt;chr&gt; | end &lt;int&gt; | strand &lt;chr&gt; | type &lt;chr&gt; | start &lt;dbl&gt; |\n",
       "|---|---|---|---|---|---|---|---|---|---|---|---|\n",
       "| 1 | <!----> | KLF8   | cg03834574 | 1 | Ylitalo et al 2021 | Hypermethylated | X  |  56259094 | R | EPIC_probe |  56259093 |\n",
       "| 2 | <!----> | HOPX   | cg21899596 | 1 | Ylitalo et al 2021 | Hypermethylated | 4  |  57522493 | R | EPIC_probe |  57522492 |\n",
       "| 3 | <!----> | RARB   | cg24396624 | 1 | Ylitalo et al 2021 | Hypermethylated | 3  |  25469860 | R | EPIC_probe |  25469859 |\n",
       "| 4 | <!----> | HIF3A  | cg21544503 | 1 | Ylitalo et al 2021 | Hypermethylated | 19 |  46800131 | R | EPIC_probe |  46800130 |\n",
       "| 5 | <!----> | HIF3A  | cg14117138 | 1 | Ylitalo et al 2021 | Hypermethylated | 19 |  46800085 | R | EPIC_probe |  46800084 |\n",
       "| 6 | <!----> | CXCL14 | cg10493994 | 1 | Ylitalo et al 2021 | Hypermethylated | 5  | 134914932 | F | EPIC_probe | 134914931 |\n",
       "\n"
      ],
      "text/plain": [
       "  region Gene   probe      No..pubs Source             note            chr\n",
       "1        KLF8   cg03834574 1        Ylitalo et al 2021 Hypermethylated X  \n",
       "2        HOPX   cg21899596 1        Ylitalo et al 2021 Hypermethylated 4  \n",
       "3        RARB   cg24396624 1        Ylitalo et al 2021 Hypermethylated 3  \n",
       "4        HIF3A  cg21544503 1        Ylitalo et al 2021 Hypermethylated 19 \n",
       "5        HIF3A  cg14117138 1        Ylitalo et al 2021 Hypermethylated 19 \n",
       "6        CXCL14 cg10493994 1        Ylitalo et al 2021 Hypermethylated 5  \n",
       "  end       strand type       start    \n",
       "1  56259094 R      EPIC_probe  56259093\n",
       "2  57522493 R      EPIC_probe  57522492\n",
       "3  25469860 R      EPIC_probe  25469859\n",
       "4  46800131 R      EPIC_probe  46800130\n",
       "5  46800085 R      EPIC_probe  46800084\n",
       "6 134914932 F      EPIC_probe 134914931"
      ]
     },
     "metadata": {},
     "output_type": "display_data"
    }
   ],
   "source": [
    "head(df_pub_probes_annot)"
   ]
  },
  {
   "cell_type": "code",
   "execution_count": 290,
   "id": "e21dd800",
   "metadata": {},
   "outputs": [
    {
     "data": {
      "text/html": [
       "<style>\n",
       ".list-inline {list-style: none; margin:0; padding: 0}\n",
       ".list-inline>li {display: inline-block}\n",
       ".list-inline>li:not(:last-child)::after {content: \"\\00b7\"; padding: 0 .5ex}\n",
       "</style>\n",
       "<ol class=list-inline><li>'region'</li><li>'Gene'</li><li>'probe'</li><li>'No..pubs'</li><li>'Source'</li><li>'note'</li><li>'chr'</li><li>'start'</li><li>'end'</li><li>'score'</li><li>'strand'</li><li>'gencode.type'</li></ol>\n"
      ],
      "text/latex": [
       "\\begin{enumerate*}\n",
       "\\item 'region'\n",
       "\\item 'Gene'\n",
       "\\item 'probe'\n",
       "\\item 'No..pubs'\n",
       "\\item 'Source'\n",
       "\\item 'note'\n",
       "\\item 'chr'\n",
       "\\item 'start'\n",
       "\\item 'end'\n",
       "\\item 'score'\n",
       "\\item 'strand'\n",
       "\\item 'gencode.type'\n",
       "\\end{enumerate*}\n"
      ],
      "text/markdown": [
       "1. 'region'\n",
       "2. 'Gene'\n",
       "3. 'probe'\n",
       "4. 'No..pubs'\n",
       "5. 'Source'\n",
       "6. 'note'\n",
       "7. 'chr'\n",
       "8. 'start'\n",
       "9. 'end'\n",
       "10. 'score'\n",
       "11. 'strand'\n",
       "12. 'gencode.type'\n",
       "\n",
       "\n"
      ],
      "text/plain": [
       " [1] \"region\"       \"Gene\"         \"probe\"        \"No..pubs\"     \"Source\"      \n",
       " [6] \"note\"         \"chr\"          \"start\"        \"end\"          \"score\"       \n",
       "[11] \"strand\"       \"gencode.type\""
      ]
     },
     "metadata": {},
     "output_type": "display_data"
    },
    {
     "data": {
      "text/html": [
       "<style>\n",
       ".list-inline {list-style: none; margin:0; padding: 0}\n",
       ".list-inline>li {display: inline-block}\n",
       ".list-inline>li:not(:last-child)::after {content: \"\\00b7\"; padding: 0 .5ex}\n",
       "</style>\n",
       "<ol class=list-inline><li>'region'</li><li>'Gene'</li><li>'probe'</li><li>'No..pubs'</li><li>'Source'</li><li>'note'</li><li>'chr'</li><li>'end'</li><li>'strand'</li><li>'gencode.type'</li><li>NA</li><li>NA</li><li>'start'</li></ol>\n"
      ],
      "text/latex": [
       "\\begin{enumerate*}\n",
       "\\item 'region'\n",
       "\\item 'Gene'\n",
       "\\item 'probe'\n",
       "\\item 'No..pubs'\n",
       "\\item 'Source'\n",
       "\\item 'note'\n",
       "\\item 'chr'\n",
       "\\item 'end'\n",
       "\\item 'strand'\n",
       "\\item 'gencode.type'\n",
       "\\item NA\n",
       "\\item NA\n",
       "\\item 'start'\n",
       "\\end{enumerate*}\n"
      ],
      "text/markdown": [
       "1. 'region'\n",
       "2. 'Gene'\n",
       "3. 'probe'\n",
       "4. 'No..pubs'\n",
       "5. 'Source'\n",
       "6. 'note'\n",
       "7. 'chr'\n",
       "8. 'end'\n",
       "9. 'strand'\n",
       "10. 'gencode.type'\n",
       "11. NA\n",
       "12. NA\n",
       "13. 'start'\n",
       "\n",
       "\n"
      ],
      "text/plain": [
       " [1] \"region\"       \"Gene\"         \"probe\"        \"No..pubs\"     \"Source\"      \n",
       " [6] \"note\"         \"chr\"          \"end\"          \"strand\"       \"gencode.type\"\n",
       "[11] NA             NA             \"start\"       "
      ]
     },
     "metadata": {},
     "output_type": "display_data"
    },
    {
     "data": {
      "text/html": [
       "<style>\n",
       ".list-inline {list-style: none; margin:0; padding: 0}\n",
       ".list-inline>li {display: inline-block}\n",
       ".list-inline>li:not(:last-child)::after {content: \"\\00b7\"; padding: 0 .5ex}\n",
       "</style>\n",
       "<ol class=list-inline><li>'region'</li><li>'Gene'</li><li>'probe'</li><li>'No..pubs'</li><li>'Source'</li><li>'note'</li><li>'chr'</li><li>'start'</li><li>'end'</li><li>'score'</li><li>'strand'</li><li>'gencode.type'</li></ol>\n"
      ],
      "text/latex": [
       "\\begin{enumerate*}\n",
       "\\item 'region'\n",
       "\\item 'Gene'\n",
       "\\item 'probe'\n",
       "\\item 'No..pubs'\n",
       "\\item 'Source'\n",
       "\\item 'note'\n",
       "\\item 'chr'\n",
       "\\item 'start'\n",
       "\\item 'end'\n",
       "\\item 'score'\n",
       "\\item 'strand'\n",
       "\\item 'gencode.type'\n",
       "\\end{enumerate*}\n"
      ],
      "text/markdown": [
       "1. 'region'\n",
       "2. 'Gene'\n",
       "3. 'probe'\n",
       "4. 'No..pubs'\n",
       "5. 'Source'\n",
       "6. 'note'\n",
       "7. 'chr'\n",
       "8. 'start'\n",
       "9. 'end'\n",
       "10. 'score'\n",
       "11. 'strand'\n",
       "12. 'gencode.type'\n",
       "\n",
       "\n"
      ],
      "text/plain": [
       " [1] \"region\"       \"Gene\"         \"probe\"        \"No..pubs\"     \"Source\"      \n",
       " [6] \"note\"         \"chr\"          \"start\"        \"end\"          \"score\"       \n",
       "[11] \"strand\"       \"gencode.type\""
      ]
     },
     "metadata": {},
     "output_type": "display_data"
    }
   ],
   "source": [
    "df_pub_probes_annot$gencode.type = \"EPIC_probe\"\n",
    "colnames(df_pub_probes_annot) <- c(\"region\",\"Gene\",\"probe\",\"No..pubs\",\"Source\",\"note\",\n",
    "                             \"chr\",\"end\",\"strand\",\"gencode.type\")\n",
    "df_pub_probes_annot$start = as.numeric(df_pub_probes_annot$end) - 1\n",
    "\n",
    "colnames(df_pub_genes_annot)\n",
    "colnames(df_pub_probes_annot)\n",
    "colnames(df_pub_prom_annot)\n"
   ]
  },
  {
   "cell_type": "code",
   "execution_count": 291,
   "id": "1159324d",
   "metadata": {},
   "outputs": [
    {
     "data": {
      "text/html": [
       "<table class=\"dataframe\">\n",
       "<caption>A data.frame: 6 × 11</caption>\n",
       "<thead>\n",
       "\t<tr><th></th><th scope=col>region</th><th scope=col>Gene</th><th scope=col>probe</th><th scope=col>No..pubs</th><th scope=col>Source</th><th scope=col>note</th><th scope=col>chr</th><th scope=col>start</th><th scope=col>end</th><th scope=col>strand</th><th scope=col>gencode.type</th></tr>\n",
       "\t<tr><th></th><th scope=col>&lt;chr&gt;</th><th scope=col>&lt;chr&gt;</th><th scope=col>&lt;chr&gt;</th><th scope=col>&lt;int&gt;</th><th scope=col>&lt;chr&gt;</th><th scope=col>&lt;chr&gt;</th><th scope=col>&lt;chr&gt;</th><th scope=col>&lt;dbl&gt;</th><th scope=col>&lt;int&gt;</th><th scope=col>&lt;chr&gt;</th><th scope=col>&lt;chr&gt;</th></tr>\n",
       "</thead>\n",
       "<tbody>\n",
       "\t<tr><th scope=row>1</th><td></td><td>CD24  </td><td></td><td>NA</td><td>Lu et al 2022       </td><td>hypermethylated                    </td><td>NA   </td><td>       NA</td><td>       NA</td><td>NA</td><td>NA                </td></tr>\n",
       "\t<tr><th scope=row>2</th><td></td><td>TET2  </td><td></td><td> 1</td><td>Kukkonen et al. 2021</td><td>hypermethylated subtype            </td><td>chr4 </td><td>106066032</td><td>106200973</td><td>+ </td><td>gene_plus_promoter</td></tr>\n",
       "\t<tr><th scope=row>3</th><td></td><td>DNMT3B</td><td></td><td> 1</td><td>Kukkonen et al. 2021</td><td>hypermethylated subtype            </td><td>chr20</td><td> 31349191</td><td> 31397165</td><td>+ </td><td>gene_plus_promoter</td></tr>\n",
       "\t<tr><th scope=row>4</th><td></td><td>IDH1  </td><td></td><td> 1</td><td>Kukkonen et al. 2021</td><td>hypermethylated subtype            </td><td>chr2 </td><td>209100953</td><td>209131798</td><td>- </td><td>gene_plus_promoter</td></tr>\n",
       "\t<tr><th scope=row>5</th><td></td><td>BRAF  </td><td></td><td> 1</td><td>Kukkonen et al. 2021</td><td>hypermethylated subtype            </td><td>chr7 </td><td>140419127</td><td>140625729</td><td>- </td><td>gene_plus_promoter</td></tr>\n",
       "\t<tr><th scope=row>6</th><td></td><td>AR    </td><td></td><td> 1</td><td>Kukkonen et al. 2021</td><td>hypermethylated intergenic regions </td><td>chrX </td><td> 66762863</td><td> 66950461</td><td>+ </td><td>gene_plus_promoter</td></tr>\n",
       "</tbody>\n",
       "</table>\n"
      ],
      "text/latex": [
       "A data.frame: 6 × 11\n",
       "\\begin{tabular}{r|lllllllllll}\n",
       "  & region & Gene & probe & No..pubs & Source & note & chr & start & end & strand & gencode.type\\\\\n",
       "  & <chr> & <chr> & <chr> & <int> & <chr> & <chr> & <chr> & <dbl> & <int> & <chr> & <chr>\\\\\n",
       "\\hline\n",
       "\t1 &  & CD24   &  & NA & Lu et al 2022        & hypermethylated                     & NA    &        NA &        NA & NA & NA                \\\\\n",
       "\t2 &  & TET2   &  &  1 & Kukkonen et al. 2021 & hypermethylated subtype             & chr4  & 106066032 & 106200973 & +  & gene\\_plus\\_promoter\\\\\n",
       "\t3 &  & DNMT3B &  &  1 & Kukkonen et al. 2021 & hypermethylated subtype             & chr20 &  31349191 &  31397165 & +  & gene\\_plus\\_promoter\\\\\n",
       "\t4 &  & IDH1   &  &  1 & Kukkonen et al. 2021 & hypermethylated subtype             & chr2  & 209100953 & 209131798 & -  & gene\\_plus\\_promoter\\\\\n",
       "\t5 &  & BRAF   &  &  1 & Kukkonen et al. 2021 & hypermethylated subtype             & chr7  & 140419127 & 140625729 & -  & gene\\_plus\\_promoter\\\\\n",
       "\t6 &  & AR     &  &  1 & Kukkonen et al. 2021 & hypermethylated intergenic regions  & chrX  &  66762863 &  66950461 & +  & gene\\_plus\\_promoter\\\\\n",
       "\\end{tabular}\n"
      ],
      "text/markdown": [
       "\n",
       "A data.frame: 6 × 11\n",
       "\n",
       "| <!--/--> | region &lt;chr&gt; | Gene &lt;chr&gt; | probe &lt;chr&gt; | No..pubs &lt;int&gt; | Source &lt;chr&gt; | note &lt;chr&gt; | chr &lt;chr&gt; | start &lt;dbl&gt; | end &lt;int&gt; | strand &lt;chr&gt; | gencode.type &lt;chr&gt; |\n",
       "|---|---|---|---|---|---|---|---|---|---|---|---|\n",
       "| 1 | <!----> | CD24   | <!----> | NA | Lu et al 2022        | hypermethylated                     | NA    |        NA |        NA | NA | NA                 |\n",
       "| 2 | <!----> | TET2   | <!----> |  1 | Kukkonen et al. 2021 | hypermethylated subtype             | chr4  | 106066032 | 106200973 | +  | gene_plus_promoter |\n",
       "| 3 | <!----> | DNMT3B | <!----> |  1 | Kukkonen et al. 2021 | hypermethylated subtype             | chr20 |  31349191 |  31397165 | +  | gene_plus_promoter |\n",
       "| 4 | <!----> | IDH1   | <!----> |  1 | Kukkonen et al. 2021 | hypermethylated subtype             | chr2  | 209100953 | 209131798 | -  | gene_plus_promoter |\n",
       "| 5 | <!----> | BRAF   | <!----> |  1 | Kukkonen et al. 2021 | hypermethylated subtype             | chr7  | 140419127 | 140625729 | -  | gene_plus_promoter |\n",
       "| 6 | <!----> | AR     | <!----> |  1 | Kukkonen et al. 2021 | hypermethylated intergenic regions  | chrX  |  66762863 |  66950461 | +  | gene_plus_promoter |\n",
       "\n"
      ],
      "text/plain": [
       "  region Gene   probe No..pubs Source              \n",
       "1        CD24         NA       Lu et al 2022       \n",
       "2        TET2          1       Kukkonen et al. 2021\n",
       "3        DNMT3B        1       Kukkonen et al. 2021\n",
       "4        IDH1          1       Kukkonen et al. 2021\n",
       "5        BRAF          1       Kukkonen et al. 2021\n",
       "6        AR            1       Kukkonen et al. 2021\n",
       "  note                                chr   start     end       strand\n",
       "1 hypermethylated                     NA           NA        NA NA    \n",
       "2 hypermethylated subtype             chr4  106066032 106200973 +     \n",
       "3 hypermethylated subtype             chr20  31349191  31397165 +     \n",
       "4 hypermethylated subtype             chr2  209100953 209131798 -     \n",
       "5 hypermethylated subtype             chr7  140419127 140625729 -     \n",
       "6 hypermethylated intergenic regions  chrX   66762863  66950461 +     \n",
       "  gencode.type      \n",
       "1 NA                \n",
       "2 gene_plus_promoter\n",
       "3 gene_plus_promoter\n",
       "4 gene_plus_promoter\n",
       "5 gene_plus_promoter\n",
       "6 gene_plus_promoter"
      ]
     },
     "metadata": {},
     "output_type": "display_data"
    }
   ],
   "source": [
    "# put the full pub table back together\n",
    "cols = c(\"region\",\"Gene\",\"probe\",\"No..pubs\",\"Source\",\"note\",\n",
    "                             \"chr\",\"start\",\"end\",\"strand\",\"gencode.type\")\n",
    "df_pubs_annot = rbind(df_pub_genes_annot[,cols], df_pub_probes_annot[,cols], df_pub_prom_annot[,cols])\n",
    "head(df_pubs_annot)"
   ]
  },
  {
   "cell_type": "code",
   "execution_count": 292,
   "id": "7bf6c8d0",
   "metadata": {},
   "outputs": [
    {
     "data": {
      "text/html": [
       "<table class=\"dataframe\">\n",
       "<caption>A data.frame: 6 × 11</caption>\n",
       "<thead>\n",
       "\t<tr><th></th><th scope=col>region</th><th scope=col>Gene</th><th scope=col>probe</th><th scope=col>No..pubs</th><th scope=col>Source</th><th scope=col>note</th><th scope=col>chr</th><th scope=col>start</th><th scope=col>end</th><th scope=col>strand</th><th scope=col>gencode.type</th></tr>\n",
       "\t<tr><th></th><th scope=col>&lt;chr&gt;</th><th scope=col>&lt;chr&gt;</th><th scope=col>&lt;chr&gt;</th><th scope=col>&lt;int&gt;</th><th scope=col>&lt;chr&gt;</th><th scope=col>&lt;chr&gt;</th><th scope=col>&lt;chr&gt;</th><th scope=col>&lt;dbl&gt;</th><th scope=col>&lt;int&gt;</th><th scope=col>&lt;chr&gt;</th><th scope=col>&lt;chr&gt;</th></tr>\n",
       "</thead>\n",
       "<tbody>\n",
       "\t<tr><th scope=row>9</th><td>        </td><td>GSTP1</td><td>          </td><td> 1</td><td>Constancio et al. 2019</td><td>early detection</td><td>chr11</td><td>67350213</td><td>67354127</td><td>+</td><td>gene_plus_promoter</td></tr>\n",
       "\t<tr><th scope=row>23</th><td>        </td><td>GSTP1</td><td>          </td><td>12</td><td>Massie et al. 2017    </td><td>               </td><td>chr11</td><td>67350213</td><td>67354127</td><td>+</td><td>gene_plus_promoter</td></tr>\n",
       "\t<tr><th scope=row>5772</th><td>        </td><td>GSTP1</td><td>cg02659086</td><td> 1</td><td>Ylitalo et al 2021    </td><td>Hypermethylated</td><td>11   </td><td>67350975</td><td>67350976</td><td>R</td><td>EPIC_probe        </td></tr>\n",
       "\t<tr><th scope=row>7118</th><td>        </td><td>GSTP1</td><td>cg04920951</td><td> 1</td><td>Ylitalo et al 2021    </td><td>Hypermethylated</td><td>11   </td><td>67351270</td><td>67351271</td><td>R</td><td>EPIC_probe        </td></tr>\n",
       "\t<tr><th scope=row>7557</th><td>        </td><td>GSTP1</td><td>cg26250609</td><td> 1</td><td>Ylitalo et al 2021    </td><td>Hypermethylated</td><td>11   </td><td>67351272</td><td>67351273</td><td>F</td><td>EPIC_probe        </td></tr>\n",
       "\t<tr><th scope=row>9990</th><td>promoter</td><td>GSTP1</td><td>          </td><td> 1</td><td>Sugiura et al 2021    </td><td>hypermethylated</td><td>11   </td><td>67350213</td><td>67351213</td><td>+</td><td>promoter          </td></tr>\n",
       "</tbody>\n",
       "</table>\n"
      ],
      "text/latex": [
       "A data.frame: 6 × 11\n",
       "\\begin{tabular}{r|lllllllllll}\n",
       "  & region & Gene & probe & No..pubs & Source & note & chr & start & end & strand & gencode.type\\\\\n",
       "  & <chr> & <chr> & <chr> & <int> & <chr> & <chr> & <chr> & <dbl> & <int> & <chr> & <chr>\\\\\n",
       "\\hline\n",
       "\t9 &          & GSTP1 &            &  1 & Constancio et al. 2019 & early detection & chr11 & 67350213 & 67354127 & + & gene\\_plus\\_promoter\\\\\n",
       "\t23 &          & GSTP1 &            & 12 & Massie et al. 2017     &                 & chr11 & 67350213 & 67354127 & + & gene\\_plus\\_promoter\\\\\n",
       "\t5772 &          & GSTP1 & cg02659086 &  1 & Ylitalo et al 2021     & Hypermethylated & 11    & 67350975 & 67350976 & R & EPIC\\_probe        \\\\\n",
       "\t7118 &          & GSTP1 & cg04920951 &  1 & Ylitalo et al 2021     & Hypermethylated & 11    & 67351270 & 67351271 & R & EPIC\\_probe        \\\\\n",
       "\t7557 &          & GSTP1 & cg26250609 &  1 & Ylitalo et al 2021     & Hypermethylated & 11    & 67351272 & 67351273 & F & EPIC\\_probe        \\\\\n",
       "\t9990 & promoter & GSTP1 &            &  1 & Sugiura et al 2021     & hypermethylated & 11    & 67350213 & 67351213 & + & promoter          \\\\\n",
       "\\end{tabular}\n"
      ],
      "text/markdown": [
       "\n",
       "A data.frame: 6 × 11\n",
       "\n",
       "| <!--/--> | region &lt;chr&gt; | Gene &lt;chr&gt; | probe &lt;chr&gt; | No..pubs &lt;int&gt; | Source &lt;chr&gt; | note &lt;chr&gt; | chr &lt;chr&gt; | start &lt;dbl&gt; | end &lt;int&gt; | strand &lt;chr&gt; | gencode.type &lt;chr&gt; |\n",
       "|---|---|---|---|---|---|---|---|---|---|---|---|\n",
       "| 9 | <!----> | GSTP1 | <!----> |  1 | Constancio et al. 2019 | early detection | chr11 | 67350213 | 67354127 | + | gene_plus_promoter |\n",
       "| 23 | <!----> | GSTP1 | <!----> | 12 | Massie et al. 2017     | <!----> | chr11 | 67350213 | 67354127 | + | gene_plus_promoter |\n",
       "| 5772 | <!----> | GSTP1 | cg02659086 |  1 | Ylitalo et al 2021     | Hypermethylated | 11    | 67350975 | 67350976 | R | EPIC_probe         |\n",
       "| 7118 | <!----> | GSTP1 | cg04920951 |  1 | Ylitalo et al 2021     | Hypermethylated | 11    | 67351270 | 67351271 | R | EPIC_probe         |\n",
       "| 7557 | <!----> | GSTP1 | cg26250609 |  1 | Ylitalo et al 2021     | Hypermethylated | 11    | 67351272 | 67351273 | F | EPIC_probe         |\n",
       "| 9990 | promoter | GSTP1 | <!----> |  1 | Sugiura et al 2021     | hypermethylated | 11    | 67350213 | 67351213 | + | promoter           |\n",
       "\n"
      ],
      "text/plain": [
       "     region   Gene  probe      No..pubs Source                 note           \n",
       "9             GSTP1             1       Constancio et al. 2019 early detection\n",
       "23            GSTP1            12       Massie et al. 2017                    \n",
       "5772          GSTP1 cg02659086  1       Ylitalo et al 2021     Hypermethylated\n",
       "7118          GSTP1 cg04920951  1       Ylitalo et al 2021     Hypermethylated\n",
       "7557          GSTP1 cg26250609  1       Ylitalo et al 2021     Hypermethylated\n",
       "9990 promoter GSTP1             1       Sugiura et al 2021     hypermethylated\n",
       "     chr   start    end      strand gencode.type      \n",
       "9    chr11 67350213 67354127 +      gene_plus_promoter\n",
       "23   chr11 67350213 67354127 +      gene_plus_promoter\n",
       "5772 11    67350975 67350976 R      EPIC_probe        \n",
       "7118 11    67351270 67351271 R      EPIC_probe        \n",
       "7557 11    67351272 67351273 F      EPIC_probe        \n",
       "9990 11    67350213 67351213 +      promoter          "
      ]
     },
     "metadata": {},
     "output_type": "display_data"
    }
   ],
   "source": [
    "df_pubs_annot[df_pubs_annot$Gene==\"GSTP1\",]"
   ]
  },
  {
   "cell_type": "code",
   "execution_count": 307,
   "id": "974c2b89",
   "metadata": {},
   "outputs": [
    {
     "data": {
      "text/html": [
       "9058"
      ],
      "text/latex": [
       "9058"
      ],
      "text/markdown": [
       "9058"
      ],
      "text/plain": [
       "[1] 9058"
      ]
     },
     "metadata": {},
     "output_type": "display_data"
    }
   ],
   "source": [
    "df_pubs_annot$No..pubs[is.na(df_pubs_annot$No..pubs)] <- 1\n",
    "df_pubs_annot <- df_pubs_annot[!is.na(df_pubs_annot$chr),]\n",
    "df_pubs_annot$pub.reg.type <- df_pubs_annot$gencode.type\n",
    "nrow(df_pubs_annot)\n",
    "                             \n",
    "#df_pubs_annot = df_pubs_annot[,c(\"chr\",\"start\",\"end\",\"Gene\",\"probe\",\"strand\",\"Source\",\"type\",\"note\",\"No..pubs\")]\n",
    "write.table(df_pubs_annot, file=\"./marker_collation/study_gene_regions_wcoords_hg19.bed\", sep=\"\\t\",\n",
    "           quote=FALSE)"
   ]
  },
  {
   "cell_type": "markdown",
   "id": "d040a745",
   "metadata": {},
   "source": [
    "## join all data, reannotate gene names, count pub no. per gene"
   ]
  },
  {
   "cell_type": "code",
   "execution_count": 308,
   "id": "7b686b94",
   "metadata": {},
   "outputs": [
    {
     "data": {
      "text/html": [
       "<style>\n",
       ".list-inline {list-style: none; margin:0; padding: 0}\n",
       ".list-inline>li {display: inline-block}\n",
       ".list-inline>li:not(:last-child)::after {content: \"\\00b7\"; padding: 0 .5ex}\n",
       "</style>\n",
       "<ol class=list-inline><li>'region'</li><li>'Gene'</li><li>'probe'</li><li>'No..pubs'</li><li>'Source'</li><li>'note'</li><li>'chr'</li><li>'start'</li><li>'end'</li><li>'strand'</li><li>'gencode.type'</li><li>'pub.reg.type'</li></ol>\n"
      ],
      "text/latex": [
       "\\begin{enumerate*}\n",
       "\\item 'region'\n",
       "\\item 'Gene'\n",
       "\\item 'probe'\n",
       "\\item 'No..pubs'\n",
       "\\item 'Source'\n",
       "\\item 'note'\n",
       "\\item 'chr'\n",
       "\\item 'start'\n",
       "\\item 'end'\n",
       "\\item 'strand'\n",
       "\\item 'gencode.type'\n",
       "\\item 'pub.reg.type'\n",
       "\\end{enumerate*}\n"
      ],
      "text/markdown": [
       "1. 'region'\n",
       "2. 'Gene'\n",
       "3. 'probe'\n",
       "4. 'No..pubs'\n",
       "5. 'Source'\n",
       "6. 'note'\n",
       "7. 'chr'\n",
       "8. 'start'\n",
       "9. 'end'\n",
       "10. 'strand'\n",
       "11. 'gencode.type'\n",
       "12. 'pub.reg.type'\n",
       "\n",
       "\n"
      ],
      "text/plain": [
       " [1] \"region\"       \"Gene\"         \"probe\"        \"No..pubs\"     \"Source\"      \n",
       " [6] \"note\"         \"chr\"          \"start\"        \"end\"          \"strand\"      \n",
       "[11] \"gencode.type\" \"pub.reg.type\""
      ]
     },
     "metadata": {},
     "output_type": "display_data"
    },
    {
     "data": {
      "text/html": [
       "<table class=\"dataframe\">\n",
       "<caption>A data.frame: 6 × 12</caption>\n",
       "<thead>\n",
       "\t<tr><th></th><th scope=col>region</th><th scope=col>Gene</th><th scope=col>probe</th><th scope=col>No..pubs</th><th scope=col>Source</th><th scope=col>note</th><th scope=col>chr</th><th scope=col>start</th><th scope=col>end</th><th scope=col>strand</th><th scope=col>gencode.type</th><th scope=col>pub.reg.type</th></tr>\n",
       "\t<tr><th></th><th scope=col>&lt;chr&gt;</th><th scope=col>&lt;chr&gt;</th><th scope=col>&lt;chr&gt;</th><th scope=col>&lt;int&gt;</th><th scope=col>&lt;chr&gt;</th><th scope=col>&lt;chr&gt;</th><th scope=col>&lt;chr&gt;</th><th scope=col>&lt;int&gt;</th><th scope=col>&lt;int&gt;</th><th scope=col>&lt;chr&gt;</th><th scope=col>&lt;chr&gt;</th><th scope=col>&lt;chr&gt;</th></tr>\n",
       "</thead>\n",
       "<tbody>\n",
       "\t<tr><th scope=row>2</th><td></td><td>TET2  </td><td></td><td>1</td><td>Kukkonen et al. 2021</td><td>hypermethylated subtype            </td><td>chr4 </td><td>106066032</td><td>106200973</td><td>+</td><td>gene_plus_promoter</td><td>gene_plus_promoter</td></tr>\n",
       "\t<tr><th scope=row>3</th><td></td><td>DNMT3B</td><td></td><td>1</td><td>Kukkonen et al. 2021</td><td>hypermethylated subtype            </td><td>chr20</td><td> 31349191</td><td> 31397165</td><td>+</td><td>gene_plus_promoter</td><td>gene_plus_promoter</td></tr>\n",
       "\t<tr><th scope=row>4</th><td></td><td>IDH1  </td><td></td><td>1</td><td>Kukkonen et al. 2021</td><td>hypermethylated subtype            </td><td>chr2 </td><td>209100953</td><td>209131798</td><td>-</td><td>gene_plus_promoter</td><td>gene_plus_promoter</td></tr>\n",
       "\t<tr><th scope=row>5</th><td></td><td>BRAF  </td><td></td><td>1</td><td>Kukkonen et al. 2021</td><td>hypermethylated subtype            </td><td>chr7 </td><td>140419127</td><td>140625729</td><td>-</td><td>gene_plus_promoter</td><td>gene_plus_promoter</td></tr>\n",
       "\t<tr><th scope=row>6</th><td></td><td>AR    </td><td></td><td>1</td><td>Kukkonen et al. 2021</td><td>hypermethylated intergenic regions </td><td>chrX </td><td> 66762863</td><td> 66950461</td><td>+</td><td>gene_plus_promoter</td><td>gene_plus_promoter</td></tr>\n",
       "\t<tr><th scope=row>7</th><td></td><td>MYC   </td><td></td><td>1</td><td>Kukkonen et al. 2021</td><td>hypermethylated intergenic regions </td><td>chr8 </td><td>128746680</td><td>128755197</td><td>+</td><td>gene_plus_promoter</td><td>gene_plus_promoter</td></tr>\n",
       "</tbody>\n",
       "</table>\n"
      ],
      "text/latex": [
       "A data.frame: 6 × 12\n",
       "\\begin{tabular}{r|llllllllllll}\n",
       "  & region & Gene & probe & No..pubs & Source & note & chr & start & end & strand & gencode.type & pub.reg.type\\\\\n",
       "  & <chr> & <chr> & <chr> & <int> & <chr> & <chr> & <chr> & <int> & <int> & <chr> & <chr> & <chr>\\\\\n",
       "\\hline\n",
       "\t2 &  & TET2   &  & 1 & Kukkonen et al. 2021 & hypermethylated subtype             & chr4  & 106066032 & 106200973 & + & gene\\_plus\\_promoter & gene\\_plus\\_promoter\\\\\n",
       "\t3 &  & DNMT3B &  & 1 & Kukkonen et al. 2021 & hypermethylated subtype             & chr20 &  31349191 &  31397165 & + & gene\\_plus\\_promoter & gene\\_plus\\_promoter\\\\\n",
       "\t4 &  & IDH1   &  & 1 & Kukkonen et al. 2021 & hypermethylated subtype             & chr2  & 209100953 & 209131798 & - & gene\\_plus\\_promoter & gene\\_plus\\_promoter\\\\\n",
       "\t5 &  & BRAF   &  & 1 & Kukkonen et al. 2021 & hypermethylated subtype             & chr7  & 140419127 & 140625729 & - & gene\\_plus\\_promoter & gene\\_plus\\_promoter\\\\\n",
       "\t6 &  & AR     &  & 1 & Kukkonen et al. 2021 & hypermethylated intergenic regions  & chrX  &  66762863 &  66950461 & + & gene\\_plus\\_promoter & gene\\_plus\\_promoter\\\\\n",
       "\t7 &  & MYC    &  & 1 & Kukkonen et al. 2021 & hypermethylated intergenic regions  & chr8  & 128746680 & 128755197 & + & gene\\_plus\\_promoter & gene\\_plus\\_promoter\\\\\n",
       "\\end{tabular}\n"
      ],
      "text/markdown": [
       "\n",
       "A data.frame: 6 × 12\n",
       "\n",
       "| <!--/--> | region &lt;chr&gt; | Gene &lt;chr&gt; | probe &lt;chr&gt; | No..pubs &lt;int&gt; | Source &lt;chr&gt; | note &lt;chr&gt; | chr &lt;chr&gt; | start &lt;int&gt; | end &lt;int&gt; | strand &lt;chr&gt; | gencode.type &lt;chr&gt; | pub.reg.type &lt;chr&gt; |\n",
       "|---|---|---|---|---|---|---|---|---|---|---|---|---|\n",
       "| 2 | <!----> | TET2   | <!----> | 1 | Kukkonen et al. 2021 | hypermethylated subtype             | chr4  | 106066032 | 106200973 | + | gene_plus_promoter | gene_plus_promoter |\n",
       "| 3 | <!----> | DNMT3B | <!----> | 1 | Kukkonen et al. 2021 | hypermethylated subtype             | chr20 |  31349191 |  31397165 | + | gene_plus_promoter | gene_plus_promoter |\n",
       "| 4 | <!----> | IDH1   | <!----> | 1 | Kukkonen et al. 2021 | hypermethylated subtype             | chr2  | 209100953 | 209131798 | - | gene_plus_promoter | gene_plus_promoter |\n",
       "| 5 | <!----> | BRAF   | <!----> | 1 | Kukkonen et al. 2021 | hypermethylated subtype             | chr7  | 140419127 | 140625729 | - | gene_plus_promoter | gene_plus_promoter |\n",
       "| 6 | <!----> | AR     | <!----> | 1 | Kukkonen et al. 2021 | hypermethylated intergenic regions  | chrX  |  66762863 |  66950461 | + | gene_plus_promoter | gene_plus_promoter |\n",
       "| 7 | <!----> | MYC    | <!----> | 1 | Kukkonen et al. 2021 | hypermethylated intergenic regions  | chr8  | 128746680 | 128755197 | + | gene_plus_promoter | gene_plus_promoter |\n",
       "\n"
      ],
      "text/plain": [
       "  region Gene   probe No..pubs Source              \n",
       "2        TET2         1        Kukkonen et al. 2021\n",
       "3        DNMT3B       1        Kukkonen et al. 2021\n",
       "4        IDH1         1        Kukkonen et al. 2021\n",
       "5        BRAF         1        Kukkonen et al. 2021\n",
       "6        AR           1        Kukkonen et al. 2021\n",
       "7        MYC          1        Kukkonen et al. 2021\n",
       "  note                                chr   start     end       strand\n",
       "2 hypermethylated subtype             chr4  106066032 106200973 +     \n",
       "3 hypermethylated subtype             chr20  31349191  31397165 +     \n",
       "4 hypermethylated subtype             chr2  209100953 209131798 -     \n",
       "5 hypermethylated subtype             chr7  140419127 140625729 -     \n",
       "6 hypermethylated intergenic regions  chrX   66762863  66950461 +     \n",
       "7 hypermethylated intergenic regions  chr8  128746680 128755197 +     \n",
       "  gencode.type       pub.reg.type      \n",
       "2 gene_plus_promoter gene_plus_promoter\n",
       "3 gene_plus_promoter gene_plus_promoter\n",
       "4 gene_plus_promoter gene_plus_promoter\n",
       "5 gene_plus_promoter gene_plus_promoter\n",
       "6 gene_plus_promoter gene_plus_promoter\n",
       "7 gene_plus_promoter gene_plus_promoter"
      ]
     },
     "metadata": {},
     "output_type": "display_data"
    },
    {
     "data": {
      "text/html": [
       "<style>\n",
       ".list-inline {list-style: none; margin:0; padding: 0}\n",
       ".list-inline>li {display: inline-block}\n",
       ".list-inline>li:not(:last-child)::after {content: \"\\00b7\"; padding: 0 .5ex}\n",
       "</style>\n",
       "<ol class=list-inline><li>9058</li><li>12</li></ol>\n"
      ],
      "text/latex": [
       "\\begin{enumerate*}\n",
       "\\item 9058\n",
       "\\item 12\n",
       "\\end{enumerate*}\n"
      ],
      "text/markdown": [
       "1. 9058\n",
       "2. 12\n",
       "\n",
       "\n"
      ],
      "text/plain": [
       "[1] 9058   12"
      ]
     },
     "metadata": {},
     "output_type": "display_data"
    }
   ],
   "source": [
    "df_pubs = read.table(file=\"./marker_collation//study_gene_regions_wcoords_hg19.bed\",sep=\"\\t\",header=TRUE)\n",
    "names(df_pubs)\n",
    "#colnames(df_pubs) <- c(\"chr\",\"start\",\"end\",\"pub.gene.name\",\"probe\",\"strand\",\"source\",\"pub.reg.type\",\"notes\",\"no.pubs\")\n",
    "head(df_pubs)\n",
    "dim(df_pubs)"
   ]
  },
  {
   "cell_type": "code",
   "execution_count": 295,
   "id": "415cbbcf",
   "metadata": {},
   "outputs": [
    {
     "data": {
      "text/html": [
       "<table class=\"dataframe\">\n",
       "<caption>A data.frame: 6 × 12</caption>\n",
       "<thead>\n",
       "\t<tr><th></th><th scope=col>chr</th><th scope=col>start</th><th scope=col>end</th><th scope=col>dot1</th><th scope=col>dot2</th><th scope=col>strand</th><th scope=col>source</th><th scope=col>notes</th><th scope=col>pub.gene.name</th><th scope=col>pub.reg.type</th><th scope=col>no.pubs</th><th scope=col>probe</th></tr>\n",
       "\t<tr><th></th><th scope=col>&lt;chr&gt;</th><th scope=col>&lt;int&gt;</th><th scope=col>&lt;int&gt;</th><th scope=col>&lt;chr&gt;</th><th scope=col>&lt;chr&gt;</th><th scope=col>&lt;chr&gt;</th><th scope=col>&lt;chr&gt;</th><th scope=col>&lt;chr&gt;</th><th scope=col>&lt;lgl&gt;</th><th scope=col>&lt;chr&gt;</th><th scope=col>&lt;dbl&gt;</th><th scope=col>&lt;lgl&gt;</th></tr>\n",
       "</thead>\n",
       "<tbody>\n",
       "\t<tr><th scope=row>1</th><td>chr1</td><td>833806</td><td>834358</td><td>.</td><td>.</td><td>.</td><td>Beltran et al 2020</td><td>Hyper-methylated</td><td>NA</td><td>DMR</td><td>1</td><td>NA</td></tr>\n",
       "\t<tr><th scope=row>2</th><td>chr1</td><td>841565</td><td>843221</td><td>.</td><td>.</td><td>.</td><td>Beltran et al 2020</td><td>Hyper-methylated</td><td>NA</td><td>DMR</td><td>1</td><td>NA</td></tr>\n",
       "\t<tr><th scope=row>3</th><td>chr1</td><td>861132</td><td>861612</td><td>.</td><td>.</td><td>.</td><td>Beltran et al 2020</td><td>Hyper-methylated</td><td>NA</td><td>DMR</td><td>1</td><td>NA</td></tr>\n",
       "\t<tr><th scope=row>4</th><td>chr1</td><td>863044</td><td>863496</td><td>.</td><td>.</td><td>.</td><td>Beltran et al 2020</td><td>Hypo-methylated </td><td>NA</td><td>DMR</td><td>1</td><td>NA</td></tr>\n",
       "\t<tr><th scope=row>5</th><td>chr1</td><td>868475</td><td>869290</td><td>.</td><td>.</td><td>.</td><td>Beltran et al 2020</td><td>Hypo-methylated </td><td>NA</td><td>DMR</td><td>1</td><td>NA</td></tr>\n",
       "\t<tr><th scope=row>6</th><td>chr1</td><td>906156</td><td>907273</td><td>.</td><td>.</td><td>.</td><td>Beltran et al 2020</td><td>Hyper-methylated</td><td>NA</td><td>DMR</td><td>1</td><td>NA</td></tr>\n",
       "</tbody>\n",
       "</table>\n"
      ],
      "text/latex": [
       "A data.frame: 6 × 12\n",
       "\\begin{tabular}{r|llllllllllll}\n",
       "  & chr & start & end & dot1 & dot2 & strand & source & notes & pub.gene.name & pub.reg.type & no.pubs & probe\\\\\n",
       "  & <chr> & <int> & <int> & <chr> & <chr> & <chr> & <chr> & <chr> & <lgl> & <chr> & <dbl> & <lgl>\\\\\n",
       "\\hline\n",
       "\t1 & chr1 & 833806 & 834358 & . & . & . & Beltran et al 2020 & Hyper-methylated & NA & DMR & 1 & NA\\\\\n",
       "\t2 & chr1 & 841565 & 843221 & . & . & . & Beltran et al 2020 & Hyper-methylated & NA & DMR & 1 & NA\\\\\n",
       "\t3 & chr1 & 861132 & 861612 & . & . & . & Beltran et al 2020 & Hyper-methylated & NA & DMR & 1 & NA\\\\\n",
       "\t4 & chr1 & 863044 & 863496 & . & . & . & Beltran et al 2020 & Hypo-methylated  & NA & DMR & 1 & NA\\\\\n",
       "\t5 & chr1 & 868475 & 869290 & . & . & . & Beltran et al 2020 & Hypo-methylated  & NA & DMR & 1 & NA\\\\\n",
       "\t6 & chr1 & 906156 & 907273 & . & . & . & Beltran et al 2020 & Hyper-methylated & NA & DMR & 1 & NA\\\\\n",
       "\\end{tabular}\n"
      ],
      "text/markdown": [
       "\n",
       "A data.frame: 6 × 12\n",
       "\n",
       "| <!--/--> | chr &lt;chr&gt; | start &lt;int&gt; | end &lt;int&gt; | dot1 &lt;chr&gt; | dot2 &lt;chr&gt; | strand &lt;chr&gt; | source &lt;chr&gt; | notes &lt;chr&gt; | pub.gene.name &lt;lgl&gt; | pub.reg.type &lt;chr&gt; | no.pubs &lt;dbl&gt; | probe &lt;lgl&gt; |\n",
       "|---|---|---|---|---|---|---|---|---|---|---|---|---|\n",
       "| 1 | chr1 | 833806 | 834358 | . | . | . | Beltran et al 2020 | Hyper-methylated | NA | DMR | 1 | NA |\n",
       "| 2 | chr1 | 841565 | 843221 | . | . | . | Beltran et al 2020 | Hyper-methylated | NA | DMR | 1 | NA |\n",
       "| 3 | chr1 | 861132 | 861612 | . | . | . | Beltran et al 2020 | Hyper-methylated | NA | DMR | 1 | NA |\n",
       "| 4 | chr1 | 863044 | 863496 | . | . | . | Beltran et al 2020 | Hypo-methylated  | NA | DMR | 1 | NA |\n",
       "| 5 | chr1 | 868475 | 869290 | . | . | . | Beltran et al 2020 | Hypo-methylated  | NA | DMR | 1 | NA |\n",
       "| 6 | chr1 | 906156 | 907273 | . | . | . | Beltran et al 2020 | Hyper-methylated | NA | DMR | 1 | NA |\n",
       "\n"
      ],
      "text/plain": [
       "  chr  start  end    dot1 dot2 strand source             notes           \n",
       "1 chr1 833806 834358 .    .    .      Beltran et al 2020 Hyper-methylated\n",
       "2 chr1 841565 843221 .    .    .      Beltran et al 2020 Hyper-methylated\n",
       "3 chr1 861132 861612 .    .    .      Beltran et al 2020 Hyper-methylated\n",
       "4 chr1 863044 863496 .    .    .      Beltran et al 2020 Hypo-methylated \n",
       "5 chr1 868475 869290 .    .    .      Beltran et al 2020 Hypo-methylated \n",
       "6 chr1 906156 907273 .    .    .      Beltran et al 2020 Hyper-methylated\n",
       "  pub.gene.name pub.reg.type no.pubs probe\n",
       "1 NA            DMR          1       NA   \n",
       "2 NA            DMR          1       NA   \n",
       "3 NA            DMR          1       NA   \n",
       "4 NA            DMR          1       NA   \n",
       "5 NA            DMR          1       NA   \n",
       "6 NA            DMR          1       NA   "
      ]
     },
     "metadata": {},
     "output_type": "display_data"
    }
   ],
   "source": [
    "df_beltran = read.table(file=\"./marker_collation//Beltran_2020_DMRs_hg19.bed\", sep=\"\\t\", header=FALSE)\n",
    "colnames(df_beltran) <- c(\"chr\",\"start\",\"end\",\"dot1\",\"dot2\",\"strand\",\"source\",\"notes\")\n",
    "df_beltran$pub.gene.name <- NA\n",
    "df_beltran$pub.reg.type <- \"DMR\"\n",
    "df_beltran$no.pubs <- 1\n",
    "df_beltran$probe <- NA\n",
    "head(df_beltran)"
   ]
  },
  {
   "cell_type": "code",
   "execution_count": 314,
   "id": "0066fa8b",
   "metadata": {},
   "outputs": [
    {
     "data": {
      "text/html": [
       "<table class=\"dataframe\">\n",
       "<caption>A data.frame: 6 × 10</caption>\n",
       "<thead>\n",
       "\t<tr><th></th><th scope=col>chr</th><th scope=col>start</th><th scope=col>end</th><th scope=col>source</th><th scope=col>status</th><th scope=col>pub.gene.name</th><th scope=col>pub.reg.type</th><th scope=col>no.pubs</th><th scope=col>probe</th><th scope=col>strand</th></tr>\n",
       "\t<tr><th></th><th scope=col>&lt;chr&gt;</th><th scope=col>&lt;int&gt;</th><th scope=col>&lt;int&gt;</th><th scope=col>&lt;chr&gt;</th><th scope=col>&lt;chr&gt;</th><th scope=col>&lt;lgl&gt;</th><th scope=col>&lt;chr&gt;</th><th scope=col>&lt;dbl&gt;</th><th scope=col>&lt;lgl&gt;</th><th scope=col>&lt;chr&gt;</th></tr>\n",
       "</thead>\n",
       "<tbody>\n",
       "\t<tr><th scope=row>1</th><td>chr1</td><td> 29194</td><td> 29436</td><td>Zhao et al 2020</td><td>hypomethylated </td><td>NA</td><td>DMR</td><td>1</td><td>NA</td><td>.</td></tr>\n",
       "\t<tr><th scope=row>2</th><td>chr1</td><td> 51588</td><td> 51682</td><td>Zhao et al 2020</td><td>hypomethylated </td><td>NA</td><td>DMR</td><td>1</td><td>NA</td><td>.</td></tr>\n",
       "\t<tr><th scope=row>3</th><td>chr1</td><td>535828</td><td>535879</td><td>Zhao et al 2020</td><td>hypomethylated </td><td>NA</td><td>DMR</td><td>1</td><td>NA</td><td>.</td></tr>\n",
       "\t<tr><th scope=row>4</th><td>chr1</td><td>566459</td><td>566739</td><td>Zhao et al 2020</td><td>hypermethylated</td><td>NA</td><td>DMR</td><td>1</td><td>NA</td><td>.</td></tr>\n",
       "\t<tr><th scope=row>5</th><td>chr1</td><td>566813</td><td>566880</td><td>Zhao et al 2020</td><td>hypermethylated</td><td>NA</td><td>DMR</td><td>1</td><td>NA</td><td>.</td></tr>\n",
       "\t<tr><th scope=row>6</th><td>chr1</td><td>567113</td><td>567239</td><td>Zhao et al 2020</td><td>hypermethylated</td><td>NA</td><td>DMR</td><td>1</td><td>NA</td><td>.</td></tr>\n",
       "</tbody>\n",
       "</table>\n"
      ],
      "text/latex": [
       "A data.frame: 6 × 10\n",
       "\\begin{tabular}{r|llllllllll}\n",
       "  & chr & start & end & source & status & pub.gene.name & pub.reg.type & no.pubs & probe & strand\\\\\n",
       "  & <chr> & <int> & <int> & <chr> & <chr> & <lgl> & <chr> & <dbl> & <lgl> & <chr>\\\\\n",
       "\\hline\n",
       "\t1 & chr1 &  29194 &  29436 & Zhao et al 2020 & hypomethylated  & NA & DMR & 1 & NA & .\\\\\n",
       "\t2 & chr1 &  51588 &  51682 & Zhao et al 2020 & hypomethylated  & NA & DMR & 1 & NA & .\\\\\n",
       "\t3 & chr1 & 535828 & 535879 & Zhao et al 2020 & hypomethylated  & NA & DMR & 1 & NA & .\\\\\n",
       "\t4 & chr1 & 566459 & 566739 & Zhao et al 2020 & hypermethylated & NA & DMR & 1 & NA & .\\\\\n",
       "\t5 & chr1 & 566813 & 566880 & Zhao et al 2020 & hypermethylated & NA & DMR & 1 & NA & .\\\\\n",
       "\t6 & chr1 & 567113 & 567239 & Zhao et al 2020 & hypermethylated & NA & DMR & 1 & NA & .\\\\\n",
       "\\end{tabular}\n"
      ],
      "text/markdown": [
       "\n",
       "A data.frame: 6 × 10\n",
       "\n",
       "| <!--/--> | chr &lt;chr&gt; | start &lt;int&gt; | end &lt;int&gt; | source &lt;chr&gt; | status &lt;chr&gt; | pub.gene.name &lt;lgl&gt; | pub.reg.type &lt;chr&gt; | no.pubs &lt;dbl&gt; | probe &lt;lgl&gt; | strand &lt;chr&gt; |\n",
       "|---|---|---|---|---|---|---|---|---|---|---|\n",
       "| 1 | chr1 |  29194 |  29436 | Zhao et al 2020 | hypomethylated  | NA | DMR | 1 | NA | . |\n",
       "| 2 | chr1 |  51588 |  51682 | Zhao et al 2020 | hypomethylated  | NA | DMR | 1 | NA | . |\n",
       "| 3 | chr1 | 535828 | 535879 | Zhao et al 2020 | hypomethylated  | NA | DMR | 1 | NA | . |\n",
       "| 4 | chr1 | 566459 | 566739 | Zhao et al 2020 | hypermethylated | NA | DMR | 1 | NA | . |\n",
       "| 5 | chr1 | 566813 | 566880 | Zhao et al 2020 | hypermethylated | NA | DMR | 1 | NA | . |\n",
       "| 6 | chr1 | 567113 | 567239 | Zhao et al 2020 | hypermethylated | NA | DMR | 1 | NA | . |\n",
       "\n"
      ],
      "text/plain": [
       "  chr  start  end    source          status          pub.gene.name pub.reg.type\n",
       "1 chr1  29194  29436 Zhao et al 2020 hypomethylated  NA            DMR         \n",
       "2 chr1  51588  51682 Zhao et al 2020 hypomethylated  NA            DMR         \n",
       "3 chr1 535828 535879 Zhao et al 2020 hypomethylated  NA            DMR         \n",
       "4 chr1 566459 566739 Zhao et al 2020 hypermethylated NA            DMR         \n",
       "5 chr1 566813 566880 Zhao et al 2020 hypermethylated NA            DMR         \n",
       "6 chr1 567113 567239 Zhao et al 2020 hypermethylated NA            DMR         \n",
       "  no.pubs probe strand\n",
       "1 1       NA    .     \n",
       "2 1       NA    .     \n",
       "3 1       NA    .     \n",
       "4 1       NA    .     \n",
       "5 1       NA    .     \n",
       "6 1       NA    .     "
      ]
     },
     "metadata": {},
     "output_type": "display_data"
    }
   ],
   "source": [
    "df_zhao = read.table(file=\"./marker_collation//Zhao_2020_DMRs_hg19.tsv\", sep=\"\\t\", header=FALSE)\n",
    "colnames(df_zhao) = c(\"chr\",\"start\",\"end\",\"source\",\"status\")\n",
    "df_zhao$pub.gene.name <- NA\n",
    "df_zhao$pub.reg.type <- \"DMR\"\n",
    "df_zhao$no.pubs <- 1\n",
    "df_zhao$probe <- NA\n",
    "df_zhao$strand <- \".\"\n",
    "df_zhao$chr = paste0(\"chr\",df_zhao$chr, sep=\"\")\n",
    "head(df_zhao)"
   ]
  },
  {
   "cell_type": "code",
   "execution_count": 300,
   "id": "46fb8e8d",
   "metadata": {},
   "outputs": [
    {
     "data": {
      "text/html": [
       "<style>\n",
       ".list-inline {list-style: none; margin:0; padding: 0}\n",
       ".list-inline>li {display: inline-block}\n",
       ".list-inline>li:not(:last-child)::after {content: \"\\00b7\"; padding: 0 .5ex}\n",
       "</style>\n",
       "<ol class=list-inline><li>'region'</li><li>'Gene'</li><li>'probe'</li><li>'No..pubs'</li><li>'Source'</li><li>'note'</li><li>'chr'</li><li>'start'</li><li>'end'</li><li>'strand'</li><li>'gencode.type'</li><li>'pub.reg.type'</li><li>'source'</li><li>'pub.gene.name'</li><li>'no.pubs'</li></ol>\n"
      ],
      "text/latex": [
       "\\begin{enumerate*}\n",
       "\\item 'region'\n",
       "\\item 'Gene'\n",
       "\\item 'probe'\n",
       "\\item 'No..pubs'\n",
       "\\item 'Source'\n",
       "\\item 'note'\n",
       "\\item 'chr'\n",
       "\\item 'start'\n",
       "\\item 'end'\n",
       "\\item 'strand'\n",
       "\\item 'gencode.type'\n",
       "\\item 'pub.reg.type'\n",
       "\\item 'source'\n",
       "\\item 'pub.gene.name'\n",
       "\\item 'no.pubs'\n",
       "\\end{enumerate*}\n"
      ],
      "text/markdown": [
       "1. 'region'\n",
       "2. 'Gene'\n",
       "3. 'probe'\n",
       "4. 'No..pubs'\n",
       "5. 'Source'\n",
       "6. 'note'\n",
       "7. 'chr'\n",
       "8. 'start'\n",
       "9. 'end'\n",
       "10. 'strand'\n",
       "11. 'gencode.type'\n",
       "12. 'pub.reg.type'\n",
       "13. 'source'\n",
       "14. 'pub.gene.name'\n",
       "15. 'no.pubs'\n",
       "\n",
       "\n"
      ],
      "text/plain": [
       " [1] \"region\"        \"Gene\"          \"probe\"         \"No..pubs\"     \n",
       " [5] \"Source\"        \"note\"          \"chr\"           \"start\"        \n",
       " [9] \"end\"           \"strand\"        \"gencode.type\"  \"pub.reg.type\" \n",
       "[13] \"source\"        \"pub.gene.name\" \"no.pubs\"      "
      ]
     },
     "metadata": {},
     "output_type": "display_data"
    },
    {
     "data": {
      "text/html": [
       "<style>\n",
       ".list-inline {list-style: none; margin:0; padding: 0}\n",
       ".list-inline>li {display: inline-block}\n",
       ".list-inline>li:not(:last-child)::after {content: \"\\00b7\"; padding: 0 .5ex}\n",
       "</style>\n",
       "<ol class=list-inline><li>'chr'</li><li>'start'</li><li>'end'</li><li>'dot1'</li><li>'dot2'</li><li>'strand'</li><li>'source'</li><li>'notes'</li><li>'pub.gene.name'</li><li>'pub.reg.type'</li><li>'no.pubs'</li><li>'probe'</li></ol>\n"
      ],
      "text/latex": [
       "\\begin{enumerate*}\n",
       "\\item 'chr'\n",
       "\\item 'start'\n",
       "\\item 'end'\n",
       "\\item 'dot1'\n",
       "\\item 'dot2'\n",
       "\\item 'strand'\n",
       "\\item 'source'\n",
       "\\item 'notes'\n",
       "\\item 'pub.gene.name'\n",
       "\\item 'pub.reg.type'\n",
       "\\item 'no.pubs'\n",
       "\\item 'probe'\n",
       "\\end{enumerate*}\n"
      ],
      "text/markdown": [
       "1. 'chr'\n",
       "2. 'start'\n",
       "3. 'end'\n",
       "4. 'dot1'\n",
       "5. 'dot2'\n",
       "6. 'strand'\n",
       "7. 'source'\n",
       "8. 'notes'\n",
       "9. 'pub.gene.name'\n",
       "10. 'pub.reg.type'\n",
       "11. 'no.pubs'\n",
       "12. 'probe'\n",
       "\n",
       "\n"
      ],
      "text/plain": [
       " [1] \"chr\"           \"start\"         \"end\"           \"dot1\"         \n",
       " [5] \"dot2\"          \"strand\"        \"source\"        \"notes\"        \n",
       " [9] \"pub.gene.name\" \"pub.reg.type\"  \"no.pubs\"       \"probe\"        "
      ]
     },
     "metadata": {},
     "output_type": "display_data"
    },
    {
     "data": {
      "text/html": [
       "<style>\n",
       ".list-inline {list-style: none; margin:0; padding: 0}\n",
       ".list-inline>li {display: inline-block}\n",
       ".list-inline>li:not(:last-child)::after {content: \"\\00b7\"; padding: 0 .5ex}\n",
       "</style>\n",
       "<ol class=list-inline><li>'chr'</li><li>'start'</li><li>'end'</li><li>'source'</li><li>'status'</li><li>'pub.gene.name'</li><li>'pub.reg.type'</li><li>'no.pubs'</li><li>'probe'</li><li>'strand'</li></ol>\n"
      ],
      "text/latex": [
       "\\begin{enumerate*}\n",
       "\\item 'chr'\n",
       "\\item 'start'\n",
       "\\item 'end'\n",
       "\\item 'source'\n",
       "\\item 'status'\n",
       "\\item 'pub.gene.name'\n",
       "\\item 'pub.reg.type'\n",
       "\\item 'no.pubs'\n",
       "\\item 'probe'\n",
       "\\item 'strand'\n",
       "\\end{enumerate*}\n"
      ],
      "text/markdown": [
       "1. 'chr'\n",
       "2. 'start'\n",
       "3. 'end'\n",
       "4. 'source'\n",
       "5. 'status'\n",
       "6. 'pub.gene.name'\n",
       "7. 'pub.reg.type'\n",
       "8. 'no.pubs'\n",
       "9. 'probe'\n",
       "10. 'strand'\n",
       "\n",
       "\n"
      ],
      "text/plain": [
       " [1] \"chr\"           \"start\"         \"end\"           \"source\"       \n",
       " [5] \"status\"        \"pub.gene.name\" \"pub.reg.type\"  \"no.pubs\"      \n",
       " [9] \"probe\"         \"strand\"       "
      ]
     },
     "metadata": {},
     "output_type": "display_data"
    }
   ],
   "source": [
    "colnames(df_pubs)\n",
    "colnames(df_beltran)\n",
    "colnames(df_zhao)"
   ]
  },
  {
   "cell_type": "code",
   "execution_count": 315,
   "id": "2199597d",
   "metadata": {},
   "outputs": [],
   "source": [
    "df_pubs$source = df_pubs$Source\n",
    "df_pubs$pub.gene.name = df_pubs$Gene\n",
    "df_pubs$notes = df_pubs$notes\n",
    "df_pubs$no.pubs = df_pubs$No..pubs"
   ]
  },
  {
   "cell_type": "code",
   "execution_count": 316,
   "id": "086ab816",
   "metadata": {},
   "outputs": [
    {
     "data": {
      "text/html": [
       "<table class=\"dataframe\">\n",
       "<caption>A data.frame: 6 × 9</caption>\n",
       "<thead>\n",
       "\t<tr><th></th><th scope=col>chr</th><th scope=col>start</th><th scope=col>end</th><th scope=col>strand</th><th scope=col>source</th><th scope=col>pub.gene.name</th><th scope=col>pub.reg.type</th><th scope=col>probe</th><th scope=col>no.pubs</th></tr>\n",
       "\t<tr><th></th><th scope=col>&lt;chr&gt;</th><th scope=col>&lt;int&gt;</th><th scope=col>&lt;int&gt;</th><th scope=col>&lt;chr&gt;</th><th scope=col>&lt;chr&gt;</th><th scope=col>&lt;chr&gt;</th><th scope=col>&lt;chr&gt;</th><th scope=col>&lt;chr&gt;</th><th scope=col>&lt;dbl&gt;</th></tr>\n",
       "</thead>\n",
       "<tbody>\n",
       "\t<tr><th scope=row>2</th><td>4 </td><td>106066032</td><td>106200973</td><td>+</td><td>Kukkonen et al. 2021</td><td>TET2  </td><td>gene_plus_promoter</td><td></td><td>1</td></tr>\n",
       "\t<tr><th scope=row>3</th><td>20</td><td> 31349191</td><td> 31397165</td><td>+</td><td>Kukkonen et al. 2021</td><td>DNMT3B</td><td>gene_plus_promoter</td><td></td><td>1</td></tr>\n",
       "\t<tr><th scope=row>4</th><td>2 </td><td>209100953</td><td>209131798</td><td>-</td><td>Kukkonen et al. 2021</td><td>IDH1  </td><td>gene_plus_promoter</td><td></td><td>1</td></tr>\n",
       "\t<tr><th scope=row>5</th><td>7 </td><td>140419127</td><td>140625729</td><td>-</td><td>Kukkonen et al. 2021</td><td>BRAF  </td><td>gene_plus_promoter</td><td></td><td>1</td></tr>\n",
       "\t<tr><th scope=row>6</th><td>X </td><td> 66762863</td><td> 66950461</td><td>+</td><td>Kukkonen et al. 2021</td><td>AR    </td><td>gene_plus_promoter</td><td></td><td>1</td></tr>\n",
       "\t<tr><th scope=row>7</th><td>8 </td><td>128746680</td><td>128755197</td><td>+</td><td>Kukkonen et al. 2021</td><td>MYC   </td><td>gene_plus_promoter</td><td></td><td>1</td></tr>\n",
       "</tbody>\n",
       "</table>\n"
      ],
      "text/latex": [
       "A data.frame: 6 × 9\n",
       "\\begin{tabular}{r|lllllllll}\n",
       "  & chr & start & end & strand & source & pub.gene.name & pub.reg.type & probe & no.pubs\\\\\n",
       "  & <chr> & <int> & <int> & <chr> & <chr> & <chr> & <chr> & <chr> & <dbl>\\\\\n",
       "\\hline\n",
       "\t2 & 4  & 106066032 & 106200973 & + & Kukkonen et al. 2021 & TET2   & gene\\_plus\\_promoter &  & 1\\\\\n",
       "\t3 & 20 &  31349191 &  31397165 & + & Kukkonen et al. 2021 & DNMT3B & gene\\_plus\\_promoter &  & 1\\\\\n",
       "\t4 & 2  & 209100953 & 209131798 & - & Kukkonen et al. 2021 & IDH1   & gene\\_plus\\_promoter &  & 1\\\\\n",
       "\t5 & 7  & 140419127 & 140625729 & - & Kukkonen et al. 2021 & BRAF   & gene\\_plus\\_promoter &  & 1\\\\\n",
       "\t6 & X  &  66762863 &  66950461 & + & Kukkonen et al. 2021 & AR     & gene\\_plus\\_promoter &  & 1\\\\\n",
       "\t7 & 8  & 128746680 & 128755197 & + & Kukkonen et al. 2021 & MYC    & gene\\_plus\\_promoter &  & 1\\\\\n",
       "\\end{tabular}\n"
      ],
      "text/markdown": [
       "\n",
       "A data.frame: 6 × 9\n",
       "\n",
       "| <!--/--> | chr &lt;chr&gt; | start &lt;int&gt; | end &lt;int&gt; | strand &lt;chr&gt; | source &lt;chr&gt; | pub.gene.name &lt;chr&gt; | pub.reg.type &lt;chr&gt; | probe &lt;chr&gt; | no.pubs &lt;dbl&gt; |\n",
       "|---|---|---|---|---|---|---|---|---|---|\n",
       "| 2 | 4  | 106066032 | 106200973 | + | Kukkonen et al. 2021 | TET2   | gene_plus_promoter | <!----> | 1 |\n",
       "| 3 | 20 |  31349191 |  31397165 | + | Kukkonen et al. 2021 | DNMT3B | gene_plus_promoter | <!----> | 1 |\n",
       "| 4 | 2  | 209100953 | 209131798 | - | Kukkonen et al. 2021 | IDH1   | gene_plus_promoter | <!----> | 1 |\n",
       "| 5 | 7  | 140419127 | 140625729 | - | Kukkonen et al. 2021 | BRAF   | gene_plus_promoter | <!----> | 1 |\n",
       "| 6 | X  |  66762863 |  66950461 | + | Kukkonen et al. 2021 | AR     | gene_plus_promoter | <!----> | 1 |\n",
       "| 7 | 8  | 128746680 | 128755197 | + | Kukkonen et al. 2021 | MYC    | gene_plus_promoter | <!----> | 1 |\n",
       "\n"
      ],
      "text/plain": [
       "  chr start     end       strand source               pub.gene.name\n",
       "2 4   106066032 106200973 +      Kukkonen et al. 2021 TET2         \n",
       "3 20   31349191  31397165 +      Kukkonen et al. 2021 DNMT3B       \n",
       "4 2   209100953 209131798 -      Kukkonen et al. 2021 IDH1         \n",
       "5 7   140419127 140625729 -      Kukkonen et al. 2021 BRAF         \n",
       "6 X    66762863  66950461 +      Kukkonen et al. 2021 AR           \n",
       "7 8   128746680 128755197 +      Kukkonen et al. 2021 MYC          \n",
       "  pub.reg.type       probe no.pubs\n",
       "2 gene_plus_promoter       1      \n",
       "3 gene_plus_promoter       1      \n",
       "4 gene_plus_promoter       1      \n",
       "5 gene_plus_promoter       1      \n",
       "6 gene_plus_promoter       1      \n",
       "7 gene_plus_promoter       1      "
      ]
     },
     "metadata": {},
     "output_type": "display_data"
    },
    {
     "data": {
      "text/html": [
       "<style>\n",
       ".list-inline {list-style: none; margin:0; padding: 0}\n",
       ".list-inline>li {display: inline-block}\n",
       ".list-inline>li:not(:last-child)::after {content: \"\\00b7\"; padding: 0 .5ex}\n",
       "</style>\n",
       "<ol class=list-inline><li>120461</li><li>9</li></ol>\n"
      ],
      "text/latex": [
       "\\begin{enumerate*}\n",
       "\\item 120461\n",
       "\\item 9\n",
       "\\end{enumerate*}\n"
      ],
      "text/markdown": [
       "1. 120461\n",
       "2. 9\n",
       "\n",
       "\n"
      ],
      "text/plain": [
       "[1] 120461      9"
      ]
     },
     "metadata": {},
     "output_type": "display_data"
    }
   ],
   "source": [
    "cols = c(\"chr\",\"start\",\"end\",\"strand\",\"source\",\"pub.gene.name\",\"pub.reg.type\",\"probe\",\"no.pubs\")\n",
    "df_all = rbind(df_pubs[,cols], df_beltran[,cols], df_zhao[,cols])\n",
    "df_all$chr = gsub(\"chr\",\"\",df_all$chr)\n",
    "head(df_all)\n",
    "dim(df_all)"
   ]
  },
  {
   "cell_type": "code",
   "execution_count": 321,
   "id": "508369c2",
   "metadata": {},
   "outputs": [
    {
     "data": {
      "text/html": [
       "<table class=\"dataframe\">\n",
       "<caption>A data.frame: 6 × 9</caption>\n",
       "<thead>\n",
       "\t<tr><th></th><th scope=col>chr</th><th scope=col>start</th><th scope=col>end</th><th scope=col>strand</th><th scope=col>source</th><th scope=col>pub.gene.name</th><th scope=col>pub.reg.type</th><th scope=col>probe</th><th scope=col>no.pubs</th></tr>\n",
       "\t<tr><th></th><th scope=col>&lt;chr&gt;</th><th scope=col>&lt;int&gt;</th><th scope=col>&lt;int&gt;</th><th scope=col>&lt;chr&gt;</th><th scope=col>&lt;chr&gt;</th><th scope=col>&lt;chr&gt;</th><th scope=col>&lt;chr&gt;</th><th scope=col>&lt;chr&gt;</th><th scope=col>&lt;int&gt;</th></tr>\n",
       "</thead>\n",
       "<tbody>\n",
       "\t<tr><th scope=row>1</th><td>4 </td><td>106066032</td><td>106200973</td><td>+</td><td>Kukkonen et al. 2021</td><td>TET2  </td><td>gene_plus_promoter</td><td></td><td>1</td></tr>\n",
       "\t<tr><th scope=row>2</th><td>20</td><td> 31349191</td><td> 31397165</td><td>+</td><td>Kukkonen et al. 2021</td><td>DNMT3B</td><td>gene_plus_promoter</td><td></td><td>1</td></tr>\n",
       "\t<tr><th scope=row>3</th><td>2 </td><td>209100953</td><td>209131798</td><td>-</td><td>Kukkonen et al. 2021</td><td>IDH1  </td><td>gene_plus_promoter</td><td></td><td>1</td></tr>\n",
       "\t<tr><th scope=row>4</th><td>7 </td><td>140419127</td><td>140625729</td><td>-</td><td>Kukkonen et al. 2021</td><td>BRAF  </td><td>gene_plus_promoter</td><td></td><td>1</td></tr>\n",
       "\t<tr><th scope=row>5</th><td>X </td><td> 66762863</td><td> 66950461</td><td>+</td><td>Kukkonen et al. 2021</td><td>AR    </td><td>gene_plus_promoter</td><td></td><td>1</td></tr>\n",
       "\t<tr><th scope=row>6</th><td>8 </td><td>128746680</td><td>128755197</td><td>+</td><td>Kukkonen et al. 2021</td><td>MYC   </td><td>gene_plus_promoter</td><td></td><td>1</td></tr>\n",
       "</tbody>\n",
       "</table>\n"
      ],
      "text/latex": [
       "A data.frame: 6 × 9\n",
       "\\begin{tabular}{r|lllllllll}\n",
       "  & chr & start & end & strand & source & pub.gene.name & pub.reg.type & probe & no.pubs\\\\\n",
       "  & <chr> & <int> & <int> & <chr> & <chr> & <chr> & <chr> & <chr> & <int>\\\\\n",
       "\\hline\n",
       "\t1 & 4  & 106066032 & 106200973 & + & Kukkonen et al. 2021 & TET2   & gene\\_plus\\_promoter &  & 1\\\\\n",
       "\t2 & 20 &  31349191 &  31397165 & + & Kukkonen et al. 2021 & DNMT3B & gene\\_plus\\_promoter &  & 1\\\\\n",
       "\t3 & 2  & 209100953 & 209131798 & - & Kukkonen et al. 2021 & IDH1   & gene\\_plus\\_promoter &  & 1\\\\\n",
       "\t4 & 7  & 140419127 & 140625729 & - & Kukkonen et al. 2021 & BRAF   & gene\\_plus\\_promoter &  & 1\\\\\n",
       "\t5 & X  &  66762863 &  66950461 & + & Kukkonen et al. 2021 & AR     & gene\\_plus\\_promoter &  & 1\\\\\n",
       "\t6 & 8  & 128746680 & 128755197 & + & Kukkonen et al. 2021 & MYC    & gene\\_plus\\_promoter &  & 1\\\\\n",
       "\\end{tabular}\n"
      ],
      "text/markdown": [
       "\n",
       "A data.frame: 6 × 9\n",
       "\n",
       "| <!--/--> | chr &lt;chr&gt; | start &lt;int&gt; | end &lt;int&gt; | strand &lt;chr&gt; | source &lt;chr&gt; | pub.gene.name &lt;chr&gt; | pub.reg.type &lt;chr&gt; | probe &lt;chr&gt; | no.pubs &lt;int&gt; |\n",
       "|---|---|---|---|---|---|---|---|---|---|\n",
       "| 1 | 4  | 106066032 | 106200973 | + | Kukkonen et al. 2021 | TET2   | gene_plus_promoter | <!----> | 1 |\n",
       "| 2 | 20 |  31349191 |  31397165 | + | Kukkonen et al. 2021 | DNMT3B | gene_plus_promoter | <!----> | 1 |\n",
       "| 3 | 2  | 209100953 | 209131798 | - | Kukkonen et al. 2021 | IDH1   | gene_plus_promoter | <!----> | 1 |\n",
       "| 4 | 7  | 140419127 | 140625729 | - | Kukkonen et al. 2021 | BRAF   | gene_plus_promoter | <!----> | 1 |\n",
       "| 5 | X  |  66762863 |  66950461 | + | Kukkonen et al. 2021 | AR     | gene_plus_promoter | <!----> | 1 |\n",
       "| 6 | 8  | 128746680 | 128755197 | + | Kukkonen et al. 2021 | MYC    | gene_plus_promoter | <!----> | 1 |\n",
       "\n"
      ],
      "text/plain": [
       "  chr start     end       strand source               pub.gene.name\n",
       "1 4   106066032 106200973 +      Kukkonen et al. 2021 TET2         \n",
       "2 20   31349191  31397165 +      Kukkonen et al. 2021 DNMT3B       \n",
       "3 2   209100953 209131798 -      Kukkonen et al. 2021 IDH1         \n",
       "4 7   140419127 140625729 -      Kukkonen et al. 2021 BRAF         \n",
       "5 X    66762863  66950461 +      Kukkonen et al. 2021 AR           \n",
       "6 8   128746680 128755197 +      Kukkonen et al. 2021 MYC          \n",
       "  pub.reg.type       probe no.pubs\n",
       "1 gene_plus_promoter       1      \n",
       "2 gene_plus_promoter       1      \n",
       "3 gene_plus_promoter       1      \n",
       "4 gene_plus_promoter       1      \n",
       "5 gene_plus_promoter       1      \n",
       "6 gene_plus_promoter       1      "
      ]
     },
     "metadata": {},
     "output_type": "display_data"
    }
   ],
   "source": [
    "df_all$start <- as.integer(format(df_all$start, scientific=FALSE))\n",
    "df_all$end <- as.integer(format(df_all$end, scientific=FALSE))\n",
    "head(df_all)"
   ]
  },
  {
   "cell_type": "code",
   "execution_count": 318,
   "id": "ba4bcadf",
   "metadata": {},
   "outputs": [],
   "source": [
    "# many genes have no coords in the genecode file, exclude those.\n",
    "write.table(df_all[!is.na(df_all$chr),], file=\"./marker_collation/all_lit_regions_wcoords_10052022.bed\", sep=\"\\t\",\n",
    "            row.names=FALSE, col.names=TRUE, quote=FALSE)"
   ]
  },
  {
   "cell_type": "code",
   "execution_count": 216,
   "id": "89d7b3e7",
   "metadata": {},
   "outputs": [
    {
     "data": {
      "text/html": [],
      "text/latex": [],
      "text/markdown": [],
      "text/plain": [
       "character(0)"
      ]
     },
     "metadata": {},
     "output_type": "display_data"
    },
    {
     "name": "stderr",
     "output_type": "stream",
     "text": [
      "Warning message in system(\"bedtools intersect -a all_lit_regions_wcoords_10052022_sorted.bed -b ../../Translational_Science/gencode.v40lift37.full_genes_hg19.bed -wao > all_lit_regions_wcoords_gene_annot_10052022.bed\", :\n",
      "“running command 'bedtools intersect -a all_lit_regions_wcoords_10052022_sorted.bed -b ../../Translational_Science/gencode.v40lift37.full_genes_hg19.bed -wao > all_lit_regions_wcoords_gene_annot_10052022.bed' had status 1”\n"
     ]
    },
    {
     "data": {
      "text/html": [],
      "text/latex": [],
      "text/markdown": [],
      "text/plain": [
       "character(0)\n",
       "attr(,\"status\")\n",
       "[1] 1\n",
       "attr(,\"errmsg\")\n",
       "[1] \"Resource temporarily unavailable\""
      ]
     },
     "metadata": {},
     "output_type": "display_data"
    },
    {
     "name": "stderr",
     "output_type": "stream",
     "text": [
      "Warning message in system(\"bedtools intersect -a all_lit_regions_wcoords_10052022_sorted.bed -b ../../Translational_Science/gencode.v40lift37.promoters_hg19.bed -wao > all_lit_regions_wcoords_promoter_annot_10052022.bed\", :\n",
      "“running command 'bedtools intersect -a all_lit_regions_wcoords_10052022_sorted.bed -b ../../Translational_Science/gencode.v40lift37.promoters_hg19.bed -wao > all_lit_regions_wcoords_promoter_annot_10052022.bed' had status 1”\n"
     ]
    },
    {
     "data": {
      "text/html": [],
      "text/latex": [],
      "text/markdown": [],
      "text/plain": [
       "character(0)\n",
       "attr(,\"status\")\n",
       "[1] 1\n",
       "attr(,\"errmsg\")\n",
       "[1] \"Resource temporarily unavailable\""
      ]
     },
     "metadata": {},
     "output_type": "display_data"
    }
   ],
   "source": [
    "# re annotate all regions with genes and promoters\n",
    "#system(\"bash\", intern=TRUE)\n",
    "#system(\"sort -k1,1 -k2,2 -k3,3 -n all_lit_regions_wcoords_10052022.bed >all_lit_regions_wcoords_10052022_sorted.bed\", intern=TRUE)                                                                               \n",
    "#system(\"bedtools intersect -a all_lit_regions_wcoords_10052022_sorted.bed -b ../../Translational_Science/gencode.v40lift37.full_genes_hg19.bed -wao > all_lit_regions_wcoords_gene_annot_10052022.bed\", intern=TRUE)\n",
    "#system(\"bedtools intersect -a all_lit_regions_wcoords_10052022_sorted.bed -b ../../Translational_Science/gencode.v40lift37.promoters_hg19.bed -wao > all_lit_regions_wcoords_promoter_annot_10052022.bed\", intern=TRUE)"
   ]
  },
  {
   "cell_type": "code",
   "execution_count": 397,
   "id": "97138851",
   "metadata": {
    "scrolled": true
   },
   "outputs": [
    {
     "data": {
      "text/html": [
       "120461"
      ],
      "text/latex": [
       "120461"
      ],
      "text/markdown": [
       "120461"
      ],
      "text/plain": [
       "[1] 120461"
      ]
     },
     "metadata": {},
     "output_type": "display_data"
    },
    {
     "data": {
      "text/html": [
       "<table class=\"dataframe\">\n",
       "<caption>A data.frame: 111409 × 9</caption>\n",
       "<thead>\n",
       "\t<tr><th></th><th scope=col>chr</th><th scope=col>start</th><th scope=col>end</th><th scope=col>strand</th><th scope=col>source</th><th scope=col>pub.gene.name</th><th scope=col>pub.reg.type</th><th scope=col>probe</th><th scope=col>no.pubs</th></tr>\n",
       "\t<tr><th></th><th scope=col>&lt;chr&gt;</th><th scope=col>&lt;int&gt;</th><th scope=col>&lt;int&gt;</th><th scope=col>&lt;chr&gt;</th><th scope=col>&lt;chr&gt;</th><th scope=col>&lt;chr&gt;</th><th scope=col>&lt;chr&gt;</th><th scope=col>&lt;chr&gt;</th><th scope=col>&lt;int&gt;</th></tr>\n",
       "</thead>\n",
       "<tbody>\n",
       "\t<tr><th scope=row>8</th><td>11</td><td>67350213</td><td>67354127</td><td>+ </td><td>Constancio et al. 2019</td><td>GSTP1</td><td>gene_plus_promoter</td><td>          </td><td> 1</td></tr>\n",
       "\t<tr><th scope=row>15</th><td>11</td><td>67350213</td><td>67354127</td><td>+ </td><td>Massie et al. 2017    </td><td>GSTP1</td><td>gene_plus_promoter</td><td>          </td><td>12</td></tr>\n",
       "\t<tr><th scope=row>4834</th><td>11</td><td>67350975</td><td>67350976</td><td>R </td><td>Ylitalo et al 2021    </td><td>GSTP1</td><td>EPIC_probe        </td><td>cg02659086</td><td> 1</td></tr>\n",
       "\t<tr><th scope=row>6180</th><td>11</td><td>67351270</td><td>67351271</td><td>R </td><td>Ylitalo et al 2021    </td><td>GSTP1</td><td>EPIC_probe        </td><td>cg04920951</td><td> 1</td></tr>\n",
       "\t<tr><th scope=row>6619</th><td>11</td><td>67351272</td><td>67351273</td><td>F </td><td>Ylitalo et al 2021    </td><td>GSTP1</td><td>EPIC_probe        </td><td>cg26250609</td><td> 1</td></tr>\n",
       "\t<tr><th scope=row>9051</th><td>11</td><td>67350213</td><td>67351213</td><td>+ </td><td>Sugiura et al 2021    </td><td>GSTP1</td><td>promoter          </td><td>          </td><td> 1</td></tr>\n",
       "\t<tr><th scope=row>NA</th><td>NA</td><td>      NA</td><td>      NA</td><td>NA</td><td>NA                    </td><td>NA   </td><td>NA                </td><td>NA        </td><td>NA</td></tr>\n",
       "\t<tr><th scope=row>NA.1</th><td>NA</td><td>      NA</td><td>      NA</td><td>NA</td><td>NA                    </td><td>NA   </td><td>NA                </td><td>NA        </td><td>NA</td></tr>\n",
       "\t<tr><th scope=row>NA.2</th><td>NA</td><td>      NA</td><td>      NA</td><td>NA</td><td>NA                    </td><td>NA   </td><td>NA                </td><td>NA        </td><td>NA</td></tr>\n",
       "\t<tr><th scope=row>NA.3</th><td>NA</td><td>      NA</td><td>      NA</td><td>NA</td><td>NA                    </td><td>NA   </td><td>NA                </td><td>NA        </td><td>NA</td></tr>\n",
       "\t<tr><th scope=row>NA.4</th><td>NA</td><td>      NA</td><td>      NA</td><td>NA</td><td>NA                    </td><td>NA   </td><td>NA                </td><td>NA        </td><td>NA</td></tr>\n",
       "\t<tr><th scope=row>NA.5</th><td>NA</td><td>      NA</td><td>      NA</td><td>NA</td><td>NA                    </td><td>NA   </td><td>NA                </td><td>NA        </td><td>NA</td></tr>\n",
       "\t<tr><th scope=row>NA.6</th><td>NA</td><td>      NA</td><td>      NA</td><td>NA</td><td>NA                    </td><td>NA   </td><td>NA                </td><td>NA        </td><td>NA</td></tr>\n",
       "\t<tr><th scope=row>NA.7</th><td>NA</td><td>      NA</td><td>      NA</td><td>NA</td><td>NA                    </td><td>NA   </td><td>NA                </td><td>NA        </td><td>NA</td></tr>\n",
       "\t<tr><th scope=row>NA.8</th><td>NA</td><td>      NA</td><td>      NA</td><td>NA</td><td>NA                    </td><td>NA   </td><td>NA                </td><td>NA        </td><td>NA</td></tr>\n",
       "\t<tr><th scope=row>NA.9</th><td>NA</td><td>      NA</td><td>      NA</td><td>NA</td><td>NA                    </td><td>NA   </td><td>NA                </td><td>NA        </td><td>NA</td></tr>\n",
       "\t<tr><th scope=row>NA.10</th><td>NA</td><td>      NA</td><td>      NA</td><td>NA</td><td>NA                    </td><td>NA   </td><td>NA                </td><td>NA        </td><td>NA</td></tr>\n",
       "\t<tr><th scope=row>NA.11</th><td>NA</td><td>      NA</td><td>      NA</td><td>NA</td><td>NA                    </td><td>NA   </td><td>NA                </td><td>NA        </td><td>NA</td></tr>\n",
       "\t<tr><th scope=row>NA.12</th><td>NA</td><td>      NA</td><td>      NA</td><td>NA</td><td>NA                    </td><td>NA   </td><td>NA                </td><td>NA        </td><td>NA</td></tr>\n",
       "\t<tr><th scope=row>NA.13</th><td>NA</td><td>      NA</td><td>      NA</td><td>NA</td><td>NA                    </td><td>NA   </td><td>NA                </td><td>NA        </td><td>NA</td></tr>\n",
       "\t<tr><th scope=row>NA.14</th><td>NA</td><td>      NA</td><td>      NA</td><td>NA</td><td>NA                    </td><td>NA   </td><td>NA                </td><td>NA        </td><td>NA</td></tr>\n",
       "\t<tr><th scope=row>NA.15</th><td>NA</td><td>      NA</td><td>      NA</td><td>NA</td><td>NA                    </td><td>NA   </td><td>NA                </td><td>NA        </td><td>NA</td></tr>\n",
       "\t<tr><th scope=row>NA.16</th><td>NA</td><td>      NA</td><td>      NA</td><td>NA</td><td>NA                    </td><td>NA   </td><td>NA                </td><td>NA        </td><td>NA</td></tr>\n",
       "\t<tr><th scope=row>NA.17</th><td>NA</td><td>      NA</td><td>      NA</td><td>NA</td><td>NA                    </td><td>NA   </td><td>NA                </td><td>NA        </td><td>NA</td></tr>\n",
       "\t<tr><th scope=row>NA.18</th><td>NA</td><td>      NA</td><td>      NA</td><td>NA</td><td>NA                    </td><td>NA   </td><td>NA                </td><td>NA        </td><td>NA</td></tr>\n",
       "\t<tr><th scope=row>NA.19</th><td>NA</td><td>      NA</td><td>      NA</td><td>NA</td><td>NA                    </td><td>NA   </td><td>NA                </td><td>NA        </td><td>NA</td></tr>\n",
       "\t<tr><th scope=row>NA.20</th><td>NA</td><td>      NA</td><td>      NA</td><td>NA</td><td>NA                    </td><td>NA   </td><td>NA                </td><td>NA        </td><td>NA</td></tr>\n",
       "\t<tr><th scope=row>NA.21</th><td>NA</td><td>      NA</td><td>      NA</td><td>NA</td><td>NA                    </td><td>NA   </td><td>NA                </td><td>NA        </td><td>NA</td></tr>\n",
       "\t<tr><th scope=row>NA.22</th><td>NA</td><td>      NA</td><td>      NA</td><td>NA</td><td>NA                    </td><td>NA   </td><td>NA                </td><td>NA        </td><td>NA</td></tr>\n",
       "\t<tr><th scope=row>NA.23</th><td>NA</td><td>      NA</td><td>      NA</td><td>NA</td><td>NA                    </td><td>NA   </td><td>NA                </td><td>NA        </td><td>NA</td></tr>\n",
       "\t<tr><th scope=row>⋮</th><td>⋮</td><td>⋮</td><td>⋮</td><td>⋮</td><td>⋮</td><td>⋮</td><td>⋮</td><td>⋮</td><td>⋮</td></tr>\n",
       "\t<tr><th scope=row>NA.111373</th><td>NA</td><td>NA</td><td>NA</td><td>NA</td><td>NA</td><td>NA</td><td>NA</td><td>NA</td><td>NA</td></tr>\n",
       "\t<tr><th scope=row>NA.111374</th><td>NA</td><td>NA</td><td>NA</td><td>NA</td><td>NA</td><td>NA</td><td>NA</td><td>NA</td><td>NA</td></tr>\n",
       "\t<tr><th scope=row>NA.111375</th><td>NA</td><td>NA</td><td>NA</td><td>NA</td><td>NA</td><td>NA</td><td>NA</td><td>NA</td><td>NA</td></tr>\n",
       "\t<tr><th scope=row>NA.111376</th><td>NA</td><td>NA</td><td>NA</td><td>NA</td><td>NA</td><td>NA</td><td>NA</td><td>NA</td><td>NA</td></tr>\n",
       "\t<tr><th scope=row>NA.111377</th><td>NA</td><td>NA</td><td>NA</td><td>NA</td><td>NA</td><td>NA</td><td>NA</td><td>NA</td><td>NA</td></tr>\n",
       "\t<tr><th scope=row>NA.111378</th><td>NA</td><td>NA</td><td>NA</td><td>NA</td><td>NA</td><td>NA</td><td>NA</td><td>NA</td><td>NA</td></tr>\n",
       "\t<tr><th scope=row>NA.111379</th><td>NA</td><td>NA</td><td>NA</td><td>NA</td><td>NA</td><td>NA</td><td>NA</td><td>NA</td><td>NA</td></tr>\n",
       "\t<tr><th scope=row>NA.111380</th><td>NA</td><td>NA</td><td>NA</td><td>NA</td><td>NA</td><td>NA</td><td>NA</td><td>NA</td><td>NA</td></tr>\n",
       "\t<tr><th scope=row>NA.111381</th><td>NA</td><td>NA</td><td>NA</td><td>NA</td><td>NA</td><td>NA</td><td>NA</td><td>NA</td><td>NA</td></tr>\n",
       "\t<tr><th scope=row>NA.111382</th><td>NA</td><td>NA</td><td>NA</td><td>NA</td><td>NA</td><td>NA</td><td>NA</td><td>NA</td><td>NA</td></tr>\n",
       "\t<tr><th scope=row>NA.111383</th><td>NA</td><td>NA</td><td>NA</td><td>NA</td><td>NA</td><td>NA</td><td>NA</td><td>NA</td><td>NA</td></tr>\n",
       "\t<tr><th scope=row>NA.111384</th><td>NA</td><td>NA</td><td>NA</td><td>NA</td><td>NA</td><td>NA</td><td>NA</td><td>NA</td><td>NA</td></tr>\n",
       "\t<tr><th scope=row>NA.111385</th><td>NA</td><td>NA</td><td>NA</td><td>NA</td><td>NA</td><td>NA</td><td>NA</td><td>NA</td><td>NA</td></tr>\n",
       "\t<tr><th scope=row>NA.111386</th><td>NA</td><td>NA</td><td>NA</td><td>NA</td><td>NA</td><td>NA</td><td>NA</td><td>NA</td><td>NA</td></tr>\n",
       "\t<tr><th scope=row>NA.111387</th><td>NA</td><td>NA</td><td>NA</td><td>NA</td><td>NA</td><td>NA</td><td>NA</td><td>NA</td><td>NA</td></tr>\n",
       "\t<tr><th scope=row>NA.111388</th><td>NA</td><td>NA</td><td>NA</td><td>NA</td><td>NA</td><td>NA</td><td>NA</td><td>NA</td><td>NA</td></tr>\n",
       "\t<tr><th scope=row>NA.111389</th><td>NA</td><td>NA</td><td>NA</td><td>NA</td><td>NA</td><td>NA</td><td>NA</td><td>NA</td><td>NA</td></tr>\n",
       "\t<tr><th scope=row>NA.111390</th><td>NA</td><td>NA</td><td>NA</td><td>NA</td><td>NA</td><td>NA</td><td>NA</td><td>NA</td><td>NA</td></tr>\n",
       "\t<tr><th scope=row>NA.111391</th><td>NA</td><td>NA</td><td>NA</td><td>NA</td><td>NA</td><td>NA</td><td>NA</td><td>NA</td><td>NA</td></tr>\n",
       "\t<tr><th scope=row>NA.111392</th><td>NA</td><td>NA</td><td>NA</td><td>NA</td><td>NA</td><td>NA</td><td>NA</td><td>NA</td><td>NA</td></tr>\n",
       "\t<tr><th scope=row>NA.111393</th><td>NA</td><td>NA</td><td>NA</td><td>NA</td><td>NA</td><td>NA</td><td>NA</td><td>NA</td><td>NA</td></tr>\n",
       "\t<tr><th scope=row>NA.111394</th><td>NA</td><td>NA</td><td>NA</td><td>NA</td><td>NA</td><td>NA</td><td>NA</td><td>NA</td><td>NA</td></tr>\n",
       "\t<tr><th scope=row>NA.111395</th><td>NA</td><td>NA</td><td>NA</td><td>NA</td><td>NA</td><td>NA</td><td>NA</td><td>NA</td><td>NA</td></tr>\n",
       "\t<tr><th scope=row>NA.111396</th><td>NA</td><td>NA</td><td>NA</td><td>NA</td><td>NA</td><td>NA</td><td>NA</td><td>NA</td><td>NA</td></tr>\n",
       "\t<tr><th scope=row>NA.111397</th><td>NA</td><td>NA</td><td>NA</td><td>NA</td><td>NA</td><td>NA</td><td>NA</td><td>NA</td><td>NA</td></tr>\n",
       "\t<tr><th scope=row>NA.111398</th><td>NA</td><td>NA</td><td>NA</td><td>NA</td><td>NA</td><td>NA</td><td>NA</td><td>NA</td><td>NA</td></tr>\n",
       "\t<tr><th scope=row>NA.111399</th><td>NA</td><td>NA</td><td>NA</td><td>NA</td><td>NA</td><td>NA</td><td>NA</td><td>NA</td><td>NA</td></tr>\n",
       "\t<tr><th scope=row>NA.111400</th><td>NA</td><td>NA</td><td>NA</td><td>NA</td><td>NA</td><td>NA</td><td>NA</td><td>NA</td><td>NA</td></tr>\n",
       "\t<tr><th scope=row>NA.111401</th><td>NA</td><td>NA</td><td>NA</td><td>NA</td><td>NA</td><td>NA</td><td>NA</td><td>NA</td><td>NA</td></tr>\n",
       "\t<tr><th scope=row>NA.111402</th><td>NA</td><td>NA</td><td>NA</td><td>NA</td><td>NA</td><td>NA</td><td>NA</td><td>NA</td><td>NA</td></tr>\n",
       "</tbody>\n",
       "</table>\n"
      ],
      "text/latex": [
       "A data.frame: 111409 × 9\n",
       "\\begin{tabular}{r|lllllllll}\n",
       "  & chr & start & end & strand & source & pub.gene.name & pub.reg.type & probe & no.pubs\\\\\n",
       "  & <chr> & <int> & <int> & <chr> & <chr> & <chr> & <chr> & <chr> & <int>\\\\\n",
       "\\hline\n",
       "\t8 & 11 & 67350213 & 67354127 & +  & Constancio et al. 2019 & GSTP1 & gene\\_plus\\_promoter &            &  1\\\\\n",
       "\t15 & 11 & 67350213 & 67354127 & +  & Massie et al. 2017     & GSTP1 & gene\\_plus\\_promoter &            & 12\\\\\n",
       "\t4834 & 11 & 67350975 & 67350976 & R  & Ylitalo et al 2021     & GSTP1 & EPIC\\_probe         & cg02659086 &  1\\\\\n",
       "\t6180 & 11 & 67351270 & 67351271 & R  & Ylitalo et al 2021     & GSTP1 & EPIC\\_probe         & cg04920951 &  1\\\\\n",
       "\t6619 & 11 & 67351272 & 67351273 & F  & Ylitalo et al 2021     & GSTP1 & EPIC\\_probe         & cg26250609 &  1\\\\\n",
       "\t9051 & 11 & 67350213 & 67351213 & +  & Sugiura et al 2021     & GSTP1 & promoter           &            &  1\\\\\n",
       "\tNA & NA &       NA &       NA & NA & NA                     & NA    & NA                 & NA         & NA\\\\\n",
       "\tNA.1 & NA &       NA &       NA & NA & NA                     & NA    & NA                 & NA         & NA\\\\\n",
       "\tNA.2 & NA &       NA &       NA & NA & NA                     & NA    & NA                 & NA         & NA\\\\\n",
       "\tNA.3 & NA &       NA &       NA & NA & NA                     & NA    & NA                 & NA         & NA\\\\\n",
       "\tNA.4 & NA &       NA &       NA & NA & NA                     & NA    & NA                 & NA         & NA\\\\\n",
       "\tNA.5 & NA &       NA &       NA & NA & NA                     & NA    & NA                 & NA         & NA\\\\\n",
       "\tNA.6 & NA &       NA &       NA & NA & NA                     & NA    & NA                 & NA         & NA\\\\\n",
       "\tNA.7 & NA &       NA &       NA & NA & NA                     & NA    & NA                 & NA         & NA\\\\\n",
       "\tNA.8 & NA &       NA &       NA & NA & NA                     & NA    & NA                 & NA         & NA\\\\\n",
       "\tNA.9 & NA &       NA &       NA & NA & NA                     & NA    & NA                 & NA         & NA\\\\\n",
       "\tNA.10 & NA &       NA &       NA & NA & NA                     & NA    & NA                 & NA         & NA\\\\\n",
       "\tNA.11 & NA &       NA &       NA & NA & NA                     & NA    & NA                 & NA         & NA\\\\\n",
       "\tNA.12 & NA &       NA &       NA & NA & NA                     & NA    & NA                 & NA         & NA\\\\\n",
       "\tNA.13 & NA &       NA &       NA & NA & NA                     & NA    & NA                 & NA         & NA\\\\\n",
       "\tNA.14 & NA &       NA &       NA & NA & NA                     & NA    & NA                 & NA         & NA\\\\\n",
       "\tNA.15 & NA &       NA &       NA & NA & NA                     & NA    & NA                 & NA         & NA\\\\\n",
       "\tNA.16 & NA &       NA &       NA & NA & NA                     & NA    & NA                 & NA         & NA\\\\\n",
       "\tNA.17 & NA &       NA &       NA & NA & NA                     & NA    & NA                 & NA         & NA\\\\\n",
       "\tNA.18 & NA &       NA &       NA & NA & NA                     & NA    & NA                 & NA         & NA\\\\\n",
       "\tNA.19 & NA &       NA &       NA & NA & NA                     & NA    & NA                 & NA         & NA\\\\\n",
       "\tNA.20 & NA &       NA &       NA & NA & NA                     & NA    & NA                 & NA         & NA\\\\\n",
       "\tNA.21 & NA &       NA &       NA & NA & NA                     & NA    & NA                 & NA         & NA\\\\\n",
       "\tNA.22 & NA &       NA &       NA & NA & NA                     & NA    & NA                 & NA         & NA\\\\\n",
       "\tNA.23 & NA &       NA &       NA & NA & NA                     & NA    & NA                 & NA         & NA\\\\\n",
       "\t⋮ & ⋮ & ⋮ & ⋮ & ⋮ & ⋮ & ⋮ & ⋮ & ⋮ & ⋮\\\\\n",
       "\tNA.111373 & NA & NA & NA & NA & NA & NA & NA & NA & NA\\\\\n",
       "\tNA.111374 & NA & NA & NA & NA & NA & NA & NA & NA & NA\\\\\n",
       "\tNA.111375 & NA & NA & NA & NA & NA & NA & NA & NA & NA\\\\\n",
       "\tNA.111376 & NA & NA & NA & NA & NA & NA & NA & NA & NA\\\\\n",
       "\tNA.111377 & NA & NA & NA & NA & NA & NA & NA & NA & NA\\\\\n",
       "\tNA.111378 & NA & NA & NA & NA & NA & NA & NA & NA & NA\\\\\n",
       "\tNA.111379 & NA & NA & NA & NA & NA & NA & NA & NA & NA\\\\\n",
       "\tNA.111380 & NA & NA & NA & NA & NA & NA & NA & NA & NA\\\\\n",
       "\tNA.111381 & NA & NA & NA & NA & NA & NA & NA & NA & NA\\\\\n",
       "\tNA.111382 & NA & NA & NA & NA & NA & NA & NA & NA & NA\\\\\n",
       "\tNA.111383 & NA & NA & NA & NA & NA & NA & NA & NA & NA\\\\\n",
       "\tNA.111384 & NA & NA & NA & NA & NA & NA & NA & NA & NA\\\\\n",
       "\tNA.111385 & NA & NA & NA & NA & NA & NA & NA & NA & NA\\\\\n",
       "\tNA.111386 & NA & NA & NA & NA & NA & NA & NA & NA & NA\\\\\n",
       "\tNA.111387 & NA & NA & NA & NA & NA & NA & NA & NA & NA\\\\\n",
       "\tNA.111388 & NA & NA & NA & NA & NA & NA & NA & NA & NA\\\\\n",
       "\tNA.111389 & NA & NA & NA & NA & NA & NA & NA & NA & NA\\\\\n",
       "\tNA.111390 & NA & NA & NA & NA & NA & NA & NA & NA & NA\\\\\n",
       "\tNA.111391 & NA & NA & NA & NA & NA & NA & NA & NA & NA\\\\\n",
       "\tNA.111392 & NA & NA & NA & NA & NA & NA & NA & NA & NA\\\\\n",
       "\tNA.111393 & NA & NA & NA & NA & NA & NA & NA & NA & NA\\\\\n",
       "\tNA.111394 & NA & NA & NA & NA & NA & NA & NA & NA & NA\\\\\n",
       "\tNA.111395 & NA & NA & NA & NA & NA & NA & NA & NA & NA\\\\\n",
       "\tNA.111396 & NA & NA & NA & NA & NA & NA & NA & NA & NA\\\\\n",
       "\tNA.111397 & NA & NA & NA & NA & NA & NA & NA & NA & NA\\\\\n",
       "\tNA.111398 & NA & NA & NA & NA & NA & NA & NA & NA & NA\\\\\n",
       "\tNA.111399 & NA & NA & NA & NA & NA & NA & NA & NA & NA\\\\\n",
       "\tNA.111400 & NA & NA & NA & NA & NA & NA & NA & NA & NA\\\\\n",
       "\tNA.111401 & NA & NA & NA & NA & NA & NA & NA & NA & NA\\\\\n",
       "\tNA.111402 & NA & NA & NA & NA & NA & NA & NA & NA & NA\\\\\n",
       "\\end{tabular}\n"
      ],
      "text/markdown": [
       "\n",
       "A data.frame: 111409 × 9\n",
       "\n",
       "| <!--/--> | chr &lt;chr&gt; | start &lt;int&gt; | end &lt;int&gt; | strand &lt;chr&gt; | source &lt;chr&gt; | pub.gene.name &lt;chr&gt; | pub.reg.type &lt;chr&gt; | probe &lt;chr&gt; | no.pubs &lt;int&gt; |\n",
       "|---|---|---|---|---|---|---|---|---|---|\n",
       "| 8 | 11 | 67350213 | 67354127 | +  | Constancio et al. 2019 | GSTP1 | gene_plus_promoter | <!----> |  1 |\n",
       "| 15 | 11 | 67350213 | 67354127 | +  | Massie et al. 2017     | GSTP1 | gene_plus_promoter | <!----> | 12 |\n",
       "| 4834 | 11 | 67350975 | 67350976 | R  | Ylitalo et al 2021     | GSTP1 | EPIC_probe         | cg02659086 |  1 |\n",
       "| 6180 | 11 | 67351270 | 67351271 | R  | Ylitalo et al 2021     | GSTP1 | EPIC_probe         | cg04920951 |  1 |\n",
       "| 6619 | 11 | 67351272 | 67351273 | F  | Ylitalo et al 2021     | GSTP1 | EPIC_probe         | cg26250609 |  1 |\n",
       "| 9051 | 11 | 67350213 | 67351213 | +  | Sugiura et al 2021     | GSTP1 | promoter           | <!----> |  1 |\n",
       "| NA | NA |       NA |       NA | NA | NA                     | NA    | NA                 | NA         | NA |\n",
       "| NA.1 | NA |       NA |       NA | NA | NA                     | NA    | NA                 | NA         | NA |\n",
       "| NA.2 | NA |       NA |       NA | NA | NA                     | NA    | NA                 | NA         | NA |\n",
       "| NA.3 | NA |       NA |       NA | NA | NA                     | NA    | NA                 | NA         | NA |\n",
       "| NA.4 | NA |       NA |       NA | NA | NA                     | NA    | NA                 | NA         | NA |\n",
       "| NA.5 | NA |       NA |       NA | NA | NA                     | NA    | NA                 | NA         | NA |\n",
       "| NA.6 | NA |       NA |       NA | NA | NA                     | NA    | NA                 | NA         | NA |\n",
       "| NA.7 | NA |       NA |       NA | NA | NA                     | NA    | NA                 | NA         | NA |\n",
       "| NA.8 | NA |       NA |       NA | NA | NA                     | NA    | NA                 | NA         | NA |\n",
       "| NA.9 | NA |       NA |       NA | NA | NA                     | NA    | NA                 | NA         | NA |\n",
       "| NA.10 | NA |       NA |       NA | NA | NA                     | NA    | NA                 | NA         | NA |\n",
       "| NA.11 | NA |       NA |       NA | NA | NA                     | NA    | NA                 | NA         | NA |\n",
       "| NA.12 | NA |       NA |       NA | NA | NA                     | NA    | NA                 | NA         | NA |\n",
       "| NA.13 | NA |       NA |       NA | NA | NA                     | NA    | NA                 | NA         | NA |\n",
       "| NA.14 | NA |       NA |       NA | NA | NA                     | NA    | NA                 | NA         | NA |\n",
       "| NA.15 | NA |       NA |       NA | NA | NA                     | NA    | NA                 | NA         | NA |\n",
       "| NA.16 | NA |       NA |       NA | NA | NA                     | NA    | NA                 | NA         | NA |\n",
       "| NA.17 | NA |       NA |       NA | NA | NA                     | NA    | NA                 | NA         | NA |\n",
       "| NA.18 | NA |       NA |       NA | NA | NA                     | NA    | NA                 | NA         | NA |\n",
       "| NA.19 | NA |       NA |       NA | NA | NA                     | NA    | NA                 | NA         | NA |\n",
       "| NA.20 | NA |       NA |       NA | NA | NA                     | NA    | NA                 | NA         | NA |\n",
       "| NA.21 | NA |       NA |       NA | NA | NA                     | NA    | NA                 | NA         | NA |\n",
       "| NA.22 | NA |       NA |       NA | NA | NA                     | NA    | NA                 | NA         | NA |\n",
       "| NA.23 | NA |       NA |       NA | NA | NA                     | NA    | NA                 | NA         | NA |\n",
       "| ⋮ | ⋮ | ⋮ | ⋮ | ⋮ | ⋮ | ⋮ | ⋮ | ⋮ | ⋮ |\n",
       "| NA.111373 | NA | NA | NA | NA | NA | NA | NA | NA | NA |\n",
       "| NA.111374 | NA | NA | NA | NA | NA | NA | NA | NA | NA |\n",
       "| NA.111375 | NA | NA | NA | NA | NA | NA | NA | NA | NA |\n",
       "| NA.111376 | NA | NA | NA | NA | NA | NA | NA | NA | NA |\n",
       "| NA.111377 | NA | NA | NA | NA | NA | NA | NA | NA | NA |\n",
       "| NA.111378 | NA | NA | NA | NA | NA | NA | NA | NA | NA |\n",
       "| NA.111379 | NA | NA | NA | NA | NA | NA | NA | NA | NA |\n",
       "| NA.111380 | NA | NA | NA | NA | NA | NA | NA | NA | NA |\n",
       "| NA.111381 | NA | NA | NA | NA | NA | NA | NA | NA | NA |\n",
       "| NA.111382 | NA | NA | NA | NA | NA | NA | NA | NA | NA |\n",
       "| NA.111383 | NA | NA | NA | NA | NA | NA | NA | NA | NA |\n",
       "| NA.111384 | NA | NA | NA | NA | NA | NA | NA | NA | NA |\n",
       "| NA.111385 | NA | NA | NA | NA | NA | NA | NA | NA | NA |\n",
       "| NA.111386 | NA | NA | NA | NA | NA | NA | NA | NA | NA |\n",
       "| NA.111387 | NA | NA | NA | NA | NA | NA | NA | NA | NA |\n",
       "| NA.111388 | NA | NA | NA | NA | NA | NA | NA | NA | NA |\n",
       "| NA.111389 | NA | NA | NA | NA | NA | NA | NA | NA | NA |\n",
       "| NA.111390 | NA | NA | NA | NA | NA | NA | NA | NA | NA |\n",
       "| NA.111391 | NA | NA | NA | NA | NA | NA | NA | NA | NA |\n",
       "| NA.111392 | NA | NA | NA | NA | NA | NA | NA | NA | NA |\n",
       "| NA.111393 | NA | NA | NA | NA | NA | NA | NA | NA | NA |\n",
       "| NA.111394 | NA | NA | NA | NA | NA | NA | NA | NA | NA |\n",
       "| NA.111395 | NA | NA | NA | NA | NA | NA | NA | NA | NA |\n",
       "| NA.111396 | NA | NA | NA | NA | NA | NA | NA | NA | NA |\n",
       "| NA.111397 | NA | NA | NA | NA | NA | NA | NA | NA | NA |\n",
       "| NA.111398 | NA | NA | NA | NA | NA | NA | NA | NA | NA |\n",
       "| NA.111399 | NA | NA | NA | NA | NA | NA | NA | NA | NA |\n",
       "| NA.111400 | NA | NA | NA | NA | NA | NA | NA | NA | NA |\n",
       "| NA.111401 | NA | NA | NA | NA | NA | NA | NA | NA | NA |\n",
       "| NA.111402 | NA | NA | NA | NA | NA | NA | NA | NA | NA |\n",
       "\n"
      ],
      "text/plain": [
       "          chr start    end      strand source                 pub.gene.name\n",
       "8         11  67350213 67354127 +      Constancio et al. 2019 GSTP1        \n",
       "15        11  67350213 67354127 +      Massie et al. 2017     GSTP1        \n",
       "4834      11  67350975 67350976 R      Ylitalo et al 2021     GSTP1        \n",
       "6180      11  67351270 67351271 R      Ylitalo et al 2021     GSTP1        \n",
       "6619      11  67351272 67351273 F      Ylitalo et al 2021     GSTP1        \n",
       "9051      11  67350213 67351213 +      Sugiura et al 2021     GSTP1        \n",
       "NA        NA        NA       NA NA     NA                     NA           \n",
       "NA.1      NA        NA       NA NA     NA                     NA           \n",
       "NA.2      NA        NA       NA NA     NA                     NA           \n",
       "NA.3      NA        NA       NA NA     NA                     NA           \n",
       "NA.4      NA        NA       NA NA     NA                     NA           \n",
       "NA.5      NA        NA       NA NA     NA                     NA           \n",
       "NA.6      NA        NA       NA NA     NA                     NA           \n",
       "NA.7      NA        NA       NA NA     NA                     NA           \n",
       "NA.8      NA        NA       NA NA     NA                     NA           \n",
       "NA.9      NA        NA       NA NA     NA                     NA           \n",
       "NA.10     NA        NA       NA NA     NA                     NA           \n",
       "NA.11     NA        NA       NA NA     NA                     NA           \n",
       "NA.12     NA        NA       NA NA     NA                     NA           \n",
       "NA.13     NA        NA       NA NA     NA                     NA           \n",
       "NA.14     NA        NA       NA NA     NA                     NA           \n",
       "NA.15     NA        NA       NA NA     NA                     NA           \n",
       "NA.16     NA        NA       NA NA     NA                     NA           \n",
       "NA.17     NA        NA       NA NA     NA                     NA           \n",
       "NA.18     NA        NA       NA NA     NA                     NA           \n",
       "NA.19     NA        NA       NA NA     NA                     NA           \n",
       "NA.20     NA        NA       NA NA     NA                     NA           \n",
       "NA.21     NA        NA       NA NA     NA                     NA           \n",
       "NA.22     NA        NA       NA NA     NA                     NA           \n",
       "NA.23     NA        NA       NA NA     NA                     NA           \n",
       "⋮         ⋮   ⋮        ⋮        ⋮      ⋮                      ⋮            \n",
       "NA.111373 NA  NA       NA       NA     NA                     NA           \n",
       "NA.111374 NA  NA       NA       NA     NA                     NA           \n",
       "NA.111375 NA  NA       NA       NA     NA                     NA           \n",
       "NA.111376 NA  NA       NA       NA     NA                     NA           \n",
       "NA.111377 NA  NA       NA       NA     NA                     NA           \n",
       "NA.111378 NA  NA       NA       NA     NA                     NA           \n",
       "NA.111379 NA  NA       NA       NA     NA                     NA           \n",
       "NA.111380 NA  NA       NA       NA     NA                     NA           \n",
       "NA.111381 NA  NA       NA       NA     NA                     NA           \n",
       "NA.111382 NA  NA       NA       NA     NA                     NA           \n",
       "NA.111383 NA  NA       NA       NA     NA                     NA           \n",
       "NA.111384 NA  NA       NA       NA     NA                     NA           \n",
       "NA.111385 NA  NA       NA       NA     NA                     NA           \n",
       "NA.111386 NA  NA       NA       NA     NA                     NA           \n",
       "NA.111387 NA  NA       NA       NA     NA                     NA           \n",
       "NA.111388 NA  NA       NA       NA     NA                     NA           \n",
       "NA.111389 NA  NA       NA       NA     NA                     NA           \n",
       "NA.111390 NA  NA       NA       NA     NA                     NA           \n",
       "NA.111391 NA  NA       NA       NA     NA                     NA           \n",
       "NA.111392 NA  NA       NA       NA     NA                     NA           \n",
       "NA.111393 NA  NA       NA       NA     NA                     NA           \n",
       "NA.111394 NA  NA       NA       NA     NA                     NA           \n",
       "NA.111395 NA  NA       NA       NA     NA                     NA           \n",
       "NA.111396 NA  NA       NA       NA     NA                     NA           \n",
       "NA.111397 NA  NA       NA       NA     NA                     NA           \n",
       "NA.111398 NA  NA       NA       NA     NA                     NA           \n",
       "NA.111399 NA  NA       NA       NA     NA                     NA           \n",
       "NA.111400 NA  NA       NA       NA     NA                     NA           \n",
       "NA.111401 NA  NA       NA       NA     NA                     NA           \n",
       "NA.111402 NA  NA       NA       NA     NA                     NA           \n",
       "          pub.reg.type       probe      no.pubs\n",
       "8         gene_plus_promoter             1     \n",
       "15        gene_plus_promoter            12     \n",
       "4834      EPIC_probe         cg02659086  1     \n",
       "6180      EPIC_probe         cg04920951  1     \n",
       "6619      EPIC_probe         cg26250609  1     \n",
       "9051      promoter                       1     \n",
       "NA        NA                 NA         NA     \n",
       "NA.1      NA                 NA         NA     \n",
       "NA.2      NA                 NA         NA     \n",
       "NA.3      NA                 NA         NA     \n",
       "NA.4      NA                 NA         NA     \n",
       "NA.5      NA                 NA         NA     \n",
       "NA.6      NA                 NA         NA     \n",
       "NA.7      NA                 NA         NA     \n",
       "NA.8      NA                 NA         NA     \n",
       "NA.9      NA                 NA         NA     \n",
       "NA.10     NA                 NA         NA     \n",
       "NA.11     NA                 NA         NA     \n",
       "NA.12     NA                 NA         NA     \n",
       "NA.13     NA                 NA         NA     \n",
       "NA.14     NA                 NA         NA     \n",
       "NA.15     NA                 NA         NA     \n",
       "NA.16     NA                 NA         NA     \n",
       "NA.17     NA                 NA         NA     \n",
       "NA.18     NA                 NA         NA     \n",
       "NA.19     NA                 NA         NA     \n",
       "NA.20     NA                 NA         NA     \n",
       "NA.21     NA                 NA         NA     \n",
       "NA.22     NA                 NA         NA     \n",
       "NA.23     NA                 NA         NA     \n",
       "⋮         ⋮                  ⋮          ⋮      \n",
       "NA.111373 NA                 NA         NA     \n",
       "NA.111374 NA                 NA         NA     \n",
       "NA.111375 NA                 NA         NA     \n",
       "NA.111376 NA                 NA         NA     \n",
       "NA.111377 NA                 NA         NA     \n",
       "NA.111378 NA                 NA         NA     \n",
       "NA.111379 NA                 NA         NA     \n",
       "NA.111380 NA                 NA         NA     \n",
       "NA.111381 NA                 NA         NA     \n",
       "NA.111382 NA                 NA         NA     \n",
       "NA.111383 NA                 NA         NA     \n",
       "NA.111384 NA                 NA         NA     \n",
       "NA.111385 NA                 NA         NA     \n",
       "NA.111386 NA                 NA         NA     \n",
       "NA.111387 NA                 NA         NA     \n",
       "NA.111388 NA                 NA         NA     \n",
       "NA.111389 NA                 NA         NA     \n",
       "NA.111390 NA                 NA         NA     \n",
       "NA.111391 NA                 NA         NA     \n",
       "NA.111392 NA                 NA         NA     \n",
       "NA.111393 NA                 NA         NA     \n",
       "NA.111394 NA                 NA         NA     \n",
       "NA.111395 NA                 NA         NA     \n",
       "NA.111396 NA                 NA         NA     \n",
       "NA.111397 NA                 NA         NA     \n",
       "NA.111398 NA                 NA         NA     \n",
       "NA.111399 NA                 NA         NA     \n",
       "NA.111400 NA                 NA         NA     \n",
       "NA.111401 NA                 NA         NA     \n",
       "NA.111402 NA                 NA         NA     "
      ]
     },
     "metadata": {},
     "output_type": "display_data"
    }
   ],
   "source": [
    "df_all = read.table(file=\"./marker_collation/all_lit_regions_wcoords_10052022.bed\", header=TRUE,sep=\"\\t\")\n",
    "nrow(df_all[!is.na(df_all$chr),])\n",
    "df_all[df_all$pub.gene.name==\"GSTP1\",]"
   ]
  },
  {
   "cell_type": "code",
   "execution_count": 398,
   "id": "3060f5af",
   "metadata": {},
   "outputs": [
    {
     "data": {
      "text/html": [
       "<table class=\"dataframe\">\n",
       "<caption>A data.frame: 6 × 17</caption>\n",
       "<thead>\n",
       "\t<tr><th></th><th scope=col>V1</th><th scope=col>V2</th><th scope=col>V3</th><th scope=col>V4</th><th scope=col>V5</th><th scope=col>V6</th><th scope=col>V7</th><th scope=col>V8</th><th scope=col>V9</th><th scope=col>V10</th><th scope=col>V11</th><th scope=col>V12</th><th scope=col>V13</th><th scope=col>V14</th><th scope=col>V15</th><th scope=col>V16</th><th scope=col>V17</th></tr>\n",
       "\t<tr><th></th><th scope=col>&lt;chr&gt;</th><th scope=col>&lt;int&gt;</th><th scope=col>&lt;int&gt;</th><th scope=col>&lt;chr&gt;</th><th scope=col>&lt;chr&gt;</th><th scope=col>&lt;chr&gt;</th><th scope=col>&lt;chr&gt;</th><th scope=col>&lt;chr&gt;</th><th scope=col>&lt;int&gt;</th><th scope=col>&lt;chr&gt;</th><th scope=col>&lt;int&gt;</th><th scope=col>&lt;int&gt;</th><th scope=col>&lt;chr&gt;</th><th scope=col>&lt;chr&gt;</th><th scope=col>&lt;chr&gt;</th><th scope=col>&lt;chr&gt;</th><th scope=col>&lt;int&gt;</th></tr>\n",
       "</thead>\n",
       "<tbody>\n",
       "\t<tr><th scope=row>144404</th><td>22</td><td>51110120</td><td>51112461</td><td>.</td><td>Beltran et al 2020</td><td>NA    </td><td>DMR       </td><td>NA        </td><td>1</td><td>22</td><td>51111843</td><td>51171640</td><td>SHANK3         </td><td>0</td><td>+</td><td>gene_plus_promoter</td><td> 618</td></tr>\n",
       "\t<tr><th scope=row>144405</th><td>22</td><td>51111713</td><td>51111714</td><td>R</td><td>Ylitalo et al 2021</td><td>SHANK3</td><td>EPIC_probe</td><td>cg26201811</td><td>1</td><td>22</td><td>51110142</td><td>51112602</td><td>ENSG00000286508</td><td>0</td><td>+</td><td>gene_plus_promoter</td><td>   1</td></tr>\n",
       "\t<tr><th scope=row>144406</th><td>22</td><td>51135020</td><td>51136679</td><td>.</td><td>Beltran et al 2020</td><td>NA    </td><td>DMR       </td><td>NA        </td><td>1</td><td>22</td><td>51111843</td><td>51171640</td><td>SHANK3         </td><td>0</td><td>+</td><td>gene_plus_promoter</td><td>1659</td></tr>\n",
       "\t<tr><th scope=row>144407</th><td>22</td><td>51135139</td><td>51135320</td><td>.</td><td>Zhao et al 2020   </td><td>NA    </td><td>DMR       </td><td>NA        </td><td>1</td><td>22</td><td>51111843</td><td>51171640</td><td>SHANK3         </td><td>0</td><td>+</td><td>gene_plus_promoter</td><td> 181</td></tr>\n",
       "\t<tr><th scope=row>144408</th><td>22</td><td>51135380</td><td>51135451</td><td>.</td><td>Zhao et al 2020   </td><td>NA    </td><td>DMR       </td><td>NA        </td><td>1</td><td>22</td><td>51111843</td><td>51171640</td><td>SHANK3         </td><td>0</td><td>+</td><td>gene_plus_promoter</td><td>  71</td></tr>\n",
       "\t<tr><th scope=row>144409</th><td>22</td><td>51142482</td><td>51143093</td><td>.</td><td>Beltran et al 2020</td><td>NA    </td><td>DMR       </td><td>NA        </td><td>1</td><td>22</td><td>51111843</td><td>51171640</td><td>SHANK3         </td><td>0</td><td>+</td><td>gene_plus_promoter</td><td> 611</td></tr>\n",
       "</tbody>\n",
       "</table>\n"
      ],
      "text/latex": [
       "A data.frame: 6 × 17\n",
       "\\begin{tabular}{r|lllllllllllllllll}\n",
       "  & V1 & V2 & V3 & V4 & V5 & V6 & V7 & V8 & V9 & V10 & V11 & V12 & V13 & V14 & V15 & V16 & V17\\\\\n",
       "  & <chr> & <int> & <int> & <chr> & <chr> & <chr> & <chr> & <chr> & <int> & <chr> & <int> & <int> & <chr> & <chr> & <chr> & <chr> & <int>\\\\\n",
       "\\hline\n",
       "\t144404 & 22 & 51110120 & 51112461 & . & Beltran et al 2020 & NA     & DMR        & NA         & 1 & 22 & 51111843 & 51171640 & SHANK3          & 0 & + & gene\\_plus\\_promoter &  618\\\\\n",
       "\t144405 & 22 & 51111713 & 51111714 & R & Ylitalo et al 2021 & SHANK3 & EPIC\\_probe & cg26201811 & 1 & 22 & 51110142 & 51112602 & ENSG00000286508 & 0 & + & gene\\_plus\\_promoter &    1\\\\\n",
       "\t144406 & 22 & 51135020 & 51136679 & . & Beltran et al 2020 & NA     & DMR        & NA         & 1 & 22 & 51111843 & 51171640 & SHANK3          & 0 & + & gene\\_plus\\_promoter & 1659\\\\\n",
       "\t144407 & 22 & 51135139 & 51135320 & . & Zhao et al 2020    & NA     & DMR        & NA         & 1 & 22 & 51111843 & 51171640 & SHANK3          & 0 & + & gene\\_plus\\_promoter &  181\\\\\n",
       "\t144408 & 22 & 51135380 & 51135451 & . & Zhao et al 2020    & NA     & DMR        & NA         & 1 & 22 & 51111843 & 51171640 & SHANK3          & 0 & + & gene\\_plus\\_promoter &   71\\\\\n",
       "\t144409 & 22 & 51142482 & 51143093 & . & Beltran et al 2020 & NA     & DMR        & NA         & 1 & 22 & 51111843 & 51171640 & SHANK3          & 0 & + & gene\\_plus\\_promoter &  611\\\\\n",
       "\\end{tabular}\n"
      ],
      "text/markdown": [
       "\n",
       "A data.frame: 6 × 17\n",
       "\n",
       "| <!--/--> | V1 &lt;chr&gt; | V2 &lt;int&gt; | V3 &lt;int&gt; | V4 &lt;chr&gt; | V5 &lt;chr&gt; | V6 &lt;chr&gt; | V7 &lt;chr&gt; | V8 &lt;chr&gt; | V9 &lt;int&gt; | V10 &lt;chr&gt; | V11 &lt;int&gt; | V12 &lt;int&gt; | V13 &lt;chr&gt; | V14 &lt;chr&gt; | V15 &lt;chr&gt; | V16 &lt;chr&gt; | V17 &lt;int&gt; |\n",
       "|---|---|---|---|---|---|---|---|---|---|---|---|---|---|---|---|---|---|\n",
       "| 144404 | 22 | 51110120 | 51112461 | . | Beltran et al 2020 | NA     | DMR        | NA         | 1 | 22 | 51111843 | 51171640 | SHANK3          | 0 | + | gene_plus_promoter |  618 |\n",
       "| 144405 | 22 | 51111713 | 51111714 | R | Ylitalo et al 2021 | SHANK3 | EPIC_probe | cg26201811 | 1 | 22 | 51110142 | 51112602 | ENSG00000286508 | 0 | + | gene_plus_promoter |    1 |\n",
       "| 144406 | 22 | 51135020 | 51136679 | . | Beltran et al 2020 | NA     | DMR        | NA         | 1 | 22 | 51111843 | 51171640 | SHANK3          | 0 | + | gene_plus_promoter | 1659 |\n",
       "| 144407 | 22 | 51135139 | 51135320 | . | Zhao et al 2020    | NA     | DMR        | NA         | 1 | 22 | 51111843 | 51171640 | SHANK3          | 0 | + | gene_plus_promoter |  181 |\n",
       "| 144408 | 22 | 51135380 | 51135451 | . | Zhao et al 2020    | NA     | DMR        | NA         | 1 | 22 | 51111843 | 51171640 | SHANK3          | 0 | + | gene_plus_promoter |   71 |\n",
       "| 144409 | 22 | 51142482 | 51143093 | . | Beltran et al 2020 | NA     | DMR        | NA         | 1 | 22 | 51111843 | 51171640 | SHANK3          | 0 | + | gene_plus_promoter |  611 |\n",
       "\n"
      ],
      "text/plain": [
       "       V1 V2       V3       V4 V5                 V6     V7         V8        \n",
       "144404 22 51110120 51112461 .  Beltran et al 2020 NA     DMR        NA        \n",
       "144405 22 51111713 51111714 R  Ylitalo et al 2021 SHANK3 EPIC_probe cg26201811\n",
       "144406 22 51135020 51136679 .  Beltran et al 2020 NA     DMR        NA        \n",
       "144407 22 51135139 51135320 .  Zhao et al 2020    NA     DMR        NA        \n",
       "144408 22 51135380 51135451 .  Zhao et al 2020    NA     DMR        NA        \n",
       "144409 22 51142482 51143093 .  Beltran et al 2020 NA     DMR        NA        \n",
       "       V9 V10 V11      V12      V13             V14 V15 V16                V17 \n",
       "144404 1  22  51111843 51171640 SHANK3          0   +   gene_plus_promoter  618\n",
       "144405 1  22  51110142 51112602 ENSG00000286508 0   +   gene_plus_promoter    1\n",
       "144406 1  22  51111843 51171640 SHANK3          0   +   gene_plus_promoter 1659\n",
       "144407 1  22  51111843 51171640 SHANK3          0   +   gene_plus_promoter  181\n",
       "144408 1  22  51111843 51171640 SHANK3          0   +   gene_plus_promoter   71\n",
       "144409 1  22  51111843 51171640 SHANK3          0   +   gene_plus_promoter  611"
      ]
     },
     "metadata": {},
     "output_type": "display_data"
    },
    {
     "data": {
      "text/html": [
       "<table class=\"dataframe\">\n",
       "<caption>A data.frame: 6 × 17</caption>\n",
       "<thead>\n",
       "\t<tr><th></th><th scope=col>chr</th><th scope=col>start</th><th scope=col>end</th><th scope=col>strand</th><th scope=col>source</th><th scope=col>pub.gene.name</th><th scope=col>pub.reg.type</th><th scope=col>probe</th><th scope=col>no.pubs</th><th scope=col>chr.g</th><th scope=col>start.g</th><th scope=col>end.g</th><th scope=col>gencode.gene.name</th><th scope=col>zero</th><th scope=col>gencode.gene.strand</th><th scope=col>gencode.reg.type</th><th scope=col>bp.overlap</th></tr>\n",
       "\t<tr><th></th><th scope=col>&lt;chr&gt;</th><th scope=col>&lt;int&gt;</th><th scope=col>&lt;int&gt;</th><th scope=col>&lt;chr&gt;</th><th scope=col>&lt;chr&gt;</th><th scope=col>&lt;chr&gt;</th><th scope=col>&lt;chr&gt;</th><th scope=col>&lt;chr&gt;</th><th scope=col>&lt;int&gt;</th><th scope=col>&lt;chr&gt;</th><th scope=col>&lt;int&gt;</th><th scope=col>&lt;int&gt;</th><th scope=col>&lt;chr&gt;</th><th scope=col>&lt;chr&gt;</th><th scope=col>&lt;chr&gt;</th><th scope=col>&lt;chr&gt;</th><th scope=col>&lt;int&gt;</th></tr>\n",
       "</thead>\n",
       "<tbody>\n",
       "\t<tr><th scope=row>128841</th><td>22</td><td>51110120</td><td>51112461</td><td>.</td><td>Beltran et al 2020</td><td>none  </td><td>DMR       </td><td>NA        </td><td>1</td><td>22</td><td>51111843</td><td>51112843</td><td>SHANK3</td><td>0</td><td>+</td><td>promoter</td><td>618</td></tr>\n",
       "\t<tr><th scope=row>128842</th><td>22</td><td>51111713</td><td>51111714</td><td>R</td><td>Ylitalo et al 2021</td><td>SHANK3</td><td>EPIC_probe</td><td>cg26201811</td><td>1</td><td>. </td><td>      -1</td><td>      -1</td><td>.     </td><td>.</td><td>.</td><td>.       </td><td>  0</td></tr>\n",
       "\t<tr><th scope=row>128843</th><td>22</td><td>51135020</td><td>51136679</td><td>.</td><td>Beltran et al 2020</td><td>none  </td><td>DMR       </td><td>NA        </td><td>1</td><td>. </td><td>      -1</td><td>      -1</td><td>.     </td><td>.</td><td>.</td><td>.       </td><td>  0</td></tr>\n",
       "\t<tr><th scope=row>128844</th><td>22</td><td>51135139</td><td>51135320</td><td>.</td><td>Zhao et al 2020   </td><td>none  </td><td>DMR       </td><td>NA        </td><td>1</td><td>. </td><td>      -1</td><td>      -1</td><td>.     </td><td>.</td><td>.</td><td>.       </td><td>  0</td></tr>\n",
       "\t<tr><th scope=row>128845</th><td>22</td><td>51135380</td><td>51135451</td><td>.</td><td>Zhao et al 2020   </td><td>none  </td><td>DMR       </td><td>NA        </td><td>1</td><td>. </td><td>      -1</td><td>      -1</td><td>.     </td><td>.</td><td>.</td><td>.       </td><td>  0</td></tr>\n",
       "\t<tr><th scope=row>128846</th><td>22</td><td>51142482</td><td>51143093</td><td>.</td><td>Beltran et al 2020</td><td>none  </td><td>DMR       </td><td>NA        </td><td>1</td><td>. </td><td>      -1</td><td>      -1</td><td>.     </td><td>.</td><td>.</td><td>.       </td><td>  0</td></tr>\n",
       "</tbody>\n",
       "</table>\n"
      ],
      "text/latex": [
       "A data.frame: 6 × 17\n",
       "\\begin{tabular}{r|lllllllllllllllll}\n",
       "  & chr & start & end & strand & source & pub.gene.name & pub.reg.type & probe & no.pubs & chr.g & start.g & end.g & gencode.gene.name & zero & gencode.gene.strand & gencode.reg.type & bp.overlap\\\\\n",
       "  & <chr> & <int> & <int> & <chr> & <chr> & <chr> & <chr> & <chr> & <int> & <chr> & <int> & <int> & <chr> & <chr> & <chr> & <chr> & <int>\\\\\n",
       "\\hline\n",
       "\t128841 & 22 & 51110120 & 51112461 & . & Beltran et al 2020 & none   & DMR        & NA         & 1 & 22 & 51111843 & 51112843 & SHANK3 & 0 & + & promoter & 618\\\\\n",
       "\t128842 & 22 & 51111713 & 51111714 & R & Ylitalo et al 2021 & SHANK3 & EPIC\\_probe & cg26201811 & 1 & .  &       -1 &       -1 & .      & . & . & .        &   0\\\\\n",
       "\t128843 & 22 & 51135020 & 51136679 & . & Beltran et al 2020 & none   & DMR        & NA         & 1 & .  &       -1 &       -1 & .      & . & . & .        &   0\\\\\n",
       "\t128844 & 22 & 51135139 & 51135320 & . & Zhao et al 2020    & none   & DMR        & NA         & 1 & .  &       -1 &       -1 & .      & . & . & .        &   0\\\\\n",
       "\t128845 & 22 & 51135380 & 51135451 & . & Zhao et al 2020    & none   & DMR        & NA         & 1 & .  &       -1 &       -1 & .      & . & . & .        &   0\\\\\n",
       "\t128846 & 22 & 51142482 & 51143093 & . & Beltran et al 2020 & none   & DMR        & NA         & 1 & .  &       -1 &       -1 & .      & . & . & .        &   0\\\\\n",
       "\\end{tabular}\n"
      ],
      "text/markdown": [
       "\n",
       "A data.frame: 6 × 17\n",
       "\n",
       "| <!--/--> | chr &lt;chr&gt; | start &lt;int&gt; | end &lt;int&gt; | strand &lt;chr&gt; | source &lt;chr&gt; | pub.gene.name &lt;chr&gt; | pub.reg.type &lt;chr&gt; | probe &lt;chr&gt; | no.pubs &lt;int&gt; | chr.g &lt;chr&gt; | start.g &lt;int&gt; | end.g &lt;int&gt; | gencode.gene.name &lt;chr&gt; | zero &lt;chr&gt; | gencode.gene.strand &lt;chr&gt; | gencode.reg.type &lt;chr&gt; | bp.overlap &lt;int&gt; |\n",
       "|---|---|---|---|---|---|---|---|---|---|---|---|---|---|---|---|---|---|\n",
       "| 128841 | 22 | 51110120 | 51112461 | . | Beltran et al 2020 | none   | DMR        | NA         | 1 | 22 | 51111843 | 51112843 | SHANK3 | 0 | + | promoter | 618 |\n",
       "| 128842 | 22 | 51111713 | 51111714 | R | Ylitalo et al 2021 | SHANK3 | EPIC_probe | cg26201811 | 1 | .  |       -1 |       -1 | .      | . | . | .        |   0 |\n",
       "| 128843 | 22 | 51135020 | 51136679 | . | Beltran et al 2020 | none   | DMR        | NA         | 1 | .  |       -1 |       -1 | .      | . | . | .        |   0 |\n",
       "| 128844 | 22 | 51135139 | 51135320 | . | Zhao et al 2020    | none   | DMR        | NA         | 1 | .  |       -1 |       -1 | .      | . | . | .        |   0 |\n",
       "| 128845 | 22 | 51135380 | 51135451 | . | Zhao et al 2020    | none   | DMR        | NA         | 1 | .  |       -1 |       -1 | .      | . | . | .        |   0 |\n",
       "| 128846 | 22 | 51142482 | 51143093 | . | Beltran et al 2020 | none   | DMR        | NA         | 1 | .  |       -1 |       -1 | .      | . | . | .        |   0 |\n",
       "\n"
      ],
      "text/plain": [
       "       chr start    end      strand source             pub.gene.name\n",
       "128841 22  51110120 51112461 .      Beltran et al 2020 none         \n",
       "128842 22  51111713 51111714 R      Ylitalo et al 2021 SHANK3       \n",
       "128843 22  51135020 51136679 .      Beltran et al 2020 none         \n",
       "128844 22  51135139 51135320 .      Zhao et al 2020    none         \n",
       "128845 22  51135380 51135451 .      Zhao et al 2020    none         \n",
       "128846 22  51142482 51143093 .      Beltran et al 2020 none         \n",
       "       pub.reg.type probe      no.pubs chr.g start.g  end.g   \n",
       "128841 DMR          NA         1       22    51111843 51112843\n",
       "128842 EPIC_probe   cg26201811 1       .           -1       -1\n",
       "128843 DMR          NA         1       .           -1       -1\n",
       "128844 DMR          NA         1       .           -1       -1\n",
       "128845 DMR          NA         1       .           -1       -1\n",
       "128846 DMR          NA         1       .           -1       -1\n",
       "       gencode.gene.name zero gencode.gene.strand gencode.reg.type bp.overlap\n",
       "128841 SHANK3            0    +                   promoter         618       \n",
       "128842 .                 .    .                   .                  0       \n",
       "128843 .                 .    .                   .                  0       \n",
       "128844 .                 .    .                   .                  0       \n",
       "128845 .                 .    .                   .                  0       \n",
       "128846 .                 .    .                   .                  0       "
      ]
     },
     "metadata": {},
     "output_type": "display_data"
    },
    {
     "data": {
      "text/html": [
       "<table class=\"dataframe\">\n",
       "<caption>A data.frame: 6 × 17</caption>\n",
       "<thead>\n",
       "\t<tr><th></th><th scope=col>chr</th><th scope=col>start</th><th scope=col>end</th><th scope=col>strand</th><th scope=col>source</th><th scope=col>pub.gene.name</th><th scope=col>pub.reg.type</th><th scope=col>probe</th><th scope=col>no.pubs</th><th scope=col>chr.g</th><th scope=col>start.g</th><th scope=col>end.g</th><th scope=col>gencode.gene.name</th><th scope=col>zero</th><th scope=col>gencode.gene.strand</th><th scope=col>gencode.reg.type</th><th scope=col>bp.overlap</th></tr>\n",
       "\t<tr><th></th><th scope=col>&lt;chr&gt;</th><th scope=col>&lt;int&gt;</th><th scope=col>&lt;int&gt;</th><th scope=col>&lt;chr&gt;</th><th scope=col>&lt;chr&gt;</th><th scope=col>&lt;chr&gt;</th><th scope=col>&lt;chr&gt;</th><th scope=col>&lt;chr&gt;</th><th scope=col>&lt;int&gt;</th><th scope=col>&lt;chr&gt;</th><th scope=col>&lt;int&gt;</th><th scope=col>&lt;int&gt;</th><th scope=col>&lt;chr&gt;</th><th scope=col>&lt;chr&gt;</th><th scope=col>&lt;chr&gt;</th><th scope=col>&lt;chr&gt;</th><th scope=col>&lt;int&gt;</th></tr>\n",
       "</thead>\n",
       "<tbody>\n",
       "\t<tr><th scope=row>93941</th><td>11</td><td>67350213</td><td>67351213</td><td>+</td><td>Sugiura et al 2021    </td><td>GSTP1</td><td>promoter          </td><td>          </td><td> 1</td><td>11</td><td>67350213</td><td>67354127</td><td>GSTP1</td><td>0</td><td>+</td><td>gene_plus_promoter</td><td>1000</td></tr>\n",
       "\t<tr><th scope=row>93942</th><td>11</td><td>67350213</td><td>67354127</td><td>+</td><td>Constancio et al. 2019</td><td>GSTP1</td><td>gene_plus_promoter</td><td>          </td><td> 1</td><td>11</td><td>67350213</td><td>67354127</td><td>GSTP1</td><td>0</td><td>+</td><td>gene_plus_promoter</td><td>3914</td></tr>\n",
       "\t<tr><th scope=row>93943</th><td>11</td><td>67350213</td><td>67354127</td><td>+</td><td>Massie et al. 2017    </td><td>GSTP1</td><td>gene_plus_promoter</td><td>          </td><td>12</td><td>11</td><td>67350213</td><td>67354127</td><td>GSTP1</td><td>0</td><td>+</td><td>gene_plus_promoter</td><td>3914</td></tr>\n",
       "\t<tr><th scope=row>93944</th><td>11</td><td>67350975</td><td>67350976</td><td>R</td><td>Ylitalo et al 2021    </td><td>GSTP1</td><td>EPIC_probe        </td><td>cg02659086</td><td> 1</td><td>11</td><td>67350213</td><td>67354127</td><td>GSTP1</td><td>0</td><td>+</td><td>gene_plus_promoter</td><td>   1</td></tr>\n",
       "\t<tr><th scope=row>93945</th><td>11</td><td>67351270</td><td>67351271</td><td>R</td><td>Ylitalo et al 2021    </td><td>GSTP1</td><td>EPIC_probe        </td><td>cg04920951</td><td> 1</td><td>11</td><td>67350213</td><td>67354127</td><td>GSTP1</td><td>0</td><td>+</td><td>gene_plus_promoter</td><td>   1</td></tr>\n",
       "\t<tr><th scope=row>93946</th><td>11</td><td>67351272</td><td>67351273</td><td>F</td><td>Ylitalo et al 2021    </td><td>GSTP1</td><td>EPIC_probe        </td><td>cg26250609</td><td> 1</td><td>11</td><td>67350213</td><td>67354127</td><td>GSTP1</td><td>0</td><td>+</td><td>gene_plus_promoter</td><td>   1</td></tr>\n",
       "</tbody>\n",
       "</table>\n"
      ],
      "text/latex": [
       "A data.frame: 6 × 17\n",
       "\\begin{tabular}{r|lllllllllllllllll}\n",
       "  & chr & start & end & strand & source & pub.gene.name & pub.reg.type & probe & no.pubs & chr.g & start.g & end.g & gencode.gene.name & zero & gencode.gene.strand & gencode.reg.type & bp.overlap\\\\\n",
       "  & <chr> & <int> & <int> & <chr> & <chr> & <chr> & <chr> & <chr> & <int> & <chr> & <int> & <int> & <chr> & <chr> & <chr> & <chr> & <int>\\\\\n",
       "\\hline\n",
       "\t93941 & 11 & 67350213 & 67351213 & + & Sugiura et al 2021     & GSTP1 & promoter           &            &  1 & 11 & 67350213 & 67354127 & GSTP1 & 0 & + & gene\\_plus\\_promoter & 1000\\\\\n",
       "\t93942 & 11 & 67350213 & 67354127 & + & Constancio et al. 2019 & GSTP1 & gene\\_plus\\_promoter &            &  1 & 11 & 67350213 & 67354127 & GSTP1 & 0 & + & gene\\_plus\\_promoter & 3914\\\\\n",
       "\t93943 & 11 & 67350213 & 67354127 & + & Massie et al. 2017     & GSTP1 & gene\\_plus\\_promoter &            & 12 & 11 & 67350213 & 67354127 & GSTP1 & 0 & + & gene\\_plus\\_promoter & 3914\\\\\n",
       "\t93944 & 11 & 67350975 & 67350976 & R & Ylitalo et al 2021     & GSTP1 & EPIC\\_probe         & cg02659086 &  1 & 11 & 67350213 & 67354127 & GSTP1 & 0 & + & gene\\_plus\\_promoter &    1\\\\\n",
       "\t93945 & 11 & 67351270 & 67351271 & R & Ylitalo et al 2021     & GSTP1 & EPIC\\_probe         & cg04920951 &  1 & 11 & 67350213 & 67354127 & GSTP1 & 0 & + & gene\\_plus\\_promoter &    1\\\\\n",
       "\t93946 & 11 & 67351272 & 67351273 & F & Ylitalo et al 2021     & GSTP1 & EPIC\\_probe         & cg26250609 &  1 & 11 & 67350213 & 67354127 & GSTP1 & 0 & + & gene\\_plus\\_promoter &    1\\\\\n",
       "\\end{tabular}\n"
      ],
      "text/markdown": [
       "\n",
       "A data.frame: 6 × 17\n",
       "\n",
       "| <!--/--> | chr &lt;chr&gt; | start &lt;int&gt; | end &lt;int&gt; | strand &lt;chr&gt; | source &lt;chr&gt; | pub.gene.name &lt;chr&gt; | pub.reg.type &lt;chr&gt; | probe &lt;chr&gt; | no.pubs &lt;int&gt; | chr.g &lt;chr&gt; | start.g &lt;int&gt; | end.g &lt;int&gt; | gencode.gene.name &lt;chr&gt; | zero &lt;chr&gt; | gencode.gene.strand &lt;chr&gt; | gencode.reg.type &lt;chr&gt; | bp.overlap &lt;int&gt; |\n",
       "|---|---|---|---|---|---|---|---|---|---|---|---|---|---|---|---|---|---|\n",
       "| 93941 | 11 | 67350213 | 67351213 | + | Sugiura et al 2021     | GSTP1 | promoter           | <!----> |  1 | 11 | 67350213 | 67354127 | GSTP1 | 0 | + | gene_plus_promoter | 1000 |\n",
       "| 93942 | 11 | 67350213 | 67354127 | + | Constancio et al. 2019 | GSTP1 | gene_plus_promoter | <!----> |  1 | 11 | 67350213 | 67354127 | GSTP1 | 0 | + | gene_plus_promoter | 3914 |\n",
       "| 93943 | 11 | 67350213 | 67354127 | + | Massie et al. 2017     | GSTP1 | gene_plus_promoter | <!----> | 12 | 11 | 67350213 | 67354127 | GSTP1 | 0 | + | gene_plus_promoter | 3914 |\n",
       "| 93944 | 11 | 67350975 | 67350976 | R | Ylitalo et al 2021     | GSTP1 | EPIC_probe         | cg02659086 |  1 | 11 | 67350213 | 67354127 | GSTP1 | 0 | + | gene_plus_promoter |    1 |\n",
       "| 93945 | 11 | 67351270 | 67351271 | R | Ylitalo et al 2021     | GSTP1 | EPIC_probe         | cg04920951 |  1 | 11 | 67350213 | 67354127 | GSTP1 | 0 | + | gene_plus_promoter |    1 |\n",
       "| 93946 | 11 | 67351272 | 67351273 | F | Ylitalo et al 2021     | GSTP1 | EPIC_probe         | cg26250609 |  1 | 11 | 67350213 | 67354127 | GSTP1 | 0 | + | gene_plus_promoter |    1 |\n",
       "\n"
      ],
      "text/plain": [
       "      chr start    end      strand source                 pub.gene.name\n",
       "93941 11  67350213 67351213 +      Sugiura et al 2021     GSTP1        \n",
       "93942 11  67350213 67354127 +      Constancio et al. 2019 GSTP1        \n",
       "93943 11  67350213 67354127 +      Massie et al. 2017     GSTP1        \n",
       "93944 11  67350975 67350976 R      Ylitalo et al 2021     GSTP1        \n",
       "93945 11  67351270 67351271 R      Ylitalo et al 2021     GSTP1        \n",
       "93946 11  67351272 67351273 F      Ylitalo et al 2021     GSTP1        \n",
       "      pub.reg.type       probe      no.pubs chr.g start.g  end.g   \n",
       "93941 promoter                       1      11    67350213 67354127\n",
       "93942 gene_plus_promoter             1      11    67350213 67354127\n",
       "93943 gene_plus_promoter            12      11    67350213 67354127\n",
       "93944 EPIC_probe         cg02659086  1      11    67350213 67354127\n",
       "93945 EPIC_probe         cg04920951  1      11    67350213 67354127\n",
       "93946 EPIC_probe         cg26250609  1      11    67350213 67354127\n",
       "      gencode.gene.name zero gencode.gene.strand gencode.reg.type   bp.overlap\n",
       "93941 GSTP1             0    +                   gene_plus_promoter 1000      \n",
       "93942 GSTP1             0    +                   gene_plus_promoter 3914      \n",
       "93943 GSTP1             0    +                   gene_plus_promoter 3914      \n",
       "93944 GSTP1             0    +                   gene_plus_promoter    1      \n",
       "93945 GSTP1             0    +                   gene_plus_promoter    1      \n",
       "93946 GSTP1             0    +                   gene_plus_promoter    1      "
      ]
     },
     "metadata": {},
     "output_type": "display_data"
    }
   ],
   "source": [
    "df_gene_annot = read.table(file=\"./marker_collation/all_lit_regions_wcoords_gene_annot_10052022.bed\", header=FALSE, sep=\"\\t\")\n",
    "tail(df_gene_annot)\n",
    "cols = c(\"chr\",\"start\",\"end\",\"strand\",\"source\",\"pub.gene.name\",\"pub.reg.type\",\n",
    "                          \"probe\",\"no.pubs\",\"chr.g\",\"start.g\",\"end.g\",\"gencode.gene.name\",\"zero\",\n",
    "                           \"gencode.gene.strand\",\"gencode.reg.type\",\"bp.overlap\")\n",
    "df_prom_annot = read.table(file=\"./marker_collation/all_lit_regions_wcoords_promoter_annot_10052022.bed\", header=FALSE, sep=\"\\t\")\n",
    "colnames(df_gene_annot) <- cols\n",
    "colnames(df_prom_annot) <- cols\n",
    "\n",
    "df_gene_annot = df_gene_annot[!is.na(df_gene_annot$start),]\n",
    "df_gene_annot$gencode.gene.name[is.na(df_gene_annot$gencode.gene.name)] <- \"none\"\n",
    "df_gene_annot$pub.gene.name[is.na(df_gene_annot$pub.gene.name)] <- \"none\"\n",
    "df_gene_annot$start = as.integer(df_gene_annot$start)\n",
    "df_gene_annot$end = as.integer(df_gene_annot$end)\n",
    "\n",
    "df_prom_annot = df_prom_annot[!is.na(df_prom_annot$start),]\n",
    "df_prom_annot$gencode.gene.name[is.na(df_prom_annot$gencode.gene.name)] <- \"none\"\n",
    "df_prom_annot$pub.gene.name[is.na(df_prom_annot$pub.gene.name)] <- \"none\"\n",
    "df_prom_annot$start = as.integer(df_prom_annot$start)\n",
    "df_prom_annot$end = as.integer(df_prom_annot$end)\n",
    "\n",
    "tail(df_prom_annot)\n",
    "df_gene_annot[df_gene_annot$pub.gene.name==\"GSTP1\",]"
   ]
  },
  {
   "cell_type": "code",
   "execution_count": 399,
   "id": "b44814db",
   "metadata": {},
   "outputs": [
    {
     "data": {
      "text/html": [
       "<table class=\"dataframe\">\n",
       "<caption>A data.frame: 6 × 17</caption>\n",
       "<thead>\n",
       "\t<tr><th></th><th scope=col>chr</th><th scope=col>start</th><th scope=col>end</th><th scope=col>strand</th><th scope=col>source</th><th scope=col>pub.gene.name</th><th scope=col>pub.reg.type</th><th scope=col>probe</th><th scope=col>no.pubs</th><th scope=col>chr.g</th><th scope=col>start.g</th><th scope=col>end.g</th><th scope=col>gencode.gene.name</th><th scope=col>zero</th><th scope=col>gencode.gene.strand</th><th scope=col>gencode.reg.type</th><th scope=col>bp.overlap</th></tr>\n",
       "\t<tr><th></th><th scope=col>&lt;chr&gt;</th><th scope=col>&lt;int&gt;</th><th scope=col>&lt;int&gt;</th><th scope=col>&lt;chr&gt;</th><th scope=col>&lt;chr&gt;</th><th scope=col>&lt;chr&gt;</th><th scope=col>&lt;chr&gt;</th><th scope=col>&lt;chr&gt;</th><th scope=col>&lt;int&gt;</th><th scope=col>&lt;chr&gt;</th><th scope=col>&lt;int&gt;</th><th scope=col>&lt;int&gt;</th><th scope=col>&lt;chr&gt;</th><th scope=col>&lt;chr&gt;</th><th scope=col>&lt;chr&gt;</th><th scope=col>&lt;chr&gt;</th><th scope=col>&lt;int&gt;</th></tr>\n",
       "</thead>\n",
       "<tbody>\n",
       "\t<tr><th scope=row>79324</th><td>11</td><td>67350213</td><td>67351213</td><td>+</td><td>Sugiura et al 2021    </td><td>GSTP1</td><td>promoter          </td><td>          </td><td> 1</td><td>11</td><td>67350213</td><td>67354127</td><td>GSTP1</td><td>0</td><td>+</td><td>gene_plus_promoter</td><td>1000</td></tr>\n",
       "\t<tr><th scope=row>79325</th><td>11</td><td>67350213</td><td>67354127</td><td>+</td><td>Constancio et al. 2019</td><td>GSTP1</td><td>gene_plus_promoter</td><td>          </td><td> 1</td><td>11</td><td>67350213</td><td>67354127</td><td>GSTP1</td><td>0</td><td>+</td><td>gene_plus_promoter</td><td>3914</td></tr>\n",
       "\t<tr><th scope=row>79326</th><td>11</td><td>67350213</td><td>67354127</td><td>+</td><td>Massie et al. 2017    </td><td>GSTP1</td><td>gene_plus_promoter</td><td>          </td><td>12</td><td>11</td><td>67350213</td><td>67354127</td><td>GSTP1</td><td>0</td><td>+</td><td>gene_plus_promoter</td><td>3914</td></tr>\n",
       "\t<tr><th scope=row>79327</th><td>11</td><td>67350975</td><td>67350976</td><td>R</td><td>Ylitalo et al 2021    </td><td>GSTP1</td><td>EPIC_probe        </td><td>cg02659086</td><td> 1</td><td>11</td><td>67350213</td><td>67354127</td><td>GSTP1</td><td>0</td><td>+</td><td>gene_plus_promoter</td><td>   1</td></tr>\n",
       "\t<tr><th scope=row>79328</th><td>11</td><td>67351270</td><td>67351271</td><td>R</td><td>Ylitalo et al 2021    </td><td>GSTP1</td><td>EPIC_probe        </td><td>cg04920951</td><td> 1</td><td>11</td><td>67350213</td><td>67354127</td><td>GSTP1</td><td>0</td><td>+</td><td>gene_plus_promoter</td><td>   1</td></tr>\n",
       "\t<tr><th scope=row>79329</th><td>11</td><td>67351272</td><td>67351273</td><td>F</td><td>Ylitalo et al 2021    </td><td>GSTP1</td><td>EPIC_probe        </td><td>cg26250609</td><td> 1</td><td>11</td><td>67350213</td><td>67354127</td><td>GSTP1</td><td>0</td><td>+</td><td>gene_plus_promoter</td><td>   1</td></tr>\n",
       "</tbody>\n",
       "</table>\n"
      ],
      "text/latex": [
       "A data.frame: 6 × 17\n",
       "\\begin{tabular}{r|lllllllllllllllll}\n",
       "  & chr & start & end & strand & source & pub.gene.name & pub.reg.type & probe & no.pubs & chr.g & start.g & end.g & gencode.gene.name & zero & gencode.gene.strand & gencode.reg.type & bp.overlap\\\\\n",
       "  & <chr> & <int> & <int> & <chr> & <chr> & <chr> & <chr> & <chr> & <int> & <chr> & <int> & <int> & <chr> & <chr> & <chr> & <chr> & <int>\\\\\n",
       "\\hline\n",
       "\t79324 & 11 & 67350213 & 67351213 & + & Sugiura et al 2021     & GSTP1 & promoter           &            &  1 & 11 & 67350213 & 67354127 & GSTP1 & 0 & + & gene\\_plus\\_promoter & 1000\\\\\n",
       "\t79325 & 11 & 67350213 & 67354127 & + & Constancio et al. 2019 & GSTP1 & gene\\_plus\\_promoter &            &  1 & 11 & 67350213 & 67354127 & GSTP1 & 0 & + & gene\\_plus\\_promoter & 3914\\\\\n",
       "\t79326 & 11 & 67350213 & 67354127 & + & Massie et al. 2017     & GSTP1 & gene\\_plus\\_promoter &            & 12 & 11 & 67350213 & 67354127 & GSTP1 & 0 & + & gene\\_plus\\_promoter & 3914\\\\\n",
       "\t79327 & 11 & 67350975 & 67350976 & R & Ylitalo et al 2021     & GSTP1 & EPIC\\_probe         & cg02659086 &  1 & 11 & 67350213 & 67354127 & GSTP1 & 0 & + & gene\\_plus\\_promoter &    1\\\\\n",
       "\t79328 & 11 & 67351270 & 67351271 & R & Ylitalo et al 2021     & GSTP1 & EPIC\\_probe         & cg04920951 &  1 & 11 & 67350213 & 67354127 & GSTP1 & 0 & + & gene\\_plus\\_promoter &    1\\\\\n",
       "\t79329 & 11 & 67351272 & 67351273 & F & Ylitalo et al 2021     & GSTP1 & EPIC\\_probe         & cg26250609 &  1 & 11 & 67350213 & 67354127 & GSTP1 & 0 & + & gene\\_plus\\_promoter &    1\\\\\n",
       "\\end{tabular}\n"
      ],
      "text/markdown": [
       "\n",
       "A data.frame: 6 × 17\n",
       "\n",
       "| <!--/--> | chr &lt;chr&gt; | start &lt;int&gt; | end &lt;int&gt; | strand &lt;chr&gt; | source &lt;chr&gt; | pub.gene.name &lt;chr&gt; | pub.reg.type &lt;chr&gt; | probe &lt;chr&gt; | no.pubs &lt;int&gt; | chr.g &lt;chr&gt; | start.g &lt;int&gt; | end.g &lt;int&gt; | gencode.gene.name &lt;chr&gt; | zero &lt;chr&gt; | gencode.gene.strand &lt;chr&gt; | gencode.reg.type &lt;chr&gt; | bp.overlap &lt;int&gt; |\n",
       "|---|---|---|---|---|---|---|---|---|---|---|---|---|---|---|---|---|---|\n",
       "| 79324 | 11 | 67350213 | 67351213 | + | Sugiura et al 2021     | GSTP1 | promoter           | <!----> |  1 | 11 | 67350213 | 67354127 | GSTP1 | 0 | + | gene_plus_promoter | 1000 |\n",
       "| 79325 | 11 | 67350213 | 67354127 | + | Constancio et al. 2019 | GSTP1 | gene_plus_promoter | <!----> |  1 | 11 | 67350213 | 67354127 | GSTP1 | 0 | + | gene_plus_promoter | 3914 |\n",
       "| 79326 | 11 | 67350213 | 67354127 | + | Massie et al. 2017     | GSTP1 | gene_plus_promoter | <!----> | 12 | 11 | 67350213 | 67354127 | GSTP1 | 0 | + | gene_plus_promoter | 3914 |\n",
       "| 79327 | 11 | 67350975 | 67350976 | R | Ylitalo et al 2021     | GSTP1 | EPIC_probe         | cg02659086 |  1 | 11 | 67350213 | 67354127 | GSTP1 | 0 | + | gene_plus_promoter |    1 |\n",
       "| 79328 | 11 | 67351270 | 67351271 | R | Ylitalo et al 2021     | GSTP1 | EPIC_probe         | cg04920951 |  1 | 11 | 67350213 | 67354127 | GSTP1 | 0 | + | gene_plus_promoter |    1 |\n",
       "| 79329 | 11 | 67351272 | 67351273 | F | Ylitalo et al 2021     | GSTP1 | EPIC_probe         | cg26250609 |  1 | 11 | 67350213 | 67354127 | GSTP1 | 0 | + | gene_plus_promoter |    1 |\n",
       "\n"
      ],
      "text/plain": [
       "      chr start    end      strand source                 pub.gene.name\n",
       "79324 11  67350213 67351213 +      Sugiura et al 2021     GSTP1        \n",
       "79325 11  67350213 67354127 +      Constancio et al. 2019 GSTP1        \n",
       "79326 11  67350213 67354127 +      Massie et al. 2017     GSTP1        \n",
       "79327 11  67350975 67350976 R      Ylitalo et al 2021     GSTP1        \n",
       "79328 11  67351270 67351271 R      Ylitalo et al 2021     GSTP1        \n",
       "79329 11  67351272 67351273 F      Ylitalo et al 2021     GSTP1        \n",
       "      pub.reg.type       probe      no.pubs chr.g start.g  end.g   \n",
       "79324 promoter                       1      11    67350213 67354127\n",
       "79325 gene_plus_promoter             1      11    67350213 67354127\n",
       "79326 gene_plus_promoter            12      11    67350213 67354127\n",
       "79327 EPIC_probe         cg02659086  1      11    67350213 67354127\n",
       "79328 EPIC_probe         cg04920951  1      11    67350213 67354127\n",
       "79329 EPIC_probe         cg26250609  1      11    67350213 67354127\n",
       "      gencode.gene.name zero gencode.gene.strand gencode.reg.type   bp.overlap\n",
       "79324 GSTP1             0    +                   gene_plus_promoter 1000      \n",
       "79325 GSTP1             0    +                   gene_plus_promoter 3914      \n",
       "79326 GSTP1             0    +                   gene_plus_promoter 3914      \n",
       "79327 GSTP1             0    +                   gene_plus_promoter    1      \n",
       "79328 GSTP1             0    +                   gene_plus_promoter    1      \n",
       "79329 GSTP1             0    +                   gene_plus_promoter    1      "
      ]
     },
     "metadata": {},
     "output_type": "display_data"
    }
   ],
   "source": [
    "# pub regions could be duplicated if they overlap with more than one gencode gene\n",
    "#keep just the first gencode hit\n",
    "df_gene_annot = df_gene_annot %>% distinct(chr,start,end,source,pub.gene.name, .keep_all=TRUE)\n",
    "df_gene_annot[df_gene_annot$pub.gene.name==\"GSTP1\",]"
   ]
  },
  {
   "cell_type": "code",
   "execution_count": 400,
   "id": "648dba1f",
   "metadata": {},
   "outputs": [],
   "source": [
    "df_prom_annot = df_prom_annot %>% distinct(chr,start,end,source,pub.gene.name, .keep_all=TRUE)"
   ]
  },
  {
   "cell_type": "code",
   "execution_count": 401,
   "id": "14fd5705",
   "metadata": {},
   "outputs": [
    {
     "data": {
      "text/html": [
       "<style>\n",
       ".list-inline {list-style: none; margin:0; padding: 0}\n",
       ".list-inline>li {display: inline-block}\n",
       ".list-inline>li:not(:last-child)::after {content: \"\\00b7\"; padding: 0 .5ex}\n",
       "</style>\n",
       "<ol class=list-inline><li>'chr'</li><li>'start'</li><li>'end'</li><li>'strand'</li><li>'source'</li><li>'pub.gene.name'</li><li>'pub.reg.type'</li><li>'probe'</li><li>'no.pubs'</li></ol>\n"
      ],
      "text/latex": [
       "\\begin{enumerate*}\n",
       "\\item 'chr'\n",
       "\\item 'start'\n",
       "\\item 'end'\n",
       "\\item 'strand'\n",
       "\\item 'source'\n",
       "\\item 'pub.gene.name'\n",
       "\\item 'pub.reg.type'\n",
       "\\item 'probe'\n",
       "\\item 'no.pubs'\n",
       "\\end{enumerate*}\n"
      ],
      "text/markdown": [
       "1. 'chr'\n",
       "2. 'start'\n",
       "3. 'end'\n",
       "4. 'strand'\n",
       "5. 'source'\n",
       "6. 'pub.gene.name'\n",
       "7. 'pub.reg.type'\n",
       "8. 'probe'\n",
       "9. 'no.pubs'\n",
       "\n",
       "\n"
      ],
      "text/plain": [
       "[1] \"chr\"           \"start\"         \"end\"           \"strand\"       \n",
       "[5] \"source\"        \"pub.gene.name\" \"pub.reg.type\"  \"probe\"        \n",
       "[9] \"no.pubs\"      "
      ]
     },
     "metadata": {},
     "output_type": "display_data"
    }
   ],
   "source": [
    "names(df_all)"
   ]
  },
  {
   "cell_type": "code",
   "execution_count": 402,
   "id": "fe0c1466",
   "metadata": {},
   "outputs": [
    {
     "data": {
      "text/html": [
       "<table class=\"dataframe\">\n",
       "<caption>A data.frame: 111409 × 11</caption>\n",
       "<thead>\n",
       "\t<tr><th></th><th scope=col>chr</th><th scope=col>start</th><th scope=col>end</th><th scope=col>strand</th><th scope=col>source</th><th scope=col>pub.gene.name</th><th scope=col>pub.reg.type</th><th scope=col>probe</th><th scope=col>no.pubs</th><th scope=col>gencode.reg.type</th><th scope=col>gencode.gene.name</th></tr>\n",
       "\t<tr><th></th><th scope=col>&lt;chr&gt;</th><th scope=col>&lt;int&gt;</th><th scope=col>&lt;int&gt;</th><th scope=col>&lt;chr&gt;</th><th scope=col>&lt;chr&gt;</th><th scope=col>&lt;chr&gt;</th><th scope=col>&lt;chr&gt;</th><th scope=col>&lt;chr&gt;</th><th scope=col>&lt;int&gt;</th><th scope=col>&lt;chr&gt;</th><th scope=col>&lt;chr&gt;</th></tr>\n",
       "</thead>\n",
       "<tbody>\n",
       "\t<tr><th scope=row>8</th><td>11</td><td>67350213</td><td>67354127</td><td>+ </td><td>Constancio et al. 2019</td><td>GSTP1</td><td>gene_plus_promoter</td><td>          </td><td> 1</td><td>gene_plus_promoter</td><td>GSTP1</td></tr>\n",
       "\t<tr><th scope=row>15</th><td>11</td><td>67350213</td><td>67354127</td><td>+ </td><td>Massie et al. 2017    </td><td>GSTP1</td><td>gene_plus_promoter</td><td>          </td><td>12</td><td>gene_plus_promoter</td><td>GSTP1</td></tr>\n",
       "\t<tr><th scope=row>4834</th><td>11</td><td>67350975</td><td>67350976</td><td>R </td><td>Ylitalo et al 2021    </td><td>GSTP1</td><td>EPIC_probe        </td><td>cg02659086</td><td> 1</td><td>gene_plus_promoter</td><td>GSTP1</td></tr>\n",
       "\t<tr><th scope=row>6180</th><td>11</td><td>67351270</td><td>67351271</td><td>R </td><td>Ylitalo et al 2021    </td><td>GSTP1</td><td>EPIC_probe        </td><td>cg04920951</td><td> 1</td><td>gene_plus_promoter</td><td>GSTP1</td></tr>\n",
       "\t<tr><th scope=row>6619</th><td>11</td><td>67351272</td><td>67351273</td><td>F </td><td>Ylitalo et al 2021    </td><td>GSTP1</td><td>EPIC_probe        </td><td>cg26250609</td><td> 1</td><td>gene_plus_promoter</td><td>GSTP1</td></tr>\n",
       "\t<tr><th scope=row>9051</th><td>11</td><td>67350213</td><td>67351213</td><td>+ </td><td>Sugiura et al 2021    </td><td>GSTP1</td><td>promoter          </td><td>          </td><td> 1</td><td>gene_plus_promoter</td><td>GSTP1</td></tr>\n",
       "\t<tr><th scope=row>NA</th><td>NA</td><td>      NA</td><td>      NA</td><td>NA</td><td>NA                    </td><td>NA   </td><td>NA                </td><td>NA        </td><td>NA</td><td>NA                </td><td>NA   </td></tr>\n",
       "\t<tr><th scope=row>NA.1</th><td>NA</td><td>      NA</td><td>      NA</td><td>NA</td><td>NA                    </td><td>NA   </td><td>NA                </td><td>NA        </td><td>NA</td><td>NA                </td><td>NA   </td></tr>\n",
       "\t<tr><th scope=row>NA.2</th><td>NA</td><td>      NA</td><td>      NA</td><td>NA</td><td>NA                    </td><td>NA   </td><td>NA                </td><td>NA        </td><td>NA</td><td>NA                </td><td>NA   </td></tr>\n",
       "\t<tr><th scope=row>NA.3</th><td>NA</td><td>      NA</td><td>      NA</td><td>NA</td><td>NA                    </td><td>NA   </td><td>NA                </td><td>NA        </td><td>NA</td><td>NA                </td><td>NA   </td></tr>\n",
       "\t<tr><th scope=row>NA.4</th><td>NA</td><td>      NA</td><td>      NA</td><td>NA</td><td>NA                    </td><td>NA   </td><td>NA                </td><td>NA        </td><td>NA</td><td>NA                </td><td>NA   </td></tr>\n",
       "\t<tr><th scope=row>NA.5</th><td>NA</td><td>      NA</td><td>      NA</td><td>NA</td><td>NA                    </td><td>NA   </td><td>NA                </td><td>NA        </td><td>NA</td><td>NA                </td><td>NA   </td></tr>\n",
       "\t<tr><th scope=row>NA.6</th><td>NA</td><td>      NA</td><td>      NA</td><td>NA</td><td>NA                    </td><td>NA   </td><td>NA                </td><td>NA        </td><td>NA</td><td>NA                </td><td>NA   </td></tr>\n",
       "\t<tr><th scope=row>NA.7</th><td>NA</td><td>      NA</td><td>      NA</td><td>NA</td><td>NA                    </td><td>NA   </td><td>NA                </td><td>NA        </td><td>NA</td><td>NA                </td><td>NA   </td></tr>\n",
       "\t<tr><th scope=row>NA.8</th><td>NA</td><td>      NA</td><td>      NA</td><td>NA</td><td>NA                    </td><td>NA   </td><td>NA                </td><td>NA        </td><td>NA</td><td>NA                </td><td>NA   </td></tr>\n",
       "\t<tr><th scope=row>NA.9</th><td>NA</td><td>      NA</td><td>      NA</td><td>NA</td><td>NA                    </td><td>NA   </td><td>NA                </td><td>NA        </td><td>NA</td><td>NA                </td><td>NA   </td></tr>\n",
       "\t<tr><th scope=row>NA.10</th><td>NA</td><td>      NA</td><td>      NA</td><td>NA</td><td>NA                    </td><td>NA   </td><td>NA                </td><td>NA        </td><td>NA</td><td>NA                </td><td>NA   </td></tr>\n",
       "\t<tr><th scope=row>NA.11</th><td>NA</td><td>      NA</td><td>      NA</td><td>NA</td><td>NA                    </td><td>NA   </td><td>NA                </td><td>NA        </td><td>NA</td><td>NA                </td><td>NA   </td></tr>\n",
       "\t<tr><th scope=row>NA.12</th><td>NA</td><td>      NA</td><td>      NA</td><td>NA</td><td>NA                    </td><td>NA   </td><td>NA                </td><td>NA        </td><td>NA</td><td>NA                </td><td>NA   </td></tr>\n",
       "\t<tr><th scope=row>NA.13</th><td>NA</td><td>      NA</td><td>      NA</td><td>NA</td><td>NA                    </td><td>NA   </td><td>NA                </td><td>NA        </td><td>NA</td><td>NA                </td><td>NA   </td></tr>\n",
       "\t<tr><th scope=row>NA.14</th><td>NA</td><td>      NA</td><td>      NA</td><td>NA</td><td>NA                    </td><td>NA   </td><td>NA                </td><td>NA        </td><td>NA</td><td>NA                </td><td>NA   </td></tr>\n",
       "\t<tr><th scope=row>NA.15</th><td>NA</td><td>      NA</td><td>      NA</td><td>NA</td><td>NA                    </td><td>NA   </td><td>NA                </td><td>NA        </td><td>NA</td><td>NA                </td><td>NA   </td></tr>\n",
       "\t<tr><th scope=row>NA.16</th><td>NA</td><td>      NA</td><td>      NA</td><td>NA</td><td>NA                    </td><td>NA   </td><td>NA                </td><td>NA        </td><td>NA</td><td>NA                </td><td>NA   </td></tr>\n",
       "\t<tr><th scope=row>NA.17</th><td>NA</td><td>      NA</td><td>      NA</td><td>NA</td><td>NA                    </td><td>NA   </td><td>NA                </td><td>NA        </td><td>NA</td><td>NA                </td><td>NA   </td></tr>\n",
       "\t<tr><th scope=row>NA.18</th><td>NA</td><td>      NA</td><td>      NA</td><td>NA</td><td>NA                    </td><td>NA   </td><td>NA                </td><td>NA        </td><td>NA</td><td>NA                </td><td>NA   </td></tr>\n",
       "\t<tr><th scope=row>NA.19</th><td>NA</td><td>      NA</td><td>      NA</td><td>NA</td><td>NA                    </td><td>NA   </td><td>NA                </td><td>NA        </td><td>NA</td><td>NA                </td><td>NA   </td></tr>\n",
       "\t<tr><th scope=row>NA.20</th><td>NA</td><td>      NA</td><td>      NA</td><td>NA</td><td>NA                    </td><td>NA   </td><td>NA                </td><td>NA        </td><td>NA</td><td>NA                </td><td>NA   </td></tr>\n",
       "\t<tr><th scope=row>NA.21</th><td>NA</td><td>      NA</td><td>      NA</td><td>NA</td><td>NA                    </td><td>NA   </td><td>NA                </td><td>NA        </td><td>NA</td><td>NA                </td><td>NA   </td></tr>\n",
       "\t<tr><th scope=row>NA.22</th><td>NA</td><td>      NA</td><td>      NA</td><td>NA</td><td>NA                    </td><td>NA   </td><td>NA                </td><td>NA        </td><td>NA</td><td>NA                </td><td>NA   </td></tr>\n",
       "\t<tr><th scope=row>NA.23</th><td>NA</td><td>      NA</td><td>      NA</td><td>NA</td><td>NA                    </td><td>NA   </td><td>NA                </td><td>NA        </td><td>NA</td><td>NA                </td><td>NA   </td></tr>\n",
       "\t<tr><th scope=row>⋮</th><td>⋮</td><td>⋮</td><td>⋮</td><td>⋮</td><td>⋮</td><td>⋮</td><td>⋮</td><td>⋮</td><td>⋮</td><td>⋮</td><td>⋮</td></tr>\n",
       "\t<tr><th scope=row>NA.111373</th><td>NA</td><td>NA</td><td>NA</td><td>NA</td><td>NA</td><td>NA</td><td>NA</td><td>NA</td><td>NA</td><td>NA</td><td>NA</td></tr>\n",
       "\t<tr><th scope=row>NA.111374</th><td>NA</td><td>NA</td><td>NA</td><td>NA</td><td>NA</td><td>NA</td><td>NA</td><td>NA</td><td>NA</td><td>NA</td><td>NA</td></tr>\n",
       "\t<tr><th scope=row>NA.111375</th><td>NA</td><td>NA</td><td>NA</td><td>NA</td><td>NA</td><td>NA</td><td>NA</td><td>NA</td><td>NA</td><td>NA</td><td>NA</td></tr>\n",
       "\t<tr><th scope=row>NA.111376</th><td>NA</td><td>NA</td><td>NA</td><td>NA</td><td>NA</td><td>NA</td><td>NA</td><td>NA</td><td>NA</td><td>NA</td><td>NA</td></tr>\n",
       "\t<tr><th scope=row>NA.111377</th><td>NA</td><td>NA</td><td>NA</td><td>NA</td><td>NA</td><td>NA</td><td>NA</td><td>NA</td><td>NA</td><td>NA</td><td>NA</td></tr>\n",
       "\t<tr><th scope=row>NA.111378</th><td>NA</td><td>NA</td><td>NA</td><td>NA</td><td>NA</td><td>NA</td><td>NA</td><td>NA</td><td>NA</td><td>NA</td><td>NA</td></tr>\n",
       "\t<tr><th scope=row>NA.111379</th><td>NA</td><td>NA</td><td>NA</td><td>NA</td><td>NA</td><td>NA</td><td>NA</td><td>NA</td><td>NA</td><td>NA</td><td>NA</td></tr>\n",
       "\t<tr><th scope=row>NA.111380</th><td>NA</td><td>NA</td><td>NA</td><td>NA</td><td>NA</td><td>NA</td><td>NA</td><td>NA</td><td>NA</td><td>NA</td><td>NA</td></tr>\n",
       "\t<tr><th scope=row>NA.111381</th><td>NA</td><td>NA</td><td>NA</td><td>NA</td><td>NA</td><td>NA</td><td>NA</td><td>NA</td><td>NA</td><td>NA</td><td>NA</td></tr>\n",
       "\t<tr><th scope=row>NA.111382</th><td>NA</td><td>NA</td><td>NA</td><td>NA</td><td>NA</td><td>NA</td><td>NA</td><td>NA</td><td>NA</td><td>NA</td><td>NA</td></tr>\n",
       "\t<tr><th scope=row>NA.111383</th><td>NA</td><td>NA</td><td>NA</td><td>NA</td><td>NA</td><td>NA</td><td>NA</td><td>NA</td><td>NA</td><td>NA</td><td>NA</td></tr>\n",
       "\t<tr><th scope=row>NA.111384</th><td>NA</td><td>NA</td><td>NA</td><td>NA</td><td>NA</td><td>NA</td><td>NA</td><td>NA</td><td>NA</td><td>NA</td><td>NA</td></tr>\n",
       "\t<tr><th scope=row>NA.111385</th><td>NA</td><td>NA</td><td>NA</td><td>NA</td><td>NA</td><td>NA</td><td>NA</td><td>NA</td><td>NA</td><td>NA</td><td>NA</td></tr>\n",
       "\t<tr><th scope=row>NA.111386</th><td>NA</td><td>NA</td><td>NA</td><td>NA</td><td>NA</td><td>NA</td><td>NA</td><td>NA</td><td>NA</td><td>NA</td><td>NA</td></tr>\n",
       "\t<tr><th scope=row>NA.111387</th><td>NA</td><td>NA</td><td>NA</td><td>NA</td><td>NA</td><td>NA</td><td>NA</td><td>NA</td><td>NA</td><td>NA</td><td>NA</td></tr>\n",
       "\t<tr><th scope=row>NA.111388</th><td>NA</td><td>NA</td><td>NA</td><td>NA</td><td>NA</td><td>NA</td><td>NA</td><td>NA</td><td>NA</td><td>NA</td><td>NA</td></tr>\n",
       "\t<tr><th scope=row>NA.111389</th><td>NA</td><td>NA</td><td>NA</td><td>NA</td><td>NA</td><td>NA</td><td>NA</td><td>NA</td><td>NA</td><td>NA</td><td>NA</td></tr>\n",
       "\t<tr><th scope=row>NA.111390</th><td>NA</td><td>NA</td><td>NA</td><td>NA</td><td>NA</td><td>NA</td><td>NA</td><td>NA</td><td>NA</td><td>NA</td><td>NA</td></tr>\n",
       "\t<tr><th scope=row>NA.111391</th><td>NA</td><td>NA</td><td>NA</td><td>NA</td><td>NA</td><td>NA</td><td>NA</td><td>NA</td><td>NA</td><td>NA</td><td>NA</td></tr>\n",
       "\t<tr><th scope=row>NA.111392</th><td>NA</td><td>NA</td><td>NA</td><td>NA</td><td>NA</td><td>NA</td><td>NA</td><td>NA</td><td>NA</td><td>NA</td><td>NA</td></tr>\n",
       "\t<tr><th scope=row>NA.111393</th><td>NA</td><td>NA</td><td>NA</td><td>NA</td><td>NA</td><td>NA</td><td>NA</td><td>NA</td><td>NA</td><td>NA</td><td>NA</td></tr>\n",
       "\t<tr><th scope=row>NA.111394</th><td>NA</td><td>NA</td><td>NA</td><td>NA</td><td>NA</td><td>NA</td><td>NA</td><td>NA</td><td>NA</td><td>NA</td><td>NA</td></tr>\n",
       "\t<tr><th scope=row>NA.111395</th><td>NA</td><td>NA</td><td>NA</td><td>NA</td><td>NA</td><td>NA</td><td>NA</td><td>NA</td><td>NA</td><td>NA</td><td>NA</td></tr>\n",
       "\t<tr><th scope=row>NA.111396</th><td>NA</td><td>NA</td><td>NA</td><td>NA</td><td>NA</td><td>NA</td><td>NA</td><td>NA</td><td>NA</td><td>NA</td><td>NA</td></tr>\n",
       "\t<tr><th scope=row>NA.111397</th><td>NA</td><td>NA</td><td>NA</td><td>NA</td><td>NA</td><td>NA</td><td>NA</td><td>NA</td><td>NA</td><td>NA</td><td>NA</td></tr>\n",
       "\t<tr><th scope=row>NA.111398</th><td>NA</td><td>NA</td><td>NA</td><td>NA</td><td>NA</td><td>NA</td><td>NA</td><td>NA</td><td>NA</td><td>NA</td><td>NA</td></tr>\n",
       "\t<tr><th scope=row>NA.111399</th><td>NA</td><td>NA</td><td>NA</td><td>NA</td><td>NA</td><td>NA</td><td>NA</td><td>NA</td><td>NA</td><td>NA</td><td>NA</td></tr>\n",
       "\t<tr><th scope=row>NA.111400</th><td>NA</td><td>NA</td><td>NA</td><td>NA</td><td>NA</td><td>NA</td><td>NA</td><td>NA</td><td>NA</td><td>NA</td><td>NA</td></tr>\n",
       "\t<tr><th scope=row>NA.111401</th><td>NA</td><td>NA</td><td>NA</td><td>NA</td><td>NA</td><td>NA</td><td>NA</td><td>NA</td><td>NA</td><td>NA</td><td>NA</td></tr>\n",
       "\t<tr><th scope=row>NA.111402</th><td>NA</td><td>NA</td><td>NA</td><td>NA</td><td>NA</td><td>NA</td><td>NA</td><td>NA</td><td>NA</td><td>NA</td><td>NA</td></tr>\n",
       "</tbody>\n",
       "</table>\n"
      ],
      "text/latex": [
       "A data.frame: 111409 × 11\n",
       "\\begin{tabular}{r|lllllllllll}\n",
       "  & chr & start & end & strand & source & pub.gene.name & pub.reg.type & probe & no.pubs & gencode.reg.type & gencode.gene.name\\\\\n",
       "  & <chr> & <int> & <int> & <chr> & <chr> & <chr> & <chr> & <chr> & <int> & <chr> & <chr>\\\\\n",
       "\\hline\n",
       "\t8 & 11 & 67350213 & 67354127 & +  & Constancio et al. 2019 & GSTP1 & gene\\_plus\\_promoter &            &  1 & gene\\_plus\\_promoter & GSTP1\\\\\n",
       "\t15 & 11 & 67350213 & 67354127 & +  & Massie et al. 2017     & GSTP1 & gene\\_plus\\_promoter &            & 12 & gene\\_plus\\_promoter & GSTP1\\\\\n",
       "\t4834 & 11 & 67350975 & 67350976 & R  & Ylitalo et al 2021     & GSTP1 & EPIC\\_probe         & cg02659086 &  1 & gene\\_plus\\_promoter & GSTP1\\\\\n",
       "\t6180 & 11 & 67351270 & 67351271 & R  & Ylitalo et al 2021     & GSTP1 & EPIC\\_probe         & cg04920951 &  1 & gene\\_plus\\_promoter & GSTP1\\\\\n",
       "\t6619 & 11 & 67351272 & 67351273 & F  & Ylitalo et al 2021     & GSTP1 & EPIC\\_probe         & cg26250609 &  1 & gene\\_plus\\_promoter & GSTP1\\\\\n",
       "\t9051 & 11 & 67350213 & 67351213 & +  & Sugiura et al 2021     & GSTP1 & promoter           &            &  1 & gene\\_plus\\_promoter & GSTP1\\\\\n",
       "\tNA & NA &       NA &       NA & NA & NA                     & NA    & NA                 & NA         & NA & NA                 & NA   \\\\\n",
       "\tNA.1 & NA &       NA &       NA & NA & NA                     & NA    & NA                 & NA         & NA & NA                 & NA   \\\\\n",
       "\tNA.2 & NA &       NA &       NA & NA & NA                     & NA    & NA                 & NA         & NA & NA                 & NA   \\\\\n",
       "\tNA.3 & NA &       NA &       NA & NA & NA                     & NA    & NA                 & NA         & NA & NA                 & NA   \\\\\n",
       "\tNA.4 & NA &       NA &       NA & NA & NA                     & NA    & NA                 & NA         & NA & NA                 & NA   \\\\\n",
       "\tNA.5 & NA &       NA &       NA & NA & NA                     & NA    & NA                 & NA         & NA & NA                 & NA   \\\\\n",
       "\tNA.6 & NA &       NA &       NA & NA & NA                     & NA    & NA                 & NA         & NA & NA                 & NA   \\\\\n",
       "\tNA.7 & NA &       NA &       NA & NA & NA                     & NA    & NA                 & NA         & NA & NA                 & NA   \\\\\n",
       "\tNA.8 & NA &       NA &       NA & NA & NA                     & NA    & NA                 & NA         & NA & NA                 & NA   \\\\\n",
       "\tNA.9 & NA &       NA &       NA & NA & NA                     & NA    & NA                 & NA         & NA & NA                 & NA   \\\\\n",
       "\tNA.10 & NA &       NA &       NA & NA & NA                     & NA    & NA                 & NA         & NA & NA                 & NA   \\\\\n",
       "\tNA.11 & NA &       NA &       NA & NA & NA                     & NA    & NA                 & NA         & NA & NA                 & NA   \\\\\n",
       "\tNA.12 & NA &       NA &       NA & NA & NA                     & NA    & NA                 & NA         & NA & NA                 & NA   \\\\\n",
       "\tNA.13 & NA &       NA &       NA & NA & NA                     & NA    & NA                 & NA         & NA & NA                 & NA   \\\\\n",
       "\tNA.14 & NA &       NA &       NA & NA & NA                     & NA    & NA                 & NA         & NA & NA                 & NA   \\\\\n",
       "\tNA.15 & NA &       NA &       NA & NA & NA                     & NA    & NA                 & NA         & NA & NA                 & NA   \\\\\n",
       "\tNA.16 & NA &       NA &       NA & NA & NA                     & NA    & NA                 & NA         & NA & NA                 & NA   \\\\\n",
       "\tNA.17 & NA &       NA &       NA & NA & NA                     & NA    & NA                 & NA         & NA & NA                 & NA   \\\\\n",
       "\tNA.18 & NA &       NA &       NA & NA & NA                     & NA    & NA                 & NA         & NA & NA                 & NA   \\\\\n",
       "\tNA.19 & NA &       NA &       NA & NA & NA                     & NA    & NA                 & NA         & NA & NA                 & NA   \\\\\n",
       "\tNA.20 & NA &       NA &       NA & NA & NA                     & NA    & NA                 & NA         & NA & NA                 & NA   \\\\\n",
       "\tNA.21 & NA &       NA &       NA & NA & NA                     & NA    & NA                 & NA         & NA & NA                 & NA   \\\\\n",
       "\tNA.22 & NA &       NA &       NA & NA & NA                     & NA    & NA                 & NA         & NA & NA                 & NA   \\\\\n",
       "\tNA.23 & NA &       NA &       NA & NA & NA                     & NA    & NA                 & NA         & NA & NA                 & NA   \\\\\n",
       "\t⋮ & ⋮ & ⋮ & ⋮ & ⋮ & ⋮ & ⋮ & ⋮ & ⋮ & ⋮ & ⋮ & ⋮\\\\\n",
       "\tNA.111373 & NA & NA & NA & NA & NA & NA & NA & NA & NA & NA & NA\\\\\n",
       "\tNA.111374 & NA & NA & NA & NA & NA & NA & NA & NA & NA & NA & NA\\\\\n",
       "\tNA.111375 & NA & NA & NA & NA & NA & NA & NA & NA & NA & NA & NA\\\\\n",
       "\tNA.111376 & NA & NA & NA & NA & NA & NA & NA & NA & NA & NA & NA\\\\\n",
       "\tNA.111377 & NA & NA & NA & NA & NA & NA & NA & NA & NA & NA & NA\\\\\n",
       "\tNA.111378 & NA & NA & NA & NA & NA & NA & NA & NA & NA & NA & NA\\\\\n",
       "\tNA.111379 & NA & NA & NA & NA & NA & NA & NA & NA & NA & NA & NA\\\\\n",
       "\tNA.111380 & NA & NA & NA & NA & NA & NA & NA & NA & NA & NA & NA\\\\\n",
       "\tNA.111381 & NA & NA & NA & NA & NA & NA & NA & NA & NA & NA & NA\\\\\n",
       "\tNA.111382 & NA & NA & NA & NA & NA & NA & NA & NA & NA & NA & NA\\\\\n",
       "\tNA.111383 & NA & NA & NA & NA & NA & NA & NA & NA & NA & NA & NA\\\\\n",
       "\tNA.111384 & NA & NA & NA & NA & NA & NA & NA & NA & NA & NA & NA\\\\\n",
       "\tNA.111385 & NA & NA & NA & NA & NA & NA & NA & NA & NA & NA & NA\\\\\n",
       "\tNA.111386 & NA & NA & NA & NA & NA & NA & NA & NA & NA & NA & NA\\\\\n",
       "\tNA.111387 & NA & NA & NA & NA & NA & NA & NA & NA & NA & NA & NA\\\\\n",
       "\tNA.111388 & NA & NA & NA & NA & NA & NA & NA & NA & NA & NA & NA\\\\\n",
       "\tNA.111389 & NA & NA & NA & NA & NA & NA & NA & NA & NA & NA & NA\\\\\n",
       "\tNA.111390 & NA & NA & NA & NA & NA & NA & NA & NA & NA & NA & NA\\\\\n",
       "\tNA.111391 & NA & NA & NA & NA & NA & NA & NA & NA & NA & NA & NA\\\\\n",
       "\tNA.111392 & NA & NA & NA & NA & NA & NA & NA & NA & NA & NA & NA\\\\\n",
       "\tNA.111393 & NA & NA & NA & NA & NA & NA & NA & NA & NA & NA & NA\\\\\n",
       "\tNA.111394 & NA & NA & NA & NA & NA & NA & NA & NA & NA & NA & NA\\\\\n",
       "\tNA.111395 & NA & NA & NA & NA & NA & NA & NA & NA & NA & NA & NA\\\\\n",
       "\tNA.111396 & NA & NA & NA & NA & NA & NA & NA & NA & NA & NA & NA\\\\\n",
       "\tNA.111397 & NA & NA & NA & NA & NA & NA & NA & NA & NA & NA & NA\\\\\n",
       "\tNA.111398 & NA & NA & NA & NA & NA & NA & NA & NA & NA & NA & NA\\\\\n",
       "\tNA.111399 & NA & NA & NA & NA & NA & NA & NA & NA & NA & NA & NA\\\\\n",
       "\tNA.111400 & NA & NA & NA & NA & NA & NA & NA & NA & NA & NA & NA\\\\\n",
       "\tNA.111401 & NA & NA & NA & NA & NA & NA & NA & NA & NA & NA & NA\\\\\n",
       "\tNA.111402 & NA & NA & NA & NA & NA & NA & NA & NA & NA & NA & NA\\\\\n",
       "\\end{tabular}\n"
      ],
      "text/markdown": [
       "\n",
       "A data.frame: 111409 × 11\n",
       "\n",
       "| <!--/--> | chr &lt;chr&gt; | start &lt;int&gt; | end &lt;int&gt; | strand &lt;chr&gt; | source &lt;chr&gt; | pub.gene.name &lt;chr&gt; | pub.reg.type &lt;chr&gt; | probe &lt;chr&gt; | no.pubs &lt;int&gt; | gencode.reg.type &lt;chr&gt; | gencode.gene.name &lt;chr&gt; |\n",
       "|---|---|---|---|---|---|---|---|---|---|---|---|\n",
       "| 8 | 11 | 67350213 | 67354127 | +  | Constancio et al. 2019 | GSTP1 | gene_plus_promoter | <!----> |  1 | gene_plus_promoter | GSTP1 |\n",
       "| 15 | 11 | 67350213 | 67354127 | +  | Massie et al. 2017     | GSTP1 | gene_plus_promoter | <!----> | 12 | gene_plus_promoter | GSTP1 |\n",
       "| 4834 | 11 | 67350975 | 67350976 | R  | Ylitalo et al 2021     | GSTP1 | EPIC_probe         | cg02659086 |  1 | gene_plus_promoter | GSTP1 |\n",
       "| 6180 | 11 | 67351270 | 67351271 | R  | Ylitalo et al 2021     | GSTP1 | EPIC_probe         | cg04920951 |  1 | gene_plus_promoter | GSTP1 |\n",
       "| 6619 | 11 | 67351272 | 67351273 | F  | Ylitalo et al 2021     | GSTP1 | EPIC_probe         | cg26250609 |  1 | gene_plus_promoter | GSTP1 |\n",
       "| 9051 | 11 | 67350213 | 67351213 | +  | Sugiura et al 2021     | GSTP1 | promoter           | <!----> |  1 | gene_plus_promoter | GSTP1 |\n",
       "| NA | NA |       NA |       NA | NA | NA                     | NA    | NA                 | NA         | NA | NA                 | NA    |\n",
       "| NA.1 | NA |       NA |       NA | NA | NA                     | NA    | NA                 | NA         | NA | NA                 | NA    |\n",
       "| NA.2 | NA |       NA |       NA | NA | NA                     | NA    | NA                 | NA         | NA | NA                 | NA    |\n",
       "| NA.3 | NA |       NA |       NA | NA | NA                     | NA    | NA                 | NA         | NA | NA                 | NA    |\n",
       "| NA.4 | NA |       NA |       NA | NA | NA                     | NA    | NA                 | NA         | NA | NA                 | NA    |\n",
       "| NA.5 | NA |       NA |       NA | NA | NA                     | NA    | NA                 | NA         | NA | NA                 | NA    |\n",
       "| NA.6 | NA |       NA |       NA | NA | NA                     | NA    | NA                 | NA         | NA | NA                 | NA    |\n",
       "| NA.7 | NA |       NA |       NA | NA | NA                     | NA    | NA                 | NA         | NA | NA                 | NA    |\n",
       "| NA.8 | NA |       NA |       NA | NA | NA                     | NA    | NA                 | NA         | NA | NA                 | NA    |\n",
       "| NA.9 | NA |       NA |       NA | NA | NA                     | NA    | NA                 | NA         | NA | NA                 | NA    |\n",
       "| NA.10 | NA |       NA |       NA | NA | NA                     | NA    | NA                 | NA         | NA | NA                 | NA    |\n",
       "| NA.11 | NA |       NA |       NA | NA | NA                     | NA    | NA                 | NA         | NA | NA                 | NA    |\n",
       "| NA.12 | NA |       NA |       NA | NA | NA                     | NA    | NA                 | NA         | NA | NA                 | NA    |\n",
       "| NA.13 | NA |       NA |       NA | NA | NA                     | NA    | NA                 | NA         | NA | NA                 | NA    |\n",
       "| NA.14 | NA |       NA |       NA | NA | NA                     | NA    | NA                 | NA         | NA | NA                 | NA    |\n",
       "| NA.15 | NA |       NA |       NA | NA | NA                     | NA    | NA                 | NA         | NA | NA                 | NA    |\n",
       "| NA.16 | NA |       NA |       NA | NA | NA                     | NA    | NA                 | NA         | NA | NA                 | NA    |\n",
       "| NA.17 | NA |       NA |       NA | NA | NA                     | NA    | NA                 | NA         | NA | NA                 | NA    |\n",
       "| NA.18 | NA |       NA |       NA | NA | NA                     | NA    | NA                 | NA         | NA | NA                 | NA    |\n",
       "| NA.19 | NA |       NA |       NA | NA | NA                     | NA    | NA                 | NA         | NA | NA                 | NA    |\n",
       "| NA.20 | NA |       NA |       NA | NA | NA                     | NA    | NA                 | NA         | NA | NA                 | NA    |\n",
       "| NA.21 | NA |       NA |       NA | NA | NA                     | NA    | NA                 | NA         | NA | NA                 | NA    |\n",
       "| NA.22 | NA |       NA |       NA | NA | NA                     | NA    | NA                 | NA         | NA | NA                 | NA    |\n",
       "| NA.23 | NA |       NA |       NA | NA | NA                     | NA    | NA                 | NA         | NA | NA                 | NA    |\n",
       "| ⋮ | ⋮ | ⋮ | ⋮ | ⋮ | ⋮ | ⋮ | ⋮ | ⋮ | ⋮ | ⋮ | ⋮ |\n",
       "| NA.111373 | NA | NA | NA | NA | NA | NA | NA | NA | NA | NA | NA |\n",
       "| NA.111374 | NA | NA | NA | NA | NA | NA | NA | NA | NA | NA | NA |\n",
       "| NA.111375 | NA | NA | NA | NA | NA | NA | NA | NA | NA | NA | NA |\n",
       "| NA.111376 | NA | NA | NA | NA | NA | NA | NA | NA | NA | NA | NA |\n",
       "| NA.111377 | NA | NA | NA | NA | NA | NA | NA | NA | NA | NA | NA |\n",
       "| NA.111378 | NA | NA | NA | NA | NA | NA | NA | NA | NA | NA | NA |\n",
       "| NA.111379 | NA | NA | NA | NA | NA | NA | NA | NA | NA | NA | NA |\n",
       "| NA.111380 | NA | NA | NA | NA | NA | NA | NA | NA | NA | NA | NA |\n",
       "| NA.111381 | NA | NA | NA | NA | NA | NA | NA | NA | NA | NA | NA |\n",
       "| NA.111382 | NA | NA | NA | NA | NA | NA | NA | NA | NA | NA | NA |\n",
       "| NA.111383 | NA | NA | NA | NA | NA | NA | NA | NA | NA | NA | NA |\n",
       "| NA.111384 | NA | NA | NA | NA | NA | NA | NA | NA | NA | NA | NA |\n",
       "| NA.111385 | NA | NA | NA | NA | NA | NA | NA | NA | NA | NA | NA |\n",
       "| NA.111386 | NA | NA | NA | NA | NA | NA | NA | NA | NA | NA | NA |\n",
       "| NA.111387 | NA | NA | NA | NA | NA | NA | NA | NA | NA | NA | NA |\n",
       "| NA.111388 | NA | NA | NA | NA | NA | NA | NA | NA | NA | NA | NA |\n",
       "| NA.111389 | NA | NA | NA | NA | NA | NA | NA | NA | NA | NA | NA |\n",
       "| NA.111390 | NA | NA | NA | NA | NA | NA | NA | NA | NA | NA | NA |\n",
       "| NA.111391 | NA | NA | NA | NA | NA | NA | NA | NA | NA | NA | NA |\n",
       "| NA.111392 | NA | NA | NA | NA | NA | NA | NA | NA | NA | NA | NA |\n",
       "| NA.111393 | NA | NA | NA | NA | NA | NA | NA | NA | NA | NA | NA |\n",
       "| NA.111394 | NA | NA | NA | NA | NA | NA | NA | NA | NA | NA | NA |\n",
       "| NA.111395 | NA | NA | NA | NA | NA | NA | NA | NA | NA | NA | NA |\n",
       "| NA.111396 | NA | NA | NA | NA | NA | NA | NA | NA | NA | NA | NA |\n",
       "| NA.111397 | NA | NA | NA | NA | NA | NA | NA | NA | NA | NA | NA |\n",
       "| NA.111398 | NA | NA | NA | NA | NA | NA | NA | NA | NA | NA | NA |\n",
       "| NA.111399 | NA | NA | NA | NA | NA | NA | NA | NA | NA | NA | NA |\n",
       "| NA.111400 | NA | NA | NA | NA | NA | NA | NA | NA | NA | NA | NA |\n",
       "| NA.111401 | NA | NA | NA | NA | NA | NA | NA | NA | NA | NA | NA |\n",
       "| NA.111402 | NA | NA | NA | NA | NA | NA | NA | NA | NA | NA | NA |\n",
       "\n"
      ],
      "text/plain": [
       "          chr start    end      strand source                 pub.gene.name\n",
       "8         11  67350213 67354127 +      Constancio et al. 2019 GSTP1        \n",
       "15        11  67350213 67354127 +      Massie et al. 2017     GSTP1        \n",
       "4834      11  67350975 67350976 R      Ylitalo et al 2021     GSTP1        \n",
       "6180      11  67351270 67351271 R      Ylitalo et al 2021     GSTP1        \n",
       "6619      11  67351272 67351273 F      Ylitalo et al 2021     GSTP1        \n",
       "9051      11  67350213 67351213 +      Sugiura et al 2021     GSTP1        \n",
       "NA        NA        NA       NA NA     NA                     NA           \n",
       "NA.1      NA        NA       NA NA     NA                     NA           \n",
       "NA.2      NA        NA       NA NA     NA                     NA           \n",
       "NA.3      NA        NA       NA NA     NA                     NA           \n",
       "NA.4      NA        NA       NA NA     NA                     NA           \n",
       "NA.5      NA        NA       NA NA     NA                     NA           \n",
       "NA.6      NA        NA       NA NA     NA                     NA           \n",
       "NA.7      NA        NA       NA NA     NA                     NA           \n",
       "NA.8      NA        NA       NA NA     NA                     NA           \n",
       "NA.9      NA        NA       NA NA     NA                     NA           \n",
       "NA.10     NA        NA       NA NA     NA                     NA           \n",
       "NA.11     NA        NA       NA NA     NA                     NA           \n",
       "NA.12     NA        NA       NA NA     NA                     NA           \n",
       "NA.13     NA        NA       NA NA     NA                     NA           \n",
       "NA.14     NA        NA       NA NA     NA                     NA           \n",
       "NA.15     NA        NA       NA NA     NA                     NA           \n",
       "NA.16     NA        NA       NA NA     NA                     NA           \n",
       "NA.17     NA        NA       NA NA     NA                     NA           \n",
       "NA.18     NA        NA       NA NA     NA                     NA           \n",
       "NA.19     NA        NA       NA NA     NA                     NA           \n",
       "NA.20     NA        NA       NA NA     NA                     NA           \n",
       "NA.21     NA        NA       NA NA     NA                     NA           \n",
       "NA.22     NA        NA       NA NA     NA                     NA           \n",
       "NA.23     NA        NA       NA NA     NA                     NA           \n",
       "⋮         ⋮   ⋮        ⋮        ⋮      ⋮                      ⋮            \n",
       "NA.111373 NA  NA       NA       NA     NA                     NA           \n",
       "NA.111374 NA  NA       NA       NA     NA                     NA           \n",
       "NA.111375 NA  NA       NA       NA     NA                     NA           \n",
       "NA.111376 NA  NA       NA       NA     NA                     NA           \n",
       "NA.111377 NA  NA       NA       NA     NA                     NA           \n",
       "NA.111378 NA  NA       NA       NA     NA                     NA           \n",
       "NA.111379 NA  NA       NA       NA     NA                     NA           \n",
       "NA.111380 NA  NA       NA       NA     NA                     NA           \n",
       "NA.111381 NA  NA       NA       NA     NA                     NA           \n",
       "NA.111382 NA  NA       NA       NA     NA                     NA           \n",
       "NA.111383 NA  NA       NA       NA     NA                     NA           \n",
       "NA.111384 NA  NA       NA       NA     NA                     NA           \n",
       "NA.111385 NA  NA       NA       NA     NA                     NA           \n",
       "NA.111386 NA  NA       NA       NA     NA                     NA           \n",
       "NA.111387 NA  NA       NA       NA     NA                     NA           \n",
       "NA.111388 NA  NA       NA       NA     NA                     NA           \n",
       "NA.111389 NA  NA       NA       NA     NA                     NA           \n",
       "NA.111390 NA  NA       NA       NA     NA                     NA           \n",
       "NA.111391 NA  NA       NA       NA     NA                     NA           \n",
       "NA.111392 NA  NA       NA       NA     NA                     NA           \n",
       "NA.111393 NA  NA       NA       NA     NA                     NA           \n",
       "NA.111394 NA  NA       NA       NA     NA                     NA           \n",
       "NA.111395 NA  NA       NA       NA     NA                     NA           \n",
       "NA.111396 NA  NA       NA       NA     NA                     NA           \n",
       "NA.111397 NA  NA       NA       NA     NA                     NA           \n",
       "NA.111398 NA  NA       NA       NA     NA                     NA           \n",
       "NA.111399 NA  NA       NA       NA     NA                     NA           \n",
       "NA.111400 NA  NA       NA       NA     NA                     NA           \n",
       "NA.111401 NA  NA       NA       NA     NA                     NA           \n",
       "NA.111402 NA  NA       NA       NA     NA                     NA           \n",
       "          pub.reg.type       probe      no.pubs gencode.reg.type  \n",
       "8         gene_plus_promoter             1      gene_plus_promoter\n",
       "15        gene_plus_promoter            12      gene_plus_promoter\n",
       "4834      EPIC_probe         cg02659086  1      gene_plus_promoter\n",
       "6180      EPIC_probe         cg04920951  1      gene_plus_promoter\n",
       "6619      EPIC_probe         cg26250609  1      gene_plus_promoter\n",
       "9051      promoter                       1      gene_plus_promoter\n",
       "NA        NA                 NA         NA      NA                \n",
       "NA.1      NA                 NA         NA      NA                \n",
       "NA.2      NA                 NA         NA      NA                \n",
       "NA.3      NA                 NA         NA      NA                \n",
       "NA.4      NA                 NA         NA      NA                \n",
       "NA.5      NA                 NA         NA      NA                \n",
       "NA.6      NA                 NA         NA      NA                \n",
       "NA.7      NA                 NA         NA      NA                \n",
       "NA.8      NA                 NA         NA      NA                \n",
       "NA.9      NA                 NA         NA      NA                \n",
       "NA.10     NA                 NA         NA      NA                \n",
       "NA.11     NA                 NA         NA      NA                \n",
       "NA.12     NA                 NA         NA      NA                \n",
       "NA.13     NA                 NA         NA      NA                \n",
       "NA.14     NA                 NA         NA      NA                \n",
       "NA.15     NA                 NA         NA      NA                \n",
       "NA.16     NA                 NA         NA      NA                \n",
       "NA.17     NA                 NA         NA      NA                \n",
       "NA.18     NA                 NA         NA      NA                \n",
       "NA.19     NA                 NA         NA      NA                \n",
       "NA.20     NA                 NA         NA      NA                \n",
       "NA.21     NA                 NA         NA      NA                \n",
       "NA.22     NA                 NA         NA      NA                \n",
       "NA.23     NA                 NA         NA      NA                \n",
       "⋮         ⋮                  ⋮          ⋮       ⋮                 \n",
       "NA.111373 NA                 NA         NA      NA                \n",
       "NA.111374 NA                 NA         NA      NA                \n",
       "NA.111375 NA                 NA         NA      NA                \n",
       "NA.111376 NA                 NA         NA      NA                \n",
       "NA.111377 NA                 NA         NA      NA                \n",
       "NA.111378 NA                 NA         NA      NA                \n",
       "NA.111379 NA                 NA         NA      NA                \n",
       "NA.111380 NA                 NA         NA      NA                \n",
       "NA.111381 NA                 NA         NA      NA                \n",
       "NA.111382 NA                 NA         NA      NA                \n",
       "NA.111383 NA                 NA         NA      NA                \n",
       "NA.111384 NA                 NA         NA      NA                \n",
       "NA.111385 NA                 NA         NA      NA                \n",
       "NA.111386 NA                 NA         NA      NA                \n",
       "NA.111387 NA                 NA         NA      NA                \n",
       "NA.111388 NA                 NA         NA      NA                \n",
       "NA.111389 NA                 NA         NA      NA                \n",
       "NA.111390 NA                 NA         NA      NA                \n",
       "NA.111391 NA                 NA         NA      NA                \n",
       "NA.111392 NA                 NA         NA      NA                \n",
       "NA.111393 NA                 NA         NA      NA                \n",
       "NA.111394 NA                 NA         NA      NA                \n",
       "NA.111395 NA                 NA         NA      NA                \n",
       "NA.111396 NA                 NA         NA      NA                \n",
       "NA.111397 NA                 NA         NA      NA                \n",
       "NA.111398 NA                 NA         NA      NA                \n",
       "NA.111399 NA                 NA         NA      NA                \n",
       "NA.111400 NA                 NA         NA      NA                \n",
       "NA.111401 NA                 NA         NA      NA                \n",
       "NA.111402 NA                 NA         NA      NA                \n",
       "          gencode.gene.name\n",
       "8         GSTP1            \n",
       "15        GSTP1            \n",
       "4834      GSTP1            \n",
       "6180      GSTP1            \n",
       "6619      GSTP1            \n",
       "9051      GSTP1            \n",
       "NA        NA               \n",
       "NA.1      NA               \n",
       "NA.2      NA               \n",
       "NA.3      NA               \n",
       "NA.4      NA               \n",
       "NA.5      NA               \n",
       "NA.6      NA               \n",
       "NA.7      NA               \n",
       "NA.8      NA               \n",
       "NA.9      NA               \n",
       "NA.10     NA               \n",
       "NA.11     NA               \n",
       "NA.12     NA               \n",
       "NA.13     NA               \n",
       "NA.14     NA               \n",
       "NA.15     NA               \n",
       "NA.16     NA               \n",
       "NA.17     NA               \n",
       "NA.18     NA               \n",
       "NA.19     NA               \n",
       "NA.20     NA               \n",
       "NA.21     NA               \n",
       "NA.22     NA               \n",
       "NA.23     NA               \n",
       "⋮         ⋮                \n",
       "NA.111373 NA               \n",
       "NA.111374 NA               \n",
       "NA.111375 NA               \n",
       "NA.111376 NA               \n",
       "NA.111377 NA               \n",
       "NA.111378 NA               \n",
       "NA.111379 NA               \n",
       "NA.111380 NA               \n",
       "NA.111381 NA               \n",
       "NA.111382 NA               \n",
       "NA.111383 NA               \n",
       "NA.111384 NA               \n",
       "NA.111385 NA               \n",
       "NA.111386 NA               \n",
       "NA.111387 NA               \n",
       "NA.111388 NA               \n",
       "NA.111389 NA               \n",
       "NA.111390 NA               \n",
       "NA.111391 NA               \n",
       "NA.111392 NA               \n",
       "NA.111393 NA               \n",
       "NA.111394 NA               \n",
       "NA.111395 NA               \n",
       "NA.111396 NA               \n",
       "NA.111397 NA               \n",
       "NA.111398 NA               \n",
       "NA.111399 NA               \n",
       "NA.111400 NA               \n",
       "NA.111401 NA               \n",
       "NA.111402 NA               "
      ]
     },
     "metadata": {},
     "output_type": "display_data"
    }
   ],
   "source": [
    "# extract gencode name and region type\n",
    "df_all_annot = df_all %>% left_join(df_gene_annot[,c(\"chr\",\"start\",\"end\",\"source\",\"gencode.reg.type\",\"gencode.gene.name\")], by=c(\"chr\",\"start\",\"end\",\"source\"))\n",
    "df_all_annot[df_all_annot$pub.gene.name==\"GSTP1\",]"
   ]
  },
  {
   "cell_type": "code",
   "execution_count": 403,
   "id": "8b1695b5",
   "metadata": {},
   "outputs": [
    {
     "data": {
      "text/html": [
       "<table class=\"dataframe\">\n",
       "<caption>A data.frame: 6 × 13</caption>\n",
       "<thead>\n",
       "\t<tr><th></th><th scope=col>chr</th><th scope=col>start</th><th scope=col>end</th><th scope=col>strand</th><th scope=col>source</th><th scope=col>pub.gene.name</th><th scope=col>pub.reg.type</th><th scope=col>probe</th><th scope=col>no.pubs</th><th scope=col>gencode.reg.type.x</th><th scope=col>gencode.gene.name.x</th><th scope=col>gencode.reg.type.y</th><th scope=col>gencode.gene.name.y</th></tr>\n",
       "\t<tr><th></th><th scope=col>&lt;chr&gt;</th><th scope=col>&lt;int&gt;</th><th scope=col>&lt;int&gt;</th><th scope=col>&lt;chr&gt;</th><th scope=col>&lt;chr&gt;</th><th scope=col>&lt;chr&gt;</th><th scope=col>&lt;chr&gt;</th><th scope=col>&lt;chr&gt;</th><th scope=col>&lt;int&gt;</th><th scope=col>&lt;chr&gt;</th><th scope=col>&lt;chr&gt;</th><th scope=col>&lt;chr&gt;</th><th scope=col>&lt;chr&gt;</th></tr>\n",
       "</thead>\n",
       "<tbody>\n",
       "\t<tr><th scope=row>1</th><td>4 </td><td>106066032</td><td>106200973</td><td>+</td><td>Kukkonen et al. 2021</td><td>TET2  </td><td>gene_plus_promoter</td><td></td><td>1</td><td>gene_plus_promoter</td><td>TET2-AS1</td><td>promoter</td><td>TET2    </td></tr>\n",
       "\t<tr><th scope=row>2</th><td>20</td><td> 31349191</td><td> 31397165</td><td>+</td><td>Kukkonen et al. 2021</td><td>DNMT3B</td><td>gene_plus_promoter</td><td></td><td>1</td><td>gene_plus_promoter</td><td>DNMT3B  </td><td>promoter</td><td>DNMT3B  </td></tr>\n",
       "\t<tr><th scope=row>3</th><td>2 </td><td>209100953</td><td>209131798</td><td>-</td><td>Kukkonen et al. 2021</td><td>IDH1  </td><td>gene_plus_promoter</td><td></td><td>1</td><td>gene_plus_promoter</td><td>IDH1-AS1</td><td>promoter</td><td>IDH1-AS1</td></tr>\n",
       "\t<tr><th scope=row>4</th><td>7 </td><td>140419127</td><td>140625729</td><td>-</td><td>Kukkonen et al. 2021</td><td>BRAF  </td><td>gene_plus_promoter</td><td></td><td>1</td><td>gene_plus_promoter</td><td>U6      </td><td>promoter</td><td>U6      </td></tr>\n",
       "\t<tr><th scope=row>5</th><td>X </td><td> 66762863</td><td> 66950461</td><td>+</td><td>Kukkonen et al. 2021</td><td>AR    </td><td>gene_plus_promoter</td><td></td><td>1</td><td>gene_plus_promoter</td><td>AR      </td><td>promoter</td><td>AR      </td></tr>\n",
       "\t<tr><th scope=row>6</th><td>8 </td><td>128746680</td><td>128755197</td><td>+</td><td>Kukkonen et al. 2021</td><td>MYC   </td><td>gene_plus_promoter</td><td></td><td>1</td><td>gene_plus_promoter</td><td>MYC     </td><td>promoter</td><td>CASC11  </td></tr>\n",
       "</tbody>\n",
       "</table>\n"
      ],
      "text/latex": [
       "A data.frame: 6 × 13\n",
       "\\begin{tabular}{r|lllllllllllll}\n",
       "  & chr & start & end & strand & source & pub.gene.name & pub.reg.type & probe & no.pubs & gencode.reg.type.x & gencode.gene.name.x & gencode.reg.type.y & gencode.gene.name.y\\\\\n",
       "  & <chr> & <int> & <int> & <chr> & <chr> & <chr> & <chr> & <chr> & <int> & <chr> & <chr> & <chr> & <chr>\\\\\n",
       "\\hline\n",
       "\t1 & 4  & 106066032 & 106200973 & + & Kukkonen et al. 2021 & TET2   & gene\\_plus\\_promoter &  & 1 & gene\\_plus\\_promoter & TET2-AS1 & promoter & TET2    \\\\\n",
       "\t2 & 20 &  31349191 &  31397165 & + & Kukkonen et al. 2021 & DNMT3B & gene\\_plus\\_promoter &  & 1 & gene\\_plus\\_promoter & DNMT3B   & promoter & DNMT3B  \\\\\n",
       "\t3 & 2  & 209100953 & 209131798 & - & Kukkonen et al. 2021 & IDH1   & gene\\_plus\\_promoter &  & 1 & gene\\_plus\\_promoter & IDH1-AS1 & promoter & IDH1-AS1\\\\\n",
       "\t4 & 7  & 140419127 & 140625729 & - & Kukkonen et al. 2021 & BRAF   & gene\\_plus\\_promoter &  & 1 & gene\\_plus\\_promoter & U6       & promoter & U6      \\\\\n",
       "\t5 & X  &  66762863 &  66950461 & + & Kukkonen et al. 2021 & AR     & gene\\_plus\\_promoter &  & 1 & gene\\_plus\\_promoter & AR       & promoter & AR      \\\\\n",
       "\t6 & 8  & 128746680 & 128755197 & + & Kukkonen et al. 2021 & MYC    & gene\\_plus\\_promoter &  & 1 & gene\\_plus\\_promoter & MYC      & promoter & CASC11  \\\\\n",
       "\\end{tabular}\n"
      ],
      "text/markdown": [
       "\n",
       "A data.frame: 6 × 13\n",
       "\n",
       "| <!--/--> | chr &lt;chr&gt; | start &lt;int&gt; | end &lt;int&gt; | strand &lt;chr&gt; | source &lt;chr&gt; | pub.gene.name &lt;chr&gt; | pub.reg.type &lt;chr&gt; | probe &lt;chr&gt; | no.pubs &lt;int&gt; | gencode.reg.type.x &lt;chr&gt; | gencode.gene.name.x &lt;chr&gt; | gencode.reg.type.y &lt;chr&gt; | gencode.gene.name.y &lt;chr&gt; |\n",
       "|---|---|---|---|---|---|---|---|---|---|---|---|---|---|\n",
       "| 1 | 4  | 106066032 | 106200973 | + | Kukkonen et al. 2021 | TET2   | gene_plus_promoter | <!----> | 1 | gene_plus_promoter | TET2-AS1 | promoter | TET2     |\n",
       "| 2 | 20 |  31349191 |  31397165 | + | Kukkonen et al. 2021 | DNMT3B | gene_plus_promoter | <!----> | 1 | gene_plus_promoter | DNMT3B   | promoter | DNMT3B   |\n",
       "| 3 | 2  | 209100953 | 209131798 | - | Kukkonen et al. 2021 | IDH1   | gene_plus_promoter | <!----> | 1 | gene_plus_promoter | IDH1-AS1 | promoter | IDH1-AS1 |\n",
       "| 4 | 7  | 140419127 | 140625729 | - | Kukkonen et al. 2021 | BRAF   | gene_plus_promoter | <!----> | 1 | gene_plus_promoter | U6       | promoter | U6       |\n",
       "| 5 | X  |  66762863 |  66950461 | + | Kukkonen et al. 2021 | AR     | gene_plus_promoter | <!----> | 1 | gene_plus_promoter | AR       | promoter | AR       |\n",
       "| 6 | 8  | 128746680 | 128755197 | + | Kukkonen et al. 2021 | MYC    | gene_plus_promoter | <!----> | 1 | gene_plus_promoter | MYC      | promoter | CASC11   |\n",
       "\n"
      ],
      "text/plain": [
       "  chr start     end       strand source               pub.gene.name\n",
       "1 4   106066032 106200973 +      Kukkonen et al. 2021 TET2         \n",
       "2 20   31349191  31397165 +      Kukkonen et al. 2021 DNMT3B       \n",
       "3 2   209100953 209131798 -      Kukkonen et al. 2021 IDH1         \n",
       "4 7   140419127 140625729 -      Kukkonen et al. 2021 BRAF         \n",
       "5 X    66762863  66950461 +      Kukkonen et al. 2021 AR           \n",
       "6 8   128746680 128755197 +      Kukkonen et al. 2021 MYC          \n",
       "  pub.reg.type       probe no.pubs gencode.reg.type.x gencode.gene.name.x\n",
       "1 gene_plus_promoter       1       gene_plus_promoter TET2-AS1           \n",
       "2 gene_plus_promoter       1       gene_plus_promoter DNMT3B             \n",
       "3 gene_plus_promoter       1       gene_plus_promoter IDH1-AS1           \n",
       "4 gene_plus_promoter       1       gene_plus_promoter U6                 \n",
       "5 gene_plus_promoter       1       gene_plus_promoter AR                 \n",
       "6 gene_plus_promoter       1       gene_plus_promoter MYC                \n",
       "  gencode.reg.type.y gencode.gene.name.y\n",
       "1 promoter           TET2               \n",
       "2 promoter           DNMT3B             \n",
       "3 promoter           IDH1-AS1           \n",
       "4 promoter           U6                 \n",
       "5 promoter           AR                 \n",
       "6 promoter           CASC11             "
      ]
     },
     "metadata": {},
     "output_type": "display_data"
    }
   ],
   "source": [
    "df_all_annot = df_all_annot %>% left_join(df_prom_annot[,c(\"chr\",\"start\",\"end\",\"source\",\"gencode.reg.type\",\"gencode.gene.name\")], by=c(\"chr\",\"start\",\"end\",\"source\"))\n",
    "head(df_all_annot)"
   ]
  },
  {
   "cell_type": "code",
   "execution_count": 404,
   "id": "0aab37ec",
   "metadata": {},
   "outputs": [],
   "source": [
    "df_all_annot = df_all_annot[!is.na(df_all_annot$chr),]"
   ]
  },
  {
   "cell_type": "code",
   "execution_count": 406,
   "id": "07ff578c",
   "metadata": {},
   "outputs": [
    {
     "data": {
      "text/html": [
       "<table class=\"dataframe\">\n",
       "<caption>A grouped_df: 111409 × 15</caption>\n",
       "<thead>\n",
       "\t<tr><th scope=col>chr</th><th scope=col>start</th><th scope=col>end</th><th scope=col>strand</th><th scope=col>source</th><th scope=col>pub.gene.name</th><th scope=col>pub.reg.type</th><th scope=col>probe</th><th scope=col>no.pubs</th><th scope=col>gencode.reg.type.x</th><th scope=col>gencode.gene.name.x</th><th scope=col>gencode.reg.type.y</th><th scope=col>gencode.gene.name.y</th><th scope=col>hybrid.gene.name</th><th scope=col>no.total.pubs</th></tr>\n",
       "\t<tr><th scope=col>&lt;chr&gt;</th><th scope=col>&lt;int&gt;</th><th scope=col>&lt;int&gt;</th><th scope=col>&lt;chr&gt;</th><th scope=col>&lt;chr&gt;</th><th scope=col>&lt;chr&gt;</th><th scope=col>&lt;chr&gt;</th><th scope=col>&lt;chr&gt;</th><th scope=col>&lt;int&gt;</th><th scope=col>&lt;chr&gt;</th><th scope=col>&lt;chr&gt;</th><th scope=col>&lt;chr&gt;</th><th scope=col>&lt;chr&gt;</th><th scope=col>&lt;chr&gt;</th><th scope=col>&lt;int&gt;</th></tr>\n",
       "</thead>\n",
       "<tbody>\n",
       "\t<tr><td>11</td><td>67350213</td><td>67354127</td><td>+ </td><td>Constancio et al. 2019</td><td>GSTP1</td><td>gene_plus_promoter</td><td>          </td><td> 1</td><td>gene_plus_promoter</td><td>GSTP1</td><td>promoter</td><td>GSTP1</td><td>GSTP1</td><td>15</td></tr>\n",
       "\t<tr><td>11</td><td>67350213</td><td>67354127</td><td>+ </td><td>Massie et al. 2017    </td><td>GSTP1</td><td>gene_plus_promoter</td><td>          </td><td>12</td><td>gene_plus_promoter</td><td>GSTP1</td><td>promoter</td><td>GSTP1</td><td>GSTP1</td><td>15</td></tr>\n",
       "\t<tr><td>11</td><td>67350975</td><td>67350976</td><td>R </td><td>Ylitalo et al 2021    </td><td>GSTP1</td><td>EPIC_probe        </td><td>cg02659086</td><td> 1</td><td>gene_plus_promoter</td><td>GSTP1</td><td>promoter</td><td>GSTP1</td><td>GSTP1</td><td>15</td></tr>\n",
       "\t<tr><td>11</td><td>67351270</td><td>67351271</td><td>R </td><td>Ylitalo et al 2021    </td><td>GSTP1</td><td>EPIC_probe        </td><td>cg04920951</td><td> 1</td><td>gene_plus_promoter</td><td>GSTP1</td><td>.       </td><td>.    </td><td>GSTP1</td><td>15</td></tr>\n",
       "\t<tr><td>11</td><td>67351272</td><td>67351273</td><td>F </td><td>Ylitalo et al 2021    </td><td>GSTP1</td><td>EPIC_probe        </td><td>cg26250609</td><td> 1</td><td>gene_plus_promoter</td><td>GSTP1</td><td>.       </td><td>.    </td><td>GSTP1</td><td>15</td></tr>\n",
       "\t<tr><td>11</td><td>67350213</td><td>67351213</td><td>+ </td><td>Sugiura et al 2021    </td><td>GSTP1</td><td>promoter          </td><td>          </td><td> 1</td><td>gene_plus_promoter</td><td>GSTP1</td><td>promoter</td><td>GSTP1</td><td>GSTP1</td><td>15</td></tr>\n",
       "\t<tr><td>NA</td><td>      NA</td><td>      NA</td><td>NA</td><td>NA                    </td><td>NA   </td><td>NA                </td><td>NA        </td><td>NA</td><td>NA                </td><td>NA   </td><td>NA      </td><td>NA   </td><td>NA   </td><td>NA</td></tr>\n",
       "\t<tr><td>NA</td><td>      NA</td><td>      NA</td><td>NA</td><td>NA                    </td><td>NA   </td><td>NA                </td><td>NA        </td><td>NA</td><td>NA                </td><td>NA   </td><td>NA      </td><td>NA   </td><td>NA   </td><td>NA</td></tr>\n",
       "\t<tr><td>NA</td><td>      NA</td><td>      NA</td><td>NA</td><td>NA                    </td><td>NA   </td><td>NA                </td><td>NA        </td><td>NA</td><td>NA                </td><td>NA   </td><td>NA      </td><td>NA   </td><td>NA   </td><td>NA</td></tr>\n",
       "\t<tr><td>NA</td><td>      NA</td><td>      NA</td><td>NA</td><td>NA                    </td><td>NA   </td><td>NA                </td><td>NA        </td><td>NA</td><td>NA                </td><td>NA   </td><td>NA      </td><td>NA   </td><td>NA   </td><td>NA</td></tr>\n",
       "\t<tr><td>NA</td><td>      NA</td><td>      NA</td><td>NA</td><td>NA                    </td><td>NA   </td><td>NA                </td><td>NA        </td><td>NA</td><td>NA                </td><td>NA   </td><td>NA      </td><td>NA   </td><td>NA   </td><td>NA</td></tr>\n",
       "\t<tr><td>NA</td><td>      NA</td><td>      NA</td><td>NA</td><td>NA                    </td><td>NA   </td><td>NA                </td><td>NA        </td><td>NA</td><td>NA                </td><td>NA   </td><td>NA      </td><td>NA   </td><td>NA   </td><td>NA</td></tr>\n",
       "\t<tr><td>NA</td><td>      NA</td><td>      NA</td><td>NA</td><td>NA                    </td><td>NA   </td><td>NA                </td><td>NA        </td><td>NA</td><td>NA                </td><td>NA   </td><td>NA      </td><td>NA   </td><td>NA   </td><td>NA</td></tr>\n",
       "\t<tr><td>NA</td><td>      NA</td><td>      NA</td><td>NA</td><td>NA                    </td><td>NA   </td><td>NA                </td><td>NA        </td><td>NA</td><td>NA                </td><td>NA   </td><td>NA      </td><td>NA   </td><td>NA   </td><td>NA</td></tr>\n",
       "\t<tr><td>NA</td><td>      NA</td><td>      NA</td><td>NA</td><td>NA                    </td><td>NA   </td><td>NA                </td><td>NA        </td><td>NA</td><td>NA                </td><td>NA   </td><td>NA      </td><td>NA   </td><td>NA   </td><td>NA</td></tr>\n",
       "\t<tr><td>NA</td><td>      NA</td><td>      NA</td><td>NA</td><td>NA                    </td><td>NA   </td><td>NA                </td><td>NA        </td><td>NA</td><td>NA                </td><td>NA   </td><td>NA      </td><td>NA   </td><td>NA   </td><td>NA</td></tr>\n",
       "\t<tr><td>NA</td><td>      NA</td><td>      NA</td><td>NA</td><td>NA                    </td><td>NA   </td><td>NA                </td><td>NA        </td><td>NA</td><td>NA                </td><td>NA   </td><td>NA      </td><td>NA   </td><td>NA   </td><td>NA</td></tr>\n",
       "\t<tr><td>NA</td><td>      NA</td><td>      NA</td><td>NA</td><td>NA                    </td><td>NA   </td><td>NA                </td><td>NA        </td><td>NA</td><td>NA                </td><td>NA   </td><td>NA      </td><td>NA   </td><td>NA   </td><td>NA</td></tr>\n",
       "\t<tr><td>NA</td><td>      NA</td><td>      NA</td><td>NA</td><td>NA                    </td><td>NA   </td><td>NA                </td><td>NA        </td><td>NA</td><td>NA                </td><td>NA   </td><td>NA      </td><td>NA   </td><td>NA   </td><td>NA</td></tr>\n",
       "\t<tr><td>NA</td><td>      NA</td><td>      NA</td><td>NA</td><td>NA                    </td><td>NA   </td><td>NA                </td><td>NA        </td><td>NA</td><td>NA                </td><td>NA   </td><td>NA      </td><td>NA   </td><td>NA   </td><td>NA</td></tr>\n",
       "\t<tr><td>NA</td><td>      NA</td><td>      NA</td><td>NA</td><td>NA                    </td><td>NA   </td><td>NA                </td><td>NA        </td><td>NA</td><td>NA                </td><td>NA   </td><td>NA      </td><td>NA   </td><td>NA   </td><td>NA</td></tr>\n",
       "\t<tr><td>NA</td><td>      NA</td><td>      NA</td><td>NA</td><td>NA                    </td><td>NA   </td><td>NA                </td><td>NA        </td><td>NA</td><td>NA                </td><td>NA   </td><td>NA      </td><td>NA   </td><td>NA   </td><td>NA</td></tr>\n",
       "\t<tr><td>NA</td><td>      NA</td><td>      NA</td><td>NA</td><td>NA                    </td><td>NA   </td><td>NA                </td><td>NA        </td><td>NA</td><td>NA                </td><td>NA   </td><td>NA      </td><td>NA   </td><td>NA   </td><td>NA</td></tr>\n",
       "\t<tr><td>NA</td><td>      NA</td><td>      NA</td><td>NA</td><td>NA                    </td><td>NA   </td><td>NA                </td><td>NA        </td><td>NA</td><td>NA                </td><td>NA   </td><td>NA      </td><td>NA   </td><td>NA   </td><td>NA</td></tr>\n",
       "\t<tr><td>NA</td><td>      NA</td><td>      NA</td><td>NA</td><td>NA                    </td><td>NA   </td><td>NA                </td><td>NA        </td><td>NA</td><td>NA                </td><td>NA   </td><td>NA      </td><td>NA   </td><td>NA   </td><td>NA</td></tr>\n",
       "\t<tr><td>NA</td><td>      NA</td><td>      NA</td><td>NA</td><td>NA                    </td><td>NA   </td><td>NA                </td><td>NA        </td><td>NA</td><td>NA                </td><td>NA   </td><td>NA      </td><td>NA   </td><td>NA   </td><td>NA</td></tr>\n",
       "\t<tr><td>NA</td><td>      NA</td><td>      NA</td><td>NA</td><td>NA                    </td><td>NA   </td><td>NA                </td><td>NA        </td><td>NA</td><td>NA                </td><td>NA   </td><td>NA      </td><td>NA   </td><td>NA   </td><td>NA</td></tr>\n",
       "\t<tr><td>NA</td><td>      NA</td><td>      NA</td><td>NA</td><td>NA                    </td><td>NA   </td><td>NA                </td><td>NA        </td><td>NA</td><td>NA                </td><td>NA   </td><td>NA      </td><td>NA   </td><td>NA   </td><td>NA</td></tr>\n",
       "\t<tr><td>NA</td><td>      NA</td><td>      NA</td><td>NA</td><td>NA                    </td><td>NA   </td><td>NA                </td><td>NA        </td><td>NA</td><td>NA                </td><td>NA   </td><td>NA      </td><td>NA   </td><td>NA   </td><td>NA</td></tr>\n",
       "\t<tr><td>NA</td><td>      NA</td><td>      NA</td><td>NA</td><td>NA                    </td><td>NA   </td><td>NA                </td><td>NA        </td><td>NA</td><td>NA                </td><td>NA   </td><td>NA      </td><td>NA   </td><td>NA   </td><td>NA</td></tr>\n",
       "\t<tr><td>⋮</td><td>⋮</td><td>⋮</td><td>⋮</td><td>⋮</td><td>⋮</td><td>⋮</td><td>⋮</td><td>⋮</td><td>⋮</td><td>⋮</td><td>⋮</td><td>⋮</td><td>⋮</td><td>⋮</td></tr>\n",
       "\t<tr><td>NA</td><td>NA</td><td>NA</td><td>NA</td><td>NA</td><td>NA</td><td>NA</td><td>NA</td><td>NA</td><td>NA</td><td>NA</td><td>NA</td><td>NA</td><td>NA</td><td>NA</td></tr>\n",
       "\t<tr><td>NA</td><td>NA</td><td>NA</td><td>NA</td><td>NA</td><td>NA</td><td>NA</td><td>NA</td><td>NA</td><td>NA</td><td>NA</td><td>NA</td><td>NA</td><td>NA</td><td>NA</td></tr>\n",
       "\t<tr><td>NA</td><td>NA</td><td>NA</td><td>NA</td><td>NA</td><td>NA</td><td>NA</td><td>NA</td><td>NA</td><td>NA</td><td>NA</td><td>NA</td><td>NA</td><td>NA</td><td>NA</td></tr>\n",
       "\t<tr><td>NA</td><td>NA</td><td>NA</td><td>NA</td><td>NA</td><td>NA</td><td>NA</td><td>NA</td><td>NA</td><td>NA</td><td>NA</td><td>NA</td><td>NA</td><td>NA</td><td>NA</td></tr>\n",
       "\t<tr><td>NA</td><td>NA</td><td>NA</td><td>NA</td><td>NA</td><td>NA</td><td>NA</td><td>NA</td><td>NA</td><td>NA</td><td>NA</td><td>NA</td><td>NA</td><td>NA</td><td>NA</td></tr>\n",
       "\t<tr><td>NA</td><td>NA</td><td>NA</td><td>NA</td><td>NA</td><td>NA</td><td>NA</td><td>NA</td><td>NA</td><td>NA</td><td>NA</td><td>NA</td><td>NA</td><td>NA</td><td>NA</td></tr>\n",
       "\t<tr><td>NA</td><td>NA</td><td>NA</td><td>NA</td><td>NA</td><td>NA</td><td>NA</td><td>NA</td><td>NA</td><td>NA</td><td>NA</td><td>NA</td><td>NA</td><td>NA</td><td>NA</td></tr>\n",
       "\t<tr><td>NA</td><td>NA</td><td>NA</td><td>NA</td><td>NA</td><td>NA</td><td>NA</td><td>NA</td><td>NA</td><td>NA</td><td>NA</td><td>NA</td><td>NA</td><td>NA</td><td>NA</td></tr>\n",
       "\t<tr><td>NA</td><td>NA</td><td>NA</td><td>NA</td><td>NA</td><td>NA</td><td>NA</td><td>NA</td><td>NA</td><td>NA</td><td>NA</td><td>NA</td><td>NA</td><td>NA</td><td>NA</td></tr>\n",
       "\t<tr><td>NA</td><td>NA</td><td>NA</td><td>NA</td><td>NA</td><td>NA</td><td>NA</td><td>NA</td><td>NA</td><td>NA</td><td>NA</td><td>NA</td><td>NA</td><td>NA</td><td>NA</td></tr>\n",
       "\t<tr><td>NA</td><td>NA</td><td>NA</td><td>NA</td><td>NA</td><td>NA</td><td>NA</td><td>NA</td><td>NA</td><td>NA</td><td>NA</td><td>NA</td><td>NA</td><td>NA</td><td>NA</td></tr>\n",
       "\t<tr><td>NA</td><td>NA</td><td>NA</td><td>NA</td><td>NA</td><td>NA</td><td>NA</td><td>NA</td><td>NA</td><td>NA</td><td>NA</td><td>NA</td><td>NA</td><td>NA</td><td>NA</td></tr>\n",
       "\t<tr><td>NA</td><td>NA</td><td>NA</td><td>NA</td><td>NA</td><td>NA</td><td>NA</td><td>NA</td><td>NA</td><td>NA</td><td>NA</td><td>NA</td><td>NA</td><td>NA</td><td>NA</td></tr>\n",
       "\t<tr><td>NA</td><td>NA</td><td>NA</td><td>NA</td><td>NA</td><td>NA</td><td>NA</td><td>NA</td><td>NA</td><td>NA</td><td>NA</td><td>NA</td><td>NA</td><td>NA</td><td>NA</td></tr>\n",
       "\t<tr><td>NA</td><td>NA</td><td>NA</td><td>NA</td><td>NA</td><td>NA</td><td>NA</td><td>NA</td><td>NA</td><td>NA</td><td>NA</td><td>NA</td><td>NA</td><td>NA</td><td>NA</td></tr>\n",
       "\t<tr><td>NA</td><td>NA</td><td>NA</td><td>NA</td><td>NA</td><td>NA</td><td>NA</td><td>NA</td><td>NA</td><td>NA</td><td>NA</td><td>NA</td><td>NA</td><td>NA</td><td>NA</td></tr>\n",
       "\t<tr><td>NA</td><td>NA</td><td>NA</td><td>NA</td><td>NA</td><td>NA</td><td>NA</td><td>NA</td><td>NA</td><td>NA</td><td>NA</td><td>NA</td><td>NA</td><td>NA</td><td>NA</td></tr>\n",
       "\t<tr><td>NA</td><td>NA</td><td>NA</td><td>NA</td><td>NA</td><td>NA</td><td>NA</td><td>NA</td><td>NA</td><td>NA</td><td>NA</td><td>NA</td><td>NA</td><td>NA</td><td>NA</td></tr>\n",
       "\t<tr><td>NA</td><td>NA</td><td>NA</td><td>NA</td><td>NA</td><td>NA</td><td>NA</td><td>NA</td><td>NA</td><td>NA</td><td>NA</td><td>NA</td><td>NA</td><td>NA</td><td>NA</td></tr>\n",
       "\t<tr><td>NA</td><td>NA</td><td>NA</td><td>NA</td><td>NA</td><td>NA</td><td>NA</td><td>NA</td><td>NA</td><td>NA</td><td>NA</td><td>NA</td><td>NA</td><td>NA</td><td>NA</td></tr>\n",
       "\t<tr><td>NA</td><td>NA</td><td>NA</td><td>NA</td><td>NA</td><td>NA</td><td>NA</td><td>NA</td><td>NA</td><td>NA</td><td>NA</td><td>NA</td><td>NA</td><td>NA</td><td>NA</td></tr>\n",
       "\t<tr><td>NA</td><td>NA</td><td>NA</td><td>NA</td><td>NA</td><td>NA</td><td>NA</td><td>NA</td><td>NA</td><td>NA</td><td>NA</td><td>NA</td><td>NA</td><td>NA</td><td>NA</td></tr>\n",
       "\t<tr><td>NA</td><td>NA</td><td>NA</td><td>NA</td><td>NA</td><td>NA</td><td>NA</td><td>NA</td><td>NA</td><td>NA</td><td>NA</td><td>NA</td><td>NA</td><td>NA</td><td>NA</td></tr>\n",
       "\t<tr><td>NA</td><td>NA</td><td>NA</td><td>NA</td><td>NA</td><td>NA</td><td>NA</td><td>NA</td><td>NA</td><td>NA</td><td>NA</td><td>NA</td><td>NA</td><td>NA</td><td>NA</td></tr>\n",
       "\t<tr><td>NA</td><td>NA</td><td>NA</td><td>NA</td><td>NA</td><td>NA</td><td>NA</td><td>NA</td><td>NA</td><td>NA</td><td>NA</td><td>NA</td><td>NA</td><td>NA</td><td>NA</td></tr>\n",
       "\t<tr><td>NA</td><td>NA</td><td>NA</td><td>NA</td><td>NA</td><td>NA</td><td>NA</td><td>NA</td><td>NA</td><td>NA</td><td>NA</td><td>NA</td><td>NA</td><td>NA</td><td>NA</td></tr>\n",
       "\t<tr><td>NA</td><td>NA</td><td>NA</td><td>NA</td><td>NA</td><td>NA</td><td>NA</td><td>NA</td><td>NA</td><td>NA</td><td>NA</td><td>NA</td><td>NA</td><td>NA</td><td>NA</td></tr>\n",
       "\t<tr><td>NA</td><td>NA</td><td>NA</td><td>NA</td><td>NA</td><td>NA</td><td>NA</td><td>NA</td><td>NA</td><td>NA</td><td>NA</td><td>NA</td><td>NA</td><td>NA</td><td>NA</td></tr>\n",
       "\t<tr><td>NA</td><td>NA</td><td>NA</td><td>NA</td><td>NA</td><td>NA</td><td>NA</td><td>NA</td><td>NA</td><td>NA</td><td>NA</td><td>NA</td><td>NA</td><td>NA</td><td>NA</td></tr>\n",
       "\t<tr><td>NA</td><td>NA</td><td>NA</td><td>NA</td><td>NA</td><td>NA</td><td>NA</td><td>NA</td><td>NA</td><td>NA</td><td>NA</td><td>NA</td><td>NA</td><td>NA</td><td>NA</td></tr>\n",
       "</tbody>\n",
       "</table>\n"
      ],
      "text/latex": [
       "A grouped\\_df: 111409 × 15\n",
       "\\begin{tabular}{lllllllllllllll}\n",
       " chr & start & end & strand & source & pub.gene.name & pub.reg.type & probe & no.pubs & gencode.reg.type.x & gencode.gene.name.x & gencode.reg.type.y & gencode.gene.name.y & hybrid.gene.name & no.total.pubs\\\\\n",
       " <chr> & <int> & <int> & <chr> & <chr> & <chr> & <chr> & <chr> & <int> & <chr> & <chr> & <chr> & <chr> & <chr> & <int>\\\\\n",
       "\\hline\n",
       "\t 11 & 67350213 & 67354127 & +  & Constancio et al. 2019 & GSTP1 & gene\\_plus\\_promoter &            &  1 & gene\\_plus\\_promoter & GSTP1 & promoter & GSTP1 & GSTP1 & 15\\\\\n",
       "\t 11 & 67350213 & 67354127 & +  & Massie et al. 2017     & GSTP1 & gene\\_plus\\_promoter &            & 12 & gene\\_plus\\_promoter & GSTP1 & promoter & GSTP1 & GSTP1 & 15\\\\\n",
       "\t 11 & 67350975 & 67350976 & R  & Ylitalo et al 2021     & GSTP1 & EPIC\\_probe         & cg02659086 &  1 & gene\\_plus\\_promoter & GSTP1 & promoter & GSTP1 & GSTP1 & 15\\\\\n",
       "\t 11 & 67351270 & 67351271 & R  & Ylitalo et al 2021     & GSTP1 & EPIC\\_probe         & cg04920951 &  1 & gene\\_plus\\_promoter & GSTP1 & .        & .     & GSTP1 & 15\\\\\n",
       "\t 11 & 67351272 & 67351273 & F  & Ylitalo et al 2021     & GSTP1 & EPIC\\_probe         & cg26250609 &  1 & gene\\_plus\\_promoter & GSTP1 & .        & .     & GSTP1 & 15\\\\\n",
       "\t 11 & 67350213 & 67351213 & +  & Sugiura et al 2021     & GSTP1 & promoter           &            &  1 & gene\\_plus\\_promoter & GSTP1 & promoter & GSTP1 & GSTP1 & 15\\\\\n",
       "\t NA &       NA &       NA & NA & NA                     & NA    & NA                 & NA         & NA & NA                 & NA    & NA       & NA    & NA    & NA\\\\\n",
       "\t NA &       NA &       NA & NA & NA                     & NA    & NA                 & NA         & NA & NA                 & NA    & NA       & NA    & NA    & NA\\\\\n",
       "\t NA &       NA &       NA & NA & NA                     & NA    & NA                 & NA         & NA & NA                 & NA    & NA       & NA    & NA    & NA\\\\\n",
       "\t NA &       NA &       NA & NA & NA                     & NA    & NA                 & NA         & NA & NA                 & NA    & NA       & NA    & NA    & NA\\\\\n",
       "\t NA &       NA &       NA & NA & NA                     & NA    & NA                 & NA         & NA & NA                 & NA    & NA       & NA    & NA    & NA\\\\\n",
       "\t NA &       NA &       NA & NA & NA                     & NA    & NA                 & NA         & NA & NA                 & NA    & NA       & NA    & NA    & NA\\\\\n",
       "\t NA &       NA &       NA & NA & NA                     & NA    & NA                 & NA         & NA & NA                 & NA    & NA       & NA    & NA    & NA\\\\\n",
       "\t NA &       NA &       NA & NA & NA                     & NA    & NA                 & NA         & NA & NA                 & NA    & NA       & NA    & NA    & NA\\\\\n",
       "\t NA &       NA &       NA & NA & NA                     & NA    & NA                 & NA         & NA & NA                 & NA    & NA       & NA    & NA    & NA\\\\\n",
       "\t NA &       NA &       NA & NA & NA                     & NA    & NA                 & NA         & NA & NA                 & NA    & NA       & NA    & NA    & NA\\\\\n",
       "\t NA &       NA &       NA & NA & NA                     & NA    & NA                 & NA         & NA & NA                 & NA    & NA       & NA    & NA    & NA\\\\\n",
       "\t NA &       NA &       NA & NA & NA                     & NA    & NA                 & NA         & NA & NA                 & NA    & NA       & NA    & NA    & NA\\\\\n",
       "\t NA &       NA &       NA & NA & NA                     & NA    & NA                 & NA         & NA & NA                 & NA    & NA       & NA    & NA    & NA\\\\\n",
       "\t NA &       NA &       NA & NA & NA                     & NA    & NA                 & NA         & NA & NA                 & NA    & NA       & NA    & NA    & NA\\\\\n",
       "\t NA &       NA &       NA & NA & NA                     & NA    & NA                 & NA         & NA & NA                 & NA    & NA       & NA    & NA    & NA\\\\\n",
       "\t NA &       NA &       NA & NA & NA                     & NA    & NA                 & NA         & NA & NA                 & NA    & NA       & NA    & NA    & NA\\\\\n",
       "\t NA &       NA &       NA & NA & NA                     & NA    & NA                 & NA         & NA & NA                 & NA    & NA       & NA    & NA    & NA\\\\\n",
       "\t NA &       NA &       NA & NA & NA                     & NA    & NA                 & NA         & NA & NA                 & NA    & NA       & NA    & NA    & NA\\\\\n",
       "\t NA &       NA &       NA & NA & NA                     & NA    & NA                 & NA         & NA & NA                 & NA    & NA       & NA    & NA    & NA\\\\\n",
       "\t NA &       NA &       NA & NA & NA                     & NA    & NA                 & NA         & NA & NA                 & NA    & NA       & NA    & NA    & NA\\\\\n",
       "\t NA &       NA &       NA & NA & NA                     & NA    & NA                 & NA         & NA & NA                 & NA    & NA       & NA    & NA    & NA\\\\\n",
       "\t NA &       NA &       NA & NA & NA                     & NA    & NA                 & NA         & NA & NA                 & NA    & NA       & NA    & NA    & NA\\\\\n",
       "\t NA &       NA &       NA & NA & NA                     & NA    & NA                 & NA         & NA & NA                 & NA    & NA       & NA    & NA    & NA\\\\\n",
       "\t NA &       NA &       NA & NA & NA                     & NA    & NA                 & NA         & NA & NA                 & NA    & NA       & NA    & NA    & NA\\\\\n",
       "\t ⋮ & ⋮ & ⋮ & ⋮ & ⋮ & ⋮ & ⋮ & ⋮ & ⋮ & ⋮ & ⋮ & ⋮ & ⋮ & ⋮ & ⋮\\\\\n",
       "\t NA & NA & NA & NA & NA & NA & NA & NA & NA & NA & NA & NA & NA & NA & NA\\\\\n",
       "\t NA & NA & NA & NA & NA & NA & NA & NA & NA & NA & NA & NA & NA & NA & NA\\\\\n",
       "\t NA & NA & NA & NA & NA & NA & NA & NA & NA & NA & NA & NA & NA & NA & NA\\\\\n",
       "\t NA & NA & NA & NA & NA & NA & NA & NA & NA & NA & NA & NA & NA & NA & NA\\\\\n",
       "\t NA & NA & NA & NA & NA & NA & NA & NA & NA & NA & NA & NA & NA & NA & NA\\\\\n",
       "\t NA & NA & NA & NA & NA & NA & NA & NA & NA & NA & NA & NA & NA & NA & NA\\\\\n",
       "\t NA & NA & NA & NA & NA & NA & NA & NA & NA & NA & NA & NA & NA & NA & NA\\\\\n",
       "\t NA & NA & NA & NA & NA & NA & NA & NA & NA & NA & NA & NA & NA & NA & NA\\\\\n",
       "\t NA & NA & NA & NA & NA & NA & NA & NA & NA & NA & NA & NA & NA & NA & NA\\\\\n",
       "\t NA & NA & NA & NA & NA & NA & NA & NA & NA & NA & NA & NA & NA & NA & NA\\\\\n",
       "\t NA & NA & NA & NA & NA & NA & NA & NA & NA & NA & NA & NA & NA & NA & NA\\\\\n",
       "\t NA & NA & NA & NA & NA & NA & NA & NA & NA & NA & NA & NA & NA & NA & NA\\\\\n",
       "\t NA & NA & NA & NA & NA & NA & NA & NA & NA & NA & NA & NA & NA & NA & NA\\\\\n",
       "\t NA & NA & NA & NA & NA & NA & NA & NA & NA & NA & NA & NA & NA & NA & NA\\\\\n",
       "\t NA & NA & NA & NA & NA & NA & NA & NA & NA & NA & NA & NA & NA & NA & NA\\\\\n",
       "\t NA & NA & NA & NA & NA & NA & NA & NA & NA & NA & NA & NA & NA & NA & NA\\\\\n",
       "\t NA & NA & NA & NA & NA & NA & NA & NA & NA & NA & NA & NA & NA & NA & NA\\\\\n",
       "\t NA & NA & NA & NA & NA & NA & NA & NA & NA & NA & NA & NA & NA & NA & NA\\\\\n",
       "\t NA & NA & NA & NA & NA & NA & NA & NA & NA & NA & NA & NA & NA & NA & NA\\\\\n",
       "\t NA & NA & NA & NA & NA & NA & NA & NA & NA & NA & NA & NA & NA & NA & NA\\\\\n",
       "\t NA & NA & NA & NA & NA & NA & NA & NA & NA & NA & NA & NA & NA & NA & NA\\\\\n",
       "\t NA & NA & NA & NA & NA & NA & NA & NA & NA & NA & NA & NA & NA & NA & NA\\\\\n",
       "\t NA & NA & NA & NA & NA & NA & NA & NA & NA & NA & NA & NA & NA & NA & NA\\\\\n",
       "\t NA & NA & NA & NA & NA & NA & NA & NA & NA & NA & NA & NA & NA & NA & NA\\\\\n",
       "\t NA & NA & NA & NA & NA & NA & NA & NA & NA & NA & NA & NA & NA & NA & NA\\\\\n",
       "\t NA & NA & NA & NA & NA & NA & NA & NA & NA & NA & NA & NA & NA & NA & NA\\\\\n",
       "\t NA & NA & NA & NA & NA & NA & NA & NA & NA & NA & NA & NA & NA & NA & NA\\\\\n",
       "\t NA & NA & NA & NA & NA & NA & NA & NA & NA & NA & NA & NA & NA & NA & NA\\\\\n",
       "\t NA & NA & NA & NA & NA & NA & NA & NA & NA & NA & NA & NA & NA & NA & NA\\\\\n",
       "\t NA & NA & NA & NA & NA & NA & NA & NA & NA & NA & NA & NA & NA & NA & NA\\\\\n",
       "\\end{tabular}\n"
      ],
      "text/markdown": [
       "\n",
       "A grouped_df: 111409 × 15\n",
       "\n",
       "| chr &lt;chr&gt; | start &lt;int&gt; | end &lt;int&gt; | strand &lt;chr&gt; | source &lt;chr&gt; | pub.gene.name &lt;chr&gt; | pub.reg.type &lt;chr&gt; | probe &lt;chr&gt; | no.pubs &lt;int&gt; | gencode.reg.type.x &lt;chr&gt; | gencode.gene.name.x &lt;chr&gt; | gencode.reg.type.y &lt;chr&gt; | gencode.gene.name.y &lt;chr&gt; | hybrid.gene.name &lt;chr&gt; | no.total.pubs &lt;int&gt; |\n",
       "|---|---|---|---|---|---|---|---|---|---|---|---|---|---|---|\n",
       "| 11 | 67350213 | 67354127 | +  | Constancio et al. 2019 | GSTP1 | gene_plus_promoter | <!----> |  1 | gene_plus_promoter | GSTP1 | promoter | GSTP1 | GSTP1 | 15 |\n",
       "| 11 | 67350213 | 67354127 | +  | Massie et al. 2017     | GSTP1 | gene_plus_promoter | <!----> | 12 | gene_plus_promoter | GSTP1 | promoter | GSTP1 | GSTP1 | 15 |\n",
       "| 11 | 67350975 | 67350976 | R  | Ylitalo et al 2021     | GSTP1 | EPIC_probe         | cg02659086 |  1 | gene_plus_promoter | GSTP1 | promoter | GSTP1 | GSTP1 | 15 |\n",
       "| 11 | 67351270 | 67351271 | R  | Ylitalo et al 2021     | GSTP1 | EPIC_probe         | cg04920951 |  1 | gene_plus_promoter | GSTP1 | .        | .     | GSTP1 | 15 |\n",
       "| 11 | 67351272 | 67351273 | F  | Ylitalo et al 2021     | GSTP1 | EPIC_probe         | cg26250609 |  1 | gene_plus_promoter | GSTP1 | .        | .     | GSTP1 | 15 |\n",
       "| 11 | 67350213 | 67351213 | +  | Sugiura et al 2021     | GSTP1 | promoter           | <!----> |  1 | gene_plus_promoter | GSTP1 | promoter | GSTP1 | GSTP1 | 15 |\n",
       "| NA |       NA |       NA | NA | NA                     | NA    | NA                 | NA         | NA | NA                 | NA    | NA       | NA    | NA    | NA |\n",
       "| NA |       NA |       NA | NA | NA                     | NA    | NA                 | NA         | NA | NA                 | NA    | NA       | NA    | NA    | NA |\n",
       "| NA |       NA |       NA | NA | NA                     | NA    | NA                 | NA         | NA | NA                 | NA    | NA       | NA    | NA    | NA |\n",
       "| NA |       NA |       NA | NA | NA                     | NA    | NA                 | NA         | NA | NA                 | NA    | NA       | NA    | NA    | NA |\n",
       "| NA |       NA |       NA | NA | NA                     | NA    | NA                 | NA         | NA | NA                 | NA    | NA       | NA    | NA    | NA |\n",
       "| NA |       NA |       NA | NA | NA                     | NA    | NA                 | NA         | NA | NA                 | NA    | NA       | NA    | NA    | NA |\n",
       "| NA |       NA |       NA | NA | NA                     | NA    | NA                 | NA         | NA | NA                 | NA    | NA       | NA    | NA    | NA |\n",
       "| NA |       NA |       NA | NA | NA                     | NA    | NA                 | NA         | NA | NA                 | NA    | NA       | NA    | NA    | NA |\n",
       "| NA |       NA |       NA | NA | NA                     | NA    | NA                 | NA         | NA | NA                 | NA    | NA       | NA    | NA    | NA |\n",
       "| NA |       NA |       NA | NA | NA                     | NA    | NA                 | NA         | NA | NA                 | NA    | NA       | NA    | NA    | NA |\n",
       "| NA |       NA |       NA | NA | NA                     | NA    | NA                 | NA         | NA | NA                 | NA    | NA       | NA    | NA    | NA |\n",
       "| NA |       NA |       NA | NA | NA                     | NA    | NA                 | NA         | NA | NA                 | NA    | NA       | NA    | NA    | NA |\n",
       "| NA |       NA |       NA | NA | NA                     | NA    | NA                 | NA         | NA | NA                 | NA    | NA       | NA    | NA    | NA |\n",
       "| NA |       NA |       NA | NA | NA                     | NA    | NA                 | NA         | NA | NA                 | NA    | NA       | NA    | NA    | NA |\n",
       "| NA |       NA |       NA | NA | NA                     | NA    | NA                 | NA         | NA | NA                 | NA    | NA       | NA    | NA    | NA |\n",
       "| NA |       NA |       NA | NA | NA                     | NA    | NA                 | NA         | NA | NA                 | NA    | NA       | NA    | NA    | NA |\n",
       "| NA |       NA |       NA | NA | NA                     | NA    | NA                 | NA         | NA | NA                 | NA    | NA       | NA    | NA    | NA |\n",
       "| NA |       NA |       NA | NA | NA                     | NA    | NA                 | NA         | NA | NA                 | NA    | NA       | NA    | NA    | NA |\n",
       "| NA |       NA |       NA | NA | NA                     | NA    | NA                 | NA         | NA | NA                 | NA    | NA       | NA    | NA    | NA |\n",
       "| NA |       NA |       NA | NA | NA                     | NA    | NA                 | NA         | NA | NA                 | NA    | NA       | NA    | NA    | NA |\n",
       "| NA |       NA |       NA | NA | NA                     | NA    | NA                 | NA         | NA | NA                 | NA    | NA       | NA    | NA    | NA |\n",
       "| NA |       NA |       NA | NA | NA                     | NA    | NA                 | NA         | NA | NA                 | NA    | NA       | NA    | NA    | NA |\n",
       "| NA |       NA |       NA | NA | NA                     | NA    | NA                 | NA         | NA | NA                 | NA    | NA       | NA    | NA    | NA |\n",
       "| NA |       NA |       NA | NA | NA                     | NA    | NA                 | NA         | NA | NA                 | NA    | NA       | NA    | NA    | NA |\n",
       "| ⋮ | ⋮ | ⋮ | ⋮ | ⋮ | ⋮ | ⋮ | ⋮ | ⋮ | ⋮ | ⋮ | ⋮ | ⋮ | ⋮ | ⋮ |\n",
       "| NA | NA | NA | NA | NA | NA | NA | NA | NA | NA | NA | NA | NA | NA | NA |\n",
       "| NA | NA | NA | NA | NA | NA | NA | NA | NA | NA | NA | NA | NA | NA | NA |\n",
       "| NA | NA | NA | NA | NA | NA | NA | NA | NA | NA | NA | NA | NA | NA | NA |\n",
       "| NA | NA | NA | NA | NA | NA | NA | NA | NA | NA | NA | NA | NA | NA | NA |\n",
       "| NA | NA | NA | NA | NA | NA | NA | NA | NA | NA | NA | NA | NA | NA | NA |\n",
       "| NA | NA | NA | NA | NA | NA | NA | NA | NA | NA | NA | NA | NA | NA | NA |\n",
       "| NA | NA | NA | NA | NA | NA | NA | NA | NA | NA | NA | NA | NA | NA | NA |\n",
       "| NA | NA | NA | NA | NA | NA | NA | NA | NA | NA | NA | NA | NA | NA | NA |\n",
       "| NA | NA | NA | NA | NA | NA | NA | NA | NA | NA | NA | NA | NA | NA | NA |\n",
       "| NA | NA | NA | NA | NA | NA | NA | NA | NA | NA | NA | NA | NA | NA | NA |\n",
       "| NA | NA | NA | NA | NA | NA | NA | NA | NA | NA | NA | NA | NA | NA | NA |\n",
       "| NA | NA | NA | NA | NA | NA | NA | NA | NA | NA | NA | NA | NA | NA | NA |\n",
       "| NA | NA | NA | NA | NA | NA | NA | NA | NA | NA | NA | NA | NA | NA | NA |\n",
       "| NA | NA | NA | NA | NA | NA | NA | NA | NA | NA | NA | NA | NA | NA | NA |\n",
       "| NA | NA | NA | NA | NA | NA | NA | NA | NA | NA | NA | NA | NA | NA | NA |\n",
       "| NA | NA | NA | NA | NA | NA | NA | NA | NA | NA | NA | NA | NA | NA | NA |\n",
       "| NA | NA | NA | NA | NA | NA | NA | NA | NA | NA | NA | NA | NA | NA | NA |\n",
       "| NA | NA | NA | NA | NA | NA | NA | NA | NA | NA | NA | NA | NA | NA | NA |\n",
       "| NA | NA | NA | NA | NA | NA | NA | NA | NA | NA | NA | NA | NA | NA | NA |\n",
       "| NA | NA | NA | NA | NA | NA | NA | NA | NA | NA | NA | NA | NA | NA | NA |\n",
       "| NA | NA | NA | NA | NA | NA | NA | NA | NA | NA | NA | NA | NA | NA | NA |\n",
       "| NA | NA | NA | NA | NA | NA | NA | NA | NA | NA | NA | NA | NA | NA | NA |\n",
       "| NA | NA | NA | NA | NA | NA | NA | NA | NA | NA | NA | NA | NA | NA | NA |\n",
       "| NA | NA | NA | NA | NA | NA | NA | NA | NA | NA | NA | NA | NA | NA | NA |\n",
       "| NA | NA | NA | NA | NA | NA | NA | NA | NA | NA | NA | NA | NA | NA | NA |\n",
       "| NA | NA | NA | NA | NA | NA | NA | NA | NA | NA | NA | NA | NA | NA | NA |\n",
       "| NA | NA | NA | NA | NA | NA | NA | NA | NA | NA | NA | NA | NA | NA | NA |\n",
       "| NA | NA | NA | NA | NA | NA | NA | NA | NA | NA | NA | NA | NA | NA | NA |\n",
       "| NA | NA | NA | NA | NA | NA | NA | NA | NA | NA | NA | NA | NA | NA | NA |\n",
       "| NA | NA | NA | NA | NA | NA | NA | NA | NA | NA | NA | NA | NA | NA | NA |\n",
       "\n"
      ],
      "text/plain": [
       "       chr start    end      strand source                 pub.gene.name\n",
       "1      11  67350213 67354127 +      Constancio et al. 2019 GSTP1        \n",
       "2      11  67350213 67354127 +      Massie et al. 2017     GSTP1        \n",
       "3      11  67350975 67350976 R      Ylitalo et al 2021     GSTP1        \n",
       "4      11  67351270 67351271 R      Ylitalo et al 2021     GSTP1        \n",
       "5      11  67351272 67351273 F      Ylitalo et al 2021     GSTP1        \n",
       "6      11  67350213 67351213 +      Sugiura et al 2021     GSTP1        \n",
       "7      NA        NA       NA NA     NA                     NA           \n",
       "8      NA        NA       NA NA     NA                     NA           \n",
       "9      NA        NA       NA NA     NA                     NA           \n",
       "10     NA        NA       NA NA     NA                     NA           \n",
       "11     NA        NA       NA NA     NA                     NA           \n",
       "12     NA        NA       NA NA     NA                     NA           \n",
       "13     NA        NA       NA NA     NA                     NA           \n",
       "14     NA        NA       NA NA     NA                     NA           \n",
       "15     NA        NA       NA NA     NA                     NA           \n",
       "16     NA        NA       NA NA     NA                     NA           \n",
       "17     NA        NA       NA NA     NA                     NA           \n",
       "18     NA        NA       NA NA     NA                     NA           \n",
       "19     NA        NA       NA NA     NA                     NA           \n",
       "20     NA        NA       NA NA     NA                     NA           \n",
       "21     NA        NA       NA NA     NA                     NA           \n",
       "22     NA        NA       NA NA     NA                     NA           \n",
       "23     NA        NA       NA NA     NA                     NA           \n",
       "24     NA        NA       NA NA     NA                     NA           \n",
       "25     NA        NA       NA NA     NA                     NA           \n",
       "26     NA        NA       NA NA     NA                     NA           \n",
       "27     NA        NA       NA NA     NA                     NA           \n",
       "28     NA        NA       NA NA     NA                     NA           \n",
       "29     NA        NA       NA NA     NA                     NA           \n",
       "30     NA        NA       NA NA     NA                     NA           \n",
       "⋮      ⋮   ⋮        ⋮        ⋮      ⋮                      ⋮            \n",
       "111380 NA  NA       NA       NA     NA                     NA           \n",
       "111381 NA  NA       NA       NA     NA                     NA           \n",
       "111382 NA  NA       NA       NA     NA                     NA           \n",
       "111383 NA  NA       NA       NA     NA                     NA           \n",
       "111384 NA  NA       NA       NA     NA                     NA           \n",
       "111385 NA  NA       NA       NA     NA                     NA           \n",
       "111386 NA  NA       NA       NA     NA                     NA           \n",
       "111387 NA  NA       NA       NA     NA                     NA           \n",
       "111388 NA  NA       NA       NA     NA                     NA           \n",
       "111389 NA  NA       NA       NA     NA                     NA           \n",
       "111390 NA  NA       NA       NA     NA                     NA           \n",
       "111391 NA  NA       NA       NA     NA                     NA           \n",
       "111392 NA  NA       NA       NA     NA                     NA           \n",
       "111393 NA  NA       NA       NA     NA                     NA           \n",
       "111394 NA  NA       NA       NA     NA                     NA           \n",
       "111395 NA  NA       NA       NA     NA                     NA           \n",
       "111396 NA  NA       NA       NA     NA                     NA           \n",
       "111397 NA  NA       NA       NA     NA                     NA           \n",
       "111398 NA  NA       NA       NA     NA                     NA           \n",
       "111399 NA  NA       NA       NA     NA                     NA           \n",
       "111400 NA  NA       NA       NA     NA                     NA           \n",
       "111401 NA  NA       NA       NA     NA                     NA           \n",
       "111402 NA  NA       NA       NA     NA                     NA           \n",
       "111403 NA  NA       NA       NA     NA                     NA           \n",
       "111404 NA  NA       NA       NA     NA                     NA           \n",
       "111405 NA  NA       NA       NA     NA                     NA           \n",
       "111406 NA  NA       NA       NA     NA                     NA           \n",
       "111407 NA  NA       NA       NA     NA                     NA           \n",
       "111408 NA  NA       NA       NA     NA                     NA           \n",
       "111409 NA  NA       NA       NA     NA                     NA           \n",
       "       pub.reg.type       probe      no.pubs gencode.reg.type.x\n",
       "1      gene_plus_promoter             1      gene_plus_promoter\n",
       "2      gene_plus_promoter            12      gene_plus_promoter\n",
       "3      EPIC_probe         cg02659086  1      gene_plus_promoter\n",
       "4      EPIC_probe         cg04920951  1      gene_plus_promoter\n",
       "5      EPIC_probe         cg26250609  1      gene_plus_promoter\n",
       "6      promoter                       1      gene_plus_promoter\n",
       "7      NA                 NA         NA      NA                \n",
       "8      NA                 NA         NA      NA                \n",
       "9      NA                 NA         NA      NA                \n",
       "10     NA                 NA         NA      NA                \n",
       "11     NA                 NA         NA      NA                \n",
       "12     NA                 NA         NA      NA                \n",
       "13     NA                 NA         NA      NA                \n",
       "14     NA                 NA         NA      NA                \n",
       "15     NA                 NA         NA      NA                \n",
       "16     NA                 NA         NA      NA                \n",
       "17     NA                 NA         NA      NA                \n",
       "18     NA                 NA         NA      NA                \n",
       "19     NA                 NA         NA      NA                \n",
       "20     NA                 NA         NA      NA                \n",
       "21     NA                 NA         NA      NA                \n",
       "22     NA                 NA         NA      NA                \n",
       "23     NA                 NA         NA      NA                \n",
       "24     NA                 NA         NA      NA                \n",
       "25     NA                 NA         NA      NA                \n",
       "26     NA                 NA         NA      NA                \n",
       "27     NA                 NA         NA      NA                \n",
       "28     NA                 NA         NA      NA                \n",
       "29     NA                 NA         NA      NA                \n",
       "30     NA                 NA         NA      NA                \n",
       "⋮      ⋮                  ⋮          ⋮       ⋮                 \n",
       "111380 NA                 NA         NA      NA                \n",
       "111381 NA                 NA         NA      NA                \n",
       "111382 NA                 NA         NA      NA                \n",
       "111383 NA                 NA         NA      NA                \n",
       "111384 NA                 NA         NA      NA                \n",
       "111385 NA                 NA         NA      NA                \n",
       "111386 NA                 NA         NA      NA                \n",
       "111387 NA                 NA         NA      NA                \n",
       "111388 NA                 NA         NA      NA                \n",
       "111389 NA                 NA         NA      NA                \n",
       "111390 NA                 NA         NA      NA                \n",
       "111391 NA                 NA         NA      NA                \n",
       "111392 NA                 NA         NA      NA                \n",
       "111393 NA                 NA         NA      NA                \n",
       "111394 NA                 NA         NA      NA                \n",
       "111395 NA                 NA         NA      NA                \n",
       "111396 NA                 NA         NA      NA                \n",
       "111397 NA                 NA         NA      NA                \n",
       "111398 NA                 NA         NA      NA                \n",
       "111399 NA                 NA         NA      NA                \n",
       "111400 NA                 NA         NA      NA                \n",
       "111401 NA                 NA         NA      NA                \n",
       "111402 NA                 NA         NA      NA                \n",
       "111403 NA                 NA         NA      NA                \n",
       "111404 NA                 NA         NA      NA                \n",
       "111405 NA                 NA         NA      NA                \n",
       "111406 NA                 NA         NA      NA                \n",
       "111407 NA                 NA         NA      NA                \n",
       "111408 NA                 NA         NA      NA                \n",
       "111409 NA                 NA         NA      NA                \n",
       "       gencode.gene.name.x gencode.reg.type.y gencode.gene.name.y\n",
       "1      GSTP1               promoter           GSTP1              \n",
       "2      GSTP1               promoter           GSTP1              \n",
       "3      GSTP1               promoter           GSTP1              \n",
       "4      GSTP1               .                  .                  \n",
       "5      GSTP1               .                  .                  \n",
       "6      GSTP1               promoter           GSTP1              \n",
       "7      NA                  NA                 NA                 \n",
       "8      NA                  NA                 NA                 \n",
       "9      NA                  NA                 NA                 \n",
       "10     NA                  NA                 NA                 \n",
       "11     NA                  NA                 NA                 \n",
       "12     NA                  NA                 NA                 \n",
       "13     NA                  NA                 NA                 \n",
       "14     NA                  NA                 NA                 \n",
       "15     NA                  NA                 NA                 \n",
       "16     NA                  NA                 NA                 \n",
       "17     NA                  NA                 NA                 \n",
       "18     NA                  NA                 NA                 \n",
       "19     NA                  NA                 NA                 \n",
       "20     NA                  NA                 NA                 \n",
       "21     NA                  NA                 NA                 \n",
       "22     NA                  NA                 NA                 \n",
       "23     NA                  NA                 NA                 \n",
       "24     NA                  NA                 NA                 \n",
       "25     NA                  NA                 NA                 \n",
       "26     NA                  NA                 NA                 \n",
       "27     NA                  NA                 NA                 \n",
       "28     NA                  NA                 NA                 \n",
       "29     NA                  NA                 NA                 \n",
       "30     NA                  NA                 NA                 \n",
       "⋮      ⋮                   ⋮                  ⋮                  \n",
       "111380 NA                  NA                 NA                 \n",
       "111381 NA                  NA                 NA                 \n",
       "111382 NA                  NA                 NA                 \n",
       "111383 NA                  NA                 NA                 \n",
       "111384 NA                  NA                 NA                 \n",
       "111385 NA                  NA                 NA                 \n",
       "111386 NA                  NA                 NA                 \n",
       "111387 NA                  NA                 NA                 \n",
       "111388 NA                  NA                 NA                 \n",
       "111389 NA                  NA                 NA                 \n",
       "111390 NA                  NA                 NA                 \n",
       "111391 NA                  NA                 NA                 \n",
       "111392 NA                  NA                 NA                 \n",
       "111393 NA                  NA                 NA                 \n",
       "111394 NA                  NA                 NA                 \n",
       "111395 NA                  NA                 NA                 \n",
       "111396 NA                  NA                 NA                 \n",
       "111397 NA                  NA                 NA                 \n",
       "111398 NA                  NA                 NA                 \n",
       "111399 NA                  NA                 NA                 \n",
       "111400 NA                  NA                 NA                 \n",
       "111401 NA                  NA                 NA                 \n",
       "111402 NA                  NA                 NA                 \n",
       "111403 NA                  NA                 NA                 \n",
       "111404 NA                  NA                 NA                 \n",
       "111405 NA                  NA                 NA                 \n",
       "111406 NA                  NA                 NA                 \n",
       "111407 NA                  NA                 NA                 \n",
       "111408 NA                  NA                 NA                 \n",
       "111409 NA                  NA                 NA                 \n",
       "       hybrid.gene.name no.total.pubs\n",
       "1      GSTP1            15           \n",
       "2      GSTP1            15           \n",
       "3      GSTP1            15           \n",
       "4      GSTP1            15           \n",
       "5      GSTP1            15           \n",
       "6      GSTP1            15           \n",
       "7      NA               NA           \n",
       "8      NA               NA           \n",
       "9      NA               NA           \n",
       "10     NA               NA           \n",
       "11     NA               NA           \n",
       "12     NA               NA           \n",
       "13     NA               NA           \n",
       "14     NA               NA           \n",
       "15     NA               NA           \n",
       "16     NA               NA           \n",
       "17     NA               NA           \n",
       "18     NA               NA           \n",
       "19     NA               NA           \n",
       "20     NA               NA           \n",
       "21     NA               NA           \n",
       "22     NA               NA           \n",
       "23     NA               NA           \n",
       "24     NA               NA           \n",
       "25     NA               NA           \n",
       "26     NA               NA           \n",
       "27     NA               NA           \n",
       "28     NA               NA           \n",
       "29     NA               NA           \n",
       "30     NA               NA           \n",
       "⋮      ⋮                ⋮            \n",
       "111380 NA               NA           \n",
       "111381 NA               NA           \n",
       "111382 NA               NA           \n",
       "111383 NA               NA           \n",
       "111384 NA               NA           \n",
       "111385 NA               NA           \n",
       "111386 NA               NA           \n",
       "111387 NA               NA           \n",
       "111388 NA               NA           \n",
       "111389 NA               NA           \n",
       "111390 NA               NA           \n",
       "111391 NA               NA           \n",
       "111392 NA               NA           \n",
       "111393 NA               NA           \n",
       "111394 NA               NA           \n",
       "111395 NA               NA           \n",
       "111396 NA               NA           \n",
       "111397 NA               NA           \n",
       "111398 NA               NA           \n",
       "111399 NA               NA           \n",
       "111400 NA               NA           \n",
       "111401 NA               NA           \n",
       "111402 NA               NA           \n",
       "111403 NA               NA           \n",
       "111404 NA               NA           \n",
       "111405 NA               NA           \n",
       "111406 NA               NA           \n",
       "111407 NA               NA           \n",
       "111408 NA               NA           \n",
       "111409 NA               NA           "
      ]
     },
     "metadata": {},
     "output_type": "display_data"
    }
   ],
   "source": [
    "df_all_annot$hybrid.gene.name = ifelse(df_all_annot$pub.gene.name==\"none\", \n",
    "                                        df_all_annot$gencode.gene.name.x,\n",
    "                                        df_all_annot$pub.gene.name)\n",
    "df_all_annot2 = df_all_annot %>% group_by(hybrid.gene.name) %>% \n",
    "   mutate(no.total.pubs= sum(no.pubs) - sum(duplicated(source))) #note there are no duplicate gene names for source Massie\n",
    "\n",
    "df_all_annot2[df_all_annot2$pub.gene.name==\"GSTP1\",]"
   ]
  },
  {
   "cell_type": "code",
   "execution_count": 381,
   "id": "109621c8",
   "metadata": {},
   "outputs": [
    {
     "data": {
      "text/plain": [
       "\n",
       "     1      2      3      4      5      6      7      8     15 \n",
       "  5442 113753    789    284     88     34     21     44      6 "
      ]
     },
     "metadata": {},
     "output_type": "display_data"
    }
   ],
   "source": [
    "#df = df_all_annot2[df_all_annot2$gencode.gene.name!=\"Y_RNA\",]\n",
    "table(df_all_annot2$no.total.pubs)\n",
    "#df_all_annot2[df_all_annot2$no.total.pubs==15,]"
   ]
  },
  {
   "cell_type": "code",
   "execution_count": 409,
   "id": "61128507",
   "metadata": {},
   "outputs": [
    {
     "data": {
      "text/html": [
       "<table class=\"dataframe\">\n",
       "<caption>A grouped_df: 6 × 18</caption>\n",
       "<thead>\n",
       "\t<tr><th scope=col>chr</th><th scope=col>start</th><th scope=col>end</th><th scope=col>strand</th><th scope=col>source</th><th scope=col>pub.gene.name</th><th scope=col>pub.reg.type</th><th scope=col>probe</th><th scope=col>no.pubs</th><th scope=col>gencode.reg.type.x</th><th scope=col>gencode.gene.name.x</th><th scope=col>gencode.reg.type.y</th><th scope=col>gencode.gene.name.y</th><th scope=col>hybrid.gene.name</th><th scope=col>no.total.pubs</th><th scope=col>in.gencode.promoter</th><th scope=col>gencode.gene.name</th><th scope=col>pub.strand</th></tr>\n",
       "\t<tr><th scope=col>&lt;chr&gt;</th><th scope=col>&lt;int&gt;</th><th scope=col>&lt;int&gt;</th><th scope=col>&lt;chr&gt;</th><th scope=col>&lt;chr&gt;</th><th scope=col>&lt;chr&gt;</th><th scope=col>&lt;chr&gt;</th><th scope=col>&lt;chr&gt;</th><th scope=col>&lt;int&gt;</th><th scope=col>&lt;chr&gt;</th><th scope=col>&lt;chr&gt;</th><th scope=col>&lt;chr&gt;</th><th scope=col>&lt;chr&gt;</th><th scope=col>&lt;chr&gt;</th><th scope=col>&lt;int&gt;</th><th scope=col>&lt;lgl&gt;</th><th scope=col>&lt;chr&gt;</th><th scope=col>&lt;chr&gt;</th></tr>\n",
       "</thead>\n",
       "<tbody>\n",
       "\t<tr><td>11</td><td>67350213</td><td>67354127</td><td>+</td><td>Constancio et al. 2019</td><td>GSTP1</td><td>gene_plus_promoter</td><td>          </td><td> 1</td><td>gene_plus_promoter</td><td>GSTP1</td><td>promoter</td><td>GSTP1</td><td>GSTP1</td><td>15</td><td> TRUE</td><td>GSTP1</td><td>+</td></tr>\n",
       "\t<tr><td>11</td><td>67350213</td><td>67354127</td><td>+</td><td>Massie et al. 2017    </td><td>GSTP1</td><td>gene_plus_promoter</td><td>          </td><td>12</td><td>gene_plus_promoter</td><td>GSTP1</td><td>promoter</td><td>GSTP1</td><td>GSTP1</td><td>15</td><td> TRUE</td><td>GSTP1</td><td>+</td></tr>\n",
       "\t<tr><td>11</td><td>67350975</td><td>67350976</td><td>R</td><td>Ylitalo et al 2021    </td><td>GSTP1</td><td>EPIC_probe        </td><td>cg02659086</td><td> 1</td><td>gene_plus_promoter</td><td>GSTP1</td><td>promoter</td><td>GSTP1</td><td>GSTP1</td><td>15</td><td> TRUE</td><td>GSTP1</td><td>-</td></tr>\n",
       "\t<tr><td>11</td><td>67351270</td><td>67351271</td><td>R</td><td>Ylitalo et al 2021    </td><td>GSTP1</td><td>EPIC_probe        </td><td>cg04920951</td><td> 1</td><td>gene_plus_promoter</td><td>GSTP1</td><td>.       </td><td>.    </td><td>GSTP1</td><td>15</td><td>FALSE</td><td>GSTP1</td><td>-</td></tr>\n",
       "\t<tr><td>11</td><td>67351272</td><td>67351273</td><td>F</td><td>Ylitalo et al 2021    </td><td>GSTP1</td><td>EPIC_probe        </td><td>cg26250609</td><td> 1</td><td>gene_plus_promoter</td><td>GSTP1</td><td>.       </td><td>.    </td><td>GSTP1</td><td>15</td><td>FALSE</td><td>GSTP1</td><td>+</td></tr>\n",
       "\t<tr><td>11</td><td>67350213</td><td>67351213</td><td>+</td><td>Sugiura et al 2021    </td><td>GSTP1</td><td>promoter          </td><td>          </td><td> 1</td><td>gene_plus_promoter</td><td>GSTP1</td><td>promoter</td><td>GSTP1</td><td>GSTP1</td><td>15</td><td> TRUE</td><td>GSTP1</td><td>+</td></tr>\n",
       "</tbody>\n",
       "</table>\n"
      ],
      "text/latex": [
       "A grouped\\_df: 6 × 18\n",
       "\\begin{tabular}{llllllllllllllllll}\n",
       " chr & start & end & strand & source & pub.gene.name & pub.reg.type & probe & no.pubs & gencode.reg.type.x & gencode.gene.name.x & gencode.reg.type.y & gencode.gene.name.y & hybrid.gene.name & no.total.pubs & in.gencode.promoter & gencode.gene.name & pub.strand\\\\\n",
       " <chr> & <int> & <int> & <chr> & <chr> & <chr> & <chr> & <chr> & <int> & <chr> & <chr> & <chr> & <chr> & <chr> & <int> & <lgl> & <chr> & <chr>\\\\\n",
       "\\hline\n",
       "\t 11 & 67350213 & 67354127 & + & Constancio et al. 2019 & GSTP1 & gene\\_plus\\_promoter &            &  1 & gene\\_plus\\_promoter & GSTP1 & promoter & GSTP1 & GSTP1 & 15 &  TRUE & GSTP1 & +\\\\\n",
       "\t 11 & 67350213 & 67354127 & + & Massie et al. 2017     & GSTP1 & gene\\_plus\\_promoter &            & 12 & gene\\_plus\\_promoter & GSTP1 & promoter & GSTP1 & GSTP1 & 15 &  TRUE & GSTP1 & +\\\\\n",
       "\t 11 & 67350975 & 67350976 & R & Ylitalo et al 2021     & GSTP1 & EPIC\\_probe         & cg02659086 &  1 & gene\\_plus\\_promoter & GSTP1 & promoter & GSTP1 & GSTP1 & 15 &  TRUE & GSTP1 & -\\\\\n",
       "\t 11 & 67351270 & 67351271 & R & Ylitalo et al 2021     & GSTP1 & EPIC\\_probe         & cg04920951 &  1 & gene\\_plus\\_promoter & GSTP1 & .        & .     & GSTP1 & 15 & FALSE & GSTP1 & -\\\\\n",
       "\t 11 & 67351272 & 67351273 & F & Ylitalo et al 2021     & GSTP1 & EPIC\\_probe         & cg26250609 &  1 & gene\\_plus\\_promoter & GSTP1 & .        & .     & GSTP1 & 15 & FALSE & GSTP1 & +\\\\\n",
       "\t 11 & 67350213 & 67351213 & + & Sugiura et al 2021     & GSTP1 & promoter           &            &  1 & gene\\_plus\\_promoter & GSTP1 & promoter & GSTP1 & GSTP1 & 15 &  TRUE & GSTP1 & +\\\\\n",
       "\\end{tabular}\n"
      ],
      "text/markdown": [
       "\n",
       "A grouped_df: 6 × 18\n",
       "\n",
       "| chr &lt;chr&gt; | start &lt;int&gt; | end &lt;int&gt; | strand &lt;chr&gt; | source &lt;chr&gt; | pub.gene.name &lt;chr&gt; | pub.reg.type &lt;chr&gt; | probe &lt;chr&gt; | no.pubs &lt;int&gt; | gencode.reg.type.x &lt;chr&gt; | gencode.gene.name.x &lt;chr&gt; | gencode.reg.type.y &lt;chr&gt; | gencode.gene.name.y &lt;chr&gt; | hybrid.gene.name &lt;chr&gt; | no.total.pubs &lt;int&gt; | in.gencode.promoter &lt;lgl&gt; | gencode.gene.name &lt;chr&gt; | pub.strand &lt;chr&gt; |\n",
       "|---|---|---|---|---|---|---|---|---|---|---|---|---|---|---|---|---|---|\n",
       "| 11 | 67350213 | 67354127 | + | Constancio et al. 2019 | GSTP1 | gene_plus_promoter | <!----> |  1 | gene_plus_promoter | GSTP1 | promoter | GSTP1 | GSTP1 | 15 |  TRUE | GSTP1 | + |\n",
       "| 11 | 67350213 | 67354127 | + | Massie et al. 2017     | GSTP1 | gene_plus_promoter | <!----> | 12 | gene_plus_promoter | GSTP1 | promoter | GSTP1 | GSTP1 | 15 |  TRUE | GSTP1 | + |\n",
       "| 11 | 67350975 | 67350976 | R | Ylitalo et al 2021     | GSTP1 | EPIC_probe         | cg02659086 |  1 | gene_plus_promoter | GSTP1 | promoter | GSTP1 | GSTP1 | 15 |  TRUE | GSTP1 | - |\n",
       "| 11 | 67351270 | 67351271 | R | Ylitalo et al 2021     | GSTP1 | EPIC_probe         | cg04920951 |  1 | gene_plus_promoter | GSTP1 | .        | .     | GSTP1 | 15 | FALSE | GSTP1 | - |\n",
       "| 11 | 67351272 | 67351273 | F | Ylitalo et al 2021     | GSTP1 | EPIC_probe         | cg26250609 |  1 | gene_plus_promoter | GSTP1 | .        | .     | GSTP1 | 15 | FALSE | GSTP1 | + |\n",
       "| 11 | 67350213 | 67351213 | + | Sugiura et al 2021     | GSTP1 | promoter           | <!----> |  1 | gene_plus_promoter | GSTP1 | promoter | GSTP1 | GSTP1 | 15 |  TRUE | GSTP1 | + |\n",
       "\n"
      ],
      "text/plain": [
       "  chr start    end      strand source                 pub.gene.name\n",
       "1 11  67350213 67354127 +      Constancio et al. 2019 GSTP1        \n",
       "2 11  67350213 67354127 +      Massie et al. 2017     GSTP1        \n",
       "3 11  67350975 67350976 R      Ylitalo et al 2021     GSTP1        \n",
       "4 11  67351270 67351271 R      Ylitalo et al 2021     GSTP1        \n",
       "5 11  67351272 67351273 F      Ylitalo et al 2021     GSTP1        \n",
       "6 11  67350213 67351213 +      Sugiura et al 2021     GSTP1        \n",
       "  pub.reg.type       probe      no.pubs gencode.reg.type.x gencode.gene.name.x\n",
       "1 gene_plus_promoter             1      gene_plus_promoter GSTP1              \n",
       "2 gene_plus_promoter            12      gene_plus_promoter GSTP1              \n",
       "3 EPIC_probe         cg02659086  1      gene_plus_promoter GSTP1              \n",
       "4 EPIC_probe         cg04920951  1      gene_plus_promoter GSTP1              \n",
       "5 EPIC_probe         cg26250609  1      gene_plus_promoter GSTP1              \n",
       "6 promoter                       1      gene_plus_promoter GSTP1              \n",
       "  gencode.reg.type.y gencode.gene.name.y hybrid.gene.name no.total.pubs\n",
       "1 promoter           GSTP1               GSTP1            15           \n",
       "2 promoter           GSTP1               GSTP1            15           \n",
       "3 promoter           GSTP1               GSTP1            15           \n",
       "4 .                  .                   GSTP1            15           \n",
       "5 .                  .                   GSTP1            15           \n",
       "6 promoter           GSTP1               GSTP1            15           \n",
       "  in.gencode.promoter gencode.gene.name pub.strand\n",
       "1  TRUE               GSTP1             +         \n",
       "2  TRUE               GSTP1             +         \n",
       "3  TRUE               GSTP1             -         \n",
       "4 FALSE               GSTP1             -         \n",
       "5 FALSE               GSTP1             +         \n",
       "6  TRUE               GSTP1             +         "
      ]
     },
     "metadata": {},
     "output_type": "display_data"
    }
   ],
   "source": [
    "df_all_annot2$in.gencode.promoter = ifelse(df_all_annot2$gencode.reg.type.y==\"promoter\", TRUE, FALSE)\n",
    "df_all_annot2$gencode.gene.name <- df_all_annot2$gencode.gene.name.x\n",
    "df_all_annot2$pub.strand <- ifelse(df_all_annot2$strand==\"R\",\"-\",\n",
    "                                     ifelse(df_all_annot2$strand==\"F\",\"+\",df_all_annot2$strand))\n",
    "df_all_annot2[df_all_annot2$gencode.gene.name==\"GSTP1\",]"
   ]
  },
  {
   "cell_type": "code",
   "execution_count": 410,
   "id": "f30289f5",
   "metadata": {},
   "outputs": [
    {
     "data": {
      "text/plain": [
       "\n",
       "     1      2      3      4      5      6      7      8     15 \n",
       "  5442 113753    789    284     88     34     21     44      6 "
      ]
     },
     "metadata": {},
     "output_type": "display_data"
    }
   ],
   "source": [
    "cols=c(\"chr\",\"start\",\"end\",\"hybrid.gene.name\",\"pub.strand\",\"pub.gene.name\",\"pub.reg.type\",\"gencode.gene.name\",\"in.gencode.promoter\",\"probe\",\"source\",\"no.pubs\",\"no.total.pubs\")\n",
    "write.table(df_all_annot2, file=\"./marker_collation/all_lit_regions_wcoords_annot_hg19_10052022.bed\",\n",
    "            row.names=FALSE,col.names=TRUE,sep=\"\\t\",quote=FALSE)\n",
    "table(df_all_annot2$no.total.pubs)"
   ]
  },
  {
   "cell_type": "markdown",
   "id": "186f2912",
   "metadata": {},
   "source": [
    "## TCGA and ECM overlaps"
   ]
  },
  {
   "cell_type": "code",
   "execution_count": null,
   "id": "6d491e83",
   "metadata": {},
   "outputs": [],
   "source": [
    "# sort -k1,1 -k2,2 -k3,3 -n all_lit_regions_wcoords_annot_hg19_10052022.bed >all_lit_regions_wcoords_annot_hg19_10052022_sorted.bed "
   ]
  },
  {
   "cell_type": "code",
   "execution_count": null,
   "id": "affcd3d9",
   "metadata": {},
   "outputs": [],
   "source": [
    "# bedtools intersect -a all_lit_regions_wcoords_annot_hg19_10052022_sorted.bed   -b ECM_DMRs_raw_Hang_05172022_sorted.bed -wao > all_regions_ECM_overlap.out\n",
    "# bedtools intersect -a all_lit_regions_wcoords_annot_hg19_10052022_sorted.bed  -b ../TCGA_PRAD_DMRS_Hang_05172022_sorted.bed -wao > all_regions_TCGA_overlap.out"
   ]
  },
  {
   "cell_type": "code",
   "execution_count": 412,
   "id": "8a164dcd",
   "metadata": {},
   "outputs": [
    {
     "data": {
      "text/html": [
       "<table class=\"dataframe\">\n",
       "<caption>A data.frame: 6 × 38</caption>\n",
       "<thead>\n",
       "\t<tr><th></th><th scope=col>V1</th><th scope=col>V2</th><th scope=col>V3</th><th scope=col>V4</th><th scope=col>V5</th><th scope=col>V6</th><th scope=col>V7</th><th scope=col>V8</th><th scope=col>V9</th><th scope=col>V10</th><th scope=col>⋯</th><th scope=col>V29</th><th scope=col>V30</th><th scope=col>V31</th><th scope=col>V32</th><th scope=col>V33</th><th scope=col>V34</th><th scope=col>V35</th><th scope=col>V36</th><th scope=col>V37</th><th scope=col>V38</th></tr>\n",
       "\t<tr><th></th><th scope=col>&lt;chr&gt;</th><th scope=col>&lt;int&gt;</th><th scope=col>&lt;int&gt;</th><th scope=col>&lt;chr&gt;</th><th scope=col>&lt;chr&gt;</th><th scope=col>&lt;chr&gt;</th><th scope=col>&lt;chr&gt;</th><th scope=col>&lt;chr&gt;</th><th scope=col>&lt;int&gt;</th><th scope=col>&lt;chr&gt;</th><th scope=col>⋯</th><th scope=col>&lt;chr&gt;</th><th scope=col>&lt;chr&gt;</th><th scope=col>&lt;chr&gt;</th><th scope=col>&lt;chr&gt;</th><th scope=col>&lt;chr&gt;</th><th scope=col>&lt;chr&gt;</th><th scope=col>&lt;chr&gt;</th><th scope=col>&lt;chr&gt;</th><th scope=col>&lt;chr&gt;</th><th scope=col>&lt;int&gt;</th></tr>\n",
       "</thead>\n",
       "<tbody>\n",
       "\t<tr><th scope=row>1</th><td>Un_gl000241</td><td> 613</td><td> 773</td><td>.</td><td>Zhao et al 2020</td><td>NA</td><td>DMR</td><td>NA</td><td>1</td><td>.</td><td>⋯</td><td>.</td><td>.</td><td>.</td><td>.</td><td>.</td><td>.</td><td>.</td><td>.</td><td>.</td><td>0</td></tr>\n",
       "\t<tr><th scope=row>2</th><td>Un_gl000235</td><td>1719</td><td>1794</td><td>.</td><td>Zhao et al 2020</td><td>NA</td><td>DMR</td><td>NA</td><td>1</td><td>.</td><td>⋯</td><td>.</td><td>.</td><td>.</td><td>.</td><td>.</td><td>.</td><td>.</td><td>.</td><td>.</td><td>0</td></tr>\n",
       "\t<tr><th scope=row>3</th><td>Un_gl000237</td><td>2192</td><td>2271</td><td>.</td><td>Zhao et al 2020</td><td>NA</td><td>DMR</td><td>NA</td><td>1</td><td>.</td><td>⋯</td><td>.</td><td>.</td><td>.</td><td>.</td><td>.</td><td>.</td><td>.</td><td>.</td><td>.</td><td>0</td></tr>\n",
       "\t<tr><th scope=row>4</th><td>Un_gl000229</td><td>2437</td><td>2503</td><td>.</td><td>Zhao et al 2020</td><td>NA</td><td>DMR</td><td>NA</td><td>1</td><td>.</td><td>⋯</td><td>.</td><td>.</td><td>.</td><td>.</td><td>.</td><td>.</td><td>.</td><td>.</td><td>.</td><td>0</td></tr>\n",
       "\t<tr><th scope=row>5</th><td>Un_gl000232</td><td>2702</td><td>3175</td><td>.</td><td>Zhao et al 2020</td><td>NA</td><td>DMR</td><td>NA</td><td>1</td><td>.</td><td>⋯</td><td>.</td><td>.</td><td>.</td><td>.</td><td>.</td><td>.</td><td>.</td><td>.</td><td>.</td><td>0</td></tr>\n",
       "\t<tr><th scope=row>6</th><td>Un_gl000229</td><td>2796</td><td>2914</td><td>.</td><td>Zhao et al 2020</td><td>NA</td><td>DMR</td><td>NA</td><td>1</td><td>.</td><td>⋯</td><td>.</td><td>.</td><td>.</td><td>.</td><td>.</td><td>.</td><td>.</td><td>.</td><td>.</td><td>0</td></tr>\n",
       "</tbody>\n",
       "</table>\n"
      ],
      "text/latex": [
       "A data.frame: 6 × 38\n",
       "\\begin{tabular}{r|lllllllllllllllllllll}\n",
       "  & V1 & V2 & V3 & V4 & V5 & V6 & V7 & V8 & V9 & V10 & ⋯ & V29 & V30 & V31 & V32 & V33 & V34 & V35 & V36 & V37 & V38\\\\\n",
       "  & <chr> & <int> & <int> & <chr> & <chr> & <chr> & <chr> & <chr> & <int> & <chr> & ⋯ & <chr> & <chr> & <chr> & <chr> & <chr> & <chr> & <chr> & <chr> & <chr> & <int>\\\\\n",
       "\\hline\n",
       "\t1 & Un\\_gl000241 &  613 &  773 & . & Zhao et al 2020 & NA & DMR & NA & 1 & . & ⋯ & . & . & . & . & . & . & . & . & . & 0\\\\\n",
       "\t2 & Un\\_gl000235 & 1719 & 1794 & . & Zhao et al 2020 & NA & DMR & NA & 1 & . & ⋯ & . & . & . & . & . & . & . & . & . & 0\\\\\n",
       "\t3 & Un\\_gl000237 & 2192 & 2271 & . & Zhao et al 2020 & NA & DMR & NA & 1 & . & ⋯ & . & . & . & . & . & . & . & . & . & 0\\\\\n",
       "\t4 & Un\\_gl000229 & 2437 & 2503 & . & Zhao et al 2020 & NA & DMR & NA & 1 & . & ⋯ & . & . & . & . & . & . & . & . & . & 0\\\\\n",
       "\t5 & Un\\_gl000232 & 2702 & 3175 & . & Zhao et al 2020 & NA & DMR & NA & 1 & . & ⋯ & . & . & . & . & . & . & . & . & . & 0\\\\\n",
       "\t6 & Un\\_gl000229 & 2796 & 2914 & . & Zhao et al 2020 & NA & DMR & NA & 1 & . & ⋯ & . & . & . & . & . & . & . & . & . & 0\\\\\n",
       "\\end{tabular}\n"
      ],
      "text/markdown": [
       "\n",
       "A data.frame: 6 × 38\n",
       "\n",
       "| <!--/--> | V1 &lt;chr&gt; | V2 &lt;int&gt; | V3 &lt;int&gt; | V4 &lt;chr&gt; | V5 &lt;chr&gt; | V6 &lt;chr&gt; | V7 &lt;chr&gt; | V8 &lt;chr&gt; | V9 &lt;int&gt; | V10 &lt;chr&gt; | ⋯ ⋯ | V29 &lt;chr&gt; | V30 &lt;chr&gt; | V31 &lt;chr&gt; | V32 &lt;chr&gt; | V33 &lt;chr&gt; | V34 &lt;chr&gt; | V35 &lt;chr&gt; | V36 &lt;chr&gt; | V37 &lt;chr&gt; | V38 &lt;int&gt; |\n",
       "|---|---|---|---|---|---|---|---|---|---|---|---|---|---|---|---|---|---|---|---|---|---|\n",
       "| 1 | Un_gl000241 |  613 |  773 | . | Zhao et al 2020 | NA | DMR | NA | 1 | . | ⋯ | . | . | . | . | . | . | . | . | . | 0 |\n",
       "| 2 | Un_gl000235 | 1719 | 1794 | . | Zhao et al 2020 | NA | DMR | NA | 1 | . | ⋯ | . | . | . | . | . | . | . | . | . | 0 |\n",
       "| 3 | Un_gl000237 | 2192 | 2271 | . | Zhao et al 2020 | NA | DMR | NA | 1 | . | ⋯ | . | . | . | . | . | . | . | . | . | 0 |\n",
       "| 4 | Un_gl000229 | 2437 | 2503 | . | Zhao et al 2020 | NA | DMR | NA | 1 | . | ⋯ | . | . | . | . | . | . | . | . | . | 0 |\n",
       "| 5 | Un_gl000232 | 2702 | 3175 | . | Zhao et al 2020 | NA | DMR | NA | 1 | . | ⋯ | . | . | . | . | . | . | . | . | . | 0 |\n",
       "| 6 | Un_gl000229 | 2796 | 2914 | . | Zhao et al 2020 | NA | DMR | NA | 1 | . | ⋯ | . | . | . | . | . | . | . | . | . | 0 |\n",
       "\n"
      ],
      "text/plain": [
       "  V1          V2   V3   V4 V5              V6 V7  V8 V9 V10 ⋯ V29 V30 V31 V32\n",
       "1 Un_gl000241  613  773 .  Zhao et al 2020 NA DMR NA 1  .   ⋯ .   .   .   .  \n",
       "2 Un_gl000235 1719 1794 .  Zhao et al 2020 NA DMR NA 1  .   ⋯ .   .   .   .  \n",
       "3 Un_gl000237 2192 2271 .  Zhao et al 2020 NA DMR NA 1  .   ⋯ .   .   .   .  \n",
       "4 Un_gl000229 2437 2503 .  Zhao et al 2020 NA DMR NA 1  .   ⋯ .   .   .   .  \n",
       "5 Un_gl000232 2702 3175 .  Zhao et al 2020 NA DMR NA 1  .   ⋯ .   .   .   .  \n",
       "6 Un_gl000229 2796 2914 .  Zhao et al 2020 NA DMR NA 1  .   ⋯ .   .   .   .  \n",
       "  V33 V34 V35 V36 V37 V38\n",
       "1 .   .   .   .   .   0  \n",
       "2 .   .   .   .   .   0  \n",
       "3 .   .   .   .   .   0  \n",
       "4 .   .   .   .   .   0  \n",
       "5 .   .   .   .   .   0  \n",
       "6 .   .   .   .   .   0  "
      ]
     },
     "metadata": {},
     "output_type": "display_data"
    },
    {
     "data": {
      "text/html": [
       "<table class=\"dataframe\">\n",
       "<caption>A data.frame: 6 × 6</caption>\n",
       "<thead>\n",
       "\t<tr><th></th><th scope=col>chr</th><th scope=col>start</th><th scope=col>end</th><th scope=col>source</th><th scope=col>gencode.gene</th><th scope=col>bp.tcga.overlap</th></tr>\n",
       "\t<tr><th></th><th scope=col>&lt;chr&gt;</th><th scope=col>&lt;int&gt;</th><th scope=col>&lt;int&gt;</th><th scope=col>&lt;chr&gt;</th><th scope=col>&lt;chr&gt;</th><th scope=col>&lt;int&gt;</th></tr>\n",
       "</thead>\n",
       "<tbody>\n",
       "\t<tr><th scope=row>1</th><td>Un_gl000241</td><td> 613</td><td> 773</td><td>Zhao et al 2020</td><td>none</td><td>0</td></tr>\n",
       "\t<tr><th scope=row>2</th><td>Un_gl000235</td><td>1719</td><td>1794</td><td>Zhao et al 2020</td><td>none</td><td>0</td></tr>\n",
       "\t<tr><th scope=row>3</th><td>Un_gl000237</td><td>2192</td><td>2271</td><td>Zhao et al 2020</td><td>none</td><td>0</td></tr>\n",
       "\t<tr><th scope=row>4</th><td>Un_gl000229</td><td>2437</td><td>2503</td><td>Zhao et al 2020</td><td>none</td><td>0</td></tr>\n",
       "\t<tr><th scope=row>5</th><td>Un_gl000232</td><td>2702</td><td>3175</td><td>Zhao et al 2020</td><td>none</td><td>0</td></tr>\n",
       "\t<tr><th scope=row>6</th><td>Un_gl000229</td><td>2796</td><td>2914</td><td>Zhao et al 2020</td><td>none</td><td>0</td></tr>\n",
       "</tbody>\n",
       "</table>\n"
      ],
      "text/latex": [
       "A data.frame: 6 × 6\n",
       "\\begin{tabular}{r|llllll}\n",
       "  & chr & start & end & source & gencode.gene & bp.tcga.overlap\\\\\n",
       "  & <chr> & <int> & <int> & <chr> & <chr> & <int>\\\\\n",
       "\\hline\n",
       "\t1 & Un\\_gl000241 &  613 &  773 & Zhao et al 2020 & none & 0\\\\\n",
       "\t2 & Un\\_gl000235 & 1719 & 1794 & Zhao et al 2020 & none & 0\\\\\n",
       "\t3 & Un\\_gl000237 & 2192 & 2271 & Zhao et al 2020 & none & 0\\\\\n",
       "\t4 & Un\\_gl000229 & 2437 & 2503 & Zhao et al 2020 & none & 0\\\\\n",
       "\t5 & Un\\_gl000232 & 2702 & 3175 & Zhao et al 2020 & none & 0\\\\\n",
       "\t6 & Un\\_gl000229 & 2796 & 2914 & Zhao et al 2020 & none & 0\\\\\n",
       "\\end{tabular}\n"
      ],
      "text/markdown": [
       "\n",
       "A data.frame: 6 × 6\n",
       "\n",
       "| <!--/--> | chr &lt;chr&gt; | start &lt;int&gt; | end &lt;int&gt; | source &lt;chr&gt; | gencode.gene &lt;chr&gt; | bp.tcga.overlap &lt;int&gt; |\n",
       "|---|---|---|---|---|---|---|\n",
       "| 1 | Un_gl000241 |  613 |  773 | Zhao et al 2020 | none | 0 |\n",
       "| 2 | Un_gl000235 | 1719 | 1794 | Zhao et al 2020 | none | 0 |\n",
       "| 3 | Un_gl000237 | 2192 | 2271 | Zhao et al 2020 | none | 0 |\n",
       "| 4 | Un_gl000229 | 2437 | 2503 | Zhao et al 2020 | none | 0 |\n",
       "| 5 | Un_gl000232 | 2702 | 3175 | Zhao et al 2020 | none | 0 |\n",
       "| 6 | Un_gl000229 | 2796 | 2914 | Zhao et al 2020 | none | 0 |\n",
       "\n"
      ],
      "text/plain": [
       "  chr         start end  source          gencode.gene bp.tcga.overlap\n",
       "1 Un_gl000241  613   773 Zhao et al 2020 none         0              \n",
       "2 Un_gl000235 1719  1794 Zhao et al 2020 none         0              \n",
       "3 Un_gl000237 2192  2271 Zhao et al 2020 none         0              \n",
       "4 Un_gl000229 2437  2503 Zhao et al 2020 none         0              \n",
       "5 Un_gl000232 2702  3175 Zhao et al 2020 none         0              \n",
       "6 Un_gl000229 2796  2914 Zhao et al 2020 none         0              "
      ]
     },
     "metadata": {},
     "output_type": "display_data"
    }
   ],
   "source": [
    "df_tcga_ol = read.table(file=\"./marker_collation/all_regions_TCGA_overlap.out\", sep=\"\\t\",header=FALSE)\n",
    "head(df_tcga_ol)\n",
    "df_tcga_ol = df_tcga_ol[,c(\"V1\",\"V2\",\"V3\",\"V5\",\"V6\",\"V38\")]\n",
    "colnames(df_tcga_ol) <- c(\"chr\",\"start\",\"end\",\"source\",\"gencode.gene\",\"bp.tcga.overlap\")\n",
    "df_tcga_ol$gencode.gene[is.na(df_tcga_ol$gencode.gene)] <- \"none\"\n",
    "head(df_tcga_ol)"
   ]
  },
  {
   "cell_type": "code",
   "execution_count": 413,
   "id": "c70f9db7",
   "metadata": {},
   "outputs": [
    {
     "name": "stderr",
     "output_type": "stream",
     "text": [
      "\u001b[1m\u001b[22m`summarise()` has grouped output by 'chr', 'start', 'end'. You can override using the `.groups` argument.\n"
     ]
    }
   ],
   "source": [
    "df_tcga_ol = df_tcga_ol %>% group_by(chr,start,end,source) %>% \n",
    "    summarize(bp.tcga.overlap=sum(bp.tcga.overlap)) %>%\n",
    "    distinct(chr,start,end,source,.keep_all=TRUE) #assumes tcga dmrs are nonoverlapping\n"
   ]
  },
  {
   "cell_type": "code",
   "execution_count": 415,
   "id": "026d712b",
   "metadata": {},
   "outputs": [
    {
     "data": {
      "text/html": [
       "<table class=\"dataframe\">\n",
       "<caption>A data.frame: 6 × 6</caption>\n",
       "<thead>\n",
       "\t<tr><th></th><th scope=col>chr</th><th scope=col>start</th><th scope=col>end</th><th scope=col>source</th><th scope=col>ecm.methyl.status</th><th scope=col>bp.ecm.overlap</th></tr>\n",
       "\t<tr><th></th><th scope=col>&lt;chr&gt;</th><th scope=col>&lt;int&gt;</th><th scope=col>&lt;int&gt;</th><th scope=col>&lt;chr&gt;</th><th scope=col>&lt;chr&gt;</th><th scope=col>&lt;int&gt;</th></tr>\n",
       "</thead>\n",
       "<tbody>\n",
       "\t<tr><th scope=row>1</th><td>Un_gl000241</td><td> 613</td><td> 773</td><td>Zhao et al 2020</td><td>.</td><td>0</td></tr>\n",
       "\t<tr><th scope=row>2</th><td>Un_gl000235</td><td>1719</td><td>1794</td><td>Zhao et al 2020</td><td>.</td><td>0</td></tr>\n",
       "\t<tr><th scope=row>3</th><td>Un_gl000237</td><td>2192</td><td>2271</td><td>Zhao et al 2020</td><td>.</td><td>0</td></tr>\n",
       "\t<tr><th scope=row>4</th><td>Un_gl000229</td><td>2437</td><td>2503</td><td>Zhao et al 2020</td><td>.</td><td>0</td></tr>\n",
       "\t<tr><th scope=row>5</th><td>Un_gl000232</td><td>2702</td><td>3175</td><td>Zhao et al 2020</td><td>.</td><td>0</td></tr>\n",
       "\t<tr><th scope=row>6</th><td>Un_gl000229</td><td>2796</td><td>2914</td><td>Zhao et al 2020</td><td>.</td><td>0</td></tr>\n",
       "</tbody>\n",
       "</table>\n"
      ],
      "text/latex": [
       "A data.frame: 6 × 6\n",
       "\\begin{tabular}{r|llllll}\n",
       "  & chr & start & end & source & ecm.methyl.status & bp.ecm.overlap\\\\\n",
       "  & <chr> & <int> & <int> & <chr> & <chr> & <int>\\\\\n",
       "\\hline\n",
       "\t1 & Un\\_gl000241 &  613 &  773 & Zhao et al 2020 & . & 0\\\\\n",
       "\t2 & Un\\_gl000235 & 1719 & 1794 & Zhao et al 2020 & . & 0\\\\\n",
       "\t3 & Un\\_gl000237 & 2192 & 2271 & Zhao et al 2020 & . & 0\\\\\n",
       "\t4 & Un\\_gl000229 & 2437 & 2503 & Zhao et al 2020 & . & 0\\\\\n",
       "\t5 & Un\\_gl000232 & 2702 & 3175 & Zhao et al 2020 & . & 0\\\\\n",
       "\t6 & Un\\_gl000229 & 2796 & 2914 & Zhao et al 2020 & . & 0\\\\\n",
       "\\end{tabular}\n"
      ],
      "text/markdown": [
       "\n",
       "A data.frame: 6 × 6\n",
       "\n",
       "| <!--/--> | chr &lt;chr&gt; | start &lt;int&gt; | end &lt;int&gt; | source &lt;chr&gt; | ecm.methyl.status &lt;chr&gt; | bp.ecm.overlap &lt;int&gt; |\n",
       "|---|---|---|---|---|---|---|\n",
       "| 1 | Un_gl000241 |  613 |  773 | Zhao et al 2020 | . | 0 |\n",
       "| 2 | Un_gl000235 | 1719 | 1794 | Zhao et al 2020 | . | 0 |\n",
       "| 3 | Un_gl000237 | 2192 | 2271 | Zhao et al 2020 | . | 0 |\n",
       "| 4 | Un_gl000229 | 2437 | 2503 | Zhao et al 2020 | . | 0 |\n",
       "| 5 | Un_gl000232 | 2702 | 3175 | Zhao et al 2020 | . | 0 |\n",
       "| 6 | Un_gl000229 | 2796 | 2914 | Zhao et al 2020 | . | 0 |\n",
       "\n"
      ],
      "text/plain": [
       "  chr         start end  source          ecm.methyl.status bp.ecm.overlap\n",
       "1 Un_gl000241  613   773 Zhao et al 2020 .                 0             \n",
       "2 Un_gl000235 1719  1794 Zhao et al 2020 .                 0             \n",
       "3 Un_gl000237 2192  2271 Zhao et al 2020 .                 0             \n",
       "4 Un_gl000229 2437  2503 Zhao et al 2020 .                 0             \n",
       "5 Un_gl000232 2702  3175 Zhao et al 2020 .                 0             \n",
       "6 Un_gl000229 2796  2914 Zhao et al 2020 .                 0             "
      ]
     },
     "metadata": {},
     "output_type": "display_data"
    }
   ],
   "source": [
    "df_ecm_ol = read.table(file=\"./marker_collation/all_regions_ECM_overlap.out\", sep=\"\\t\", header=FALSE)\n",
    "#head(df_ecm_ol)\n",
    "df_ecm_ol = df_ecm_ol[,c(\"V1\",\"V2\",\"V3\",\"V5\",'V25',\"V26\")]\n",
    "colnames(df_ecm_ol) <- c(\"chr\",\"start\",\"end\",\"source\",\"ecm.methyl.status\",\"bp.ecm.overlap\")\n",
    "head(df_ecm_ol)\n"
   ]
  },
  {
   "cell_type": "code",
   "execution_count": 416,
   "id": "5c9f5a9f",
   "metadata": {},
   "outputs": [
    {
     "name": "stderr",
     "output_type": "stream",
     "text": [
      "\u001b[1m\u001b[22m`summarise()` has grouped output by 'chr', 'start', 'end', 'source'. You can override using the `.groups` argument.\n"
     ]
    },
    {
     "data": {
      "text/html": [
       "<table class=\"dataframe\">\n",
       "<caption>A grouped_df: 6 × 6</caption>\n",
       "<thead>\n",
       "\t<tr><th scope=col>chr</th><th scope=col>start</th><th scope=col>end</th><th scope=col>source</th><th scope=col>bp.ecm.overlap</th><th scope=col>ecm.methyl.status</th></tr>\n",
       "\t<tr><th scope=col>&lt;chr&gt;</th><th scope=col>&lt;int&gt;</th><th scope=col>&lt;int&gt;</th><th scope=col>&lt;chr&gt;</th><th scope=col>&lt;int&gt;</th><th scope=col>&lt;chr&gt;</th></tr>\n",
       "</thead>\n",
       "<tbody>\n",
       "\t<tr><td>1</td><td> 29194</td><td> 29436</td><td>Zhao et al 2020</td><td>0</td><td>.</td></tr>\n",
       "\t<tr><td>1</td><td> 51588</td><td> 51682</td><td>Zhao et al 2020</td><td>0</td><td>.</td></tr>\n",
       "\t<tr><td>1</td><td>535828</td><td>535879</td><td>Zhao et al 2020</td><td>0</td><td>.</td></tr>\n",
       "\t<tr><td>1</td><td>566459</td><td>566739</td><td>Zhao et al 2020</td><td>0</td><td>.</td></tr>\n",
       "\t<tr><td>1</td><td>566813</td><td>566880</td><td>Zhao et al 2020</td><td>0</td><td>.</td></tr>\n",
       "\t<tr><td>1</td><td>567113</td><td>567239</td><td>Zhao et al 2020</td><td>0</td><td>.</td></tr>\n",
       "</tbody>\n",
       "</table>\n"
      ],
      "text/latex": [
       "A grouped\\_df: 6 × 6\n",
       "\\begin{tabular}{llllll}\n",
       " chr & start & end & source & bp.ecm.overlap & ecm.methyl.status\\\\\n",
       " <chr> & <int> & <int> & <chr> & <int> & <chr>\\\\\n",
       "\\hline\n",
       "\t 1 &  29194 &  29436 & Zhao et al 2020 & 0 & .\\\\\n",
       "\t 1 &  51588 &  51682 & Zhao et al 2020 & 0 & .\\\\\n",
       "\t 1 & 535828 & 535879 & Zhao et al 2020 & 0 & .\\\\\n",
       "\t 1 & 566459 & 566739 & Zhao et al 2020 & 0 & .\\\\\n",
       "\t 1 & 566813 & 566880 & Zhao et al 2020 & 0 & .\\\\\n",
       "\t 1 & 567113 & 567239 & Zhao et al 2020 & 0 & .\\\\\n",
       "\\end{tabular}\n"
      ],
      "text/markdown": [
       "\n",
       "A grouped_df: 6 × 6\n",
       "\n",
       "| chr &lt;chr&gt; | start &lt;int&gt; | end &lt;int&gt; | source &lt;chr&gt; | bp.ecm.overlap &lt;int&gt; | ecm.methyl.status &lt;chr&gt; |\n",
       "|---|---|---|---|---|---|\n",
       "| 1 |  29194 |  29436 | Zhao et al 2020 | 0 | . |\n",
       "| 1 |  51588 |  51682 | Zhao et al 2020 | 0 | . |\n",
       "| 1 | 535828 | 535879 | Zhao et al 2020 | 0 | . |\n",
       "| 1 | 566459 | 566739 | Zhao et al 2020 | 0 | . |\n",
       "| 1 | 566813 | 566880 | Zhao et al 2020 | 0 | . |\n",
       "| 1 | 567113 | 567239 | Zhao et al 2020 | 0 | . |\n",
       "\n"
      ],
      "text/plain": [
       "  chr start  end    source          bp.ecm.overlap ecm.methyl.status\n",
       "1 1    29194  29436 Zhao et al 2020 0              .                \n",
       "2 1    51588  51682 Zhao et al 2020 0              .                \n",
       "3 1   535828 535879 Zhao et al 2020 0              .                \n",
       "4 1   566459 566739 Zhao et al 2020 0              .                \n",
       "5 1   566813 566880 Zhao et al 2020 0              .                \n",
       "6 1   567113 567239 Zhao et al 2020 0              .                "
      ]
     },
     "metadata": {},
     "output_type": "display_data"
    }
   ],
   "source": [
    "df_ecm_ol = df_ecm_ol %>% group_by(chr,start,end,source) %>% \n",
    "    summarize(bp.ecm.overlap=sum(bp.ecm.overlap),ecm.methyl.status=ecm.methyl.status) %>%\n",
    "    distinct(chr,start,end,source,.keep_all=TRUE)#assumes ecm dmrs are nonoverlapping\n",
    "head(df_ecm_ol)"
   ]
  },
  {
   "cell_type": "code",
   "execution_count": 417,
   "id": "30ad0bea",
   "metadata": {},
   "outputs": [
    {
     "data": {
      "text/html": [
       "<table class=\"dataframe\">\n",
       "<caption>A data.frame: 6 × 18</caption>\n",
       "<thead>\n",
       "\t<tr><th></th><th scope=col>chr</th><th scope=col>start</th><th scope=col>end</th><th scope=col>strand</th><th scope=col>source</th><th scope=col>pub.gene.name</th><th scope=col>pub.reg.type</th><th scope=col>probe</th><th scope=col>no.pubs</th><th scope=col>gencode.reg.type.x</th><th scope=col>gencode.gene.name.x</th><th scope=col>gencode.reg.type.y</th><th scope=col>gencode.gene.name.y</th><th scope=col>hybrid.gene.name</th><th scope=col>no.total.pubs</th><th scope=col>in.gencode.promoter</th><th scope=col>gencode.gene.name</th><th scope=col>pub.strand</th></tr>\n",
       "\t<tr><th></th><th scope=col>&lt;chr&gt;</th><th scope=col>&lt;int&gt;</th><th scope=col>&lt;int&gt;</th><th scope=col>&lt;chr&gt;</th><th scope=col>&lt;chr&gt;</th><th scope=col>&lt;chr&gt;</th><th scope=col>&lt;chr&gt;</th><th scope=col>&lt;chr&gt;</th><th scope=col>&lt;int&gt;</th><th scope=col>&lt;chr&gt;</th><th scope=col>&lt;chr&gt;</th><th scope=col>&lt;chr&gt;</th><th scope=col>&lt;chr&gt;</th><th scope=col>&lt;chr&gt;</th><th scope=col>&lt;int&gt;</th><th scope=col>&lt;lgl&gt;</th><th scope=col>&lt;chr&gt;</th><th scope=col>&lt;chr&gt;</th></tr>\n",
       "</thead>\n",
       "<tbody>\n",
       "\t<tr><th scope=row>8</th><td>11</td><td>67350213</td><td>67354127</td><td>+</td><td>Constancio et al. 2019</td><td>GSTP1</td><td>gene_plus_promoter</td><td>          </td><td> 1</td><td>gene_plus_promoter</td><td>GSTP1</td><td>promoter</td><td>GSTP1</td><td>GSTP1</td><td>15</td><td> TRUE</td><td>GSTP1</td><td>+</td></tr>\n",
       "\t<tr><th scope=row>15</th><td>11</td><td>67350213</td><td>67354127</td><td>+</td><td>Massie et al. 2017    </td><td>GSTP1</td><td>gene_plus_promoter</td><td>          </td><td>12</td><td>gene_plus_promoter</td><td>GSTP1</td><td>promoter</td><td>GSTP1</td><td>GSTP1</td><td>15</td><td> TRUE</td><td>GSTP1</td><td>+</td></tr>\n",
       "\t<tr><th scope=row>4834</th><td>11</td><td>67350975</td><td>67350976</td><td>R</td><td>Ylitalo et al 2021    </td><td>GSTP1</td><td>EPIC_probe        </td><td>cg02659086</td><td> 1</td><td>gene_plus_promoter</td><td>GSTP1</td><td>promoter</td><td>GSTP1</td><td>GSTP1</td><td>15</td><td> TRUE</td><td>GSTP1</td><td>-</td></tr>\n",
       "\t<tr><th scope=row>6180</th><td>11</td><td>67351270</td><td>67351271</td><td>R</td><td>Ylitalo et al 2021    </td><td>GSTP1</td><td>EPIC_probe        </td><td>cg04920951</td><td> 1</td><td>gene_plus_promoter</td><td>GSTP1</td><td>.       </td><td>.    </td><td>GSTP1</td><td>15</td><td>FALSE</td><td>GSTP1</td><td>-</td></tr>\n",
       "\t<tr><th scope=row>6619</th><td>11</td><td>67351272</td><td>67351273</td><td>F</td><td>Ylitalo et al 2021    </td><td>GSTP1</td><td>EPIC_probe        </td><td>cg26250609</td><td> 1</td><td>gene_plus_promoter</td><td>GSTP1</td><td>.       </td><td>.    </td><td>GSTP1</td><td>15</td><td>FALSE</td><td>GSTP1</td><td>+</td></tr>\n",
       "\t<tr><th scope=row>9051</th><td>11</td><td>67350213</td><td>67351213</td><td>+</td><td>Sugiura et al 2021    </td><td>GSTP1</td><td>promoter          </td><td>          </td><td> 1</td><td>gene_plus_promoter</td><td>GSTP1</td><td>promoter</td><td>GSTP1</td><td>GSTP1</td><td>15</td><td> TRUE</td><td>GSTP1</td><td>+</td></tr>\n",
       "</tbody>\n",
       "</table>\n"
      ],
      "text/latex": [
       "A data.frame: 6 × 18\n",
       "\\begin{tabular}{r|llllllllllllllllll}\n",
       "  & chr & start & end & strand & source & pub.gene.name & pub.reg.type & probe & no.pubs & gencode.reg.type.x & gencode.gene.name.x & gencode.reg.type.y & gencode.gene.name.y & hybrid.gene.name & no.total.pubs & in.gencode.promoter & gencode.gene.name & pub.strand\\\\\n",
       "  & <chr> & <int> & <int> & <chr> & <chr> & <chr> & <chr> & <chr> & <int> & <chr> & <chr> & <chr> & <chr> & <chr> & <int> & <lgl> & <chr> & <chr>\\\\\n",
       "\\hline\n",
       "\t8 & 11 & 67350213 & 67354127 & + & Constancio et al. 2019 & GSTP1 & gene\\_plus\\_promoter &            &  1 & gene\\_plus\\_promoter & GSTP1 & promoter & GSTP1 & GSTP1 & 15 &  TRUE & GSTP1 & +\\\\\n",
       "\t15 & 11 & 67350213 & 67354127 & + & Massie et al. 2017     & GSTP1 & gene\\_plus\\_promoter &            & 12 & gene\\_plus\\_promoter & GSTP1 & promoter & GSTP1 & GSTP1 & 15 &  TRUE & GSTP1 & +\\\\\n",
       "\t4834 & 11 & 67350975 & 67350976 & R & Ylitalo et al 2021     & GSTP1 & EPIC\\_probe         & cg02659086 &  1 & gene\\_plus\\_promoter & GSTP1 & promoter & GSTP1 & GSTP1 & 15 &  TRUE & GSTP1 & -\\\\\n",
       "\t6180 & 11 & 67351270 & 67351271 & R & Ylitalo et al 2021     & GSTP1 & EPIC\\_probe         & cg04920951 &  1 & gene\\_plus\\_promoter & GSTP1 & .        & .     & GSTP1 & 15 & FALSE & GSTP1 & -\\\\\n",
       "\t6619 & 11 & 67351272 & 67351273 & F & Ylitalo et al 2021     & GSTP1 & EPIC\\_probe         & cg26250609 &  1 & gene\\_plus\\_promoter & GSTP1 & .        & .     & GSTP1 & 15 & FALSE & GSTP1 & +\\\\\n",
       "\t9051 & 11 & 67350213 & 67351213 & + & Sugiura et al 2021     & GSTP1 & promoter           &            &  1 & gene\\_plus\\_promoter & GSTP1 & promoter & GSTP1 & GSTP1 & 15 &  TRUE & GSTP1 & +\\\\\n",
       "\\end{tabular}\n"
      ],
      "text/markdown": [
       "\n",
       "A data.frame: 6 × 18\n",
       "\n",
       "| <!--/--> | chr &lt;chr&gt; | start &lt;int&gt; | end &lt;int&gt; | strand &lt;chr&gt; | source &lt;chr&gt; | pub.gene.name &lt;chr&gt; | pub.reg.type &lt;chr&gt; | probe &lt;chr&gt; | no.pubs &lt;int&gt; | gencode.reg.type.x &lt;chr&gt; | gencode.gene.name.x &lt;chr&gt; | gencode.reg.type.y &lt;chr&gt; | gencode.gene.name.y &lt;chr&gt; | hybrid.gene.name &lt;chr&gt; | no.total.pubs &lt;int&gt; | in.gencode.promoter &lt;lgl&gt; | gencode.gene.name &lt;chr&gt; | pub.strand &lt;chr&gt; |\n",
       "|---|---|---|---|---|---|---|---|---|---|---|---|---|---|---|---|---|---|---|\n",
       "| 8 | 11 | 67350213 | 67354127 | + | Constancio et al. 2019 | GSTP1 | gene_plus_promoter | <!----> |  1 | gene_plus_promoter | GSTP1 | promoter | GSTP1 | GSTP1 | 15 |  TRUE | GSTP1 | + |\n",
       "| 15 | 11 | 67350213 | 67354127 | + | Massie et al. 2017     | GSTP1 | gene_plus_promoter | <!----> | 12 | gene_plus_promoter | GSTP1 | promoter | GSTP1 | GSTP1 | 15 |  TRUE | GSTP1 | + |\n",
       "| 4834 | 11 | 67350975 | 67350976 | R | Ylitalo et al 2021     | GSTP1 | EPIC_probe         | cg02659086 |  1 | gene_plus_promoter | GSTP1 | promoter | GSTP1 | GSTP1 | 15 |  TRUE | GSTP1 | - |\n",
       "| 6180 | 11 | 67351270 | 67351271 | R | Ylitalo et al 2021     | GSTP1 | EPIC_probe         | cg04920951 |  1 | gene_plus_promoter | GSTP1 | .        | .     | GSTP1 | 15 | FALSE | GSTP1 | - |\n",
       "| 6619 | 11 | 67351272 | 67351273 | F | Ylitalo et al 2021     | GSTP1 | EPIC_probe         | cg26250609 |  1 | gene_plus_promoter | GSTP1 | .        | .     | GSTP1 | 15 | FALSE | GSTP1 | + |\n",
       "| 9051 | 11 | 67350213 | 67351213 | + | Sugiura et al 2021     | GSTP1 | promoter           | <!----> |  1 | gene_plus_promoter | GSTP1 | promoter | GSTP1 | GSTP1 | 15 |  TRUE | GSTP1 | + |\n",
       "\n"
      ],
      "text/plain": [
       "     chr start    end      strand source                 pub.gene.name\n",
       "8    11  67350213 67354127 +      Constancio et al. 2019 GSTP1        \n",
       "15   11  67350213 67354127 +      Massie et al. 2017     GSTP1        \n",
       "4834 11  67350975 67350976 R      Ylitalo et al 2021     GSTP1        \n",
       "6180 11  67351270 67351271 R      Ylitalo et al 2021     GSTP1        \n",
       "6619 11  67351272 67351273 F      Ylitalo et al 2021     GSTP1        \n",
       "9051 11  67350213 67351213 +      Sugiura et al 2021     GSTP1        \n",
       "     pub.reg.type       probe      no.pubs gencode.reg.type.x\n",
       "8    gene_plus_promoter             1      gene_plus_promoter\n",
       "15   gene_plus_promoter            12      gene_plus_promoter\n",
       "4834 EPIC_probe         cg02659086  1      gene_plus_promoter\n",
       "6180 EPIC_probe         cg04920951  1      gene_plus_promoter\n",
       "6619 EPIC_probe         cg26250609  1      gene_plus_promoter\n",
       "9051 promoter                       1      gene_plus_promoter\n",
       "     gencode.gene.name.x gencode.reg.type.y gencode.gene.name.y\n",
       "8    GSTP1               promoter           GSTP1              \n",
       "15   GSTP1               promoter           GSTP1              \n",
       "4834 GSTP1               promoter           GSTP1              \n",
       "6180 GSTP1               .                  .                  \n",
       "6619 GSTP1               .                  .                  \n",
       "9051 GSTP1               promoter           GSTP1              \n",
       "     hybrid.gene.name no.total.pubs in.gencode.promoter gencode.gene.name\n",
       "8    GSTP1            15             TRUE               GSTP1            \n",
       "15   GSTP1            15             TRUE               GSTP1            \n",
       "4834 GSTP1            15             TRUE               GSTP1            \n",
       "6180 GSTP1            15            FALSE               GSTP1            \n",
       "6619 GSTP1            15            FALSE               GSTP1            \n",
       "9051 GSTP1            15             TRUE               GSTP1            \n",
       "     pub.strand\n",
       "8    +         \n",
       "15   +         \n",
       "4834 -         \n",
       "6180 -         \n",
       "6619 +         \n",
       "9051 +         "
      ]
     },
     "metadata": {},
     "output_type": "display_data"
    }
   ],
   "source": [
    "df_all = read.table(file=\"./marker_collation/all_lit_regions_wcoords_annot_hg19_10052022.bed\", sep=\"\\t\",header=TRUE)\n",
    "#head(df_all)\n",
    "#df_all = df_all %>% rename(\"chr\"=\"V1\",\"start\"=\"V2\",\"end\"=\"V3\")\n",
    "df_all$gencode.gene.name[is.na(df_all$gencode.gene.name)] <- \"none\"\n",
    "df_all[df_all$gencode.gene.name==\"GSTP1\",]"
   ]
  },
  {
   "cell_type": "code",
   "execution_count": 418,
   "id": "2f0ccb79",
   "metadata": {},
   "outputs": [],
   "source": [
    "df_all_wtcga = df_all %>% left_join(df_tcga_ol[,c(\"chr\",\"start\",\"end\",\"source\",\"bp.tcga.overlap\")], by=c(\"chr\",\"start\",\"end\",\"source\"))"
   ]
  },
  {
   "cell_type": "code",
   "execution_count": 419,
   "id": "65115503",
   "metadata": {},
   "outputs": [
    {
     "data": {
      "text/html": [
       "<table class=\"dataframe\">\n",
       "<caption>A data.frame: 6 × 21</caption>\n",
       "<thead>\n",
       "\t<tr><th></th><th scope=col>chr</th><th scope=col>start</th><th scope=col>end</th><th scope=col>strand</th><th scope=col>source</th><th scope=col>pub.gene.name</th><th scope=col>pub.reg.type</th><th scope=col>probe</th><th scope=col>no.pubs</th><th scope=col>gencode.reg.type.x</th><th scope=col>⋯</th><th scope=col>gencode.reg.type.y</th><th scope=col>gencode.gene.name.y</th><th scope=col>hybrid.gene.name</th><th scope=col>no.total.pubs</th><th scope=col>in.gencode.promoter</th><th scope=col>gencode.gene.name</th><th scope=col>pub.strand</th><th scope=col>bp.tcga.overlap</th><th scope=col>bp.ecm.overlap</th><th scope=col>ecm.methyl.status</th></tr>\n",
       "\t<tr><th></th><th scope=col>&lt;chr&gt;</th><th scope=col>&lt;int&gt;</th><th scope=col>&lt;int&gt;</th><th scope=col>&lt;chr&gt;</th><th scope=col>&lt;chr&gt;</th><th scope=col>&lt;chr&gt;</th><th scope=col>&lt;chr&gt;</th><th scope=col>&lt;chr&gt;</th><th scope=col>&lt;int&gt;</th><th scope=col>&lt;chr&gt;</th><th scope=col>⋯</th><th scope=col>&lt;chr&gt;</th><th scope=col>&lt;chr&gt;</th><th scope=col>&lt;chr&gt;</th><th scope=col>&lt;int&gt;</th><th scope=col>&lt;lgl&gt;</th><th scope=col>&lt;chr&gt;</th><th scope=col>&lt;chr&gt;</th><th scope=col>&lt;int&gt;</th><th scope=col>&lt;int&gt;</th><th scope=col>&lt;chr&gt;</th></tr>\n",
       "</thead>\n",
       "<tbody>\n",
       "\t<tr><th scope=row>1</th><td>4 </td><td>106066032</td><td>106200973</td><td>+</td><td>Kukkonen et al. 2021</td><td>TET2  </td><td>gene_plus_promoter</td><td></td><td>1</td><td>gene_plus_promoter</td><td>⋯</td><td>promoter</td><td>TET2    </td><td>TET2  </td><td>4</td><td>TRUE</td><td>TET2-AS1</td><td>+</td><td>373</td><td> 630</td><td>hyper</td></tr>\n",
       "\t<tr><th scope=row>2</th><td>20</td><td> 31349191</td><td> 31397165</td><td>+</td><td>Kukkonen et al. 2021</td><td>DNMT3B</td><td>gene_plus_promoter</td><td></td><td>1</td><td>gene_plus_promoter</td><td>⋯</td><td>promoter</td><td>DNMT3B  </td><td>DNMT3B</td><td>2</td><td>TRUE</td><td>DNMT3B  </td><td>+</td><td>  0</td><td> 806</td><td>hyper</td></tr>\n",
       "\t<tr><th scope=row>3</th><td>2 </td><td>209100953</td><td>209131798</td><td>-</td><td>Kukkonen et al. 2021</td><td>IDH1  </td><td>gene_plus_promoter</td><td></td><td>1</td><td>gene_plus_promoter</td><td>⋯</td><td>promoter</td><td>IDH1-AS1</td><td>IDH1  </td><td>1</td><td>TRUE</td><td>IDH1-AS1</td><td>-</td><td>  0</td><td>   0</td><td>.    </td></tr>\n",
       "\t<tr><th scope=row>4</th><td>7 </td><td>140419127</td><td>140625729</td><td>-</td><td>Kukkonen et al. 2021</td><td>BRAF  </td><td>gene_plus_promoter</td><td></td><td>1</td><td>gene_plus_promoter</td><td>⋯</td><td>promoter</td><td>U6      </td><td>BRAF  </td><td>1</td><td>TRUE</td><td>U6      </td><td>-</td><td>  0</td><td>   0</td><td>.    </td></tr>\n",
       "\t<tr><th scope=row>5</th><td>X </td><td> 66762863</td><td> 66950461</td><td>+</td><td>Kukkonen et al. 2021</td><td>AR    </td><td>gene_plus_promoter</td><td></td><td>1</td><td>gene_plus_promoter</td><td>⋯</td><td>promoter</td><td>AR      </td><td>AR    </td><td>2</td><td>TRUE</td><td>AR      </td><td>+</td><td>  0</td><td>   0</td><td>.    </td></tr>\n",
       "\t<tr><th scope=row>6</th><td>8 </td><td>128746680</td><td>128755197</td><td>+</td><td>Kukkonen et al. 2021</td><td>MYC   </td><td>gene_plus_promoter</td><td></td><td>1</td><td>gene_plus_promoter</td><td>⋯</td><td>promoter</td><td>CASC11  </td><td>MYC   </td><td>3</td><td>TRUE</td><td>MYC     </td><td>+</td><td>  0</td><td>1954</td><td>hypo </td></tr>\n",
       "</tbody>\n",
       "</table>\n"
      ],
      "text/latex": [
       "A data.frame: 6 × 21\n",
       "\\begin{tabular}{r|lllllllllllllllllllll}\n",
       "  & chr & start & end & strand & source & pub.gene.name & pub.reg.type & probe & no.pubs & gencode.reg.type.x & ⋯ & gencode.reg.type.y & gencode.gene.name.y & hybrid.gene.name & no.total.pubs & in.gencode.promoter & gencode.gene.name & pub.strand & bp.tcga.overlap & bp.ecm.overlap & ecm.methyl.status\\\\\n",
       "  & <chr> & <int> & <int> & <chr> & <chr> & <chr> & <chr> & <chr> & <int> & <chr> & ⋯ & <chr> & <chr> & <chr> & <int> & <lgl> & <chr> & <chr> & <int> & <int> & <chr>\\\\\n",
       "\\hline\n",
       "\t1 & 4  & 106066032 & 106200973 & + & Kukkonen et al. 2021 & TET2   & gene\\_plus\\_promoter &  & 1 & gene\\_plus\\_promoter & ⋯ & promoter & TET2     & TET2   & 4 & TRUE & TET2-AS1 & + & 373 &  630 & hyper\\\\\n",
       "\t2 & 20 &  31349191 &  31397165 & + & Kukkonen et al. 2021 & DNMT3B & gene\\_plus\\_promoter &  & 1 & gene\\_plus\\_promoter & ⋯ & promoter & DNMT3B   & DNMT3B & 2 & TRUE & DNMT3B   & + &   0 &  806 & hyper\\\\\n",
       "\t3 & 2  & 209100953 & 209131798 & - & Kukkonen et al. 2021 & IDH1   & gene\\_plus\\_promoter &  & 1 & gene\\_plus\\_promoter & ⋯ & promoter & IDH1-AS1 & IDH1   & 1 & TRUE & IDH1-AS1 & - &   0 &    0 & .    \\\\\n",
       "\t4 & 7  & 140419127 & 140625729 & - & Kukkonen et al. 2021 & BRAF   & gene\\_plus\\_promoter &  & 1 & gene\\_plus\\_promoter & ⋯ & promoter & U6       & BRAF   & 1 & TRUE & U6       & - &   0 &    0 & .    \\\\\n",
       "\t5 & X  &  66762863 &  66950461 & + & Kukkonen et al. 2021 & AR     & gene\\_plus\\_promoter &  & 1 & gene\\_plus\\_promoter & ⋯ & promoter & AR       & AR     & 2 & TRUE & AR       & + &   0 &    0 & .    \\\\\n",
       "\t6 & 8  & 128746680 & 128755197 & + & Kukkonen et al. 2021 & MYC    & gene\\_plus\\_promoter &  & 1 & gene\\_plus\\_promoter & ⋯ & promoter & CASC11   & MYC    & 3 & TRUE & MYC      & + &   0 & 1954 & hypo \\\\\n",
       "\\end{tabular}\n"
      ],
      "text/markdown": [
       "\n",
       "A data.frame: 6 × 21\n",
       "\n",
       "| <!--/--> | chr &lt;chr&gt; | start &lt;int&gt; | end &lt;int&gt; | strand &lt;chr&gt; | source &lt;chr&gt; | pub.gene.name &lt;chr&gt; | pub.reg.type &lt;chr&gt; | probe &lt;chr&gt; | no.pubs &lt;int&gt; | gencode.reg.type.x &lt;chr&gt; | ⋯ ⋯ | gencode.reg.type.y &lt;chr&gt; | gencode.gene.name.y &lt;chr&gt; | hybrid.gene.name &lt;chr&gt; | no.total.pubs &lt;int&gt; | in.gencode.promoter &lt;lgl&gt; | gencode.gene.name &lt;chr&gt; | pub.strand &lt;chr&gt; | bp.tcga.overlap &lt;int&gt; | bp.ecm.overlap &lt;int&gt; | ecm.methyl.status &lt;chr&gt; |\n",
       "|---|---|---|---|---|---|---|---|---|---|---|---|---|---|---|---|---|---|---|---|---|---|\n",
       "| 1 | 4  | 106066032 | 106200973 | + | Kukkonen et al. 2021 | TET2   | gene_plus_promoter | <!----> | 1 | gene_plus_promoter | ⋯ | promoter | TET2     | TET2   | 4 | TRUE | TET2-AS1 | + | 373 |  630 | hyper |\n",
       "| 2 | 20 |  31349191 |  31397165 | + | Kukkonen et al. 2021 | DNMT3B | gene_plus_promoter | <!----> | 1 | gene_plus_promoter | ⋯ | promoter | DNMT3B   | DNMT3B | 2 | TRUE | DNMT3B   | + |   0 |  806 | hyper |\n",
       "| 3 | 2  | 209100953 | 209131798 | - | Kukkonen et al. 2021 | IDH1   | gene_plus_promoter | <!----> | 1 | gene_plus_promoter | ⋯ | promoter | IDH1-AS1 | IDH1   | 1 | TRUE | IDH1-AS1 | - |   0 |    0 | .     |\n",
       "| 4 | 7  | 140419127 | 140625729 | - | Kukkonen et al. 2021 | BRAF   | gene_plus_promoter | <!----> | 1 | gene_plus_promoter | ⋯ | promoter | U6       | BRAF   | 1 | TRUE | U6       | - |   0 |    0 | .     |\n",
       "| 5 | X  |  66762863 |  66950461 | + | Kukkonen et al. 2021 | AR     | gene_plus_promoter | <!----> | 1 | gene_plus_promoter | ⋯ | promoter | AR       | AR     | 2 | TRUE | AR       | + |   0 |    0 | .     |\n",
       "| 6 | 8  | 128746680 | 128755197 | + | Kukkonen et al. 2021 | MYC    | gene_plus_promoter | <!----> | 1 | gene_plus_promoter | ⋯ | promoter | CASC11   | MYC    | 3 | TRUE | MYC      | + |   0 | 1954 | hypo  |\n",
       "\n"
      ],
      "text/plain": [
       "  chr start     end       strand source               pub.gene.name\n",
       "1 4   106066032 106200973 +      Kukkonen et al. 2021 TET2         \n",
       "2 20   31349191  31397165 +      Kukkonen et al. 2021 DNMT3B       \n",
       "3 2   209100953 209131798 -      Kukkonen et al. 2021 IDH1         \n",
       "4 7   140419127 140625729 -      Kukkonen et al. 2021 BRAF         \n",
       "5 X    66762863  66950461 +      Kukkonen et al. 2021 AR           \n",
       "6 8   128746680 128755197 +      Kukkonen et al. 2021 MYC          \n",
       "  pub.reg.type       probe no.pubs gencode.reg.type.x ⋯ gencode.reg.type.y\n",
       "1 gene_plus_promoter       1       gene_plus_promoter ⋯ promoter          \n",
       "2 gene_plus_promoter       1       gene_plus_promoter ⋯ promoter          \n",
       "3 gene_plus_promoter       1       gene_plus_promoter ⋯ promoter          \n",
       "4 gene_plus_promoter       1       gene_plus_promoter ⋯ promoter          \n",
       "5 gene_plus_promoter       1       gene_plus_promoter ⋯ promoter          \n",
       "6 gene_plus_promoter       1       gene_plus_promoter ⋯ promoter          \n",
       "  gencode.gene.name.y hybrid.gene.name no.total.pubs in.gencode.promoter\n",
       "1 TET2                TET2             4             TRUE               \n",
       "2 DNMT3B              DNMT3B           2             TRUE               \n",
       "3 IDH1-AS1            IDH1             1             TRUE               \n",
       "4 U6                  BRAF             1             TRUE               \n",
       "5 AR                  AR               2             TRUE               \n",
       "6 CASC11              MYC              3             TRUE               \n",
       "  gencode.gene.name pub.strand bp.tcga.overlap bp.ecm.overlap ecm.methyl.status\n",
       "1 TET2-AS1          +          373              630           hyper            \n",
       "2 DNMT3B            +            0              806           hyper            \n",
       "3 IDH1-AS1          -            0                0           .                \n",
       "4 U6                -            0                0           .                \n",
       "5 AR                +            0                0           .                \n",
       "6 MYC               +            0             1954           hypo             "
      ]
     },
     "metadata": {},
     "output_type": "display_data"
    }
   ],
   "source": [
    "df_all_w_tcga_ecm = df_all_wtcga %>% left_join(df_ecm_ol, \n",
    "                                               by=c(\"chr\",\"start\",\"end\",\"source\"))\n",
    "head(df_all_w_tcga_ecm)"
   ]
  },
  {
   "cell_type": "code",
   "execution_count": 420,
   "id": "5e8802fb",
   "metadata": {},
   "outputs": [
    {
     "data": {
      "text/html": [
       "<table class=\"dataframe\">\n",
       "<caption>A data.frame: 6 × 21</caption>\n",
       "<thead>\n",
       "\t<tr><th></th><th scope=col>chr</th><th scope=col>start</th><th scope=col>end</th><th scope=col>strand</th><th scope=col>source</th><th scope=col>pub.gene.name</th><th scope=col>pub.reg.type</th><th scope=col>probe</th><th scope=col>no.pubs</th><th scope=col>gencode.reg.type.x</th><th scope=col>⋯</th><th scope=col>gencode.reg.type.y</th><th scope=col>gencode.gene.name.y</th><th scope=col>hybrid.gene.name</th><th scope=col>no.total.pubs</th><th scope=col>in.gencode.promoter</th><th scope=col>gencode.gene.name</th><th scope=col>pub.strand</th><th scope=col>bp.tcga.overlap</th><th scope=col>bp.ecm.overlap</th><th scope=col>ecm.methyl.status</th></tr>\n",
       "\t<tr><th></th><th scope=col>&lt;chr&gt;</th><th scope=col>&lt;int&gt;</th><th scope=col>&lt;int&gt;</th><th scope=col>&lt;chr&gt;</th><th scope=col>&lt;chr&gt;</th><th scope=col>&lt;chr&gt;</th><th scope=col>&lt;chr&gt;</th><th scope=col>&lt;chr&gt;</th><th scope=col>&lt;int&gt;</th><th scope=col>&lt;chr&gt;</th><th scope=col>⋯</th><th scope=col>&lt;chr&gt;</th><th scope=col>&lt;chr&gt;</th><th scope=col>&lt;chr&gt;</th><th scope=col>&lt;int&gt;</th><th scope=col>&lt;lgl&gt;</th><th scope=col>&lt;chr&gt;</th><th scope=col>&lt;chr&gt;</th><th scope=col>&lt;int&gt;</th><th scope=col>&lt;int&gt;</th><th scope=col>&lt;chr&gt;</th></tr>\n",
       "</thead>\n",
       "<tbody>\n",
       "\t<tr><th scope=row>8</th><td>11</td><td>67350213</td><td>67354127</td><td>+</td><td>Constancio et al. 2019</td><td>GSTP1</td><td>gene_plus_promoter</td><td>          </td><td> 1</td><td>gene_plus_promoter</td><td>⋯</td><td>promoter</td><td>GSTP1</td><td>GSTP1</td><td>15</td><td> TRUE</td><td>GSTP1</td><td>+</td><td>0</td><td>849</td><td>hyper</td></tr>\n",
       "\t<tr><th scope=row>15</th><td>11</td><td>67350213</td><td>67354127</td><td>+</td><td>Massie et al. 2017    </td><td>GSTP1</td><td>gene_plus_promoter</td><td>          </td><td>12</td><td>gene_plus_promoter</td><td>⋯</td><td>promoter</td><td>GSTP1</td><td>GSTP1</td><td>15</td><td> TRUE</td><td>GSTP1</td><td>+</td><td>0</td><td>849</td><td>hyper</td></tr>\n",
       "\t<tr><th scope=row>4834</th><td>11</td><td>67350975</td><td>67350976</td><td>R</td><td>Ylitalo et al 2021    </td><td>GSTP1</td><td>EPIC_probe        </td><td>cg02659086</td><td> 1</td><td>gene_plus_promoter</td><td>⋯</td><td>promoter</td><td>GSTP1</td><td>GSTP1</td><td>15</td><td> TRUE</td><td>GSTP1</td><td>-</td><td>0</td><td>  0</td><td>.    </td></tr>\n",
       "\t<tr><th scope=row>6180</th><td>11</td><td>67351270</td><td>67351271</td><td>R</td><td>Ylitalo et al 2021    </td><td>GSTP1</td><td>EPIC_probe        </td><td>cg04920951</td><td> 1</td><td>gene_plus_promoter</td><td>⋯</td><td>.       </td><td>.    </td><td>GSTP1</td><td>15</td><td>FALSE</td><td>GSTP1</td><td>-</td><td>0</td><td>  0</td><td>.    </td></tr>\n",
       "\t<tr><th scope=row>6619</th><td>11</td><td>67351272</td><td>67351273</td><td>F</td><td>Ylitalo et al 2021    </td><td>GSTP1</td><td>EPIC_probe        </td><td>cg26250609</td><td> 1</td><td>gene_plus_promoter</td><td>⋯</td><td>.       </td><td>.    </td><td>GSTP1</td><td>15</td><td>FALSE</td><td>GSTP1</td><td>+</td><td>0</td><td>  0</td><td>.    </td></tr>\n",
       "\t<tr><th scope=row>9051</th><td>11</td><td>67350213</td><td>67351213</td><td>+</td><td>Sugiura et al 2021    </td><td>GSTP1</td><td>promoter          </td><td>          </td><td> 1</td><td>gene_plus_promoter</td><td>⋯</td><td>promoter</td><td>GSTP1</td><td>GSTP1</td><td>15</td><td> TRUE</td><td>GSTP1</td><td>+</td><td>0</td><td>  0</td><td>.    </td></tr>\n",
       "</tbody>\n",
       "</table>\n"
      ],
      "text/latex": [
       "A data.frame: 6 × 21\n",
       "\\begin{tabular}{r|lllllllllllllllllllll}\n",
       "  & chr & start & end & strand & source & pub.gene.name & pub.reg.type & probe & no.pubs & gencode.reg.type.x & ⋯ & gencode.reg.type.y & gencode.gene.name.y & hybrid.gene.name & no.total.pubs & in.gencode.promoter & gencode.gene.name & pub.strand & bp.tcga.overlap & bp.ecm.overlap & ecm.methyl.status\\\\\n",
       "  & <chr> & <int> & <int> & <chr> & <chr> & <chr> & <chr> & <chr> & <int> & <chr> & ⋯ & <chr> & <chr> & <chr> & <int> & <lgl> & <chr> & <chr> & <int> & <int> & <chr>\\\\\n",
       "\\hline\n",
       "\t8 & 11 & 67350213 & 67354127 & + & Constancio et al. 2019 & GSTP1 & gene\\_plus\\_promoter &            &  1 & gene\\_plus\\_promoter & ⋯ & promoter & GSTP1 & GSTP1 & 15 &  TRUE & GSTP1 & + & 0 & 849 & hyper\\\\\n",
       "\t15 & 11 & 67350213 & 67354127 & + & Massie et al. 2017     & GSTP1 & gene\\_plus\\_promoter &            & 12 & gene\\_plus\\_promoter & ⋯ & promoter & GSTP1 & GSTP1 & 15 &  TRUE & GSTP1 & + & 0 & 849 & hyper\\\\\n",
       "\t4834 & 11 & 67350975 & 67350976 & R & Ylitalo et al 2021     & GSTP1 & EPIC\\_probe         & cg02659086 &  1 & gene\\_plus\\_promoter & ⋯ & promoter & GSTP1 & GSTP1 & 15 &  TRUE & GSTP1 & - & 0 &   0 & .    \\\\\n",
       "\t6180 & 11 & 67351270 & 67351271 & R & Ylitalo et al 2021     & GSTP1 & EPIC\\_probe         & cg04920951 &  1 & gene\\_plus\\_promoter & ⋯ & .        & .     & GSTP1 & 15 & FALSE & GSTP1 & - & 0 &   0 & .    \\\\\n",
       "\t6619 & 11 & 67351272 & 67351273 & F & Ylitalo et al 2021     & GSTP1 & EPIC\\_probe         & cg26250609 &  1 & gene\\_plus\\_promoter & ⋯ & .        & .     & GSTP1 & 15 & FALSE & GSTP1 & + & 0 &   0 & .    \\\\\n",
       "\t9051 & 11 & 67350213 & 67351213 & + & Sugiura et al 2021     & GSTP1 & promoter           &            &  1 & gene\\_plus\\_promoter & ⋯ & promoter & GSTP1 & GSTP1 & 15 &  TRUE & GSTP1 & + & 0 &   0 & .    \\\\\n",
       "\\end{tabular}\n"
      ],
      "text/markdown": [
       "\n",
       "A data.frame: 6 × 21\n",
       "\n",
       "| <!--/--> | chr &lt;chr&gt; | start &lt;int&gt; | end &lt;int&gt; | strand &lt;chr&gt; | source &lt;chr&gt; | pub.gene.name &lt;chr&gt; | pub.reg.type &lt;chr&gt; | probe &lt;chr&gt; | no.pubs &lt;int&gt; | gencode.reg.type.x &lt;chr&gt; | ⋯ ⋯ | gencode.reg.type.y &lt;chr&gt; | gencode.gene.name.y &lt;chr&gt; | hybrid.gene.name &lt;chr&gt; | no.total.pubs &lt;int&gt; | in.gencode.promoter &lt;lgl&gt; | gencode.gene.name &lt;chr&gt; | pub.strand &lt;chr&gt; | bp.tcga.overlap &lt;int&gt; | bp.ecm.overlap &lt;int&gt; | ecm.methyl.status &lt;chr&gt; |\n",
       "|---|---|---|---|---|---|---|---|---|---|---|---|---|---|---|---|---|---|---|---|---|---|\n",
       "| 8 | 11 | 67350213 | 67354127 | + | Constancio et al. 2019 | GSTP1 | gene_plus_promoter | <!----> |  1 | gene_plus_promoter | ⋯ | promoter | GSTP1 | GSTP1 | 15 |  TRUE | GSTP1 | + | 0 | 849 | hyper |\n",
       "| 15 | 11 | 67350213 | 67354127 | + | Massie et al. 2017     | GSTP1 | gene_plus_promoter | <!----> | 12 | gene_plus_promoter | ⋯ | promoter | GSTP1 | GSTP1 | 15 |  TRUE | GSTP1 | + | 0 | 849 | hyper |\n",
       "| 4834 | 11 | 67350975 | 67350976 | R | Ylitalo et al 2021     | GSTP1 | EPIC_probe         | cg02659086 |  1 | gene_plus_promoter | ⋯ | promoter | GSTP1 | GSTP1 | 15 |  TRUE | GSTP1 | - | 0 |   0 | .     |\n",
       "| 6180 | 11 | 67351270 | 67351271 | R | Ylitalo et al 2021     | GSTP1 | EPIC_probe         | cg04920951 |  1 | gene_plus_promoter | ⋯ | .        | .     | GSTP1 | 15 | FALSE | GSTP1 | - | 0 |   0 | .     |\n",
       "| 6619 | 11 | 67351272 | 67351273 | F | Ylitalo et al 2021     | GSTP1 | EPIC_probe         | cg26250609 |  1 | gene_plus_promoter | ⋯ | .        | .     | GSTP1 | 15 | FALSE | GSTP1 | + | 0 |   0 | .     |\n",
       "| 9051 | 11 | 67350213 | 67351213 | + | Sugiura et al 2021     | GSTP1 | promoter           | <!----> |  1 | gene_plus_promoter | ⋯ | promoter | GSTP1 | GSTP1 | 15 |  TRUE | GSTP1 | + | 0 |   0 | .     |\n",
       "\n"
      ],
      "text/plain": [
       "     chr start    end      strand source                 pub.gene.name\n",
       "8    11  67350213 67354127 +      Constancio et al. 2019 GSTP1        \n",
       "15   11  67350213 67354127 +      Massie et al. 2017     GSTP1        \n",
       "4834 11  67350975 67350976 R      Ylitalo et al 2021     GSTP1        \n",
       "6180 11  67351270 67351271 R      Ylitalo et al 2021     GSTP1        \n",
       "6619 11  67351272 67351273 F      Ylitalo et al 2021     GSTP1        \n",
       "9051 11  67350213 67351213 +      Sugiura et al 2021     GSTP1        \n",
       "     pub.reg.type       probe      no.pubs gencode.reg.type.x ⋯\n",
       "8    gene_plus_promoter             1      gene_plus_promoter ⋯\n",
       "15   gene_plus_promoter            12      gene_plus_promoter ⋯\n",
       "4834 EPIC_probe         cg02659086  1      gene_plus_promoter ⋯\n",
       "6180 EPIC_probe         cg04920951  1      gene_plus_promoter ⋯\n",
       "6619 EPIC_probe         cg26250609  1      gene_plus_promoter ⋯\n",
       "9051 promoter                       1      gene_plus_promoter ⋯\n",
       "     gencode.reg.type.y gencode.gene.name.y hybrid.gene.name no.total.pubs\n",
       "8    promoter           GSTP1               GSTP1            15           \n",
       "15   promoter           GSTP1               GSTP1            15           \n",
       "4834 promoter           GSTP1               GSTP1            15           \n",
       "6180 .                  .                   GSTP1            15           \n",
       "6619 .                  .                   GSTP1            15           \n",
       "9051 promoter           GSTP1               GSTP1            15           \n",
       "     in.gencode.promoter gencode.gene.name pub.strand bp.tcga.overlap\n",
       "8     TRUE               GSTP1             +          0              \n",
       "15    TRUE               GSTP1             +          0              \n",
       "4834  TRUE               GSTP1             -          0              \n",
       "6180 FALSE               GSTP1             -          0              \n",
       "6619 FALSE               GSTP1             +          0              \n",
       "9051  TRUE               GSTP1             +          0              \n",
       "     bp.ecm.overlap ecm.methyl.status\n",
       "8    849            hyper            \n",
       "15   849            hyper            \n",
       "4834   0            .                \n",
       "6180   0            .                \n",
       "6619   0            .                \n",
       "9051   0            .                "
      ]
     },
     "metadata": {},
     "output_type": "display_data"
    }
   ],
   "source": [
    "df_all_w_tcga_ecm[df_all_w_tcga_ecm$gencode.gene.name==\"GSTP1\",]"
   ]
  },
  {
   "cell_type": "code",
   "execution_count": 422,
   "id": "64398543",
   "metadata": {},
   "outputs": [],
   "source": [
    "df_all_w_tcga_ecm = df_all_w_tcga_ecm %>% select(-gencode.reg.type.x, -gencode.reg.type.y,-gencode.gene.name.x,-gencode.gene.name.y)\n",
    "write.table(df_all_w_tcga_ecm, col.names=TRUE, row.names=FALSE, quote=FALSE, sep=\"\\t\",\n",
    "           file=\"./marker_collation/all_lit_regions_annotated_overlaps_10052022.tsv\")"
   ]
  },
  {
   "cell_type": "markdown",
   "id": "720e20fe",
   "metadata": {},
   "source": [
    "## Summarize (UPDATE)"
   ]
  },
  {
   "cell_type": "code",
   "execution_count": null,
   "id": "52b001d6",
   "metadata": {},
   "outputs": [],
   "source": [
    "# pie chart number of publications\n",
    "# pie chart number genes vs intergenic\n",
    "# pie chart intron vs exon etc. \n",
    "# pie chart yes/no overlap with TCGA and ECM"
   ]
  },
  {
   "cell_type": "code",
   "execution_count": 133,
   "id": "17efc318",
   "metadata": {},
   "outputs": [
    {
     "data": {
      "text/html": [
       "<table class=\"dataframe\">\n",
       "<caption>A data.frame: 6 × 23</caption>\n",
       "<thead>\n",
       "\t<tr><th></th><th scope=col>chr_hg19</th><th scope=col>start_hg19</th><th scope=col>end_hg19</th><th scope=col>chr_hg38</th><th scope=col>start_hg38</th><th scope=col>end_hg38</th><th scope=col>pub.strand</th><th scope=col>source</th><th scope=col>pub.gene.name</th><th scope=col>pub.reg.type</th><th scope=col>⋯</th><th scope=col>in.gencode.gene</th><th scope=col>gencode.gene.name</th><th scope=col>in.gencode.promoter</th><th scope=col>is.ingergenic</th><th scope=col>hybrid.gene.name</th><th scope=col>no.total.pubs</th><th scope=col>region</th><th scope=col>bp.tcga.overlap</th><th scope=col>bp.ecm.overlap</th><th scope=col>ecm.methyl.status</th></tr>\n",
       "\t<tr><th></th><th scope=col>&lt;chr&gt;</th><th scope=col>&lt;int&gt;</th><th scope=col>&lt;int&gt;</th><th scope=col>&lt;chr&gt;</th><th scope=col>&lt;int&gt;</th><th scope=col>&lt;int&gt;</th><th scope=col>&lt;chr&gt;</th><th scope=col>&lt;chr&gt;</th><th scope=col>&lt;chr&gt;</th><th scope=col>&lt;chr&gt;</th><th scope=col>⋯</th><th scope=col>&lt;lgl&gt;</th><th scope=col>&lt;chr&gt;</th><th scope=col>&lt;lgl&gt;</th><th scope=col>&lt;lgl&gt;</th><th scope=col>&lt;chr&gt;</th><th scope=col>&lt;int&gt;</th><th scope=col>&lt;chr&gt;</th><th scope=col>&lt;int&gt;</th><th scope=col>&lt;int&gt;</th><th scope=col>&lt;chr&gt;</th></tr>\n",
       "</thead>\n",
       "<tbody>\n",
       "\t<tr><th scope=row>1</th><td>4 </td><td>106067032</td><td>106200973</td><td>chr4 </td><td>105145875</td><td>105279816</td><td>+</td><td>Kukkonen et al. 2021</td><td>TET2  </td><td>gene</td><td>⋯</td><td>TRUE</td><td>TET2-AS1</td><td>TRUE</td><td>FALSE</td><td>TET2  </td><td>4</td><td>4 : 105145875 - 105279816</td><td>373</td><td> 174</td><td>hyper</td></tr>\n",
       "\t<tr><th scope=row>2</th><td>20</td><td> 31350191</td><td> 31397165</td><td>chr20</td><td> 32762385</td><td> 32809359</td><td>+</td><td>Kukkonen et al. 2021</td><td>DNMT3B</td><td>gene</td><td>⋯</td><td>TRUE</td><td>DNMT3B  </td><td>TRUE</td><td>FALSE</td><td>DNMT3B</td><td>2</td><td>20 : 32762385 - 32809359 </td><td>  0</td><td> 806</td><td>hyper</td></tr>\n",
       "\t<tr><th scope=row>3</th><td>2 </td><td>209100953</td><td>209130798</td><td>chr2 </td><td>208236229</td><td>208266074</td><td>-</td><td>Kukkonen et al. 2021</td><td>IDH1  </td><td>gene</td><td>⋯</td><td>TRUE</td><td>IDH1-AS1</td><td>TRUE</td><td>FALSE</td><td>IDH1  </td><td>1</td><td>2 : 208236229 - 208266074</td><td>  0</td><td>   0</td><td>.    </td></tr>\n",
       "\t<tr><th scope=row>4</th><td>7 </td><td>140419127</td><td>140624729</td><td>chr7 </td><td>140719327</td><td>140924929</td><td>-</td><td>Kukkonen et al. 2021</td><td>BRAF  </td><td>gene</td><td>⋯</td><td>TRUE</td><td>RNU6-85P</td><td>TRUE</td><td>FALSE</td><td>BRAF  </td><td>1</td><td>7 : 140719327 - 140924929</td><td>  0</td><td>   0</td><td>.    </td></tr>\n",
       "\t<tr><th scope=row>5</th><td>X </td><td> 66763863</td><td> 66950461</td><td>chrX </td><td> 67544021</td><td> 67730619</td><td>+</td><td>Kukkonen et al. 2021</td><td>AR    </td><td>gene</td><td>⋯</td><td>TRUE</td><td>AR      </td><td>TRUE</td><td>FALSE</td><td>AR    </td><td>2</td><td>X : 67544021 - 67730619  </td><td>  0</td><td>   0</td><td>.    </td></tr>\n",
       "\t<tr><th scope=row>6</th><td>8 </td><td>128747680</td><td>128755197</td><td>chr8 </td><td>127735434</td><td>127742951</td><td>+</td><td>Kukkonen et al. 2021</td><td>MYC   </td><td>gene</td><td>⋯</td><td>TRUE</td><td>MYC     </td><td>TRUE</td><td>FALSE</td><td>MYC   </td><td>3</td><td>8 : 127735434 - 127742951</td><td>  0</td><td>1954</td><td>hypo </td></tr>\n",
       "</tbody>\n",
       "</table>\n"
      ],
      "text/latex": [
       "A data.frame: 6 × 23\n",
       "\\begin{tabular}{r|lllllllllllllllllllll}\n",
       "  & chr\\_hg19 & start\\_hg19 & end\\_hg19 & chr\\_hg38 & start\\_hg38 & end\\_hg38 & pub.strand & source & pub.gene.name & pub.reg.type & ⋯ & in.gencode.gene & gencode.gene.name & in.gencode.promoter & is.ingergenic & hybrid.gene.name & no.total.pubs & region & bp.tcga.overlap & bp.ecm.overlap & ecm.methyl.status\\\\\n",
       "  & <chr> & <int> & <int> & <chr> & <int> & <int> & <chr> & <chr> & <chr> & <chr> & ⋯ & <lgl> & <chr> & <lgl> & <lgl> & <chr> & <int> & <chr> & <int> & <int> & <chr>\\\\\n",
       "\\hline\n",
       "\t1 & 4  & 106067032 & 106200973 & chr4  & 105145875 & 105279816 & + & Kukkonen et al. 2021 & TET2   & gene & ⋯ & TRUE & TET2-AS1 & TRUE & FALSE & TET2   & 4 & 4 : 105145875 - 105279816 & 373 &  174 & hyper\\\\\n",
       "\t2 & 20 &  31350191 &  31397165 & chr20 &  32762385 &  32809359 & + & Kukkonen et al. 2021 & DNMT3B & gene & ⋯ & TRUE & DNMT3B   & TRUE & FALSE & DNMT3B & 2 & 20 : 32762385 - 32809359  &   0 &  806 & hyper\\\\\n",
       "\t3 & 2  & 209100953 & 209130798 & chr2  & 208236229 & 208266074 & - & Kukkonen et al. 2021 & IDH1   & gene & ⋯ & TRUE & IDH1-AS1 & TRUE & FALSE & IDH1   & 1 & 2 : 208236229 - 208266074 &   0 &    0 & .    \\\\\n",
       "\t4 & 7  & 140419127 & 140624729 & chr7  & 140719327 & 140924929 & - & Kukkonen et al. 2021 & BRAF   & gene & ⋯ & TRUE & RNU6-85P & TRUE & FALSE & BRAF   & 1 & 7 : 140719327 - 140924929 &   0 &    0 & .    \\\\\n",
       "\t5 & X  &  66763863 &  66950461 & chrX  &  67544021 &  67730619 & + & Kukkonen et al. 2021 & AR     & gene & ⋯ & TRUE & AR       & TRUE & FALSE & AR     & 2 & X : 67544021 - 67730619   &   0 &    0 & .    \\\\\n",
       "\t6 & 8  & 128747680 & 128755197 & chr8  & 127735434 & 127742951 & + & Kukkonen et al. 2021 & MYC    & gene & ⋯ & TRUE & MYC      & TRUE & FALSE & MYC    & 3 & 8 : 127735434 - 127742951 &   0 & 1954 & hypo \\\\\n",
       "\\end{tabular}\n"
      ],
      "text/markdown": [
       "\n",
       "A data.frame: 6 × 23\n",
       "\n",
       "| <!--/--> | chr_hg19 &lt;chr&gt; | start_hg19 &lt;int&gt; | end_hg19 &lt;int&gt; | chr_hg38 &lt;chr&gt; | start_hg38 &lt;int&gt; | end_hg38 &lt;int&gt; | pub.strand &lt;chr&gt; | source &lt;chr&gt; | pub.gene.name &lt;chr&gt; | pub.reg.type &lt;chr&gt; | ⋯ ⋯ | in.gencode.gene &lt;lgl&gt; | gencode.gene.name &lt;chr&gt; | in.gencode.promoter &lt;lgl&gt; | is.ingergenic &lt;lgl&gt; | hybrid.gene.name &lt;chr&gt; | no.total.pubs &lt;int&gt; | region &lt;chr&gt; | bp.tcga.overlap &lt;int&gt; | bp.ecm.overlap &lt;int&gt; | ecm.methyl.status &lt;chr&gt; |\n",
       "|---|---|---|---|---|---|---|---|---|---|---|---|---|---|---|---|---|---|---|---|---|---|\n",
       "| 1 | 4  | 106067032 | 106200973 | chr4  | 105145875 | 105279816 | + | Kukkonen et al. 2021 | TET2   | gene | ⋯ | TRUE | TET2-AS1 | TRUE | FALSE | TET2   | 4 | 4 : 105145875 - 105279816 | 373 |  174 | hyper |\n",
       "| 2 | 20 |  31350191 |  31397165 | chr20 |  32762385 |  32809359 | + | Kukkonen et al. 2021 | DNMT3B | gene | ⋯ | TRUE | DNMT3B   | TRUE | FALSE | DNMT3B | 2 | 20 : 32762385 - 32809359  |   0 |  806 | hyper |\n",
       "| 3 | 2  | 209100953 | 209130798 | chr2  | 208236229 | 208266074 | - | Kukkonen et al. 2021 | IDH1   | gene | ⋯ | TRUE | IDH1-AS1 | TRUE | FALSE | IDH1   | 1 | 2 : 208236229 - 208266074 |   0 |    0 | .     |\n",
       "| 4 | 7  | 140419127 | 140624729 | chr7  | 140719327 | 140924929 | - | Kukkonen et al. 2021 | BRAF   | gene | ⋯ | TRUE | RNU6-85P | TRUE | FALSE | BRAF   | 1 | 7 : 140719327 - 140924929 |   0 |    0 | .     |\n",
       "| 5 | X  |  66763863 |  66950461 | chrX  |  67544021 |  67730619 | + | Kukkonen et al. 2021 | AR     | gene | ⋯ | TRUE | AR       | TRUE | FALSE | AR     | 2 | X : 67544021 - 67730619   |   0 |    0 | .     |\n",
       "| 6 | 8  | 128747680 | 128755197 | chr8  | 127735434 | 127742951 | + | Kukkonen et al. 2021 | MYC    | gene | ⋯ | TRUE | MYC      | TRUE | FALSE | MYC    | 3 | 8 : 127735434 - 127742951 |   0 | 1954 | hypo  |\n",
       "\n"
      ],
      "text/plain": [
       "  chr_hg19 start_hg19 end_hg19  chr_hg38 start_hg38 end_hg38  pub.strand\n",
       "1 4        106067032  106200973 chr4     105145875  105279816 +         \n",
       "2 20        31350191   31397165 chr20     32762385   32809359 +         \n",
       "3 2        209100953  209130798 chr2     208236229  208266074 -         \n",
       "4 7        140419127  140624729 chr7     140719327  140924929 -         \n",
       "5 X         66763863   66950461 chrX      67544021   67730619 +         \n",
       "6 8        128747680  128755197 chr8     127735434  127742951 +         \n",
       "  source               pub.gene.name pub.reg.type ⋯ in.gencode.gene\n",
       "1 Kukkonen et al. 2021 TET2          gene         ⋯ TRUE           \n",
       "2 Kukkonen et al. 2021 DNMT3B        gene         ⋯ TRUE           \n",
       "3 Kukkonen et al. 2021 IDH1          gene         ⋯ TRUE           \n",
       "4 Kukkonen et al. 2021 BRAF          gene         ⋯ TRUE           \n",
       "5 Kukkonen et al. 2021 AR            gene         ⋯ TRUE           \n",
       "6 Kukkonen et al. 2021 MYC           gene         ⋯ TRUE           \n",
       "  gencode.gene.name in.gencode.promoter is.ingergenic hybrid.gene.name\n",
       "1 TET2-AS1          TRUE                FALSE         TET2            \n",
       "2 DNMT3B            TRUE                FALSE         DNMT3B          \n",
       "3 IDH1-AS1          TRUE                FALSE         IDH1            \n",
       "4 RNU6-85P          TRUE                FALSE         BRAF            \n",
       "5 AR                TRUE                FALSE         AR              \n",
       "6 MYC               TRUE                FALSE         MYC             \n",
       "  no.total.pubs region                    bp.tcga.overlap bp.ecm.overlap\n",
       "1 4             4 : 105145875 - 105279816 373              174          \n",
       "2 2             20 : 32762385 - 32809359    0              806          \n",
       "3 1             2 : 208236229 - 208266074   0                0          \n",
       "4 1             7 : 140719327 - 140924929   0                0          \n",
       "5 2             X : 67544021 - 67730619     0                0          \n",
       "6 3             8 : 127735434 - 127742951   0             1954          \n",
       "  ecm.methyl.status\n",
       "1 hyper            \n",
       "2 hyper            \n",
       "3 .                \n",
       "4 .                \n",
       "5 .                \n",
       "6 hypo             "
      ]
     },
     "metadata": {},
     "output_type": "display_data"
    }
   ],
   "source": [
    "df_all = read.table(file=\"./marker_collation/all_lit_regions_annotated_overlaps_05202022.tsv\", header=TRUE, sep=\"\\t\")\n",
    "head(df_all)"
   ]
  },
  {
   "cell_type": "code",
   "execution_count": 137,
   "id": "fe1a2eb2",
   "metadata": {},
   "outputs": [
    {
     "data": {
      "text/html": [
       "<table class=\"dataframe\">\n",
       "<caption>A data.frame: 20 × 23</caption>\n",
       "<thead>\n",
       "\t<tr><th></th><th scope=col>chr_hg19</th><th scope=col>start_hg19</th><th scope=col>end_hg19</th><th scope=col>chr_hg38</th><th scope=col>start_hg38</th><th scope=col>end_hg38</th><th scope=col>pub.strand</th><th scope=col>source</th><th scope=col>pub.gene.name</th><th scope=col>pub.reg.type</th><th scope=col>⋯</th><th scope=col>in.gencode.gene</th><th scope=col>gencode.gene.name</th><th scope=col>in.gencode.promoter</th><th scope=col>is.ingergenic</th><th scope=col>hybrid.gene.name</th><th scope=col>no.total.pubs</th><th scope=col>region</th><th scope=col>bp.tcga.overlap</th><th scope=col>bp.ecm.overlap</th><th scope=col>ecm.methyl.status</th></tr>\n",
       "\t<tr><th></th><th scope=col>&lt;chr&gt;</th><th scope=col>&lt;int&gt;</th><th scope=col>&lt;int&gt;</th><th scope=col>&lt;chr&gt;</th><th scope=col>&lt;int&gt;</th><th scope=col>&lt;int&gt;</th><th scope=col>&lt;chr&gt;</th><th scope=col>&lt;chr&gt;</th><th scope=col>&lt;chr&gt;</th><th scope=col>&lt;chr&gt;</th><th scope=col>⋯</th><th scope=col>&lt;lgl&gt;</th><th scope=col>&lt;chr&gt;</th><th scope=col>&lt;lgl&gt;</th><th scope=col>&lt;lgl&gt;</th><th scope=col>&lt;chr&gt;</th><th scope=col>&lt;int&gt;</th><th scope=col>&lt;chr&gt;</th><th scope=col>&lt;int&gt;</th><th scope=col>&lt;int&gt;</th><th scope=col>&lt;chr&gt;</th></tr>\n",
       "</thead>\n",
       "<tbody>\n",
       "\t<tr><th scope=row>1</th><td>22</td><td> 43088127</td><td> 43117304</td><td>chr22</td><td> 42692121</td><td> 42721298</td><td>-</td><td>Massie et al. 2017</td><td>A4GALT</td><td>gene      </td><td>⋯</td><td>TRUE</td><td>CYB5R3         </td><td> TRUE</td><td>FALSE</td><td>A4GALT</td><td>2</td><td>22 : 42692121 - 42721298  </td><td>  0</td><td>1420</td><td>hyper</td></tr>\n",
       "\t<tr><th scope=row>2</th><td>16</td><td>  2325882</td><td>  2390747</td><td>chr16</td><td>  2275881</td><td>  2340746</td><td>-</td><td>Massie et al. 2017</td><td>ABCA3 </td><td>gene      </td><td>⋯</td><td>TRUE</td><td>ENSG00000243445</td><td> TRUE</td><td>FALSE</td><td>ABCA3 </td><td>2</td><td>16 : 2275881 - 2340746    </td><td>  0</td><td>   0</td><td>.    </td></tr>\n",
       "\t<tr><th scope=row>3</th><td>2 </td><td>220074494</td><td>220083716</td><td>chr2 </td><td>219209772</td><td>219218994</td><td>-</td><td>Massie et al. 2017</td><td>ABCB6 </td><td>gene      </td><td>⋯</td><td>TRUE</td><td>ABCB6          </td><td> TRUE</td><td>FALSE</td><td>ABCB6 </td><td>2</td><td>2 : 219209772 - 219218994 </td><td>  0</td><td>   0</td><td>.    </td></tr>\n",
       "\t<tr><th scope=row>4</th><td>21</td><td> 43619799</td><td> 43717354</td><td>chr21</td><td> 42199689</td><td> 42297244</td><td>+</td><td>Massie et al. 2017</td><td>ABCG1 </td><td>gene      </td><td>⋯</td><td>TRUE</td><td>RNA5SP492      </td><td> TRUE</td><td>FALSE</td><td>ABCG1 </td><td>2</td><td>21 : 42199689 - 42297244  </td><td>  0</td><td> 761</td><td>hyper</td></tr>\n",
       "\t<tr><th scope=row>5</th><td>10</td><td>116190871</td><td>116527820</td><td>chr10</td><td>114431112</td><td>114768061</td><td>-</td><td>Massie et al. 2017</td><td>ABLIM1</td><td>gene      </td><td>⋯</td><td>TRUE</td><td>ENSG00000229668</td><td> TRUE</td><td>FALSE</td><td>ABLIM1</td><td>2</td><td>10 : 114431112 - 114768061</td><td>  0</td><td> 633</td><td>hyper</td></tr>\n",
       "\t<tr><th scope=row>6</th><td>10</td><td>116264861</td><td>116264863</td><td>chr10</td><td>114505102</td><td>114505104</td><td>+</td><td>Ylitalo et al 2021</td><td>ABLIM1</td><td>EPIC_probe</td><td>⋯</td><td>TRUE</td><td>ABLIM1         </td><td>FALSE</td><td>FALSE</td><td>ABLIM1</td><td>2</td><td>10 : 114505102 - 114505104</td><td>  0</td><td>   0</td><td>.    </td></tr>\n",
       "\t<tr><th scope=row>7</th><td>4 </td><td>  7967037</td><td>  8160559</td><td>chr4 </td><td>  7965310</td><td>  8158832</td><td>-</td><td>Massie et al. 2017</td><td>ABLIM2</td><td>gene      </td><td>⋯</td><td>TRUE</td><td>MIR95          </td><td> TRUE</td><td>FALSE</td><td>ABLIM2</td><td>2</td><td>4 : 7965310 - 8158832     </td><td>  0</td><td>2143</td><td>hyper</td></tr>\n",
       "\t<tr><th scope=row>8</th><td>4 </td><td>  8073800</td><td>  8073802</td><td>chr4 </td><td>  8072073</td><td>  8072075</td><td>-</td><td>Ylitalo et al 2021</td><td>ABLIM2</td><td>EPIC_probe</td><td>⋯</td><td>TRUE</td><td>ABLIM2         </td><td>FALSE</td><td>FALSE</td><td>ABLIM2</td><td>2</td><td>4 : 8072073 - 8072075     </td><td>  0</td><td>   0</td><td>.    </td></tr>\n",
       "\t<tr><th scope=row>9</th><td>17</td><td>   906759</td><td>  1133032</td><td>chr17</td><td>  1003519</td><td>  1229738</td><td>-</td><td>Massie et al. 2017</td><td>ABR   </td><td>gene      </td><td>⋯</td><td>TRUE</td><td>MIR3183        </td><td> TRUE</td><td>FALSE</td><td>ABR   </td><td>2</td><td>17 : 1003519 - 1229738    </td><td>  0</td><td>4101</td><td>hypo </td></tr>\n",
       "\t<tr><th scope=row>10</th><td>17</td><td>  1058209</td><td>  1058211</td><td>chr17</td><td>  1154916</td><td>  1154918</td><td>-</td><td>Ylitalo et al 2021</td><td>ABR   </td><td>EPIC_probe</td><td>⋯</td><td>TRUE</td><td>ABR            </td><td>FALSE</td><td>FALSE</td><td>ABR   </td><td>2</td><td>17 : 1154916 - 1154918    </td><td>  0</td><td>   0</td><td>.    </td></tr>\n",
       "\t<tr><th scope=row>11</th><td>16</td><td> 67691415</td><td> 67694713</td><td>chr16</td><td> 67657512</td><td> 67660810</td><td>-</td><td>Massie et al. 2017</td><td>ACD   </td><td>gene      </td><td>⋯</td><td>TRUE</td><td>ACD            </td><td> TRUE</td><td>FALSE</td><td>ACD   </td><td>2</td><td>16 : 67657512 - 67660810  </td><td>  0</td><td>   0</td><td>.    </td></tr>\n",
       "\t<tr><th scope=row>12</th><td>1 </td><td> 55007930</td><td> 55104865</td><td>chr1 </td><td> 54542257</td><td> 54639192</td><td>+</td><td>Massie et al. 2017</td><td>ACOT11</td><td>gene      </td><td>⋯</td><td>TRUE</td><td>FAM151A        </td><td> TRUE</td><td>FALSE</td><td>ACOT11</td><td>2</td><td>1 : 54542257 - 54639192   </td><td>488</td><td>2554</td><td>hyper</td></tr>\n",
       "\t<tr><th scope=row>13</th><td>1 </td><td> 55013708</td><td> 55013710</td><td>chr1 </td><td> 54548035</td><td> 54548037</td><td>+</td><td>Ylitalo et al 2021</td><td>ACOT11</td><td>EPIC_probe</td><td>⋯</td><td>TRUE</td><td>ACOT11         </td><td>FALSE</td><td>FALSE</td><td>ACOT11</td><td>2</td><td>1 : 54548035 - 54548037   </td><td>  0</td><td>   2</td><td>hyper</td></tr>\n",
       "\t<tr><th scope=row>14</th><td>1 </td><td> 55013418</td><td> 55013420</td><td>chr1 </td><td> 54547745</td><td> 54547747</td><td>+</td><td>Ylitalo et al 2021</td><td>ACOT11</td><td>EPIC_probe</td><td>⋯</td><td>TRUE</td><td>ACOT11         </td><td>FALSE</td><td>FALSE</td><td>ACOT11</td><td>2</td><td>1 : 54547745 - 54547747   </td><td>  0</td><td>   2</td><td>hyper</td></tr>\n",
       "\t<tr><th scope=row>15</th><td>1 </td><td> 55013734</td><td> 55013736</td><td>chr1 </td><td> 54548061</td><td> 54548063</td><td>+</td><td>Ylitalo et al 2021</td><td>ACOT11</td><td>EPIC_probe</td><td>⋯</td><td>TRUE</td><td>ACOT11         </td><td>FALSE</td><td>FALSE</td><td>ACOT11</td><td>2</td><td>1 : 54548061 - 54548063   </td><td>  0</td><td>   2</td><td>hyper</td></tr>\n",
       "\t<tr><th scope=row>16</th><td>2 </td><td>111490116</td><td>111878187</td><td>chr2 </td><td>110732539</td><td>111120610</td><td>+</td><td>Massie et al. 2017</td><td>ACOXL </td><td>gene      </td><td>⋯</td><td>TRUE</td><td>RPL5P9         </td><td> TRUE</td><td>FALSE</td><td>ACOXL </td><td>2</td><td>2 : 110732539 - 111120610 </td><td>  0</td><td>1977</td><td>hypo </td></tr>\n",
       "\t<tr><th scope=row>17</th><td>20</td><td> 24986866</td><td> 25039616</td><td>chr20</td><td> 25006230</td><td> 25058980</td><td>-</td><td>Massie et al. 2017</td><td>ACSS1 </td><td>gene      </td><td>⋯</td><td>TRUE</td><td>ACSS1          </td><td> TRUE</td><td>FALSE</td><td>ACSS1 </td><td>2</td><td>20 : 25006230 - 25058980  </td><td>  0</td><td> 958</td><td>hyper</td></tr>\n",
       "\t<tr><th scope=row>18</th><td>20</td><td> 25013228</td><td> 25013230</td><td>chr20</td><td> 25032592</td><td> 25032594</td><td>-</td><td>Ylitalo et al 2021</td><td>ACSS1 </td><td>EPIC_probe</td><td>⋯</td><td>TRUE</td><td>ACSS1          </td><td>FALSE</td><td>FALSE</td><td>ACSS1 </td><td>2</td><td>20 : 25032592 - 25032594  </td><td>  0</td><td>   2</td><td>hyper</td></tr>\n",
       "\t<tr><th scope=row>19</th><td>20</td><td> 25013522</td><td> 25013524</td><td>chr20</td><td> 25032886</td><td> 25032888</td><td>-</td><td>Ylitalo et al 2021</td><td>ACSS1 </td><td>EPIC_probe</td><td>⋯</td><td>TRUE</td><td>ACSS1          </td><td>FALSE</td><td>FALSE</td><td>ACSS1 </td><td>2</td><td>20 : 25032886 - 25032888  </td><td>  0</td><td>   2</td><td>hyper</td></tr>\n",
       "\t<tr><th scope=row>20</th><td>12</td><td> 81330193</td><td> 81654989</td><td>chr12</td><td> 80936414</td><td> 81261210</td><td>+</td><td>Massie et al. 2017</td><td>ACSS3 </td><td>gene      </td><td>⋯</td><td>TRUE</td><td>MIR4699        </td><td> TRUE</td><td>FALSE</td><td>ACSS3 </td><td>2</td><td>12 : 80936414 - 81261210  </td><td>866</td><td> 356</td><td>hyper</td></tr>\n",
       "</tbody>\n",
       "</table>\n"
      ],
      "text/latex": [
       "A data.frame: 20 × 23\n",
       "\\begin{tabular}{r|lllllllllllllllllllll}\n",
       "  & chr\\_hg19 & start\\_hg19 & end\\_hg19 & chr\\_hg38 & start\\_hg38 & end\\_hg38 & pub.strand & source & pub.gene.name & pub.reg.type & ⋯ & in.gencode.gene & gencode.gene.name & in.gencode.promoter & is.ingergenic & hybrid.gene.name & no.total.pubs & region & bp.tcga.overlap & bp.ecm.overlap & ecm.methyl.status\\\\\n",
       "  & <chr> & <int> & <int> & <chr> & <int> & <int> & <chr> & <chr> & <chr> & <chr> & ⋯ & <lgl> & <chr> & <lgl> & <lgl> & <chr> & <int> & <chr> & <int> & <int> & <chr>\\\\\n",
       "\\hline\n",
       "\t1 & 22 &  43088127 &  43117304 & chr22 &  42692121 &  42721298 & - & Massie et al. 2017 & A4GALT & gene       & ⋯ & TRUE & CYB5R3          &  TRUE & FALSE & A4GALT & 2 & 22 : 42692121 - 42721298   &   0 & 1420 & hyper\\\\\n",
       "\t2 & 16 &   2325882 &   2390747 & chr16 &   2275881 &   2340746 & - & Massie et al. 2017 & ABCA3  & gene       & ⋯ & TRUE & ENSG00000243445 &  TRUE & FALSE & ABCA3  & 2 & 16 : 2275881 - 2340746     &   0 &    0 & .    \\\\\n",
       "\t3 & 2  & 220074494 & 220083716 & chr2  & 219209772 & 219218994 & - & Massie et al. 2017 & ABCB6  & gene       & ⋯ & TRUE & ABCB6           &  TRUE & FALSE & ABCB6  & 2 & 2 : 219209772 - 219218994  &   0 &    0 & .    \\\\\n",
       "\t4 & 21 &  43619799 &  43717354 & chr21 &  42199689 &  42297244 & + & Massie et al. 2017 & ABCG1  & gene       & ⋯ & TRUE & RNA5SP492       &  TRUE & FALSE & ABCG1  & 2 & 21 : 42199689 - 42297244   &   0 &  761 & hyper\\\\\n",
       "\t5 & 10 & 116190871 & 116527820 & chr10 & 114431112 & 114768061 & - & Massie et al. 2017 & ABLIM1 & gene       & ⋯ & TRUE & ENSG00000229668 &  TRUE & FALSE & ABLIM1 & 2 & 10 : 114431112 - 114768061 &   0 &  633 & hyper\\\\\n",
       "\t6 & 10 & 116264861 & 116264863 & chr10 & 114505102 & 114505104 & + & Ylitalo et al 2021 & ABLIM1 & EPIC\\_probe & ⋯ & TRUE & ABLIM1          & FALSE & FALSE & ABLIM1 & 2 & 10 : 114505102 - 114505104 &   0 &    0 & .    \\\\\n",
       "\t7 & 4  &   7967037 &   8160559 & chr4  &   7965310 &   8158832 & - & Massie et al. 2017 & ABLIM2 & gene       & ⋯ & TRUE & MIR95           &  TRUE & FALSE & ABLIM2 & 2 & 4 : 7965310 - 8158832      &   0 & 2143 & hyper\\\\\n",
       "\t8 & 4  &   8073800 &   8073802 & chr4  &   8072073 &   8072075 & - & Ylitalo et al 2021 & ABLIM2 & EPIC\\_probe & ⋯ & TRUE & ABLIM2          & FALSE & FALSE & ABLIM2 & 2 & 4 : 8072073 - 8072075      &   0 &    0 & .    \\\\\n",
       "\t9 & 17 &    906759 &   1133032 & chr17 &   1003519 &   1229738 & - & Massie et al. 2017 & ABR    & gene       & ⋯ & TRUE & MIR3183         &  TRUE & FALSE & ABR    & 2 & 17 : 1003519 - 1229738     &   0 & 4101 & hypo \\\\\n",
       "\t10 & 17 &   1058209 &   1058211 & chr17 &   1154916 &   1154918 & - & Ylitalo et al 2021 & ABR    & EPIC\\_probe & ⋯ & TRUE & ABR             & FALSE & FALSE & ABR    & 2 & 17 : 1154916 - 1154918     &   0 &    0 & .    \\\\\n",
       "\t11 & 16 &  67691415 &  67694713 & chr16 &  67657512 &  67660810 & - & Massie et al. 2017 & ACD    & gene       & ⋯ & TRUE & ACD             &  TRUE & FALSE & ACD    & 2 & 16 : 67657512 - 67660810   &   0 &    0 & .    \\\\\n",
       "\t12 & 1  &  55007930 &  55104865 & chr1  &  54542257 &  54639192 & + & Massie et al. 2017 & ACOT11 & gene       & ⋯ & TRUE & FAM151A         &  TRUE & FALSE & ACOT11 & 2 & 1 : 54542257 - 54639192    & 488 & 2554 & hyper\\\\\n",
       "\t13 & 1  &  55013708 &  55013710 & chr1  &  54548035 &  54548037 & + & Ylitalo et al 2021 & ACOT11 & EPIC\\_probe & ⋯ & TRUE & ACOT11          & FALSE & FALSE & ACOT11 & 2 & 1 : 54548035 - 54548037    &   0 &    2 & hyper\\\\\n",
       "\t14 & 1  &  55013418 &  55013420 & chr1  &  54547745 &  54547747 & + & Ylitalo et al 2021 & ACOT11 & EPIC\\_probe & ⋯ & TRUE & ACOT11          & FALSE & FALSE & ACOT11 & 2 & 1 : 54547745 - 54547747    &   0 &    2 & hyper\\\\\n",
       "\t15 & 1  &  55013734 &  55013736 & chr1  &  54548061 &  54548063 & + & Ylitalo et al 2021 & ACOT11 & EPIC\\_probe & ⋯ & TRUE & ACOT11          & FALSE & FALSE & ACOT11 & 2 & 1 : 54548061 - 54548063    &   0 &    2 & hyper\\\\\n",
       "\t16 & 2  & 111490116 & 111878187 & chr2  & 110732539 & 111120610 & + & Massie et al. 2017 & ACOXL  & gene       & ⋯ & TRUE & RPL5P9          &  TRUE & FALSE & ACOXL  & 2 & 2 : 110732539 - 111120610  &   0 & 1977 & hypo \\\\\n",
       "\t17 & 20 &  24986866 &  25039616 & chr20 &  25006230 &  25058980 & - & Massie et al. 2017 & ACSS1  & gene       & ⋯ & TRUE & ACSS1           &  TRUE & FALSE & ACSS1  & 2 & 20 : 25006230 - 25058980   &   0 &  958 & hyper\\\\\n",
       "\t18 & 20 &  25013228 &  25013230 & chr20 &  25032592 &  25032594 & - & Ylitalo et al 2021 & ACSS1  & EPIC\\_probe & ⋯ & TRUE & ACSS1           & FALSE & FALSE & ACSS1  & 2 & 20 : 25032592 - 25032594   &   0 &    2 & hyper\\\\\n",
       "\t19 & 20 &  25013522 &  25013524 & chr20 &  25032886 &  25032888 & - & Ylitalo et al 2021 & ACSS1  & EPIC\\_probe & ⋯ & TRUE & ACSS1           & FALSE & FALSE & ACSS1  & 2 & 20 : 25032886 - 25032888   &   0 &    2 & hyper\\\\\n",
       "\t20 & 12 &  81330193 &  81654989 & chr12 &  80936414 &  81261210 & + & Massie et al. 2017 & ACSS3  & gene       & ⋯ & TRUE & MIR4699         &  TRUE & FALSE & ACSS3  & 2 & 12 : 80936414 - 81261210   & 866 &  356 & hyper\\\\\n",
       "\\end{tabular}\n"
      ],
      "text/markdown": [
       "\n",
       "A data.frame: 20 × 23\n",
       "\n",
       "| <!--/--> | chr_hg19 &lt;chr&gt; | start_hg19 &lt;int&gt; | end_hg19 &lt;int&gt; | chr_hg38 &lt;chr&gt; | start_hg38 &lt;int&gt; | end_hg38 &lt;int&gt; | pub.strand &lt;chr&gt; | source &lt;chr&gt; | pub.gene.name &lt;chr&gt; | pub.reg.type &lt;chr&gt; | ⋯ ⋯ | in.gencode.gene &lt;lgl&gt; | gencode.gene.name &lt;chr&gt; | in.gencode.promoter &lt;lgl&gt; | is.ingergenic &lt;lgl&gt; | hybrid.gene.name &lt;chr&gt; | no.total.pubs &lt;int&gt; | region &lt;chr&gt; | bp.tcga.overlap &lt;int&gt; | bp.ecm.overlap &lt;int&gt; | ecm.methyl.status &lt;chr&gt; |\n",
       "|---|---|---|---|---|---|---|---|---|---|---|---|---|---|---|---|---|---|---|---|---|---|\n",
       "| 1 | 22 |  43088127 |  43117304 | chr22 |  42692121 |  42721298 | - | Massie et al. 2017 | A4GALT | gene       | ⋯ | TRUE | CYB5R3          |  TRUE | FALSE | A4GALT | 2 | 22 : 42692121 - 42721298   |   0 | 1420 | hyper |\n",
       "| 2 | 16 |   2325882 |   2390747 | chr16 |   2275881 |   2340746 | - | Massie et al. 2017 | ABCA3  | gene       | ⋯ | TRUE | ENSG00000243445 |  TRUE | FALSE | ABCA3  | 2 | 16 : 2275881 - 2340746     |   0 |    0 | .     |\n",
       "| 3 | 2  | 220074494 | 220083716 | chr2  | 219209772 | 219218994 | - | Massie et al. 2017 | ABCB6  | gene       | ⋯ | TRUE | ABCB6           |  TRUE | FALSE | ABCB6  | 2 | 2 : 219209772 - 219218994  |   0 |    0 | .     |\n",
       "| 4 | 21 |  43619799 |  43717354 | chr21 |  42199689 |  42297244 | + | Massie et al. 2017 | ABCG1  | gene       | ⋯ | TRUE | RNA5SP492       |  TRUE | FALSE | ABCG1  | 2 | 21 : 42199689 - 42297244   |   0 |  761 | hyper |\n",
       "| 5 | 10 | 116190871 | 116527820 | chr10 | 114431112 | 114768061 | - | Massie et al. 2017 | ABLIM1 | gene       | ⋯ | TRUE | ENSG00000229668 |  TRUE | FALSE | ABLIM1 | 2 | 10 : 114431112 - 114768061 |   0 |  633 | hyper |\n",
       "| 6 | 10 | 116264861 | 116264863 | chr10 | 114505102 | 114505104 | + | Ylitalo et al 2021 | ABLIM1 | EPIC_probe | ⋯ | TRUE | ABLIM1          | FALSE | FALSE | ABLIM1 | 2 | 10 : 114505102 - 114505104 |   0 |    0 | .     |\n",
       "| 7 | 4  |   7967037 |   8160559 | chr4  |   7965310 |   8158832 | - | Massie et al. 2017 | ABLIM2 | gene       | ⋯ | TRUE | MIR95           |  TRUE | FALSE | ABLIM2 | 2 | 4 : 7965310 - 8158832      |   0 | 2143 | hyper |\n",
       "| 8 | 4  |   8073800 |   8073802 | chr4  |   8072073 |   8072075 | - | Ylitalo et al 2021 | ABLIM2 | EPIC_probe | ⋯ | TRUE | ABLIM2          | FALSE | FALSE | ABLIM2 | 2 | 4 : 8072073 - 8072075      |   0 |    0 | .     |\n",
       "| 9 | 17 |    906759 |   1133032 | chr17 |   1003519 |   1229738 | - | Massie et al. 2017 | ABR    | gene       | ⋯ | TRUE | MIR3183         |  TRUE | FALSE | ABR    | 2 | 17 : 1003519 - 1229738     |   0 | 4101 | hypo  |\n",
       "| 10 | 17 |   1058209 |   1058211 | chr17 |   1154916 |   1154918 | - | Ylitalo et al 2021 | ABR    | EPIC_probe | ⋯ | TRUE | ABR             | FALSE | FALSE | ABR    | 2 | 17 : 1154916 - 1154918     |   0 |    0 | .     |\n",
       "| 11 | 16 |  67691415 |  67694713 | chr16 |  67657512 |  67660810 | - | Massie et al. 2017 | ACD    | gene       | ⋯ | TRUE | ACD             |  TRUE | FALSE | ACD    | 2 | 16 : 67657512 - 67660810   |   0 |    0 | .     |\n",
       "| 12 | 1  |  55007930 |  55104865 | chr1  |  54542257 |  54639192 | + | Massie et al. 2017 | ACOT11 | gene       | ⋯ | TRUE | FAM151A         |  TRUE | FALSE | ACOT11 | 2 | 1 : 54542257 - 54639192    | 488 | 2554 | hyper |\n",
       "| 13 | 1  |  55013708 |  55013710 | chr1  |  54548035 |  54548037 | + | Ylitalo et al 2021 | ACOT11 | EPIC_probe | ⋯ | TRUE | ACOT11          | FALSE | FALSE | ACOT11 | 2 | 1 : 54548035 - 54548037    |   0 |    2 | hyper |\n",
       "| 14 | 1  |  55013418 |  55013420 | chr1  |  54547745 |  54547747 | + | Ylitalo et al 2021 | ACOT11 | EPIC_probe | ⋯ | TRUE | ACOT11          | FALSE | FALSE | ACOT11 | 2 | 1 : 54547745 - 54547747    |   0 |    2 | hyper |\n",
       "| 15 | 1  |  55013734 |  55013736 | chr1  |  54548061 |  54548063 | + | Ylitalo et al 2021 | ACOT11 | EPIC_probe | ⋯ | TRUE | ACOT11          | FALSE | FALSE | ACOT11 | 2 | 1 : 54548061 - 54548063    |   0 |    2 | hyper |\n",
       "| 16 | 2  | 111490116 | 111878187 | chr2  | 110732539 | 111120610 | + | Massie et al. 2017 | ACOXL  | gene       | ⋯ | TRUE | RPL5P9          |  TRUE | FALSE | ACOXL  | 2 | 2 : 110732539 - 111120610  |   0 | 1977 | hypo  |\n",
       "| 17 | 20 |  24986866 |  25039616 | chr20 |  25006230 |  25058980 | - | Massie et al. 2017 | ACSS1  | gene       | ⋯ | TRUE | ACSS1           |  TRUE | FALSE | ACSS1  | 2 | 20 : 25006230 - 25058980   |   0 |  958 | hyper |\n",
       "| 18 | 20 |  25013228 |  25013230 | chr20 |  25032592 |  25032594 | - | Ylitalo et al 2021 | ACSS1  | EPIC_probe | ⋯ | TRUE | ACSS1           | FALSE | FALSE | ACSS1  | 2 | 20 : 25032592 - 25032594   |   0 |    2 | hyper |\n",
       "| 19 | 20 |  25013522 |  25013524 | chr20 |  25032886 |  25032888 | - | Ylitalo et al 2021 | ACSS1  | EPIC_probe | ⋯ | TRUE | ACSS1           | FALSE | FALSE | ACSS1  | 2 | 20 : 25032886 - 25032888   |   0 |    2 | hyper |\n",
       "| 20 | 12 |  81330193 |  81654989 | chr12 |  80936414 |  81261210 | + | Massie et al. 2017 | ACSS3  | gene       | ⋯ | TRUE | MIR4699         |  TRUE | FALSE | ACSS3  | 2 | 12 : 80936414 - 81261210   | 866 |  356 | hyper |\n",
       "\n"
      ],
      "text/plain": [
       "   chr_hg19 start_hg19 end_hg19  chr_hg38 start_hg38 end_hg38  pub.strand\n",
       "1  22        43088127   43117304 chr22     42692121   42721298 -         \n",
       "2  16         2325882    2390747 chr16      2275881    2340746 -         \n",
       "3  2        220074494  220083716 chr2     219209772  219218994 -         \n",
       "4  21        43619799   43717354 chr21     42199689   42297244 +         \n",
       "5  10       116190871  116527820 chr10    114431112  114768061 -         \n",
       "6  10       116264861  116264863 chr10    114505102  114505104 +         \n",
       "7  4          7967037    8160559 chr4       7965310    8158832 -         \n",
       "8  4          8073800    8073802 chr4       8072073    8072075 -         \n",
       "9  17          906759    1133032 chr17      1003519    1229738 -         \n",
       "10 17         1058209    1058211 chr17      1154916    1154918 -         \n",
       "11 16        67691415   67694713 chr16     67657512   67660810 -         \n",
       "12 1         55007930   55104865 chr1      54542257   54639192 +         \n",
       "13 1         55013708   55013710 chr1      54548035   54548037 +         \n",
       "14 1         55013418   55013420 chr1      54547745   54547747 +         \n",
       "15 1         55013734   55013736 chr1      54548061   54548063 +         \n",
       "16 2        111490116  111878187 chr2     110732539  111120610 +         \n",
       "17 20        24986866   25039616 chr20     25006230   25058980 -         \n",
       "18 20        25013228   25013230 chr20     25032592   25032594 -         \n",
       "19 20        25013522   25013524 chr20     25032886   25032888 -         \n",
       "20 12        81330193   81654989 chr12     80936414   81261210 +         \n",
       "   source             pub.gene.name pub.reg.type ⋯ in.gencode.gene\n",
       "1  Massie et al. 2017 A4GALT        gene         ⋯ TRUE           \n",
       "2  Massie et al. 2017 ABCA3         gene         ⋯ TRUE           \n",
       "3  Massie et al. 2017 ABCB6         gene         ⋯ TRUE           \n",
       "4  Massie et al. 2017 ABCG1         gene         ⋯ TRUE           \n",
       "5  Massie et al. 2017 ABLIM1        gene         ⋯ TRUE           \n",
       "6  Ylitalo et al 2021 ABLIM1        EPIC_probe   ⋯ TRUE           \n",
       "7  Massie et al. 2017 ABLIM2        gene         ⋯ TRUE           \n",
       "8  Ylitalo et al 2021 ABLIM2        EPIC_probe   ⋯ TRUE           \n",
       "9  Massie et al. 2017 ABR           gene         ⋯ TRUE           \n",
       "10 Ylitalo et al 2021 ABR           EPIC_probe   ⋯ TRUE           \n",
       "11 Massie et al. 2017 ACD           gene         ⋯ TRUE           \n",
       "12 Massie et al. 2017 ACOT11        gene         ⋯ TRUE           \n",
       "13 Ylitalo et al 2021 ACOT11        EPIC_probe   ⋯ TRUE           \n",
       "14 Ylitalo et al 2021 ACOT11        EPIC_probe   ⋯ TRUE           \n",
       "15 Ylitalo et al 2021 ACOT11        EPIC_probe   ⋯ TRUE           \n",
       "16 Massie et al. 2017 ACOXL         gene         ⋯ TRUE           \n",
       "17 Massie et al. 2017 ACSS1         gene         ⋯ TRUE           \n",
       "18 Ylitalo et al 2021 ACSS1         EPIC_probe   ⋯ TRUE           \n",
       "19 Ylitalo et al 2021 ACSS1         EPIC_probe   ⋯ TRUE           \n",
       "20 Massie et al. 2017 ACSS3         gene         ⋯ TRUE           \n",
       "   gencode.gene.name in.gencode.promoter is.ingergenic hybrid.gene.name\n",
       "1  CYB5R3             TRUE               FALSE         A4GALT          \n",
       "2  ENSG00000243445    TRUE               FALSE         ABCA3           \n",
       "3  ABCB6              TRUE               FALSE         ABCB6           \n",
       "4  RNA5SP492          TRUE               FALSE         ABCG1           \n",
       "5  ENSG00000229668    TRUE               FALSE         ABLIM1          \n",
       "6  ABLIM1            FALSE               FALSE         ABLIM1          \n",
       "7  MIR95              TRUE               FALSE         ABLIM2          \n",
       "8  ABLIM2            FALSE               FALSE         ABLIM2          \n",
       "9  MIR3183            TRUE               FALSE         ABR             \n",
       "10 ABR               FALSE               FALSE         ABR             \n",
       "11 ACD                TRUE               FALSE         ACD             \n",
       "12 FAM151A            TRUE               FALSE         ACOT11          \n",
       "13 ACOT11            FALSE               FALSE         ACOT11          \n",
       "14 ACOT11            FALSE               FALSE         ACOT11          \n",
       "15 ACOT11            FALSE               FALSE         ACOT11          \n",
       "16 RPL5P9             TRUE               FALSE         ACOXL           \n",
       "17 ACSS1              TRUE               FALSE         ACSS1           \n",
       "18 ACSS1             FALSE               FALSE         ACSS1           \n",
       "19 ACSS1             FALSE               FALSE         ACSS1           \n",
       "20 MIR4699            TRUE               FALSE         ACSS3           \n",
       "   no.total.pubs region                     bp.tcga.overlap bp.ecm.overlap\n",
       "1  2             22 : 42692121 - 42721298     0             1420          \n",
       "2  2             16 : 2275881 - 2340746       0                0          \n",
       "3  2             2 : 219209772 - 219218994    0                0          \n",
       "4  2             21 : 42199689 - 42297244     0              761          \n",
       "5  2             10 : 114431112 - 114768061   0              633          \n",
       "6  2             10 : 114505102 - 114505104   0                0          \n",
       "7  2             4 : 7965310 - 8158832        0             2143          \n",
       "8  2             4 : 8072073 - 8072075        0                0          \n",
       "9  2             17 : 1003519 - 1229738       0             4101          \n",
       "10 2             17 : 1154916 - 1154918       0                0          \n",
       "11 2             16 : 67657512 - 67660810     0                0          \n",
       "12 2             1 : 54542257 - 54639192    488             2554          \n",
       "13 2             1 : 54548035 - 54548037      0                2          \n",
       "14 2             1 : 54547745 - 54547747      0                2          \n",
       "15 2             1 : 54548061 - 54548063      0                2          \n",
       "16 2             2 : 110732539 - 111120610    0             1977          \n",
       "17 2             20 : 25006230 - 25058980     0              958          \n",
       "18 2             20 : 25032592 - 25032594     0                2          \n",
       "19 2             20 : 25032886 - 25032888     0                2          \n",
       "20 2             12 : 80936414 - 81261210   866              356          \n",
       "   ecm.methyl.status\n",
       "1  hyper            \n",
       "2  .                \n",
       "3  .                \n",
       "4  hyper            \n",
       "5  hyper            \n",
       "6  .                \n",
       "7  hyper            \n",
       "8  .                \n",
       "9  hypo             \n",
       "10 .                \n",
       "11 .                \n",
       "12 hyper            \n",
       "13 hyper            \n",
       "14 hyper            \n",
       "15 hyper            \n",
       "16 hypo             \n",
       "17 hyper            \n",
       "18 hyper            \n",
       "19 hyper            \n",
       "20 hyper            "
      ]
     },
     "metadata": {},
     "output_type": "display_data"
    }
   ],
   "source": [
    "head(df_all[df_all$no.total.pubs == 2,] %>% arrange(pub.gene.name), 20)"
   ]
  },
  {
   "cell_type": "code",
   "execution_count": 141,
   "id": "a690381e",
   "metadata": {},
   "outputs": [
    {
     "data": {
      "text/plain": [
       "\n",
       "     1      2      3      4      5      6      7      8     15 \n",
       "  5429 113722    789    284     88     34     21     44      6 "
      ]
     },
     "metadata": {},
     "output_type": "display_data"
    },
    {
     "data": {
      "text/html": [
       "&lt;NA&gt;"
      ],
      "text/latex": [
       "<NA>"
      ],
      "text/markdown": [
       "&lt;NA&gt;"
      ],
      "text/plain": [
       "[1] NA"
      ]
     },
     "metadata": {},
     "output_type": "display_data"
    }
   ],
   "source": [
    "counts = table(df_all$no.total.pubs)\n",
    "counts\n",
    "sum(counts[c(3,4,5,6,7,8,15)])"
   ]
  },
  {
   "cell_type": "code",
   "execution_count": null,
   "id": "c448c13d",
   "metadata": {},
   "outputs": [],
   "source": [
    "# "
   ]
  },
  {
   "cell_type": "code",
   "execution_count": 138,
   "id": "d5a748b1",
   "metadata": {},
   "outputs": [
    {
     "ename": "ERROR",
     "evalue": "Error in seq.int(x[i], x[i + 1], length.out = n): 'length.out' must be a non-negative number\n",
     "output_type": "error",
     "traceback": [
      "Error in seq.int(x[i], x[i + 1], length.out = n): 'length.out' must be a non-negative number\nTraceback:\n",
      "1. pie(c(intergenic, in_genes), labels = paste(c(\"intergenic\", \"genic\"), \n .     c(intergenic_pct, genic_pct), c(\"%\", \"%\")), main = \"Region types\", \n .     cex = 2)",
      "2. t2xy(seq.int(x[i], x[i + 1], length.out = n))"
     ]
    },
    {
     "data": {
      "image/png": "[encoded data removed]",
      "text/plain": [
       "plot without title"
      ]
     },
     "metadata": {
      "image/png": {
       "height": 420,
       "width": 420
      }
     },
     "output_type": "display_data"
    }
   ],
   "source": [
    "intergenic = nrow(df_all[df_all$type==\"intergenic\",])\n",
    "in_genes = nrow(df_all[df_all$type!=\"intergenic\",])\n",
    "intergenic_pct = round((intergenic/nrow(df_all))*100)\n",
    "genic_pct = round((in_genes/nrow(df_all))*100)\n",
    "pie(c(intergenic, in_genes), labels = paste(c(\"intergenic\",\"genic\"),c(intergenic_pct,genic_pct),c(\"%\",\"%\")), \n",
    "    main=\"Region types\", cex=2)\n",
    "\n"
   ]
  },
  {
   "cell_type": "code",
   "execution_count": 828,
   "id": "5359f2aa",
   "metadata": {},
   "outputs": [
    {
     "data": {
      "text/html": [
       "<table class=\"dataframe\">\n",
       "<caption>A tibble: 20 × 2</caption>\n",
       "<thead>\n",
       "\t<tr><th scope=col>gene2</th><th scope=col>bp.tcga.overlap</th></tr>\n",
       "\t<tr><th scope=col>&lt;chr&gt;</th><th scope=col>&lt;int&gt;</th></tr>\n",
       "</thead>\n",
       "<tbody>\n",
       "\t<tr><td>1-Dec      </td><td>0</td></tr>\n",
       "\t<tr><td>5_8S_rRNA  </td><td>0</td></tr>\n",
       "\t<tr><td>5S_rRNA    </td><td>0</td></tr>\n",
       "\t<tr><td>6-Sep      </td><td>0</td></tr>\n",
       "\t<tr><td>9-Sep      </td><td>0</td></tr>\n",
       "\t<tr><td>A1BG       </td><td>0</td></tr>\n",
       "\t<tr><td>A1BG-AS1   </td><td>0</td></tr>\n",
       "\t<tr><td>A1CF       </td><td>0</td></tr>\n",
       "\t<tr><td>A2M        </td><td>0</td></tr>\n",
       "\t<tr><td>A2MP1      </td><td>0</td></tr>\n",
       "\t<tr><td>A3GALT2    </td><td>0</td></tr>\n",
       "\t<tr><td>A4GALT     </td><td>0</td></tr>\n",
       "\t<tr><td>A4GNT      </td><td>0</td></tr>\n",
       "\t<tr><td>AACS       </td><td>0</td></tr>\n",
       "\t<tr><td>AACSP1     </td><td>0</td></tr>\n",
       "\t<tr><td>AADAC      </td><td>0</td></tr>\n",
       "\t<tr><td>AADACL2-AS1</td><td>0</td></tr>\n",
       "\t<tr><td>AADACL4    </td><td>0</td></tr>\n",
       "\t<tr><td>AADAT      </td><td>0</td></tr>\n",
       "\t<tr><td>AAK1       </td><td>0</td></tr>\n",
       "</tbody>\n",
       "</table>\n"
      ],
      "text/latex": [
       "A tibble: 20 × 2\n",
       "\\begin{tabular}{ll}\n",
       " gene2 & bp.tcga.overlap\\\\\n",
       " <chr> & <int>\\\\\n",
       "\\hline\n",
       "\t 1-Dec       & 0\\\\\n",
       "\t 5\\_8S\\_rRNA   & 0\\\\\n",
       "\t 5S\\_rRNA     & 0\\\\\n",
       "\t 6-Sep       & 0\\\\\n",
       "\t 9-Sep       & 0\\\\\n",
       "\t A1BG        & 0\\\\\n",
       "\t A1BG-AS1    & 0\\\\\n",
       "\t A1CF        & 0\\\\\n",
       "\t A2M         & 0\\\\\n",
       "\t A2MP1       & 0\\\\\n",
       "\t A3GALT2     & 0\\\\\n",
       "\t A4GALT      & 0\\\\\n",
       "\t A4GNT       & 0\\\\\n",
       "\t AACS        & 0\\\\\n",
       "\t AACSP1      & 0\\\\\n",
       "\t AADAC       & 0\\\\\n",
       "\t AADACL2-AS1 & 0\\\\\n",
       "\t AADACL4     & 0\\\\\n",
       "\t AADAT       & 0\\\\\n",
       "\t AAK1        & 0\\\\\n",
       "\\end{tabular}\n"
      ],
      "text/markdown": [
       "\n",
       "A tibble: 20 × 2\n",
       "\n",
       "| gene2 &lt;chr&gt; | bp.tcga.overlap &lt;int&gt; |\n",
       "|---|---|\n",
       "| 1-Dec       | 0 |\n",
       "| 5_8S_rRNA   | 0 |\n",
       "| 5S_rRNA     | 0 |\n",
       "| 6-Sep       | 0 |\n",
       "| 9-Sep       | 0 |\n",
       "| A1BG        | 0 |\n",
       "| A1BG-AS1    | 0 |\n",
       "| A1CF        | 0 |\n",
       "| A2M         | 0 |\n",
       "| A2MP1       | 0 |\n",
       "| A3GALT2     | 0 |\n",
       "| A4GALT      | 0 |\n",
       "| A4GNT       | 0 |\n",
       "| AACS        | 0 |\n",
       "| AACSP1      | 0 |\n",
       "| AADAC       | 0 |\n",
       "| AADACL2-AS1 | 0 |\n",
       "| AADACL4     | 0 |\n",
       "| AADAT       | 0 |\n",
       "| AAK1        | 0 |\n",
       "\n"
      ],
      "text/plain": [
       "   gene2       bp.tcga.overlap\n",
       "1  1-Dec       0              \n",
       "2  5_8S_rRNA   0              \n",
       "3  5S_rRNA     0              \n",
       "4  6-Sep       0              \n",
       "5  9-Sep       0              \n",
       "6  A1BG        0              \n",
       "7  A1BG-AS1    0              \n",
       "8  A1CF        0              \n",
       "9  A2M         0              \n",
       "10 A2MP1       0              \n",
       "11 A3GALT2     0              \n",
       "12 A4GALT      0              \n",
       "13 A4GNT       0              \n",
       "14 AACS        0              \n",
       "15 AACSP1      0              \n",
       "16 AADAC       0              \n",
       "17 AADACL2-AS1 0              \n",
       "18 AADACL4     0              \n",
       "19 AADAT       0              \n",
       "20 AAK1        0              "
      ]
     },
     "metadata": {},
     "output_type": "display_data"
    }
   ],
   "source": [
    "df_tcga_ol = df_all %>% filter(Gene!=\"intergenic\") %>% group_by(gene2) %>% \n",
    "summarize(bp.tcga.overlap=sum(bp.tcga.overlap))\n",
    "head(df_tcga_ol,20)"
   ]
  },
  {
   "cell_type": "code",
   "execution_count": 829,
   "id": "271f0c24",
   "metadata": {},
   "outputs": [
    {
     "data": {
      "image/png": "[encoded data removed]",
      "text/plain": [
       "Plot with title “Genes with TCGA DMR overlap”"
      ]
     },
     "metadata": {
      "image/png": {
       "height": 420,
       "width": 420
      }
     },
     "output_type": "display_data"
    }
   ],
   "source": [
    "w_overlap = nrow(df_tcga_ol[df_tcga_ol$bp.tcga.overlap > 0,])\n",
    "w_overlap_pct = round(nrow(df_tcga_ol[df_tcga_ol$bp.tcga.overlap > 0,])/nrow(df_tcga_ol) * 100)\n",
    "no_overlap_pct = round(((nrow(df_tcga_ol)-w_overlap)/nrow(df_tcga_ol)*100))\n",
    "\n",
    "pie(c(w_overlap, nrow(df_tcga_ol)-w_overlap), \n",
    "    labels=paste(c(\"overlap\", \"No overlap\"),c(w_overlap_pct, no_overlap_pct),c(\"%\",\"%\")),\n",
    "   cex=1.1, main=\"Genes with TCGA DMR overlap\")"
   ]
  },
  {
   "cell_type": "code",
   "execution_count": null,
   "id": "8952f94e",
   "metadata": {},
   "outputs": [],
   "source": []
  },
  {
   "cell_type": "code",
   "execution_count": 830,
   "id": "25229300",
   "metadata": {},
   "outputs": [
    {
     "data": {
      "image/png": "[encoded data removed]",
      "text/plain": [
       "Plot with title “Genes with ECM DMR overlap”"
      ]
     },
     "metadata": {
      "image/png": {
       "height": 420,
       "width": 420
      }
     },
     "output_type": "display_data"
    }
   ],
   "source": [
    "df_ecm_ol = df_all %>% filter(Gene!=\"intergenic\") %>% group_by(gene2) %>% \n",
    "summarize(bp.ecm.overlap=sum(bp.ecm.overlap)) \n",
    "w_overlap = nrow(df_ecm_ol[df_ecm_ol$bp.ecm.overlap > 0,])\n",
    "w_overlap_pct = round(nrow(df_ecm_ol[df_ecm_ol$bp.ecm.overlap > 0,])/nrow(df_ecm_ol) * 100)\n",
    "no_overlap_pct = round(((nrow(df_ecm_ol)-w_overlap)/nrow(df_ecm_ol)*100))\n",
    "\n",
    "pie(c(w_overlap, nrow(df_ecm_ol)-w_overlap), \n",
    "    labels=paste(c(\"overlap\", \"No overlap\"),c(w_overlap_pct, no_overlap_pct),c(\"%\",\"%\")),\n",
    "   cex=1.1, main=\"Genes with ECM DMR overlap\")"
   ]
  },
  {
   "cell_type": "markdown",
   "id": "f2609cb7",
   "metadata": {},
   "source": [
    "## Select panel region subsets"
   ]
  },
  {
   "cell_type": "code",
   "execution_count": null,
   "id": "dbe140be",
   "metadata": {},
   "outputs": [],
   "source": [
    "## Select panel regions\n",
    "# reasons to select a region\n",
    "# —high number of pubs\n",
    "# —has a paper with recent functional evidence or review mention and at least one other evidence type from our work\n",
    "# —extract promoter regions from these genes\n",
    "# —count number of CpGs in the region\n",
    "# —filter by overlaps with TCGA DMRs or ECM DMRs\n"
   ]
  },
  {
   "cell_type": "code",
   "execution_count": 175,
   "id": "1de923b6",
   "metadata": {},
   "outputs": [
    {
     "data": {
      "text/html": [
       "<table class=\"dataframe\">\n",
       "<caption>A data.frame: 6 × 23</caption>\n",
       "<thead>\n",
       "\t<tr><th></th><th scope=col>chr_hg19</th><th scope=col>start_hg19</th><th scope=col>end_hg19</th><th scope=col>chr_hg38</th><th scope=col>start_hg38</th><th scope=col>end_hg38</th><th scope=col>pub.strand</th><th scope=col>source</th><th scope=col>pub.gene.name</th><th scope=col>pub.reg.type</th><th scope=col>⋯</th><th scope=col>in.gencode.gene</th><th scope=col>gencode.gene.name</th><th scope=col>in.gencode.promoter</th><th scope=col>is.ingergenic</th><th scope=col>hybrid.gene.name</th><th scope=col>no.total.pubs</th><th scope=col>region</th><th scope=col>bp.tcga.overlap</th><th scope=col>bp.ecm.overlap</th><th scope=col>ecm.methyl.status</th></tr>\n",
       "\t<tr><th></th><th scope=col>&lt;chr&gt;</th><th scope=col>&lt;int&gt;</th><th scope=col>&lt;int&gt;</th><th scope=col>&lt;chr&gt;</th><th scope=col>&lt;int&gt;</th><th scope=col>&lt;int&gt;</th><th scope=col>&lt;chr&gt;</th><th scope=col>&lt;chr&gt;</th><th scope=col>&lt;chr&gt;</th><th scope=col>&lt;chr&gt;</th><th scope=col>⋯</th><th scope=col>&lt;lgl&gt;</th><th scope=col>&lt;chr&gt;</th><th scope=col>&lt;lgl&gt;</th><th scope=col>&lt;lgl&gt;</th><th scope=col>&lt;chr&gt;</th><th scope=col>&lt;int&gt;</th><th scope=col>&lt;chr&gt;</th><th scope=col>&lt;int&gt;</th><th scope=col>&lt;int&gt;</th><th scope=col>&lt;chr&gt;</th></tr>\n",
       "</thead>\n",
       "<tbody>\n",
       "\t<tr><th scope=row>1</th><td>4 </td><td>106067032</td><td>106200973</td><td>chr4 </td><td>105145875</td><td>105279816</td><td>+</td><td>Kukkonen et al. 2021</td><td>TET2  </td><td>gene</td><td>⋯</td><td>TRUE</td><td>TET2-AS1</td><td>TRUE</td><td>FALSE</td><td>TET2  </td><td>4</td><td>4 : 105145875 - 105279816</td><td>373</td><td> 174</td><td>hyper</td></tr>\n",
       "\t<tr><th scope=row>2</th><td>20</td><td> 31350191</td><td> 31397165</td><td>chr20</td><td> 32762385</td><td> 32809359</td><td>+</td><td>Kukkonen et al. 2021</td><td>DNMT3B</td><td>gene</td><td>⋯</td><td>TRUE</td><td>DNMT3B  </td><td>TRUE</td><td>FALSE</td><td>DNMT3B</td><td>2</td><td>20 : 32762385 - 32809359 </td><td>  0</td><td> 806</td><td>hyper</td></tr>\n",
       "\t<tr><th scope=row>3</th><td>2 </td><td>209100953</td><td>209130798</td><td>chr2 </td><td>208236229</td><td>208266074</td><td>-</td><td>Kukkonen et al. 2021</td><td>IDH1  </td><td>gene</td><td>⋯</td><td>TRUE</td><td>IDH1-AS1</td><td>TRUE</td><td>FALSE</td><td>IDH1  </td><td>1</td><td>2 : 208236229 - 208266074</td><td>  0</td><td>   0</td><td>.    </td></tr>\n",
       "\t<tr><th scope=row>4</th><td>7 </td><td>140419127</td><td>140624729</td><td>chr7 </td><td>140719327</td><td>140924929</td><td>-</td><td>Kukkonen et al. 2021</td><td>BRAF  </td><td>gene</td><td>⋯</td><td>TRUE</td><td>RNU6-85P</td><td>TRUE</td><td>FALSE</td><td>BRAF  </td><td>1</td><td>7 : 140719327 - 140924929</td><td>  0</td><td>   0</td><td>.    </td></tr>\n",
       "\t<tr><th scope=row>5</th><td>X </td><td> 66763863</td><td> 66950461</td><td>chrX </td><td> 67544021</td><td> 67730619</td><td>+</td><td>Kukkonen et al. 2021</td><td>AR    </td><td>gene</td><td>⋯</td><td>TRUE</td><td>AR      </td><td>TRUE</td><td>FALSE</td><td>AR    </td><td>2</td><td>X : 67544021 - 67730619  </td><td>  0</td><td>   0</td><td>.    </td></tr>\n",
       "\t<tr><th scope=row>6</th><td>8 </td><td>128747680</td><td>128755197</td><td>chr8 </td><td>127735434</td><td>127742951</td><td>+</td><td>Kukkonen et al. 2021</td><td>MYC   </td><td>gene</td><td>⋯</td><td>TRUE</td><td>MYC     </td><td>TRUE</td><td>FALSE</td><td>MYC   </td><td>3</td><td>8 : 127735434 - 127742951</td><td>  0</td><td>1954</td><td>hypo </td></tr>\n",
       "</tbody>\n",
       "</table>\n"
      ],
      "text/latex": [
       "A data.frame: 6 × 23\n",
       "\\begin{tabular}{r|lllllllllllllllllllll}\n",
       "  & chr\\_hg19 & start\\_hg19 & end\\_hg19 & chr\\_hg38 & start\\_hg38 & end\\_hg38 & pub.strand & source & pub.gene.name & pub.reg.type & ⋯ & in.gencode.gene & gencode.gene.name & in.gencode.promoter & is.ingergenic & hybrid.gene.name & no.total.pubs & region & bp.tcga.overlap & bp.ecm.overlap & ecm.methyl.status\\\\\n",
       "  & <chr> & <int> & <int> & <chr> & <int> & <int> & <chr> & <chr> & <chr> & <chr> & ⋯ & <lgl> & <chr> & <lgl> & <lgl> & <chr> & <int> & <chr> & <int> & <int> & <chr>\\\\\n",
       "\\hline\n",
       "\t1 & 4  & 106067032 & 106200973 & chr4  & 105145875 & 105279816 & + & Kukkonen et al. 2021 & TET2   & gene & ⋯ & TRUE & TET2-AS1 & TRUE & FALSE & TET2   & 4 & 4 : 105145875 - 105279816 & 373 &  174 & hyper\\\\\n",
       "\t2 & 20 &  31350191 &  31397165 & chr20 &  32762385 &  32809359 & + & Kukkonen et al. 2021 & DNMT3B & gene & ⋯ & TRUE & DNMT3B   & TRUE & FALSE & DNMT3B & 2 & 20 : 32762385 - 32809359  &   0 &  806 & hyper\\\\\n",
       "\t3 & 2  & 209100953 & 209130798 & chr2  & 208236229 & 208266074 & - & Kukkonen et al. 2021 & IDH1   & gene & ⋯ & TRUE & IDH1-AS1 & TRUE & FALSE & IDH1   & 1 & 2 : 208236229 - 208266074 &   0 &    0 & .    \\\\\n",
       "\t4 & 7  & 140419127 & 140624729 & chr7  & 140719327 & 140924929 & - & Kukkonen et al. 2021 & BRAF   & gene & ⋯ & TRUE & RNU6-85P & TRUE & FALSE & BRAF   & 1 & 7 : 140719327 - 140924929 &   0 &    0 & .    \\\\\n",
       "\t5 & X  &  66763863 &  66950461 & chrX  &  67544021 &  67730619 & + & Kukkonen et al. 2021 & AR     & gene & ⋯ & TRUE & AR       & TRUE & FALSE & AR     & 2 & X : 67544021 - 67730619   &   0 &    0 & .    \\\\\n",
       "\t6 & 8  & 128747680 & 128755197 & chr8  & 127735434 & 127742951 & + & Kukkonen et al. 2021 & MYC    & gene & ⋯ & TRUE & MYC      & TRUE & FALSE & MYC    & 3 & 8 : 127735434 - 127742951 &   0 & 1954 & hypo \\\\\n",
       "\\end{tabular}\n"
      ],
      "text/markdown": [
       "\n",
       "A data.frame: 6 × 23\n",
       "\n",
       "| <!--/--> | chr_hg19 &lt;chr&gt; | start_hg19 &lt;int&gt; | end_hg19 &lt;int&gt; | chr_hg38 &lt;chr&gt; | start_hg38 &lt;int&gt; | end_hg38 &lt;int&gt; | pub.strand &lt;chr&gt; | source &lt;chr&gt; | pub.gene.name &lt;chr&gt; | pub.reg.type &lt;chr&gt; | ⋯ ⋯ | in.gencode.gene &lt;lgl&gt; | gencode.gene.name &lt;chr&gt; | in.gencode.promoter &lt;lgl&gt; | is.ingergenic &lt;lgl&gt; | hybrid.gene.name &lt;chr&gt; | no.total.pubs &lt;int&gt; | region &lt;chr&gt; | bp.tcga.overlap &lt;int&gt; | bp.ecm.overlap &lt;int&gt; | ecm.methyl.status &lt;chr&gt; |\n",
       "|---|---|---|---|---|---|---|---|---|---|---|---|---|---|---|---|---|---|---|---|---|---|\n",
       "| 1 | 4  | 106067032 | 106200973 | chr4  | 105145875 | 105279816 | + | Kukkonen et al. 2021 | TET2   | gene | ⋯ | TRUE | TET2-AS1 | TRUE | FALSE | TET2   | 4 | 4 : 105145875 - 105279816 | 373 |  174 | hyper |\n",
       "| 2 | 20 |  31350191 |  31397165 | chr20 |  32762385 |  32809359 | + | Kukkonen et al. 2021 | DNMT3B | gene | ⋯ | TRUE | DNMT3B   | TRUE | FALSE | DNMT3B | 2 | 20 : 32762385 - 32809359  |   0 |  806 | hyper |\n",
       "| 3 | 2  | 209100953 | 209130798 | chr2  | 208236229 | 208266074 | - | Kukkonen et al. 2021 | IDH1   | gene | ⋯ | TRUE | IDH1-AS1 | TRUE | FALSE | IDH1   | 1 | 2 : 208236229 - 208266074 |   0 |    0 | .     |\n",
       "| 4 | 7  | 140419127 | 140624729 | chr7  | 140719327 | 140924929 | - | Kukkonen et al. 2021 | BRAF   | gene | ⋯ | TRUE | RNU6-85P | TRUE | FALSE | BRAF   | 1 | 7 : 140719327 - 140924929 |   0 |    0 | .     |\n",
       "| 5 | X  |  66763863 |  66950461 | chrX  |  67544021 |  67730619 | + | Kukkonen et al. 2021 | AR     | gene | ⋯ | TRUE | AR       | TRUE | FALSE | AR     | 2 | X : 67544021 - 67730619   |   0 |    0 | .     |\n",
       "| 6 | 8  | 128747680 | 128755197 | chr8  | 127735434 | 127742951 | + | Kukkonen et al. 2021 | MYC    | gene | ⋯ | TRUE | MYC      | TRUE | FALSE | MYC    | 3 | 8 : 127735434 - 127742951 |   0 | 1954 | hypo  |\n",
       "\n"
      ],
      "text/plain": [
       "  chr_hg19 start_hg19 end_hg19  chr_hg38 start_hg38 end_hg38  pub.strand\n",
       "1 4        106067032  106200973 chr4     105145875  105279816 +         \n",
       "2 20        31350191   31397165 chr20     32762385   32809359 +         \n",
       "3 2        209100953  209130798 chr2     208236229  208266074 -         \n",
       "4 7        140419127  140624729 chr7     140719327  140924929 -         \n",
       "5 X         66763863   66950461 chrX      67544021   67730619 +         \n",
       "6 8        128747680  128755197 chr8     127735434  127742951 +         \n",
       "  source               pub.gene.name pub.reg.type ⋯ in.gencode.gene\n",
       "1 Kukkonen et al. 2021 TET2          gene         ⋯ TRUE           \n",
       "2 Kukkonen et al. 2021 DNMT3B        gene         ⋯ TRUE           \n",
       "3 Kukkonen et al. 2021 IDH1          gene         ⋯ TRUE           \n",
       "4 Kukkonen et al. 2021 BRAF          gene         ⋯ TRUE           \n",
       "5 Kukkonen et al. 2021 AR            gene         ⋯ TRUE           \n",
       "6 Kukkonen et al. 2021 MYC           gene         ⋯ TRUE           \n",
       "  gencode.gene.name in.gencode.promoter is.ingergenic hybrid.gene.name\n",
       "1 TET2-AS1          TRUE                FALSE         TET2            \n",
       "2 DNMT3B            TRUE                FALSE         DNMT3B          \n",
       "3 IDH1-AS1          TRUE                FALSE         IDH1            \n",
       "4 RNU6-85P          TRUE                FALSE         BRAF            \n",
       "5 AR                TRUE                FALSE         AR              \n",
       "6 MYC               TRUE                FALSE         MYC             \n",
       "  no.total.pubs region                    bp.tcga.overlap bp.ecm.overlap\n",
       "1 4             4 : 105145875 - 105279816 373              174          \n",
       "2 2             20 : 32762385 - 32809359    0              806          \n",
       "3 1             2 : 208236229 - 208266074   0                0          \n",
       "4 1             7 : 140719327 - 140924929   0                0          \n",
       "5 2             X : 67544021 - 67730619     0                0          \n",
       "6 3             8 : 127735434 - 127742951   0             1954          \n",
       "  ecm.methyl.status\n",
       "1 hyper            \n",
       "2 hyper            \n",
       "3 .                \n",
       "4 .                \n",
       "5 .                \n",
       "6 hypo             "
      ]
     },
     "metadata": {},
     "output_type": "display_data"
    }
   ],
   "source": [
    "df_all = read.table(file=\"./marker_collation/all_lit_regions_annotated_overlaps_05202022.tsv\", header=TRUE, sep=\"\\t\")\n",
    "head(df_all)"
   ]
  },
  {
   "cell_type": "code",
   "execution_count": 178,
   "id": "0174e45f",
   "metadata": {},
   "outputs": [
    {
     "data": {
      "text/plain": [
       "\n",
       "   1    2    3    4    5    6    7    8   15 \n",
       "4401 1055  248   70   19    5    3    4    1 "
      ]
     },
     "metadata": {},
     "output_type": "display_data"
    }
   ],
   "source": [
    "# pub count was originally on hybrid names, so there should be a unique count per hybrid name\n",
    "df_pub_count = df_all %>% filter(!(is.ingergenic)) %>% select(hybrid.gene.name,no.total.pubs) %>% distinct()\n",
    "\n",
    "table(df_pub_count$no.total.pubs)"
   ]
  },
  {
   "cell_type": "code",
   "execution_count": 180,
   "id": "cbcaced6",
   "metadata": {},
   "outputs": [],
   "source": [
    "write.table(df_pub_count, file=\"./marker_collation/gene_pub_count_table.csv\", sep=\",\", row.names=FALSE, col.names=TRUE)"
   ]
  },
  {
   "cell_type": "code",
   "execution_count": 304,
   "id": "d8bd0420",
   "metadata": {},
   "outputs": [
    {
     "data": {
      "text/html": [
       "<table class=\"dataframe\">\n",
       "<caption>A data.frame: 6 × 2</caption>\n",
       "<thead>\n",
       "\t<tr><th></th><th scope=col>hybrid.gene.name</th><th scope=col>no.total.pubs</th></tr>\n",
       "\t<tr><th></th><th scope=col>&lt;chr&gt;</th><th scope=col>&lt;int&gt;</th></tr>\n",
       "</thead>\n",
       "<tbody>\n",
       "\t<tr><th scope=row>1</th><td>TET2  </td><td>4</td></tr>\n",
       "\t<tr><th scope=row>2</th><td>DNMT3B</td><td>2</td></tr>\n",
       "\t<tr><th scope=row>3</th><td>IDH1  </td><td>1</td></tr>\n",
       "\t<tr><th scope=row>4</th><td>BRAF  </td><td>1</td></tr>\n",
       "\t<tr><th scope=row>5</th><td>AR    </td><td>2</td></tr>\n",
       "\t<tr><th scope=row>6</th><td>MYC   </td><td>3</td></tr>\n",
       "</tbody>\n",
       "</table>\n"
      ],
      "text/latex": [
       "A data.frame: 6 × 2\n",
       "\\begin{tabular}{r|ll}\n",
       "  & hybrid.gene.name & no.total.pubs\\\\\n",
       "  & <chr> & <int>\\\\\n",
       "\\hline\n",
       "\t1 & TET2   & 4\\\\\n",
       "\t2 & DNMT3B & 2\\\\\n",
       "\t3 & IDH1   & 1\\\\\n",
       "\t4 & BRAF   & 1\\\\\n",
       "\t5 & AR     & 2\\\\\n",
       "\t6 & MYC    & 3\\\\\n",
       "\\end{tabular}\n"
      ],
      "text/markdown": [
       "\n",
       "A data.frame: 6 × 2\n",
       "\n",
       "| <!--/--> | hybrid.gene.name &lt;chr&gt; | no.total.pubs &lt;int&gt; |\n",
       "|---|---|---|\n",
       "| 1 | TET2   | 4 |\n",
       "| 2 | DNMT3B | 2 |\n",
       "| 3 | IDH1   | 1 |\n",
       "| 4 | BRAF   | 1 |\n",
       "| 5 | AR     | 2 |\n",
       "| 6 | MYC    | 3 |\n",
       "\n"
      ],
      "text/plain": [
       "  hybrid.gene.name no.total.pubs\n",
       "1 TET2             4            \n",
       "2 DNMT3B           2            \n",
       "3 IDH1             1            \n",
       "4 BRAF             1            \n",
       "5 AR               2            \n",
       "6 MYC              3            "
      ]
     },
     "metadata": {},
     "output_type": "display_data"
    }
   ],
   "source": [
    "df_pub_count = read.table(file=\"./marker_collation/gene_pub_count_table.csv\", sep=\",\",header=TRUE)\n",
    "df_pub_count = df_pub_count[,c(1,2)]\n",
    "head(df_pub_count)"
   ]
  },
  {
   "cell_type": "code",
   "execution_count": 301,
   "id": "58f45dd3",
   "metadata": {},
   "outputs": [
    {
     "data": {
      "text/html": [
       "<table class=\"dataframe\">\n",
       "<caption>A data.frame: 6 × 6</caption>\n",
       "<thead>\n",
       "\t<tr><th></th><th scope=col>Input</th><th scope=col>Match.type</th><th scope=col>Approved.symbol</th><th scope=col>Approved.name</th><th scope=col>HGNC.ID</th><th scope=col>Location</th></tr>\n",
       "\t<tr><th></th><th scope=col>&lt;chr&gt;</th><th scope=col>&lt;chr&gt;</th><th scope=col>&lt;chr&gt;</th><th scope=col>&lt;chr&gt;</th><th scope=col>&lt;chr&gt;</th><th scope=col>&lt;chr&gt;</th></tr>\n",
       "</thead>\n",
       "<tbody>\n",
       "\t<tr><th scope=row>1</th><td>TET2  </td><td>Approved symbol</td><td>TET2  </td><td>tet methylcytosine dioxygenase 2             </td><td>HGNC:25941</td><td>4q24    </td></tr>\n",
       "\t<tr><th scope=row>2</th><td>DNMT3B</td><td>Approved symbol</td><td>DNMT3B</td><td>DNA methyltransferase 3 beta                 </td><td>HGNC:2979 </td><td>20q11.21</td></tr>\n",
       "\t<tr><th scope=row>3</th><td>IDH1  </td><td>Approved symbol</td><td>IDH1  </td><td>isocitrate dehydrogenase (NADP(+)) 1         </td><td>HGNC:5382 </td><td>2q34    </td></tr>\n",
       "\t<tr><th scope=row>4</th><td>BRAF  </td><td>Approved symbol</td><td>BRAF  </td><td>B-Raf proto-oncogene, serine/threonine kinase</td><td>HGNC:1097 </td><td>7q34    </td></tr>\n",
       "\t<tr><th scope=row>5</th><td>AR    </td><td>Approved symbol</td><td>AR    </td><td>androgen receptor                            </td><td>HGNC:644  </td><td>Xq12    </td></tr>\n",
       "\t<tr><th scope=row>6</th><td>MYC   </td><td>Approved symbol</td><td>MYC   </td><td>MYC proto-oncogene, bHLH transcription factor</td><td>HGNC:7553 </td><td>8q24.21 </td></tr>\n",
       "</tbody>\n",
       "</table>\n"
      ],
      "text/latex": [
       "A data.frame: 6 × 6\n",
       "\\begin{tabular}{r|llllll}\n",
       "  & Input & Match.type & Approved.symbol & Approved.name & HGNC.ID & Location\\\\\n",
       "  & <chr> & <chr> & <chr> & <chr> & <chr> & <chr>\\\\\n",
       "\\hline\n",
       "\t1 & TET2   & Approved symbol & TET2   & tet methylcytosine dioxygenase 2              & HGNC:25941 & 4q24    \\\\\n",
       "\t2 & DNMT3B & Approved symbol & DNMT3B & DNA methyltransferase 3 beta                  & HGNC:2979  & 20q11.21\\\\\n",
       "\t3 & IDH1   & Approved symbol & IDH1   & isocitrate dehydrogenase (NADP(+)) 1          & HGNC:5382  & 2q34    \\\\\n",
       "\t4 & BRAF   & Approved symbol & BRAF   & B-Raf proto-oncogene, serine/threonine kinase & HGNC:1097  & 7q34    \\\\\n",
       "\t5 & AR     & Approved symbol & AR     & androgen receptor                             & HGNC:644   & Xq12    \\\\\n",
       "\t6 & MYC    & Approved symbol & MYC    & MYC proto-oncogene, bHLH transcription factor & HGNC:7553  & 8q24.21 \\\\\n",
       "\\end{tabular}\n"
      ],
      "text/markdown": [
       "\n",
       "A data.frame: 6 × 6\n",
       "\n",
       "| <!--/--> | Input &lt;chr&gt; | Match.type &lt;chr&gt; | Approved.symbol &lt;chr&gt; | Approved.name &lt;chr&gt; | HGNC.ID &lt;chr&gt; | Location &lt;chr&gt; |\n",
       "|---|---|---|---|---|---|---|\n",
       "| 1 | TET2   | Approved symbol | TET2   | tet methylcytosine dioxygenase 2              | HGNC:25941 | 4q24     |\n",
       "| 2 | DNMT3B | Approved symbol | DNMT3B | DNA methyltransferase 3 beta                  | HGNC:2979  | 20q11.21 |\n",
       "| 3 | IDH1   | Approved symbol | IDH1   | isocitrate dehydrogenase (NADP(+)) 1          | HGNC:5382  | 2q34     |\n",
       "| 4 | BRAF   | Approved symbol | BRAF   | B-Raf proto-oncogene, serine/threonine kinase | HGNC:1097  | 7q34     |\n",
       "| 5 | AR     | Approved symbol | AR     | androgen receptor                             | HGNC:644   | Xq12     |\n",
       "| 6 | MYC    | Approved symbol | MYC    | MYC proto-oncogene, bHLH transcription factor | HGNC:7553  | 8q24.21  |\n",
       "\n"
      ],
      "text/plain": [
       "  Input  Match.type      Approved.symbol\n",
       "1 TET2   Approved symbol TET2           \n",
       "2 DNMT3B Approved symbol DNMT3B         \n",
       "3 IDH1   Approved symbol IDH1           \n",
       "4 BRAF   Approved symbol BRAF           \n",
       "5 AR     Approved symbol AR             \n",
       "6 MYC    Approved symbol MYC            \n",
       "  Approved.name                                 HGNC.ID    Location\n",
       "1 tet methylcytosine dioxygenase 2              HGNC:25941 4q24    \n",
       "2 DNA methyltransferase 3 beta                  HGNC:2979  20q11.21\n",
       "3 isocitrate dehydrogenase (NADP(+)) 1          HGNC:5382  2q34    \n",
       "4 B-Raf proto-oncogene, serine/threonine kinase HGNC:1097  7q34    \n",
       "5 androgen receptor                             HGNC:644   Xq12    \n",
       "6 MYC proto-oncogene, bHLH transcription factor HGNC:7553  8q24.21 "
      ]
     },
     "metadata": {},
     "output_type": "display_data"
    }
   ],
   "source": [
    "# look up ensemble ids from hgcn database for each gene name because the pub gene name might not be in the gencode file\n",
    "# look up promoter region based on ensemble id. \n",
    "\n",
    "# GENCODE name = ENSEMBLE name, HUGO agrees with these, but occasionally not\n",
    "# look up synonyms here: https://www.genenames.org/tools/multi-symbol-checker/\n",
    "\n",
    "\n",
    "# these are hybrid gene names matched with their approved hugo gene symbols\n",
    "df_hugo = read.csv(file=\"./marker_collation/pub_count_table_hgnc-symbol-check2.csv\", header=TRUE)\n",
    "head(df_hugo)"
   ]
  },
  {
   "cell_type": "code",
   "execution_count": 302,
   "id": "03603cf3",
   "metadata": {},
   "outputs": [
    {
     "data": {
      "text/html": [
       "<table class=\"dataframe\">\n",
       "<caption>A data.frame: 6 × 7</caption>\n",
       "<thead>\n",
       "\t<tr><th></th><th scope=col>chr</th><th scope=col>start_hg19</th><th scope=col>end_hg19</th><th scope=col>gene_name</th><th scope=col>strand</th><th scope=col>dot2</th><th scope=col>type</th></tr>\n",
       "\t<tr><th></th><th scope=col>&lt;chr&gt;</th><th scope=col>&lt;int&gt;</th><th scope=col>&lt;int&gt;</th><th scope=col>&lt;chr&gt;</th><th scope=col>&lt;chr&gt;</th><th scope=col>&lt;chr&gt;</th><th scope=col>&lt;chr&gt;</th></tr>\n",
       "</thead>\n",
       "<tbody>\n",
       "\t<tr><th scope=row>1</th><td>1</td><td>10869</td><td>12869</td><td>DDX11L1    </td><td>+</td><td>.</td><td>promoter</td></tr>\n",
       "\t<tr><th scope=row>2</th><td>1</td><td>13404</td><td>15404</td><td>WASH7P     </td><td>-</td><td>.</td><td>promoter</td></tr>\n",
       "\t<tr><th scope=row>3</th><td>1</td><td>28554</td><td>30554</td><td>MIR1302-2HG</td><td>+</td><td>.</td><td>promoter</td></tr>\n",
       "\t<tr><th scope=row>4</th><td>1</td><td>33554</td><td>35554</td><td>FAM138A    </td><td>-</td><td>.</td><td>promoter</td></tr>\n",
       "\t<tr><th scope=row>5</th><td>1</td><td>51473</td><td>53473</td><td>OR4G4P     </td><td>+</td><td>.</td><td>promoter</td></tr>\n",
       "\t<tr><th scope=row>6</th><td>1</td><td>56598</td><td>58598</td><td>OR4G11P    </td><td>+</td><td>.</td><td>promoter</td></tr>\n",
       "</tbody>\n",
       "</table>\n"
      ],
      "text/latex": [
       "A data.frame: 6 × 7\n",
       "\\begin{tabular}{r|lllllll}\n",
       "  & chr & start\\_hg19 & end\\_hg19 & gene\\_name & strand & dot2 & type\\\\\n",
       "  & <chr> & <int> & <int> & <chr> & <chr> & <chr> & <chr>\\\\\n",
       "\\hline\n",
       "\t1 & 1 & 10869 & 12869 & DDX11L1     & + & . & promoter\\\\\n",
       "\t2 & 1 & 13404 & 15404 & WASH7P      & - & . & promoter\\\\\n",
       "\t3 & 1 & 28554 & 30554 & MIR1302-2HG & + & . & promoter\\\\\n",
       "\t4 & 1 & 33554 & 35554 & FAM138A     & - & . & promoter\\\\\n",
       "\t5 & 1 & 51473 & 53473 & OR4G4P      & + & . & promoter\\\\\n",
       "\t6 & 1 & 56598 & 58598 & OR4G11P     & + & . & promoter\\\\\n",
       "\\end{tabular}\n"
      ],
      "text/markdown": [
       "\n",
       "A data.frame: 6 × 7\n",
       "\n",
       "| <!--/--> | chr &lt;chr&gt; | start_hg19 &lt;int&gt; | end_hg19 &lt;int&gt; | gene_name &lt;chr&gt; | strand &lt;chr&gt; | dot2 &lt;chr&gt; | type &lt;chr&gt; |\n",
       "|---|---|---|---|---|---|---|---|\n",
       "| 1 | 1 | 10869 | 12869 | DDX11L1     | + | . | promoter |\n",
       "| 2 | 1 | 13404 | 15404 | WASH7P      | - | . | promoter |\n",
       "| 3 | 1 | 28554 | 30554 | MIR1302-2HG | + | . | promoter |\n",
       "| 4 | 1 | 33554 | 35554 | FAM138A     | - | . | promoter |\n",
       "| 5 | 1 | 51473 | 53473 | OR4G4P      | + | . | promoter |\n",
       "| 6 | 1 | 56598 | 58598 | OR4G11P     | + | . | promoter |\n",
       "\n"
      ],
      "text/plain": [
       "  chr start_hg19 end_hg19 gene_name   strand dot2 type    \n",
       "1 1   10869      12869    DDX11L1     +      .    promoter\n",
       "2 1   13404      15404    WASH7P      -      .    promoter\n",
       "3 1   28554      30554    MIR1302-2HG +      .    promoter\n",
       "4 1   33554      35554    FAM138A     -      .    promoter\n",
       "5 1   51473      53473    OR4G4P      +      .    promoter\n",
       "6 1   56598      58598    OR4G11P     +      .    promoter"
      ]
     },
     "metadata": {},
     "output_type": "display_data"
    },
    {
     "data": {
      "text/html": [
       "<style>\n",
       ".list-inline {list-style: none; margin:0; padding: 0}\n",
       ".list-inline>li {display: inline-block}\n",
       ".list-inline>li:not(:last-child)::after {content: \"\\00b7\"; padding: 0 .5ex}\n",
       "</style>\n",
       "<ol class=list-inline><li>63331</li><li>7</li></ol>\n"
      ],
      "text/latex": [
       "\\begin{enumerate*}\n",
       "\\item 63331\n",
       "\\item 7\n",
       "\\end{enumerate*}\n"
      ],
      "text/markdown": [
       "1. 63331\n",
       "2. 7\n",
       "\n",
       "\n"
      ],
      "text/plain": [
       "[1] 63331     7"
      ]
     },
     "metadata": {},
     "output_type": "display_data"
    }
   ],
   "source": [
    "df_promoters = read.table(file=\"../Translational_Science/gencode.v40lift37.promoters.bed\", header=TRUE, sep=\"\\t\")\n",
    "head(df_promoters)\n",
    "dim(df_promoters)"
   ]
  },
  {
   "cell_type": "code",
   "execution_count": 305,
   "id": "90403f48",
   "metadata": {},
   "outputs": [
    {
     "data": {
      "text/html": [
       "<style>\n",
       ".list-inline {list-style: none; margin:0; padding: 0}\n",
       ".list-inline>li {display: inline-block}\n",
       ".list-inline>li:not(:last-child)::after {content: \"\\00b7\"; padding: 0 .5ex}\n",
       "</style>\n",
       "<ol class=list-inline><li>5706</li><li>2</li></ol>\n"
      ],
      "text/latex": [
       "\\begin{enumerate*}\n",
       "\\item 5706\n",
       "\\item 2\n",
       "\\end{enumerate*}\n"
      ],
      "text/markdown": [
       "1. 5706\n",
       "2. 2\n",
       "\n",
       "\n"
      ],
      "text/plain": [
       "[1] 5706    2"
      ]
     },
     "metadata": {},
     "output_type": "display_data"
    },
    {
     "data": {
      "text/html": [
       "<style>\n",
       ".list-inline {list-style: none; margin:0; padding: 0}\n",
       ".list-inline>li {display: inline-block}\n",
       ".list-inline>li:not(:last-child)::after {content: \"\\00b7\"; padding: 0 .5ex}\n",
       "</style>\n",
       "<ol class=list-inline><li>5706</li><li>7</li></ol>\n"
      ],
      "text/latex": [
       "\\begin{enumerate*}\n",
       "\\item 5706\n",
       "\\item 7\n",
       "\\end{enumerate*}\n"
      ],
      "text/markdown": [
       "1. 5706\n",
       "2. 7\n",
       "\n",
       "\n"
      ],
      "text/plain": [
       "[1] 5706    7"
      ]
     },
     "metadata": {},
     "output_type": "display_data"
    },
    {
     "data": {
      "text/html": [
       "<table class=\"dataframe\">\n",
       "<caption>A data.frame: 6 × 13</caption>\n",
       "<thead>\n",
       "\t<tr><th></th><th scope=col>hybrid.gene.name</th><th scope=col>no.total.pubs</th><th scope=col>Match.type</th><th scope=col>Approved.symbol</th><th scope=col>Approved.name</th><th scope=col>HGNC.ID</th><th scope=col>Location</th><th scope=col>chr</th><th scope=col>start_hg19</th><th scope=col>end_hg19</th><th scope=col>strand</th><th scope=col>dot2</th><th scope=col>type</th></tr>\n",
       "\t<tr><th></th><th scope=col>&lt;chr&gt;</th><th scope=col>&lt;int&gt;</th><th scope=col>&lt;chr&gt;</th><th scope=col>&lt;chr&gt;</th><th scope=col>&lt;chr&gt;</th><th scope=col>&lt;chr&gt;</th><th scope=col>&lt;chr&gt;</th><th scope=col>&lt;chr&gt;</th><th scope=col>&lt;int&gt;</th><th scope=col>&lt;int&gt;</th><th scope=col>&lt;chr&gt;</th><th scope=col>&lt;chr&gt;</th><th scope=col>&lt;chr&gt;</th></tr>\n",
       "</thead>\n",
       "<tbody>\n",
       "\t<tr><th scope=row>1</th><td>TET2  </td><td>4</td><td>Approved symbol</td><td>TET2  </td><td>tet methylcytosine dioxygenase 2             </td><td>HGNC:25941</td><td>4q24    </td><td>4 </td><td>106066032</td><td>106068032</td><td>+</td><td>.</td><td>promoter</td></tr>\n",
       "\t<tr><th scope=row>2</th><td>DNMT3B</td><td>2</td><td>Approved symbol</td><td>DNMT3B</td><td>DNA methyltransferase 3 beta                 </td><td>HGNC:2979 </td><td>20q11.21</td><td>20</td><td> 31349191</td><td> 31351191</td><td>+</td><td>.</td><td>promoter</td></tr>\n",
       "\t<tr><th scope=row>3</th><td>IDH1  </td><td>1</td><td>Approved symbol</td><td>IDH1  </td><td>isocitrate dehydrogenase (NADP(+)) 1         </td><td>HGNC:5382 </td><td>2q34    </td><td>2 </td><td>209099953</td><td>209101953</td><td>-</td><td>.</td><td>promoter</td></tr>\n",
       "\t<tr><th scope=row>4</th><td>BRAF  </td><td>1</td><td>Approved symbol</td><td>BRAF  </td><td>B-Raf proto-oncogene, serine/threonine kinase</td><td>HGNC:1097 </td><td>7q34    </td><td>7 </td><td>140418127</td><td>140420127</td><td>-</td><td>.</td><td>promoter</td></tr>\n",
       "\t<tr><th scope=row>5</th><td>AR    </td><td>2</td><td>Approved symbol</td><td>AR    </td><td>androgen receptor                            </td><td>HGNC:644  </td><td>Xq12    </td><td>X </td><td> 66762863</td><td> 66764863</td><td>+</td><td>.</td><td>promoter</td></tr>\n",
       "\t<tr><th scope=row>6</th><td>MYC   </td><td>3</td><td>Approved symbol</td><td>MYC   </td><td>MYC proto-oncogene, bHLH transcription factor</td><td>HGNC:7553 </td><td>8q24.21 </td><td>8 </td><td>128746680</td><td>128748680</td><td>+</td><td>.</td><td>promoter</td></tr>\n",
       "</tbody>\n",
       "</table>\n"
      ],
      "text/latex": [
       "A data.frame: 6 × 13\n",
       "\\begin{tabular}{r|lllllllllllll}\n",
       "  & hybrid.gene.name & no.total.pubs & Match.type & Approved.symbol & Approved.name & HGNC.ID & Location & chr & start\\_hg19 & end\\_hg19 & strand & dot2 & type\\\\\n",
       "  & <chr> & <int> & <chr> & <chr> & <chr> & <chr> & <chr> & <chr> & <int> & <int> & <chr> & <chr> & <chr>\\\\\n",
       "\\hline\n",
       "\t1 & TET2   & 4 & Approved symbol & TET2   & tet methylcytosine dioxygenase 2              & HGNC:25941 & 4q24     & 4  & 106066032 & 106068032 & + & . & promoter\\\\\n",
       "\t2 & DNMT3B & 2 & Approved symbol & DNMT3B & DNA methyltransferase 3 beta                  & HGNC:2979  & 20q11.21 & 20 &  31349191 &  31351191 & + & . & promoter\\\\\n",
       "\t3 & IDH1   & 1 & Approved symbol & IDH1   & isocitrate dehydrogenase (NADP(+)) 1          & HGNC:5382  & 2q34     & 2  & 209099953 & 209101953 & - & . & promoter\\\\\n",
       "\t4 & BRAF   & 1 & Approved symbol & BRAF   & B-Raf proto-oncogene, serine/threonine kinase & HGNC:1097  & 7q34     & 7  & 140418127 & 140420127 & - & . & promoter\\\\\n",
       "\t5 & AR     & 2 & Approved symbol & AR     & androgen receptor                             & HGNC:644   & Xq12     & X  &  66762863 &  66764863 & + & . & promoter\\\\\n",
       "\t6 & MYC    & 3 & Approved symbol & MYC    & MYC proto-oncogene, bHLH transcription factor & HGNC:7553  & 8q24.21  & 8  & 128746680 & 128748680 & + & . & promoter\\\\\n",
       "\\end{tabular}\n"
      ],
      "text/markdown": [
       "\n",
       "A data.frame: 6 × 13\n",
       "\n",
       "| <!--/--> | hybrid.gene.name &lt;chr&gt; | no.total.pubs &lt;int&gt; | Match.type &lt;chr&gt; | Approved.symbol &lt;chr&gt; | Approved.name &lt;chr&gt; | HGNC.ID &lt;chr&gt; | Location &lt;chr&gt; | chr &lt;chr&gt; | start_hg19 &lt;int&gt; | end_hg19 &lt;int&gt; | strand &lt;chr&gt; | dot2 &lt;chr&gt; | type &lt;chr&gt; |\n",
       "|---|---|---|---|---|---|---|---|---|---|---|---|---|---|\n",
       "| 1 | TET2   | 4 | Approved symbol | TET2   | tet methylcytosine dioxygenase 2              | HGNC:25941 | 4q24     | 4  | 106066032 | 106068032 | + | . | promoter |\n",
       "| 2 | DNMT3B | 2 | Approved symbol | DNMT3B | DNA methyltransferase 3 beta                  | HGNC:2979  | 20q11.21 | 20 |  31349191 |  31351191 | + | . | promoter |\n",
       "| 3 | IDH1   | 1 | Approved symbol | IDH1   | isocitrate dehydrogenase (NADP(+)) 1          | HGNC:5382  | 2q34     | 2  | 209099953 | 209101953 | - | . | promoter |\n",
       "| 4 | BRAF   | 1 | Approved symbol | BRAF   | B-Raf proto-oncogene, serine/threonine kinase | HGNC:1097  | 7q34     | 7  | 140418127 | 140420127 | - | . | promoter |\n",
       "| 5 | AR     | 2 | Approved symbol | AR     | androgen receptor                             | HGNC:644   | Xq12     | X  |  66762863 |  66764863 | + | . | promoter |\n",
       "| 6 | MYC    | 3 | Approved symbol | MYC    | MYC proto-oncogene, bHLH transcription factor | HGNC:7553  | 8q24.21  | 8  | 128746680 | 128748680 | + | . | promoter |\n",
       "\n"
      ],
      "text/plain": [
       "  hybrid.gene.name no.total.pubs Match.type      Approved.symbol\n",
       "1 TET2             4             Approved symbol TET2           \n",
       "2 DNMT3B           2             Approved symbol DNMT3B         \n",
       "3 IDH1             1             Approved symbol IDH1           \n",
       "4 BRAF             1             Approved symbol BRAF           \n",
       "5 AR               2             Approved symbol AR             \n",
       "6 MYC              3             Approved symbol MYC            \n",
       "  Approved.name                                 HGNC.ID    Location chr\n",
       "1 tet methylcytosine dioxygenase 2              HGNC:25941 4q24     4  \n",
       "2 DNA methyltransferase 3 beta                  HGNC:2979  20q11.21 20 \n",
       "3 isocitrate dehydrogenase (NADP(+)) 1          HGNC:5382  2q34     2  \n",
       "4 B-Raf proto-oncogene, serine/threonine kinase HGNC:1097  7q34     7  \n",
       "5 androgen receptor                             HGNC:644   Xq12     X  \n",
       "6 MYC proto-oncogene, bHLH transcription factor HGNC:7553  8q24.21  8  \n",
       "  start_hg19 end_hg19  strand dot2 type    \n",
       "1 106066032  106068032 +      .    promoter\n",
       "2  31349191   31351191 +      .    promoter\n",
       "3 209099953  209101953 -      .    promoter\n",
       "4 140418127  140420127 -      .    promoter\n",
       "5  66762863   66764863 +      .    promoter\n",
       "6 128746680  128748680 +      .    promoter"
      ]
     },
     "metadata": {},
     "output_type": "display_data"
    },
    {
     "data": {
      "text/html": [
       "<style>\n",
       ".list-inline {list-style: none; margin:0; padding: 0}\n",
       ".list-inline>li {display: inline-block}\n",
       ".list-inline>li:not(:last-child)::after {content: \"\\00b7\"; padding: 0 .5ex}\n",
       "</style>\n",
       "<ol class=list-inline><li>5724</li><li>13</li></ol>\n"
      ],
      "text/latex": [
       "\\begin{enumerate*}\n",
       "\\item 5724\n",
       "\\item 13\n",
       "\\end{enumerate*}\n"
      ],
      "text/markdown": [
       "1. 5724\n",
       "2. 13\n",
       "\n",
       "\n"
      ],
      "text/plain": [
       "[1] 5724   13"
      ]
     },
     "metadata": {},
     "output_type": "display_data"
    }
   ],
   "source": [
    "dim(df_pub_count)\n",
    "\n",
    "# get gene hugo name\n",
    "df_pub_count2 = df_pub_count %>% inner_join(df_hugo, by=c(hybrid.gene.name=\"Input\"))\n",
    "dim(df_pub_count2)\n",
    "\n",
    "# match hugo name with genecode promoter\n",
    "df_pub_count3 = df_pub_count2 %>% inner_join(df_promoters, by=c(Approved.symbol=\"gene_name\"))\n",
    "head(df_pub_count3)\n",
    "dim(df_pub_count3)\n"
   ]
  },
  {
   "cell_type": "code",
   "execution_count": 307,
   "id": "6e30df5b",
   "metadata": {},
   "outputs": [
    {
     "data": {
      "text/html": [
       "<table class=\"dataframe\">\n",
       "<caption>A data.frame: 6 × 14</caption>\n",
       "<thead>\n",
       "\t<tr><th></th><th scope=col>hybrid.gene.name</th><th scope=col>no.total.pubs</th><th scope=col>Match.type</th><th scope=col>Approved.symbol</th><th scope=col>Approved.name</th><th scope=col>HGNC.ID</th><th scope=col>Location</th><th scope=col>chr</th><th scope=col>start_hg19</th><th scope=col>end_hg19</th><th scope=col>strand</th><th scope=col>dot2</th><th scope=col>type</th><th scope=col>size</th></tr>\n",
       "\t<tr><th></th><th scope=col>&lt;chr&gt;</th><th scope=col>&lt;int&gt;</th><th scope=col>&lt;chr&gt;</th><th scope=col>&lt;chr&gt;</th><th scope=col>&lt;chr&gt;</th><th scope=col>&lt;chr&gt;</th><th scope=col>&lt;chr&gt;</th><th scope=col>&lt;chr&gt;</th><th scope=col>&lt;int&gt;</th><th scope=col>&lt;int&gt;</th><th scope=col>&lt;chr&gt;</th><th scope=col>&lt;chr&gt;</th><th scope=col>&lt;chr&gt;</th><th scope=col>&lt;int&gt;</th></tr>\n",
       "</thead>\n",
       "<tbody>\n",
       "\t<tr><th scope=row>1</th><td>TET2  </td><td>4</td><td>Approved symbol</td><td>TET2  </td><td>tet methylcytosine dioxygenase 2             </td><td>HGNC:25941</td><td>4q24    </td><td>4 </td><td>106066032</td><td>106068032</td><td>+</td><td>.</td><td>promoter</td><td>2000</td></tr>\n",
       "\t<tr><th scope=row>2</th><td>DNMT3B</td><td>2</td><td>Approved symbol</td><td>DNMT3B</td><td>DNA methyltransferase 3 beta                 </td><td>HGNC:2979 </td><td>20q11.21</td><td>20</td><td> 31349191</td><td> 31351191</td><td>+</td><td>.</td><td>promoter</td><td>2000</td></tr>\n",
       "\t<tr><th scope=row>3</th><td>IDH1  </td><td>1</td><td>Approved symbol</td><td>IDH1  </td><td>isocitrate dehydrogenase (NADP(+)) 1         </td><td>HGNC:5382 </td><td>2q34    </td><td>2 </td><td>209099953</td><td>209101953</td><td>-</td><td>.</td><td>promoter</td><td>2000</td></tr>\n",
       "\t<tr><th scope=row>4</th><td>BRAF  </td><td>1</td><td>Approved symbol</td><td>BRAF  </td><td>B-Raf proto-oncogene, serine/threonine kinase</td><td>HGNC:1097 </td><td>7q34    </td><td>7 </td><td>140418127</td><td>140420127</td><td>-</td><td>.</td><td>promoter</td><td>2000</td></tr>\n",
       "\t<tr><th scope=row>5</th><td>AR    </td><td>2</td><td>Approved symbol</td><td>AR    </td><td>androgen receptor                            </td><td>HGNC:644  </td><td>Xq12    </td><td>X </td><td> 66762863</td><td> 66764863</td><td>+</td><td>.</td><td>promoter</td><td>2000</td></tr>\n",
       "\t<tr><th scope=row>6</th><td>MYC   </td><td>3</td><td>Approved symbol</td><td>MYC   </td><td>MYC proto-oncogene, bHLH transcription factor</td><td>HGNC:7553 </td><td>8q24.21 </td><td>8 </td><td>128746680</td><td>128748680</td><td>+</td><td>.</td><td>promoter</td><td>2000</td></tr>\n",
       "</tbody>\n",
       "</table>\n"
      ],
      "text/latex": [
       "A data.frame: 6 × 14\n",
       "\\begin{tabular}{r|llllllllllllll}\n",
       "  & hybrid.gene.name & no.total.pubs & Match.type & Approved.symbol & Approved.name & HGNC.ID & Location & chr & start\\_hg19 & end\\_hg19 & strand & dot2 & type & size\\\\\n",
       "  & <chr> & <int> & <chr> & <chr> & <chr> & <chr> & <chr> & <chr> & <int> & <int> & <chr> & <chr> & <chr> & <int>\\\\\n",
       "\\hline\n",
       "\t1 & TET2   & 4 & Approved symbol & TET2   & tet methylcytosine dioxygenase 2              & HGNC:25941 & 4q24     & 4  & 106066032 & 106068032 & + & . & promoter & 2000\\\\\n",
       "\t2 & DNMT3B & 2 & Approved symbol & DNMT3B & DNA methyltransferase 3 beta                  & HGNC:2979  & 20q11.21 & 20 &  31349191 &  31351191 & + & . & promoter & 2000\\\\\n",
       "\t3 & IDH1   & 1 & Approved symbol & IDH1   & isocitrate dehydrogenase (NADP(+)) 1          & HGNC:5382  & 2q34     & 2  & 209099953 & 209101953 & - & . & promoter & 2000\\\\\n",
       "\t4 & BRAF   & 1 & Approved symbol & BRAF   & B-Raf proto-oncogene, serine/threonine kinase & HGNC:1097  & 7q34     & 7  & 140418127 & 140420127 & - & . & promoter & 2000\\\\\n",
       "\t5 & AR     & 2 & Approved symbol & AR     & androgen receptor                             & HGNC:644   & Xq12     & X  &  66762863 &  66764863 & + & . & promoter & 2000\\\\\n",
       "\t6 & MYC    & 3 & Approved symbol & MYC    & MYC proto-oncogene, bHLH transcription factor & HGNC:7553  & 8q24.21  & 8  & 128746680 & 128748680 & + & . & promoter & 2000\\\\\n",
       "\\end{tabular}\n"
      ],
      "text/markdown": [
       "\n",
       "A data.frame: 6 × 14\n",
       "\n",
       "| <!--/--> | hybrid.gene.name &lt;chr&gt; | no.total.pubs &lt;int&gt; | Match.type &lt;chr&gt; | Approved.symbol &lt;chr&gt; | Approved.name &lt;chr&gt; | HGNC.ID &lt;chr&gt; | Location &lt;chr&gt; | chr &lt;chr&gt; | start_hg19 &lt;int&gt; | end_hg19 &lt;int&gt; | strand &lt;chr&gt; | dot2 &lt;chr&gt; | type &lt;chr&gt; | size &lt;int&gt; |\n",
       "|---|---|---|---|---|---|---|---|---|---|---|---|---|---|---|\n",
       "| 1 | TET2   | 4 | Approved symbol | TET2   | tet methylcytosine dioxygenase 2              | HGNC:25941 | 4q24     | 4  | 106066032 | 106068032 | + | . | promoter | 2000 |\n",
       "| 2 | DNMT3B | 2 | Approved symbol | DNMT3B | DNA methyltransferase 3 beta                  | HGNC:2979  | 20q11.21 | 20 |  31349191 |  31351191 | + | . | promoter | 2000 |\n",
       "| 3 | IDH1   | 1 | Approved symbol | IDH1   | isocitrate dehydrogenase (NADP(+)) 1          | HGNC:5382  | 2q34     | 2  | 209099953 | 209101953 | - | . | promoter | 2000 |\n",
       "| 4 | BRAF   | 1 | Approved symbol | BRAF   | B-Raf proto-oncogene, serine/threonine kinase | HGNC:1097  | 7q34     | 7  | 140418127 | 140420127 | - | . | promoter | 2000 |\n",
       "| 5 | AR     | 2 | Approved symbol | AR     | androgen receptor                             | HGNC:644   | Xq12     | X  |  66762863 |  66764863 | + | . | promoter | 2000 |\n",
       "| 6 | MYC    | 3 | Approved symbol | MYC    | MYC proto-oncogene, bHLH transcription factor | HGNC:7553  | 8q24.21  | 8  | 128746680 | 128748680 | + | . | promoter | 2000 |\n",
       "\n"
      ],
      "text/plain": [
       "  hybrid.gene.name no.total.pubs Match.type      Approved.symbol\n",
       "1 TET2             4             Approved symbol TET2           \n",
       "2 DNMT3B           2             Approved symbol DNMT3B         \n",
       "3 IDH1             1             Approved symbol IDH1           \n",
       "4 BRAF             1             Approved symbol BRAF           \n",
       "5 AR               2             Approved symbol AR             \n",
       "6 MYC              3             Approved symbol MYC            \n",
       "  Approved.name                                 HGNC.ID    Location chr\n",
       "1 tet methylcytosine dioxygenase 2              HGNC:25941 4q24     4  \n",
       "2 DNA methyltransferase 3 beta                  HGNC:2979  20q11.21 20 \n",
       "3 isocitrate dehydrogenase (NADP(+)) 1          HGNC:5382  2q34     2  \n",
       "4 B-Raf proto-oncogene, serine/threonine kinase HGNC:1097  7q34     7  \n",
       "5 androgen receptor                             HGNC:644   Xq12     X  \n",
       "6 MYC proto-oncogene, bHLH transcription factor HGNC:7553  8q24.21  8  \n",
       "  start_hg19 end_hg19  strand dot2 type     size\n",
       "1 106066032  106068032 +      .    promoter 2000\n",
       "2  31349191   31351191 +      .    promoter 2000\n",
       "3 209099953  209101953 -      .    promoter 2000\n",
       "4 140418127  140420127 -      .    promoter 2000\n",
       "5  66762863   66764863 +      .    promoter 2000\n",
       "6 128746680  128748680 +      .    promoter 2000"
      ]
     },
     "metadata": {},
     "output_type": "display_data"
    }
   ],
   "source": [
    "df_pub_count3 = df_pub_count3 %>% mutate(size = end_hg19 - start_hg19)\n",
    "head(df_pub_count3)"
   ]
  },
  {
   "cell_type": "code",
   "execution_count": 308,
   "id": "161ddb7b",
   "metadata": {},
   "outputs": [],
   "source": [
    "write.table(df_pub_count3, file=\"./marker_collation/gene_pub_count_table.csv\",sep=\",\",row.names=FALSE, col.names=TRUE)"
   ]
  },
  {
   "cell_type": "code",
   "execution_count": 309,
   "id": "bd4f90fd",
   "metadata": {},
   "outputs": [
    {
     "data": {
      "text/plain": [
       "\n",
       "   1    2    3    4    5    6    7    8   15 \n",
       "4318 1057  247   70   19    5    3    4    1 "
      ]
     },
     "metadata": {},
     "output_type": "display_data"
    }
   ],
   "source": [
    "counts = table(df_pub_count3$no.total.pubs)\n",
    "counts"
   ]
  },
  {
   "cell_type": "code",
   "execution_count": 310,
   "id": "b01f55c0",
   "metadata": {},
   "outputs": [
    {
     "data": {
      "text/html": [
       "0"
      ],
      "text/latex": [
       "0"
      ],
      "text/markdown": [
       "0"
      ],
      "text/plain": [
       "[1] 0"
      ]
     },
     "metadata": {},
     "output_type": "display_data"
    }
   ],
   "source": [
    "sum(is.na(df_pub_count3$Approved.symbol))"
   ]
  },
  {
   "cell_type": "code",
   "execution_count": 311,
   "id": "69da8963",
   "metadata": {},
   "outputs": [
    {
     "name": "stdout",
     "output_type": "stream",
     "text": [
      "[1] 1\n",
      "[1] 2\n",
      "[1] 3\n",
      "[1] 4\n",
      "[1] 5\n",
      "[1] 6\n",
      "[1] 7\n",
      "[1] 8\n",
      "[1] 15\n"
     ]
    }
   ],
   "source": [
    "panel_size <- function(no.pubs){\n",
    "    return(sum(df_pub_count3$size[df_pub_count3$no.total.pubs >= no.pubs]))\n",
    "}\n",
    "\n",
    "sizes = vector()\n",
    "for (s in names(counts)){\n",
    "    print(as.numeric(s))\n",
    "    sizes = c(sizes, panel_size(as.numeric(s)))\n",
    "}"
   ]
  },
  {
   "cell_type": "code",
   "execution_count": 312,
   "id": "aa81d31c",
   "metadata": {},
   "outputs": [
    {
     "data": {
      "text/html": [
       "<style>\n",
       ".list-inline {list-style: none; margin:0; padding: 0}\n",
       ".list-inline>li {display: inline-block}\n",
       ".list-inline>li:not(:last-child)::after {content: \"\\00b7\"; padding: 0 .5ex}\n",
       "</style>\n",
       "<ol class=list-inline><li>11448000</li><li>2812000</li><li>698000</li><li>204000</li><li>64000</li><li>26000</li><li>16000</li><li>10000</li><li>2000</li></ol>\n"
      ],
      "text/latex": [
       "\\begin{enumerate*}\n",
       "\\item 11448000\n",
       "\\item 2812000\n",
       "\\item 698000\n",
       "\\item 204000\n",
       "\\item 64000\n",
       "\\item 26000\n",
       "\\item 16000\n",
       "\\item 10000\n",
       "\\item 2000\n",
       "\\end{enumerate*}\n"
      ],
      "text/markdown": [
       "1. 11448000\n",
       "2. 2812000\n",
       "3. 698000\n",
       "4. 204000\n",
       "5. 64000\n",
       "6. 26000\n",
       "7. 16000\n",
       "8. 10000\n",
       "9. 2000\n",
       "\n",
       "\n"
      ],
      "text/plain": [
       "[1] 11448000  2812000   698000   204000    64000    26000    16000    10000\n",
       "[9]     2000"
      ]
     },
     "metadata": {},
     "output_type": "display_data"
    },
    {
     "data": {
      "image/png": "[encoded data removed]",
      "text/plain": [
       "plot without title"
      ]
     },
     "metadata": {
      "image/png": {
       "height": 420,
       "width": 420
      }
     },
     "output_type": "display_data"
    }
   ],
   "source": [
    "sizes\n",
    "barplot(sizes, names.arg=names(counts), xlab=\"number of pulications\", ylab=\"panel size\")"
   ]
  },
  {
   "cell_type": "code",
   "execution_count": 409,
   "id": "cb21665f",
   "metadata": {},
   "outputs": [
    {
     "data": {
      "text/html": [
       "<table class=\"dataframe\">\n",
       "<caption>A data.frame: 6 × 6</caption>\n",
       "<thead>\n",
       "\t<tr><th></th><th scope=col>Input</th><th scope=col>Match.type</th><th scope=col>Approved.symbol</th><th scope=col>Approved.name</th><th scope=col>HGNC.ID</th><th scope=col>Location</th></tr>\n",
       "\t<tr><th></th><th scope=col>&lt;chr&gt;</th><th scope=col>&lt;chr&gt;</th><th scope=col>&lt;chr&gt;</th><th scope=col>&lt;chr&gt;</th><th scope=col>&lt;chr&gt;</th><th scope=col>&lt;chr&gt;</th></tr>\n",
       "</thead>\n",
       "<tbody>\n",
       "\t<tr><th scope=row>1</th><td>CD24  </td><td>Approved symbol</td><td>CD24  </td><td>CD24 molecule                                </td><td>HGNC:1645 </td><td>6q21    </td></tr>\n",
       "\t<tr><th scope=row>2</th><td>TET2  </td><td>Approved symbol</td><td>TET2  </td><td>tet methylcytosine dioxygenase 2             </td><td>HGNC:25941</td><td>4q24    </td></tr>\n",
       "\t<tr><th scope=row>3</th><td>DNMT3B</td><td>Approved symbol</td><td>DNMT3B</td><td>DNA methyltransferase 3 beta                 </td><td>HGNC:2979 </td><td>20q11.21</td></tr>\n",
       "\t<tr><th scope=row>4</th><td>IDH1  </td><td>Approved symbol</td><td>IDH1  </td><td>isocitrate dehydrogenase (NADP(+)) 1         </td><td>HGNC:5382 </td><td>2q34    </td></tr>\n",
       "\t<tr><th scope=row>5</th><td>BRAF  </td><td>Approved symbol</td><td>BRAF  </td><td>B-Raf proto-oncogene, serine/threonine kinase</td><td>HGNC:1097 </td><td>7q34    </td></tr>\n",
       "\t<tr><th scope=row>6</th><td>AR    </td><td>Approved symbol</td><td>AR    </td><td>androgen receptor                            </td><td>HGNC:644  </td><td>Xq12    </td></tr>\n",
       "</tbody>\n",
       "</table>\n"
      ],
      "text/latex": [
       "A data.frame: 6 × 6\n",
       "\\begin{tabular}{r|llllll}\n",
       "  & Input & Match.type & Approved.symbol & Approved.name & HGNC.ID & Location\\\\\n",
       "  & <chr> & <chr> & <chr> & <chr> & <chr> & <chr>\\\\\n",
       "\\hline\n",
       "\t1 & CD24   & Approved symbol & CD24   & CD24 molecule                                 & HGNC:1645  & 6q21    \\\\\n",
       "\t2 & TET2   & Approved symbol & TET2   & tet methylcytosine dioxygenase 2              & HGNC:25941 & 4q24    \\\\\n",
       "\t3 & DNMT3B & Approved symbol & DNMT3B & DNA methyltransferase 3 beta                  & HGNC:2979  & 20q11.21\\\\\n",
       "\t4 & IDH1   & Approved symbol & IDH1   & isocitrate dehydrogenase (NADP(+)) 1          & HGNC:5382  & 2q34    \\\\\n",
       "\t5 & BRAF   & Approved symbol & BRAF   & B-Raf proto-oncogene, serine/threonine kinase & HGNC:1097  & 7q34    \\\\\n",
       "\t6 & AR     & Approved symbol & AR     & androgen receptor                             & HGNC:644   & Xq12    \\\\\n",
       "\\end{tabular}\n"
      ],
      "text/markdown": [
       "\n",
       "A data.frame: 6 × 6\n",
       "\n",
       "| <!--/--> | Input &lt;chr&gt; | Match.type &lt;chr&gt; | Approved.symbol &lt;chr&gt; | Approved.name &lt;chr&gt; | HGNC.ID &lt;chr&gt; | Location &lt;chr&gt; |\n",
       "|---|---|---|---|---|---|---|\n",
       "| 1 | CD24   | Approved symbol | CD24   | CD24 molecule                                 | HGNC:1645  | 6q21     |\n",
       "| 2 | TET2   | Approved symbol | TET2   | tet methylcytosine dioxygenase 2              | HGNC:25941 | 4q24     |\n",
       "| 3 | DNMT3B | Approved symbol | DNMT3B | DNA methyltransferase 3 beta                  | HGNC:2979  | 20q11.21 |\n",
       "| 4 | IDH1   | Approved symbol | IDH1   | isocitrate dehydrogenase (NADP(+)) 1          | HGNC:5382  | 2q34     |\n",
       "| 5 | BRAF   | Approved symbol | BRAF   | B-Raf proto-oncogene, serine/threonine kinase | HGNC:1097  | 7q34     |\n",
       "| 6 | AR     | Approved symbol | AR     | androgen receptor                             | HGNC:644   | Xq12     |\n",
       "\n"
      ],
      "text/plain": [
       "  Input  Match.type      Approved.symbol\n",
       "1 CD24   Approved symbol CD24           \n",
       "2 TET2   Approved symbol TET2           \n",
       "3 DNMT3B Approved symbol DNMT3B         \n",
       "4 IDH1   Approved symbol IDH1           \n",
       "5 BRAF   Approved symbol BRAF           \n",
       "6 AR     Approved symbol AR             \n",
       "  Approved.name                                 HGNC.ID    Location\n",
       "1 CD24 molecule                                 HGNC:1645  6q21    \n",
       "2 tet methylcytosine dioxygenase 2              HGNC:25941 4q24    \n",
       "3 DNA methyltransferase 3 beta                  HGNC:2979  20q11.21\n",
       "4 isocitrate dehydrogenase (NADP(+)) 1          HGNC:5382  2q34    \n",
       "5 B-Raf proto-oncogene, serine/threonine kinase HGNC:1097  7q34    \n",
       "6 androgen receptor                             HGNC:644   Xq12    "
      ]
     },
     "metadata": {},
     "output_type": "display_data"
    }
   ],
   "source": [
    "# genes to add to whitelist\n",
    "# note I manually looked up gene synonyms for a few of these that werent matching\n",
    "df_white = read.table(file=\"./marker_collation/whitelist_hgnc-symbol-check.csv\",header=TRUE, sep=\",\")\n",
    "head(df_white)\n"
   ]
  },
  {
   "cell_type": "code",
   "execution_count": 410,
   "id": "61a794ca",
   "metadata": {},
   "outputs": [
    {
     "data": {
      "text/html": [
       "<table class=\"dataframe\">\n",
       "<caption>A data.frame: 6 × 6</caption>\n",
       "<thead>\n",
       "\t<tr><th></th><th scope=col>Input</th><th scope=col>Match.type</th><th scope=col>Approved.symbol</th><th scope=col>Approved.name</th><th scope=col>HGNC.ID</th><th scope=col>Location</th></tr>\n",
       "\t<tr><th></th><th scope=col>&lt;chr&gt;</th><th scope=col>&lt;chr&gt;</th><th scope=col>&lt;chr&gt;</th><th scope=col>&lt;chr&gt;</th><th scope=col>&lt;chr&gt;</th><th scope=col>&lt;chr&gt;</th></tr>\n",
       "</thead>\n",
       "<tbody>\n",
       "\t<tr><th scope=row>1</th><td>CD24  </td><td>Approved symbol</td><td>CD24  </td><td>CD24 molecule                                </td><td>HGNC:1645 </td><td>6q21    </td></tr>\n",
       "\t<tr><th scope=row>2</th><td>TET2  </td><td>Approved symbol</td><td>TET2  </td><td>tet methylcytosine dioxygenase 2             </td><td>HGNC:25941</td><td>4q24    </td></tr>\n",
       "\t<tr><th scope=row>3</th><td>DNMT3B</td><td>Approved symbol</td><td>DNMT3B</td><td>DNA methyltransferase 3 beta                 </td><td>HGNC:2979 </td><td>20q11.21</td></tr>\n",
       "\t<tr><th scope=row>4</th><td>IDH1  </td><td>Approved symbol</td><td>IDH1  </td><td>isocitrate dehydrogenase (NADP(+)) 1         </td><td>HGNC:5382 </td><td>2q34    </td></tr>\n",
       "\t<tr><th scope=row>5</th><td>BRAF  </td><td>Approved symbol</td><td>BRAF  </td><td>B-Raf proto-oncogene, serine/threonine kinase</td><td>HGNC:1097 </td><td>7q34    </td></tr>\n",
       "\t<tr><th scope=row>6</th><td>AR    </td><td>Approved symbol</td><td>AR    </td><td>androgen receptor                            </td><td>HGNC:644  </td><td>Xq12    </td></tr>\n",
       "</tbody>\n",
       "</table>\n"
      ],
      "text/latex": [
       "A data.frame: 6 × 6\n",
       "\\begin{tabular}{r|llllll}\n",
       "  & Input & Match.type & Approved.symbol & Approved.name & HGNC.ID & Location\\\\\n",
       "  & <chr> & <chr> & <chr> & <chr> & <chr> & <chr>\\\\\n",
       "\\hline\n",
       "\t1 & CD24   & Approved symbol & CD24   & CD24 molecule                                 & HGNC:1645  & 6q21    \\\\\n",
       "\t2 & TET2   & Approved symbol & TET2   & tet methylcytosine dioxygenase 2              & HGNC:25941 & 4q24    \\\\\n",
       "\t3 & DNMT3B & Approved symbol & DNMT3B & DNA methyltransferase 3 beta                  & HGNC:2979  & 20q11.21\\\\\n",
       "\t4 & IDH1   & Approved symbol & IDH1   & isocitrate dehydrogenase (NADP(+)) 1          & HGNC:5382  & 2q34    \\\\\n",
       "\t5 & BRAF   & Approved symbol & BRAF   & B-Raf proto-oncogene, serine/threonine kinase & HGNC:1097  & 7q34    \\\\\n",
       "\t6 & AR     & Approved symbol & AR     & androgen receptor                             & HGNC:644   & Xq12    \\\\\n",
       "\\end{tabular}\n"
      ],
      "text/markdown": [
       "\n",
       "A data.frame: 6 × 6\n",
       "\n",
       "| <!--/--> | Input &lt;chr&gt; | Match.type &lt;chr&gt; | Approved.symbol &lt;chr&gt; | Approved.name &lt;chr&gt; | HGNC.ID &lt;chr&gt; | Location &lt;chr&gt; |\n",
       "|---|---|---|---|---|---|---|\n",
       "| 1 | CD24   | Approved symbol | CD24   | CD24 molecule                                 | HGNC:1645  | 6q21     |\n",
       "| 2 | TET2   | Approved symbol | TET2   | tet methylcytosine dioxygenase 2              | HGNC:25941 | 4q24     |\n",
       "| 3 | DNMT3B | Approved symbol | DNMT3B | DNA methyltransferase 3 beta                  | HGNC:2979  | 20q11.21 |\n",
       "| 4 | IDH1   | Approved symbol | IDH1   | isocitrate dehydrogenase (NADP(+)) 1          | HGNC:5382  | 2q34     |\n",
       "| 5 | BRAF   | Approved symbol | BRAF   | B-Raf proto-oncogene, serine/threonine kinase | HGNC:1097  | 7q34     |\n",
       "| 6 | AR     | Approved symbol | AR     | androgen receptor                             | HGNC:644   | Xq12     |\n",
       "\n"
      ],
      "text/plain": [
       "  Input  Match.type      Approved.symbol\n",
       "1 CD24   Approved symbol CD24           \n",
       "2 TET2   Approved symbol TET2           \n",
       "3 DNMT3B Approved symbol DNMT3B         \n",
       "4 IDH1   Approved symbol IDH1           \n",
       "5 BRAF   Approved symbol BRAF           \n",
       "6 AR     Approved symbol AR             \n",
       "  Approved.name                                 HGNC.ID    Location\n",
       "1 CD24 molecule                                 HGNC:1645  6q21    \n",
       "2 tet methylcytosine dioxygenase 2              HGNC:25941 4q24    \n",
       "3 DNA methyltransferase 3 beta                  HGNC:2979  20q11.21\n",
       "4 isocitrate dehydrogenase (NADP(+)) 1          HGNC:5382  2q34    \n",
       "5 B-Raf proto-oncogene, serine/threonine kinase HGNC:1097  7q34    \n",
       "6 androgen receptor                             HGNC:644   Xq12    "
      ]
     },
     "metadata": {},
     "output_type": "display_data"
    }
   ],
   "source": [
    "df_white = df_white %>% distinct()\n",
    "head(df_white)"
   ]
  },
  {
   "cell_type": "code",
   "execution_count": 412,
   "id": "3e681490",
   "metadata": {},
   "outputs": [
    {
     "data": {
      "text/html": [
       "<table class=\"dataframe\">\n",
       "<caption>A data.frame: 6 × 14</caption>\n",
       "<thead>\n",
       "\t<tr><th></th><th scope=col>Approved.symbol</th><th scope=col>hybrid.gene.name</th><th scope=col>no.total.pubs</th><th scope=col>Match.type</th><th scope=col>Approved.name</th><th scope=col>HGNC.ID</th><th scope=col>Location</th><th scope=col>chr</th><th scope=col>start_hg19</th><th scope=col>end_hg19</th><th scope=col>strand</th><th scope=col>dot2</th><th scope=col>type</th><th scope=col>size</th></tr>\n",
       "\t<tr><th></th><th scope=col>&lt;chr&gt;</th><th scope=col>&lt;chr&gt;</th><th scope=col>&lt;int&gt;</th><th scope=col>&lt;chr&gt;</th><th scope=col>&lt;chr&gt;</th><th scope=col>&lt;chr&gt;</th><th scope=col>&lt;chr&gt;</th><th scope=col>&lt;chr&gt;</th><th scope=col>&lt;int&gt;</th><th scope=col>&lt;int&gt;</th><th scope=col>&lt;chr&gt;</th><th scope=col>&lt;chr&gt;</th><th scope=col>&lt;chr&gt;</th><th scope=col>&lt;int&gt;</th></tr>\n",
       "</thead>\n",
       "<tbody>\n",
       "\t<tr><th scope=row>1</th><td>TET2  </td><td>TET2  </td><td>4</td><td>Approved symbol</td><td>tet methylcytosine dioxygenase 2             </td><td>HGNC:25941</td><td>4q24    </td><td>4 </td><td>106066032</td><td>106068032</td><td>+</td><td>.</td><td>promoter</td><td>2000</td></tr>\n",
       "\t<tr><th scope=row>2</th><td>DNMT3B</td><td>DNMT3B</td><td>2</td><td>Approved symbol</td><td>DNA methyltransferase 3 beta                 </td><td>HGNC:2979 </td><td>20q11.21</td><td>20</td><td> 31349191</td><td> 31351191</td><td>+</td><td>.</td><td>promoter</td><td>2000</td></tr>\n",
       "\t<tr><th scope=row>3</th><td>IDH1  </td><td>IDH1  </td><td>1</td><td>Approved symbol</td><td>isocitrate dehydrogenase (NADP(+)) 1         </td><td>HGNC:5382 </td><td>2q34    </td><td>2 </td><td>209099953</td><td>209101953</td><td>-</td><td>.</td><td>promoter</td><td>2000</td></tr>\n",
       "\t<tr><th scope=row>4</th><td>BRAF  </td><td>BRAF  </td><td>1</td><td>Approved symbol</td><td>B-Raf proto-oncogene, serine/threonine kinase</td><td>HGNC:1097 </td><td>7q34    </td><td>7 </td><td>140418127</td><td>140420127</td><td>-</td><td>.</td><td>promoter</td><td>2000</td></tr>\n",
       "\t<tr><th scope=row>5</th><td>AR    </td><td>AR    </td><td>2</td><td>Approved symbol</td><td>androgen receptor                            </td><td>HGNC:644  </td><td>Xq12    </td><td>X </td><td> 66762863</td><td> 66764863</td><td>+</td><td>.</td><td>promoter</td><td>2000</td></tr>\n",
       "\t<tr><th scope=row>6</th><td>MYC   </td><td>MYC   </td><td>3</td><td>Approved symbol</td><td>MYC proto-oncogene, bHLH transcription factor</td><td>HGNC:7553 </td><td>8q24.21 </td><td>8 </td><td>128746680</td><td>128748680</td><td>+</td><td>.</td><td>promoter</td><td>2000</td></tr>\n",
       "</tbody>\n",
       "</table>\n"
      ],
      "text/latex": [
       "A data.frame: 6 × 14\n",
       "\\begin{tabular}{r|llllllllllllll}\n",
       "  & Approved.symbol & hybrid.gene.name & no.total.pubs & Match.type & Approved.name & HGNC.ID & Location & chr & start\\_hg19 & end\\_hg19 & strand & dot2 & type & size\\\\\n",
       "  & <chr> & <chr> & <int> & <chr> & <chr> & <chr> & <chr> & <chr> & <int> & <int> & <chr> & <chr> & <chr> & <int>\\\\\n",
       "\\hline\n",
       "\t1 & TET2   & TET2   & 4 & Approved symbol & tet methylcytosine dioxygenase 2              & HGNC:25941 & 4q24     & 4  & 106066032 & 106068032 & + & . & promoter & 2000\\\\\n",
       "\t2 & DNMT3B & DNMT3B & 2 & Approved symbol & DNA methyltransferase 3 beta                  & HGNC:2979  & 20q11.21 & 20 &  31349191 &  31351191 & + & . & promoter & 2000\\\\\n",
       "\t3 & IDH1   & IDH1   & 1 & Approved symbol & isocitrate dehydrogenase (NADP(+)) 1          & HGNC:5382  & 2q34     & 2  & 209099953 & 209101953 & - & . & promoter & 2000\\\\\n",
       "\t4 & BRAF   & BRAF   & 1 & Approved symbol & B-Raf proto-oncogene, serine/threonine kinase & HGNC:1097  & 7q34     & 7  & 140418127 & 140420127 & - & . & promoter & 2000\\\\\n",
       "\t5 & AR     & AR     & 2 & Approved symbol & androgen receptor                             & HGNC:644   & Xq12     & X  &  66762863 &  66764863 & + & . & promoter & 2000\\\\\n",
       "\t6 & MYC    & MYC    & 3 & Approved symbol & MYC proto-oncogene, bHLH transcription factor & HGNC:7553  & 8q24.21  & 8  & 128746680 & 128748680 & + & . & promoter & 2000\\\\\n",
       "\\end{tabular}\n"
      ],
      "text/markdown": [
       "\n",
       "A data.frame: 6 × 14\n",
       "\n",
       "| <!--/--> | Approved.symbol &lt;chr&gt; | hybrid.gene.name &lt;chr&gt; | no.total.pubs &lt;int&gt; | Match.type &lt;chr&gt; | Approved.name &lt;chr&gt; | HGNC.ID &lt;chr&gt; | Location &lt;chr&gt; | chr &lt;chr&gt; | start_hg19 &lt;int&gt; | end_hg19 &lt;int&gt; | strand &lt;chr&gt; | dot2 &lt;chr&gt; | type &lt;chr&gt; | size &lt;int&gt; |\n",
       "|---|---|---|---|---|---|---|---|---|---|---|---|---|---|---|\n",
       "| 1 | TET2   | TET2   | 4 | Approved symbol | tet methylcytosine dioxygenase 2              | HGNC:25941 | 4q24     | 4  | 106066032 | 106068032 | + | . | promoter | 2000 |\n",
       "| 2 | DNMT3B | DNMT3B | 2 | Approved symbol | DNA methyltransferase 3 beta                  | HGNC:2979  | 20q11.21 | 20 |  31349191 |  31351191 | + | . | promoter | 2000 |\n",
       "| 3 | IDH1   | IDH1   | 1 | Approved symbol | isocitrate dehydrogenase (NADP(+)) 1          | HGNC:5382  | 2q34     | 2  | 209099953 | 209101953 | - | . | promoter | 2000 |\n",
       "| 4 | BRAF   | BRAF   | 1 | Approved symbol | B-Raf proto-oncogene, serine/threonine kinase | HGNC:1097  | 7q34     | 7  | 140418127 | 140420127 | - | . | promoter | 2000 |\n",
       "| 5 | AR     | AR     | 2 | Approved symbol | androgen receptor                             | HGNC:644   | Xq12     | X  |  66762863 |  66764863 | + | . | promoter | 2000 |\n",
       "| 6 | MYC    | MYC    | 3 | Approved symbol | MYC proto-oncogene, bHLH transcription factor | HGNC:7553  | 8q24.21  | 8  | 128746680 | 128748680 | + | . | promoter | 2000 |\n",
       "\n"
      ],
      "text/plain": [
       "  Approved.symbol hybrid.gene.name no.total.pubs Match.type     \n",
       "1 TET2            TET2             4             Approved symbol\n",
       "2 DNMT3B          DNMT3B           2             Approved symbol\n",
       "3 IDH1            IDH1             1             Approved symbol\n",
       "4 BRAF            BRAF             1             Approved symbol\n",
       "5 AR              AR               2             Approved symbol\n",
       "6 MYC             MYC              3             Approved symbol\n",
       "  Approved.name                                 HGNC.ID    Location chr\n",
       "1 tet methylcytosine dioxygenase 2              HGNC:25941 4q24     4  \n",
       "2 DNA methyltransferase 3 beta                  HGNC:2979  20q11.21 20 \n",
       "3 isocitrate dehydrogenase (NADP(+)) 1          HGNC:5382  2q34     2  \n",
       "4 B-Raf proto-oncogene, serine/threonine kinase HGNC:1097  7q34     7  \n",
       "5 androgen receptor                             HGNC:644   Xq12     X  \n",
       "6 MYC proto-oncogene, bHLH transcription factor HGNC:7553  8q24.21  8  \n",
       "  start_hg19 end_hg19  strand dot2 type     size\n",
       "1 106066032  106068032 +      .    promoter 2000\n",
       "2  31349191   31351191 +      .    promoter 2000\n",
       "3 209099953  209101953 -      .    promoter 2000\n",
       "4 140418127  140420127 -      .    promoter 2000\n",
       "5  66762863   66764863 +      .    promoter 2000\n",
       "6 128746680  128748680 +      .    promoter 2000"
      ]
     },
     "metadata": {},
     "output_type": "display_data"
    }
   ],
   "source": [
    "df_white = df_white %>% select(\"Approved.symbol\") %>% inner_join(df_pub_count3, by=\"Approved.symbol\")\n",
    "head(df_white)"
   ]
  },
  {
   "cell_type": "code",
   "execution_count": 413,
   "id": "760f0673",
   "metadata": {},
   "outputs": [],
   "source": [
    "df_panel = rbind(df_pub_count3, df_white) %>% distinct() %>% arrange(chr, start_hg19, end_hg19)\n",
    "df_panel$is.whitelist = df_panel$Approved.symbol %in% df_white$Approved.symbol"
   ]
  },
  {
   "cell_type": "code",
   "execution_count": 414,
   "id": "839a2bdd",
   "metadata": {},
   "outputs": [],
   "source": [
    "df_out = df_panel %>% select(-c(\"dot2\",\"Match.type\")) %>% rename(hugo_gene_name=\"Approved.symbol\") %>%\n",
    "select(chr, start_hg19, end_hg19, everything())\n",
    "write.table(df_out, file=\"./marker_collation/Prostate_lit_regions_annotated_05252022.tsv\",\n",
    "           row.names=FALSE, col.names=TRUE, quote=FALSE, sep=\"\\t\")"
   ]
  },
  {
   "cell_type": "code",
   "execution_count": 359,
   "id": "e1c1a01a",
   "metadata": {},
   "outputs": [],
   "source": [
    "# calc overlaps with TCGA and ECM\n",
    "# bedtools intersect -a Prostate_lit_regions_annotated_05252022.tsv -b ../PRAD_450k_DMR.deepFilter_0.33_0.67_minProbes3_fmt.bed -wao > lit_promoters_tcga_overlap.out\n",
    "# bedtools intersect -a Prostate_lit_regions_annotated_05252022.tsv -b ../ECM_DMRs_raw_Hang_05172022_sorted.bed -wao > lit_promoters_ecm_overlap.out"
   ]
  },
  {
   "cell_type": "code",
   "execution_count": 418,
   "id": "07c8cd04",
   "metadata": {},
   "outputs": [
    {
     "name": "stderr",
     "output_type": "stream",
     "text": [
      "\u001b[1m\u001b[22m`summarise()` has grouped output by 'V1', 'V2'. You can override using the `.groups` argument.\n"
     ]
    },
    {
     "data": {
      "text/html": [
       "5708"
      ],
      "text/latex": [
       "5708"
      ],
      "text/markdown": [
       "5708"
      ],
      "text/plain": [
       "[1] 5708"
      ]
     },
     "metadata": {},
     "output_type": "display_data"
    }
   ],
   "source": [
    "df_tcga_ol = read.csv(file=\"./marker_collation/lit_promoters_tcga_overlap.out\", sep=\"\\t\", header=FALSE)\n",
    "# head(df_tcga_ol)\n",
    "df_tcga_ol = df_tcga_ol %>% select(V1,V2,V3,V17) %>% group_by(V1,V2,V3) %>% summarize(bp.tcga.overlap=sum(V17, na.rm=TRUE)) \n",
    "nrow(df_tcga_ol)"
   ]
  },
  {
   "cell_type": "code",
   "execution_count": 419,
   "id": "b9e46702",
   "metadata": {},
   "outputs": [
    {
     "name": "stderr",
     "output_type": "stream",
     "text": [
      "\u001b[1m\u001b[22m`summarise()` has grouped output by 'V1', 'V2'. You can override using the `.groups` argument.\n"
     ]
    },
    {
     "data": {
      "text/html": [
       "5708"
      ],
      "text/latex": [
       "5708"
      ],
      "text/markdown": [
       "5708"
      ],
      "text/plain": [
       "[1] 5708"
      ]
     },
     "metadata": {},
     "output_type": "display_data"
    }
   ],
   "source": [
    "df_ecm_ol = read.csv(file=\"./marker_collation/lit_promoters_ecm_overlap.out\", sep=\"\\t\", header=FALSE)\n",
    "df_ecm_ol = df_ecm_ol %>% select(V1,V2,V3,V34) %>% group_by(V1,V2,V3) %>% summarize(bp.ecm.overlap=sum(V34, na.rm=TRUE)) \n",
    "nrow(df_ecm_ol)"
   ]
  },
  {
   "cell_type": "code",
   "execution_count": 420,
   "id": "78193f27",
   "metadata": {},
   "outputs": [
    {
     "data": {
      "text/html": [
       "<table class=\"dataframe\">\n",
       "<caption>A data.frame: 6 × 15</caption>\n",
       "<thead>\n",
       "\t<tr><th></th><th scope=col>chr</th><th scope=col>start_hg19</th><th scope=col>end_hg19</th><th scope=col>hybrid.gene.name</th><th scope=col>no.total.pubs</th><th scope=col>hugo_gene_name</th><th scope=col>Approved.name</th><th scope=col>HGNC.ID</th><th scope=col>Location</th><th scope=col>strand</th><th scope=col>type</th><th scope=col>size</th><th scope=col>is.whitelist</th><th scope=col>bp.tcga.overlap</th><th scope=col>bp.ecm.overlap</th></tr>\n",
       "\t<tr><th></th><th scope=col>&lt;chr&gt;</th><th scope=col>&lt;int&gt;</th><th scope=col>&lt;int&gt;</th><th scope=col>&lt;chr&gt;</th><th scope=col>&lt;int&gt;</th><th scope=col>&lt;chr&gt;</th><th scope=col>&lt;chr&gt;</th><th scope=col>&lt;chr&gt;</th><th scope=col>&lt;chr&gt;</th><th scope=col>&lt;chr&gt;</th><th scope=col>&lt;chr&gt;</th><th scope=col>&lt;int&gt;</th><th scope=col>&lt;lgl&gt;</th><th scope=col>&lt;int&gt;</th><th scope=col>&lt;int&gt;</th></tr>\n",
       "</thead>\n",
       "<tbody>\n",
       "\t<tr><th scope=row>1</th><td>1</td><td> 751751</td><td> 753751</td><td>FAM87B  </td><td>1</td><td>FAM87B  </td><td>family with sequence similarity 87 member B             </td><td>HGNC:32236</td><td>1p36.33</td><td>+</td><td>promoter</td><td>2000</td><td>FALSE</td><td>0</td><td>0</td></tr>\n",
       "\t<tr><th scope=row>2</th><td>1</td><td> 878583</td><td> 880583</td><td>NOC2L   </td><td>1</td><td>NOC2L   </td><td>NOC2 like nucleolar associated transcriptional repressor</td><td>HGNC:24517</td><td>1p36.33</td><td>-</td><td>promoter</td><td>2000</td><td>FALSE</td><td>0</td><td>0</td></tr>\n",
       "\t<tr><th scope=row>3</th><td>1</td><td> 935518</td><td> 937518</td><td>ISG15   </td><td>1</td><td>ISG15   </td><td>ISG15 ubiquitin like modifier                           </td><td>HGNC:4053 </td><td>1p36.33</td><td>+</td><td>promoter</td><td>2000</td><td>FALSE</td><td>0</td><td>0</td></tr>\n",
       "\t<tr><th scope=row>4</th><td>1</td><td>1108260</td><td>1110260</td><td>TTLL10  </td><td>2</td><td>TTLL10  </td><td>tubulin tyrosine ligase like 10                         </td><td>HGNC:26693</td><td>1p36.33</td><td>+</td><td>promoter</td><td>2000</td><td>FALSE</td><td>0</td><td>0</td></tr>\n",
       "\t<tr><th scope=row>5</th><td>1</td><td>1269656</td><td>1271656</td><td>DVL1    </td><td>1</td><td>DVL1    </td><td>dishevelled segment polarity protein 1                  </td><td>HGNC:3084 </td><td>1p36.33</td><td>-</td><td>promoter</td><td>2000</td><td>FALSE</td><td>0</td><td>0</td></tr>\n",
       "\t<tr><th scope=row>6</th><td>1</td><td>1308110</td><td>1310110</td><td>AURKAIP1</td><td>1</td><td>AURKAIP1</td><td>aurora kinase A interacting protein 1                   </td><td>HGNC:24114</td><td>1p36.33</td><td>-</td><td>promoter</td><td>2000</td><td>FALSE</td><td>0</td><td>0</td></tr>\n",
       "</tbody>\n",
       "</table>\n"
      ],
      "text/latex": [
       "A data.frame: 6 × 15\n",
       "\\begin{tabular}{r|lllllllllllllll}\n",
       "  & chr & start\\_hg19 & end\\_hg19 & hybrid.gene.name & no.total.pubs & hugo\\_gene\\_name & Approved.name & HGNC.ID & Location & strand & type & size & is.whitelist & bp.tcga.overlap & bp.ecm.overlap\\\\\n",
       "  & <chr> & <int> & <int> & <chr> & <int> & <chr> & <chr> & <chr> & <chr> & <chr> & <chr> & <int> & <lgl> & <int> & <int>\\\\\n",
       "\\hline\n",
       "\t1 & 1 &  751751 &  753751 & FAM87B   & 1 & FAM87B   & family with sequence similarity 87 member B              & HGNC:32236 & 1p36.33 & + & promoter & 2000 & FALSE & 0 & 0\\\\\n",
       "\t2 & 1 &  878583 &  880583 & NOC2L    & 1 & NOC2L    & NOC2 like nucleolar associated transcriptional repressor & HGNC:24517 & 1p36.33 & - & promoter & 2000 & FALSE & 0 & 0\\\\\n",
       "\t3 & 1 &  935518 &  937518 & ISG15    & 1 & ISG15    & ISG15 ubiquitin like modifier                            & HGNC:4053  & 1p36.33 & + & promoter & 2000 & FALSE & 0 & 0\\\\\n",
       "\t4 & 1 & 1108260 & 1110260 & TTLL10   & 2 & TTLL10   & tubulin tyrosine ligase like 10                          & HGNC:26693 & 1p36.33 & + & promoter & 2000 & FALSE & 0 & 0\\\\\n",
       "\t5 & 1 & 1269656 & 1271656 & DVL1     & 1 & DVL1     & dishevelled segment polarity protein 1                   & HGNC:3084  & 1p36.33 & - & promoter & 2000 & FALSE & 0 & 0\\\\\n",
       "\t6 & 1 & 1308110 & 1310110 & AURKAIP1 & 1 & AURKAIP1 & aurora kinase A interacting protein 1                    & HGNC:24114 & 1p36.33 & - & promoter & 2000 & FALSE & 0 & 0\\\\\n",
       "\\end{tabular}\n"
      ],
      "text/markdown": [
       "\n",
       "A data.frame: 6 × 15\n",
       "\n",
       "| <!--/--> | chr &lt;chr&gt; | start_hg19 &lt;int&gt; | end_hg19 &lt;int&gt; | hybrid.gene.name &lt;chr&gt; | no.total.pubs &lt;int&gt; | hugo_gene_name &lt;chr&gt; | Approved.name &lt;chr&gt; | HGNC.ID &lt;chr&gt; | Location &lt;chr&gt; | strand &lt;chr&gt; | type &lt;chr&gt; | size &lt;int&gt; | is.whitelist &lt;lgl&gt; | bp.tcga.overlap &lt;int&gt; | bp.ecm.overlap &lt;int&gt; |\n",
       "|---|---|---|---|---|---|---|---|---|---|---|---|---|---|---|---|\n",
       "| 1 | 1 |  751751 |  753751 | FAM87B   | 1 | FAM87B   | family with sequence similarity 87 member B              | HGNC:32236 | 1p36.33 | + | promoter | 2000 | FALSE | 0 | 0 |\n",
       "| 2 | 1 |  878583 |  880583 | NOC2L    | 1 | NOC2L    | NOC2 like nucleolar associated transcriptional repressor | HGNC:24517 | 1p36.33 | - | promoter | 2000 | FALSE | 0 | 0 |\n",
       "| 3 | 1 |  935518 |  937518 | ISG15    | 1 | ISG15    | ISG15 ubiquitin like modifier                            | HGNC:4053  | 1p36.33 | + | promoter | 2000 | FALSE | 0 | 0 |\n",
       "| 4 | 1 | 1108260 | 1110260 | TTLL10   | 2 | TTLL10   | tubulin tyrosine ligase like 10                          | HGNC:26693 | 1p36.33 | + | promoter | 2000 | FALSE | 0 | 0 |\n",
       "| 5 | 1 | 1269656 | 1271656 | DVL1     | 1 | DVL1     | dishevelled segment polarity protein 1                   | HGNC:3084  | 1p36.33 | - | promoter | 2000 | FALSE | 0 | 0 |\n",
       "| 6 | 1 | 1308110 | 1310110 | AURKAIP1 | 1 | AURKAIP1 | aurora kinase A interacting protein 1                    | HGNC:24114 | 1p36.33 | - | promoter | 2000 | FALSE | 0 | 0 |\n",
       "\n"
      ],
      "text/plain": [
       "  chr start_hg19 end_hg19 hybrid.gene.name no.total.pubs hugo_gene_name\n",
       "1 1    751751     753751  FAM87B           1             FAM87B        \n",
       "2 1    878583     880583  NOC2L            1             NOC2L         \n",
       "3 1    935518     937518  ISG15            1             ISG15         \n",
       "4 1   1108260    1110260  TTLL10           2             TTLL10        \n",
       "5 1   1269656    1271656  DVL1             1             DVL1          \n",
       "6 1   1308110    1310110  AURKAIP1         1             AURKAIP1      \n",
       "  Approved.name                                            HGNC.ID    Location\n",
       "1 family with sequence similarity 87 member B              HGNC:32236 1p36.33 \n",
       "2 NOC2 like nucleolar associated transcriptional repressor HGNC:24517 1p36.33 \n",
       "3 ISG15 ubiquitin like modifier                            HGNC:4053  1p36.33 \n",
       "4 tubulin tyrosine ligase like 10                          HGNC:26693 1p36.33 \n",
       "5 dishevelled segment polarity protein 1                   HGNC:3084  1p36.33 \n",
       "6 aurora kinase A interacting protein 1                    HGNC:24114 1p36.33 \n",
       "  strand type     size is.whitelist bp.tcga.overlap bp.ecm.overlap\n",
       "1 +      promoter 2000 FALSE        0               0             \n",
       "2 -      promoter 2000 FALSE        0               0             \n",
       "3 +      promoter 2000 FALSE        0               0             \n",
       "4 +      promoter 2000 FALSE        0               0             \n",
       "5 -      promoter 2000 FALSE        0               0             \n",
       "6 -      promoter 2000 FALSE        0               0             "
      ]
     },
     "metadata": {},
     "output_type": "display_data"
    }
   ],
   "source": [
    "df_out = df_out %>% left_join(df_tcga_ol, by=c(chr=\"V1\",start_hg19=\"V2\",end_hg19=\"V3\"))\n",
    "df_out = df_out %>% left_join(df_ecm_ol, by=c(chr=\"V1\",start_hg19=\"V2\",end_hg19=\"V3\"))\n",
    "head(df_out)"
   ]
  },
  {
   "cell_type": "code",
   "execution_count": 423,
   "id": "849f24e5",
   "metadata": {},
   "outputs": [],
   "source": [
    "write.table(df_out, file=\"./marker_collation/Prostate_lit_regions_annotated_05272022.tsv\", sep=\"\\t\",\n",
    "           row.names=FALSE, col.names=TRUE, quote=FALSE)"
   ]
  },
  {
   "cell_type": "code",
   "execution_count": 422,
   "id": "2231f9c8",
   "metadata": {},
   "outputs": [
    {
     "data": {
      "text/html": [
       "<table class=\"dataframe\">\n",
       "<caption>A data.frame: 1 × 15</caption>\n",
       "<thead>\n",
       "\t<tr><th></th><th scope=col>chr</th><th scope=col>start_hg19</th><th scope=col>end_hg19</th><th scope=col>hybrid.gene.name</th><th scope=col>no.total.pubs</th><th scope=col>hugo_gene_name</th><th scope=col>Approved.name</th><th scope=col>HGNC.ID</th><th scope=col>Location</th><th scope=col>strand</th><th scope=col>type</th><th scope=col>size</th><th scope=col>is.whitelist</th><th scope=col>bp.tcga.overlap</th><th scope=col>bp.ecm.overlap</th></tr>\n",
       "\t<tr><th></th><th scope=col>&lt;chr&gt;</th><th scope=col>&lt;int&gt;</th><th scope=col>&lt;int&gt;</th><th scope=col>&lt;chr&gt;</th><th scope=col>&lt;int&gt;</th><th scope=col>&lt;chr&gt;</th><th scope=col>&lt;chr&gt;</th><th scope=col>&lt;chr&gt;</th><th scope=col>&lt;chr&gt;</th><th scope=col>&lt;chr&gt;</th><th scope=col>&lt;chr&gt;</th><th scope=col>&lt;int&gt;</th><th scope=col>&lt;lgl&gt;</th><th scope=col>&lt;int&gt;</th><th scope=col>&lt;int&gt;</th></tr>\n",
       "</thead>\n",
       "<tbody>\n",
       "\t<tr><th scope=row>1061</th><td>11</td><td>67350213</td><td>67352213</td><td>GSTP1</td><td>15</td><td>GSTP1</td><td>glutathione S-transferase pi 1</td><td>HGNC:4638</td><td>11q13.2</td><td>+</td><td>promoter</td><td>2000</td><td>TRUE</td><td>1065</td><td>695</td></tr>\n",
       "</tbody>\n",
       "</table>\n"
      ],
      "text/latex": [
       "A data.frame: 1 × 15\n",
       "\\begin{tabular}{r|lllllllllllllll}\n",
       "  & chr & start\\_hg19 & end\\_hg19 & hybrid.gene.name & no.total.pubs & hugo\\_gene\\_name & Approved.name & HGNC.ID & Location & strand & type & size & is.whitelist & bp.tcga.overlap & bp.ecm.overlap\\\\\n",
       "  & <chr> & <int> & <int> & <chr> & <int> & <chr> & <chr> & <chr> & <chr> & <chr> & <chr> & <int> & <lgl> & <int> & <int>\\\\\n",
       "\\hline\n",
       "\t1061 & 11 & 67350213 & 67352213 & GSTP1 & 15 & GSTP1 & glutathione S-transferase pi 1 & HGNC:4638 & 11q13.2 & + & promoter & 2000 & TRUE & 1065 & 695\\\\\n",
       "\\end{tabular}\n"
      ],
      "text/markdown": [
       "\n",
       "A data.frame: 1 × 15\n",
       "\n",
       "| <!--/--> | chr &lt;chr&gt; | start_hg19 &lt;int&gt; | end_hg19 &lt;int&gt; | hybrid.gene.name &lt;chr&gt; | no.total.pubs &lt;int&gt; | hugo_gene_name &lt;chr&gt; | Approved.name &lt;chr&gt; | HGNC.ID &lt;chr&gt; | Location &lt;chr&gt; | strand &lt;chr&gt; | type &lt;chr&gt; | size &lt;int&gt; | is.whitelist &lt;lgl&gt; | bp.tcga.overlap &lt;int&gt; | bp.ecm.overlap &lt;int&gt; |\n",
       "|---|---|---|---|---|---|---|---|---|---|---|---|---|---|---|---|\n",
       "| 1061 | 11 | 67350213 | 67352213 | GSTP1 | 15 | GSTP1 | glutathione S-transferase pi 1 | HGNC:4638 | 11q13.2 | + | promoter | 2000 | TRUE | 1065 | 695 |\n",
       "\n"
      ],
      "text/plain": [
       "     chr start_hg19 end_hg19 hybrid.gene.name no.total.pubs hugo_gene_name\n",
       "1061 11  67350213   67352213 GSTP1            15            GSTP1         \n",
       "     Approved.name                  HGNC.ID   Location strand type     size\n",
       "1061 glutathione S-transferase pi 1 HGNC:4638 11q13.2  +      promoter 2000\n",
       "     is.whitelist bp.tcga.overlap bp.ecm.overlap\n",
       "1061 TRUE         1065            695           "
      ]
     },
     "metadata": {},
     "output_type": "display_data"
    }
   ],
   "source": [
    "df_out[df_out$hugo_gene_name==\"GSTP1\",]"
   ]
  },
  {
   "cell_type": "code",
   "execution_count": 398,
   "id": "5ea962a6",
   "metadata": {
    "scrolled": true
   },
   "outputs": [
    {
     "data": {
      "text/html": [
       "<table class=\"dataframe\">\n",
       "<caption>A data.frame: 6 × 15</caption>\n",
       "<thead>\n",
       "\t<tr><th></th><th scope=col>chr</th><th scope=col>start_hg19</th><th scope=col>end_hg19</th><th scope=col>hybrid.gene.name</th><th scope=col>no.total.pubs</th><th scope=col>hugo_gene_name</th><th scope=col>Approved.name</th><th scope=col>HGNC.ID</th><th scope=col>Location</th><th scope=col>strand</th><th scope=col>type</th><th scope=col>size</th><th scope=col>is.whitelist</th><th scope=col>bp.tcga.overlap</th><th scope=col>bp.ecm.overlap</th></tr>\n",
       "\t<tr><th></th><th scope=col>&lt;chr&gt;</th><th scope=col>&lt;int&gt;</th><th scope=col>&lt;int&gt;</th><th scope=col>&lt;chr&gt;</th><th scope=col>&lt;int&gt;</th><th scope=col>&lt;chr&gt;</th><th scope=col>&lt;chr&gt;</th><th scope=col>&lt;chr&gt;</th><th scope=col>&lt;chr&gt;</th><th scope=col>&lt;chr&gt;</th><th scope=col>&lt;chr&gt;</th><th scope=col>&lt;int&gt;</th><th scope=col>&lt;lgl&gt;</th><th scope=col>&lt;int&gt;</th><th scope=col>&lt;int&gt;</th></tr>\n",
       "</thead>\n",
       "<tbody>\n",
       "\t<tr><th scope=row>1</th><td>1</td><td> 751751</td><td> 753751</td><td>FAM87B  </td><td>1</td><td>FAM87B  </td><td>family with sequence similarity 87 member B             </td><td>HGNC:32236</td><td>1p36.33</td><td>+</td><td>promoter</td><td>2000</td><td>FALSE</td><td>0</td><td>0</td></tr>\n",
       "\t<tr><th scope=row>2</th><td>1</td><td> 878583</td><td> 880583</td><td>NOC2L   </td><td>1</td><td>NOC2L   </td><td>NOC2 like nucleolar associated transcriptional repressor</td><td>HGNC:24517</td><td>1p36.33</td><td>-</td><td>promoter</td><td>2000</td><td>FALSE</td><td>0</td><td>0</td></tr>\n",
       "\t<tr><th scope=row>3</th><td>1</td><td> 935518</td><td> 937518</td><td>ISG15   </td><td>1</td><td>ISG15   </td><td>ISG15 ubiquitin like modifier                           </td><td>HGNC:4053 </td><td>1p36.33</td><td>+</td><td>promoter</td><td>2000</td><td>FALSE</td><td>0</td><td>0</td></tr>\n",
       "\t<tr><th scope=row>4</th><td>1</td><td>1108260</td><td>1110260</td><td>TTLL10  </td><td>2</td><td>TTLL10  </td><td>tubulin tyrosine ligase like 10                         </td><td>HGNC:26693</td><td>1p36.33</td><td>+</td><td>promoter</td><td>2000</td><td>FALSE</td><td>0</td><td>0</td></tr>\n",
       "\t<tr><th scope=row>5</th><td>1</td><td>1269656</td><td>1271656</td><td>DVL1    </td><td>1</td><td>DVL1    </td><td>dishevelled segment polarity protein 1                  </td><td>HGNC:3084 </td><td>1p36.33</td><td>-</td><td>promoter</td><td>2000</td><td>FALSE</td><td>0</td><td>0</td></tr>\n",
       "\t<tr><th scope=row>6</th><td>1</td><td>1308110</td><td>1310110</td><td>AURKAIP1</td><td>1</td><td>AURKAIP1</td><td>aurora kinase A interacting protein 1                   </td><td>HGNC:24114</td><td>1p36.33</td><td>-</td><td>promoter</td><td>2000</td><td>FALSE</td><td>0</td><td>0</td></tr>\n",
       "</tbody>\n",
       "</table>\n"
      ],
      "text/latex": [
       "A data.frame: 6 × 15\n",
       "\\begin{tabular}{r|lllllllllllllll}\n",
       "  & chr & start\\_hg19 & end\\_hg19 & hybrid.gene.name & no.total.pubs & hugo\\_gene\\_name & Approved.name & HGNC.ID & Location & strand & type & size & is.whitelist & bp.tcga.overlap & bp.ecm.overlap\\\\\n",
       "  & <chr> & <int> & <int> & <chr> & <int> & <chr> & <chr> & <chr> & <chr> & <chr> & <chr> & <int> & <lgl> & <int> & <int>\\\\\n",
       "\\hline\n",
       "\t1 & 1 &  751751 &  753751 & FAM87B   & 1 & FAM87B   & family with sequence similarity 87 member B              & HGNC:32236 & 1p36.33 & + & promoter & 2000 & FALSE & 0 & 0\\\\\n",
       "\t2 & 1 &  878583 &  880583 & NOC2L    & 1 & NOC2L    & NOC2 like nucleolar associated transcriptional repressor & HGNC:24517 & 1p36.33 & - & promoter & 2000 & FALSE & 0 & 0\\\\\n",
       "\t3 & 1 &  935518 &  937518 & ISG15    & 1 & ISG15    & ISG15 ubiquitin like modifier                            & HGNC:4053  & 1p36.33 & + & promoter & 2000 & FALSE & 0 & 0\\\\\n",
       "\t4 & 1 & 1108260 & 1110260 & TTLL10   & 2 & TTLL10   & tubulin tyrosine ligase like 10                          & HGNC:26693 & 1p36.33 & + & promoter & 2000 & FALSE & 0 & 0\\\\\n",
       "\t5 & 1 & 1269656 & 1271656 & DVL1     & 1 & DVL1     & dishevelled segment polarity protein 1                   & HGNC:3084  & 1p36.33 & - & promoter & 2000 & FALSE & 0 & 0\\\\\n",
       "\t6 & 1 & 1308110 & 1310110 & AURKAIP1 & 1 & AURKAIP1 & aurora kinase A interacting protein 1                    & HGNC:24114 & 1p36.33 & - & promoter & 2000 & FALSE & 0 & 0\\\\\n",
       "\\end{tabular}\n"
      ],
      "text/markdown": [
       "\n",
       "A data.frame: 6 × 15\n",
       "\n",
       "| <!--/--> | chr &lt;chr&gt; | start_hg19 &lt;int&gt; | end_hg19 &lt;int&gt; | hybrid.gene.name &lt;chr&gt; | no.total.pubs &lt;int&gt; | hugo_gene_name &lt;chr&gt; | Approved.name &lt;chr&gt; | HGNC.ID &lt;chr&gt; | Location &lt;chr&gt; | strand &lt;chr&gt; | type &lt;chr&gt; | size &lt;int&gt; | is.whitelist &lt;lgl&gt; | bp.tcga.overlap &lt;int&gt; | bp.ecm.overlap &lt;int&gt; |\n",
       "|---|---|---|---|---|---|---|---|---|---|---|---|---|---|---|---|\n",
       "| 1 | 1 |  751751 |  753751 | FAM87B   | 1 | FAM87B   | family with sequence similarity 87 member B              | HGNC:32236 | 1p36.33 | + | promoter | 2000 | FALSE | 0 | 0 |\n",
       "| 2 | 1 |  878583 |  880583 | NOC2L    | 1 | NOC2L    | NOC2 like nucleolar associated transcriptional repressor | HGNC:24517 | 1p36.33 | - | promoter | 2000 | FALSE | 0 | 0 |\n",
       "| 3 | 1 |  935518 |  937518 | ISG15    | 1 | ISG15    | ISG15 ubiquitin like modifier                            | HGNC:4053  | 1p36.33 | + | promoter | 2000 | FALSE | 0 | 0 |\n",
       "| 4 | 1 | 1108260 | 1110260 | TTLL10   | 2 | TTLL10   | tubulin tyrosine ligase like 10                          | HGNC:26693 | 1p36.33 | + | promoter | 2000 | FALSE | 0 | 0 |\n",
       "| 5 | 1 | 1269656 | 1271656 | DVL1     | 1 | DVL1     | dishevelled segment polarity protein 1                   | HGNC:3084  | 1p36.33 | - | promoter | 2000 | FALSE | 0 | 0 |\n",
       "| 6 | 1 | 1308110 | 1310110 | AURKAIP1 | 1 | AURKAIP1 | aurora kinase A interacting protein 1                    | HGNC:24114 | 1p36.33 | - | promoter | 2000 | FALSE | 0 | 0 |\n",
       "\n"
      ],
      "text/plain": [
       "  chr start_hg19 end_hg19 hybrid.gene.name no.total.pubs hugo_gene_name\n",
       "1 1    751751     753751  FAM87B           1             FAM87B        \n",
       "2 1    878583     880583  NOC2L            1             NOC2L         \n",
       "3 1    935518     937518  ISG15            1             ISG15         \n",
       "4 1   1108260    1110260  TTLL10           2             TTLL10        \n",
       "5 1   1269656    1271656  DVL1             1             DVL1          \n",
       "6 1   1308110    1310110  AURKAIP1         1             AURKAIP1      \n",
       "  Approved.name                                            HGNC.ID    Location\n",
       "1 family with sequence similarity 87 member B              HGNC:32236 1p36.33 \n",
       "2 NOC2 like nucleolar associated transcriptional repressor HGNC:24517 1p36.33 \n",
       "3 ISG15 ubiquitin like modifier                            HGNC:4053  1p36.33 \n",
       "4 tubulin tyrosine ligase like 10                          HGNC:26693 1p36.33 \n",
       "5 dishevelled segment polarity protein 1                   HGNC:3084  1p36.33 \n",
       "6 aurora kinase A interacting protein 1                    HGNC:24114 1p36.33 \n",
       "  strand type     size is.whitelist bp.tcga.overlap bp.ecm.overlap\n",
       "1 +      promoter 2000 FALSE        0               0             \n",
       "2 -      promoter 2000 FALSE        0               0             \n",
       "3 +      promoter 2000 FALSE        0               0             \n",
       "4 +      promoter 2000 FALSE        0               0             \n",
       "5 -      promoter 2000 FALSE        0               0             \n",
       "6 -      promoter 2000 FALSE        0               0             "
      ]
     },
     "metadata": {},
     "output_type": "display_data"
    }
   ],
   "source": [
    "df = read.csv(\"./marker_collation/Prostate_lit_regions_annotated_05252022.tsv\", sep=\"\\t\", header=TRUE)\n",
    "head(df)"
   ]
  },
  {
   "cell_type": "code",
   "execution_count": 399,
   "id": "ab2892c3",
   "metadata": {
    "scrolled": true
   },
   "outputs": [
    {
     "data": {
      "text/html": [
       "154"
      ],
      "text/latex": [
       "154"
      ],
      "text/markdown": [
       "154"
      ],
      "text/plain": [
       "[1] 154"
      ]
     },
     "metadata": {},
     "output_type": "display_data"
    }
   ],
   "source": [
    "sum(df$bp.tcga.overlap>0)\n"
   ]
  },
  {
   "cell_type": "code",
   "execution_count": 400,
   "id": "12418648",
   "metadata": {},
   "outputs": [
    {
     "data": {
      "text/html": [
       "558"
      ],
      "text/latex": [
       "558"
      ],
      "text/markdown": [
       "558"
      ],
      "text/plain": [
       "[1] 558"
      ]
     },
     "metadata": {},
     "output_type": "display_data"
    }
   ],
   "source": [
    "sum(df$bp.ecm.overlap>0)"
   ]
  },
  {
   "cell_type": "code",
   "execution_count": 401,
   "id": "5da2ee18",
   "metadata": {},
   "outputs": [
    {
     "data": {
      "text/html": [
       "5708"
      ],
      "text/latex": [
       "5708"
      ],
      "text/markdown": [
       "5708"
      ],
      "text/plain": [
       "[1] 5708"
      ]
     },
     "metadata": {},
     "output_type": "display_data"
    }
   ],
   "source": [
    "nrow(df)"
   ]
  },
  {
   "cell_type": "markdown",
   "id": "737457bb",
   "metadata": {},
   "source": [
    "# reattach publication annotations"
   ]
  },
  {
   "cell_type": "code",
   "execution_count": 2,
   "id": "95f13bf6",
   "metadata": {},
   "outputs": [
    {
     "data": {
      "text/html": [
       "<table class=\"dataframe\">\n",
       "<caption>A data.frame: 6 × 20</caption>\n",
       "<thead>\n",
       "\t<tr><th></th><th scope=col>chr_hg19</th><th scope=col>start_hg19</th><th scope=col>end_hg19</th><th scope=col>chr_hg38</th><th scope=col>start_hg38</th><th scope=col>end_hg38</th><th scope=col>pub.strand</th><th scope=col>source</th><th scope=col>pub.gene.name</th><th scope=col>pub.reg.type</th><th scope=col>probe</th><th scope=col>notes</th><th scope=col>no.pubs</th><th scope=col>in.gencode.gene</th><th scope=col>gencode.gene.name</th><th scope=col>in.gencode.promoter</th><th scope=col>is.ingergenic</th><th scope=col>hybrid.gene.name</th><th scope=col>no.total.pubs</th><th scope=col>region</th></tr>\n",
       "\t<tr><th></th><th scope=col>&lt;chr&gt;</th><th scope=col>&lt;int&gt;</th><th scope=col>&lt;int&gt;</th><th scope=col>&lt;chr&gt;</th><th scope=col>&lt;int&gt;</th><th scope=col>&lt;int&gt;</th><th scope=col>&lt;chr&gt;</th><th scope=col>&lt;chr&gt;</th><th scope=col>&lt;chr&gt;</th><th scope=col>&lt;chr&gt;</th><th scope=col>&lt;chr&gt;</th><th scope=col>&lt;chr&gt;</th><th scope=col>&lt;int&gt;</th><th scope=col>&lt;lgl&gt;</th><th scope=col>&lt;chr&gt;</th><th scope=col>&lt;lgl&gt;</th><th scope=col>&lt;lgl&gt;</th><th scope=col>&lt;chr&gt;</th><th scope=col>&lt;int&gt;</th><th scope=col>&lt;chr&gt;</th></tr>\n",
       "</thead>\n",
       "<tbody>\n",
       "\t<tr><th scope=row>1</th><td>4 </td><td>106067032</td><td>106200973</td><td>chr4 </td><td>105145875</td><td>105279816</td><td>+</td><td>Kukkonen et al. 2021</td><td>TET2  </td><td>gene</td><td>NA</td><td>hypermethylated subtype            </td><td>1</td><td>TRUE</td><td>TET2-AS1</td><td>TRUE</td><td>FALSE</td><td>TET2  </td><td>4</td><td>4 : 105145875 - 105279816</td></tr>\n",
       "\t<tr><th scope=row>2</th><td>20</td><td> 31350191</td><td> 31397165</td><td>chr20</td><td> 32762385</td><td> 32809359</td><td>+</td><td>Kukkonen et al. 2021</td><td>DNMT3B</td><td>gene</td><td>NA</td><td>hypermethylated subtype            </td><td>1</td><td>TRUE</td><td>DNMT3B  </td><td>TRUE</td><td>FALSE</td><td>DNMT3B</td><td>2</td><td>20 : 32762385 - 32809359 </td></tr>\n",
       "\t<tr><th scope=row>3</th><td>2 </td><td>209100953</td><td>209130798</td><td>chr2 </td><td>208236229</td><td>208266074</td><td>-</td><td>Kukkonen et al. 2021</td><td>IDH1  </td><td>gene</td><td>NA</td><td>hypermethylated subtype            </td><td>1</td><td>TRUE</td><td>IDH1-AS1</td><td>TRUE</td><td>FALSE</td><td>IDH1  </td><td>1</td><td>2 : 208236229 - 208266074</td></tr>\n",
       "\t<tr><th scope=row>4</th><td>7 </td><td>140419127</td><td>140624729</td><td>chr7 </td><td>140719327</td><td>140924929</td><td>-</td><td>Kukkonen et al. 2021</td><td>BRAF  </td><td>gene</td><td>NA</td><td>hypermethylated subtype            </td><td>1</td><td>TRUE</td><td>RNU6-85P</td><td>TRUE</td><td>FALSE</td><td>BRAF  </td><td>1</td><td>7 : 140719327 - 140924929</td></tr>\n",
       "\t<tr><th scope=row>5</th><td>X </td><td> 66763863</td><td> 66950461</td><td>chrX </td><td> 67544021</td><td> 67730619</td><td>+</td><td>Kukkonen et al. 2021</td><td>AR    </td><td>gene</td><td>NA</td><td>hypermethylated intergenic regions </td><td>1</td><td>TRUE</td><td>AR      </td><td>TRUE</td><td>FALSE</td><td>AR    </td><td>2</td><td>X : 67544021 - 67730619  </td></tr>\n",
       "\t<tr><th scope=row>6</th><td>8 </td><td>128747680</td><td>128755197</td><td>chr8 </td><td>127735434</td><td>127742951</td><td>+</td><td>Kukkonen et al. 2021</td><td>MYC   </td><td>gene</td><td>NA</td><td>hypermethylated intergenic regions </td><td>1</td><td>TRUE</td><td>MYC     </td><td>TRUE</td><td>FALSE</td><td>MYC   </td><td>3</td><td>8 : 127735434 - 127742951</td></tr>\n",
       "</tbody>\n",
       "</table>\n"
      ],
      "text/latex": [
       "A data.frame: 6 × 20\n",
       "\\begin{tabular}{r|llllllllllllllllllll}\n",
       "  & chr\\_hg19 & start\\_hg19 & end\\_hg19 & chr\\_hg38 & start\\_hg38 & end\\_hg38 & pub.strand & source & pub.gene.name & pub.reg.type & probe & notes & no.pubs & in.gencode.gene & gencode.gene.name & in.gencode.promoter & is.ingergenic & hybrid.gene.name & no.total.pubs & region\\\\\n",
       "  & <chr> & <int> & <int> & <chr> & <int> & <int> & <chr> & <chr> & <chr> & <chr> & <chr> & <chr> & <int> & <lgl> & <chr> & <lgl> & <lgl> & <chr> & <int> & <chr>\\\\\n",
       "\\hline\n",
       "\t1 & 4  & 106067032 & 106200973 & chr4  & 105145875 & 105279816 & + & Kukkonen et al. 2021 & TET2   & gene & NA & hypermethylated subtype             & 1 & TRUE & TET2-AS1 & TRUE & FALSE & TET2   & 4 & 4 : 105145875 - 105279816\\\\\n",
       "\t2 & 20 &  31350191 &  31397165 & chr20 &  32762385 &  32809359 & + & Kukkonen et al. 2021 & DNMT3B & gene & NA & hypermethylated subtype             & 1 & TRUE & DNMT3B   & TRUE & FALSE & DNMT3B & 2 & 20 : 32762385 - 32809359 \\\\\n",
       "\t3 & 2  & 209100953 & 209130798 & chr2  & 208236229 & 208266074 & - & Kukkonen et al. 2021 & IDH1   & gene & NA & hypermethylated subtype             & 1 & TRUE & IDH1-AS1 & TRUE & FALSE & IDH1   & 1 & 2 : 208236229 - 208266074\\\\\n",
       "\t4 & 7  & 140419127 & 140624729 & chr7  & 140719327 & 140924929 & - & Kukkonen et al. 2021 & BRAF   & gene & NA & hypermethylated subtype             & 1 & TRUE & RNU6-85P & TRUE & FALSE & BRAF   & 1 & 7 : 140719327 - 140924929\\\\\n",
       "\t5 & X  &  66763863 &  66950461 & chrX  &  67544021 &  67730619 & + & Kukkonen et al. 2021 & AR     & gene & NA & hypermethylated intergenic regions  & 1 & TRUE & AR       & TRUE & FALSE & AR     & 2 & X : 67544021 - 67730619  \\\\\n",
       "\t6 & 8  & 128747680 & 128755197 & chr8  & 127735434 & 127742951 & + & Kukkonen et al. 2021 & MYC    & gene & NA & hypermethylated intergenic regions  & 1 & TRUE & MYC      & TRUE & FALSE & MYC    & 3 & 8 : 127735434 - 127742951\\\\\n",
       "\\end{tabular}\n"
      ],
      "text/markdown": [
       "\n",
       "A data.frame: 6 × 20\n",
       "\n",
       "| <!--/--> | chr_hg19 &lt;chr&gt; | start_hg19 &lt;int&gt; | end_hg19 &lt;int&gt; | chr_hg38 &lt;chr&gt; | start_hg38 &lt;int&gt; | end_hg38 &lt;int&gt; | pub.strand &lt;chr&gt; | source &lt;chr&gt; | pub.gene.name &lt;chr&gt; | pub.reg.type &lt;chr&gt; | probe &lt;chr&gt; | notes &lt;chr&gt; | no.pubs &lt;int&gt; | in.gencode.gene &lt;lgl&gt; | gencode.gene.name &lt;chr&gt; | in.gencode.promoter &lt;lgl&gt; | is.ingergenic &lt;lgl&gt; | hybrid.gene.name &lt;chr&gt; | no.total.pubs &lt;int&gt; | region &lt;chr&gt; |\n",
       "|---|---|---|---|---|---|---|---|---|---|---|---|---|---|---|---|---|---|---|---|---|\n",
       "| 1 | 4  | 106067032 | 106200973 | chr4  | 105145875 | 105279816 | + | Kukkonen et al. 2021 | TET2   | gene | NA | hypermethylated subtype             | 1 | TRUE | TET2-AS1 | TRUE | FALSE | TET2   | 4 | 4 : 105145875 - 105279816 |\n",
       "| 2 | 20 |  31350191 |  31397165 | chr20 |  32762385 |  32809359 | + | Kukkonen et al. 2021 | DNMT3B | gene | NA | hypermethylated subtype             | 1 | TRUE | DNMT3B   | TRUE | FALSE | DNMT3B | 2 | 20 : 32762385 - 32809359  |\n",
       "| 3 | 2  | 209100953 | 209130798 | chr2  | 208236229 | 208266074 | - | Kukkonen et al. 2021 | IDH1   | gene | NA | hypermethylated subtype             | 1 | TRUE | IDH1-AS1 | TRUE | FALSE | IDH1   | 1 | 2 : 208236229 - 208266074 |\n",
       "| 4 | 7  | 140419127 | 140624729 | chr7  | 140719327 | 140924929 | - | Kukkonen et al. 2021 | BRAF   | gene | NA | hypermethylated subtype             | 1 | TRUE | RNU6-85P | TRUE | FALSE | BRAF   | 1 | 7 : 140719327 - 140924929 |\n",
       "| 5 | X  |  66763863 |  66950461 | chrX  |  67544021 |  67730619 | + | Kukkonen et al. 2021 | AR     | gene | NA | hypermethylated intergenic regions  | 1 | TRUE | AR       | TRUE | FALSE | AR     | 2 | X : 67544021 - 67730619   |\n",
       "| 6 | 8  | 128747680 | 128755197 | chr8  | 127735434 | 127742951 | + | Kukkonen et al. 2021 | MYC    | gene | NA | hypermethylated intergenic regions  | 1 | TRUE | MYC      | TRUE | FALSE | MYC    | 3 | 8 : 127735434 - 127742951 |\n",
       "\n"
      ],
      "text/plain": [
       "  chr_hg19 start_hg19 end_hg19  chr_hg38 start_hg38 end_hg38  pub.strand\n",
       "1 4        106067032  106200973 chr4     105145875  105279816 +         \n",
       "2 20        31350191   31397165 chr20     32762385   32809359 +         \n",
       "3 2        209100953  209130798 chr2     208236229  208266074 -         \n",
       "4 7        140419127  140624729 chr7     140719327  140924929 -         \n",
       "5 X         66763863   66950461 chrX      67544021   67730619 +         \n",
       "6 8        128747680  128755197 chr8     127735434  127742951 +         \n",
       "  source               pub.gene.name pub.reg.type probe\n",
       "1 Kukkonen et al. 2021 TET2          gene         NA   \n",
       "2 Kukkonen et al. 2021 DNMT3B        gene         NA   \n",
       "3 Kukkonen et al. 2021 IDH1          gene         NA   \n",
       "4 Kukkonen et al. 2021 BRAF          gene         NA   \n",
       "5 Kukkonen et al. 2021 AR            gene         NA   \n",
       "6 Kukkonen et al. 2021 MYC           gene         NA   \n",
       "  notes                               no.pubs in.gencode.gene gencode.gene.name\n",
       "1 hypermethylated subtype             1       TRUE            TET2-AS1         \n",
       "2 hypermethylated subtype             1       TRUE            DNMT3B           \n",
       "3 hypermethylated subtype             1       TRUE            IDH1-AS1         \n",
       "4 hypermethylated subtype             1       TRUE            RNU6-85P         \n",
       "5 hypermethylated intergenic regions  1       TRUE            AR               \n",
       "6 hypermethylated intergenic regions  1       TRUE            MYC              \n",
       "  in.gencode.promoter is.ingergenic hybrid.gene.name no.total.pubs\n",
       "1 TRUE                FALSE         TET2             4            \n",
       "2 TRUE                FALSE         DNMT3B           2            \n",
       "3 TRUE                FALSE         IDH1             1            \n",
       "4 TRUE                FALSE         BRAF             1            \n",
       "5 TRUE                FALSE         AR               2            \n",
       "6 TRUE                FALSE         MYC              3            \n",
       "  region                   \n",
       "1 4 : 105145875 - 105279816\n",
       "2 20 : 32762385 - 32809359 \n",
       "3 2 : 208236229 - 208266074\n",
       "4 7 : 140719327 - 140924929\n",
       "5 X : 67544021 - 67730619  \n",
       "6 8 : 127735434 - 127742951"
      ]
     },
     "metadata": {},
     "output_type": "display_data"
    }
   ],
   "source": [
    "df_regions = read.csv(\"./marker_collation/all_lit_regions_wcoords_annot_as_hg19.tsv\", \n",
    "                     header=TRUE, sep=\"\\t\")\n",
    "head(df_regions)"
   ]
  },
  {
   "cell_type": "code",
   "execution_count": 16,
   "id": "10ae1d27",
   "metadata": {},
   "outputs": [
    {
     "data": {
      "text/html": [
       "120417"
      ],
      "text/latex": [
       "120417"
      ],
      "text/markdown": [
       "120417"
      ],
      "text/plain": [
       "[1] 120417"
      ]
     },
     "metadata": {},
     "output_type": "display_data"
    },
    {
     "data": {
      "text/html": [
       "5944"
      ],
      "text/latex": [
       "5944"
      ],
      "text/markdown": [
       "5944"
      ],
      "text/plain": [
       "[1] 5944"
      ]
     },
     "metadata": {},
     "output_type": "display_data"
    },
    {
     "data": {
      "text/html": [
       "<table class=\"dataframe\">\n",
       "<caption>A tibble: 1 × 2</caption>\n",
       "<thead>\n",
       "\t<tr><th scope=col>hybrid.gene.name</th><th scope=col>sources</th></tr>\n",
       "\t<tr><th scope=col>&lt;chr&gt;</th><th scope=col>&lt;chr&gt;</th></tr>\n",
       "</thead>\n",
       "<tbody>\n",
       "\t<tr><td>GSTP1</td><td>Constancio et al. 2019;Massie et al. 2017;Ylitalo et al 2021;Sugiura et al 2021</td></tr>\n",
       "</tbody>\n",
       "</table>\n"
      ],
      "text/latex": [
       "A tibble: 1 × 2\n",
       "\\begin{tabular}{ll}\n",
       " hybrid.gene.name & sources\\\\\n",
       " <chr> & <chr>\\\\\n",
       "\\hline\n",
       "\t GSTP1 & Constancio et al. 2019;Massie et al. 2017;Ylitalo et al 2021;Sugiura et al 2021\\\\\n",
       "\\end{tabular}\n"
      ],
      "text/markdown": [
       "\n",
       "A tibble: 1 × 2\n",
       "\n",
       "| hybrid.gene.name &lt;chr&gt; | sources &lt;chr&gt; |\n",
       "|---|---|\n",
       "| GSTP1 | Constancio et al. 2019;Massie et al. 2017;Ylitalo et al 2021;Sugiura et al 2021 |\n",
       "\n"
      ],
      "text/plain": [
       "  hybrid.gene.name\n",
       "1 GSTP1           \n",
       "  sources                                                                        \n",
       "1 Constancio et al. 2019;Massie et al. 2017;Ylitalo et al 2021;Sugiura et al 2021"
      ]
     },
     "metadata": {},
     "output_type": "display_data"
    }
   ],
   "source": [
    "nrow(df_regions)\n",
    "pubs_key = df_regions %>% group_by(hybrid.gene.name) %>% summarize(sources=paste(unique(source), collapse=\";\"))\n",
    "nrow(pubs_key)\n",
    "pubs_key %>% filter(hybrid.gene.name==\"GSTP1\")"
   ]
  },
  {
   "cell_type": "code",
   "execution_count": 17,
   "id": "fa34becd",
   "metadata": {},
   "outputs": [
    {
     "data": {
      "text/html": [
       "<table class=\"dataframe\">\n",
       "<caption>A data.frame: 6 × 15</caption>\n",
       "<thead>\n",
       "\t<tr><th></th><th scope=col>chr</th><th scope=col>start_hg19</th><th scope=col>end_hg19</th><th scope=col>hybrid.gene.name</th><th scope=col>no.total.pubs</th><th scope=col>hugo_gene_name</th><th scope=col>Approved.name</th><th scope=col>HGNC.ID</th><th scope=col>Location</th><th scope=col>strand</th><th scope=col>type</th><th scope=col>size</th><th scope=col>is.whitelist</th><th scope=col>bp.tcga.overlap</th><th scope=col>bp.ecm.overlap</th></tr>\n",
       "\t<tr><th></th><th scope=col>&lt;chr&gt;</th><th scope=col>&lt;int&gt;</th><th scope=col>&lt;int&gt;</th><th scope=col>&lt;chr&gt;</th><th scope=col>&lt;int&gt;</th><th scope=col>&lt;chr&gt;</th><th scope=col>&lt;chr&gt;</th><th scope=col>&lt;chr&gt;</th><th scope=col>&lt;chr&gt;</th><th scope=col>&lt;chr&gt;</th><th scope=col>&lt;chr&gt;</th><th scope=col>&lt;int&gt;</th><th scope=col>&lt;lgl&gt;</th><th scope=col>&lt;int&gt;</th><th scope=col>&lt;int&gt;</th></tr>\n",
       "</thead>\n",
       "<tbody>\n",
       "\t<tr><th scope=row>1</th><td>1</td><td> 751751</td><td> 753751</td><td>FAM87B  </td><td>1</td><td>FAM87B  </td><td>family with sequence similarity 87 member B             </td><td>HGNC:32236</td><td>1p36.33</td><td>+</td><td>promoter</td><td>2000</td><td>FALSE</td><td>0</td><td>0</td></tr>\n",
       "\t<tr><th scope=row>2</th><td>1</td><td> 878583</td><td> 880583</td><td>NOC2L   </td><td>1</td><td>NOC2L   </td><td>NOC2 like nucleolar associated transcriptional repressor</td><td>HGNC:24517</td><td>1p36.33</td><td>-</td><td>promoter</td><td>2000</td><td>FALSE</td><td>0</td><td>0</td></tr>\n",
       "\t<tr><th scope=row>3</th><td>1</td><td> 935518</td><td> 937518</td><td>ISG15   </td><td>1</td><td>ISG15   </td><td>ISG15 ubiquitin like modifier                           </td><td>HGNC:4053 </td><td>1p36.33</td><td>+</td><td>promoter</td><td>2000</td><td>FALSE</td><td>0</td><td>0</td></tr>\n",
       "\t<tr><th scope=row>4</th><td>1</td><td>1108260</td><td>1110260</td><td>TTLL10  </td><td>2</td><td>TTLL10  </td><td>tubulin tyrosine ligase like 10                         </td><td>HGNC:26693</td><td>1p36.33</td><td>+</td><td>promoter</td><td>2000</td><td>FALSE</td><td>0</td><td>0</td></tr>\n",
       "\t<tr><th scope=row>5</th><td>1</td><td>1269656</td><td>1271656</td><td>DVL1    </td><td>1</td><td>DVL1    </td><td>dishevelled segment polarity protein 1                  </td><td>HGNC:3084 </td><td>1p36.33</td><td>-</td><td>promoter</td><td>2000</td><td>FALSE</td><td>0</td><td>0</td></tr>\n",
       "\t<tr><th scope=row>6</th><td>1</td><td>1308110</td><td>1310110</td><td>AURKAIP1</td><td>1</td><td>AURKAIP1</td><td>aurora kinase A interacting protein 1                   </td><td>HGNC:24114</td><td>1p36.33</td><td>-</td><td>promoter</td><td>2000</td><td>FALSE</td><td>0</td><td>0</td></tr>\n",
       "</tbody>\n",
       "</table>\n"
      ],
      "text/latex": [
       "A data.frame: 6 × 15\n",
       "\\begin{tabular}{r|lllllllllllllll}\n",
       "  & chr & start\\_hg19 & end\\_hg19 & hybrid.gene.name & no.total.pubs & hugo\\_gene\\_name & Approved.name & HGNC.ID & Location & strand & type & size & is.whitelist & bp.tcga.overlap & bp.ecm.overlap\\\\\n",
       "  & <chr> & <int> & <int> & <chr> & <int> & <chr> & <chr> & <chr> & <chr> & <chr> & <chr> & <int> & <lgl> & <int> & <int>\\\\\n",
       "\\hline\n",
       "\t1 & 1 &  751751 &  753751 & FAM87B   & 1 & FAM87B   & family with sequence similarity 87 member B              & HGNC:32236 & 1p36.33 & + & promoter & 2000 & FALSE & 0 & 0\\\\\n",
       "\t2 & 1 &  878583 &  880583 & NOC2L    & 1 & NOC2L    & NOC2 like nucleolar associated transcriptional repressor & HGNC:24517 & 1p36.33 & - & promoter & 2000 & FALSE & 0 & 0\\\\\n",
       "\t3 & 1 &  935518 &  937518 & ISG15    & 1 & ISG15    & ISG15 ubiquitin like modifier                            & HGNC:4053  & 1p36.33 & + & promoter & 2000 & FALSE & 0 & 0\\\\\n",
       "\t4 & 1 & 1108260 & 1110260 & TTLL10   & 2 & TTLL10   & tubulin tyrosine ligase like 10                          & HGNC:26693 & 1p36.33 & + & promoter & 2000 & FALSE & 0 & 0\\\\\n",
       "\t5 & 1 & 1269656 & 1271656 & DVL1     & 1 & DVL1     & dishevelled segment polarity protein 1                   & HGNC:3084  & 1p36.33 & - & promoter & 2000 & FALSE & 0 & 0\\\\\n",
       "\t6 & 1 & 1308110 & 1310110 & AURKAIP1 & 1 & AURKAIP1 & aurora kinase A interacting protein 1                    & HGNC:24114 & 1p36.33 & - & promoter & 2000 & FALSE & 0 & 0\\\\\n",
       "\\end{tabular}\n"
      ],
      "text/markdown": [
       "\n",
       "A data.frame: 6 × 15\n",
       "\n",
       "| <!--/--> | chr &lt;chr&gt; | start_hg19 &lt;int&gt; | end_hg19 &lt;int&gt; | hybrid.gene.name &lt;chr&gt; | no.total.pubs &lt;int&gt; | hugo_gene_name &lt;chr&gt; | Approved.name &lt;chr&gt; | HGNC.ID &lt;chr&gt; | Location &lt;chr&gt; | strand &lt;chr&gt; | type &lt;chr&gt; | size &lt;int&gt; | is.whitelist &lt;lgl&gt; | bp.tcga.overlap &lt;int&gt; | bp.ecm.overlap &lt;int&gt; |\n",
       "|---|---|---|---|---|---|---|---|---|---|---|---|---|---|---|---|\n",
       "| 1 | 1 |  751751 |  753751 | FAM87B   | 1 | FAM87B   | family with sequence similarity 87 member B              | HGNC:32236 | 1p36.33 | + | promoter | 2000 | FALSE | 0 | 0 |\n",
       "| 2 | 1 |  878583 |  880583 | NOC2L    | 1 | NOC2L    | NOC2 like nucleolar associated transcriptional repressor | HGNC:24517 | 1p36.33 | - | promoter | 2000 | FALSE | 0 | 0 |\n",
       "| 3 | 1 |  935518 |  937518 | ISG15    | 1 | ISG15    | ISG15 ubiquitin like modifier                            | HGNC:4053  | 1p36.33 | + | promoter | 2000 | FALSE | 0 | 0 |\n",
       "| 4 | 1 | 1108260 | 1110260 | TTLL10   | 2 | TTLL10   | tubulin tyrosine ligase like 10                          | HGNC:26693 | 1p36.33 | + | promoter | 2000 | FALSE | 0 | 0 |\n",
       "| 5 | 1 | 1269656 | 1271656 | DVL1     | 1 | DVL1     | dishevelled segment polarity protein 1                   | HGNC:3084  | 1p36.33 | - | promoter | 2000 | FALSE | 0 | 0 |\n",
       "| 6 | 1 | 1308110 | 1310110 | AURKAIP1 | 1 | AURKAIP1 | aurora kinase A interacting protein 1                    | HGNC:24114 | 1p36.33 | - | promoter | 2000 | FALSE | 0 | 0 |\n",
       "\n"
      ],
      "text/plain": [
       "  chr start_hg19 end_hg19 hybrid.gene.name no.total.pubs hugo_gene_name\n",
       "1 1    751751     753751  FAM87B           1             FAM87B        \n",
       "2 1    878583     880583  NOC2L            1             NOC2L         \n",
       "3 1    935518     937518  ISG15            1             ISG15         \n",
       "4 1   1108260    1110260  TTLL10           2             TTLL10        \n",
       "5 1   1269656    1271656  DVL1             1             DVL1          \n",
       "6 1   1308110    1310110  AURKAIP1         1             AURKAIP1      \n",
       "  Approved.name                                            HGNC.ID    Location\n",
       "1 family with sequence similarity 87 member B              HGNC:32236 1p36.33 \n",
       "2 NOC2 like nucleolar associated transcriptional repressor HGNC:24517 1p36.33 \n",
       "3 ISG15 ubiquitin like modifier                            HGNC:4053  1p36.33 \n",
       "4 tubulin tyrosine ligase like 10                          HGNC:26693 1p36.33 \n",
       "5 dishevelled segment polarity protein 1                   HGNC:3084  1p36.33 \n",
       "6 aurora kinase A interacting protein 1                    HGNC:24114 1p36.33 \n",
       "  strand type     size is.whitelist bp.tcga.overlap bp.ecm.overlap\n",
       "1 +      promoter 2000 FALSE        0               0             \n",
       "2 -      promoter 2000 FALSE        0               0             \n",
       "3 +      promoter 2000 FALSE        0               0             \n",
       "4 +      promoter 2000 FALSE        0               0             \n",
       "5 -      promoter 2000 FALSE        0               0             \n",
       "6 -      promoter 2000 FALSE        0               0             "
      ]
     },
     "metadata": {},
     "output_type": "display_data"
    }
   ],
   "source": [
    "df_regions_outfile = read.csv(\"./marker_collation/Prostate_lit_regions_annotated_05272022.tsv\",\n",
    "                             header=TRUE, sep=\"\\t\")\n",
    "\n",
    "head(df_regions_outfile)"
   ]
  },
  {
   "cell_type": "code",
   "execution_count": 19,
   "id": "80301f03",
   "metadata": {},
   "outputs": [
    {
     "data": {
      "text/html": [
       "5708"
      ],
      "text/latex": [
       "5708"
      ],
      "text/markdown": [
       "5708"
      ],
      "text/plain": [
       "[1] 5708"
      ]
     },
     "metadata": {},
     "output_type": "display_data"
    },
    {
     "data": {
      "text/html": [
       "0"
      ],
      "text/latex": [
       "0"
      ],
      "text/markdown": [
       "0"
      ],
      "text/plain": [
       "[1] 0"
      ]
     },
     "metadata": {},
     "output_type": "display_data"
    }
   ],
   "source": [
    "df_updated_outfile = df_regions_outfile %>% \n",
    "    left_join(pubs_key %>% select(hybrid.gene.name, sources), by=\"hybrid.gene.name\")\n",
    "nrow(df_updated_outfile)\n",
    "sum(is.na(df_updated_outfile$sources))"
   ]
  },
  {
   "cell_type": "code",
   "execution_count": 20,
   "id": "24665a84",
   "metadata": {},
   "outputs": [
    {
     "data": {
      "text/html": [
       "<table class=\"dataframe\">\n",
       "<caption>A data.frame: 1 × 16</caption>\n",
       "<thead>\n",
       "\t<tr><th scope=col>chr</th><th scope=col>start_hg19</th><th scope=col>end_hg19</th><th scope=col>hybrid.gene.name</th><th scope=col>no.total.pubs</th><th scope=col>hugo_gene_name</th><th scope=col>Approved.name</th><th scope=col>HGNC.ID</th><th scope=col>Location</th><th scope=col>strand</th><th scope=col>type</th><th scope=col>size</th><th scope=col>is.whitelist</th><th scope=col>bp.tcga.overlap</th><th scope=col>bp.ecm.overlap</th><th scope=col>sources</th></tr>\n",
       "\t<tr><th scope=col>&lt;chr&gt;</th><th scope=col>&lt;int&gt;</th><th scope=col>&lt;int&gt;</th><th scope=col>&lt;chr&gt;</th><th scope=col>&lt;int&gt;</th><th scope=col>&lt;chr&gt;</th><th scope=col>&lt;chr&gt;</th><th scope=col>&lt;chr&gt;</th><th scope=col>&lt;chr&gt;</th><th scope=col>&lt;chr&gt;</th><th scope=col>&lt;chr&gt;</th><th scope=col>&lt;int&gt;</th><th scope=col>&lt;lgl&gt;</th><th scope=col>&lt;int&gt;</th><th scope=col>&lt;int&gt;</th><th scope=col>&lt;chr&gt;</th></tr>\n",
       "</thead>\n",
       "<tbody>\n",
       "\t<tr><td>11</td><td>67350213</td><td>67352213</td><td>GSTP1</td><td>15</td><td>GSTP1</td><td>glutathione S-transferase pi 1</td><td>HGNC:4638</td><td>11q13.2</td><td>+</td><td>promoter</td><td>2000</td><td>TRUE</td><td>1065</td><td>695</td><td>Constancio et al. 2019;Massie et al. 2017;Ylitalo et al 2021;Sugiura et al 2021</td></tr>\n",
       "</tbody>\n",
       "</table>\n"
      ],
      "text/latex": [
       "A data.frame: 1 × 16\n",
       "\\begin{tabular}{llllllllllllllll}\n",
       " chr & start\\_hg19 & end\\_hg19 & hybrid.gene.name & no.total.pubs & hugo\\_gene\\_name & Approved.name & HGNC.ID & Location & strand & type & size & is.whitelist & bp.tcga.overlap & bp.ecm.overlap & sources\\\\\n",
       " <chr> & <int> & <int> & <chr> & <int> & <chr> & <chr> & <chr> & <chr> & <chr> & <chr> & <int> & <lgl> & <int> & <int> & <chr>\\\\\n",
       "\\hline\n",
       "\t 11 & 67350213 & 67352213 & GSTP1 & 15 & GSTP1 & glutathione S-transferase pi 1 & HGNC:4638 & 11q13.2 & + & promoter & 2000 & TRUE & 1065 & 695 & Constancio et al. 2019;Massie et al. 2017;Ylitalo et al 2021;Sugiura et al 2021\\\\\n",
       "\\end{tabular}\n"
      ],
      "text/markdown": [
       "\n",
       "A data.frame: 1 × 16\n",
       "\n",
       "| chr &lt;chr&gt; | start_hg19 &lt;int&gt; | end_hg19 &lt;int&gt; | hybrid.gene.name &lt;chr&gt; | no.total.pubs &lt;int&gt; | hugo_gene_name &lt;chr&gt; | Approved.name &lt;chr&gt; | HGNC.ID &lt;chr&gt; | Location &lt;chr&gt; | strand &lt;chr&gt; | type &lt;chr&gt; | size &lt;int&gt; | is.whitelist &lt;lgl&gt; | bp.tcga.overlap &lt;int&gt; | bp.ecm.overlap &lt;int&gt; | sources &lt;chr&gt; |\n",
       "|---|---|---|---|---|---|---|---|---|---|---|---|---|---|---|---|\n",
       "| 11 | 67350213 | 67352213 | GSTP1 | 15 | GSTP1 | glutathione S-transferase pi 1 | HGNC:4638 | 11q13.2 | + | promoter | 2000 | TRUE | 1065 | 695 | Constancio et al. 2019;Massie et al. 2017;Ylitalo et al 2021;Sugiura et al 2021 |\n",
       "\n"
      ],
      "text/plain": [
       "  chr start_hg19 end_hg19 hybrid.gene.name no.total.pubs hugo_gene_name\n",
       "1 11  67350213   67352213 GSTP1            15            GSTP1         \n",
       "  Approved.name                  HGNC.ID   Location strand type     size\n",
       "1 glutathione S-transferase pi 1 HGNC:4638 11q13.2  +      promoter 2000\n",
       "  is.whitelist bp.tcga.overlap bp.ecm.overlap\n",
       "1 TRUE         1065            695           \n",
       "  sources                                                                        \n",
       "1 Constancio et al. 2019;Massie et al. 2017;Ylitalo et al 2021;Sugiura et al 2021"
      ]
     },
     "metadata": {},
     "output_type": "display_data"
    }
   ],
   "source": [
    "df_updated_outfile %>% filter(hybrid.gene.name==\"GSTP1\")"
   ]
  },
  {
   "cell_type": "code",
   "execution_count": 24,
   "id": "3dc60448",
   "metadata": {},
   "outputs": [],
   "source": [
    "write.table(df_updated_outfile, \"./marker_collation/Prostate_lit_regions_annotated_08022022.tsv\",\n",
    "         row.names=FALSE, sep=\"\\t\")"
   ]
  },
  {
   "cell_type": "code",
   "execution_count": 3,
   "id": "08ae9d94",
   "metadata": {},
   "outputs": [
    {
     "data": {
      "text/html": [
       "<table class=\"dataframe\">\n",
       "<caption>A data.frame: 6 × 16</caption>\n",
       "<thead>\n",
       "\t<tr><th></th><th scope=col>chr</th><th scope=col>start_hg19</th><th scope=col>end_hg19</th><th scope=col>hybrid.gene.name</th><th scope=col>no.total.pubs</th><th scope=col>hugo_gene_name</th><th scope=col>Approved.name</th><th scope=col>HGNC.ID</th><th scope=col>Location</th><th scope=col>strand</th><th scope=col>type</th><th scope=col>size</th><th scope=col>is.whitelist</th><th scope=col>bp.tcga.overlap</th><th scope=col>bp.ecm.overlap</th><th scope=col>sources</th></tr>\n",
       "\t<tr><th></th><th scope=col>&lt;chr&gt;</th><th scope=col>&lt;int&gt;</th><th scope=col>&lt;int&gt;</th><th scope=col>&lt;chr&gt;</th><th scope=col>&lt;int&gt;</th><th scope=col>&lt;chr&gt;</th><th scope=col>&lt;chr&gt;</th><th scope=col>&lt;chr&gt;</th><th scope=col>&lt;chr&gt;</th><th scope=col>&lt;chr&gt;</th><th scope=col>&lt;chr&gt;</th><th scope=col>&lt;int&gt;</th><th scope=col>&lt;lgl&gt;</th><th scope=col>&lt;int&gt;</th><th scope=col>&lt;int&gt;</th><th scope=col>&lt;chr&gt;</th></tr>\n",
       "</thead>\n",
       "<tbody>\n",
       "\t<tr><th scope=row>1</th><td>1</td><td> 751751</td><td> 753751</td><td>FAM87B  </td><td>1</td><td>FAM87B  </td><td>family with sequence similarity 87 member B             </td><td>HGNC:32236</td><td>1p36.33</td><td>+</td><td>promoter</td><td>2000</td><td>FALSE</td><td>0</td><td>0</td><td>Ylitalo et al 2021</td></tr>\n",
       "\t<tr><th scope=row>2</th><td>1</td><td> 878583</td><td> 880583</td><td>NOC2L   </td><td>1</td><td>NOC2L   </td><td>NOC2 like nucleolar associated transcriptional repressor</td><td>HGNC:24517</td><td>1p36.33</td><td>-</td><td>promoter</td><td>2000</td><td>FALSE</td><td>0</td><td>0</td><td>Massie et al. 2017</td></tr>\n",
       "\t<tr><th scope=row>3</th><td>1</td><td> 935518</td><td> 937518</td><td>ISG15   </td><td>1</td><td>ISG15   </td><td>ISG15 ubiquitin like modifier                           </td><td>HGNC:4053 </td><td>1p36.33</td><td>+</td><td>promoter</td><td>2000</td><td>FALSE</td><td>0</td><td>0</td><td>Massie et al. 2017</td></tr>\n",
       "\t<tr><th scope=row>4</th><td>1</td><td>1108260</td><td>1110260</td><td>TTLL10  </td><td>2</td><td>TTLL10  </td><td>tubulin tyrosine ligase like 10                         </td><td>HGNC:26693</td><td>1p36.33</td><td>+</td><td>promoter</td><td>2000</td><td>FALSE</td><td>0</td><td>0</td><td>Massie et al. 2017</td></tr>\n",
       "\t<tr><th scope=row>5</th><td>1</td><td>1269656</td><td>1271656</td><td>DVL1    </td><td>1</td><td>DVL1    </td><td>dishevelled segment polarity protein 1                  </td><td>HGNC:3084 </td><td>1p36.33</td><td>-</td><td>promoter</td><td>2000</td><td>FALSE</td><td>0</td><td>0</td><td>Massie et al. 2017</td></tr>\n",
       "\t<tr><th scope=row>6</th><td>1</td><td>1308110</td><td>1310110</td><td>AURKAIP1</td><td>1</td><td>AURKAIP1</td><td>aurora kinase A interacting protein 1                   </td><td>HGNC:24114</td><td>1p36.33</td><td>-</td><td>promoter</td><td>2000</td><td>FALSE</td><td>0</td><td>0</td><td>Massie et al. 2017</td></tr>\n",
       "</tbody>\n",
       "</table>\n"
      ],
      "text/latex": [
       "A data.frame: 6 × 16\n",
       "\\begin{tabular}{r|llllllllllllllll}\n",
       "  & chr & start\\_hg19 & end\\_hg19 & hybrid.gene.name & no.total.pubs & hugo\\_gene\\_name & Approved.name & HGNC.ID & Location & strand & type & size & is.whitelist & bp.tcga.overlap & bp.ecm.overlap & sources\\\\\n",
       "  & <chr> & <int> & <int> & <chr> & <int> & <chr> & <chr> & <chr> & <chr> & <chr> & <chr> & <int> & <lgl> & <int> & <int> & <chr>\\\\\n",
       "\\hline\n",
       "\t1 & 1 &  751751 &  753751 & FAM87B   & 1 & FAM87B   & family with sequence similarity 87 member B              & HGNC:32236 & 1p36.33 & + & promoter & 2000 & FALSE & 0 & 0 & Ylitalo et al 2021\\\\\n",
       "\t2 & 1 &  878583 &  880583 & NOC2L    & 1 & NOC2L    & NOC2 like nucleolar associated transcriptional repressor & HGNC:24517 & 1p36.33 & - & promoter & 2000 & FALSE & 0 & 0 & Massie et al. 2017\\\\\n",
       "\t3 & 1 &  935518 &  937518 & ISG15    & 1 & ISG15    & ISG15 ubiquitin like modifier                            & HGNC:4053  & 1p36.33 & + & promoter & 2000 & FALSE & 0 & 0 & Massie et al. 2017\\\\\n",
       "\t4 & 1 & 1108260 & 1110260 & TTLL10   & 2 & TTLL10   & tubulin tyrosine ligase like 10                          & HGNC:26693 & 1p36.33 & + & promoter & 2000 & FALSE & 0 & 0 & Massie et al. 2017\\\\\n",
       "\t5 & 1 & 1269656 & 1271656 & DVL1     & 1 & DVL1     & dishevelled segment polarity protein 1                   & HGNC:3084  & 1p36.33 & - & promoter & 2000 & FALSE & 0 & 0 & Massie et al. 2017\\\\\n",
       "\t6 & 1 & 1308110 & 1310110 & AURKAIP1 & 1 & AURKAIP1 & aurora kinase A interacting protein 1                    & HGNC:24114 & 1p36.33 & - & promoter & 2000 & FALSE & 0 & 0 & Massie et al. 2017\\\\\n",
       "\\end{tabular}\n"
      ],
      "text/markdown": [
       "\n",
       "A data.frame: 6 × 16\n",
       "\n",
       "| <!--/--> | chr &lt;chr&gt; | start_hg19 &lt;int&gt; | end_hg19 &lt;int&gt; | hybrid.gene.name &lt;chr&gt; | no.total.pubs &lt;int&gt; | hugo_gene_name &lt;chr&gt; | Approved.name &lt;chr&gt; | HGNC.ID &lt;chr&gt; | Location &lt;chr&gt; | strand &lt;chr&gt; | type &lt;chr&gt; | size &lt;int&gt; | is.whitelist &lt;lgl&gt; | bp.tcga.overlap &lt;int&gt; | bp.ecm.overlap &lt;int&gt; | sources &lt;chr&gt; |\n",
       "|---|---|---|---|---|---|---|---|---|---|---|---|---|---|---|---|---|\n",
       "| 1 | 1 |  751751 |  753751 | FAM87B   | 1 | FAM87B   | family with sequence similarity 87 member B              | HGNC:32236 | 1p36.33 | + | promoter | 2000 | FALSE | 0 | 0 | Ylitalo et al 2021 |\n",
       "| 2 | 1 |  878583 |  880583 | NOC2L    | 1 | NOC2L    | NOC2 like nucleolar associated transcriptional repressor | HGNC:24517 | 1p36.33 | - | promoter | 2000 | FALSE | 0 | 0 | Massie et al. 2017 |\n",
       "| 3 | 1 |  935518 |  937518 | ISG15    | 1 | ISG15    | ISG15 ubiquitin like modifier                            | HGNC:4053  | 1p36.33 | + | promoter | 2000 | FALSE | 0 | 0 | Massie et al. 2017 |\n",
       "| 4 | 1 | 1108260 | 1110260 | TTLL10   | 2 | TTLL10   | tubulin tyrosine ligase like 10                          | HGNC:26693 | 1p36.33 | + | promoter | 2000 | FALSE | 0 | 0 | Massie et al. 2017 |\n",
       "| 5 | 1 | 1269656 | 1271656 | DVL1     | 1 | DVL1     | dishevelled segment polarity protein 1                   | HGNC:3084  | 1p36.33 | - | promoter | 2000 | FALSE | 0 | 0 | Massie et al. 2017 |\n",
       "| 6 | 1 | 1308110 | 1310110 | AURKAIP1 | 1 | AURKAIP1 | aurora kinase A interacting protein 1                    | HGNC:24114 | 1p36.33 | - | promoter | 2000 | FALSE | 0 | 0 | Massie et al. 2017 |\n",
       "\n"
      ],
      "text/plain": [
       "  chr start_hg19 end_hg19 hybrid.gene.name no.total.pubs hugo_gene_name\n",
       "1 1    751751     753751  FAM87B           1             FAM87B        \n",
       "2 1    878583     880583  NOC2L            1             NOC2L         \n",
       "3 1    935518     937518  ISG15            1             ISG15         \n",
       "4 1   1108260    1110260  TTLL10           2             TTLL10        \n",
       "5 1   1269656    1271656  DVL1             1             DVL1          \n",
       "6 1   1308110    1310110  AURKAIP1         1             AURKAIP1      \n",
       "  Approved.name                                            HGNC.ID    Location\n",
       "1 family with sequence similarity 87 member B              HGNC:32236 1p36.33 \n",
       "2 NOC2 like nucleolar associated transcriptional repressor HGNC:24517 1p36.33 \n",
       "3 ISG15 ubiquitin like modifier                            HGNC:4053  1p36.33 \n",
       "4 tubulin tyrosine ligase like 10                          HGNC:26693 1p36.33 \n",
       "5 dishevelled segment polarity protein 1                   HGNC:3084  1p36.33 \n",
       "6 aurora kinase A interacting protein 1                    HGNC:24114 1p36.33 \n",
       "  strand type     size is.whitelist bp.tcga.overlap bp.ecm.overlap\n",
       "1 +      promoter 2000 FALSE        0               0             \n",
       "2 -      promoter 2000 FALSE        0               0             \n",
       "3 +      promoter 2000 FALSE        0               0             \n",
       "4 +      promoter 2000 FALSE        0               0             \n",
       "5 -      promoter 2000 FALSE        0               0             \n",
       "6 -      promoter 2000 FALSE        0               0             \n",
       "  sources           \n",
       "1 Ylitalo et al 2021\n",
       "2 Massie et al. 2017\n",
       "3 Massie et al. 2017\n",
       "4 Massie et al. 2017\n",
       "5 Massie et al. 2017\n",
       "6 Massie et al. 2017"
      ]
     },
     "metadata": {},
     "output_type": "display_data"
    },
    {
     "data": {
      "text/html": [
       "<table class=\"dataframe\">\n",
       "<caption>A data.frame: 6 × 7</caption>\n",
       "<thead>\n",
       "\t<tr><th></th><th scope=col>First.Author.Name</th><th scope=col>YEAR</th><th scope=col>DOI</th><th scope=col>DOI.short</th><th scope=col>PMID</th><th scope=col>PMCID</th><th scope=col>X7</th></tr>\n",
       "\t<tr><th></th><th scope=col>&lt;chr&gt;</th><th scope=col>&lt;dbl&gt;</th><th scope=col>&lt;chr&gt;</th><th scope=col>&lt;chr&gt;</th><th scope=col>&lt;chr&gt;</th><th scope=col>&lt;chr&gt;</th><th scope=col>&lt;chr&gt;</th></tr>\n",
       "</thead>\n",
       "<tbody>\n",
       "\t<tr><th scope=row>1</th><td>Aryee     </td><td>2013</td><td>https://doi.org/10.1038/s41467-021-21867-0   </td><td>10.1038/s41467-021-21867-0   </td><td>33741908</td><td>PMC7979745</td><td>NA</td></tr>\n",
       "\t<tr><th scope=row>2</th><td>Constancio</td><td>2019</td><td>https://doi.org/10.1080/14737159.2019.1604224</td><td>10.1080/14737159.2019.1604224</td><td>30961397</td><td>NA        </td><td>NA</td></tr>\n",
       "\t<tr><th scope=row>3</th><td>Massie    </td><td>2017</td><td>https://doi.org/10.1016/j.jsbmb.2016.04.009  </td><td>10.1016/j.jsbmb.2016.04.009  </td><td>27117390</td><td>NA        </td><td>NA</td></tr>\n",
       "\t<tr><th scope=row>4</th><td>Beltran   </td><td>2020</td><td>https://doi.org/10.1172/JCI131041            </td><td>10.1172/JCI131041            </td><td>32091413</td><td>PMC7108892</td><td>NA</td></tr>\n",
       "\t<tr><th scope=row>5</th><td>Borno     </td><td>2012</td><td>https://doi.org/10.1158/2159-8290.CD-12-0041 </td><td>10.1158/2159-8290.CD-12-0041 </td><td>22930729</td><td>NA        </td><td>NA</td></tr>\n",
       "\t<tr><th scope=row>6</th><td>Cai       </td><td>2021</td><td>https://doi.org/10.2147/PGPM.S312024         </td><td>10.2147/PGPM.S312024         </td><td>34285549</td><td>PMC8285280</td><td>NA</td></tr>\n",
       "</tbody>\n",
       "</table>\n"
      ],
      "text/latex": [
       "A data.frame: 6 × 7\n",
       "\\begin{tabular}{r|lllllll}\n",
       "  & First.Author.Name & YEAR & DOI & DOI.short & PMID & PMCID & X7\\\\\n",
       "  & <chr> & <dbl> & <chr> & <chr> & <chr> & <chr> & <chr>\\\\\n",
       "\\hline\n",
       "\t1 & Aryee      & 2013 & https://doi.org/10.1038/s41467-021-21867-0    & 10.1038/s41467-021-21867-0    & 33741908 & PMC7979745 & NA\\\\\n",
       "\t2 & Constancio & 2019 & https://doi.org/10.1080/14737159.2019.1604224 & 10.1080/14737159.2019.1604224 & 30961397 & NA         & NA\\\\\n",
       "\t3 & Massie     & 2017 & https://doi.org/10.1016/j.jsbmb.2016.04.009   & 10.1016/j.jsbmb.2016.04.009   & 27117390 & NA         & NA\\\\\n",
       "\t4 & Beltran    & 2020 & https://doi.org/10.1172/JCI131041             & 10.1172/JCI131041             & 32091413 & PMC7108892 & NA\\\\\n",
       "\t5 & Borno      & 2012 & https://doi.org/10.1158/2159-8290.CD-12-0041  & 10.1158/2159-8290.CD-12-0041  & 22930729 & NA         & NA\\\\\n",
       "\t6 & Cai        & 2021 & https://doi.org/10.2147/PGPM.S312024          & 10.2147/PGPM.S312024          & 34285549 & PMC8285280 & NA\\\\\n",
       "\\end{tabular}\n"
      ],
      "text/markdown": [
       "\n",
       "A data.frame: 6 × 7\n",
       "\n",
       "| <!--/--> | First.Author.Name &lt;chr&gt; | YEAR &lt;dbl&gt; | DOI &lt;chr&gt; | DOI.short &lt;chr&gt; | PMID &lt;chr&gt; | PMCID &lt;chr&gt; | X7 &lt;chr&gt; |\n",
       "|---|---|---|---|---|---|---|---|\n",
       "| 1 | Aryee      | 2013 | https://doi.org/10.1038/s41467-021-21867-0    | 10.1038/s41467-021-21867-0    | 33741908 | PMC7979745 | NA |\n",
       "| 2 | Constancio | 2019 | https://doi.org/10.1080/14737159.2019.1604224 | 10.1080/14737159.2019.1604224 | 30961397 | NA         | NA |\n",
       "| 3 | Massie     | 2017 | https://doi.org/10.1016/j.jsbmb.2016.04.009   | 10.1016/j.jsbmb.2016.04.009   | 27117390 | NA         | NA |\n",
       "| 4 | Beltran    | 2020 | https://doi.org/10.1172/JCI131041             | 10.1172/JCI131041             | 32091413 | PMC7108892 | NA |\n",
       "| 5 | Borno      | 2012 | https://doi.org/10.1158/2159-8290.CD-12-0041  | 10.1158/2159-8290.CD-12-0041  | 22930729 | NA         | NA |\n",
       "| 6 | Cai        | 2021 | https://doi.org/10.2147/PGPM.S312024          | 10.2147/PGPM.S312024          | 34285549 | PMC8285280 | NA |\n",
       "\n"
      ],
      "text/plain": [
       "  First.Author.Name YEAR DOI                                          \n",
       "1 Aryee             2013 https://doi.org/10.1038/s41467-021-21867-0   \n",
       "2 Constancio        2019 https://doi.org/10.1080/14737159.2019.1604224\n",
       "3 Massie            2017 https://doi.org/10.1016/j.jsbmb.2016.04.009  \n",
       "4 Beltran           2020 https://doi.org/10.1172/JCI131041            \n",
       "5 Borno             2012 https://doi.org/10.1158/2159-8290.CD-12-0041 \n",
       "6 Cai               2021 https://doi.org/10.2147/PGPM.S312024         \n",
       "  DOI.short                     PMID     PMCID      X7\n",
       "1 10.1038/s41467-021-21867-0    33741908 PMC7979745 NA\n",
       "2 10.1080/14737159.2019.1604224 30961397 NA         NA\n",
       "3 10.1016/j.jsbmb.2016.04.009   27117390 NA         NA\n",
       "4 10.1172/JCI131041             32091413 PMC7108892 NA\n",
       "5 10.1158/2159-8290.CD-12-0041  22930729 NA         NA\n",
       "6 10.2147/PGPM.S312024          34285549 PMC8285280 NA"
      ]
     },
     "metadata": {},
     "output_type": "display_data"
    }
   ],
   "source": [
    "# attach DOIs/PMIDs\n",
    "df_outfile = read.csv(\"./marker_collation/Prostate_lit_regions_annotated_08022022.tsv\",sep=\"\\t\")\n",
    "head(df_outfile)\n",
    "df_DOIs = read.xlsx(\"./prostate_key_to PMIDS.xlsx\",\n",
    "                   sheet=\"Sheet1\")\n",
    "head(df_DOIs)"
   ]
  },
  {
   "cell_type": "code",
   "execution_count": 4,
   "id": "76138ad5",
   "metadata": {},
   "outputs": [],
   "source": [
    "df_outfile$first.author = str_split(df_outfile$sources, \" \")\n",
    "\n",
    "i = 0\n",
    "doi_vec = list()\n",
    "pmids_vec = list()\n",
    "for (sources in df_outfile$sources){\n",
    "    #print(sources)\n",
    "    i = i + 1\n",
    "    dois = list()\n",
    "    pmids = list()\n",
    "    sources = gsub(\";\",\" \",sources)\n",
    "    authors = strsplit(sources,\" \")\n",
    "    for (auth in authors[[1]]){\n",
    "        #print(auth)\n",
    "        if (auth %in% df_DOIs$First.Author.Name){\n",
    "            dois = append(dois, df_DOIs[df_DOIs$First.Author.Name==auth,\"DOI\"])\n",
    "            pmids = append(pmids, df_DOIs[df_DOIs$First.Author.Name==auth,\"PMID\"])\n",
    "            }\n",
    "        }\n",
    "    doi_vec[[i]] <- paste(shQuote(dois), collapse=\", \")\n",
    "    #print(length(doi_vec))\n",
    "    pmids_vec[[i]] <- paste(shQuote(pmids[!is.na(pmids)]), collapse=\", \")\n",
    "    }\n",
    "stopifnot(length(doi_vec)==nrow(df_outfile))  #theres no check for authors missing in the sheet TODO"
   ]
  },
  {
   "cell_type": "code",
   "execution_count": 5,
   "id": "6aa60115",
   "metadata": {},
   "outputs": [
    {
     "data": {
      "text/html": [
       "<table class=\"dataframe\">\n",
       "<caption>A data.frame: 1 × 19</caption>\n",
       "<thead>\n",
       "\t<tr><th></th><th scope=col>chr</th><th scope=col>start_hg19</th><th scope=col>end_hg19</th><th scope=col>hybrid.gene.name</th><th scope=col>no.total.pubs</th><th scope=col>hugo_gene_name</th><th scope=col>Approved.name</th><th scope=col>HGNC.ID</th><th scope=col>Location</th><th scope=col>strand</th><th scope=col>type</th><th scope=col>size</th><th scope=col>is.whitelist</th><th scope=col>bp.tcga.overlap</th><th scope=col>bp.ecm.overlap</th><th scope=col>sources</th><th scope=col>first.author</th><th scope=col>DOIs</th><th scope=col>PMIDs</th></tr>\n",
       "\t<tr><th></th><th scope=col>&lt;chr&gt;</th><th scope=col>&lt;int&gt;</th><th scope=col>&lt;int&gt;</th><th scope=col>&lt;chr&gt;</th><th scope=col>&lt;int&gt;</th><th scope=col>&lt;chr&gt;</th><th scope=col>&lt;chr&gt;</th><th scope=col>&lt;chr&gt;</th><th scope=col>&lt;chr&gt;</th><th scope=col>&lt;chr&gt;</th><th scope=col>&lt;chr&gt;</th><th scope=col>&lt;int&gt;</th><th scope=col>&lt;lgl&gt;</th><th scope=col>&lt;int&gt;</th><th scope=col>&lt;int&gt;</th><th scope=col>&lt;chr&gt;</th><th scope=col>&lt;list&gt;</th><th scope=col>&lt;list&gt;</th><th scope=col>&lt;list&gt;</th></tr>\n",
       "</thead>\n",
       "<tbody>\n",
       "\t<tr><th scope=row>1061</th><td>11</td><td>67350213</td><td>67352213</td><td>GSTP1</td><td>15</td><td>GSTP1</td><td>glutathione S-transferase pi 1</td><td>HGNC:4638</td><td>11q13.2</td><td>+</td><td>promoter</td><td>2000</td><td>TRUE</td><td>1065</td><td>695</td><td>Constancio et al. 2019;Massie et al. 2017;Ylitalo et al 2021;Sugiura et al 2021</td><td>Constancio  , et          , al.         , 2019;Massie , et          , al.         , 2017;Ylitalo, et          , al          , 2021;Sugiura, et          , al          , 2021        </td><td>'https://doi.org/10.1080/14737159.2019.1604224', 'https://doi.org/10.1016/j.jsbmb.2016.04.009', 'https://doi.org/10.1186/s13148-021-01119-0', 'https://doi.org/10.1111/iju.14406'</td><td>'30961397', '27117390', '34193246', '33111429'</td></tr>\n",
       "</tbody>\n",
       "</table>\n"
      ],
      "text/latex": [
       "A data.frame: 1 × 19\n",
       "\\begin{tabular}{r|lllllllllllllllllll}\n",
       "  & chr & start\\_hg19 & end\\_hg19 & hybrid.gene.name & no.total.pubs & hugo\\_gene\\_name & Approved.name & HGNC.ID & Location & strand & type & size & is.whitelist & bp.tcga.overlap & bp.ecm.overlap & sources & first.author & DOIs & PMIDs\\\\\n",
       "  & <chr> & <int> & <int> & <chr> & <int> & <chr> & <chr> & <chr> & <chr> & <chr> & <chr> & <int> & <lgl> & <int> & <int> & <chr> & <list> & <list> & <list>\\\\\n",
       "\\hline\n",
       "\t1061 & 11 & 67350213 & 67352213 & GSTP1 & 15 & GSTP1 & glutathione S-transferase pi 1 & HGNC:4638 & 11q13.2 & + & promoter & 2000 & TRUE & 1065 & 695 & Constancio et al. 2019;Massie et al. 2017;Ylitalo et al 2021;Sugiura et al 2021 & Constancio  , et          , al.         , 2019;Massie , et          , al.         , 2017;Ylitalo, et          , al          , 2021;Sugiura, et          , al          , 2021         & 'https://doi.org/10.1080/14737159.2019.1604224', 'https://doi.org/10.1016/j.jsbmb.2016.04.009', 'https://doi.org/10.1186/s13148-021-01119-0', 'https://doi.org/10.1111/iju.14406' & '30961397', '27117390', '34193246', '33111429'\\\\\n",
       "\\end{tabular}\n"
      ],
      "text/markdown": [
       "\n",
       "A data.frame: 1 × 19\n",
       "\n",
       "| <!--/--> | chr &lt;chr&gt; | start_hg19 &lt;int&gt; | end_hg19 &lt;int&gt; | hybrid.gene.name &lt;chr&gt; | no.total.pubs &lt;int&gt; | hugo_gene_name &lt;chr&gt; | Approved.name &lt;chr&gt; | HGNC.ID &lt;chr&gt; | Location &lt;chr&gt; | strand &lt;chr&gt; | type &lt;chr&gt; | size &lt;int&gt; | is.whitelist &lt;lgl&gt; | bp.tcga.overlap &lt;int&gt; | bp.ecm.overlap &lt;int&gt; | sources &lt;chr&gt; | first.author &lt;list&gt; | DOIs &lt;list&gt; | PMIDs &lt;list&gt; |\n",
       "|---|---|---|---|---|---|---|---|---|---|---|---|---|---|---|---|---|---|---|---|\n",
       "| 1061 | 11 | 67350213 | 67352213 | GSTP1 | 15 | GSTP1 | glutathione S-transferase pi 1 | HGNC:4638 | 11q13.2 | + | promoter | 2000 | TRUE | 1065 | 695 | Constancio et al. 2019;Massie et al. 2017;Ylitalo et al 2021;Sugiura et al 2021 | Constancio  , et          , al.         , 2019;Massie , et          , al.         , 2017;Ylitalo, et          , al          , 2021;Sugiura, et          , al          , 2021         | 'https://doi.org/10.1080/14737159.2019.1604224', 'https://doi.org/10.1016/j.jsbmb.2016.04.009', 'https://doi.org/10.1186/s13148-021-01119-0', 'https://doi.org/10.1111/iju.14406' | '30961397', '27117390', '34193246', '33111429' |\n",
       "\n"
      ],
      "text/plain": [
       "     chr start_hg19 end_hg19 hybrid.gene.name no.total.pubs hugo_gene_name\n",
       "1061 11  67350213   67352213 GSTP1            15            GSTP1         \n",
       "     Approved.name                  HGNC.ID   Location strand type     size\n",
       "1061 glutathione S-transferase pi 1 HGNC:4638 11q13.2  +      promoter 2000\n",
       "     is.whitelist bp.tcga.overlap bp.ecm.overlap\n",
       "1061 TRUE         1065            695           \n",
       "     sources                                                                        \n",
       "1061 Constancio et al. 2019;Massie et al. 2017;Ylitalo et al 2021;Sugiura et al 2021\n",
       "     first.author                                                                                                                                                                        \n",
       "1061 Constancio  , et          , al.         , 2019;Massie , et          , al.         , 2017;Ylitalo, et          , al          , 2021;Sugiura, et          , al          , 2021        \n",
       "     DOIs                                                                                                                                                                             \n",
       "1061 'https://doi.org/10.1080/14737159.2019.1604224', 'https://doi.org/10.1016/j.jsbmb.2016.04.009', 'https://doi.org/10.1186/s13148-021-01119-0', 'https://doi.org/10.1111/iju.14406'\n",
       "     PMIDs                                         \n",
       "1061 '30961397', '27117390', '34193246', '33111429'"
      ]
     },
     "metadata": {},
     "output_type": "display_data"
    },
    {
     "data": {
      "text/html": [
       "<table class=\"dataframe\">\n",
       "<caption>A data.frame: 6 × 19</caption>\n",
       "<thead>\n",
       "\t<tr><th></th><th scope=col>chr</th><th scope=col>start_hg19</th><th scope=col>end_hg19</th><th scope=col>hybrid.gene.name</th><th scope=col>no.total.pubs</th><th scope=col>hugo_gene_name</th><th scope=col>Approved.name</th><th scope=col>HGNC.ID</th><th scope=col>Location</th><th scope=col>strand</th><th scope=col>type</th><th scope=col>size</th><th scope=col>is.whitelist</th><th scope=col>bp.tcga.overlap</th><th scope=col>bp.ecm.overlap</th><th scope=col>sources</th><th scope=col>first.author</th><th scope=col>DOIs</th><th scope=col>PMIDs</th></tr>\n",
       "\t<tr><th></th><th scope=col>&lt;chr&gt;</th><th scope=col>&lt;int&gt;</th><th scope=col>&lt;int&gt;</th><th scope=col>&lt;chr&gt;</th><th scope=col>&lt;int&gt;</th><th scope=col>&lt;chr&gt;</th><th scope=col>&lt;chr&gt;</th><th scope=col>&lt;chr&gt;</th><th scope=col>&lt;chr&gt;</th><th scope=col>&lt;chr&gt;</th><th scope=col>&lt;chr&gt;</th><th scope=col>&lt;int&gt;</th><th scope=col>&lt;lgl&gt;</th><th scope=col>&lt;int&gt;</th><th scope=col>&lt;int&gt;</th><th scope=col>&lt;chr&gt;</th><th scope=col>&lt;list&gt;</th><th scope=col>&lt;list&gt;</th><th scope=col>&lt;list&gt;</th></tr>\n",
       "</thead>\n",
       "<tbody>\n",
       "\t<tr><th scope=row>1</th><td>1</td><td> 751751</td><td> 753751</td><td>FAM87B  </td><td>1</td><td>FAM87B  </td><td>family with sequence similarity 87 member B             </td><td>HGNC:32236</td><td>1p36.33</td><td>+</td><td>promoter</td><td>2000</td><td>FALSE</td><td>0</td><td>0</td><td>Ylitalo et al 2021</td><td>Ylitalo, et     , al     , 2021   </td><td>'https://doi.org/10.1186/s13148-021-01119-0'</td><td>'34193246'</td></tr>\n",
       "\t<tr><th scope=row>2</th><td>1</td><td> 878583</td><td> 880583</td><td>NOC2L   </td><td>1</td><td>NOC2L   </td><td>NOC2 like nucleolar associated transcriptional repressor</td><td>HGNC:24517</td><td>1p36.33</td><td>-</td><td>promoter</td><td>2000</td><td>FALSE</td><td>0</td><td>0</td><td>Massie et al. 2017</td><td>Massie, et    , al.   , 2017  </td><td>'https://doi.org/10.1016/j.jsbmb.2016.04.009'</td><td>'27117390'</td></tr>\n",
       "\t<tr><th scope=row>3</th><td>1</td><td> 935518</td><td> 937518</td><td>ISG15   </td><td>1</td><td>ISG15   </td><td>ISG15 ubiquitin like modifier                           </td><td>HGNC:4053 </td><td>1p36.33</td><td>+</td><td>promoter</td><td>2000</td><td>FALSE</td><td>0</td><td>0</td><td>Massie et al. 2017</td><td>Massie, et    , al.   , 2017  </td><td>'https://doi.org/10.1016/j.jsbmb.2016.04.009'</td><td>'27117390'</td></tr>\n",
       "\t<tr><th scope=row>4</th><td>1</td><td>1108260</td><td>1110260</td><td>TTLL10  </td><td>2</td><td>TTLL10  </td><td>tubulin tyrosine ligase like 10                         </td><td>HGNC:26693</td><td>1p36.33</td><td>+</td><td>promoter</td><td>2000</td><td>FALSE</td><td>0</td><td>0</td><td>Massie et al. 2017</td><td>Massie, et    , al.   , 2017  </td><td>'https://doi.org/10.1016/j.jsbmb.2016.04.009'</td><td>'27117390'</td></tr>\n",
       "\t<tr><th scope=row>5</th><td>1</td><td>1269656</td><td>1271656</td><td>DVL1    </td><td>1</td><td>DVL1    </td><td>dishevelled segment polarity protein 1                  </td><td>HGNC:3084 </td><td>1p36.33</td><td>-</td><td>promoter</td><td>2000</td><td>FALSE</td><td>0</td><td>0</td><td>Massie et al. 2017</td><td>Massie, et    , al.   , 2017  </td><td>'https://doi.org/10.1016/j.jsbmb.2016.04.009'</td><td>'27117390'</td></tr>\n",
       "\t<tr><th scope=row>6</th><td>1</td><td>1308110</td><td>1310110</td><td>AURKAIP1</td><td>1</td><td>AURKAIP1</td><td>aurora kinase A interacting protein 1                   </td><td>HGNC:24114</td><td>1p36.33</td><td>-</td><td>promoter</td><td>2000</td><td>FALSE</td><td>0</td><td>0</td><td>Massie et al. 2017</td><td>Massie, et    , al.   , 2017  </td><td>'https://doi.org/10.1016/j.jsbmb.2016.04.009'</td><td>'27117390'</td></tr>\n",
       "</tbody>\n",
       "</table>\n"
      ],
      "text/latex": [
       "A data.frame: 6 × 19\n",
       "\\begin{tabular}{r|lllllllllllllllllll}\n",
       "  & chr & start\\_hg19 & end\\_hg19 & hybrid.gene.name & no.total.pubs & hugo\\_gene\\_name & Approved.name & HGNC.ID & Location & strand & type & size & is.whitelist & bp.tcga.overlap & bp.ecm.overlap & sources & first.author & DOIs & PMIDs\\\\\n",
       "  & <chr> & <int> & <int> & <chr> & <int> & <chr> & <chr> & <chr> & <chr> & <chr> & <chr> & <int> & <lgl> & <int> & <int> & <chr> & <list> & <list> & <list>\\\\\n",
       "\\hline\n",
       "\t1 & 1 &  751751 &  753751 & FAM87B   & 1 & FAM87B   & family with sequence similarity 87 member B              & HGNC:32236 & 1p36.33 & + & promoter & 2000 & FALSE & 0 & 0 & Ylitalo et al 2021 & Ylitalo, et     , al     , 2021    & 'https://doi.org/10.1186/s13148-021-01119-0' & '34193246'\\\\\n",
       "\t2 & 1 &  878583 &  880583 & NOC2L    & 1 & NOC2L    & NOC2 like nucleolar associated transcriptional repressor & HGNC:24517 & 1p36.33 & - & promoter & 2000 & FALSE & 0 & 0 & Massie et al. 2017 & Massie, et    , al.   , 2017   & 'https://doi.org/10.1016/j.jsbmb.2016.04.009' & '27117390'\\\\\n",
       "\t3 & 1 &  935518 &  937518 & ISG15    & 1 & ISG15    & ISG15 ubiquitin like modifier                            & HGNC:4053  & 1p36.33 & + & promoter & 2000 & FALSE & 0 & 0 & Massie et al. 2017 & Massie, et    , al.   , 2017   & 'https://doi.org/10.1016/j.jsbmb.2016.04.009' & '27117390'\\\\\n",
       "\t4 & 1 & 1108260 & 1110260 & TTLL10   & 2 & TTLL10   & tubulin tyrosine ligase like 10                          & HGNC:26693 & 1p36.33 & + & promoter & 2000 & FALSE & 0 & 0 & Massie et al. 2017 & Massie, et    , al.   , 2017   & 'https://doi.org/10.1016/j.jsbmb.2016.04.009' & '27117390'\\\\\n",
       "\t5 & 1 & 1269656 & 1271656 & DVL1     & 1 & DVL1     & dishevelled segment polarity protein 1                   & HGNC:3084  & 1p36.33 & - & promoter & 2000 & FALSE & 0 & 0 & Massie et al. 2017 & Massie, et    , al.   , 2017   & 'https://doi.org/10.1016/j.jsbmb.2016.04.009' & '27117390'\\\\\n",
       "\t6 & 1 & 1308110 & 1310110 & AURKAIP1 & 1 & AURKAIP1 & aurora kinase A interacting protein 1                    & HGNC:24114 & 1p36.33 & - & promoter & 2000 & FALSE & 0 & 0 & Massie et al. 2017 & Massie, et    , al.   , 2017   & 'https://doi.org/10.1016/j.jsbmb.2016.04.009' & '27117390'\\\\\n",
       "\\end{tabular}\n"
      ],
      "text/markdown": [
       "\n",
       "A data.frame: 6 × 19\n",
       "\n",
       "| <!--/--> | chr &lt;chr&gt; | start_hg19 &lt;int&gt; | end_hg19 &lt;int&gt; | hybrid.gene.name &lt;chr&gt; | no.total.pubs &lt;int&gt; | hugo_gene_name &lt;chr&gt; | Approved.name &lt;chr&gt; | HGNC.ID &lt;chr&gt; | Location &lt;chr&gt; | strand &lt;chr&gt; | type &lt;chr&gt; | size &lt;int&gt; | is.whitelist &lt;lgl&gt; | bp.tcga.overlap &lt;int&gt; | bp.ecm.overlap &lt;int&gt; | sources &lt;chr&gt; | first.author &lt;list&gt; | DOIs &lt;list&gt; | PMIDs &lt;list&gt; |\n",
       "|---|---|---|---|---|---|---|---|---|---|---|---|---|---|---|---|---|---|---|---|\n",
       "| 1 | 1 |  751751 |  753751 | FAM87B   | 1 | FAM87B   | family with sequence similarity 87 member B              | HGNC:32236 | 1p36.33 | + | promoter | 2000 | FALSE | 0 | 0 | Ylitalo et al 2021 | Ylitalo, et     , al     , 2021    | 'https://doi.org/10.1186/s13148-021-01119-0' | '34193246' |\n",
       "| 2 | 1 |  878583 |  880583 | NOC2L    | 1 | NOC2L    | NOC2 like nucleolar associated transcriptional repressor | HGNC:24517 | 1p36.33 | - | promoter | 2000 | FALSE | 0 | 0 | Massie et al. 2017 | Massie, et    , al.   , 2017   | 'https://doi.org/10.1016/j.jsbmb.2016.04.009' | '27117390' |\n",
       "| 3 | 1 |  935518 |  937518 | ISG15    | 1 | ISG15    | ISG15 ubiquitin like modifier                            | HGNC:4053  | 1p36.33 | + | promoter | 2000 | FALSE | 0 | 0 | Massie et al. 2017 | Massie, et    , al.   , 2017   | 'https://doi.org/10.1016/j.jsbmb.2016.04.009' | '27117390' |\n",
       "| 4 | 1 | 1108260 | 1110260 | TTLL10   | 2 | TTLL10   | tubulin tyrosine ligase like 10                          | HGNC:26693 | 1p36.33 | + | promoter | 2000 | FALSE | 0 | 0 | Massie et al. 2017 | Massie, et    , al.   , 2017   | 'https://doi.org/10.1016/j.jsbmb.2016.04.009' | '27117390' |\n",
       "| 5 | 1 | 1269656 | 1271656 | DVL1     | 1 | DVL1     | dishevelled segment polarity protein 1                   | HGNC:3084  | 1p36.33 | - | promoter | 2000 | FALSE | 0 | 0 | Massie et al. 2017 | Massie, et    , al.   , 2017   | 'https://doi.org/10.1016/j.jsbmb.2016.04.009' | '27117390' |\n",
       "| 6 | 1 | 1308110 | 1310110 | AURKAIP1 | 1 | AURKAIP1 | aurora kinase A interacting protein 1                    | HGNC:24114 | 1p36.33 | - | promoter | 2000 | FALSE | 0 | 0 | Massie et al. 2017 | Massie, et    , al.   , 2017   | 'https://doi.org/10.1016/j.jsbmb.2016.04.009' | '27117390' |\n",
       "\n"
      ],
      "text/plain": [
       "  chr start_hg19 end_hg19 hybrid.gene.name no.total.pubs hugo_gene_name\n",
       "1 1    751751     753751  FAM87B           1             FAM87B        \n",
       "2 1    878583     880583  NOC2L            1             NOC2L         \n",
       "3 1    935518     937518  ISG15            1             ISG15         \n",
       "4 1   1108260    1110260  TTLL10           2             TTLL10        \n",
       "5 1   1269656    1271656  DVL1             1             DVL1          \n",
       "6 1   1308110    1310110  AURKAIP1         1             AURKAIP1      \n",
       "  Approved.name                                            HGNC.ID    Location\n",
       "1 family with sequence similarity 87 member B              HGNC:32236 1p36.33 \n",
       "2 NOC2 like nucleolar associated transcriptional repressor HGNC:24517 1p36.33 \n",
       "3 ISG15 ubiquitin like modifier                            HGNC:4053  1p36.33 \n",
       "4 tubulin tyrosine ligase like 10                          HGNC:26693 1p36.33 \n",
       "5 dishevelled segment polarity protein 1                   HGNC:3084  1p36.33 \n",
       "6 aurora kinase A interacting protein 1                    HGNC:24114 1p36.33 \n",
       "  strand type     size is.whitelist bp.tcga.overlap bp.ecm.overlap\n",
       "1 +      promoter 2000 FALSE        0               0             \n",
       "2 -      promoter 2000 FALSE        0               0             \n",
       "3 +      promoter 2000 FALSE        0               0             \n",
       "4 +      promoter 2000 FALSE        0               0             \n",
       "5 -      promoter 2000 FALSE        0               0             \n",
       "6 -      promoter 2000 FALSE        0               0             \n",
       "  sources            first.author                      \n",
       "1 Ylitalo et al 2021 Ylitalo, et     , al     , 2021   \n",
       "2 Massie et al. 2017 Massie, et    , al.   , 2017      \n",
       "3 Massie et al. 2017 Massie, et    , al.   , 2017      \n",
       "4 Massie et al. 2017 Massie, et    , al.   , 2017      \n",
       "5 Massie et al. 2017 Massie, et    , al.   , 2017      \n",
       "6 Massie et al. 2017 Massie, et    , al.   , 2017      \n",
       "  DOIs                                          PMIDs     \n",
       "1 'https://doi.org/10.1186/s13148-021-01119-0'  '34193246'\n",
       "2 'https://doi.org/10.1016/j.jsbmb.2016.04.009' '27117390'\n",
       "3 'https://doi.org/10.1016/j.jsbmb.2016.04.009' '27117390'\n",
       "4 'https://doi.org/10.1016/j.jsbmb.2016.04.009' '27117390'\n",
       "5 'https://doi.org/10.1016/j.jsbmb.2016.04.009' '27117390'\n",
       "6 'https://doi.org/10.1016/j.jsbmb.2016.04.009' '27117390'"
      ]
     },
     "metadata": {},
     "output_type": "display_data"
    }
   ],
   "source": [
    "df_outfile$DOIs = doi_vec\n",
    "df_outfile$PMIDs = pmids_vec\n",
    "df_outfile[df_outfile$hybrid.gene.name==\"GSTP1\",]\n",
    "head(df_outfile)"
   ]
  },
  {
   "cell_type": "code",
   "execution_count": 6,
   "id": "e2c1e3b2",
   "metadata": {},
   "outputs": [],
   "source": [
    "df_outfile <- apply(df_outfile,2,as.character)\n",
    "\n",
    "write.table(df_outfile, \"./marker_collation/Prostate_lit_regions_annotated_10032022.tsv\",\n",
    "         row.names=FALSE, quote=FALSE, sep=\"\\t\")"
   ]
  },
  {
   "cell_type": "markdown",
   "id": "b680cfdf",
   "metadata": {},
   "source": [
    "## Process regions associated with disease progression"
   ]
  },
  {
   "cell_type": "code",
   "execution_count": 33,
   "id": "ce850186",
   "metadata": {},
   "outputs": [
    {
     "data": {
      "text/html": [
       "<table class=\"dataframe\">\n",
       "<caption>A data.frame: 6 × 6</caption>\n",
       "<thead>\n",
       "\t<tr><th></th><th scope=col>gene</th><th scope=col>probe</th><th scope=col>hg18.location</th><th scope=col>hg19.location</th><th scope=col>source</th><th scope=col>association</th></tr>\n",
       "\t<tr><th></th><th scope=col>&lt;chr&gt;</th><th scope=col>&lt;chr&gt;</th><th scope=col>&lt;chr&gt;</th><th scope=col>&lt;chr&gt;</th><th scope=col>&lt;chr&gt;</th><th scope=col>&lt;chr&gt;</th></tr>\n",
       "</thead>\n",
       "<tbody>\n",
       "\t<tr><th scope=row>1</th><td>GSTP1 </td><td></td><td></td><td></td><td>Constancio et al. 2019</td><td>staging, survival, recurrence                        </td></tr>\n",
       "\t<tr><th scope=row>2</th><td>CDH17 </td><td></td><td></td><td></td><td>Constancio et al. 2019</td><td>staging, survival, recurrence                        </td></tr>\n",
       "\t<tr><th scope=row>3</th><td>PCDH10</td><td></td><td></td><td></td><td>Constancio et al. 2019</td><td>staging, survival, recurrence                        </td></tr>\n",
       "\t<tr><th scope=row>4</th><td>PCDH8 </td><td></td><td></td><td></td><td>Constancio et al. 2019</td><td>staging, survival, recurrence                        </td></tr>\n",
       "\t<tr><th scope=row>5</th><td>RARB  </td><td></td><td></td><td></td><td>Constancio et al. 2019</td><td>staging, survival, recurrence                        </td></tr>\n",
       "\t<tr><th scope=row>6</th><td>MEG3  </td><td></td><td></td><td></td><td>Cai et al. 2021       </td><td>hypomethylation, assoc. with recurrence free survival</td></tr>\n",
       "</tbody>\n",
       "</table>\n"
      ],
      "text/latex": [
       "A data.frame: 6 × 6\n",
       "\\begin{tabular}{r|llllll}\n",
       "  & gene & probe & hg18.location & hg19.location & source & association\\\\\n",
       "  & <chr> & <chr> & <chr> & <chr> & <chr> & <chr>\\\\\n",
       "\\hline\n",
       "\t1 & GSTP1  &  &  &  & Constancio et al. 2019 & staging, survival, recurrence                        \\\\\n",
       "\t2 & CDH17  &  &  &  & Constancio et al. 2019 & staging, survival, recurrence                        \\\\\n",
       "\t3 & PCDH10 &  &  &  & Constancio et al. 2019 & staging, survival, recurrence                        \\\\\n",
       "\t4 & PCDH8  &  &  &  & Constancio et al. 2019 & staging, survival, recurrence                        \\\\\n",
       "\t5 & RARB   &  &  &  & Constancio et al. 2019 & staging, survival, recurrence                        \\\\\n",
       "\t6 & MEG3   &  &  &  & Cai et al. 2021        & hypomethylation, assoc. with recurrence free survival\\\\\n",
       "\\end{tabular}\n"
      ],
      "text/markdown": [
       "\n",
       "A data.frame: 6 × 6\n",
       "\n",
       "| <!--/--> | gene &lt;chr&gt; | probe &lt;chr&gt; | hg18.location &lt;chr&gt; | hg19.location &lt;chr&gt; | source &lt;chr&gt; | association &lt;chr&gt; |\n",
       "|---|---|---|---|---|---|---|\n",
       "| 1 | GSTP1  | <!----> | <!----> | <!----> | Constancio et al. 2019 | staging, survival, recurrence                         |\n",
       "| 2 | CDH17  | <!----> | <!----> | <!----> | Constancio et al. 2019 | staging, survival, recurrence                         |\n",
       "| 3 | PCDH10 | <!----> | <!----> | <!----> | Constancio et al. 2019 | staging, survival, recurrence                         |\n",
       "| 4 | PCDH8  | <!----> | <!----> | <!----> | Constancio et al. 2019 | staging, survival, recurrence                         |\n",
       "| 5 | RARB   | <!----> | <!----> | <!----> | Constancio et al. 2019 | staging, survival, recurrence                         |\n",
       "| 6 | MEG3   | <!----> | <!----> | <!----> | Cai et al. 2021        | hypomethylation, assoc. with recurrence free survival |\n",
       "\n"
      ],
      "text/plain": [
       "  gene   probe hg18.location hg19.location source                \n",
       "1 GSTP1                                    Constancio et al. 2019\n",
       "2 CDH17                                    Constancio et al. 2019\n",
       "3 PCDH10                                   Constancio et al. 2019\n",
       "4 PCDH8                                    Constancio et al. 2019\n",
       "5 RARB                                     Constancio et al. 2019\n",
       "6 MEG3                                     Cai et al. 2021       \n",
       "  association                                          \n",
       "1 staging, survival, recurrence                        \n",
       "2 staging, survival, recurrence                        \n",
       "3 staging, survival, recurrence                        \n",
       "4 staging, survival, recurrence                        \n",
       "5 staging, survival, recurrence                        \n",
       "6 hypomethylation, assoc. with recurrence free survival"
      ]
     },
     "metadata": {},
     "output_type": "display_data"
    }
   ],
   "source": [
    "df_regions = read.csv(\"./marker_collation/disease_progression_loci.csv\", header=TRUE, sep=',')\n",
    "head(df_regions)"
   ]
  },
  {
   "cell_type": "code",
   "execution_count": 34,
   "id": "80618164",
   "metadata": {},
   "outputs": [
    {
     "data": {
      "text/html": [
       "151"
      ],
      "text/latex": [
       "151"
      ],
      "text/markdown": [
       "151"
      ],
      "text/plain": [
       "[1] 151"
      ]
     },
     "metadata": {},
     "output_type": "display_data"
    },
    {
     "data": {
      "text/html": [
       "<table class=\"dataframe\">\n",
       "<caption>A data.frame: 6 × 8</caption>\n",
       "<thead>\n",
       "\t<tr><th></th><th scope=col>gene</th><th scope=col>probe</th><th scope=col>hg18.location</th><th scope=col>hg19.location</th><th scope=col>source</th><th scope=col>association</th><th scope=col>hg19_chr</th><th scope=col>hg19_pos</th></tr>\n",
       "\t<tr><th></th><th scope=col>&lt;chr&gt;</th><th scope=col>&lt;chr&gt;</th><th scope=col>&lt;chr&gt;</th><th scope=col>&lt;chr&gt;</th><th scope=col>&lt;chr&gt;</th><th scope=col>&lt;chr&gt;</th><th scope=col>&lt;chr&gt;</th><th scope=col>&lt;int&gt;</th></tr>\n",
       "</thead>\n",
       "<tbody>\n",
       "\t<tr><th scope=row>1</th><td>C11orf80</td><td>cg19932343</td><td></td><td></td><td>Panja et al. 2018</td><td>hypomethylated, ADT resistance </td><td>11</td><td>66610763</td></tr>\n",
       "\t<tr><th scope=row>2</th><td>RCE1    </td><td>cg19932343</td><td></td><td></td><td>Panja et al. 2018</td><td>hypomethylated, ADT resistance </td><td>11</td><td>66610763</td></tr>\n",
       "\t<tr><th scope=row>3</th><td>CLDN17  </td><td>cg07201638</td><td></td><td></td><td>Panja et al. 2018</td><td>hypermethylated, ADT resistance</td><td>21</td><td>31538714</td></tr>\n",
       "\t<tr><th scope=row>4</th><td>SLC46A1 </td><td>cg25014117</td><td></td><td></td><td>Panja et al. 2018</td><td>hypomethylated, ADT resistance </td><td>17</td><td>26733068</td></tr>\n",
       "\t<tr><th scope=row>5</th><td>STMN1   </td><td>cg23079732</td><td></td><td></td><td>Panja et al. 2018</td><td>hypomethylated, ADT resistance </td><td>1 </td><td>26232465</td></tr>\n",
       "\t<tr><th scope=row>6</th><td>NOTCH4  </td><td>cg08592230</td><td></td><td></td><td>Panja et al. 2018</td><td>hypomethylated, ADT resistance </td><td>6 </td><td>32163562</td></tr>\n",
       "</tbody>\n",
       "</table>\n"
      ],
      "text/latex": [
       "A data.frame: 6 × 8\n",
       "\\begin{tabular}{r|llllllll}\n",
       "  & gene & probe & hg18.location & hg19.location & source & association & hg19\\_chr & hg19\\_pos\\\\\n",
       "  & <chr> & <chr> & <chr> & <chr> & <chr> & <chr> & <chr> & <int>\\\\\n",
       "\\hline\n",
       "\t1 & C11orf80 & cg19932343 &  &  & Panja et al. 2018 & hypomethylated, ADT resistance  & 11 & 66610763\\\\\n",
       "\t2 & RCE1     & cg19932343 &  &  & Panja et al. 2018 & hypomethylated, ADT resistance  & 11 & 66610763\\\\\n",
       "\t3 & CLDN17   & cg07201638 &  &  & Panja et al. 2018 & hypermethylated, ADT resistance & 21 & 31538714\\\\\n",
       "\t4 & SLC46A1  & cg25014117 &  &  & Panja et al. 2018 & hypomethylated, ADT resistance  & 17 & 26733068\\\\\n",
       "\t5 & STMN1    & cg23079732 &  &  & Panja et al. 2018 & hypomethylated, ADT resistance  & 1  & 26232465\\\\\n",
       "\t6 & NOTCH4   & cg08592230 &  &  & Panja et al. 2018 & hypomethylated, ADT resistance  & 6  & 32163562\\\\\n",
       "\\end{tabular}\n"
      ],
      "text/markdown": [
       "\n",
       "A data.frame: 6 × 8\n",
       "\n",
       "| <!--/--> | gene &lt;chr&gt; | probe &lt;chr&gt; | hg18.location &lt;chr&gt; | hg19.location &lt;chr&gt; | source &lt;chr&gt; | association &lt;chr&gt; | hg19_chr &lt;chr&gt; | hg19_pos &lt;int&gt; |\n",
       "|---|---|---|---|---|---|---|---|---|\n",
       "| 1 | C11orf80 | cg19932343 | <!----> | <!----> | Panja et al. 2018 | hypomethylated, ADT resistance  | 11 | 66610763 |\n",
       "| 2 | RCE1     | cg19932343 | <!----> | <!----> | Panja et al. 2018 | hypomethylated, ADT resistance  | 11 | 66610763 |\n",
       "| 3 | CLDN17   | cg07201638 | <!----> | <!----> | Panja et al. 2018 | hypermethylated, ADT resistance | 21 | 31538714 |\n",
       "| 4 | SLC46A1  | cg25014117 | <!----> | <!----> | Panja et al. 2018 | hypomethylated, ADT resistance  | 17 | 26733068 |\n",
       "| 5 | STMN1    | cg23079732 | <!----> | <!----> | Panja et al. 2018 | hypomethylated, ADT resistance  | 1  | 26232465 |\n",
       "| 6 | NOTCH4   | cg08592230 | <!----> | <!----> | Panja et al. 2018 | hypomethylated, ADT resistance  | 6  | 32163562 |\n",
       "\n"
      ],
      "text/plain": [
       "  gene     probe      hg18.location hg19.location source           \n",
       "1 C11orf80 cg19932343                             Panja et al. 2018\n",
       "2 RCE1     cg19932343                             Panja et al. 2018\n",
       "3 CLDN17   cg07201638                             Panja et al. 2018\n",
       "4 SLC46A1  cg25014117                             Panja et al. 2018\n",
       "5 STMN1    cg23079732                             Panja et al. 2018\n",
       "6 NOTCH4   cg08592230                             Panja et al. 2018\n",
       "  association                     hg19_chr hg19_pos\n",
       "1 hypomethylated, ADT resistance  11       66610763\n",
       "2 hypomethylated, ADT resistance  11       66610763\n",
       "3 hypermethylated, ADT resistance 21       31538714\n",
       "4 hypomethylated, ADT resistance  17       26733068\n",
       "5 hypomethylated, ADT resistance  1        26232465\n",
       "6 hypomethylated, ADT resistance  6        32163562"
      ]
     },
     "metadata": {},
     "output_type": "display_data"
    }
   ],
   "source": [
    "# this file has some weird formatting \n",
    "# grep cg humanmethylation450_15017482_v1-2.csv > humanmethylation450_15017482_v1-2_cg.csv   \n",
    "#  tail -n +8 humanmethylation450_15017482_v1-2_cg.csv| cut -d \",\" -f1,12-13 > humanmethylation450_15017482_v1-2_coords.csv\n",
    "\n",
    "# look up probe hg19 locations\n",
    "df_450k = read.table(\"./../Translational_Science/humanmethylation450_15017482_v1-2_coords.csv\", header=FALSE, sep=\",\")\n",
    "colnames(df_450k) = c(\"probe\", \"hg19_chr\", \"hg19_pos\")\n",
    "\n",
    "df_probes = df_regions %>% filter(probe!=\"\") %>% left_join(df_450k, by=\"probe\")\n",
    "nrow(df_probes)\n",
    "head(df_probes)"
   ]
  },
  {
   "cell_type": "code",
   "execution_count": 58,
   "id": "408e43e0",
   "metadata": {},
   "outputs": [],
   "source": [
    "df_probes$hg19_start = df_probes$hg19_pos - 10\n",
    "df_probes$hg19_end = df_probes$hg19_pos + 10"
   ]
  },
  {
   "cell_type": "code",
   "execution_count": 36,
   "id": "96ec429f",
   "metadata": {},
   "outputs": [
    {
     "data": {
      "text/html": [
       "<table class=\"dataframe\">\n",
       "<caption>A data.frame: 6 × 7</caption>\n",
       "<thead>\n",
       "\t<tr><th></th><th scope=col>chr</th><th scope=col>start_hg19</th><th scope=col>end_hg19</th><th scope=col>gene_name</th><th scope=col>strand</th><th scope=col>dot2</th><th scope=col>type</th></tr>\n",
       "\t<tr><th></th><th scope=col>&lt;chr&gt;</th><th scope=col>&lt;int&gt;</th><th scope=col>&lt;int&gt;</th><th scope=col>&lt;chr&gt;</th><th scope=col>&lt;chr&gt;</th><th scope=col>&lt;chr&gt;</th><th scope=col>&lt;chr&gt;</th></tr>\n",
       "</thead>\n",
       "<tbody>\n",
       "\t<tr><th scope=row>1</th><td>1</td><td>10869</td><td>12869</td><td>DDX11L1    </td><td>+</td><td>.</td><td>promoter</td></tr>\n",
       "\t<tr><th scope=row>2</th><td>1</td><td>13404</td><td>15404</td><td>WASH7P     </td><td>-</td><td>.</td><td>promoter</td></tr>\n",
       "\t<tr><th scope=row>3</th><td>1</td><td>28554</td><td>30554</td><td>MIR1302-2HG</td><td>+</td><td>.</td><td>promoter</td></tr>\n",
       "\t<tr><th scope=row>4</th><td>1</td><td>33554</td><td>35554</td><td>FAM138A    </td><td>-</td><td>.</td><td>promoter</td></tr>\n",
       "\t<tr><th scope=row>5</th><td>1</td><td>51473</td><td>53473</td><td>OR4G4P     </td><td>+</td><td>.</td><td>promoter</td></tr>\n",
       "\t<tr><th scope=row>6</th><td>1</td><td>56598</td><td>58598</td><td>OR4G11P    </td><td>+</td><td>.</td><td>promoter</td></tr>\n",
       "</tbody>\n",
       "</table>\n"
      ],
      "text/latex": [
       "A data.frame: 6 × 7\n",
       "\\begin{tabular}{r|lllllll}\n",
       "  & chr & start\\_hg19 & end\\_hg19 & gene\\_name & strand & dot2 & type\\\\\n",
       "  & <chr> & <int> & <int> & <chr> & <chr> & <chr> & <chr>\\\\\n",
       "\\hline\n",
       "\t1 & 1 & 10869 & 12869 & DDX11L1     & + & . & promoter\\\\\n",
       "\t2 & 1 & 13404 & 15404 & WASH7P      & - & . & promoter\\\\\n",
       "\t3 & 1 & 28554 & 30554 & MIR1302-2HG & + & . & promoter\\\\\n",
       "\t4 & 1 & 33554 & 35554 & FAM138A     & - & . & promoter\\\\\n",
       "\t5 & 1 & 51473 & 53473 & OR4G4P      & + & . & promoter\\\\\n",
       "\t6 & 1 & 56598 & 58598 & OR4G11P     & + & . & promoter\\\\\n",
       "\\end{tabular}\n"
      ],
      "text/markdown": [
       "\n",
       "A data.frame: 6 × 7\n",
       "\n",
       "| <!--/--> | chr &lt;chr&gt; | start_hg19 &lt;int&gt; | end_hg19 &lt;int&gt; | gene_name &lt;chr&gt; | strand &lt;chr&gt; | dot2 &lt;chr&gt; | type &lt;chr&gt; |\n",
       "|---|---|---|---|---|---|---|---|\n",
       "| 1 | 1 | 10869 | 12869 | DDX11L1     | + | . | promoter |\n",
       "| 2 | 1 | 13404 | 15404 | WASH7P      | - | . | promoter |\n",
       "| 3 | 1 | 28554 | 30554 | MIR1302-2HG | + | . | promoter |\n",
       "| 4 | 1 | 33554 | 35554 | FAM138A     | - | . | promoter |\n",
       "| 5 | 1 | 51473 | 53473 | OR4G4P      | + | . | promoter |\n",
       "| 6 | 1 | 56598 | 58598 | OR4G11P     | + | . | promoter |\n",
       "\n"
      ],
      "text/plain": [
       "  chr start_hg19 end_hg19 gene_name   strand dot2 type    \n",
       "1 1   10869      12869    DDX11L1     +      .    promoter\n",
       "2 1   13404      15404    WASH7P      -      .    promoter\n",
       "3 1   28554      30554    MIR1302-2HG +      .    promoter\n",
       "4 1   33554      35554    FAM138A     -      .    promoter\n",
       "5 1   51473      53473    OR4G4P      +      .    promoter\n",
       "6 1   56598      58598    OR4G11P     +      .    promoter"
      ]
     },
     "metadata": {},
     "output_type": "display_data"
    }
   ],
   "source": [
    "df_promoters = read.csv(\"../Translational_Science/gencode.v40lift37.promoters.bed\", sep=\"\\t\", header=TRUE)\n",
    "head(df_promoters)"
   ]
  },
  {
   "cell_type": "code",
   "execution_count": 64,
   "id": "d17e5b20",
   "metadata": {},
   "outputs": [
    {
     "data": {
      "text/html": [
       "26"
      ],
      "text/latex": [
       "26"
      ],
      "text/markdown": [
       "26"
      ],
      "text/plain": [
       "[1] 26"
      ]
     },
     "metadata": {},
     "output_type": "display_data"
    },
    {
     "data": {
      "text/html": [
       "<table class=\"dataframe\">\n",
       "<caption>A data.frame: 6 × 12</caption>\n",
       "<thead>\n",
       "\t<tr><th></th><th scope=col>gene</th><th scope=col>probe</th><th scope=col>hg18.location</th><th scope=col>hg19.location</th><th scope=col>source</th><th scope=col>association</th><th scope=col>hg19_chr</th><th scope=col>hg19_start</th><th scope=col>hg19_end</th><th scope=col>strand</th><th scope=col>dot2</th><th scope=col>type</th></tr>\n",
       "\t<tr><th></th><th scope=col>&lt;chr&gt;</th><th scope=col>&lt;chr&gt;</th><th scope=col>&lt;chr&gt;</th><th scope=col>&lt;chr&gt;</th><th scope=col>&lt;chr&gt;</th><th scope=col>&lt;chr&gt;</th><th scope=col>&lt;chr&gt;</th><th scope=col>&lt;int&gt;</th><th scope=col>&lt;int&gt;</th><th scope=col>&lt;chr&gt;</th><th scope=col>&lt;chr&gt;</th><th scope=col>&lt;chr&gt;</th></tr>\n",
       "</thead>\n",
       "<tbody>\n",
       "\t<tr><th scope=row>1</th><td>GSTP1 </td><td></td><td></td><td></td><td>Constancio et al. 2019</td><td>staging, survival, recurrence                        </td><td>11</td><td> 67350213</td><td> 67352213</td><td>+</td><td>.</td><td>promoter</td></tr>\n",
       "\t<tr><th scope=row>2</th><td>CDH17 </td><td></td><td></td><td></td><td>Constancio et al. 2019</td><td>staging, survival, recurrence                        </td><td>8 </td><td> 95138390</td><td> 95140390</td><td>-</td><td>.</td><td>promoter</td></tr>\n",
       "\t<tr><th scope=row>3</th><td>PCDH10</td><td></td><td></td><td></td><td>Constancio et al. 2019</td><td>staging, survival, recurrence                        </td><td>4 </td><td>134069449</td><td>134071449</td><td>+</td><td>.</td><td>promoter</td></tr>\n",
       "\t<tr><th scope=row>4</th><td>PCDH8 </td><td></td><td></td><td></td><td>Constancio et al. 2019</td><td>staging, survival, recurrence                        </td><td>13</td><td> 53416024</td><td> 53418024</td><td>-</td><td>.</td><td>promoter</td></tr>\n",
       "\t<tr><th scope=row>5</th><td>RARB  </td><td></td><td></td><td></td><td>Constancio et al. 2019</td><td>staging, survival, recurrence                        </td><td>3 </td><td> 24728378</td><td> 24730378</td><td>+</td><td>.</td><td>promoter</td></tr>\n",
       "\t<tr><th scope=row>6</th><td>MEG3  </td><td></td><td></td><td></td><td>Cai et al. 2021       </td><td>hypomethylation, assoc. with recurrence free survival</td><td>14</td><td>101244747</td><td>101246747</td><td>+</td><td>.</td><td>promoter</td></tr>\n",
       "</tbody>\n",
       "</table>\n"
      ],
      "text/latex": [
       "A data.frame: 6 × 12\n",
       "\\begin{tabular}{r|llllllllllll}\n",
       "  & gene & probe & hg18.location & hg19.location & source & association & hg19\\_chr & hg19\\_start & hg19\\_end & strand & dot2 & type\\\\\n",
       "  & <chr> & <chr> & <chr> & <chr> & <chr> & <chr> & <chr> & <int> & <int> & <chr> & <chr> & <chr>\\\\\n",
       "\\hline\n",
       "\t1 & GSTP1  &  &  &  & Constancio et al. 2019 & staging, survival, recurrence                         & 11 &  67350213 &  67352213 & + & . & promoter\\\\\n",
       "\t2 & CDH17  &  &  &  & Constancio et al. 2019 & staging, survival, recurrence                         & 8  &  95138390 &  95140390 & - & . & promoter\\\\\n",
       "\t3 & PCDH10 &  &  &  & Constancio et al. 2019 & staging, survival, recurrence                         & 4  & 134069449 & 134071449 & + & . & promoter\\\\\n",
       "\t4 & PCDH8  &  &  &  & Constancio et al. 2019 & staging, survival, recurrence                         & 13 &  53416024 &  53418024 & - & . & promoter\\\\\n",
       "\t5 & RARB   &  &  &  & Constancio et al. 2019 & staging, survival, recurrence                         & 3  &  24728378 &  24730378 & + & . & promoter\\\\\n",
       "\t6 & MEG3   &  &  &  & Cai et al. 2021        & hypomethylation, assoc. with recurrence free survival & 14 & 101244747 & 101246747 & + & . & promoter\\\\\n",
       "\\end{tabular}\n"
      ],
      "text/markdown": [
       "\n",
       "A data.frame: 6 × 12\n",
       "\n",
       "| <!--/--> | gene &lt;chr&gt; | probe &lt;chr&gt; | hg18.location &lt;chr&gt; | hg19.location &lt;chr&gt; | source &lt;chr&gt; | association &lt;chr&gt; | hg19_chr &lt;chr&gt; | hg19_start &lt;int&gt; | hg19_end &lt;int&gt; | strand &lt;chr&gt; | dot2 &lt;chr&gt; | type &lt;chr&gt; |\n",
       "|---|---|---|---|---|---|---|---|---|---|---|---|---|\n",
       "| 1 | GSTP1  | <!----> | <!----> | <!----> | Constancio et al. 2019 | staging, survival, recurrence                         | 11 |  67350213 |  67352213 | + | . | promoter |\n",
       "| 2 | CDH17  | <!----> | <!----> | <!----> | Constancio et al. 2019 | staging, survival, recurrence                         | 8  |  95138390 |  95140390 | - | . | promoter |\n",
       "| 3 | PCDH10 | <!----> | <!----> | <!----> | Constancio et al. 2019 | staging, survival, recurrence                         | 4  | 134069449 | 134071449 | + | . | promoter |\n",
       "| 4 | PCDH8  | <!----> | <!----> | <!----> | Constancio et al. 2019 | staging, survival, recurrence                         | 13 |  53416024 |  53418024 | - | . | promoter |\n",
       "| 5 | RARB   | <!----> | <!----> | <!----> | Constancio et al. 2019 | staging, survival, recurrence                         | 3  |  24728378 |  24730378 | + | . | promoter |\n",
       "| 6 | MEG3   | <!----> | <!----> | <!----> | Cai et al. 2021        | hypomethylation, assoc. with recurrence free survival | 14 | 101244747 | 101246747 | + | . | promoter |\n",
       "\n"
      ],
      "text/plain": [
       "  gene   probe hg18.location hg19.location source                \n",
       "1 GSTP1                                    Constancio et al. 2019\n",
       "2 CDH17                                    Constancio et al. 2019\n",
       "3 PCDH10                                   Constancio et al. 2019\n",
       "4 PCDH8                                    Constancio et al. 2019\n",
       "5 RARB                                     Constancio et al. 2019\n",
       "6 MEG3                                     Cai et al. 2021       \n",
       "  association                                           hg19_chr hg19_start\n",
       "1 staging, survival, recurrence                         11        67350213 \n",
       "2 staging, survival, recurrence                         8         95138390 \n",
       "3 staging, survival, recurrence                         4        134069449 \n",
       "4 staging, survival, recurrence                         13        53416024 \n",
       "5 staging, survival, recurrence                         3         24728378 \n",
       "6 hypomethylation, assoc. with recurrence free survival 14       101244747 \n",
       "  hg19_end  strand dot2 type    \n",
       "1  67352213 +      .    promoter\n",
       "2  95140390 -      .    promoter\n",
       "3 134071449 +      .    promoter\n",
       "4  53418024 -      .    promoter\n",
       "5  24730378 +      .    promoter\n",
       "6 101246747 +      .    promoter"
      ]
     },
     "metadata": {},
     "output_type": "display_data"
    }
   ],
   "source": [
    "df_genes = df_regions %>% filter(probe==\"\", hg18.location==\"\", hg19.location==\"\") %>% left_join(df_promoters, by=c(\"gene\"=\"gene_name\"))\n",
    "df_genes = df_genes %>% rename(\"hg19_chr\"=\"chr\", \"hg19_end\"=\"end_hg19\", \"hg19_start\"=\"start_hg19\")\n",
    "nrow(df_genes)\n",
    "head(df_genes)"
   ]
  },
  {
   "cell_type": "code",
   "execution_count": 38,
   "id": "fce93af4",
   "metadata": {},
   "outputs": [
    {
     "data": {
      "text/html": [
       "<table class=\"dataframe\">\n",
       "<caption>A data.frame: 6 × 1</caption>\n",
       "<thead>\n",
       "\t<tr><th></th><th scope=col>V1</th></tr>\n",
       "\t<tr><th></th><th scope=col>&lt;chr&gt;</th></tr>\n",
       "</thead>\n",
       "<tbody>\n",
       "\t<tr><th scope=row>1</th><td>chr1:17022023-17022067   </td></tr>\n",
       "\t<tr><th scope=row>2</th><td>chr13:111156571-111156615</td></tr>\n",
       "\t<tr><th scope=row>3</th><td>chr13:111290973-111291032</td></tr>\n",
       "\t<tr><th scope=row>4</th><td>chr17:78988130-78988189  </td></tr>\n",
       "\t<tr><th scope=row>5</th><td>chr18:77662518-77662577  </td></tr>\n",
       "\t<tr><th scope=row>6</th><td>chr20:63278124-63278183  </td></tr>\n",
       "</tbody>\n",
       "</table>\n"
      ],
      "text/latex": [
       "A data.frame: 6 × 1\n",
       "\\begin{tabular}{r|l}\n",
       "  & V1\\\\\n",
       "  & <chr>\\\\\n",
       "\\hline\n",
       "\t1 & chr1:17022023-17022067   \\\\\n",
       "\t2 & chr13:111156571-111156615\\\\\n",
       "\t3 & chr13:111290973-111291032\\\\\n",
       "\t4 & chr17:78988130-78988189  \\\\\n",
       "\t5 & chr18:77662518-77662577  \\\\\n",
       "\t6 & chr20:63278124-63278183  \\\\\n",
       "\\end{tabular}\n"
      ],
      "text/markdown": [
       "\n",
       "A data.frame: 6 × 1\n",
       "\n",
       "| <!--/--> | V1 &lt;chr&gt; |\n",
       "|---|---|\n",
       "| 1 | chr1:17022023-17022067    |\n",
       "| 2 | chr13:111156571-111156615 |\n",
       "| 3 | chr13:111290973-111291032 |\n",
       "| 4 | chr17:78988130-78988189   |\n",
       "| 5 | chr18:77662518-77662577   |\n",
       "| 6 | chr20:63278124-63278183   |\n",
       "\n"
      ],
      "text/plain": [
       "  V1                       \n",
       "1 chr1:17022023-17022067   \n",
       "2 chr13:111156571-111156615\n",
       "3 chr13:111290973-111291032\n",
       "4 chr17:78988130-78988189  \n",
       "5 chr18:77662518-77662577  \n",
       "6 chr20:63278124-63278183  "
      ]
     },
     "metadata": {},
     "output_type": "display_data"
    },
    {
     "data": {
      "text/html": [
       "<table class=\"dataframe\">\n",
       "<caption>A data.frame: 6 × 1</caption>\n",
       "<thead>\n",
       "\t<tr><th></th><th scope=col>V1</th></tr>\n",
       "\t<tr><th></th><th scope=col>&lt;chr&gt;</th></tr>\n",
       "</thead>\n",
       "<tbody>\n",
       "\t<tr><th scope=row>1</th><td>chr1:100540281-100540325</td></tr>\n",
       "\t<tr><th scope=row>2</th><td>chr1:108199715-108199774</td></tr>\n",
       "\t<tr><th scope=row>3</th><td>chr1:1174388-1174447    </td></tr>\n",
       "\t<tr><th scope=row>4</th><td>chr1:118984317-118984367</td></tr>\n",
       "\t<tr><th scope=row>5</th><td>chr1:118989514-118989558</td></tr>\n",
       "\t<tr><th scope=row>6</th><td>chr1:118993109-118993153</td></tr>\n",
       "</tbody>\n",
       "</table>\n"
      ],
      "text/latex": [
       "A data.frame: 6 × 1\n",
       "\\begin{tabular}{r|l}\n",
       "  & V1\\\\\n",
       "  & <chr>\\\\\n",
       "\\hline\n",
       "\t1 & chr1:100540281-100540325\\\\\n",
       "\t2 & chr1:108199715-108199774\\\\\n",
       "\t3 & chr1:1174388-1174447    \\\\\n",
       "\t4 & chr1:118984317-118984367\\\\\n",
       "\t5 & chr1:118989514-118989558\\\\\n",
       "\t6 & chr1:118993109-118993153\\\\\n",
       "\\end{tabular}\n"
      ],
      "text/markdown": [
       "\n",
       "A data.frame: 6 × 1\n",
       "\n",
       "| <!--/--> | V1 &lt;chr&gt; |\n",
       "|---|---|\n",
       "| 1 | chr1:100540281-100540325 |\n",
       "| 2 | chr1:108199715-108199774 |\n",
       "| 3 | chr1:1174388-1174447     |\n",
       "| 4 | chr1:118984317-118984367 |\n",
       "| 5 | chr1:118989514-118989558 |\n",
       "| 6 | chr1:118993109-118993153 |\n",
       "\n"
      ],
      "text/plain": [
       "  V1                      \n",
       "1 chr1:100540281-100540325\n",
       "2 chr1:108199715-108199774\n",
       "3 chr1:1174388-1174447    \n",
       "4 chr1:118984317-118984367\n",
       "5 chr1:118989514-118989558\n",
       "6 chr1:118993109-118993153"
      ]
     },
     "metadata": {},
     "output_type": "display_data"
    }
   ],
   "source": [
    "# lift over hg18 coords for Kron et al. \n",
    "failed.hits = read.table(\"./marker_collation/Kron_disease_prog_hglft_genome_343ef_a4cd40.err.txt\", sep=\"\\t\", header=FALSE)\n",
    "head(failed.hits)\n",
    "conversions = read.table(\"./marker_collation/Kron_disease_prog_hglft_genome_343ef_a4cd40.bed\", sep=\"\\t\", header=FALSE)\n",
    "head(conversions)"
   ]
  },
  {
   "cell_type": "code",
   "execution_count": 54,
   "id": "8d66c77a",
   "metadata": {},
   "outputs": [
    {
     "data": {
      "text/html": [
       "421"
      ],
      "text/latex": [
       "421"
      ],
      "text/markdown": [
       "421"
      ],
      "text/plain": [
       "[1] 421"
      ]
     },
     "metadata": {},
     "output_type": "display_data"
    },
    {
     "data": {
      "text/html": [
       "415"
      ],
      "text/latex": [
       "415"
      ],
      "text/markdown": [
       "415"
      ],
      "text/plain": [
       "[1] 415"
      ]
     },
     "metadata": {},
     "output_type": "display_data"
    },
    {
     "data": {
      "text/html": [
       "<table class=\"dataframe\">\n",
       "<caption>A data.frame: 6 × 6</caption>\n",
       "<thead>\n",
       "\t<tr><th></th><th scope=col>gene</th><th scope=col>probe</th><th scope=col>hg18.location</th><th scope=col>hg19.location</th><th scope=col>source</th><th scope=col>association</th></tr>\n",
       "\t<tr><th></th><th scope=col>&lt;chr&gt;</th><th scope=col>&lt;chr&gt;</th><th scope=col>&lt;chr&gt;</th><th scope=col>&lt;chr&gt;</th><th scope=col>&lt;chr&gt;</th><th scope=col>&lt;chr&gt;</th></tr>\n",
       "</thead>\n",
       "<tbody>\n",
       "\t<tr><th scope=row>410</th><td>chrX:039752897-039752946</td><td></td><td>chrX:39893643-39893692</td><td>chrX:40008699-40008748</td><td>Kron et al. 2013</td><td>hypermethylation assoc w/Gleason</td></tr>\n",
       "\t<tr><th scope=row>411</th><td>BCOR                    </td><td></td><td>chrX:39976744-39976788</td><td>chrX:40091800-40091844</td><td>Kron et al. 2013</td><td>hypermethylation assoc w/Gleason</td></tr>\n",
       "\t<tr><th scope=row>412</th><td>chrX:064544802-064544856</td><td></td><td>chrX:65324922-65324976</td><td>chrX:65408197-65408251</td><td>Kron et al. 2013</td><td>hypermethylation assoc w/Gleason</td></tr>\n",
       "\t<tr><th scope=row>413</th><td>OGT                     </td><td></td><td>chrX:71449418-71449477</td><td>chrX:71532693-71532752</td><td>Kron et al. 2013</td><td>hypermethylation assoc w/Gleason</td></tr>\n",
       "\t<tr><th scope=row>414</th><td>chrY:027182977-027183036</td><td></td><td>chrY:25036830-25036889</td><td>chrY:26627442-26627501</td><td>Kron et al. 2013</td><td>hypermethylation assoc w/Gleason</td></tr>\n",
       "\t<tr><th scope=row>415</th><td>PPP2R3B                 </td><td></td><td>chrY:322187-322245    </td><td>chrY:352187-352245    </td><td>Kron et al. 2013</td><td>hypermethylation assoc w/Gleason</td></tr>\n",
       "</tbody>\n",
       "</table>\n"
      ],
      "text/latex": [
       "A data.frame: 6 × 6\n",
       "\\begin{tabular}{r|llllll}\n",
       "  & gene & probe & hg18.location & hg19.location & source & association\\\\\n",
       "  & <chr> & <chr> & <chr> & <chr> & <chr> & <chr>\\\\\n",
       "\\hline\n",
       "\t410 & chrX:039752897-039752946 &  & chrX:39893643-39893692 & chrX:40008699-40008748 & Kron et al. 2013 & hypermethylation assoc w/Gleason\\\\\n",
       "\t411 & BCOR                     &  & chrX:39976744-39976788 & chrX:40091800-40091844 & Kron et al. 2013 & hypermethylation assoc w/Gleason\\\\\n",
       "\t412 & chrX:064544802-064544856 &  & chrX:65324922-65324976 & chrX:65408197-65408251 & Kron et al. 2013 & hypermethylation assoc w/Gleason\\\\\n",
       "\t413 & OGT                      &  & chrX:71449418-71449477 & chrX:71532693-71532752 & Kron et al. 2013 & hypermethylation assoc w/Gleason\\\\\n",
       "\t414 & chrY:027182977-027183036 &  & chrY:25036830-25036889 & chrY:26627442-26627501 & Kron et al. 2013 & hypermethylation assoc w/Gleason\\\\\n",
       "\t415 & PPP2R3B                  &  & chrY:322187-322245     & chrY:352187-352245     & Kron et al. 2013 & hypermethylation assoc w/Gleason\\\\\n",
       "\\end{tabular}\n"
      ],
      "text/markdown": [
       "\n",
       "A data.frame: 6 × 6\n",
       "\n",
       "| <!--/--> | gene &lt;chr&gt; | probe &lt;chr&gt; | hg18.location &lt;chr&gt; | hg19.location &lt;chr&gt; | source &lt;chr&gt; | association &lt;chr&gt; |\n",
       "|---|---|---|---|---|---|---|\n",
       "| 410 | chrX:039752897-039752946 | <!----> | chrX:39893643-39893692 | chrX:40008699-40008748 | Kron et al. 2013 | hypermethylation assoc w/Gleason |\n",
       "| 411 | BCOR                     | <!----> | chrX:39976744-39976788 | chrX:40091800-40091844 | Kron et al. 2013 | hypermethylation assoc w/Gleason |\n",
       "| 412 | chrX:064544802-064544856 | <!----> | chrX:65324922-65324976 | chrX:65408197-65408251 | Kron et al. 2013 | hypermethylation assoc w/Gleason |\n",
       "| 413 | OGT                      | <!----> | chrX:71449418-71449477 | chrX:71532693-71532752 | Kron et al. 2013 | hypermethylation assoc w/Gleason |\n",
       "| 414 | chrY:027182977-027183036 | <!----> | chrY:25036830-25036889 | chrY:26627442-26627501 | Kron et al. 2013 | hypermethylation assoc w/Gleason |\n",
       "| 415 | PPP2R3B                  | <!----> | chrY:322187-322245     | chrY:352187-352245     | Kron et al. 2013 | hypermethylation assoc w/Gleason |\n",
       "\n"
      ],
      "text/plain": [
       "    gene                     probe hg18.location         \n",
       "410 chrX:039752897-039752946       chrX:39893643-39893692\n",
       "411 BCOR                           chrX:39976744-39976788\n",
       "412 chrX:064544802-064544856       chrX:65324922-65324976\n",
       "413 OGT                            chrX:71449418-71449477\n",
       "414 chrY:027182977-027183036       chrY:25036830-25036889\n",
       "415 PPP2R3B                        chrY:322187-322245    \n",
       "    hg19.location          source           association                     \n",
       "410 chrX:40008699-40008748 Kron et al. 2013 hypermethylation assoc w/Gleason\n",
       "411 chrX:40091800-40091844 Kron et al. 2013 hypermethylation assoc w/Gleason\n",
       "412 chrX:65408197-65408251 Kron et al. 2013 hypermethylation assoc w/Gleason\n",
       "413 chrX:71532693-71532752 Kron et al. 2013 hypermethylation assoc w/Gleason\n",
       "414 chrY:26627442-26627501 Kron et al. 2013 hypermethylation assoc w/Gleason\n",
       "415 chrY:352187-352245     Kron et al. 2013 hypermethylation assoc w/Gleason"
      ]
     },
     "metadata": {},
     "output_type": "display_data"
    }
   ],
   "source": [
    "#remove failed hits but keep in same order\n",
    "df_kron = df_regions %>% filter(grepl(\"Kron\",source), hg18.location!=\"\") \n",
    "nrow(df_kron)\n",
    "for (loc in failed.hits$V1){\n",
    "    df_kron = df_kron %>% filter(hg18.location!=loc)\n",
    "}\n",
    "\n",
    "# add lift over coords\n",
    "df_kron$hg19.location <- conversions$V1\n",
    "nrow(df_kron)\n",
    "tail(df_kron)"
   ]
  },
  {
   "cell_type": "code",
   "execution_count": 79,
   "id": "633e8bbe",
   "metadata": {},
   "outputs": [],
   "source": [
    "df_kron$hg19_chr = sapply(strsplit(df_kron$hg19.location,\":|-\"), \"[\",1)\n",
    "df_kron$hg19_start = sapply(strsplit(df_kron$hg19.location,\":|-\"), \"[\",2)\n",
    "df_kron$hg19_end = sapply(strsplit(df_kron$hg19.location,\":|-\"), \"[\",3)"
   ]
  },
  {
   "cell_type": "code",
   "execution_count": 78,
   "id": "160044bf",
   "metadata": {},
   "outputs": [],
   "source": [
    "# these are all 2 bp probe locations\n",
    "df_beltran = df_regions %>% filter(grepl(\"Beltran\", source), hg19.location!=\"\")\n",
    "df_beltran$hg19_chr = sapply(strsplit(df_beltran$hg19.location,\":|-\"), \"[\",1)\n",
    "df_beltran$hg19_start = sapply(strsplit(df_beltran$hg19.location,\":|-\"), \"[\",2)\n",
    "df_beltran$hg19_end = sapply(strsplit(df_beltran$hg19.location,\":|-\"), \"[\",3)\n",
    "\n",
    "df_beltran$hg19_start = as.numeric(df_beltran$hg19_start) - 10\n",
    "df_beltran$hg19_end = as.numeric(df_beltran$hg19_start) + 10"
   ]
  },
  {
   "cell_type": "code",
   "execution_count": 80,
   "id": "0cba5b18",
   "metadata": {},
   "outputs": [
    {
     "data": {
      "text/html": [
       "<table class=\"dataframe\">\n",
       "<caption>A data.frame: 6 × 9</caption>\n",
       "<thead>\n",
       "\t<tr><th></th><th scope=col>gene</th><th scope=col>probe</th><th scope=col>hg18.location</th><th scope=col>hg19.location</th><th scope=col>source</th><th scope=col>association</th><th scope=col>hg19_chr</th><th scope=col>hg19_start</th><th scope=col>hg19_end</th></tr>\n",
       "\t<tr><th></th><th scope=col>&lt;chr&gt;</th><th scope=col>&lt;chr&gt;</th><th scope=col>&lt;chr&gt;</th><th scope=col>&lt;chr&gt;</th><th scope=col>&lt;chr&gt;</th><th scope=col>&lt;chr&gt;</th><th scope=col>&lt;chr&gt;</th><th scope=col>&lt;chr&gt;</th><th scope=col>&lt;chr&gt;</th></tr>\n",
       "</thead>\n",
       "<tbody>\n",
       "\t<tr><th scope=row>1</th><td>GPR88   </td><td></td><td>chr1:100312869-100312913</td><td>chr1:100540281-100540325</td><td>Kron et al. 2013</td><td>hypermethylation assoc w/Gleason</td><td>1</td><td>100540281</td><td>100540325</td></tr>\n",
       "\t<tr><th scope=row>2</th><td>SLC25A24</td><td></td><td>chr1:108001238-108001297</td><td>chr1:108199715-108199774</td><td>Kron et al. 2013</td><td>hypermethylation assoc w/Gleason</td><td>1</td><td>108199715</td><td>108199774</td></tr>\n",
       "\t<tr><th scope=row>3</th><td>TTLL10  </td><td></td><td>chr1:1164251-1164310    </td><td>chr1:1174388-1174447    </td><td>Kron et al. 2013</td><td>hypermethylation assoc w/Gleason</td><td>1</td><td>1174388  </td><td>1174447  </td></tr>\n",
       "\t<tr><th scope=row>4</th><td>TBX15   </td><td></td><td>chr1:118785840-118785890</td><td>chr1:118984317-118984367</td><td>Kron et al. 2013</td><td>hypomethylation assoc w/Gleason </td><td>1</td><td>118984317</td><td>118984367</td></tr>\n",
       "\t<tr><th scope=row>5</th><td>TBX15   </td><td></td><td>chr1:118791037-118791081</td><td>chr1:118989514-118989558</td><td>Kron et al. 2013</td><td>hypomethylation assoc w/Gleason </td><td>1</td><td>118989514</td><td>118989558</td></tr>\n",
       "\t<tr><th scope=row>6</th><td>TBX15   </td><td></td><td>chr1:118794632-118794676</td><td>chr1:118993109-118993153</td><td>Kron et al. 2013</td><td>hypomethylation assoc w/Gleason </td><td>1</td><td>118993109</td><td>118993153</td></tr>\n",
       "</tbody>\n",
       "</table>\n"
      ],
      "text/latex": [
       "A data.frame: 6 × 9\n",
       "\\begin{tabular}{r|lllllllll}\n",
       "  & gene & probe & hg18.location & hg19.location & source & association & hg19\\_chr & hg19\\_start & hg19\\_end\\\\\n",
       "  & <chr> & <chr> & <chr> & <chr> & <chr> & <chr> & <chr> & <chr> & <chr>\\\\\n",
       "\\hline\n",
       "\t1 & GPR88    &  & chr1:100312869-100312913 & chr1:100540281-100540325 & Kron et al. 2013 & hypermethylation assoc w/Gleason & 1 & 100540281 & 100540325\\\\\n",
       "\t2 & SLC25A24 &  & chr1:108001238-108001297 & chr1:108199715-108199774 & Kron et al. 2013 & hypermethylation assoc w/Gleason & 1 & 108199715 & 108199774\\\\\n",
       "\t3 & TTLL10   &  & chr1:1164251-1164310     & chr1:1174388-1174447     & Kron et al. 2013 & hypermethylation assoc w/Gleason & 1 & 1174388   & 1174447  \\\\\n",
       "\t4 & TBX15    &  & chr1:118785840-118785890 & chr1:118984317-118984367 & Kron et al. 2013 & hypomethylation assoc w/Gleason  & 1 & 118984317 & 118984367\\\\\n",
       "\t5 & TBX15    &  & chr1:118791037-118791081 & chr1:118989514-118989558 & Kron et al. 2013 & hypomethylation assoc w/Gleason  & 1 & 118989514 & 118989558\\\\\n",
       "\t6 & TBX15    &  & chr1:118794632-118794676 & chr1:118993109-118993153 & Kron et al. 2013 & hypomethylation assoc w/Gleason  & 1 & 118993109 & 118993153\\\\\n",
       "\\end{tabular}\n"
      ],
      "text/markdown": [
       "\n",
       "A data.frame: 6 × 9\n",
       "\n",
       "| <!--/--> | gene &lt;chr&gt; | probe &lt;chr&gt; | hg18.location &lt;chr&gt; | hg19.location &lt;chr&gt; | source &lt;chr&gt; | association &lt;chr&gt; | hg19_chr &lt;chr&gt; | hg19_start &lt;chr&gt; | hg19_end &lt;chr&gt; |\n",
       "|---|---|---|---|---|---|---|---|---|---|\n",
       "| 1 | GPR88    | <!----> | chr1:100312869-100312913 | chr1:100540281-100540325 | Kron et al. 2013 | hypermethylation assoc w/Gleason | 1 | 100540281 | 100540325 |\n",
       "| 2 | SLC25A24 | <!----> | chr1:108001238-108001297 | chr1:108199715-108199774 | Kron et al. 2013 | hypermethylation assoc w/Gleason | 1 | 108199715 | 108199774 |\n",
       "| 3 | TTLL10   | <!----> | chr1:1164251-1164310     | chr1:1174388-1174447     | Kron et al. 2013 | hypermethylation assoc w/Gleason | 1 | 1174388   | 1174447   |\n",
       "| 4 | TBX15    | <!----> | chr1:118785840-118785890 | chr1:118984317-118984367 | Kron et al. 2013 | hypomethylation assoc w/Gleason  | 1 | 118984317 | 118984367 |\n",
       "| 5 | TBX15    | <!----> | chr1:118791037-118791081 | chr1:118989514-118989558 | Kron et al. 2013 | hypomethylation assoc w/Gleason  | 1 | 118989514 | 118989558 |\n",
       "| 6 | TBX15    | <!----> | chr1:118794632-118794676 | chr1:118993109-118993153 | Kron et al. 2013 | hypomethylation assoc w/Gleason  | 1 | 118993109 | 118993153 |\n",
       "\n"
      ],
      "text/plain": [
       "  gene     probe hg18.location            hg19.location           \n",
       "1 GPR88          chr1:100312869-100312913 chr1:100540281-100540325\n",
       "2 SLC25A24       chr1:108001238-108001297 chr1:108199715-108199774\n",
       "3 TTLL10         chr1:1164251-1164310     chr1:1174388-1174447    \n",
       "4 TBX15          chr1:118785840-118785890 chr1:118984317-118984367\n",
       "5 TBX15          chr1:118791037-118791081 chr1:118989514-118989558\n",
       "6 TBX15          chr1:118794632-118794676 chr1:118993109-118993153\n",
       "  source           association                      hg19_chr hg19_start\n",
       "1 Kron et al. 2013 hypermethylation assoc w/Gleason 1        100540281 \n",
       "2 Kron et al. 2013 hypermethylation assoc w/Gleason 1        108199715 \n",
       "3 Kron et al. 2013 hypermethylation assoc w/Gleason 1        1174388   \n",
       "4 Kron et al. 2013 hypomethylation assoc w/Gleason  1        118984317 \n",
       "5 Kron et al. 2013 hypomethylation assoc w/Gleason  1        118989514 \n",
       "6 Kron et al. 2013 hypomethylation assoc w/Gleason  1        118993109 \n",
       "  hg19_end \n",
       "1 100540325\n",
       "2 108199774\n",
       "3 1174447  \n",
       "4 118984367\n",
       "5 118989558\n",
       "6 118993153"
      ]
     },
     "metadata": {},
     "output_type": "display_data"
    }
   ],
   "source": [
    "df_kron_beltran = rbind(df_kron, df_beltran)\n",
    "df_kron_beltran$hg19_chr = sapply(strsplit(df_kron_beltran$hg19_chr,\"chr\"),\"[\",2)\n",
    "head(df_kron_beltran)"
   ]
  },
  {
   "cell_type": "code",
   "execution_count": 81,
   "id": "08e979de",
   "metadata": {},
   "outputs": [
    {
     "data": {
      "text/html": [
       "<style>\n",
       ".list-inline {list-style: none; margin:0; padding: 0}\n",
       ".list-inline>li {display: inline-block}\n",
       ".list-inline>li:not(:last-child)::after {content: \"\\00b7\"; padding: 0 .5ex}\n",
       "</style>\n",
       "<ol class=list-inline><li>'gene'</li><li>'probe'</li><li>'hg18.location'</li><li>'hg19.location'</li><li>'source'</li><li>'association'</li><li>'hg19_chr'</li><li>'hg19_start'</li><li>'hg19_end'</li><li>'strand'</li><li>'dot2'</li><li>'type'</li></ol>\n"
      ],
      "text/latex": [
       "\\begin{enumerate*}\n",
       "\\item 'gene'\n",
       "\\item 'probe'\n",
       "\\item 'hg18.location'\n",
       "\\item 'hg19.location'\n",
       "\\item 'source'\n",
       "\\item 'association'\n",
       "\\item 'hg19\\_chr'\n",
       "\\item 'hg19\\_start'\n",
       "\\item 'hg19\\_end'\n",
       "\\item 'strand'\n",
       "\\item 'dot2'\n",
       "\\item 'type'\n",
       "\\end{enumerate*}\n"
      ],
      "text/markdown": [
       "1. 'gene'\n",
       "2. 'probe'\n",
       "3. 'hg18.location'\n",
       "4. 'hg19.location'\n",
       "5. 'source'\n",
       "6. 'association'\n",
       "7. 'hg19_chr'\n",
       "8. 'hg19_start'\n",
       "9. 'hg19_end'\n",
       "10. 'strand'\n",
       "11. 'dot2'\n",
       "12. 'type'\n",
       "\n",
       "\n"
      ],
      "text/plain": [
       " [1] \"gene\"          \"probe\"         \"hg18.location\" \"hg19.location\"\n",
       " [5] \"source\"        \"association\"   \"hg19_chr\"      \"hg19_start\"   \n",
       " [9] \"hg19_end\"      \"strand\"        \"dot2\"          \"type\"         "
      ]
     },
     "metadata": {},
     "output_type": "display_data"
    },
    {
     "data": {
      "text/html": [
       "<style>\n",
       ".list-inline {list-style: none; margin:0; padding: 0}\n",
       ".list-inline>li {display: inline-block}\n",
       ".list-inline>li:not(:last-child)::after {content: \"\\00b7\"; padding: 0 .5ex}\n",
       "</style>\n",
       "<ol class=list-inline><li>'gene'</li><li>'probe'</li><li>'hg18.location'</li><li>'hg19.location'</li><li>'source'</li><li>'association'</li><li>'hg19_chr'</li><li>'hg19_pos'</li><li>'hg19_start'</li><li>'hg19_end'</li></ol>\n"
      ],
      "text/latex": [
       "\\begin{enumerate*}\n",
       "\\item 'gene'\n",
       "\\item 'probe'\n",
       "\\item 'hg18.location'\n",
       "\\item 'hg19.location'\n",
       "\\item 'source'\n",
       "\\item 'association'\n",
       "\\item 'hg19\\_chr'\n",
       "\\item 'hg19\\_pos'\n",
       "\\item 'hg19\\_start'\n",
       "\\item 'hg19\\_end'\n",
       "\\end{enumerate*}\n"
      ],
      "text/markdown": [
       "1. 'gene'\n",
       "2. 'probe'\n",
       "3. 'hg18.location'\n",
       "4. 'hg19.location'\n",
       "5. 'source'\n",
       "6. 'association'\n",
       "7. 'hg19_chr'\n",
       "8. 'hg19_pos'\n",
       "9. 'hg19_start'\n",
       "10. 'hg19_end'\n",
       "\n",
       "\n"
      ],
      "text/plain": [
       " [1] \"gene\"          \"probe\"         \"hg18.location\" \"hg19.location\"\n",
       " [5] \"source\"        \"association\"   \"hg19_chr\"      \"hg19_pos\"     \n",
       " [9] \"hg19_start\"    \"hg19_end\"     "
      ]
     },
     "metadata": {},
     "output_type": "display_data"
    },
    {
     "data": {
      "text/html": [
       "<style>\n",
       ".list-inline {list-style: none; margin:0; padding: 0}\n",
       ".list-inline>li {display: inline-block}\n",
       ".list-inline>li:not(:last-child)::after {content: \"\\00b7\"; padding: 0 .5ex}\n",
       "</style>\n",
       "<ol class=list-inline><li>'gene'</li><li>'probe'</li><li>'hg18.location'</li><li>'hg19.location'</li><li>'source'</li><li>'association'</li><li>'hg19_chr'</li><li>'hg19_start'</li><li>'hg19_end'</li></ol>\n"
      ],
      "text/latex": [
       "\\begin{enumerate*}\n",
       "\\item 'gene'\n",
       "\\item 'probe'\n",
       "\\item 'hg18.location'\n",
       "\\item 'hg19.location'\n",
       "\\item 'source'\n",
       "\\item 'association'\n",
       "\\item 'hg19\\_chr'\n",
       "\\item 'hg19\\_start'\n",
       "\\item 'hg19\\_end'\n",
       "\\end{enumerate*}\n"
      ],
      "text/markdown": [
       "1. 'gene'\n",
       "2. 'probe'\n",
       "3. 'hg18.location'\n",
       "4. 'hg19.location'\n",
       "5. 'source'\n",
       "6. 'association'\n",
       "7. 'hg19_chr'\n",
       "8. 'hg19_start'\n",
       "9. 'hg19_end'\n",
       "\n",
       "\n"
      ],
      "text/plain": [
       "[1] \"gene\"          \"probe\"         \"hg18.location\" \"hg19.location\"\n",
       "[5] \"source\"        \"association\"   \"hg19_chr\"      \"hg19_start\"   \n",
       "[9] \"hg19_end\"     "
      ]
     },
     "metadata": {},
     "output_type": "display_data"
    }
   ],
   "source": [
    "colnames(df_genes)\n",
    "colnames(df_probes)\n",
    "colnames(df_kron_beltran)"
   ]
  },
  {
   "cell_type": "code",
   "execution_count": 82,
   "id": "ca943651",
   "metadata": {},
   "outputs": [
    {
     "data": {
      "text/html": [
       "631"
      ],
      "text/latex": [
       "631"
      ],
      "text/markdown": [
       "631"
      ],
      "text/plain": [
       "[1] 631"
      ]
     },
     "metadata": {},
     "output_type": "display_data"
    },
    {
     "data": {
      "text/html": [
       "629"
      ],
      "text/latex": [
       "629"
      ],
      "text/markdown": [
       "629"
      ],
      "text/plain": [
       "[1] 629"
      ]
     },
     "metadata": {},
     "output_type": "display_data"
    }
   ],
   "source": [
    "cols = c(\"hg19_chr\",\"hg19_start\",\"hg19_end\",\"gene\",\"probe\",\"source\",\"association\")\n",
    "df_regions2 = rbind(df_genes[,cols],df_probes[,cols],df_kron_beltran[,cols])\n",
    "nrow(df_regions2)\n",
    "df_regions2 = df_regions2[complete.cases(df_regions2),]\n",
    "nrow(df_regions2)\n",
    "write.table(df_regions2, file=\"./marker_collation/disease_prog_loci_hg19.bed\", col.names=TRUE, sep=\"\\t\", row.names=FALSE, quote=FALSE)"
   ]
  },
  {
   "cell_type": "code",
   "execution_count": 83,
   "id": "47eda78a",
   "metadata": {},
   "outputs": [
    {
     "data": {
      "text/html": [
       "<table class=\"dataframe\">\n",
       "<caption>A data.frame: 0 × 7</caption>\n",
       "<thead>\n",
       "\t<tr><th scope=col>hg19_chr</th><th scope=col>hg19_start</th><th scope=col>hg19_end</th><th scope=col>gene</th><th scope=col>probe</th><th scope=col>source</th><th scope=col>association</th></tr>\n",
       "\t<tr><th scope=col>&lt;chr&gt;</th><th scope=col>&lt;chr&gt;</th><th scope=col>&lt;chr&gt;</th><th scope=col>&lt;chr&gt;</th><th scope=col>&lt;chr&gt;</th><th scope=col>&lt;chr&gt;</th><th scope=col>&lt;chr&gt;</th></tr>\n",
       "</thead>\n",
       "<tbody>\n",
       "</tbody>\n",
       "</table>\n"
      ],
      "text/latex": [
       "A data.frame: 0 × 7\n",
       "\\begin{tabular}{lllllll}\n",
       " hg19\\_chr & hg19\\_start & hg19\\_end & gene & probe & source & association\\\\\n",
       " <chr> & <chr> & <chr> & <chr> & <chr> & <chr> & <chr>\\\\\n",
       "\\hline\n",
       "\\end{tabular}\n"
      ],
      "text/markdown": [
       "\n",
       "A data.frame: 0 × 7\n",
       "\n",
       "| hg19_chr &lt;chr&gt; | hg19_start &lt;chr&gt; | hg19_end &lt;chr&gt; | gene &lt;chr&gt; | probe &lt;chr&gt; | source &lt;chr&gt; | association &lt;chr&gt; |\n",
       "|---|---|---|---|---|---|---|\n",
       "\n"
      ],
      "text/plain": [
       "     hg19_chr hg19_start hg19_end gene probe source association"
      ]
     },
     "metadata": {},
     "output_type": "display_data"
    }
   ],
   "source": [
    "# look for overlaps with promoters, tcga, and ecm\n",
    "\n",
    "# vim disease_prog_loci_hg19.bed  # comment out header\n",
    "# sort -k1,1 -k2,2 -n disease_prog_loci_hg19.bed >disease_prog_loci_hg19_sorted.bed\n",
    "# bedtools intersect -a disease_prog_loci_hg19_sorted.bed -b ../../Translational_Science/gencode.v40lift37.promoters.bed -wao > disease_prog_loci_prom_overlap.out\n",
    "# bedtools intersect -a disease_prog_loci_hg19_sorted.bed -b ../PRAD_450k_DMR.deepFilter_0.33_0.67_minProbes3_fmt.bed -wao > disease_prog_loci_tcga_overlap.out\n",
    "# bedtools intersect -a disease_prog_loci_hg19_sorted.bed -b ../ECM_DMRs_raw_Hang_05172022_sorted.bed -wao > disease_prog_loci_ecm_overlap.out"
   ]
  },
  {
   "cell_type": "code",
   "execution_count": 94,
   "id": "6201ceeb",
   "metadata": {},
   "outputs": [],
   "source": [
    "df_prom = read.table(\"./marker_collation/disease_prog_loci_prom_overlap.out\", header=FALSE, sep=\"\\t\")\n",
    "\n",
    "df_tcga = read.table(\"./marker_collation/disease_prog_loci_tcga_overlap.out\", header=FALSE, sep=\"\\t\")\n",
    "\n",
    "df_ecm = read.table(\"./marker_collation/disease_prog_loci_ecm_overlap.out\", header=FALSE, sep=\"\\t\")"
   ]
  },
  {
   "cell_type": "code",
   "execution_count": 85,
   "id": "5bfed233",
   "metadata": {},
   "outputs": [
    {
     "data": {
      "text/html": [
       "<table class=\"dataframe\">\n",
       "<caption>A data.frame: 6 × 15</caption>\n",
       "<thead>\n",
       "\t<tr><th></th><th scope=col>V1</th><th scope=col>V2</th><th scope=col>V3</th><th scope=col>V4</th><th scope=col>V5</th><th scope=col>V6</th><th scope=col>V7</th><th scope=col>V8</th><th scope=col>V9</th><th scope=col>V10</th><th scope=col>V11</th><th scope=col>V12</th><th scope=col>V13</th><th scope=col>V14</th><th scope=col>V15</th></tr>\n",
       "\t<tr><th></th><th scope=col>&lt;chr&gt;</th><th scope=col>&lt;int&gt;</th><th scope=col>&lt;int&gt;</th><th scope=col>&lt;chr&gt;</th><th scope=col>&lt;chr&gt;</th><th scope=col>&lt;chr&gt;</th><th scope=col>&lt;chr&gt;</th><th scope=col>&lt;chr&gt;</th><th scope=col>&lt;int&gt;</th><th scope=col>&lt;int&gt;</th><th scope=col>&lt;chr&gt;</th><th scope=col>&lt;chr&gt;</th><th scope=col>&lt;chr&gt;</th><th scope=col>&lt;chr&gt;</th><th scope=col>&lt;int&gt;</th></tr>\n",
       "</thead>\n",
       "<tbody>\n",
       "\t<tr><th scope=row>1</th><td>Y</td><td>  352187</td><td>  352245</td><td>PPP2R3B                 </td><td></td><td>Kron et al. 2013</td><td>hypermethylation assoc w/Gleason</td><td>.</td><td>-1</td><td>-1</td><td>.</td><td>.</td><td>.</td><td>.</td><td>0</td></tr>\n",
       "\t<tr><th scope=row>2</th><td>X</td><td>25003756</td><td>25003815</td><td>ARX                     </td><td></td><td>Kron et al. 2013</td><td>hypermethylation assoc w/Gleason</td><td>.</td><td>-1</td><td>-1</td><td>.</td><td>.</td><td>.</td><td>.</td><td>0</td></tr>\n",
       "\t<tr><th scope=row>3</th><td>Y</td><td>26627442</td><td>26627501</td><td>chrY:027182977-027183036</td><td></td><td>Kron et al. 2013</td><td>hypermethylation assoc w/Gleason</td><td>.</td><td>-1</td><td>-1</td><td>.</td><td>.</td><td>.</td><td>.</td><td>0</td></tr>\n",
       "\t<tr><th scope=row>4</th><td>X</td><td>40008699</td><td>40008748</td><td>chrX:039752897-039752946</td><td></td><td>Kron et al. 2013</td><td>hypermethylation assoc w/Gleason</td><td>.</td><td>-1</td><td>-1</td><td>.</td><td>.</td><td>.</td><td>.</td><td>0</td></tr>\n",
       "\t<tr><th scope=row>5</th><td>X</td><td>40091800</td><td>40091844</td><td>BCOR                    </td><td></td><td>Kron et al. 2013</td><td>hypermethylation assoc w/Gleason</td><td>.</td><td>-1</td><td>-1</td><td>.</td><td>.</td><td>.</td><td>.</td><td>0</td></tr>\n",
       "\t<tr><th scope=row>6</th><td>X</td><td>65408197</td><td>65408251</td><td>chrX:064544802-064544856</td><td></td><td>Kron et al. 2013</td><td>hypermethylation assoc w/Gleason</td><td>.</td><td>-1</td><td>-1</td><td>.</td><td>.</td><td>.</td><td>.</td><td>0</td></tr>\n",
       "</tbody>\n",
       "</table>\n"
      ],
      "text/latex": [
       "A data.frame: 6 × 15\n",
       "\\begin{tabular}{r|lllllllllllllll}\n",
       "  & V1 & V2 & V3 & V4 & V5 & V6 & V7 & V8 & V9 & V10 & V11 & V12 & V13 & V14 & V15\\\\\n",
       "  & <chr> & <int> & <int> & <chr> & <chr> & <chr> & <chr> & <chr> & <int> & <int> & <chr> & <chr> & <chr> & <chr> & <int>\\\\\n",
       "\\hline\n",
       "\t1 & Y &   352187 &   352245 & PPP2R3B                  &  & Kron et al. 2013 & hypermethylation assoc w/Gleason & . & -1 & -1 & . & . & . & . & 0\\\\\n",
       "\t2 & X & 25003756 & 25003815 & ARX                      &  & Kron et al. 2013 & hypermethylation assoc w/Gleason & . & -1 & -1 & . & . & . & . & 0\\\\\n",
       "\t3 & Y & 26627442 & 26627501 & chrY:027182977-027183036 &  & Kron et al. 2013 & hypermethylation assoc w/Gleason & . & -1 & -1 & . & . & . & . & 0\\\\\n",
       "\t4 & X & 40008699 & 40008748 & chrX:039752897-039752946 &  & Kron et al. 2013 & hypermethylation assoc w/Gleason & . & -1 & -1 & . & . & . & . & 0\\\\\n",
       "\t5 & X & 40091800 & 40091844 & BCOR                     &  & Kron et al. 2013 & hypermethylation assoc w/Gleason & . & -1 & -1 & . & . & . & . & 0\\\\\n",
       "\t6 & X & 65408197 & 65408251 & chrX:064544802-064544856 &  & Kron et al. 2013 & hypermethylation assoc w/Gleason & . & -1 & -1 & . & . & . & . & 0\\\\\n",
       "\\end{tabular}\n"
      ],
      "text/markdown": [
       "\n",
       "A data.frame: 6 × 15\n",
       "\n",
       "| <!--/--> | V1 &lt;chr&gt; | V2 &lt;int&gt; | V3 &lt;int&gt; | V4 &lt;chr&gt; | V5 &lt;chr&gt; | V6 &lt;chr&gt; | V7 &lt;chr&gt; | V8 &lt;chr&gt; | V9 &lt;int&gt; | V10 &lt;int&gt; | V11 &lt;chr&gt; | V12 &lt;chr&gt; | V13 &lt;chr&gt; | V14 &lt;chr&gt; | V15 &lt;int&gt; |\n",
       "|---|---|---|---|---|---|---|---|---|---|---|---|---|---|---|---|\n",
       "| 1 | Y |   352187 |   352245 | PPP2R3B                  | <!----> | Kron et al. 2013 | hypermethylation assoc w/Gleason | . | -1 | -1 | . | . | . | . | 0 |\n",
       "| 2 | X | 25003756 | 25003815 | ARX                      | <!----> | Kron et al. 2013 | hypermethylation assoc w/Gleason | . | -1 | -1 | . | . | . | . | 0 |\n",
       "| 3 | Y | 26627442 | 26627501 | chrY:027182977-027183036 | <!----> | Kron et al. 2013 | hypermethylation assoc w/Gleason | . | -1 | -1 | . | . | . | . | 0 |\n",
       "| 4 | X | 40008699 | 40008748 | chrX:039752897-039752946 | <!----> | Kron et al. 2013 | hypermethylation assoc w/Gleason | . | -1 | -1 | . | . | . | . | 0 |\n",
       "| 5 | X | 40091800 | 40091844 | BCOR                     | <!----> | Kron et al. 2013 | hypermethylation assoc w/Gleason | . | -1 | -1 | . | . | . | . | 0 |\n",
       "| 6 | X | 65408197 | 65408251 | chrX:064544802-064544856 | <!----> | Kron et al. 2013 | hypermethylation assoc w/Gleason | . | -1 | -1 | . | . | . | . | 0 |\n",
       "\n"
      ],
      "text/plain": [
       "  V1 V2       V3       V4                       V5 V6              \n",
       "1 Y    352187   352245 PPP2R3B                     Kron et al. 2013\n",
       "2 X  25003756 25003815 ARX                         Kron et al. 2013\n",
       "3 Y  26627442 26627501 chrY:027182977-027183036    Kron et al. 2013\n",
       "4 X  40008699 40008748 chrX:039752897-039752946    Kron et al. 2013\n",
       "5 X  40091800 40091844 BCOR                        Kron et al. 2013\n",
       "6 X  65408197 65408251 chrX:064544802-064544856    Kron et al. 2013\n",
       "  V7                               V8 V9 V10 V11 V12 V13 V14 V15\n",
       "1 hypermethylation assoc w/Gleason .  -1 -1  .   .   .   .   0  \n",
       "2 hypermethylation assoc w/Gleason .  -1 -1  .   .   .   .   0  \n",
       "3 hypermethylation assoc w/Gleason .  -1 -1  .   .   .   .   0  \n",
       "4 hypermethylation assoc w/Gleason .  -1 -1  .   .   .   .   0  \n",
       "5 hypermethylation assoc w/Gleason .  -1 -1  .   .   .   .   0  \n",
       "6 hypermethylation assoc w/Gleason .  -1 -1  .   .   .   .   0  "
      ]
     },
     "metadata": {},
     "output_type": "display_data"
    }
   ],
   "source": [
    "head(df_prom)"
   ]
  },
  {
   "cell_type": "code",
   "execution_count": 87,
   "id": "4af3e7e3",
   "metadata": {},
   "outputs": [],
   "source": [
    "df_regions2$hg19_start = as.integer(df_regions2$hg19_start)\n",
    "df_regions2$hg19_end = as.integer(df_regions2$hg19_end)"
   ]
  },
  {
   "cell_type": "code",
   "execution_count": 91,
   "id": "53a56204",
   "metadata": {},
   "outputs": [
    {
     "data": {
      "text/html": [
       "<table class=\"dataframe\">\n",
       "<caption>A data.frame: 6 × 9</caption>\n",
       "<thead>\n",
       "\t<tr><th></th><th scope=col>hg19_chr</th><th scope=col>hg19_start</th><th scope=col>hg19_end</th><th scope=col>gene</th><th scope=col>probe</th><th scope=col>source</th><th scope=col>association</th><th scope=col>promoter_name</th><th scope=col>is.promoter</th></tr>\n",
       "\t<tr><th></th><th scope=col>&lt;chr&gt;</th><th scope=col>&lt;int&gt;</th><th scope=col>&lt;int&gt;</th><th scope=col>&lt;chr&gt;</th><th scope=col>&lt;chr&gt;</th><th scope=col>&lt;chr&gt;</th><th scope=col>&lt;chr&gt;</th><th scope=col>&lt;chr&gt;</th><th scope=col>&lt;lgl&gt;</th></tr>\n",
       "</thead>\n",
       "<tbody>\n",
       "\t<tr><th scope=row>1</th><td>11</td><td> 67350213</td><td> 67352213</td><td>GSTP1 </td><td></td><td>Constancio et al. 2019</td><td>staging, survival, recurrence                        </td><td>GSTP1 </td><td>TRUE</td></tr>\n",
       "\t<tr><th scope=row>2</th><td>8 </td><td> 95138390</td><td> 95140390</td><td>CDH17 </td><td></td><td>Constancio et al. 2019</td><td>staging, survival, recurrence                        </td><td>CDH17 </td><td>TRUE</td></tr>\n",
       "\t<tr><th scope=row>3</th><td>4 </td><td>134069449</td><td>134071449</td><td>PCDH10</td><td></td><td>Constancio et al. 2019</td><td>staging, survival, recurrence                        </td><td>PCDH10</td><td>TRUE</td></tr>\n",
       "\t<tr><th scope=row>4</th><td>13</td><td> 53416024</td><td> 53418024</td><td>PCDH8 </td><td></td><td>Constancio et al. 2019</td><td>staging, survival, recurrence                        </td><td>PCDH8 </td><td>TRUE</td></tr>\n",
       "\t<tr><th scope=row>5</th><td>3 </td><td> 24728378</td><td> 24730378</td><td>RARB  </td><td></td><td>Constancio et al. 2019</td><td>staging, survival, recurrence                        </td><td>RARB  </td><td>TRUE</td></tr>\n",
       "\t<tr><th scope=row>6</th><td>14</td><td>101244747</td><td>101246747</td><td>MEG3  </td><td></td><td>Cai et al. 2021       </td><td>hypomethylation, assoc. with recurrence free survival</td><td>MEG3  </td><td>TRUE</td></tr>\n",
       "</tbody>\n",
       "</table>\n"
      ],
      "text/latex": [
       "A data.frame: 6 × 9\n",
       "\\begin{tabular}{r|lllllllll}\n",
       "  & hg19\\_chr & hg19\\_start & hg19\\_end & gene & probe & source & association & promoter\\_name & is.promoter\\\\\n",
       "  & <chr> & <int> & <int> & <chr> & <chr> & <chr> & <chr> & <chr> & <lgl>\\\\\n",
       "\\hline\n",
       "\t1 & 11 &  67350213 &  67352213 & GSTP1  &  & Constancio et al. 2019 & staging, survival, recurrence                         & GSTP1  & TRUE\\\\\n",
       "\t2 & 8  &  95138390 &  95140390 & CDH17  &  & Constancio et al. 2019 & staging, survival, recurrence                         & CDH17  & TRUE\\\\\n",
       "\t3 & 4  & 134069449 & 134071449 & PCDH10 &  & Constancio et al. 2019 & staging, survival, recurrence                         & PCDH10 & TRUE\\\\\n",
       "\t4 & 13 &  53416024 &  53418024 & PCDH8  &  & Constancio et al. 2019 & staging, survival, recurrence                         & PCDH8  & TRUE\\\\\n",
       "\t5 & 3  &  24728378 &  24730378 & RARB   &  & Constancio et al. 2019 & staging, survival, recurrence                         & RARB   & TRUE\\\\\n",
       "\t6 & 14 & 101244747 & 101246747 & MEG3   &  & Cai et al. 2021        & hypomethylation, assoc. with recurrence free survival & MEG3   & TRUE\\\\\n",
       "\\end{tabular}\n"
      ],
      "text/markdown": [
       "\n",
       "A data.frame: 6 × 9\n",
       "\n",
       "| <!--/--> | hg19_chr &lt;chr&gt; | hg19_start &lt;int&gt; | hg19_end &lt;int&gt; | gene &lt;chr&gt; | probe &lt;chr&gt; | source &lt;chr&gt; | association &lt;chr&gt; | promoter_name &lt;chr&gt; | is.promoter &lt;lgl&gt; |\n",
       "|---|---|---|---|---|---|---|---|---|---|\n",
       "| 1 | 11 |  67350213 |  67352213 | GSTP1  | <!----> | Constancio et al. 2019 | staging, survival, recurrence                         | GSTP1  | TRUE |\n",
       "| 2 | 8  |  95138390 |  95140390 | CDH17  | <!----> | Constancio et al. 2019 | staging, survival, recurrence                         | CDH17  | TRUE |\n",
       "| 3 | 4  | 134069449 | 134071449 | PCDH10 | <!----> | Constancio et al. 2019 | staging, survival, recurrence                         | PCDH10 | TRUE |\n",
       "| 4 | 13 |  53416024 |  53418024 | PCDH8  | <!----> | Constancio et al. 2019 | staging, survival, recurrence                         | PCDH8  | TRUE |\n",
       "| 5 | 3  |  24728378 |  24730378 | RARB   | <!----> | Constancio et al. 2019 | staging, survival, recurrence                         | RARB   | TRUE |\n",
       "| 6 | 14 | 101244747 | 101246747 | MEG3   | <!----> | Cai et al. 2021        | hypomethylation, assoc. with recurrence free survival | MEG3   | TRUE |\n",
       "\n"
      ],
      "text/plain": [
       "  hg19_chr hg19_start hg19_end  gene   probe source                \n",
       "1 11        67350213   67352213 GSTP1        Constancio et al. 2019\n",
       "2 8         95138390   95140390 CDH17        Constancio et al. 2019\n",
       "3 4        134069449  134071449 PCDH10       Constancio et al. 2019\n",
       "4 13        53416024   53418024 PCDH8        Constancio et al. 2019\n",
       "5 3         24728378   24730378 RARB         Constancio et al. 2019\n",
       "6 14       101244747  101246747 MEG3         Cai et al. 2021       \n",
       "  association                                           promoter_name\n",
       "1 staging, survival, recurrence                         GSTP1        \n",
       "2 staging, survival, recurrence                         CDH17        \n",
       "3 staging, survival, recurrence                         PCDH10       \n",
       "4 staging, survival, recurrence                         PCDH8        \n",
       "5 staging, survival, recurrence                         RARB         \n",
       "6 hypomethylation, assoc. with recurrence free survival MEG3         \n",
       "  is.promoter\n",
       "1 TRUE       \n",
       "2 TRUE       \n",
       "3 TRUE       \n",
       "4 TRUE       \n",
       "5 TRUE       \n",
       "6 TRUE       "
      ]
     },
     "metadata": {},
     "output_type": "display_data"
    }
   ],
   "source": [
    "df_regions3 = df_regions2 %>% left_join(df_prom %>% select(V1,V2,V3,V6,V11,V15), by=c(\"hg19_chr\"=\"V1\",\n",
    "                                                                                      \"hg19_start\"=\"V2\",\n",
    "                                                                                      \"hg19_end\"=\"V3\",\n",
    "                                                                                      \"source\"=\"V6\")) %>%\n",
    "  rename(\"promoter_name\"=\"V11\",\"is.promoter\"=\"V15\")\n",
    "df_regions3$is.promoter = ifelse(df_regions3$is.promoter>0,TRUE,FALSE)\n",
    "head(df_regions3)"
   ]
  },
  {
   "cell_type": "code",
   "execution_count": 103,
   "id": "c59c76a3",
   "metadata": {},
   "outputs": [
    {
     "name": "stderr",
     "output_type": "stream",
     "text": [
      "\u001b[1m\u001b[22m`summarise()` has grouped output by 'V1', 'V2', 'V3'. You can override using the `.groups` argument.\n"
     ]
    },
    {
     "data": {
      "text/html": [
       "<table class=\"dataframe\">\n",
       "<caption>A data.frame: 6 × 10</caption>\n",
       "<thead>\n",
       "\t<tr><th></th><th scope=col>hg19_chr</th><th scope=col>hg19_start</th><th scope=col>hg19_end</th><th scope=col>gene</th><th scope=col>probe</th><th scope=col>source</th><th scope=col>association</th><th scope=col>promoter_name</th><th scope=col>is.promoter</th><th scope=col>bp.tcga.overlap</th></tr>\n",
       "\t<tr><th></th><th scope=col>&lt;chr&gt;</th><th scope=col>&lt;int&gt;</th><th scope=col>&lt;int&gt;</th><th scope=col>&lt;chr&gt;</th><th scope=col>&lt;chr&gt;</th><th scope=col>&lt;chr&gt;</th><th scope=col>&lt;chr&gt;</th><th scope=col>&lt;chr&gt;</th><th scope=col>&lt;lgl&gt;</th><th scope=col>&lt;int&gt;</th></tr>\n",
       "</thead>\n",
       "<tbody>\n",
       "\t<tr><th scope=row>1</th><td>11</td><td> 67350213</td><td> 67352213</td><td>GSTP1 </td><td></td><td>Constancio et al. 2019</td><td>staging, survival, recurrence                        </td><td>GSTP1 </td><td>TRUE</td><td>1065</td></tr>\n",
       "\t<tr><th scope=row>2</th><td>8 </td><td> 95138390</td><td> 95140390</td><td>CDH17 </td><td></td><td>Constancio et al. 2019</td><td>staging, survival, recurrence                        </td><td>CDH17 </td><td>TRUE</td><td>   0</td></tr>\n",
       "\t<tr><th scope=row>3</th><td>4 </td><td>134069449</td><td>134071449</td><td>PCDH10</td><td></td><td>Constancio et al. 2019</td><td>staging, survival, recurrence                        </td><td>PCDH10</td><td>TRUE</td><td>   0</td></tr>\n",
       "\t<tr><th scope=row>4</th><td>13</td><td> 53416024</td><td> 53418024</td><td>PCDH8 </td><td></td><td>Constancio et al. 2019</td><td>staging, survival, recurrence                        </td><td>PCDH8 </td><td>TRUE</td><td>   0</td></tr>\n",
       "\t<tr><th scope=row>5</th><td>3 </td><td> 24728378</td><td> 24730378</td><td>RARB  </td><td></td><td>Constancio et al. 2019</td><td>staging, survival, recurrence                        </td><td>RARB  </td><td>TRUE</td><td>   0</td></tr>\n",
       "\t<tr><th scope=row>6</th><td>14</td><td>101244747</td><td>101246747</td><td>MEG3  </td><td></td><td>Cai et al. 2021       </td><td>hypomethylation, assoc. with recurrence free survival</td><td>MEG3  </td><td>TRUE</td><td>   0</td></tr>\n",
       "</tbody>\n",
       "</table>\n"
      ],
      "text/latex": [
       "A data.frame: 6 × 10\n",
       "\\begin{tabular}{r|llllllllll}\n",
       "  & hg19\\_chr & hg19\\_start & hg19\\_end & gene & probe & source & association & promoter\\_name & is.promoter & bp.tcga.overlap\\\\\n",
       "  & <chr> & <int> & <int> & <chr> & <chr> & <chr> & <chr> & <chr> & <lgl> & <int>\\\\\n",
       "\\hline\n",
       "\t1 & 11 &  67350213 &  67352213 & GSTP1  &  & Constancio et al. 2019 & staging, survival, recurrence                         & GSTP1  & TRUE & 1065\\\\\n",
       "\t2 & 8  &  95138390 &  95140390 & CDH17  &  & Constancio et al. 2019 & staging, survival, recurrence                         & CDH17  & TRUE &    0\\\\\n",
       "\t3 & 4  & 134069449 & 134071449 & PCDH10 &  & Constancio et al. 2019 & staging, survival, recurrence                         & PCDH10 & TRUE &    0\\\\\n",
       "\t4 & 13 &  53416024 &  53418024 & PCDH8  &  & Constancio et al. 2019 & staging, survival, recurrence                         & PCDH8  & TRUE &    0\\\\\n",
       "\t5 & 3  &  24728378 &  24730378 & RARB   &  & Constancio et al. 2019 & staging, survival, recurrence                         & RARB   & TRUE &    0\\\\\n",
       "\t6 & 14 & 101244747 & 101246747 & MEG3   &  & Cai et al. 2021        & hypomethylation, assoc. with recurrence free survival & MEG3   & TRUE &    0\\\\\n",
       "\\end{tabular}\n"
      ],
      "text/markdown": [
       "\n",
       "A data.frame: 6 × 10\n",
       "\n",
       "| <!--/--> | hg19_chr &lt;chr&gt; | hg19_start &lt;int&gt; | hg19_end &lt;int&gt; | gene &lt;chr&gt; | probe &lt;chr&gt; | source &lt;chr&gt; | association &lt;chr&gt; | promoter_name &lt;chr&gt; | is.promoter &lt;lgl&gt; | bp.tcga.overlap &lt;int&gt; |\n",
       "|---|---|---|---|---|---|---|---|---|---|---|\n",
       "| 1 | 11 |  67350213 |  67352213 | GSTP1  | <!----> | Constancio et al. 2019 | staging, survival, recurrence                         | GSTP1  | TRUE | 1065 |\n",
       "| 2 | 8  |  95138390 |  95140390 | CDH17  | <!----> | Constancio et al. 2019 | staging, survival, recurrence                         | CDH17  | TRUE |    0 |\n",
       "| 3 | 4  | 134069449 | 134071449 | PCDH10 | <!----> | Constancio et al. 2019 | staging, survival, recurrence                         | PCDH10 | TRUE |    0 |\n",
       "| 4 | 13 |  53416024 |  53418024 | PCDH8  | <!----> | Constancio et al. 2019 | staging, survival, recurrence                         | PCDH8  | TRUE |    0 |\n",
       "| 5 | 3  |  24728378 |  24730378 | RARB   | <!----> | Constancio et al. 2019 | staging, survival, recurrence                         | RARB   | TRUE |    0 |\n",
       "| 6 | 14 | 101244747 | 101246747 | MEG3   | <!----> | Cai et al. 2021        | hypomethylation, assoc. with recurrence free survival | MEG3   | TRUE |    0 |\n",
       "\n"
      ],
      "text/plain": [
       "  hg19_chr hg19_start hg19_end  gene   probe source                \n",
       "1 11        67350213   67352213 GSTP1        Constancio et al. 2019\n",
       "2 8         95138390   95140390 CDH17        Constancio et al. 2019\n",
       "3 4        134069449  134071449 PCDH10       Constancio et al. 2019\n",
       "4 13        53416024   53418024 PCDH8        Constancio et al. 2019\n",
       "5 3         24728378   24730378 RARB         Constancio et al. 2019\n",
       "6 14       101244747  101246747 MEG3         Cai et al. 2021       \n",
       "  association                                           promoter_name\n",
       "1 staging, survival, recurrence                         GSTP1        \n",
       "2 staging, survival, recurrence                         CDH17        \n",
       "3 staging, survival, recurrence                         PCDH10       \n",
       "4 staging, survival, recurrence                         PCDH8        \n",
       "5 staging, survival, recurrence                         RARB         \n",
       "6 hypomethylation, assoc. with recurrence free survival MEG3         \n",
       "  is.promoter bp.tcga.overlap\n",
       "1 TRUE        1065           \n",
       "2 TRUE           0           \n",
       "3 TRUE           0           \n",
       "4 TRUE           0           \n",
       "5 TRUE           0           \n",
       "6 TRUE           0           "
      ]
     },
     "metadata": {},
     "output_type": "display_data"
    }
   ],
   "source": [
    "df_tcga2 = df_tcga %>% group_by(V1,V2,V3,V6) %>% summarize(bp.tcga.overlap=sum(V11))\n",
    "\n",
    "df_regions4 = df_regions3 %>% left_join(df_tcga2, by=c(\"hg19_chr\"=\"V1\",\"hg19_start\"=\"V2\",\"hg19_end\"=\"V3\",\"source\"=\"V6\"))\n",
    "\n",
    "head(df_regions4)"
   ]
  },
  {
   "cell_type": "code",
   "execution_count": 109,
   "id": "f4130547",
   "metadata": {},
   "outputs": [
    {
     "name": "stderr",
     "output_type": "stream",
     "text": [
      "\u001b[1m\u001b[22m`summarise()` has grouped output by 'V1', 'V2', 'V3'. You can override using the `.groups` argument.\n"
     ]
    },
    {
     "data": {
      "text/html": [
       "<table class=\"dataframe\">\n",
       "<caption>A data.frame: 6 × 11</caption>\n",
       "<thead>\n",
       "\t<tr><th></th><th scope=col>hg19_chr</th><th scope=col>hg19_start</th><th scope=col>hg19_end</th><th scope=col>gene</th><th scope=col>probe</th><th scope=col>source</th><th scope=col>association</th><th scope=col>promoter_name</th><th scope=col>is.promoter</th><th scope=col>bp.tcga.overlap</th><th scope=col>bp.ecm.overlap</th></tr>\n",
       "\t<tr><th></th><th scope=col>&lt;chr&gt;</th><th scope=col>&lt;int&gt;</th><th scope=col>&lt;int&gt;</th><th scope=col>&lt;chr&gt;</th><th scope=col>&lt;chr&gt;</th><th scope=col>&lt;chr&gt;</th><th scope=col>&lt;chr&gt;</th><th scope=col>&lt;chr&gt;</th><th scope=col>&lt;lgl&gt;</th><th scope=col>&lt;int&gt;</th><th scope=col>&lt;int&gt;</th></tr>\n",
       "</thead>\n",
       "<tbody>\n",
       "\t<tr><th scope=row>1</th><td>11</td><td> 67350213</td><td> 67352213</td><td>GSTP1 </td><td></td><td>Constancio et al. 2019</td><td>staging, survival, recurrence                        </td><td>GSTP1 </td><td>TRUE</td><td>1065</td><td>695</td></tr>\n",
       "\t<tr><th scope=row>2</th><td>8 </td><td> 95138390</td><td> 95140390</td><td>CDH17 </td><td></td><td>Constancio et al. 2019</td><td>staging, survival, recurrence                        </td><td>CDH17 </td><td>TRUE</td><td>   0</td><td>  0</td></tr>\n",
       "\t<tr><th scope=row>3</th><td>4 </td><td>134069449</td><td>134071449</td><td>PCDH10</td><td></td><td>Constancio et al. 2019</td><td>staging, survival, recurrence                        </td><td>PCDH10</td><td>TRUE</td><td>   0</td><td>  0</td></tr>\n",
       "\t<tr><th scope=row>4</th><td>13</td><td> 53416024</td><td> 53418024</td><td>PCDH8 </td><td></td><td>Constancio et al. 2019</td><td>staging, survival, recurrence                        </td><td>PCDH8 </td><td>TRUE</td><td>   0</td><td>  0</td></tr>\n",
       "\t<tr><th scope=row>5</th><td>3 </td><td> 24728378</td><td> 24730378</td><td>RARB  </td><td></td><td>Constancio et al. 2019</td><td>staging, survival, recurrence                        </td><td>RARB  </td><td>TRUE</td><td>   0</td><td>  0</td></tr>\n",
       "\t<tr><th scope=row>6</th><td>14</td><td>101244747</td><td>101246747</td><td>MEG3  </td><td></td><td>Cai et al. 2021       </td><td>hypomethylation, assoc. with recurrence free survival</td><td>MEG3  </td><td>TRUE</td><td>   0</td><td>  0</td></tr>\n",
       "</tbody>\n",
       "</table>\n"
      ],
      "text/latex": [
       "A data.frame: 6 × 11\n",
       "\\begin{tabular}{r|lllllllllll}\n",
       "  & hg19\\_chr & hg19\\_start & hg19\\_end & gene & probe & source & association & promoter\\_name & is.promoter & bp.tcga.overlap & bp.ecm.overlap\\\\\n",
       "  & <chr> & <int> & <int> & <chr> & <chr> & <chr> & <chr> & <chr> & <lgl> & <int> & <int>\\\\\n",
       "\\hline\n",
       "\t1 & 11 &  67350213 &  67352213 & GSTP1  &  & Constancio et al. 2019 & staging, survival, recurrence                         & GSTP1  & TRUE & 1065 & 695\\\\\n",
       "\t2 & 8  &  95138390 &  95140390 & CDH17  &  & Constancio et al. 2019 & staging, survival, recurrence                         & CDH17  & TRUE &    0 &   0\\\\\n",
       "\t3 & 4  & 134069449 & 134071449 & PCDH10 &  & Constancio et al. 2019 & staging, survival, recurrence                         & PCDH10 & TRUE &    0 &   0\\\\\n",
       "\t4 & 13 &  53416024 &  53418024 & PCDH8  &  & Constancio et al. 2019 & staging, survival, recurrence                         & PCDH8  & TRUE &    0 &   0\\\\\n",
       "\t5 & 3  &  24728378 &  24730378 & RARB   &  & Constancio et al. 2019 & staging, survival, recurrence                         & RARB   & TRUE &    0 &   0\\\\\n",
       "\t6 & 14 & 101244747 & 101246747 & MEG3   &  & Cai et al. 2021        & hypomethylation, assoc. with recurrence free survival & MEG3   & TRUE &    0 &   0\\\\\n",
       "\\end{tabular}\n"
      ],
      "text/markdown": [
       "\n",
       "A data.frame: 6 × 11\n",
       "\n",
       "| <!--/--> | hg19_chr &lt;chr&gt; | hg19_start &lt;int&gt; | hg19_end &lt;int&gt; | gene &lt;chr&gt; | probe &lt;chr&gt; | source &lt;chr&gt; | association &lt;chr&gt; | promoter_name &lt;chr&gt; | is.promoter &lt;lgl&gt; | bp.tcga.overlap &lt;int&gt; | bp.ecm.overlap &lt;int&gt; |\n",
       "|---|---|---|---|---|---|---|---|---|---|---|---|\n",
       "| 1 | 11 |  67350213 |  67352213 | GSTP1  | <!----> | Constancio et al. 2019 | staging, survival, recurrence                         | GSTP1  | TRUE | 1065 | 695 |\n",
       "| 2 | 8  |  95138390 |  95140390 | CDH17  | <!----> | Constancio et al. 2019 | staging, survival, recurrence                         | CDH17  | TRUE |    0 |   0 |\n",
       "| 3 | 4  | 134069449 | 134071449 | PCDH10 | <!----> | Constancio et al. 2019 | staging, survival, recurrence                         | PCDH10 | TRUE |    0 |   0 |\n",
       "| 4 | 13 |  53416024 |  53418024 | PCDH8  | <!----> | Constancio et al. 2019 | staging, survival, recurrence                         | PCDH8  | TRUE |    0 |   0 |\n",
       "| 5 | 3  |  24728378 |  24730378 | RARB   | <!----> | Constancio et al. 2019 | staging, survival, recurrence                         | RARB   | TRUE |    0 |   0 |\n",
       "| 6 | 14 | 101244747 | 101246747 | MEG3   | <!----> | Cai et al. 2021        | hypomethylation, assoc. with recurrence free survival | MEG3   | TRUE |    0 |   0 |\n",
       "\n"
      ],
      "text/plain": [
       "  hg19_chr hg19_start hg19_end  gene   probe source                \n",
       "1 11        67350213   67352213 GSTP1        Constancio et al. 2019\n",
       "2 8         95138390   95140390 CDH17        Constancio et al. 2019\n",
       "3 4        134069449  134071449 PCDH10       Constancio et al. 2019\n",
       "4 13        53416024   53418024 PCDH8        Constancio et al. 2019\n",
       "5 3         24728378   24730378 RARB         Constancio et al. 2019\n",
       "6 14       101244747  101246747 MEG3         Cai et al. 2021       \n",
       "  association                                           promoter_name\n",
       "1 staging, survival, recurrence                         GSTP1        \n",
       "2 staging, survival, recurrence                         CDH17        \n",
       "3 staging, survival, recurrence                         PCDH10       \n",
       "4 staging, survival, recurrence                         PCDH8        \n",
       "5 staging, survival, recurrence                         RARB         \n",
       "6 hypomethylation, assoc. with recurrence free survival MEG3         \n",
       "  is.promoter bp.tcga.overlap bp.ecm.overlap\n",
       "1 TRUE        1065            695           \n",
       "2 TRUE           0              0           \n",
       "3 TRUE           0              0           \n",
       "4 TRUE           0              0           \n",
       "5 TRUE           0              0           \n",
       "6 TRUE           0              0           "
      ]
     },
     "metadata": {},
     "output_type": "display_data"
    }
   ],
   "source": [
    "\n",
    "df_ecm2 = df_ecm %>% group_by(V1,V2,V3,V6) %>% summarize(bp.ecm.overlap=sum(V28))\n",
    "#head(df_ecm2)\n",
    "df_regions5 = df_regions4 %>% left_join(df_ecm2, by=c(\"hg19_chr\"=\"V1\",\"hg19_start\"=\"V2\",\"hg19_end\"=\"V3\",\"source\"=\"V6\"))\n",
    "head(df_regions5)"
   ]
  },
  {
   "cell_type": "code",
   "execution_count": 113,
   "id": "7d737099",
   "metadata": {},
   "outputs": [],
   "source": [
    "df_regions5$hybrid.gene.name = ifelse(df_regions5$gene==\"\",df_regions5$promoter_name,df_regions5$gene)"
   ]
  },
  {
   "cell_type": "code",
   "execution_count": 117,
   "id": "297ffda7",
   "metadata": {},
   "outputs": [
    {
     "data": {
      "text/html": [
       "<table class=\"dataframe\">\n",
       "<caption>A data.frame: 0 × 13</caption>\n",
       "<thead>\n",
       "\t<tr><th scope=col>hg19_chr</th><th scope=col>hg19_start</th><th scope=col>hg19_end</th><th scope=col>gene</th><th scope=col>probe</th><th scope=col>source</th><th scope=col>association</th><th scope=col>promoter_name</th><th scope=col>is.promoter</th><th scope=col>bp.tcga.overlap</th><th scope=col>bp.ecm.overlap</th><th scope=col>hybrid.gene.name</th><th scope=col>no.pubs</th></tr>\n",
       "\t<tr><th scope=col>&lt;chr&gt;</th><th scope=col>&lt;int&gt;</th><th scope=col>&lt;int&gt;</th><th scope=col>&lt;chr&gt;</th><th scope=col>&lt;chr&gt;</th><th scope=col>&lt;chr&gt;</th><th scope=col>&lt;chr&gt;</th><th scope=col>&lt;chr&gt;</th><th scope=col>&lt;lgl&gt;</th><th scope=col>&lt;int&gt;</th><th scope=col>&lt;int&gt;</th><th scope=col>&lt;chr&gt;</th><th scope=col>&lt;int&gt;</th></tr>\n",
       "</thead>\n",
       "<tbody>\n",
       "</tbody>\n",
       "</table>\n"
      ],
      "text/latex": [
       "A data.frame: 0 × 13\n",
       "\\begin{tabular}{lllllllllllll}\n",
       " hg19\\_chr & hg19\\_start & hg19\\_end & gene & probe & source & association & promoter\\_name & is.promoter & bp.tcga.overlap & bp.ecm.overlap & hybrid.gene.name & no.pubs\\\\\n",
       " <chr> & <int> & <int> & <chr> & <chr> & <chr> & <chr> & <chr> & <lgl> & <int> & <int> & <chr> & <int>\\\\\n",
       "\\hline\n",
       "\\end{tabular}\n"
      ],
      "text/markdown": [
       "\n",
       "A data.frame: 0 × 13\n",
       "\n",
       "| hg19_chr &lt;chr&gt; | hg19_start &lt;int&gt; | hg19_end &lt;int&gt; | gene &lt;chr&gt; | probe &lt;chr&gt; | source &lt;chr&gt; | association &lt;chr&gt; | promoter_name &lt;chr&gt; | is.promoter &lt;lgl&gt; | bp.tcga.overlap &lt;int&gt; | bp.ecm.overlap &lt;int&gt; | hybrid.gene.name &lt;chr&gt; | no.pubs &lt;int&gt; |\n",
       "|---|---|---|---|---|---|---|---|---|---|---|---|---|\n",
       "\n"
      ],
      "text/plain": [
       "     hg19_chr hg19_start hg19_end gene probe source association promoter_name\n",
       "     is.promoter bp.tcga.overlap bp.ecm.overlap hybrid.gene.name no.pubs"
      ]
     },
     "metadata": {},
     "output_type": "display_data"
    }
   ],
   "source": [
    "df_pub_count = df_regions5 %>% group_by(hybrid.gene.name) %>% summarize(no.pubs=length(unique(source)))\n",
    "\n",
    "df_regions6 = df_regions5 %>% left_join(df_pub_count, by=\"hybrid.gene.name\")\n",
    "df_regions6[!complete.cases(df_regions6),]"
   ]
  },
  {
   "cell_type": "code",
   "execution_count": 118,
   "id": "1cbad80d",
   "metadata": {},
   "outputs": [
    {
     "data": {
      "text/plain": [
       "\n",
       "  1   2 \n",
       "674   4 "
      ]
     },
     "metadata": {},
     "output_type": "display_data"
    }
   ],
   "source": [
    "table(df_regions6$no.pubs)"
   ]
  },
  {
   "cell_type": "code",
   "execution_count": 120,
   "id": "b94623d8",
   "metadata": {},
   "outputs": [],
   "source": [
    "write.table(df_regions6, file=\"./marker_collation/PRAD_disease_progression_methyl_loci_annotated_06032022.tsv\",\n",
    "           row.names=FALSE, col.names=TRUE, quote=FALSE)"
   ]
  },
  {
   "cell_type": "code",
   "execution_count": null,
   "id": "e675e354",
   "metadata": {},
   "outputs": [],
   "source": []
  }
 ],
 "metadata": {
  "kernelspec": {
   "display_name": "R",
   "language": "R",
   "name": "ir"
  },
  "language_info": {
   "codemirror_mode": "r",
   "file_extension": ".r",
   "mimetype": "text/x-r-source",
   "name": "R",
   "pygments_lexer": "r",
   "version": "4.1.3"
  }
 },
 "nbformat": 4,
 "nbformat_minor": 5
}
