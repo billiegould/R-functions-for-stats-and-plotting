{
 "cells": [
  {
   "cell_type": "markdown",
   "id": "eff75829",
   "metadata": {},
   "source": [
    "## MCC NMIBC Pre-repeat Urine MRD analysis"
   ]
  },
  {
   "cell_type": "code",
   "execution_count": null,
   "id": "4760c89d",
   "metadata": {},
   "outputs": [],
   "source": []
  },
  {
   "cell_type": "code",
   "execution_count": null,
   "id": "bf8ca108",
   "metadata": {},
   "outputs": [],
   "source": []
  },
  {
   "cell_type": "markdown",
   "id": "86efbdcf",
   "metadata": {},
   "source": [
    "## Beacon pipeline data location (3 work orders)\n",
    " http://10.10.0.131/lbwfresult/OutputByRun23/221014_A00934_0220_BHCY3YDMXY/dsrun1.7/lbwfresult1.7/\n",
    "\n",
    "### pipeline notes on the mrd output file, see deepsea func callMRD and local annotated version of function\n",
    "- mutationCount = length(variants.f), # count of Beacon sample variants that are somatic, and finalKeep or white.list\n",
    "- mutationCount.mrd = length(variants.mrd), # number of quality filtered T00 personalized variants detected           \n",
    "- mutationCount.mrd.f = length(variants.mrd.sig), ## number filtered T00 personal variants that have changed signif. in freuqncy from baseline (i.e. are not germlines mistaken for somatics)                       \n",
    "- mrd.status = mrd.status,  ## total mrd.score across variants is >1.5\n",
    "- tumorFraction = tumorFraction, # beacon sample tumorFraction calculated from variants.mrd.sig.f markers, or if none calculated from the other baseline-matching variants"
   ]
  },
  {
   "cell_type": "code",
   "execution_count": null,
   "id": "acacc80e",
   "metadata": {},
   "outputs": [],
   "source": []
  }
 ],
 "metadata": {
  "kernelspec": {
   "display_name": "R",
   "language": "R",
   "name": "ir"
  },
  "language_info": {
   "codemirror_mode": "r",
   "file_extension": ".r",
   "mimetype": "text/x-r-source",
   "name": "R",
   "pygments_lexer": "r",
   "version": "4.3.0"
  }
 },
 "nbformat": 4,
 "nbformat_minor": 5
}
